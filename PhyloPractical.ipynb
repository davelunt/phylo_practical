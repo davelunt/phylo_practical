{
 "cells": [
  {
   "cell_type": "markdown",
   "metadata": {},
   "source": [
    "<h1><font color='DarkBlue'>PRACTICAL PHYLOGENETICS NOTEBOOK</font></h1>\n",
    "<hr>\n",
    "Dr Dave Lunt d.h.lunt@hull.ac.uk"
   ]
  },
  {
   "cell_type": "markdown",
   "metadata": {},
   "source": [
    "<h2><font color='Blue'>Goals of these experiments</font></h2>"
   ]
  },
  {
   "cell_type": "markdown",
   "metadata": {},
   "source": [
    "This Jupyter notebook will take you through two case studies using phylogenetic analysis to understand biological questions. This will involve aligning sequences and building maximum likelihood phylogenetic trees, followed by annotation an interpretation.\n",
    "\n",
    "We hope that this will give you \n",
    "- experience in analysing DNA sequence data\n",
    "- Understanding of the steps involved in phylogenetics\n",
    "- Knowledge about the compleities of the specific case studies we are using\n",
    "\n",
    "You will write up one of the case study analyses you perform today for your assessment."
   ]
  },
  {
   "cell_type": "markdown",
   "metadata": {},
   "source": [
    "<h2><font color='Blue'>Introduction to Jupyter computational notebooks</font></h2>"
   ]
  },
  {
   "cell_type": "markdown",
   "metadata": {},
   "source": [
    "<font color=red>**FIRSTLY, DO NOT PANIC. EVERYTHING YOU NEED TO KNOW ABOUT COMPUTERS AND CODE WILL BE TAUGHT HERE. YOU WILL BE ABLE TO DO THIS EVEN IF YOU HAVE LITTLE EXPERIENCE WITH COMPUTERS**</font>\n",
    "\n",
    "This class of students has mixed prior experience however, so if you have not done the bioinformatics practicals in Genetic Analysis last semester then please make yourself known and we will give you a 5 minute catch-up to make your life easier.\n",
    "\n",
    "If you are familiar with Jupyter notebooks then you can skip this section and move to \"A NEW SPECIES oF APE?\" below.\n",
    "\n",
    "This document that you are reading now is a **Jupyter Notebook**. It is a web browser based text editor that is also able to execute scripts ie  code. Today we are using the programming language `python`, probably the most used language in bioinformatics, but we could also run `R`, `bash` or many other languages. Scripts are found in the grey cells (see below) and have something like `In [ ]:` or `[1]` to their left in the margin..  \n",
    "\n",
    "To execute a script, click the cell below and then press SHIFT+ENTER, or instead the triangular \"Run\" button in the tool bar above. Try running this code below now "
   ]
  },
  {
   "cell_type": "code",
   "execution_count": null,
   "metadata": {},
   "outputs": [],
   "source": [
    "print('Hey there, good job in running the python print command!')"
   ]
  },
  {
   "cell_type": "markdown",
   "metadata": {},
   "source": [
    "This code cell (containing \"print('Hey...\") should have executed when you pressed SHIFT-ENTER and it's output was printed below the cell (\"Hey there, good job...\"). All Jupyter commands run in a similar fashion"
   ]
  },
  {
   "cell_type": "markdown",
   "metadata": {},
   "source": [
    "Can you identify which parts of this notebook are code, which parts output, and which parts documentation like this sentence? Discuss with us if you are in doubt.\n",
    "\n",
    "1. Try editing the code below and re-running. Replace \"Good job\" with \"Even better job\"\n",
    "2. Instead of the `Run` button at the top you can click in the cell and press Shift-Enter to run the code. Most people find this faster, edit the cell below then give it a try:"
   ]
  },
  {
   "cell_type": "code",
   "execution_count": null,
   "metadata": {},
   "outputs": [],
   "source": [
    "print('Hey there, really good job!')"
   ]
  },
  {
   "cell_type": "markdown",
   "metadata": {},
   "source": [
    "<h4><font color='Blue'>ACTION:</font></h4>\n",
    "\n",
    "Now edit the cell above to have two print statements. On a new line type `print('Your new phrase')` and then run it. It might be easier to copy/paste and just change the pasted phrase. If it doesn't run well, you have a typo. Yes, its always a typo.\n",
    "\n",
    "**Congratulations, you have now run, copy/pasted and edited cells. Those are all the skills you will need today**\n",
    "\n",
    "This iterative edit-and-run approach is how much of modern biological data is explored and analysed. This mix of code and explanation you are seeing in this Jupyter notebook is called \"literate programming\""
   ]
  },
  {
   "cell_type": "markdown",
   "metadata": {},
   "source": [
    "This notebook will take you through the anaysis of the two case studies found in the practical handbook. To make this notebook concise, background information is excluded from it and only available in the practical handbook, and you will need to work with both documents. For each case study you will need to run several cells just as you did above. The programs will then align and clean the DNA sequences, build a tree and annotate it. **In most cases you will only need to run the cell just as you did above. In a few cases you will be able to tweak the script just a bit following clear instructions**. Good luck!"
   ]
  },
  {
   "cell_type": "markdown",
   "metadata": {},
   "source": [
    "<h1><font color='Blue'>STUDY1: A NEW SPECIES OF APE?</font></h1>"
   ]
  },
  {
   "cell_type": "markdown",
   "metadata": {},
   "source": [
    "![orangutan males](images/Bornean,_Sumatran_&_Tapanuli_orangs.jpg)"
   ]
  },
  {
   "cell_type": "markdown",
   "metadata": {},
   "source": [
    "_Figure 1:_ Male Bornean, Sumatran and Tapanuli orangutans, three suggested species [wikipedia](https://en.wikipedia.org/wiki/Orangutan). "
   ]
  },
  {
   "cell_type": "markdown",
   "metadata": {},
   "source": [
    "The first aim of today is to investigate what phylogenetics can tell us about different species of great ape. It is, of course, complex. You might like to think how you would conceptually go about trying to get information using a phylogenetic approach."
   ]
  },
  {
   "cell_type": "markdown",
   "metadata": {},
   "source": [
    "**Table 1: Latin names and common names of species in this practical.** As always, Googling is encouraged."
   ]
  },
  {
   "cell_type": "markdown",
   "metadata": {},
   "source": [
    "| Name             | Common name           | Name  | Common Name |\n",
    "| ----------------|:----------------------| --------------|:---------- |\n",
    "| Macaca macaca | Macaque (outgroup)|  Homo sapiens sapiens | Modern humans\n",
    "| Hylobates lar      | Gibbon (outgroup)     |  Homo sapiens neanderthalis  | Neanderthals (extinct)|\n",
    "| Gorilla gorilla | Western Gorilla      | Homo sapiens denisovan | Denisovans (extinct)\n",
    "| Gorilla beringei | Eastern/mountain Gorilla | Pongo abelii | Sumatran orangutan     |\n",
    "| Pan troglodytes | Chimp      |   Pongo pygmaeus | Bornean orangutan   |\n",
    "| Pan paniscus | Bonobo      |     Pongo tapanuliensis | Tapanuli orangutan|\n",
    "|"
   ]
  },
  {
   "cell_type": "markdown",
   "metadata": {},
   "source": [
    "<h2><font color='Blue'>How much data do you have?</font></h2>\n",
    "Your working directory has some DNA sequence files in fasta format. There are a number of ways to determine the number of sequences in a file, here is a quick one-liner. \n",
    "\n",
    "Edit the cell to replace `name.fas` with the correct file `data/ape.fas`. Shift-Enter to run the cell as usual"
   ]
  },
  {
   "cell_type": "code",
   "execution_count": null,
   "metadata": {},
   "outputs": [],
   "source": [
    "!echo \"Number of sequences: \"; grep -c \">\" data/filename.fas"
   ]
  },
  {
   "cell_type": "markdown",
   "metadata": {},
   "source": [
    "It should have displayed the number of sequences in the `ape.fas` file in the `data` directory\n",
    "\n",
    "If you got 'file does not exist' it is because you haven't pointed it at `ape.fas`"
   ]
  },
  {
   "cell_type": "markdown",
   "metadata": {},
   "source": [
    "### Some python code for processing sequences, just FYI"
   ]
  },
  {
   "cell_type": "markdown",
   "metadata": {},
   "source": [
    "Below we use some python code to allow more complex analyses. In the next example we are going to find the number and total length of sequences using a useful code package called BioPython [1].\n",
    "\n",
    "Remember: The code below has explanations of what each section does (explanations begin with the # or 'comment' symbol) as some people are interested in seeing bioinformatics code in action. I want you to see scripting like this so you can realise it's not magic **but you do not have to know python or understand this code. Just run the cell as usual.**"
   ]
  },
  {
   "cell_type": "code",
   "execution_count": null,
   "metadata": {},
   "outputs": [],
   "source": [
    "# --------------------------------------------\n",
    "# Python code to report on number of sequences \n",
    "# in a file by using BioPython\n",
    "# --------------------------------------------\n",
    "\n",
    "# import BioPython code so we can use it\n",
    "from Bio.SeqIO.FastaIO import SimpleFastaParser\n",
    "\n",
    "# set counts to zero before starting\n",
    "count = 0\n",
    "total_len = 0\n",
    "\n",
    "# open the data file and give it a handle (nickname)\n",
    "with open(\"data/ape.fas\") as in_handle:\n",
    "    \n",
    "# for each title line add 1 to count of records, \n",
    "# and add length of sequence to a count called total_len\n",
    "     for title, seq in SimpleFastaParser(in_handle):\n",
    "         count += 1\n",
    "         total_len += len(seq)\n",
    "            \n",
    "# print the results in a readable format\n",
    "print(\"The file contained %i records with total sequence length of %i nucleotides\" % (count, total_len))"
   ]
  },
  {
   "cell_type": "markdown",
   "metadata": {},
   "source": [
    "<h4><font color='Blue'>QUESTIONS:</font></h4>\n",
    "\n",
    "- Can you see which part of the above code specifies the fasta file `ape.fas`?\n",
    "\n",
    "- How could you run this on a different file in the data directory called `testseqs.fasta`? \n",
    "\n",
    "You don't need any python knowledge to answer these. The idea here is that in much of bioinformatics you can modify someone else's code to point at your data file and everything will work. "
   ]
  },
  {
   "cell_type": "markdown",
   "metadata": {},
   "source": [
    "<h4><font color='Blue'>ACTION:</font></h4>\n",
    "\n",
    "Try it, just change the name above and re-run the cell, or ask for help if you can't quite see it. Remember that the file is within the `data` directory. If you've done it correctly (watch for typos) then the number and length of sequence reported will change."
   ]
  },
  {
   "cell_type": "markdown",
   "metadata": {},
   "source": [
    "<hr>\n",
    "<h2><font color='Blue'>Aligning the sequences</font></h2>\n",
    "In order to carry out a valid analysis you have to align the DNA sequences. If you're not quite sure why, look at the images below and discuss with a demonstrator. "
   ]
  },
  {
   "cell_type": "markdown",
   "metadata": {},
   "source": [
    "![Aligned DNA sequence](./images/aligned.png \"A DNA sequence alignment\")\n",
    "_A DNA sequence alignmnet. Each character (column) can be directly compared across the different species_"
   ]
  },
  {
   "cell_type": "markdown",
   "metadata": {},
   "source": [
    "![Un-aligned DNA sequence](./images/unaligned.png \"An incomplete  DNA sequence alignment\")\n",
    "_A set of DNA sequences not completely aligned. Each character (column) cannot be directly compared across the different species as some are 'shifted' so even though they are very similar, they look enormously different when just comparing down each column (character)_"
   ]
  },
  {
   "cell_type": "markdown",
   "metadata": {},
   "source": [
    "To align the sequences we will use a program called MAFFT [2]. What piece of information will we have to add to the code? Yes, the name of the input DNA sequence file to be aligned.\n",
    "\n",
    "<h4><font color='Blue'>ACTIONS:</font></h4>\n",
    "\n",
    "- Change the name of the file in the following code to be `ape.fas`\n",
    "- run the cell"
   ]
  },
  {
   "cell_type": "code",
   "execution_count": null,
   "metadata": {},
   "outputs": [],
   "source": [
    "# ---------------------------\n",
    "# Align sequences using MAFFT\n",
    "# ---------------------------\n",
    "\n",
    "!mafft --auto --quiet data/sequencefile.fas > ape.afa"
   ]
  },
  {
   "cell_type": "markdown",
   "metadata": {},
   "source": [
    "In the command above can you see where we name the output file? You may remember that the greater than symbol `>` is used to specify where the output of a command goes, in this case to `ape.afa`.  Did it work? Can you find the `ape.afa` file? The `.afa` extension stands for 'aligned fasta'"
   ]
  },
  {
   "cell_type": "markdown",
   "metadata": {},
   "source": [
    "<hr>\n",
    "<h2><font color='Blue'>QC the alignment</font></h2>\n",
    "Trimal [3] quality controls the alignment, removing badly aligned regions and alignment artefacts. \n",
    "\n",
    "Can you see that the input file specified `ape.afa` is the output file from the previous step? Can you see the output file that it will write? This should appear in your files list once you have run the cell."
   ]
  },
  {
   "cell_type": "code",
   "execution_count": null,
   "metadata": {},
   "outputs": [],
   "source": [
    "# ------------------------------------------\n",
    "# Quality control the alignment using trimal\n",
    "# ------------------------------------------\n",
    "\n",
    "!trimal -in ape.afa -out ape_trimmed.afa -gappyout -keepheader"
   ]
  },
  {
   "cell_type": "markdown",
   "metadata": {},
   "source": [
    "<hr>\n",
    "<h2><font color='Blue'>Tree reconstruction</font></h2>\n",
    "This section will reconstruct a maximum likelihood phylogenetic tree using the sequence alignment you have produced. We will use the program FastTree [4]."
   ]
  },
  {
   "cell_type": "code",
   "execution_count": null,
   "metadata": {},
   "outputs": [],
   "source": [
    "# -------------------------\n",
    "# Build tree using FastTree\n",
    "# -------------------------\n",
    "\n",
    "!FastTree -gtr -nt ape_trimmed.afa > ape.nwk"
   ]
  },
  {
   "cell_type": "markdown",
   "metadata": {},
   "source": [
    "<hr>"
   ]
  },
  {
   "cell_type": "markdown",
   "metadata": {},
   "source": [
    "The treebuilding program \"FastTree\" gives lots of output, you can just ignore all those details. When it is finished a file called `ape.nwk` will appear. This is a Newick tree file (.nwk) containing the tree as bracket notation text. Double click it if you want to have a look."
   ]
  },
  {
   "cell_type": "markdown",
   "metadata": {},
   "source": [
    "<hr>\n",
    "<h2><font color='Blue'>Tree Annotation and Viewing</font></h2>\n",
    "\n",
    "The tree alone (example below) is in bracket notation format (called Newick) and not very meaningful to examine.\n",
    "\n",
    "```\n",
    "((A,B),(C,D));\n",
    "```\n",
    "Instead we are going to display it as a graphic, and then annotate it to be easier to interpret. To do this we are going to use a tree graphics program called ToyTree [5]."
   ]
  },
  {
   "cell_type": "markdown",
   "metadata": {},
   "source": [
    "<h4><font color='Blue'>QUESTION:</font></h4>\n",
    "\n",
    "What treefile (.nwk) has just been written by the build tree cell above? Open it for a look at the Newick format.\n",
    "\n",
    "<h4><font color='Blue'>ACTION:</font></h4>\n",
    "\n",
    "Take your newick treefile name and enter it into the cell below to replace \"tree.nwk\""
   ]
  },
  {
   "cell_type": "code",
   "execution_count": null,
   "metadata": {},
   "outputs": [],
   "source": [
    "# -----------------------------------\n",
    "# Drawing the phylogeny using ToyTree\n",
    "# -----------------------------------\n",
    "# import the code so we can use it here\n",
    "import toytree       # a tree plotting library\n",
    "import toyplot       # a general plotting library\n",
    "# import numpy as np   # a numerical library, give it the shorthand 'np'\n",
    "\n",
    "# read the newick format tree file, give it the name 'newick'\n",
    "newick = \"tree.nwk\" # change this to point at your .nwk treefile\n",
    "tre = toytree.tree(newick, tree_format=1)\n",
    "\n",
    "tre.draw();"
   ]
  },
  {
   "cell_type": "markdown",
   "metadata": {},
   "source": [
    "If you see a graphic image of a phylogenetic tree, congratulations! If not please ask for a little help, its probably a quick fix for a demonstrator.\n",
    "\n",
    "<h4><font color='Blue'>NOW ROOT THE TREE</font></h4>\n",
    "\n",
    "Your tree will probably look very odd because it isn't yet rooted correctly. Use the next cell to root it by entering \"Macaca\" (Macacque) instead of \"outgroup\""
   ]
  },
  {
   "cell_type": "code",
   "execution_count": null,
   "metadata": {},
   "outputs": [],
   "source": [
    "# ----------------\n",
    "# Root and re-draw\n",
    "# ----------------\n",
    "# root and draw the tree\n",
    "rtre = tre.root(wildcard=\"outgroup\") # specify the outgroup taxon\n",
    "rtre.draw(height=600, tip_labels_align=True); # draw the tree"
   ]
  },
  {
   "cell_type": "markdown",
   "metadata": {},
   "source": [
    "You should now have a tree that reveals a lot about the relationships betwen these species. Remember that there is a table with the species name earlier in this document. It will be easier to interpret though when you put it into a report if you annotate and colour it by taxon."
   ]
  },
  {
   "cell_type": "markdown",
   "metadata": {},
   "source": [
    "<h4><font color='Blue'>NOW ANNOTATE THE TREE:</font></h4>\n",
    "Although you now have 'the answer' it is not so easy to study this tree. You will need to compare the divergences between the two species of orangutan and compare those to the divergences between the two species of chimpanzee. In this simple tree its not too hard, but in general phylogeneticists label and colour to maintain focus on the correct comaprisons. You are now going to use the script below to colour in the tips by their species identity. \n",
    "\n",
    "Run the cell and examine the tree"
   ]
  },
  {
   "cell_type": "code",
   "execution_count": null,
   "metadata": {},
   "outputs": [],
   "source": [
    "# -----------------------------\n",
    "# Colouring the tree label text\n",
    "# -----------------------------\n",
    "\n",
    "# set list of colours depending on the taxon label text\n",
    "# numbers like \"#5384a3\" are colour 'hex' codes, cyan in\n",
    "# this case (google \"hex colour codes\" for other options)\n",
    "\n",
    "colorlist = [\"blue\" if \"Pan_paniscus\" in tip\n",
    "             else \"darkblue\" if \"Pan_troglodytes\" in tip \n",
    "             else \"red\" if \"Pongo_abelii\" in tip \n",
    "             else \"orange\" if \"Pongo_pygmaeus\" in tip\n",
    "             else \"#5384a3\" for tip in rtre.get_tip_labels()]\n",
    "\n",
    "# draw the tree\n",
    "canvas = rtre.draw(\n",
    "    width=600,  # set dimensions of the figure\n",
    "    height=600,\n",
    "    scalebar=True,  # scale bar of divergence levels\n",
    "    tip_labels_align=True,\n",
    "    tip_labels=True,\n",
    "    tip_labels_colors=colorlist,\n",
    "    node_labels=None,\n",
    "    node_sizes=[0 if i else 8 for i in rtre.get_node_values(None, 1, 0)],\n",
    "    node_markers=\"s\", # use \"o\" for circles instead of squares\n",
    "    node_colors=toytree.colors[0],\n",
    ")"
   ]
  },
  {
   "cell_type": "markdown",
   "metadata": {},
   "source": [
    "You now have all the skills to edit this script and change colours. Pick some ones you like and rerun. The tree tips are marked by squares, the dashed lines after those just help link the tips to the names. You can remove the code line `tip_labels_align=True,` above and rerun to see it without the dotted lines"
   ]
  },
  {
   "cell_type": "markdown",
   "metadata": {},
   "source": [
    "<h3><font color=red>IMPORTANT, SAVE YOUR FILE</font></h3>\n",
    "Make sure that you save and take away a copy of you tree file image in a format suitable to insert into your final report. Run the cell below and then find the file in your working directory and save it somewhere accesible."
   ]
  },
  {
   "cell_type": "code",
   "execution_count": null,
   "metadata": {},
   "outputs": [],
   "source": [
    "# --------------------------------\n",
    "# Save the tree as a graphics file\n",
    "# --------------------------------\n",
    "\n",
    "# import code to draw graphics files\n",
    "import toyplot.pdf\n",
    "import toyplot.svg\n",
    "import toyplot.html\n",
    "\n",
    "# draw graphics files\n",
    "# toyplot.svg.render(canvas[0], \"ape.svg\")\n",
    "toyplot.pdf.render(canvas[0], \"ape.pdf\")\n",
    "toyplot.html.render(canvas[0], \"ape.html\")"
   ]
  },
  {
   "cell_type": "markdown",
   "metadata": {},
   "source": [
    "<h4><font color='Blue'>SPECIES DIFFERENTIATION</font></h4>"
   ]
  },
  {
   "cell_type": "markdown",
   "metadata": {},
   "source": [
    "Looking at the tree, it would seem the two *Pan* clades are as distant from each other as the two *Pongo* clades\n",
    " \n",
    "The scale along the bottom is genetic distances from 0 to 1, so 0.06 would be 6%. Find the common ancestor node of each genus. What is the distance between the common ancestor of both Pan species and the tree tips? What is that value for Pongo? Do you think it is very different?\n",
    "\n",
    "When this analysis was first done orangutans were all classified as the same species, whereas there were two Pan species. Do you think that classification accurately reflects evolutionary history? Does the classification in this way have any negatives for conservation planning? Discuss in your group.\n",
    "\n",
    "Soon after these analyses on single mitochondrial genes, exactly as you have done here, orangutans were divided into two species."
   ]
  },
  {
   "cell_type": "markdown",
   "metadata": {},
   "source": [
    "## Pause"
   ]
  },
  {
   "cell_type": "markdown",
   "metadata": {},
   "source": [
    "You have just loaded a data file, aligned it, quality controled the alignment, constructed a maximum likelihood phyogenetic tree, and created an annotated figure of the phylogeny. Well done!"
   ]
  },
  {
   "cell_type": "markdown",
   "metadata": {},
   "source": [
    "Oh yes, some of you may also have modified a bioinformatics python script to characterise a DNA sequence file. "
   ]
  },
  {
   "cell_type": "markdown",
   "metadata": {},
   "source": [
    "This was quite a lot of work to do the first time, trying to understand how to pass a specific data file through the analytical satges to create a phylogeny. Fortunately, as you learned above, doing it again on a different data file just requires a simple change, ie specifying a different file."
   ]
  },
  {
   "cell_type": "markdown",
   "metadata": {},
   "source": [
    "Below you can quite rapidly analyse a \"big ape\" data set, containing a lot more sequences, by rerunning the same commands with different data. It should not take long. In the second case study (below) we are going to swap from apes to HIV, but again it should be rapid because the commands will be very similar."
   ]
  },
  {
   "cell_type": "markdown",
   "metadata": {},
   "source": [
    "<hr>\n",
    "<h2><font color='Blue'>A big data analysis of great apes</font></h2>\n",
    "\n",
    "One very useful aspect of using code to carry out analyses is that once you have written it, and it works, its very little effort to re-run it again on any number or any size of other data sets.\n",
    "\n",
    "Here I have collected from GenBank whole mitochondrial genomes (about 16,000 nucleotides per genome) from a lot of great apes including humas, neanderthals, and species of gorillas in addition to the species you have just analysed. The file is large but we can just run the same code again. If you want to find out how much data you have, you could insert a cell and paste in the code to quantify sequences (from the ape example) and run it for the big_ape dataset. This is optional. For efficiency reasons I've compressed the code below a little, but its the same as you have just run.\n",
    "\n",
    "This big analysis gives you the opportunity to decide whether the similarity of divergence between groups that you have just observed is true more widely. When you have produced their big trees you should discuss what the divergence levels might mean with your demonstrators. If you want to find out how much data you are analysing you can copy and paste the \"how much data do you have?\" cell from above, and run it here (on the new fasta file). But that is optional."
   ]
  },
  {
   "cell_type": "markdown",
   "metadata": {},
   "source": [
    "The data is in the `data` directory in a file called `big_ape.fas` make sure your code points at the correct input file.\n",
    "\n",
    "Run this cell to align, trim the alignment, and then build a tree. It might take a few minutes to complete. When there is a number not an asterisk in the left margin then it is complete."
   ]
  },
  {
   "cell_type": "code",
   "execution_count": null,
   "metadata": {},
   "outputs": [],
   "source": [
    "# Align\n",
    "!mafft --auto --quiet data/sequencefile.fas > big_ape.afa\n",
    "print(\"\\nThe sequence alignment has finished\")\n",
    "# Trim\n",
    "!trimal -in big_ape.afa -out big_ape_trimmed.afa -gappyout -keepheader\n",
    "print(\"The alignment trimming has finished\")\n",
    "# Tree build\n",
    "print(\"The phylogenetic tree construction has started\\n\")\n",
    "!FastTree -gtr -nt big_ape_trimmed.afa > big_ape.nwk\n",
    "print(\"\\nThe phylogenetic analysis has finished\")"
   ]
  },
  {
   "cell_type": "markdown",
   "metadata": {},
   "source": [
    "Expect this to take a couple of minutes. Remember if there is an asterisk in the top left \"`In [*]:`\" then it is still working, when it is a number it is finished. \n",
    "\n",
    "What tree file (.nwk) did it write? You will need this below\n",
    "\n",
    "If this completed without errors then you can just run the cell below and see the output tree. You may want to adjust colours and re-run a few times. If you had an error, see if you can spot what went wrong, but seek assistance if not."
   ]
  },
  {
   "cell_type": "code",
   "execution_count": null,
   "metadata": {},
   "outputs": [],
   "source": [
    "# import the tree plotting software\n",
    "import toytree\n",
    "import toyplot\n",
    "import toyplot.svg\n",
    "import toyplot.html\n",
    "import toyplot.pdf\n",
    "\n",
    "# read the tree file, you will need to specify the correct file here\n",
    "newick = \"tree_file.nwk\"\n",
    "bigtre = toytree.tree(newick, tree_format=1)\n",
    "\n",
    "# specify the rooted tree with outgroup as Macaque, Hylobates lar\n",
    "bigrtre = bigtre.root(wildcard=\"Hylobates\")\n",
    "\n",
    "# colour the tree, change these options until you are happy with the design\n",
    "colorlist = [\"#d6557c\" if \"Pan\" in tip # pink\n",
    "             else \"blue\" if \"Gorilla_b\" in tip #\n",
    "             else \"#4169E1\" if \"Gorilla_g\" in tip #royalblue\n",
    "             else \"#008000\" if \"Homo_sapiens_sapiens\" in tip #green\n",
    "             else \"#32CD32\" if \"neanderthal\" in tip #limegreen\n",
    "             else \"#006400\" if \"denisovan\" in tip #darkgreen\n",
    "             else \"red\" if \"Pongo_abelii\" in tip #darkgreen\n",
    "             else \"orange\" if \"Pongo_pygmaeus\" in tip #darkgreen\n",
    "             else \"brown\" if \"Pongo_tapanuliensis\" in tip #darkgreen\n",
    "             else \"#5384a3\" for tip in bigrtre.get_tip_labels()] # cyan\n",
    "\n",
    "\n",
    "# create the tree using these colours and some other standard options\n",
    "canvas = bigrtre.draw(\n",
    "    width=700,\n",
    "    height=1200,\n",
    "    scalebar=True,\n",
    "    node_labels=None,\n",
    "    node_sizes=[0 if i else 8 for i in bigrtre.get_node_values(None, 1, 0)],\n",
    "    node_markers=\"s\",\n",
    "    node_colors=toytree.colors[0],\n",
    "    tip_labels_align=True,\n",
    "    tip_labels_colors=colorlist\n",
    ");"
   ]
  },
  {
   "cell_type": "code",
   "execution_count": null,
   "metadata": {},
   "outputs": [],
   "source": [
    "# --------------------------------\n",
    "# Save the tree as a graphics file\n",
    "# --------------------------------\n",
    "#you can specify the name if you wish\n",
    "\n",
    "toyplot.pdf.render(canvas[0], \"bigape.pdf\")\n",
    "toyplot.html.render(canvas[0], \"bigape.html\")"
   ]
  },
  {
   "cell_type": "markdown",
   "metadata": {},
   "source": [
    "Check the files list to make sure that the tree has saved and looks how you intended. You will need this tree for your report. You can alter and recreate the tree under the same, or a different name."
   ]
  },
  {
   "cell_type": "markdown",
   "metadata": {},
   "source": [
    "<h2><font color='Blue'>It's a bit more complicated than that...</font></h2>"
   ]
  },
  {
   "cell_type": "markdown",
   "metadata": {},
   "source": [
    "There is no level of percentage sequence divergence that determines what is a species. So what can this tree really tell us? Well, amount of sequence divergence from closest relatives gives us a good initial picture of the system, and can give a framework on which to carry out more sophisticated analyses. Evolutionary biologists have sequenced the entire nuclear genomes of these species (you have analysed the much smaller mitochondrial genomes). This allows them to look at estinates of coalescent date, evidence for hybridization and many other biological aspects. "
   ]
  },
  {
   "cell_type": "markdown",
   "metadata": {},
   "source": [
    "<h2><font color='Blue'>Well Done</font></h2>\n",
    "\n",
    "You are now finished with case study 1, the apes. Case study two, the origins of HIV, will be much faster now you have experience.\n",
    "\n",
    "<h4>Please feel free to take a short break here.</h4>\n",
    "<hr>"
   ]
  },
  {
   "cell_type": "markdown",
   "metadata": {},
   "source": [
    "<h1><font color='DodgerBlue'>STUDY2: WHAT ARE THE ORIGINS OF HIV?</font></h1>"
   ]
  },
  {
   "cell_type": "markdown",
   "metadata": {},
   "source": [
    "![HIV](images/HIV.png)"
   ]
  },
  {
   "cell_type": "markdown",
   "metadata": {},
   "source": [
    "<hr>\n",
    "\n",
    "**QUESTION: Has HIV (human immunodeficiency virus) coevolved with humans or does it have a recent zoonotic origin?**\n",
    "\n",
    "How can you test this? You now have all the skills required. We are going to repeat some of the work described by Sharp and Hahn (2011) in their paper \"Origins of HIV and the AIDS Pandemic\". Their figure 4 is very informative, and Zimmer and Emlen redraw it in their (3rd edition) Figure 8.12. \n",
    "\n",
    "Today you are going to reanalyse the HIV and SIV sequence data from great apes to produce a simlar figure and answer the question set above regarding zoonotic transfer. "
   ]
  },
  {
   "cell_type": "markdown",
   "metadata": {},
   "source": [
    "<h3><font color='DodgerBlue'>Sequence data</font></h3>"
   ]
  },
  {
   "cell_type": "markdown",
   "metadata": {},
   "source": [
    "I have prepared aligned fasta files for you containing SIV and HIV sequence data from the *env* gene (Google it). They are called `SIVHIVspecies_ENV.afa`\n",
    "\n",
    "It would be useful for you to know how many sequences were in each file, you calculated this earlier today for different files. Paste in the code to the cell below and describe the sequences."
   ]
  },
  {
   "cell_type": "code",
   "execution_count": null,
   "metadata": {},
   "outputs": [],
   "source": []
  },
  {
   "cell_type": "markdown",
   "metadata": {},
   "source": [
    "You will need this alignment file name to enter below"
   ]
  },
  {
   "cell_type": "markdown",
   "metadata": {},
   "source": [
    "<h3><font color='DodgerBlue'>Tree reconstruction</font></h3>"
   ]
  },
  {
   "cell_type": "code",
   "execution_count": null,
   "metadata": {},
   "outputs": [],
   "source": [
    "#HIV\n",
    "print(\"\\nThe analysis has begun, this will take a few minutes, please be patient\")\n",
    "\n",
    "# # Alignment has already been done, so this is commented out\n",
    "# !mafft --auto --quiet data/SIVHIVspecies_ENV.fasta > SIVHIVspecies_ENV.afa\n",
    "# print(\"\\nThe sequence alignment has finished\")\n",
    "# Trim\n",
    "!trimal -in data/alignment_file.afa -out SIVHIVspecies_ENV_trimmed.afa -gappyout -keepheader\n",
    "print(\"The alignment trimming has finished\")\n",
    "# Tree build\n",
    "print(\"The phylogenetic tree construction has started\\n\")\n",
    "!FastTree -gtr -nt SIVHIVspecies_ENV_trimmed.afa > SIVHIVspecies_ENV.nwk\n",
    "print(\"\\nThe phylogenetic analysis has finished\")"
   ]
  },
  {
   "cell_type": "code",
   "execution_count": null,
   "metadata": {},
   "outputs": [],
   "source": [
    "# import the code so we can use it later, just run this cell\n",
    "import toytree       # a tree plotting library\n",
    "import toyplot       # a general plotting library\n",
    "import toyplot.pdf\n",
    "import toyplot.svg"
   ]
  },
  {
   "cell_type": "code",
   "execution_count": null,
   "metadata": {},
   "outputs": [],
   "source": [
    "newick = \"SIVHIVspecies_ENV.nwk\"\n",
    "hivtre = toytree.tree(newick, tree_format=1)\n",
    "hivrtre = hivtre.root(wildcard=\"schwein\")\n",
    "\n",
    "# change these options until you are happy with the design\n",
    "colorlist = [\"green\" if \"P.t.schweinfurthii\" in tip \n",
    "             else \"blue\" if \"P.t.\" in tip \n",
    "             else \"blue\" if \"G.g\" in tip\n",
    "             else \"blue\" if \"H.sapiens\" in tip \n",
    "             else \"blue\" for tip in hivrtre.get_tip_labels()]\n",
    "\n",
    "canvas = hivrtre.draw(\n",
    "    node_labels=None,\n",
    "    width=600,\n",
    "    height=600,\n",
    "    node_sizes=[0 if i else 8 for i in hivrtre.get_node_values(None, 1, 0)],\n",
    "    node_markers=\"s\",\n",
    "    node_colors=toytree.colors[0],\n",
    "    tip_labels_align=True,\n",
    "    tip_labels_colors=colorlist);\n"
   ]
  },
  {
   "cell_type": "markdown",
   "metadata": {},
   "source": [
    "You can use modify the code to colour it in more appropriately if you wish. Maybe change the colour to highlight Human HIV sequences in red?\n",
    "\n",
    "The name contains a lot of metadata. The letter after H.sapiens indicates the HIV1 group to which that sequence belongs. Then the country from which it was isolated. Then the year. Then some identifiers and accession number. So `H.sapiens.O.CM.96.LA51YBF35.KU168294` is HIV1 group O, from Cameroon, isolated in 1996, with sample code LA51YBF35 and genbank accession number KU168294."
   ]
  },
  {
   "cell_type": "markdown",
   "metadata": {},
   "source": [
    "It may help you to talk about HIV1 group O, or group P, or group N in your explanations and in your annotations of the tree."
   ]
  },
  {
   "cell_type": "markdown",
   "metadata": {},
   "source": [
    "Make sure you then download the annotated tree and save it somewhere safe for your report."
   ]
  },
  {
   "cell_type": "code",
   "execution_count": null,
   "metadata": {},
   "outputs": [],
   "source": [
    "# --------------------------------\n",
    "# Save the tree as a graphics file\n",
    "# --------------------------------\n",
    "# remember to save these files and take them away\n",
    "\n",
    "toyplot.pdf.render(canvas[0], \"hiv.pdf\")\n",
    "toyplot.html.render(canvas[0], \"hiv.html\")\n"
   ]
  },
  {
   "cell_type": "markdown",
   "metadata": {},
   "source": [
    "## Interpreting the tree"
   ]
  },
  {
   "cell_type": "markdown",
   "metadata": {},
   "source": [
    "The tree shows the diversity of great ape immunodeficiency viruses. Here are some questions that you could write about in your report. They are suggestions only, you can set yourself different or extra questions also, you decide.\n",
    "\n",
    "**Does the pattern of S/HIV represent the evolutionary history of the species? Has the virus speciated along with these apes or is it more complex than that?**\n",
    "\n",
    "**If you think there has been a zoonotic spread of SIV, ie a transfer to humans, is there a single origin or multiple transfers of HIV1?**\n",
    "\n",
    "**Can you determine anything about the geography of the transfer of the pandemic strain (M)? Think about the subspecies of the source. What is their gepgraphic range? Maybe you wish to include a map in your report? Wikipedia has one**\n",
    "\n",
    "It is useful to think about how you will provide phylogenetic evidence for your answer to each of the questions above. How can you annotate a phylogeny to demonstrate the evidence for your conclusion. Poor reports will rely largely on written descriptions of a tree, excellent reports make a powerful link between the text and the figure, using annotations to make their points very clear.\n"
   ]
  },
  {
   "cell_type": "markdown",
   "metadata": {},
   "source": [
    "## Writing your assessed report"
   ]
  },
  {
   "cell_type": "markdown",
   "metadata": {},
   "source": [
    "There is extensivehelp on the canvas site on what to include and how to structure your report. You should discuss your conclusions and figures with a demonstrator or myself before leaving however. Please make sure that you have downloaded image files of any trees that you need to include in your report. This Jupyter lab environment may continue to work but I can't guarrantee it's availability past the end of the practical (that is out of my hands)."
   ]
  },
  {
   "cell_type": "markdown",
   "metadata": {},
   "source": [
    "<hr>\n",
    "<h2><font color='Blue'>What skills have you acquired?</font></h2>\n",
    "\n",
    "If you have completed this practical I think you have now showed your competency in a range of important practical and conceptual skills:\n",
    "1. Understanding the use of phylogenetic trees\n",
    "2. Basic use of Jupyter notebooks\n",
    "3. Basic use of BioPython to characterise sequence data files\n",
    "4. Basic use of python to align DNA sequecne data and build a phylogenetic tree\n",
    "5. Use of python to programmatically annotate a phylogenetic tree\n",
    "\n",
    "These are the sorts of phrases you could include on you cv if you wished."
   ]
  },
  {
   "cell_type": "markdown",
   "metadata": {},
   "source": [
    "## Software References\n",
    "\n",
    "1. Cock PJA, Antao T, Chang JT, Chapman BA, Cox CJ, Dalke A, et al. Biopython: freely available Python tools for computational molecular biology and bioinformatics. Bioinformatics. 2009;25: 1422–1423. doi:10.1093/bioinformatics/btp163\n",
    "2. Katoh K, Toh H. Recent developments in the MAFFT multiple sequence alignment program. Brief Bioinform. 2008;9: 286–298. doi:10.1093/bib/bbn013\n",
    "3. Capella-Gutiérrez S, Silla-Martínez JM, Gabaldón T. trimAl: a tool for automated alignment trimming in large-scale phylogenetic analyses. Bioinformatics. 2009;25: 1972–1973. doi:10.1093/bioinformatics/btp348\n",
    "4. Price MN, Dehal PS, Arkin AP. FastTree 2 – Approximately Maximum-Likelihood Trees for Large Alignments. PLoS ONE. 2010. p. e9490. doi:10.1371/journal.pone.0009490\n",
    "5. Eaton DAR. Toytree: A minimalist tree visualization and manipulation library for Python. Methods Ecol Evol. 2020;11: 187–191. doi:10.1111/2041-210X.13313\n"
   ]
  },
  {
   "cell_type": "markdown",
   "metadata": {},
   "source": [
    "## Case Study References\n",
    "\n",
    "Sharp PM, Hahn BH. Origins of HIV and the AIDS pandemic. Cold Spring Harb Perspect Med. 2011;1: a006841. doi:10.1101/cshperspect.a006841\n",
    "\n",
    "Locke DP, Hillier LW, Warren WC, Worley KC, Nazareth LV, Muzny DM, et al. Comparative and demographic analysis of orang-utan genomes. Nature. 2011;469: 529–533. doi:10.1038/nature09687\n",
    "\n",
    "Nater A, Mattle-Greminger MP, Nurcahyo A, Nowak MG, de Manuel M, Desai T, et al. Morphometric, Behavioral, and Genomic Evidence for a New Orangutan Species. Curr Biol. 2017;0. doi:10.1016/j.cub.2017.09.047\n",
    "\n"
   ]
  },
  {
   "cell_type": "code",
   "execution_count": null,
   "metadata": {},
   "outputs": [],
   "source": []
  }
 ],
 "metadata": {
  "kernelspec": {
   "display_name": "Python 3",
   "language": "python",
   "name": "python3"
  },
  "language_info": {
   "codemirror_mode": {
    "name": "ipython",
    "version": 3
   },
   "file_extension": ".py",
   "mimetype": "text/x-python",
   "name": "python",
   "nbconvert_exporter": "python",
   "pygments_lexer": "ipython3",
   "version": "3.9.2"
  }
 },
 "nbformat": 4,
 "nbformat_minor": 4
}
