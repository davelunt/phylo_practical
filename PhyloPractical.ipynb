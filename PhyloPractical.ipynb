{
 "cells": [
  {
   "cell_type": "markdown",
   "metadata": {},
   "source": [
    "<h1><font color='DarkBlue'>PRACTICAL PHYLOGENETICS NOTEBOOK</font></h1>\n",
    "<hr>\n",
    "Dr Dave Lunt d.h.lunt@hull.ac.uk"
   ]
  },
  {
   "cell_type": "markdown",
   "metadata": {},
   "source": [
    "<h2><font color='Blue'>Goals of these experiments</font></h2>"
   ]
  },
  {
   "cell_type": "markdown",
   "metadata": {},
   "source": [
    "This Jupyter notebook will take you through two case studies using phylogenetic analysis to understand biological questions. This will involve aligning sequences and building maximum likelihood phylogenetic trees, followed by annotation an interpretation.\n",
    "\n",
    "We hope that this will give you \n",
    "- experience in analysing DNA sequence data\n",
    "- Understanding of the steps involved in phylogenetics\n",
    "- Knowledge about the compleities of the specific case studies we are using\n",
    "\n",
    "You will write up one of the case study analyses you perform today for your assessment."
   ]
  },
  {
   "cell_type": "markdown",
   "metadata": {},
   "source": [
    "<h2><font color='Blue'>Introduction to Jupyter computational notebooks</font></h2>"
   ]
  },
  {
   "cell_type": "markdown",
   "metadata": {},
   "source": [
    "<font color=red>**FIRSTLY, DO NOT PANIC. EVERYTHING YOU NEED TO KNOW ABOUT COMPUTERS AND CODE WILL BE TAUGHT HERE. YOU WILL BE ABLE TO DO THIS EVEN IF YOU HAVE LITTLE EXPERIENCE WITH COMPUTERS**</font>\n",
    "\n",
    "This class of students has mixed prior experience however, so if you have not done the bioinformatics practicals in Genetic Analysis last semester then please make yourself known and we will give you a 5 minute catch-up to make your life easier.\n",
    "\n",
    "If you are familiar with Jupyter notebooks then you can skip this section and move to \"A NEW SPECIES oF APE?\" below.\n",
    "\n",
    "This document that you are reading now is a **Jupyter Notebook**. It is a web browser based text editor that is also able to execute scripts ie  code. Today we are using the programming language `python`, probably the most used language in bioinformatics, but we could also run `R`, `bash` or many other languages. Scripts are found in the grey cells (see below) and have something like `In [ ]:` or `[1]` to their left in the margin..  \n",
    "\n",
    "To execute a script, click the cell below and then press SHIFT+ENTER, or instead the triangular \"Run\" button in the tool bar above. Try running this code below now "
   ]
  },
  {
   "cell_type": "code",
   "execution_count": 1,
   "metadata": {},
   "outputs": [
    {
     "name": "stdout",
     "output_type": "stream",
     "text": [
      "Hey there, good job in running the python print command!\n"
     ]
    }
   ],
   "source": [
    "print('Hey there, good job in running the python print command!')"
   ]
  },
  {
   "cell_type": "markdown",
   "metadata": {},
   "source": [
    "This code cell (containing \"print('Hey...\") should have executed when you pressed SHIFT-ENTER and it's output was printed below the cell (\"Hey there, good job...\"). All Jupyter commands run in a similar fashion"
   ]
  },
  {
   "cell_type": "markdown",
   "metadata": {},
   "source": [
    "Can you identify which parts of this notebook are code, which parts output, and which parts documentation like this sentence? Discuss with us if you are in doubt.\n",
    "\n",
    "1. Try editing the code below and re-running. Replace \"Good job\" with \"Even better job\"\n",
    "2. Instead of the `Run` button at the top you can click in the cell and press Shift-Enter to run the code. Most people find this faster, edit the cell below then give it a try:"
   ]
  },
  {
   "cell_type": "code",
   "execution_count": 2,
   "metadata": {},
   "outputs": [
    {
     "name": "stdout",
     "output_type": "stream",
     "text": [
      "Hey there, good job!\n"
     ]
    }
   ],
   "source": [
    "print('Hey there, good job!')"
   ]
  },
  {
   "cell_type": "markdown",
   "metadata": {},
   "source": [
    "<h4><font color='Blue'>ACTION:</font></h4>\n",
    "\n",
    "Now edit the cell above to have two print statements. On a new line type `print('Your new phrase')` and then run it. It might be easier to copy/paste and just change the pasted phrase. If it doesn't run well, you have a typo. Yes, its always a typo.\n",
    "\n",
    "**Congratulations, you have now run, copy/pasted and edited cells. Those are all the skills you will need today**\n",
    "\n",
    "This iterative edit-and-run approach is how much of modern biological data is explored and analysed. This mix of code and explanation you are seeing in this Jupyter notebook is called \"literate programming\""
   ]
  },
  {
   "cell_type": "markdown",
   "metadata": {},
   "source": [
    "This notebook will take you through the anaysis of the two case studies found in the practical handbook. To make this notebook concise, background information is excluded from it and only available in the practical handbook, and you will need to work with both documents. For each case study you will need to run several cells just as you did above. The programs will then align and clean the DNA sequences, build a tree and annotate it. **In most cases you will only need to run the cell just as you did above. In a few cases you will be able to tweak the script just a bit following clear instructions**. Good luck!"
   ]
  },
  {
   "cell_type": "markdown",
   "metadata": {},
   "source": [
    "<h1><font color='Blue'>STUDY1: A NEW SPECIES OF APE?</font></h1>"
   ]
  },
  {
   "cell_type": "markdown",
   "metadata": {},
   "source": [
    "![orangutan males](images/Bornean,_Sumatran_&_Tapanuli_orangs.jpg)"
   ]
  },
  {
   "cell_type": "markdown",
   "metadata": {},
   "source": [
    "_Figure 1:_ Male Bornean, Sumatran and Tapanuli orangutans, three suggested species [wikipedia](https://en.wikipedia.org/wiki/Orangutan). "
   ]
  },
  {
   "cell_type": "markdown",
   "metadata": {},
   "source": [
    "The first aim of today is to investigate what phylogenetics can tell us about different species of great ape. It is, of course, complex. You might like to think how you would conceptually go about trying to get information using a phylogenetic approach."
   ]
  },
  {
   "cell_type": "markdown",
   "metadata": {},
   "source": [
    "**Table 1: Latin names and common names of species in this practical.** As always, Googling is encouraged."
   ]
  },
  {
   "cell_type": "markdown",
   "metadata": {},
   "source": [
    "| Name             | Common name           | Name  | Common Name |\n",
    "| ----------------|:----------------------| --------------|:---------- |\n",
    "| Macaca macaca | Macaque (outgroup)|  Homo sapiens sapiens | Modern humans\n",
    "| Hylobates lar      | Gibbon (outgroup)     |  Homo sapiens neanderthalis  | Neanderthals (extinct)|\n",
    "| Gorilla gorilla | Western Gorilla      | Homo sapiens denisovan | Denisovans (extinct)\n",
    "| Gorilla beringei | Eastern/mountain Gorilla | Pongo abelii | Sumatran orangutan     |\n",
    "| Pan troglodytes | Chimp      |   Pongo pygmaeus | Bornean orangutan   |\n",
    "| Pan paniscus | Bonobo      |     Pongo tapanuliensis | Tapanuli orangutan|\n",
    "|"
   ]
  },
  {
   "cell_type": "markdown",
   "metadata": {},
   "source": [
    "<h2><font color='Blue'>How much data do you have?</font></h2>\n",
    "Your working directory has some DNA sequence files in fasta format. There are a number of ways to determine the number of sequences in a file, here is a quick one-liner. \n",
    "\n",
    "Edit the cell to replace `name.fas` with the correct file `data/ape.fas`. Shift-Enter to run the cell as usual"
   ]
  },
  {
   "cell_type": "code",
   "execution_count": 1,
   "metadata": {},
   "outputs": [
    {
     "name": "stdout",
     "output_type": "stream",
     "text": [
      "Number of sequences: \n",
      "19\n"
     ]
    }
   ],
   "source": [
    "!echo \"Number of sequences: \"; grep -c \">\" data/ape.fas"
   ]
  },
  {
   "cell_type": "markdown",
   "metadata": {},
   "source": [
    "It should have displayed the number of sequences in the `ape.fas` file"
   ]
  },
  {
   "cell_type": "markdown",
   "metadata": {},
   "source": [
    "Below we will use a few python packages to allow more complex analyses. In the next example we are going to find the number and total length of sequences using a useful code package called BioPython [1].\n",
    "\n",
    "Remember: The code below has explanations of what each section does (explanations begin with the # symbol) as some people are interested in seeing bioinformatics code in action. **But you do not have to know python or understand this code. Just run the cell as usual.**"
   ]
  },
  {
   "cell_type": "code",
   "execution_count": 1,
   "metadata": {},
   "outputs": [
    {
     "ename": "FileNotFoundError",
     "evalue": "[Errno 2] No such file or directory: 'name.fas'",
     "output_type": "error",
     "traceback": [
      "\u001b[0;31m---------------------------------------------------------------------------\u001b[0m",
      "\u001b[0;31mFileNotFoundError\u001b[0m                         Traceback (most recent call last)",
      "\u001b[0;32m<ipython-input-1-c5c050689c82>\u001b[0m in \u001b[0;36m<module>\u001b[0;34m\u001b[0m\n\u001b[1;32m     12\u001b[0m \u001b[0;34m\u001b[0m\u001b[0m\n\u001b[1;32m     13\u001b[0m \u001b[0;31m# open the data file and give it a handle (nickname)\u001b[0m\u001b[0;34m\u001b[0m\u001b[0;34m\u001b[0m\u001b[0;34m\u001b[0m\u001b[0m\n\u001b[0;32m---> 14\u001b[0;31m \u001b[0;32mwith\u001b[0m \u001b[0mopen\u001b[0m\u001b[0;34m(\u001b[0m\u001b[0;34m\"name.fas\"\u001b[0m\u001b[0;34m)\u001b[0m \u001b[0;32mas\u001b[0m \u001b[0min_handle\u001b[0m\u001b[0;34m:\u001b[0m\u001b[0;34m\u001b[0m\u001b[0;34m\u001b[0m\u001b[0m\n\u001b[0m\u001b[1;32m     15\u001b[0m \u001b[0;34m\u001b[0m\u001b[0m\n\u001b[1;32m     16\u001b[0m \u001b[0;31m# for each title line add 1 to count of records,\u001b[0m\u001b[0;34m\u001b[0m\u001b[0;34m\u001b[0m\u001b[0;34m\u001b[0m\u001b[0m\n",
      "\u001b[0;31mFileNotFoundError\u001b[0m: [Errno 2] No such file or directory: 'name.fas'"
     ]
    }
   ],
   "source": [
    "# --------------------------------------------\n",
    "# Python code to report on number of sequences \n",
    "# in a file by using BioPython\n",
    "# --------------------------------------------\n",
    "\n",
    "# import BioPython code so we can use it\n",
    "from Bio.SeqIO.FastaIO import SimpleFastaParser\n",
    "\n",
    "# set counts to zero before starting\n",
    "count = 0\n",
    "total_len = 0\n",
    "\n",
    "# open the data file and give it a handle (nickname)\n",
    "with open(\"data/ape.fas\") as in_handle:\n",
    "    \n",
    "# for each title line add 1 to count of records, \n",
    "# and add length of sequence to a count called total_len\n",
    "     for title, seq in SimpleFastaParser(in_handle):\n",
    "         count += 1\n",
    "         total_len += len(seq)\n",
    "            \n",
    "# print the results in a readable format\n",
    "print(\"The file contained %i records with total sequence length of %i nucleotides\" % (count, total_len))"
   ]
  },
  {
   "cell_type": "markdown",
   "metadata": {},
   "source": [
    "<h4><font color='Blue'>QUESTIONS:</font></h4>\n",
    "\n",
    "- Can you see which part of the above code specifies the fasta file `ape.fas`?\n",
    "\n",
    "- How could you run this on a different file in the data directory called `testseqs.fasta`? \n",
    "\n",
    "You don't need any python knowledge to answer these. The idea here is that in much of bioinformatics you can modify someone else's code to point at your data file and everything will work. \n",
    "\n",
    "<h4><font color='Blue'>ACTIONS:</font></h4>\n",
    "\n",
    "Try it, just change the name above and re-run the cell, or ask for help if you can't quite see it. Remember that the file is within the `data` directory. If you've done it correctly (watch for typos) then the number and length of sequence reported will change."
   ]
  },
  {
   "cell_type": "markdown",
   "metadata": {},
   "source": [
    "<hr>\n",
    "<h2><font color='Blue'>Aligning the sequences</font></h2>\n",
    "In order to carry out a valid analysis you have to align the DNA sequences. If you're not quite sure why, look at the images below and discuss with a demonstrator. "
   ]
  },
  {
   "cell_type": "markdown",
   "metadata": {},
   "source": [
    "![Aligned DNA sequence](./images/aligned.png \"A DNA sequence alignment\")\n",
    "_A DNA sequence alignmnet. Each character (column) can be directly compared across the different species_"
   ]
  },
  {
   "cell_type": "markdown",
   "metadata": {},
   "source": [
    "![Un-aligned DNA sequence](./images/unaligned.png \"An incomplete  DNA sequence alignment\")\n",
    "_A set of DNA sequences not completely aligned. Each character (column) cannot be directly compared across the different species as some are 'shifted' so even though they are very similar, they look enormously different when just comparing down each column (character)_"
   ]
  },
  {
   "cell_type": "markdown",
   "metadata": {},
   "source": [
    "To align the sequences we will use a program called MAFFT [2]. What piece of information will we have to add to the code? Yes, the name of the input DNA sequence file to be aligned.\n",
    "\n",
    "<h4><font color='Blue'>ACTIONS:</font></h4>\n",
    "\n",
    "- Change the name of the file in the following code to be `ape.fas`\n",
    "- run the cell"
   ]
  },
  {
   "cell_type": "code",
   "execution_count": 2,
   "metadata": {},
   "outputs": [],
   "source": [
    "# ---------------------------\n",
    "# Align sequences using MAFFT\n",
    "# ---------------------------\n",
    "\n",
    "!mafft --auto --quiet data/ape.fas > ape.afa"
   ]
  },
  {
   "cell_type": "markdown",
   "metadata": {},
   "source": [
    "Did it work? Can you find the `ape.afa` file? The \".afa.\" extension stands for 'aligned fasta'"
   ]
  },
  {
   "cell_type": "markdown",
   "metadata": {},
   "source": [
    "<hr>\n",
    "<h2><font color='Blue'>QC the alignment</font></h2>\n",
    "Trimal [3] quality controls the alignment, removing badly aligned regions and alignment artefacts."
   ]
  },
  {
   "cell_type": "code",
   "execution_count": 3,
   "metadata": {},
   "outputs": [],
   "source": [
    "# ------------------------------------------\n",
    "# Quality control the alignment using trimal\n",
    "# ------------------------------------------\n",
    "\n",
    "!trimal -in ape.afa -out ape_trimmed.afa -gappyout -keepheader"
   ]
  },
  {
   "cell_type": "markdown",
   "metadata": {},
   "source": [
    "<hr>\n",
    "<h2><font color='Blue'>Tree reconstruction</font></h2>\n",
    "This section will reconstruct a maximum likelihood phylogenetic tree using the sequence alignment you have produced. We will use the program FastTree [4]."
   ]
  },
  {
   "cell_type": "code",
   "execution_count": 1,
   "metadata": {},
   "outputs": [
    {
     "name": "stdout",
     "output_type": "stream",
     "text": [
      "FastTree Version 2.1.10 Double precision (No SSE3)\n",
      "Alignment: ape_trimmed.afa\n",
      "Nucleotide distances: Jukes-Cantor Joins: balanced Support: SH-like 1000\n",
      "Search: Normal +NNI +SPR (2 rounds range 10) +ML-NNI opt-each=1\n",
      "TopHits: 1.00*sqrtN close=default refresh=0.80\n",
      "ML Model: Generalized Time-Reversible, CAT approximation with 20 rate categories\n",
      "Initial topology in 0.00 seconds\n",
      "Refining topology: 16 rounds ME-NNIs, 2 rounds ME-SPRs, 8 rounds ML-NNIs\n",
      "Total branch-length 0.477 after 0.03 sec\n",
      "ML-NNI round 1: LogLk = -1805.940 NNIs 2 max delta 0.00 Time 0.05\n",
      "GTR Frequencies: 0.3150 0.3149 0.1056 0.2645ep 9 of 12   \n",
      "GTR rates(ac ag at cg ct gt) 2.3845 14.9825 1.2609 1.5635 13.8255 1.0000\n",
      "Switched to using 20 rate categories (CAT approximation)\n",
      "Rate categories were divided by 0.732 so that average rate = 1.0\n",
      "CAT-based log-likelihoods may not be comparable across runs\n",
      "Use -gamma for approximate but comparable Gamma(20) log-likelihoods\n",
      "ML-NNI round 2: LogLk = -1589.440 NNIs 0 max delta 0.00 Time 0.14\n",
      "Turning off heuristics for final round of ML NNIs (converged)\n",
      "ML-NNI round 3: LogLk = -1589.426 NNIs 0 max delta 0.00 Time 0.16 (final)\n",
      "Optimize all lengths: LogLk = -1589.426 Time 0.17\n",
      "Total time: 0.20 seconds Unique: 17/19 Bad splits: 0/14\n"
     ]
    }
   ],
   "source": [
    "# -------------------------\n",
    "# Build tree using FastTree\n",
    "# -------------------------\n",
    "\n",
    "!FastTree -gtr -nt ape_trimmed.afa > ape.nwk"
   ]
  },
  {
   "cell_type": "markdown",
   "metadata": {},
   "source": [
    "<hr>"
   ]
  },
  {
   "cell_type": "markdown",
   "metadata": {},
   "source": [
    "The treebuilding program \"FastTree\" gives lots of output, you can just ignore all those details. When it is finished a file called `ape.nwk` will appear. This is a Newick tree file (.nwk) containing the tree as bracket notation text."
   ]
  },
  {
   "cell_type": "markdown",
   "metadata": {},
   "source": [
    "<hr>\n",
    "<h2><font color='Blue'>Tree Annotation and Viewing</font></h2>\n",
    "\n",
    "The tree alone (example below) is in bracket notation format (called Newick) and not very meaningful to examine.\n",
    "\n",
    "```\n",
    "((A,B),(C,D));\n",
    "```\n",
    "Instead we are going to display it as a graphic, and then annotate it to be easier to interpret. To do this we are going to use a tree graphics program called ToyTree [5]."
   ]
  },
  {
   "cell_type": "markdown",
   "metadata": {},
   "source": [
    "<h4><font color='Blue'>QUESTION:</font></h4>\n",
    "\n",
    "What treefile (.nwk) has just been written by the build tree cell above?\n",
    "\n",
    "<h4><font color='Blue'>ACTION:</font></h4>\n",
    "\n",
    "Take your newick treefile name and enter it into the cell below to replace \"tree.nwk\""
   ]
  },
  {
   "cell_type": "code",
   "execution_count": 3,
   "metadata": {},
   "outputs": [
    {
     "data": {
      "text/html": [
       "<div class=\"toyplot\" id=\"tad7b455ba3d143398441c6f4eb8a8582\" style=\"text-align:center\"><svg class=\"toyplot-canvas-Canvas\" xmlns:toyplot=\"http://www.sandia.gov/toyplot\" xmlns:xlink=\"http://www.w3.org/1999/xlink\" xmlns=\"http://www.w3.org/2000/svg\" width=\"370.0px\" height=\"342.0px\" viewBox=\"0 0 370.0 342.0\" preserveAspectRatio=\"xMidYMid meet\" style=\"background-color:transparent;border-color:#292724;border-style:none;border-width:1.0;fill:rgb(16.1%,15.3%,14.1%);fill-opacity:1.0;font-family:Helvetica;font-size:12px;opacity:1.0;stroke:rgb(16.1%,15.3%,14.1%);stroke-opacity:1.0;stroke-width:1.0\" id=\"te4ea0f964ee4468888b36b3d36d0dd40\"><g class=\"toyplot-coordinates-Cartesian\" id=\"t5291e9659b1f46f2bb064ee3f799e764\"><clipPath id=\"te3924d082f7545088368aa15528daca9\"><rect x=\"30.0\" y=\"30.0\" width=\"310.0\" height=\"282.0\"></rect></clipPath><g clip-path=\"url(#te3924d082f7545088368aa15528daca9)\"><g class=\"toytree-mark-Toytree\" id=\"te16464e380854ba08d428543a07622f4\"><g class=\"toytree-Edges\" style=\"fill:none;stroke:rgb(14.9%,14.9%,14.9%);stroke-linecap:round;stroke-opacity:1;stroke-width:2\"><path d=\"M 51.2 89.1 L 51.2 79.7 L 56.1 79.7\" id=\"34,33\"></path><path d=\"M 51.2 89.1 L 51.2 126.2 L 54.0 126.2\" id=\"34,32\"></path><path d=\"M 54.0 126.2 L 54.0 104.0 L 54.0 104.0\" id=\"32,31\"></path><path d=\"M 54.0 126.2 L 54.0 148.4 L 55.0 148.4\" id=\"32,30\"></path><path d=\"M 55.0 148.4 L 55.0 174.4 L 69.7 174.4\" id=\"30,29\"></path><path d=\"M 69.7 174.4 L 69.7 145.1 L 76.9 145.1\" id=\"29,28\"></path><path d=\"M 69.7 174.4 L 69.7 203.7 L 105.9 203.7\" id=\"29,27\"></path><path d=\"M 76.9 145.1 L 76.9 155.8 L 77.9 155.8\" id=\"28,26\"></path><path d=\"M 105.9 203.7 L 105.9 224.3 L 143.3 224.3\" id=\"27,25\"></path><path d=\"M 77.9 155.8 L 77.9 164.9 L 78.8 164.9\" id=\"26,24\"></path><path d=\"M 143.3 224.3 L 143.3 204.5 L 161.3 204.5\" id=\"25,23\"></path><path d=\"M 143.3 224.3 L 143.3 244.1 L 147.5 244.1\" id=\"25,22\"></path><path d=\"M 161.3 204.5 L 161.3 213.6 L 161.3 213.6\" id=\"23,21\"></path><path d=\"M 147.5 244.1 L 147.5 256.2 L 148.4 256.2\" id=\"22,20\"></path><path d=\"M 148.4 256.2 L 148.4 268.4 L 148.4 268.4\" id=\"20,19\"></path><path d=\"M 51.2 89.1 L 51.2 61.4 L 56.1 61.4\" id=\"34,18\"></path><path d=\"M 56.1 79.7 L 56.1 73.6 L 56.1 73.6\" id=\"33,17\"></path><path d=\"M 56.1 79.7 L 56.1 85.8 L 57.0 85.8\" id=\"33,16\"></path><path d=\"M 54.0 104.0 L 54.0 97.9 L 54.0 97.9\" id=\"31,15\"></path><path d=\"M 54.0 104.0 L 54.0 110.1 L 55.0 110.1\" id=\"31,14\"></path><path d=\"M 55.0 148.4 L 55.0 122.3 L 55.0 122.3\" id=\"30,13\"></path><path d=\"M 76.9 145.1 L 76.9 134.5 L 76.9 134.5\" id=\"28,12\"></path><path d=\"M 77.9 155.8 L 77.9 146.6 L 77.9 146.6\" id=\"26,11\"></path><path d=\"M 78.8 164.9 L 78.8 158.8 L 80.7 158.8\" id=\"24,10\"></path><path d=\"M 78.8 164.9 L 78.8 171.0 L 78.8 171.0\" id=\"24,9\"></path><path d=\"M 105.9 203.7 L 105.9 183.2 L 209.3 183.2\" id=\"27,8\"></path><path d=\"M 161.3 204.5 L 161.3 195.4 L 163.2 195.4\" id=\"23,7\"></path><path d=\"M 161.3 213.6 L 161.3 207.5 L 164.2 207.5\" id=\"21,6\"></path><path d=\"M 161.3 213.6 L 161.3 219.7 L 162.2 219.7\" id=\"21,5\"></path><path d=\"M 147.5 244.1 L 147.5 231.9 L 149.3 231.9\" id=\"22,4\"></path><path d=\"M 148.4 256.2 L 148.4 244.1 L 149.4 244.1\" id=\"20,3\"></path><path d=\"M 148.4 268.4 L 148.4 256.2 L 148.4 256.2\" id=\"19,2\"></path><path d=\"M 148.4 268.4 L 148.4 268.4 L 148.4 268.4\" id=\"19,1\"></path><path d=\"M 148.4 268.4 L 148.4 280.6 L 148.4 280.6\" id=\"19,0\"></path></g><g class=\"toytree-TipLabels\" style=\"fill:rgb(14.9%,14.9%,14.9%);fill-opacity:1.0;font-family:helvetica;font-size:11px;font-weight:normal;stroke:none;white-space:pre\"><g transform=\"translate(148.45,280.59)rotate(0)\"><text x=\"15.00\" y=\"2.81\" style=\"\">Pan_troglodytes5</text></g><g transform=\"translate(148.45,268.41)rotate(0)\"><text x=\"15.00\" y=\"2.81\" style=\"\">Pan_troglodytes4</text></g><g transform=\"translate(148.45,256.24)rotate(0)\"><text x=\"15.00\" y=\"2.81\" style=\"\">Pan_troglodytes3</text></g><g transform=\"translate(149.40,244.06)rotate(0)\"><text x=\"15.00\" y=\"2.81\" style=\"\">Pan_troglodytes1</text></g><g transform=\"translate(149.26,231.88)rotate(0)\"><text x=\"15.00\" y=\"2.81\" style=\"\">Pan_troglodytes6</text></g><g transform=\"translate(162.25,219.71)rotate(0)\"><text x=\"15.00\" y=\"2.81\" style=\"\">Pan_paniscus3</text></g><g transform=\"translate(164.18,207.53)rotate(0)\"><text x=\"15.00\" y=\"2.81\" style=\"\">Pan_paniscus2</text></g><g transform=\"translate(163.21,195.35)rotate(0)\"><text x=\"15.00\" y=\"2.81\" style=\"\">Pan_paniscus1</text></g><g transform=\"translate(209.29,183.18)rotate(0)\"><text x=\"15.00\" y=\"2.81\" style=\"\">Macaca_fascicularis</text></g><g transform=\"translate(78.83,171.00)rotate(0)\"><text x=\"15.00\" y=\"2.81\" style=\"\">Pongo_pygmaeus_pygmaeus1</text></g><g transform=\"translate(80.75,158.82)rotate(0)\"><text x=\"15.00\" y=\"2.81\" style=\"\">Pongo_pygmaeus_pygmaeus4</text></g><g transform=\"translate(77.87,146.65)rotate(0)\"><text x=\"15.00\" y=\"2.81\" style=\"\">Pongo_pygmaeus_pygmaeus3</text></g><g transform=\"translate(76.91,134.47)rotate(0)\"><text x=\"15.00\" y=\"2.81\" style=\"\">Pongo_pygmaeus_pygmaeus2</text></g><g transform=\"translate(54.99,122.29)rotate(0)\"><text x=\"15.00\" y=\"2.81\" style=\"\">Pongo_abelii2</text></g><g transform=\"translate(54.99,110.12)rotate(0)\"><text x=\"15.00\" y=\"2.81\" style=\"\">Pongo_abelii3</text></g><g transform=\"translate(54.04,97.94)rotate(0)\"><text x=\"15.00\" y=\"2.81\" style=\"\">Pongo_abelii1</text></g><g transform=\"translate(57.03,85.76)rotate(0)\"><text x=\"15.00\" y=\"2.81\" style=\"\">Pongo_abelii5</text></g><g transform=\"translate(56.07,73.59)rotate(0)\"><text x=\"15.00\" y=\"2.81\" style=\"\">Pongo_abelii4</text></g><g transform=\"translate(56.07,61.41)rotate(0)\"><text x=\"15.00\" y=\"2.81\" style=\"\">Pongo_abelii6</text></g></g></g></g></g></svg><div class=\"toyplot-behavior\"><script>(function()\n",
       "{\n",
       "var modules={};\n",
       "})();</script></div></div>"
      ]
     },
     "metadata": {},
     "output_type": "display_data"
    }
   ],
   "source": [
    "# -----------------------------------\n",
    "# Drawing the phylogeny using ToyTree\n",
    "# -----------------------------------\n",
    "# import the code so we can use it here\n",
    "import toytree       # a tree plotting library\n",
    "import toyplot       # a general plotting library\n",
    "# import numpy as np   # a numerical library, give it the shorthand 'np'\n",
    "\n",
    "# read the newick format tree file, give it the name 'newick'\n",
    "newick = \"ape.nwk\" # change this to point at your .nwk treefile\n",
    "tre = toytree.tree(newick, tree_format=1)\n",
    "\n",
    "tre.draw();"
   ]
  },
  {
   "cell_type": "markdown",
   "metadata": {},
   "source": [
    "If you see a graphic image of a phylogenetic tree, congratulations! If not please ask for a little help, its probably a quick fix for a demonstrator.\n",
    "\n",
    "<h4><font color='Blue'>NOW ROOT THE TREE</font></h4>\n",
    "\n",
    "Your tree will probably look very odd because it isn't yet rooted correctly. Use the next cell to root it by entering \"Macaca\" (Macacque) instead of \"outgroup\""
   ]
  },
  {
   "cell_type": "code",
   "execution_count": 4,
   "metadata": {},
   "outputs": [
    {
     "data": {
      "text/html": [
       "<div class=\"toyplot\" id=\"t2daf8f793aed4698869496a9a1228aed\" style=\"text-align:center\"><svg class=\"toyplot-canvas-Canvas\" xmlns:toyplot=\"http://www.sandia.gov/toyplot\" xmlns:xlink=\"http://www.w3.org/1999/xlink\" xmlns=\"http://www.w3.org/2000/svg\" width=\"370.0px\" height=\"600.0px\" viewBox=\"0 0 370.0 600.0\" preserveAspectRatio=\"xMidYMid meet\" style=\"background-color:transparent;border-color:#292724;border-style:none;border-width:1.0;fill:rgb(16.1%,15.3%,14.1%);fill-opacity:1.0;font-family:Helvetica;font-size:12px;opacity:1.0;stroke:rgb(16.1%,15.3%,14.1%);stroke-opacity:1.0;stroke-width:1.0\" id=\"tdf700843d4ca4b5a8b1b9b669b9a3847\"><g class=\"toyplot-coordinates-Cartesian\" id=\"tfc55fe9315d5481da1dd267cc8b02912\"><clipPath id=\"tb88b27cb4e07462caf9b007b57fb498c\"><rect x=\"30.0\" y=\"30.0\" width=\"310.0\" height=\"540.0\"></rect></clipPath><g clip-path=\"url(#tb88b27cb4e07462caf9b007b57fb498c)\"><g class=\"toytree-mark-Toytree\" id=\"tab668cc879324c5195c76884690128f8\"><g class=\"toytree-Edges\" style=\"fill:none;stroke:rgb(14.9%,14.9%,14.9%);stroke-linecap:round;stroke-opacity:1;stroke-width:2\"><path d=\"M 51.0 164.3 L 51.0 266.5 L 114.5 266.5\" id=\"35,34\"></path><path d=\"M 114.5 266.5 L 114.5 151.2 L 160.3 151.2\" id=\"34,33\"></path><path d=\"M 114.5 266.5 L 114.5 381.8 L 158.8 381.8\" id=\"34,32\"></path><path d=\"M 160.3 151.2 L 160.3 108.3 L 182.4 108.3\" id=\"33,31\"></path><path d=\"M 160.3 151.2 L 160.3 194.2 L 165.5 194.2\" id=\"33,30\"></path><path d=\"M 158.8 381.8 L 158.8 323.1 L 167.6 323.1\" id=\"32,29\"></path><path d=\"M 158.8 381.8 L 158.8 440.5 L 176.9 440.5\" id=\"32,28\"></path><path d=\"M 182.4 108.3 L 182.4 128.1 L 182.4 128.1\" id=\"31,27\"></path><path d=\"M 165.5 194.2 L 165.5 220.7 L 166.7 220.7\" id=\"30,26\"></path><path d=\"M 167.6 323.1 L 167.6 346.3 L 168.8 346.3\" id=\"29,25\"></path><path d=\"M 176.9 440.5 L 176.9 475.2 L 178.1 475.2\" id=\"28,24\"></path><path d=\"M 166.7 220.7 L 166.7 247.1 L 166.7 247.1\" id=\"26,23\"></path><path d=\"M 168.8 346.3 L 168.8 366.1 L 170.0 366.1\" id=\"25,22\"></path><path d=\"M 178.1 475.2 L 178.1 445.4 L 178.1 445.4\" id=\"24,21\"></path><path d=\"M 178.1 475.2 L 178.1 504.9 L 181.6 504.9\" id=\"24,20\"></path><path d=\"M 181.6 504.9 L 181.6 524.8 L 187.6 524.8\" id=\"20,19\"></path><path d=\"M 51.0 164.3 L 51.0 62.0 L 114.5 62.0\" id=\"35,18\"></path><path d=\"M 182.4 108.3 L 182.4 88.4 L 184.8 88.4\" id=\"31,17\"></path><path d=\"M 182.4 128.1 L 182.4 114.9 L 186.0 114.9\" id=\"27,16\"></path><path d=\"M 182.4 128.1 L 182.4 141.3 L 183.6 141.3\" id=\"27,15\"></path><path d=\"M 165.5 194.2 L 165.5 167.8 L 167.7 167.8\" id=\"30,14\"></path><path d=\"M 166.7 220.7 L 166.7 194.2 L 167.9 194.2\" id=\"26,13\"></path><path d=\"M 166.7 247.1 L 166.7 220.7 L 166.7 220.7\" id=\"23,12\"></path><path d=\"M 166.7 247.1 L 166.7 247.1 L 166.7 247.1\" id=\"23,11\"></path><path d=\"M 166.7 247.1 L 166.7 273.6 L 166.7 273.6\" id=\"23,10\"></path><path d=\"M 167.6 323.1 L 167.6 300.0 L 167.6 300.0\" id=\"29,9\"></path><path d=\"M 168.8 346.3 L 168.8 326.4 L 168.8 326.4\" id=\"25,8\"></path><path d=\"M 170.0 366.1 L 170.0 352.9 L 172.3 352.9\" id=\"22,7\"></path><path d=\"M 170.0 366.1 L 170.0 379.3 L 170.0 379.3\" id=\"22,6\"></path><path d=\"M 176.9 440.5 L 176.9 405.8 L 176.9 405.8\" id=\"28,5\"></path><path d=\"M 178.1 445.4 L 178.1 432.2 L 178.1 432.2\" id=\"21,4\"></path><path d=\"M 178.1 445.4 L 178.1 458.7 L 179.2 458.7\" id=\"21,3\"></path><path d=\"M 181.6 504.9 L 181.6 485.1 L 187.6 485.1\" id=\"20,2\"></path><path d=\"M 187.6 524.8 L 187.6 511.6 L 187.6 511.6\" id=\"19,1\"></path><path d=\"M 187.6 524.8 L 187.6 538.0 L 188.8 538.0\" id=\"19,0\"></path></g><g class=\"toytree-AlignEdges\" style=\"stroke:rgb(66.3%,66.3%,66.3%);stroke-dasharray:2, 4;stroke-linecap:round;stroke-opacity:1.0;stroke-width:2\"><path d=\"M 188.8 538.0 L 188.8 538.0\"></path><path d=\"M 188.8 511.6 L 187.6 511.6\"></path><path d=\"M 188.8 485.1 L 187.6 485.1\"></path><path d=\"M 188.8 458.7 L 179.2 458.7\"></path><path d=\"M 188.8 432.2 L 178.1 432.2\"></path><path d=\"M 188.8 405.8 L 176.9 405.8\"></path><path d=\"M 188.8 379.3 L 170.0 379.3\"></path><path d=\"M 188.8 352.9 L 172.3 352.9\"></path><path d=\"M 188.8 326.4 L 168.8 326.4\"></path><path d=\"M 188.8 300.0 L 167.6 300.0\"></path><path d=\"M 188.8 273.6 L 166.7 273.6\"></path><path d=\"M 188.8 247.1 L 166.7 247.1\"></path><path d=\"M 188.8 220.7 L 166.7 220.7\"></path><path d=\"M 188.8 194.2 L 167.9 194.2\"></path><path d=\"M 188.8 167.8 L 167.7 167.8\"></path><path d=\"M 188.8 141.3 L 183.6 141.3\"></path><path d=\"M 188.8 114.9 L 186.0 114.9\"></path><path d=\"M 188.8 88.4 L 184.8 88.4\"></path><path d=\"M 188.8 62.0 L 114.5 62.0\"></path></g><g class=\"toytree-TipLabels\" style=\"fill:rgb(14.9%,14.9%,14.9%);fill-opacity:1.0;font-family:helvetica;font-size:11px;font-weight:normal;stroke:none;white-space:pre\"><g transform=\"translate(188.76,538.00)rotate(0)\"><text x=\"15.00\" y=\"2.81\" style=\"\">Pongo_abelii5</text></g><g transform=\"translate(188.76,511.56)rotate(0)\"><text x=\"15.00\" y=\"2.81\" style=\"\">Pongo_abelii4</text></g><g transform=\"translate(188.76,485.11)rotate(0)\"><text x=\"15.00\" y=\"2.81\" style=\"\">Pongo_abelii6</text></g><g transform=\"translate(188.76,458.67)rotate(0)\"><text x=\"15.00\" y=\"2.81\" style=\"\">Pongo_abelii3</text></g><g transform=\"translate(188.76,432.22)rotate(0)\"><text x=\"15.00\" y=\"2.81\" style=\"\">Pongo_abelii1</text></g><g transform=\"translate(188.76,405.78)rotate(0)\"><text x=\"15.00\" y=\"2.81\" style=\"\">Pongo_abelii2</text></g><g transform=\"translate(188.76,379.33)rotate(0)\"><text x=\"15.00\" y=\"2.81\" style=\"\">Pongo_pygmaeus_pygmaeus1</text></g><g transform=\"translate(188.76,352.89)rotate(0)\"><text x=\"15.00\" y=\"2.81\" style=\"\">Pongo_pygmaeus_pygmaeus4</text></g><g transform=\"translate(188.76,326.44)rotate(0)\"><text x=\"15.00\" y=\"2.81\" style=\"\">Pongo_pygmaeus_pygmaeus3</text></g><g transform=\"translate(188.76,300.00)rotate(0)\"><text x=\"15.00\" y=\"2.81\" style=\"\">Pongo_pygmaeus_pygmaeus2</text></g><g transform=\"translate(188.76,273.56)rotate(0)\"><text x=\"15.00\" y=\"2.81\" style=\"\">Pan_troglodytes5</text></g><g transform=\"translate(188.76,247.11)rotate(0)\"><text x=\"15.00\" y=\"2.81\" style=\"\">Pan_troglodytes4</text></g><g transform=\"translate(188.76,220.67)rotate(0)\"><text x=\"15.00\" y=\"2.81\" style=\"\">Pan_troglodytes3</text></g><g transform=\"translate(188.76,194.22)rotate(0)\"><text x=\"15.00\" y=\"2.81\" style=\"\">Pan_troglodytes1</text></g><g transform=\"translate(188.76,167.78)rotate(0)\"><text x=\"15.00\" y=\"2.81\" style=\"\">Pan_troglodytes6</text></g><g transform=\"translate(188.76,141.33)rotate(0)\"><text x=\"15.00\" y=\"2.81\" style=\"\">Pan_paniscus3</text></g><g transform=\"translate(188.76,114.89)rotate(0)\"><text x=\"15.00\" y=\"2.81\" style=\"\">Pan_paniscus2</text></g><g transform=\"translate(188.76,88.44)rotate(0)\"><text x=\"15.00\" y=\"2.81\" style=\"\">Pan_paniscus1</text></g><g transform=\"translate(188.76,62.00)rotate(0)\"><text x=\"15.00\" y=\"2.81\" style=\"\">Macaca_fascicularis</text></g></g></g></g></g></svg><div class=\"toyplot-behavior\"><script>(function()\n",
       "{\n",
       "var modules={};\n",
       "})();</script></div></div>"
      ]
     },
     "metadata": {},
     "output_type": "display_data"
    }
   ],
   "source": [
    "# ----------------\n",
    "# Root and re-draw\n",
    "# ----------------\n",
    "# root and draw the tree\n",
    "rtre = tre.root(wildcard=\"Macaca\") # specify the outgroup taxon\n",
    "rtre.draw(height=600, tip_labels_align=True); # draw the tree"
   ]
  },
  {
   "cell_type": "markdown",
   "metadata": {},
   "source": [
    "You should now have a tree that reveals a lot about the relationships betwen these species. It will be easier to interpret though when you put it into a report if you annotate and colour it by taxon."
   ]
  },
  {
   "cell_type": "markdown",
   "metadata": {},
   "source": [
    "<h4><font color='Blue'>NOW ANNOTATE THE TREE:</font></h4>\n",
    "Although you now have 'the answer' it is not so easy to study this tree. You will need to compare the divergences between the two species of orangutan and compare those to the divergences between the two species of chimpanzee. In this simple tree its not too hard, but in general phylogeneticists label and colour to maintain focus on the correct comaprisons. You are now going to use the script below to colour in the tips by their species identity. \n",
    "\n",
    "Run the cell and examine the tree"
   ]
  },
  {
   "cell_type": "code",
   "execution_count": 5,
   "metadata": {},
   "outputs": [
    {
     "data": {
      "text/html": [
       "<div class=\"toyplot\" id=\"t56c4955bf46e42ce9174bcb08b361788\" style=\"text-align:center\"><svg class=\"toyplot-canvas-Canvas\" xmlns:toyplot=\"http://www.sandia.gov/toyplot\" xmlns:xlink=\"http://www.w3.org/1999/xlink\" xmlns=\"http://www.w3.org/2000/svg\" width=\"600.0px\" height=\"600.0px\" viewBox=\"0 0 600.0 600.0\" preserveAspectRatio=\"xMidYMid meet\" style=\"background-color:transparent;border-color:#292724;border-style:none;border-width:1.0;fill:rgb(16.1%,15.3%,14.1%);fill-opacity:1.0;font-family:Helvetica;font-size:12px;opacity:1.0;stroke:rgb(16.1%,15.3%,14.1%);stroke-opacity:1.0;stroke-width:1.0\" id=\"tb1db67341024408ab90f656c2ed4eb80\"><g class=\"toyplot-coordinates-Cartesian\" id=\"taccb71f00c254b6d9c20a5d07607d412\"><clipPath id=\"tcec9538b6ec243f3948649f5aac3bd3b\"><rect x=\"30.0\" y=\"30.0\" width=\"540.0\" height=\"540.0\"></rect></clipPath><g clip-path=\"url(#tcec9538b6ec243f3948649f5aac3bd3b)\"><g class=\"toytree-mark-Toytree\" id=\"ta2c5c6dac89d44e1a577e74a4c8b32cb\"><g class=\"toytree-Edges\" style=\"fill:none;stroke:rgb(14.9%,14.9%,14.9%);stroke-linecap:round;stroke-opacity:1;stroke-width:2\"><path d=\"M 50.0 164.3 L 50.0 266.5 L 207.8 266.5\" id=\"35,34\"></path><path d=\"M 207.8 266.5 L 207.8 151.2 L 321.8 151.2\" id=\"34,33\"></path><path d=\"M 207.8 266.5 L 207.8 381.8 L 318.1 381.8\" id=\"34,32\"></path><path d=\"M 321.8 151.2 L 321.8 108.3 L 376.8 108.3\" id=\"33,31\"></path><path d=\"M 321.8 151.2 L 321.8 194.2 L 334.8 194.2\" id=\"33,30\"></path><path d=\"M 318.1 381.8 L 318.1 323.1 L 340.0 323.1\" id=\"32,29\"></path><path d=\"M 318.1 381.8 L 318.1 440.5 L 363.0 440.5\" id=\"32,28\"></path><path d=\"M 376.8 108.3 L 376.8 128.1 L 376.8 128.1\" id=\"31,27\"></path><path d=\"M 334.8 194.2 L 334.8 220.7 L 337.7 220.7\" id=\"30,26\"></path><path d=\"M 340.0 323.1 L 340.0 346.3 L 342.9 346.3\" id=\"29,25\"></path><path d=\"M 363.0 440.5 L 363.0 475.2 L 365.9 475.2\" id=\"28,24\"></path><path d=\"M 337.7 220.7 L 337.7 247.1 L 337.7 247.1\" id=\"26,23\"></path><path d=\"M 342.9 346.3 L 342.9 366.1 L 345.8 366.1\" id=\"25,22\"></path><path d=\"M 365.9 475.2 L 365.9 445.4 L 365.9 445.4\" id=\"24,21\"></path><path d=\"M 365.9 475.2 L 365.9 504.9 L 374.7 504.9\" id=\"24,20\"></path><path d=\"M 374.7 504.9 L 374.7 524.8 L 389.6 524.8\" id=\"20,19\"></path><path d=\"M 50.0 164.3 L 50.0 62.0 L 207.8 62.0\" id=\"35,18\"></path><path d=\"M 376.8 108.3 L 376.8 88.4 L 382.7 88.4\" id=\"31,17\"></path><path d=\"M 376.8 128.1 L 376.8 114.9 L 385.7 114.9\" id=\"27,16\"></path><path d=\"M 376.8 128.1 L 376.8 141.3 L 379.8 141.3\" id=\"27,15\"></path><path d=\"M 334.8 194.2 L 334.8 167.8 L 340.1 167.8\" id=\"30,14\"></path><path d=\"M 337.7 220.7 L 337.7 194.2 L 340.6 194.2\" id=\"26,13\"></path><path d=\"M 337.7 247.1 L 337.7 220.7 L 337.7 220.7\" id=\"23,12\"></path><path d=\"M 337.7 247.1 L 337.7 247.1 L 337.7 247.1\" id=\"23,11\"></path><path d=\"M 337.7 247.1 L 337.7 273.6 L 337.7 273.6\" id=\"23,10\"></path><path d=\"M 340.0 323.1 L 340.0 300.0 L 340.0 300.0\" id=\"29,9\"></path><path d=\"M 342.9 346.3 L 342.9 326.4 L 342.9 326.4\" id=\"25,8\"></path><path d=\"M 345.8 366.1 L 345.8 352.9 L 351.7 352.9\" id=\"22,7\"></path><path d=\"M 345.8 366.1 L 345.8 379.3 L 345.8 379.3\" id=\"22,6\"></path><path d=\"M 363.0 440.5 L 363.0 405.8 L 363.0 405.8\" id=\"28,5\"></path><path d=\"M 365.9 445.4 L 365.9 432.2 L 365.9 432.2\" id=\"21,4\"></path><path d=\"M 365.9 445.4 L 365.9 458.7 L 368.8 458.7\" id=\"21,3\"></path><path d=\"M 374.7 504.9 L 374.7 485.1 L 389.6 485.1\" id=\"20,2\"></path><path d=\"M 389.6 524.8 L 389.6 511.6 L 389.6 511.6\" id=\"19,1\"></path><path d=\"M 389.6 524.8 L 389.6 538.0 L 392.6 538.0\" id=\"19,0\"></path></g><g class=\"toytree-AlignEdges\" style=\"stroke:rgb(66.3%,66.3%,66.3%);stroke-dasharray:2, 4;stroke-linecap:round;stroke-opacity:1.0;stroke-width:2\"><path d=\"M 392.6 538.0 L 392.6 538.0\"></path><path d=\"M 392.6 511.6 L 389.6 511.6\"></path><path d=\"M 392.6 485.1 L 389.6 485.1\"></path><path d=\"M 392.6 458.7 L 368.8 458.7\"></path><path d=\"M 392.6 432.2 L 365.9 432.2\"></path><path d=\"M 392.6 405.8 L 363.0 405.8\"></path><path d=\"M 392.6 379.3 L 345.8 379.3\"></path><path d=\"M 392.6 352.9 L 351.7 352.9\"></path><path d=\"M 392.6 326.4 L 342.9 326.4\"></path><path d=\"M 392.6 300.0 L 340.0 300.0\"></path><path d=\"M 392.6 273.6 L 337.7 273.6\"></path><path d=\"M 392.6 247.1 L 337.7 247.1\"></path><path d=\"M 392.6 220.7 L 337.7 220.7\"></path><path d=\"M 392.6 194.2 L 340.6 194.2\"></path><path d=\"M 392.6 167.8 L 340.1 167.8\"></path><path d=\"M 392.6 141.3 L 379.8 141.3\"></path><path d=\"M 392.6 114.9 L 385.7 114.9\"></path><path d=\"M 392.6 88.4 L 382.7 88.4\"></path><path d=\"M 392.6 62.0 L 207.8 62.0\"></path></g><g class=\"toytree-Nodes\" style=\"fill:rgb(40%,76.1%,64.7%);fill-opacity:1.0;stroke:None;stroke-width:1\"><g id=\"node-0\" transform=\"translate(392.565,538.005)\"><rect x=\"-4.0\" y=\"-4.0\" width=\"8\" height=\"8\"></rect></g><g id=\"node-1\" transform=\"translate(389.645,511.560)\"><rect x=\"-4.0\" y=\"-4.0\" width=\"8\" height=\"8\"></rect></g><g id=\"node-2\" transform=\"translate(389.619,485.115)\"><rect x=\"-4.0\" y=\"-4.0\" width=\"8\" height=\"8\"></rect></g><g id=\"node-3\" transform=\"translate(368.849,458.670)\"><rect x=\"-4.0\" y=\"-4.0\" width=\"8\" height=\"8\"></rect></g><g id=\"node-4\" transform=\"translate(365.938,432.225)\"><rect x=\"-4.0\" y=\"-4.0\" width=\"8\" height=\"8\"></rect></g><g id=\"node-5\" transform=\"translate(363.024,405.780)\"><rect x=\"-4.0\" y=\"-4.0\" width=\"8\" height=\"8\"></rect></g><g id=\"node-6\" transform=\"translate(345.804,379.335)\"><rect x=\"-4.0\" y=\"-4.0\" width=\"8\" height=\"8\"></rect></g><g id=\"node-7\" transform=\"translate(351.665,352.890)\"><rect x=\"-4.0\" y=\"-4.0\" width=\"8\" height=\"8\"></rect></g><g id=\"node-8\" transform=\"translate(342.883,326.445)\"><rect x=\"-4.0\" y=\"-4.0\" width=\"8\" height=\"8\"></rect></g><g id=\"node-9\" transform=\"translate(339.962,300.000)\"><rect x=\"-4.0\" y=\"-4.0\" width=\"8\" height=\"8\"></rect></g><g id=\"node-10\" transform=\"translate(337.651,273.555)\"><rect x=\"-4.0\" y=\"-4.0\" width=\"8\" height=\"8\"></rect></g><g id=\"node-11\" transform=\"translate(337.651,247.110)\"><rect x=\"-4.0\" y=\"-4.0\" width=\"8\" height=\"8\"></rect></g><g id=\"node-12\" transform=\"translate(337.651,220.665)\"><rect x=\"-4.0\" y=\"-4.0\" width=\"8\" height=\"8\"></rect></g><g id=\"node-13\" transform=\"translate(340.573,194.220)\"><rect x=\"-4.0\" y=\"-4.0\" width=\"8\" height=\"8\"></rect></g><g id=\"node-14\" transform=\"translate(340.128,167.775)\"><rect x=\"-4.0\" y=\"-4.0\" width=\"8\" height=\"8\"></rect></g><g id=\"node-15\" transform=\"translate(379.756,141.330)\"><rect x=\"-4.0\" y=\"-4.0\" width=\"8\" height=\"8\"></rect></g><g id=\"node-16\" transform=\"translate(385.662,114.885)\"><rect x=\"-4.0\" y=\"-4.0\" width=\"8\" height=\"8\"></rect></g><g id=\"node-17\" transform=\"translate(382.711,88.440)\"><rect x=\"-4.0\" y=\"-4.0\" width=\"8\" height=\"8\"></rect></g><g id=\"node-18\" transform=\"translate(207.767,61.995)\"><rect x=\"-4.0\" y=\"-4.0\" width=\"8\" height=\"8\"></rect></g><g id=\"node-19\" transform=\"translate(389.645,524.782)\"><rect x=\"0.0\" y=\"0.0\" width=\"0\" height=\"0\"></rect></g><g id=\"node-20\" transform=\"translate(374.684,504.948)\"><rect x=\"0.0\" y=\"0.0\" width=\"0\" height=\"0\"></rect></g><g id=\"node-21\" transform=\"translate(365.938,445.447)\"><rect x=\"0.0\" y=\"0.0\" width=\"0\" height=\"0\"></rect></g><g id=\"node-22\" transform=\"translate(345.804,366.112)\"><rect x=\"0.0\" y=\"0.0\" width=\"0\" height=\"0\"></rect></g><g id=\"node-23\" transform=\"translate(337.651,247.110)\"><rect x=\"0.0\" y=\"0.0\" width=\"0\" height=\"0\"></rect></g><g id=\"node-24\" transform=\"translate(365.938,475.198)\"><rect x=\"0.0\" y=\"0.0\" width=\"0\" height=\"0\"></rect></g><g id=\"node-25\" transform=\"translate(342.883,346.279)\"><rect x=\"0.0\" y=\"0.0\" width=\"0\" height=\"0\"></rect></g><g id=\"node-26\" transform=\"translate(337.651,220.665)\"><rect x=\"0.0\" y=\"0.0\" width=\"0\" height=\"0\"></rect></g><g id=\"node-27\" transform=\"translate(376.809,128.108)\"><rect x=\"0.0\" y=\"0.0\" width=\"0\" height=\"0\"></rect></g><g id=\"node-28\" transform=\"translate(363.024,440.489)\"><rect x=\"0.0\" y=\"0.0\" width=\"0\" height=\"0\"></rect></g><g id=\"node-29\" transform=\"translate(339.962,323.139)\"><rect x=\"0.0\" y=\"0.0\" width=\"0\" height=\"0\"></rect></g><g id=\"node-30\" transform=\"translate(334.766,194.220)\"><rect x=\"0.0\" y=\"0.0\" width=\"0\" height=\"0\"></rect></g><g id=\"node-31\" transform=\"translate(376.809,108.274)\"><rect x=\"0.0\" y=\"0.0\" width=\"0\" height=\"0\"></rect></g><g id=\"node-32\" transform=\"translate(318.050,381.814)\"><rect x=\"0.0\" y=\"0.0\" width=\"0\" height=\"0\"></rect></g><g id=\"node-33\" transform=\"translate(321.821,151.247)\"><rect x=\"0.0\" y=\"0.0\" width=\"0\" height=\"0\"></rect></g><g id=\"node-34\" transform=\"translate(207.767,266.531)\"><rect x=\"0.0\" y=\"0.0\" width=\"0\" height=\"0\"></rect></g><g id=\"node-35\" transform=\"translate(50.000,164.263)\"><rect x=\"0.0\" y=\"0.0\" width=\"0\" height=\"0\"></rect></g></g><g class=\"toytree-TipLabels\" style=\"fill:rgb(14.9%,14.9%,14.9%);fill-opacity:1.0;font-family:helvetica;font-size:11px;font-weight:normal;stroke:none;white-space:pre\"><g transform=\"translate(392.56,538.00)rotate(0)\"><text x=\"15.00\" y=\"2.81\" style=\"fill:rgb(100%,0%,0%);fill-opacity:1.0\">Pongo_abelii5</text></g><g transform=\"translate(392.56,511.56)rotate(0)\"><text x=\"15.00\" y=\"2.81\" style=\"fill:rgb(100%,0%,0%);fill-opacity:1.0\">Pongo_abelii4</text></g><g transform=\"translate(392.56,485.11)rotate(0)\"><text x=\"15.00\" y=\"2.81\" style=\"fill:rgb(100%,0%,0%);fill-opacity:1.0\">Pongo_abelii6</text></g><g transform=\"translate(392.56,458.67)rotate(0)\"><text x=\"15.00\" y=\"2.81\" style=\"fill:rgb(100%,0%,0%);fill-opacity:1.0\">Pongo_abelii3</text></g><g transform=\"translate(392.56,432.22)rotate(0)\"><text x=\"15.00\" y=\"2.81\" style=\"fill:rgb(100%,0%,0%);fill-opacity:1.0\">Pongo_abelii1</text></g><g transform=\"translate(392.56,405.78)rotate(0)\"><text x=\"15.00\" y=\"2.81\" style=\"fill:rgb(100%,0%,0%);fill-opacity:1.0\">Pongo_abelii2</text></g><g transform=\"translate(392.56,379.33)rotate(0)\"><text x=\"15.00\" y=\"2.81\" style=\"fill:rgb(64.7%,16.5%,16.5%);fill-opacity:1.0\">Pongo_pygmaeus_pygmaeus1</text></g><g transform=\"translate(392.56,352.89)rotate(0)\"><text x=\"15.00\" y=\"2.81\" style=\"fill:rgb(64.7%,16.5%,16.5%);fill-opacity:1.0\">Pongo_pygmaeus_pygmaeus4</text></g><g transform=\"translate(392.56,326.44)rotate(0)\"><text x=\"15.00\" y=\"2.81\" style=\"fill:rgb(64.7%,16.5%,16.5%);fill-opacity:1.0\">Pongo_pygmaeus_pygmaeus3</text></g><g transform=\"translate(392.56,300.00)rotate(0)\"><text x=\"15.00\" y=\"2.81\" style=\"fill:rgb(64.7%,16.5%,16.5%);fill-opacity:1.0\">Pongo_pygmaeus_pygmaeus2</text></g><g transform=\"translate(392.56,273.56)rotate(0)\"><text x=\"15.00\" y=\"2.81\" style=\"fill:rgb(0%,0%,54.5%);fill-opacity:1.0\">Pan_troglodytes5</text></g><g transform=\"translate(392.56,247.11)rotate(0)\"><text x=\"15.00\" y=\"2.81\" style=\"fill:rgb(0%,0%,54.5%);fill-opacity:1.0\">Pan_troglodytes4</text></g><g transform=\"translate(392.56,220.67)rotate(0)\"><text x=\"15.00\" y=\"2.81\" style=\"fill:rgb(0%,0%,54.5%);fill-opacity:1.0\">Pan_troglodytes3</text></g><g transform=\"translate(392.56,194.22)rotate(0)\"><text x=\"15.00\" y=\"2.81\" style=\"fill:rgb(0%,0%,54.5%);fill-opacity:1.0\">Pan_troglodytes1</text></g><g transform=\"translate(392.56,167.78)rotate(0)\"><text x=\"15.00\" y=\"2.81\" style=\"fill:rgb(0%,0%,54.5%);fill-opacity:1.0\">Pan_troglodytes6</text></g><g transform=\"translate(392.56,141.33)rotate(0)\"><text x=\"15.00\" y=\"2.81\" style=\"fill:rgb(0%,0%,100%);fill-opacity:1.0\">Pan_paniscus3</text></g><g transform=\"translate(392.56,114.89)rotate(0)\"><text x=\"15.00\" y=\"2.81\" style=\"fill:rgb(0%,0%,100%);fill-opacity:1.0\">Pan_paniscus2</text></g><g transform=\"translate(392.56,88.44)rotate(0)\"><text x=\"15.00\" y=\"2.81\" style=\"fill:rgb(0%,0%,100%);fill-opacity:1.0\">Pan_paniscus1</text></g><g transform=\"translate(392.56,62.00)rotate(0)\"><text x=\"15.00\" y=\"2.81\" style=\"fill:rgb(32.5%,51.8%,63.9%);fill-opacity:1.0\">Macaca_fascicularis</text></g></g></g></g><g class=\"toyplot-coordinates-Axis\" id=\"t8c176e951d194bcb9c93281d9ad03714\" transform=\"translate(50.0,550.0)translate(0,20.0)\"><line x1=\"0\" y1=\"0\" x2=\"342.56491506149564\" y2=\"0\" style=\"\"></line><g><line x1=\"342.56491506149564\" y1=\"0\" x2=\"342.56491506149564\" y2=\"-5\" style=\"\"></line><line x1=\"274.0519320491965\" y1=\"0\" x2=\"274.0519320491965\" y2=\"-5\" style=\"\"></line><line x1=\"205.5389490368974\" y1=\"0\" x2=\"205.5389490368974\" y2=\"-5\" style=\"\"></line><line x1=\"137.0259660245983\" y1=\"0\" x2=\"137.0259660245983\" y2=\"-5\" style=\"\"></line><line x1=\"68.51298301229915\" y1=\"0\" x2=\"68.51298301229915\" y2=\"-5\" style=\"\"></line><line x1=\"0.0\" y1=\"0\" x2=\"0.0\" y2=\"-5\" style=\"\"></line></g><g><g transform=\"translate(342.56491506149564,6)\"><text x=\"-9.729999999999999\" y=\"8.555\" style=\"fill:rgb(16.1%,15.3%,14.1%);fill-opacity:1.0;font-family:helvetica;font-size:10.0px;font-weight:normal;stroke:none;vertical-align:baseline;white-space:pre\">0.00</text></g><g transform=\"translate(274.0519320491965,6)\"><text x=\"-9.729999999999999\" y=\"8.555\" style=\"fill:rgb(16.1%,15.3%,14.1%);fill-opacity:1.0;font-family:helvetica;font-size:10.0px;font-weight:normal;stroke:none;vertical-align:baseline;white-space:pre\">0.06</text></g><g transform=\"translate(205.5389490368974,6)\"><text x=\"-9.729999999999999\" y=\"8.555\" style=\"fill:rgb(16.1%,15.3%,14.1%);fill-opacity:1.0;font-family:helvetica;font-size:10.0px;font-weight:normal;stroke:none;vertical-align:baseline;white-space:pre\">0.11</text></g><g transform=\"translate(137.0259660245983,6)\"><text x=\"-9.729999999999999\" y=\"8.555\" style=\"fill:rgb(16.1%,15.3%,14.1%);fill-opacity:1.0;font-family:helvetica;font-size:10.0px;font-weight:normal;stroke:none;vertical-align:baseline;white-space:pre\">0.17</text></g><g transform=\"translate(68.51298301229915,6)\"><text x=\"-9.729999999999999\" y=\"8.555\" style=\"fill:rgb(16.1%,15.3%,14.1%);fill-opacity:1.0;font-family:helvetica;font-size:10.0px;font-weight:normal;stroke:none;vertical-align:baseline;white-space:pre\">0.23</text></g><g transform=\"translate(0.0,6)\"><text x=\"-9.729999999999999\" y=\"8.555\" style=\"fill:rgb(16.1%,15.3%,14.1%);fill-opacity:1.0;font-family:helvetica;font-size:10.0px;font-weight:normal;stroke:none;vertical-align:baseline;white-space:pre\">0.29</text></g></g><g class=\"toyplot-coordinates-Axis-coordinates\" style=\"visibility:hidden\" transform=\"\"><line x1=\"0\" x2=\"0\" y1=\"-3.0\" y2=\"4.5\" style=\"stroke:rgb(43.9%,50.2%,56.5%);stroke-opacity:1.0;stroke-width:1.0\"></line><text x=\"0\" y=\"-6\" style=\"alignment-baseline:alphabetic;fill:rgb(43.9%,50.2%,56.5%);fill-opacity:1.0;font-size:10px;font-weight:normal;stroke:none;text-anchor:middle\"></text></g></g></g></svg><div class=\"toyplot-behavior\"><script>(function()\n",
       "{\n",
       "var modules={};\n",
       "modules[\"toyplot/canvas/id\"] = \"tb1db67341024408ab90f656c2ed4eb80\";\n",
       "modules[\"toyplot/canvas\"] = (function(canvas_id)\n",
       "    {\n",
       "        return document.querySelector(\"#\" + canvas_id);\n",
       "    })(modules[\"toyplot/canvas/id\"]);\n",
       "modules[\"toyplot.coordinates.Axis\"] = (\n",
       "        function(canvas)\n",
       "        {\n",
       "            function sign(x)\n",
       "            {\n",
       "                return x < 0 ? -1 : x > 0 ? 1 : 0;\n",
       "            }\n",
       "\n",
       "            function mix(a, b, amount)\n",
       "            {\n",
       "                return ((1.0 - amount) * a) + (amount * b);\n",
       "            }\n",
       "\n",
       "            function log(x, base)\n",
       "            {\n",
       "                return Math.log(Math.abs(x)) / Math.log(base);\n",
       "            }\n",
       "\n",
       "            function in_range(a, x, b)\n",
       "            {\n",
       "                var left = Math.min(a, b);\n",
       "                var right = Math.max(a, b);\n",
       "                return left <= x && x <= right;\n",
       "            }\n",
       "\n",
       "            function inside(range, projection)\n",
       "            {\n",
       "                for(var i = 0; i != projection.length; ++i)\n",
       "                {\n",
       "                    var segment = projection[i];\n",
       "                    if(in_range(segment.range.min, range, segment.range.max))\n",
       "                        return true;\n",
       "                }\n",
       "                return false;\n",
       "            }\n",
       "\n",
       "            function to_domain(range, projection)\n",
       "            {\n",
       "                for(var i = 0; i != projection.length; ++i)\n",
       "                {\n",
       "                    var segment = projection[i];\n",
       "                    if(in_range(segment.range.bounds.min, range, segment.range.bounds.max))\n",
       "                    {\n",
       "                        if(segment.scale == \"linear\")\n",
       "                        {\n",
       "                            var amount = (range - segment.range.min) / (segment.range.max - segment.range.min);\n",
       "                            return mix(segment.domain.min, segment.domain.max, amount)\n",
       "                        }\n",
       "                        else if(segment.scale[0] == \"log\")\n",
       "                        {\n",
       "                            var amount = (range - segment.range.min) / (segment.range.max - segment.range.min);\n",
       "                            var base = segment.scale[1];\n",
       "                            return sign(segment.domain.min) * Math.pow(base, mix(log(segment.domain.min, base), log(segment.domain.max, base), amount));\n",
       "                        }\n",
       "                    }\n",
       "                }\n",
       "            }\n",
       "\n",
       "            var axes = {};\n",
       "\n",
       "            function display_coordinates(e)\n",
       "            {\n",
       "                var current = canvas.createSVGPoint();\n",
       "                current.x = e.clientX;\n",
       "                current.y = e.clientY;\n",
       "\n",
       "                for(var axis_id in axes)\n",
       "                {\n",
       "                    var axis = document.querySelector(\"#\" + axis_id);\n",
       "                    var coordinates = axis.querySelector(\".toyplot-coordinates-Axis-coordinates\");\n",
       "                    if(coordinates)\n",
       "                    {\n",
       "                        var projection = axes[axis_id];\n",
       "                        var local = current.matrixTransform(axis.getScreenCTM().inverse());\n",
       "                        if(inside(local.x, projection))\n",
       "                        {\n",
       "                            var domain = to_domain(local.x, projection);\n",
       "                            coordinates.style.visibility = \"visible\";\n",
       "                            coordinates.setAttribute(\"transform\", \"translate(\" + local.x + \")\");\n",
       "                            var text = coordinates.querySelector(\"text\");\n",
       "                            text.textContent = domain.toFixed(2);\n",
       "                        }\n",
       "                        else\n",
       "                        {\n",
       "                            coordinates.style.visibility= \"hidden\";\n",
       "                        }\n",
       "                    }\n",
       "                }\n",
       "            }\n",
       "\n",
       "            canvas.addEventListener(\"click\", display_coordinates);\n",
       "\n",
       "            var module = {};\n",
       "            module.show_coordinates = function(axis_id, projection)\n",
       "            {\n",
       "                axes[axis_id] = projection;\n",
       "            }\n",
       "\n",
       "            return module;\n",
       "        })(modules[\"toyplot/canvas\"]);\n",
       "(function(axis, axis_id, projection)\n",
       "        {\n",
       "            axis.show_coordinates(axis_id, projection);\n",
       "        })(modules[\"toyplot.coordinates.Axis\"],\"t8c176e951d194bcb9c93281d9ad03714\",[{\"domain\": {\"bounds\": {\"max\": Infinity, \"min\": -Infinity}, \"max\": 0.13187198928956498, \"min\": -0.28694186450000003}, \"range\": {\"bounds\": {\"max\": Infinity, \"min\": -Infinity}, \"max\": 500.0, \"min\": 0.0}, \"scale\": \"linear\"}]);\n",
       "})();</script></div></div>"
      ]
     },
     "metadata": {},
     "output_type": "display_data"
    }
   ],
   "source": [
    "# -----------------------------\n",
    "# Colouring the tree label text\n",
    "# -----------------------------\n",
    "\n",
    "# set list of colours depending on the taxon label text\n",
    "# numbers like \"#5384a3\" are colour 'hex' codes, cyan in\n",
    "# this case (google \"hex colour codes\" for other options)\n",
    "\n",
    "colorlist = [\"blue\" if \"Pan_paniscus\" in tip\n",
    "             else \"darkblue\" if \"Pan_troglodytes\" in tip \n",
    "             else \"red\" if \"Pongo_abelii\" in tip \n",
    "             else \"brown\" if \"Pongo_pygmaeus\" in tip\n",
    "             else \"#5384a3\" for tip in rtre.get_tip_labels()]\n",
    "\n",
    "# draw the tree\n",
    "canvas = rtre.draw(\n",
    "    width=600,  # set dimensions of the figure\n",
    "    height=600,\n",
    "    scalebar=True,  # scale bar of divergence levels\n",
    "    tip_labels_align=True,\n",
    "    tip_labels=True,\n",
    "    tip_labels_colors=colorlist,\n",
    "    node_labels=None,\n",
    "    node_sizes=[0 if i else 8 for i in rtre.get_node_values(None, 1, 0)],\n",
    "    node_markers=\"s\", # use \"o\" for circles instead of squares\n",
    "    node_colors=toytree.colors[0],\n",
    ")"
   ]
  },
  {
   "cell_type": "markdown",
   "metadata": {},
   "source": [
    "You now have all the skills to edit this script and change colours. Pick some ones you like and rerun."
   ]
  },
  {
   "cell_type": "markdown",
   "metadata": {},
   "source": [
    "<h3><font color=red>IMPORTANT, SAVE YOUR FILE</font></h3>\n",
    "Make sure that you save and take away a copy of you tree file image in a format suitable to insert into your final report. Run the cell below and then find the file in your working directory and save it somewhere accesible."
   ]
  },
  {
   "cell_type": "code",
   "execution_count": 6,
   "metadata": {},
   "outputs": [
    {
     "ename": "ValueError",
     "evalue": "Expected <class 'toyplot.canvas.Canvas'>, received <class 'tuple'>.",
     "output_type": "error",
     "traceback": [
      "\u001b[0;31m---------------------------------------------------------------------------\u001b[0m",
      "\u001b[0;31mValueError\u001b[0m                                Traceback (most recent call last)",
      "\u001b[0;32m<ipython-input-6-10b8c71be9f7>\u001b[0m in \u001b[0;36m<module>\u001b[0;34m\u001b[0m\n\u001b[1;32m      9\u001b[0m \u001b[0;34m\u001b[0m\u001b[0m\n\u001b[1;32m     10\u001b[0m \u001b[0;31m# draw graphics files\u001b[0m\u001b[0;34m\u001b[0m\u001b[0;34m\u001b[0m\u001b[0;34m\u001b[0m\u001b[0m\n\u001b[0;32m---> 11\u001b[0;31m \u001b[0mtoyplot\u001b[0m\u001b[0;34m.\u001b[0m\u001b[0msvg\u001b[0m\u001b[0;34m.\u001b[0m\u001b[0mrender\u001b[0m\u001b[0;34m(\u001b[0m\u001b[0mcanvas\u001b[0m\u001b[0;34m,\u001b[0m \u001b[0;34m\"ape.svg\"\u001b[0m\u001b[0;34m)\u001b[0m\u001b[0;34m\u001b[0m\u001b[0;34m\u001b[0m\u001b[0m\n\u001b[0m\u001b[1;32m     12\u001b[0m \u001b[0mtoyplot\u001b[0m\u001b[0;34m.\u001b[0m\u001b[0mpdf\u001b[0m\u001b[0;34m.\u001b[0m\u001b[0mrender\u001b[0m\u001b[0;34m(\u001b[0m\u001b[0mcanvas\u001b[0m\u001b[0;34m,\u001b[0m \u001b[0;34m\"ape.pdf\"\u001b[0m\u001b[0;34m)\u001b[0m\u001b[0;34m\u001b[0m\u001b[0;34m\u001b[0m\u001b[0m\n\u001b[1;32m     13\u001b[0m \u001b[0mtoyplot\u001b[0m\u001b[0;34m.\u001b[0m\u001b[0mhtml\u001b[0m\u001b[0;34m.\u001b[0m\u001b[0mrender\u001b[0m\u001b[0;34m(\u001b[0m\u001b[0mcanvas\u001b[0m\u001b[0;34m,\u001b[0m \u001b[0;34m\"ape.html\"\u001b[0m\u001b[0;34m)\u001b[0m\u001b[0;34m\u001b[0m\u001b[0;34m\u001b[0m\u001b[0m\n",
      "\u001b[0;32m~/miniconda3/envs/phylo-prac/lib/python3.9/site-packages/toyplot/svg.py\u001b[0m in \u001b[0;36mrender\u001b[0;34m(canvas, fobj, animation)\u001b[0m\n\u001b[1;32m     46\u001b[0m     \"\"\"\n\u001b[1;32m     47\u001b[0m \u001b[0;34m\u001b[0m\u001b[0m\n\u001b[0;32m---> 48\u001b[0;31m     \u001b[0mcanvas\u001b[0m \u001b[0;34m=\u001b[0m \u001b[0mtoyplot\u001b[0m\u001b[0;34m.\u001b[0m\u001b[0mrequire\u001b[0m\u001b[0;34m.\u001b[0m\u001b[0minstance\u001b[0m\u001b[0;34m(\u001b[0m\u001b[0mcanvas\u001b[0m\u001b[0;34m,\u001b[0m \u001b[0mtoyplot\u001b[0m\u001b[0;34m.\u001b[0m\u001b[0mcanvas\u001b[0m\u001b[0;34m.\u001b[0m\u001b[0mCanvas\u001b[0m\u001b[0;34m)\u001b[0m\u001b[0;34m\u001b[0m\u001b[0;34m\u001b[0m\u001b[0m\n\u001b[0m\u001b[1;32m     49\u001b[0m     \u001b[0mhtml\u001b[0m\u001b[0;34m,\u001b[0m \u001b[0mhtml_animation\u001b[0m \u001b[0;34m=\u001b[0m \u001b[0mtoyplot\u001b[0m\u001b[0;34m.\u001b[0m\u001b[0mhtml\u001b[0m\u001b[0;34m.\u001b[0m\u001b[0mrender\u001b[0m\u001b[0;34m(\u001b[0m\u001b[0mcanvas\u001b[0m\u001b[0;34m,\u001b[0m \u001b[0manimation\u001b[0m\u001b[0;34m=\u001b[0m\u001b[0;32mTrue\u001b[0m\u001b[0;34m)\u001b[0m\u001b[0;34m\u001b[0m\u001b[0;34m\u001b[0m\u001b[0m\n\u001b[1;32m     50\u001b[0m     \u001b[0msvg\u001b[0m \u001b[0;34m=\u001b[0m \u001b[0mhtml\u001b[0m\u001b[0;34m.\u001b[0m\u001b[0mfind\u001b[0m\u001b[0;34m(\u001b[0m\u001b[0;34m\"svg\"\u001b[0m\u001b[0;34m)\u001b[0m\u001b[0;34m\u001b[0m\u001b[0;34m\u001b[0m\u001b[0m\n",
      "\u001b[0;32m~/miniconda3/envs/phylo-prac/lib/python3.9/site-packages/toyplot/require.py\u001b[0m in \u001b[0;36minstance\u001b[0;34m(value, types)\u001b[0m\n\u001b[1;32m     13\u001b[0m     \u001b[0;34m\"\"\"Raise an exception if a value isn't one of the given type(s).\"\"\"\u001b[0m\u001b[0;34m\u001b[0m\u001b[0;34m\u001b[0m\u001b[0m\n\u001b[1;32m     14\u001b[0m     \u001b[0;32mif\u001b[0m \u001b[0;32mnot\u001b[0m \u001b[0misinstance\u001b[0m\u001b[0;34m(\u001b[0m\u001b[0mvalue\u001b[0m\u001b[0;34m,\u001b[0m \u001b[0mtypes\u001b[0m\u001b[0;34m)\u001b[0m\u001b[0;34m:\u001b[0m\u001b[0;34m\u001b[0m\u001b[0;34m\u001b[0m\u001b[0m\n\u001b[0;32m---> 15\u001b[0;31m         \u001b[0;32mraise\u001b[0m \u001b[0mValueError\u001b[0m\u001b[0;34m(\u001b[0m\u001b[0;34m\"Expected %s, received %s.\"\u001b[0m \u001b[0;34m%\u001b[0m \u001b[0;34m(\u001b[0m\u001b[0mtypes\u001b[0m\u001b[0;34m,\u001b[0m \u001b[0mtype\u001b[0m\u001b[0;34m(\u001b[0m\u001b[0mvalue\u001b[0m\u001b[0;34m)\u001b[0m\u001b[0;34m)\u001b[0m\u001b[0;34m)\u001b[0m \u001b[0;31m# pragma: no cover\u001b[0m\u001b[0;34m\u001b[0m\u001b[0;34m\u001b[0m\u001b[0m\n\u001b[0m\u001b[1;32m     16\u001b[0m     \u001b[0;32mreturn\u001b[0m \u001b[0mvalue\u001b[0m\u001b[0;34m\u001b[0m\u001b[0;34m\u001b[0m\u001b[0m\n\u001b[1;32m     17\u001b[0m \u001b[0;34m\u001b[0m\u001b[0m\n",
      "\u001b[0;31mValueError\u001b[0m: Expected <class 'toyplot.canvas.Canvas'>, received <class 'tuple'>."
     ]
    }
   ],
   "source": [
    "# --------------------------------\n",
    "# Save the tree as a graphics file\n",
    "# --------------------------------\n",
    "\n",
    "# import code to draw graphics files\n",
    "import toyplot.pdf\n",
    "import toyplot.svg\n",
    "import toyplot.html\n",
    "\n",
    "# draw graphics files\n",
    "toyplot.svg.render(canvas, \"ape.svg\")\n",
    "toyplot.pdf.render(canvas, \"ape.pdf\")\n",
    "toyplot.html.render(canvas, \"ape.html\")"
   ]
  },
  {
   "cell_type": "markdown",
   "metadata": {},
   "source": [
    "## Pause"
   ]
  },
  {
   "cell_type": "markdown",
   "metadata": {},
   "source": [
    "You have just loaded a data file, aligned it, quality controled the alignment, constructed a maximum likelihood phyogenetic tree, and created an annotated figure of the phylogeny. Well done!"
   ]
  },
  {
   "cell_type": "markdown",
   "metadata": {},
   "source": [
    "This was quite a lot of work to do the first time, trying to understand how to pass a specific data file through the analytical satges to create a phylogeny. Fortunately, as you learned above, doing it again on a different data file just requires a simple change, ie specifying a different file."
   ]
  },
  {
   "cell_type": "markdown",
   "metadata": {},
   "source": [
    "Below you can quite rapidly analyse a \"big ape\" data set, containing a lot more sequences, by rerunning the same commands with different data. It should not take long. In the second case study (below) we are going to swap from apes to HIV, but again it should be rapid because the commands will be very similar."
   ]
  },
  {
   "cell_type": "markdown",
   "metadata": {},
   "source": [
    "<h4><font color='Blue'>SPECIES DIFFERENTIATION</font></h4>\n",
    "Looking at the tree, it would seem the two *Pan* clades are as distant from each other as the two *Pongo* clades\n",
    " \n",
    "The scale along the bottom is genetic distances from 0 to 1, so 0.06 would be 6%. Find the common ancestor node of each genus. What is the distance between the common ancestor of both Pan species and the tree tips? What is that value for Pongo? Is it very different."
   ]
  },
  {
   "cell_type": "markdown",
   "metadata": {},
   "source": [
    "<hr>\n",
    "<h2><font color='Blue'>A big data analysis of great apes</font></h2>\n",
    "\n",
    "One very useful aspect of using code to carry out analyses is that once you have written it, and it works, its very little effort to re-run it again on any number or any size of other data sets.\n",
    "\n",
    "Here I have collected from GenBank whole mitochondrial genomes (about 16,000 nucleotides) from a lot of great apes including humas, neanderthals, and species of gorillas in addition to the species you have just analysed. The file is large but we can just run the same code again. If you want to find out how much data you have, you could insert a cell and paste in the code to quantify sequences (from the ape example) and run it for the big_ape dataset. This is optional. For efficiency reasons I've compressed the code below a little, but its the same as you have just run.\n",
    "\n",
    "This big analysis gives you the opportunity to decide whether the similarity of divergence between groups that you have just observed is true more widely. When the class have produced their big trees we will all discuss what the divergence levels might mean. If you want to find out how much data you are analysing you can copy and paste the \"how much data do you have?\" cell from above, and run it here (on the new fasta file). But that is optional."
   ]
  },
  {
   "cell_type": "markdown",
   "metadata": {},
   "source": [
    "Run this cell to align, trim the alignment, and then build a tree. It might take a few minutes to complete. When there is a number not an asterisk in the left margin then it is complete."
   ]
  },
  {
   "cell_type": "code",
   "execution_count": 7,
   "metadata": {},
   "outputs": [
    {
     "name": "stdout",
     "output_type": "stream",
     "text": [
      "\n",
      "The sequence alignment has finished\n",
      "The alignment trimming has finished\n",
      "The phylogenetic tree construction has started\n",
      "\n",
      "FastTree Version 2.1.10 Double precision (No SSE3)\n",
      "Alignment: big_ape_trimmed.afa\n",
      "Nucleotide distances: Jukes-Cantor Joins: balanced Support: SH-like 1000\n",
      "Search: Normal +NNI +SPR (2 rounds range 10) +ML-NNI opt-each=1\n",
      "TopHits: 1.00*sqrtN close=default refresh=0.80\n",
      "ML Model: Generalized Time-Reversible, CAT approximation with 20 rate categories\n",
      "Ignored unknown character n (seen 42 times)\n",
      "Ignored unknown character r (seen 1 times)\n",
      "Ignored unknown character s (seen 1 times)\n",
      "Initial topology in 0.26 seconds\n",
      "Refining topology: 23 rounds ME-NNIs, 2 rounds ME-SPRs, 11 rounds ML-NNIs\n",
      "Total branch-length 0.536 after 3.67 sec3, 1 of 49 splits   \n",
      "ML-NNI round 1: LogLk = -77072.124 NNIs 4 max delta 7.85 Time 5.47\n",
      "GTR Frequencies: 0.3092 0.3142 0.1304 0.2462ep 12 of 12   \n",
      "GTR rates(ac ag at cg ct gt) 5.1842 40.6082 3.0165 1.5506 43.5488 1.0000\n",
      "Switched to using 20 rate categories (CAT approximation)19 of 20   \n",
      "Rate categories were divided by 0.742 so that average rate = 1.0\n",
      "CAT-based log-likelihoods may not be comparable across runs\n",
      "Use -gamma for approximate but comparable Gamma(20) log-likelihoods\n",
      "ML-NNI round 2: LogLk = -65713.209 NNIs 1 max delta 0.00 Time 14.51\n",
      "Turning off heuristics for final round of ML NNIs (converged)\n",
      "ML-NNI round 3: LogLk = -65710.620 NNIs 0 max delta 0.00 Time 16.57 (final)\n",
      "Optimize all lengths: LogLk = -65710.620 Time 17.11\n",
      "Total time: 22.21 seconds Unique: 51/53 Bad splits: 0/48\n",
      "\n",
      "The phylogenetic analysis has finished\n"
     ]
    }
   ],
   "source": [
    "# Align\n",
    "!mafft --auto --quiet data/big_ape.fas > big_ape.afa\n",
    "print(\"\\nThe sequence alignment has finished\")\n",
    "# Trim\n",
    "!trimal -in big_ape.afa -out big_ape_trimmed.afa -gappyout -keepheader\n",
    "print(\"The alignment trimming has finished\")\n",
    "# Tree build\n",
    "print(\"The phylogenetic tree construction has started\\n\")\n",
    "!FastTree -gtr -nt big_ape_trimmed.afa > big_ape.nwk\n",
    "print(\"\\nThe phylogenetic analysis has finished\")"
   ]
  },
  {
   "cell_type": "markdown",
   "metadata": {},
   "source": [
    "Expect this to take a couple of minutes. Remember if there is an asterisk in the top left \"`In [*]:`\" then it is still working, when it is a number it is finished. \n",
    "\n",
    "If this completed without errors then you can just run the cell below and see the output tree. You may want to adjust colours and re-run a few times. If you had an error, see if you can spot what went wrong, but seek assistance if not."
   ]
  },
  {
   "cell_type": "code",
   "execution_count": 9,
   "metadata": {},
   "outputs": [
    {
     "ename": "ValueError",
     "evalue": "too many values to unpack (expected 2)",
     "output_type": "error",
     "traceback": [
      "\u001b[0;31m---------------------------------------------------------------------------\u001b[0m",
      "\u001b[0;31mValueError\u001b[0m                                Traceback (most recent call last)",
      "\u001b[0;32m<ipython-input-9-7520a4a7e915>\u001b[0m in \u001b[0;36m<module>\u001b[0;34m\u001b[0m\n\u001b[1;32m     29\u001b[0m              else \"#5384a3\" for tip in brtre.get_tip_labels()] # cyan\n\u001b[1;32m     30\u001b[0m \u001b[0;34m\u001b[0m\u001b[0m\n\u001b[0;32m---> 31\u001b[0;31m canvas, axes = brtre.draw(\n\u001b[0m\u001b[1;32m     32\u001b[0m     \u001b[0mwidth\u001b[0m\u001b[0;34m=\u001b[0m\u001b[0;36m800\u001b[0m\u001b[0;34m,\u001b[0m  \u001b[0;31m# set dimensions of the figure\u001b[0m\u001b[0;34m\u001b[0m\u001b[0;34m\u001b[0m\u001b[0m\n\u001b[1;32m     33\u001b[0m     \u001b[0mheight\u001b[0m\u001b[0;34m=\u001b[0m\u001b[0;36m1600\u001b[0m\u001b[0;34m,\u001b[0m\u001b[0;34m\u001b[0m\u001b[0;34m\u001b[0m\u001b[0m\n",
      "\u001b[0;31mValueError\u001b[0m: too many values to unpack (expected 2)"
     ]
    },
    {
     "data": {
      "text/html": [
       "<div class=\"toyplot\" id=\"t49ecbed9036143df90e9fe838a7accec\" style=\"text-align:center\"><svg class=\"toyplot-canvas-Canvas\" xmlns:toyplot=\"http://www.sandia.gov/toyplot\" xmlns:xlink=\"http://www.w3.org/1999/xlink\" xmlns=\"http://www.w3.org/2000/svg\" width=\"800.0px\" height=\"1600.0px\" viewBox=\"0 0 800.0 1600.0\" preserveAspectRatio=\"xMidYMid meet\" style=\"background-color:transparent;border-color:#292724;border-style:none;border-width:1.0;fill:rgb(16.1%,15.3%,14.1%);fill-opacity:1.0;font-family:Helvetica;font-size:12px;opacity:1.0;stroke:rgb(16.1%,15.3%,14.1%);stroke-opacity:1.0;stroke-width:1.0\" id=\"tbf98bed6c56241a5b0a54a4739ca5dad\"><g class=\"toyplot-coordinates-Cartesian\" id=\"t9e9b4525179046359a1f88bf85ca9f67\"><clipPath id=\"t0a3f06b4092b4f8995fa3232a240333a\"><rect x=\"30.0\" y=\"30.0\" width=\"740.0\" height=\"1540.0\"></rect></clipPath><g clip-path=\"url(#t0a3f06b4092b4f8995fa3232a240333a)\"><g class=\"toytree-mark-Toytree\" id=\"tb4369ec579a746559d9757247e5a5f98\"><g class=\"toytree-Edges\" style=\"fill:none;stroke:rgb(14.9%,14.9%,14.9%);stroke-linecap:round;stroke-opacity:1;stroke-width:2\"><path d=\"M 50.0 323.1 L 50.0 583.7 L 198.2 583.7\" id=\"104,103\"></path><path d=\"M 198.2 583.7 L 198.2 274.1 L 370.4 274.1\" id=\"103,102\"></path><path d=\"M 198.2 583.7 L 198.2 893.4 L 298.6 893.4\" id=\"103,101\"></path><path d=\"M 370.4 274.1 L 370.4 156.4 L 400.5 156.4\" id=\"102,100\"></path><path d=\"M 370.4 274.1 L 370.4 391.7 L 426.1 391.7\" id=\"102,99\"></path><path d=\"M 298.6 893.4 L 298.6 721.1 L 417.3 721.1\" id=\"101,98\"></path><path d=\"M 298.6 893.4 L 298.6 1065.7 L 342.9 1065.7\" id=\"101,97\"></path><path d=\"M 400.5 156.4 L 400.5 112.0 L 451.4 112.0\" id=\"100,96\"></path><path d=\"M 400.5 156.4 L 400.5 200.7 L 458.6 200.7\" id=\"100,95\"></path><path d=\"M 426.1 391.7 L 426.1 314.2 L 443.8 314.2\" id=\"99,94\"></path><path d=\"M 426.1 391.7 L 426.1 469.3 L 431.3 469.3\" id=\"99,93\"></path><path d=\"M 417.3 721.1 L 417.3 672.3 L 459.4 672.3\" id=\"98,92\"></path><path d=\"M 417.3 721.1 L 417.3 769.9 L 450.2 769.9\" id=\"98,91\"></path><path d=\"M 342.9 1065.7 L 342.9 941.8 L 437.6 941.8\" id=\"97,90\"></path><path d=\"M 342.9 1065.7 L 342.9 1189.6 L 419.9 1189.6\" id=\"97,89\"></path><path d=\"M 451.4 112.0 L 451.4 133.3 L 451.7 133.3\" id=\"96,88\"></path><path d=\"M 458.6 200.7 L 458.6 225.5 L 459.2 225.5\" id=\"95,87\"></path><path d=\"M 443.8 314.2 L 443.8 339.0 L 443.8 339.0\" id=\"94,86\"></path><path d=\"M 431.3 469.3 L 431.3 424.1 L 450.8 424.1\" id=\"93,85\"></path><path d=\"M 431.3 469.3 L 431.3 514.5 L 449.1 514.5\" id=\"93,84\"></path><path d=\"M 459.4 672.3 L 459.4 644.0 L 459.4 644.0\" id=\"92,83\"></path><path d=\"M 459.4 672.3 L 459.4 700.7 L 459.6 700.7\" id=\"92,82\"></path><path d=\"M 450.2 769.9 L 450.2 796.5 L 458.2 796.5\" id=\"91,81\"></path><path d=\"M 437.6 941.8 L 437.6 899.3 L 460.3 899.3\" id=\"90,80\"></path><path d=\"M 437.6 941.8 L 437.6 984.4 L 452.3 984.4\" id=\"90,79\"></path><path d=\"M 419.9 1189.6 L 419.9 1080.1 L 460.4 1080.1\" id=\"89,78\"></path><path d=\"M 419.9 1189.6 L 419.9 1299.1 L 445.9 1299.1\" id=\"89,77\"></path><path d=\"M 459.2 225.5 L 459.2 246.8 L 459.2 246.8\" id=\"87,76\"></path><path d=\"M 443.8 339.0 L 443.8 360.3 L 443.9 360.3\" id=\"86,75\"></path><path d=\"M 450.8 424.1 L 450.8 445.4 L 451.0 445.4\" id=\"85,74\"></path><path d=\"M 449.1 514.5 L 449.1 541.1 L 449.3 541.1\" id=\"84,73\"></path><path d=\"M 458.2 796.5 L 458.2 821.3 L 460.5 821.3\" id=\"81,72\"></path><path d=\"M 452.3 984.4 L 452.3 956.0 L 465.9 956.0\" id=\"79,71\"></path><path d=\"M 452.3 984.4 L 452.3 1012.8 L 465.5 1012.8\" id=\"79,70\"></path><path d=\"M 460.4 1080.1 L 460.4 1105.0 L 462.3 1105.0\" id=\"78,69\"></path><path d=\"M 445.9 1299.1 L 445.9 1195.4 L 468.0 1195.4\" id=\"77,68\"></path><path d=\"M 445.9 1299.1 L 445.9 1402.9 L 460.0 1402.9\" id=\"77,67\"></path><path d=\"M 449.3 541.1 L 449.3 566.0 L 449.6 566.0\" id=\"73,66\"></path><path d=\"M 460.5 821.3 L 460.5 842.6 L 460.6 842.6\" id=\"72,65\"></path><path d=\"M 462.3 1105.0 L 462.3 1126.2 L 469.1 1126.2\" id=\"69,64\"></path><path d=\"M 468.0 1195.4 L 468.0 1222.0 L 468.8 1222.0\" id=\"68,63\"></path><path d=\"M 460.0 1402.9 L 460.0 1335.5 L 470.0 1335.5\" id=\"67,62\"></path><path d=\"M 460.0 1402.9 L 460.0 1470.2 L 469.2 1470.2\" id=\"67,61\"></path><path d=\"M 449.6 566.0 L 449.6 587.2 L 449.9 587.2\" id=\"66,60\"></path><path d=\"M 468.8 1222.0 L 468.8 1246.8 L 469.1 1246.8\" id=\"63,59\"></path><path d=\"M 470.0 1335.5 L 470.0 1360.3 L 473.7 1360.3\" id=\"62,58\"></path><path d=\"M 469.2 1470.2 L 469.2 1438.3 L 469.8 1438.3\" id=\"61,57\"></path><path d=\"M 469.2 1470.2 L 469.2 1502.1 L 471.9 1502.1\" id=\"61,56\"></path><path d=\"M 469.1 1246.8 L 469.1 1268.1 L 469.6 1268.1\" id=\"59,55\"></path><path d=\"M 473.7 1360.3 L 473.7 1381.6 L 474.5 1381.6\" id=\"58,54\"></path><path d=\"M 471.9 1502.1 L 471.9 1523.4 L 472.9 1523.4\" id=\"56,53\"></path><path d=\"M 50.0 323.1 L 50.0 62.4 L 198.2 62.4\" id=\"104,52\"></path><path d=\"M 451.4 112.0 L 451.4 90.8 L 451.6 90.8\" id=\"96,51\"></path><path d=\"M 451.7 133.3 L 451.7 119.1 L 452.2 119.1\" id=\"88,50\"></path><path d=\"M 451.7 133.3 L 451.7 147.5 L 451.7 147.5\" id=\"88,49\"></path><path d=\"M 458.6 200.7 L 458.6 175.9 L 459.3 175.9\" id=\"95,48\"></path><path d=\"M 459.2 225.5 L 459.2 204.2 L 459.2 204.2\" id=\"87,47\"></path><path d=\"M 459.2 246.8 L 459.2 232.6 L 459.2 232.6\" id=\"76,46\"></path><path d=\"M 459.2 246.8 L 459.2 261.0 L 459.2 261.0\" id=\"76,45\"></path><path d=\"M 443.8 314.2 L 443.8 289.3 L 444.2 289.3\" id=\"94,44\"></path><path d=\"M 443.8 339.0 L 443.8 317.7 L 443.8 317.7\" id=\"86,43\"></path><path d=\"M 443.9 360.3 L 443.9 346.1 L 443.9 346.1\" id=\"75,42\"></path><path d=\"M 443.9 360.3 L 443.9 374.5 L 443.9 374.5\" id=\"75,41\"></path><path d=\"M 450.8 424.1 L 450.8 402.8 L 450.8 402.8\" id=\"85,40\"></path><path d=\"M 451.0 445.4 L 451.0 431.2 L 451.1 431.2\" id=\"74,39\"></path><path d=\"M 451.0 445.4 L 451.0 459.6 L 451.0 459.6\" id=\"74,38\"></path><path d=\"M 449.1 514.5 L 449.1 487.9 L 449.3 487.9\" id=\"84,37\"></path><path d=\"M 449.3 541.1 L 449.3 516.3 L 449.3 516.3\" id=\"73,36\"></path><path d=\"M 449.6 566.0 L 449.6 544.7 L 449.6 544.7\" id=\"66,35\"></path><path d=\"M 449.9 587.2 L 449.9 573.0 L 449.9 573.0\" id=\"60,34\"></path><path d=\"M 449.9 587.2 L 449.9 601.4 L 449.9 601.4\" id=\"60,33\"></path><path d=\"M 459.4 644.0 L 459.4 629.8 L 459.4 629.8\" id=\"83,32\"></path><path d=\"M 459.4 644.0 L 459.4 658.2 L 459.4 658.2\" id=\"83,31\"></path><path d=\"M 459.6 700.7 L 459.6 686.5 L 459.6 686.5\" id=\"82,30\"></path><path d=\"M 459.6 700.7 L 459.6 714.9 L 459.7 714.9\" id=\"82,29\"></path><path d=\"M 450.2 769.9 L 450.2 743.3 L 462.1 743.3\" id=\"91,28\"></path><path d=\"M 458.2 796.5 L 458.2 771.6 L 462.0 771.6\" id=\"81,27\"></path><path d=\"M 460.5 821.3 L 460.5 800.0 L 460.5 800.0\" id=\"72,26\"></path><path d=\"M 460.6 842.6 L 460.6 828.4 L 462.5 828.4\" id=\"65,25\"></path><path d=\"M 460.6 842.6 L 460.6 856.7 L 460.6 856.7\" id=\"65,24\"></path><path d=\"M 460.3 899.3 L 460.3 885.1 L 462.2 885.1\" id=\"80,23\"></path><path d=\"M 460.3 899.3 L 460.3 913.5 L 462.7 913.5\" id=\"80,22\"></path><path d=\"M 465.9 956.0 L 465.9 941.8 L 468.0 941.8\" id=\"71,21\"></path><path d=\"M 465.9 956.0 L 465.9 970.2 L 467.6 970.2\" id=\"71,20\"></path><path d=\"M 465.5 1012.8 L 465.5 998.6 L 466.3 998.6\" id=\"70,19\"></path><path d=\"M 465.5 1012.8 L 465.5 1027.0 L 466.2 1027.0\" id=\"70,18\"></path><path d=\"M 460.4 1080.1 L 460.4 1055.3 L 470.0 1055.3\" id=\"78,17\"></path><path d=\"M 462.3 1105.0 L 462.3 1083.7 L 472.8 1083.7\" id=\"69,16\"></path><path d=\"M 469.1 1126.2 L 469.1 1112.1 L 473.3 1112.1\" id=\"64,15\"></path><path d=\"M 469.1 1126.2 L 469.1 1140.4 L 473.9 1140.4\" id=\"64,14\"></path><path d=\"M 468.0 1195.4 L 468.0 1168.8 L 469.8 1168.8\" id=\"68,13\"></path><path d=\"M 468.8 1222.0 L 468.8 1197.2 L 471.5 1197.2\" id=\"63,12\"></path><path d=\"M 469.1 1246.8 L 469.1 1225.5 L 471.1 1225.5\" id=\"59,11\"></path><path d=\"M 469.6 1268.1 L 469.6 1253.9 L 471.4 1253.9\" id=\"55,10\"></path><path d=\"M 469.6 1268.1 L 469.6 1282.3 L 471.8 1282.3\" id=\"55,9\"></path><path d=\"M 470.0 1335.5 L 470.0 1310.7 L 474.6 1310.7\" id=\"62,8\"></path><path d=\"M 473.7 1360.3 L 473.7 1339.0 L 475.5 1339.0\" id=\"58,7\"></path><path d=\"M 474.5 1381.6 L 474.5 1367.4 L 475.9 1367.4\" id=\"54,6\"></path><path d=\"M 474.5 1381.6 L 474.5 1395.8 L 475.8 1395.8\" id=\"54,5\"></path><path d=\"M 469.8 1438.3 L 469.8 1424.1 L 477.8 1424.1\" id=\"57,4\"></path><path d=\"M 469.8 1438.3 L 469.8 1452.5 L 473.8 1452.5\" id=\"57,3\"></path><path d=\"M 471.9 1502.1 L 471.9 1480.9 L 475.4 1480.9\" id=\"56,2\"></path><path d=\"M 472.9 1523.4 L 472.9 1509.2 L 473.6 1509.2\" id=\"53,1\"></path><path d=\"M 472.9 1523.4 L 472.9 1537.6 L 474.6 1537.6\" id=\"53,0\"></path></g><g class=\"toytree-AlignEdges\" style=\"stroke:rgb(66.3%,66.3%,66.3%);stroke-dasharray:2, 4;stroke-linecap:round;stroke-opacity:1.0;stroke-width:2\"><path d=\"M 477.8 1537.6 L 474.6 1537.6\"></path><path d=\"M 477.8 1509.2 L 473.6 1509.2\"></path><path d=\"M 477.8 1480.9 L 475.4 1480.9\"></path><path d=\"M 477.8 1452.5 L 473.8 1452.5\"></path><path d=\"M 477.8 1424.1 L 477.8 1424.1\"></path><path d=\"M 477.8 1395.8 L 475.8 1395.8\"></path><path d=\"M 477.8 1367.4 L 475.9 1367.4\"></path><path d=\"M 477.8 1339.0 L 475.5 1339.0\"></path><path d=\"M 477.8 1310.7 L 474.6 1310.7\"></path><path d=\"M 477.8 1282.3 L 471.8 1282.3\"></path><path d=\"M 477.8 1253.9 L 471.4 1253.9\"></path><path d=\"M 477.8 1225.5 L 471.1 1225.5\"></path><path d=\"M 477.8 1197.2 L 471.5 1197.2\"></path><path d=\"M 477.8 1168.8 L 469.8 1168.8\"></path><path d=\"M 477.8 1140.4 L 473.9 1140.4\"></path><path d=\"M 477.8 1112.1 L 473.3 1112.1\"></path><path d=\"M 477.8 1083.7 L 472.8 1083.7\"></path><path d=\"M 477.8 1055.3 L 470.0 1055.3\"></path><path d=\"M 477.8 1027.0 L 466.2 1027.0\"></path><path d=\"M 477.8 998.6 L 466.3 998.6\"></path><path d=\"M 477.8 970.2 L 467.6 970.2\"></path><path d=\"M 477.8 941.8 L 468.0 941.8\"></path><path d=\"M 477.8 913.5 L 462.7 913.5\"></path><path d=\"M 477.8 885.1 L 462.2 885.1\"></path><path d=\"M 477.8 856.7 L 460.6 856.7\"></path><path d=\"M 477.8 828.4 L 462.5 828.4\"></path><path d=\"M 477.8 800.0 L 460.5 800.0\"></path><path d=\"M 477.8 771.6 L 462.0 771.6\"></path><path d=\"M 477.8 743.3 L 462.1 743.3\"></path><path d=\"M 477.8 714.9 L 459.7 714.9\"></path><path d=\"M 477.8 686.5 L 459.6 686.5\"></path><path d=\"M 477.8 658.2 L 459.4 658.2\"></path><path d=\"M 477.8 629.8 L 459.4 629.8\"></path><path d=\"M 477.8 601.4 L 449.9 601.4\"></path><path d=\"M 477.8 573.0 L 449.9 573.0\"></path><path d=\"M 477.8 544.7 L 449.6 544.7\"></path><path d=\"M 477.8 516.3 L 449.3 516.3\"></path><path d=\"M 477.8 487.9 L 449.3 487.9\"></path><path d=\"M 477.8 459.6 L 451.0 459.6\"></path><path d=\"M 477.8 431.2 L 451.1 431.2\"></path><path d=\"M 477.8 402.8 L 450.8 402.8\"></path><path d=\"M 477.8 374.5 L 443.9 374.5\"></path><path d=\"M 477.8 346.1 L 443.9 346.1\"></path><path d=\"M 477.8 317.7 L 443.8 317.7\"></path><path d=\"M 477.8 289.3 L 444.2 289.3\"></path><path d=\"M 477.8 261.0 L 459.2 261.0\"></path><path d=\"M 477.8 232.6 L 459.2 232.6\"></path><path d=\"M 477.8 204.2 L 459.2 204.2\"></path><path d=\"M 477.8 175.9 L 459.3 175.9\"></path><path d=\"M 477.8 147.5 L 451.7 147.5\"></path><path d=\"M 477.8 119.1 L 452.2 119.1\"></path><path d=\"M 477.8 90.8 L 451.6 90.8\"></path><path d=\"M 477.8 62.4 L 198.2 62.4\"></path></g><g class=\"toytree-Nodes\" style=\"fill:rgb(40%,76.1%,64.7%);fill-opacity:1.0;stroke:None;stroke-width:1\"><g id=\"node-0\" transform=\"translate(474.573,1537.608)\"><circle r=\"4.0\"></circle></g><g id=\"node-1\" transform=\"translate(473.569,1509.239)\"><circle r=\"4.0\"></circle></g><g id=\"node-2\" transform=\"translate(475.354,1480.869)\"><circle r=\"4.0\"></circle></g><g id=\"node-3\" transform=\"translate(473.834,1452.500)\"><circle r=\"4.0\"></circle></g><g id=\"node-4\" transform=\"translate(477.820,1424.130)\"><circle r=\"4.0\"></circle></g><g id=\"node-5\" transform=\"translate(475.750,1395.760)\"><circle r=\"4.0\"></circle></g><g id=\"node-6\" transform=\"translate(475.897,1367.391)\"><circle r=\"4.0\"></circle></g><g id=\"node-7\" transform=\"translate(475.511,1339.021)\"><circle r=\"4.0\"></circle></g><g id=\"node-8\" transform=\"translate(474.555,1310.652)\"><circle r=\"4.0\"></circle></g><g id=\"node-9\" transform=\"translate(471.759,1282.282)\"><circle r=\"4.0\"></circle></g><g id=\"node-10\" transform=\"translate(471.392,1253.913)\"><circle r=\"4.0\"></circle></g><g id=\"node-11\" transform=\"translate(471.087,1225.543)\"><circle r=\"4.0\"></circle></g><g id=\"node-12\" transform=\"translate(471.521,1197.174)\"><circle r=\"4.0\"></circle></g><g id=\"node-13\" transform=\"translate(469.795,1168.804)\"><circle r=\"4.0\"></circle></g><g id=\"node-14\" transform=\"translate(473.862,1140.435)\"><circle r=\"4.0\"></circle></g><g id=\"node-15\" transform=\"translate(473.341,1112.065)\"><circle r=\"4.0\"></circle></g><g id=\"node-16\" transform=\"translate(472.768,1083.695)\"><circle r=\"4.0\"></circle></g><g id=\"node-17\" transform=\"translate(470.032,1055.326)\"><circle r=\"4.0\"></circle></g><g id=\"node-18\" transform=\"translate(466.222,1026.956)\"><circle r=\"4.0\"></circle></g><g id=\"node-19\" transform=\"translate(466.266,998.587)\"><circle r=\"4.0\"></circle></g><g id=\"node-20\" transform=\"translate(467.576,970.217)\"><circle r=\"4.0\"></circle></g><g id=\"node-21\" transform=\"translate(467.955,941.848)\"><circle r=\"4.0\"></circle></g><g id=\"node-22\" transform=\"translate(462.738,913.478)\"><circle r=\"4.0\"></circle></g><g id=\"node-23\" transform=\"translate(462.185,885.109)\"><circle r=\"4.0\"></circle></g><g id=\"node-24\" transform=\"translate(460.638,856.739)\"><circle r=\"4.0\"></circle></g><g id=\"node-25\" transform=\"translate(462.513,828.370)\"><circle r=\"4.0\"></circle></g><g id=\"node-26\" transform=\"translate(460.483,800.000)\"><circle r=\"4.0\"></circle></g><g id=\"node-27\" transform=\"translate(462.021,771.630)\"><circle r=\"4.0\"></circle></g><g id=\"node-28\" transform=\"translate(462.065,743.261)\"><circle r=\"4.0\"></circle></g><g id=\"node-29\" transform=\"translate(459.736,714.891)\"><circle r=\"4.0\"></circle></g><g id=\"node-30\" transform=\"translate(459.581,686.522)\"><circle r=\"4.0\"></circle></g><g id=\"node-31\" transform=\"translate(459.427,658.152)\"><circle r=\"4.0\"></circle></g><g id=\"node-32\" transform=\"translate(459.427,629.783)\"><circle r=\"4.0\"></circle></g><g id=\"node-33\" transform=\"translate(449.918,601.413)\"><circle r=\"4.0\"></circle></g><g id=\"node-34\" transform=\"translate(449.918,573.044)\"><circle r=\"4.0\"></circle></g><g id=\"node-35\" transform=\"translate(449.607,544.674)\"><circle r=\"4.0\"></circle></g><g id=\"node-36\" transform=\"translate(449.296,516.305)\"><circle r=\"4.0\"></circle></g><g id=\"node-37\" transform=\"translate(449.297,487.935)\"><circle r=\"4.0\"></circle></g><g id=\"node-38\" transform=\"translate(450.966,459.565)\"><circle r=\"4.0\"></circle></g><g id=\"node-39\" transform=\"translate(451.122,431.196)\"><circle r=\"4.0\"></circle></g><g id=\"node-40\" transform=\"translate(450.811,402.826)\"><circle r=\"4.0\"></circle></g><g id=\"node-41\" transform=\"translate(443.936,374.457)\"><circle r=\"4.0\"></circle></g><g id=\"node-42\" transform=\"translate(443.936,346.087)\"><circle r=\"4.0\"></circle></g><g id=\"node-43\" transform=\"translate(443.781,317.718)\"><circle r=\"4.0\"></circle></g><g id=\"node-44\" transform=\"translate(444.248,289.348)\"><circle r=\"4.0\"></circle></g><g id=\"node-45\" transform=\"translate(459.244,260.979)\"><circle r=\"4.0\"></circle></g><g id=\"node-46\" transform=\"translate(459.244,232.609)\"><circle r=\"4.0\"></circle></g><g id=\"node-47\" transform=\"translate(459.244,204.240)\"><circle r=\"4.0\"></circle></g><g id=\"node-48\" transform=\"translate(459.255,175.870)\"><circle r=\"4.0\"></circle></g><g id=\"node-49\" transform=\"translate(451.744,147.500)\"><circle r=\"4.0\"></circle></g><g id=\"node-50\" transform=\"translate(452.212,119.131)\"><circle r=\"4.0\"></circle></g><g id=\"node-51\" transform=\"translate(451.592,90.761)\"><circle r=\"4.0\"></circle></g><g id=\"node-52\" transform=\"translate(198.217,62.392)\"><circle r=\"4.0\"></circle></g><g id=\"node-53\" transform=\"translate(472.851,1523.423)\"><circle r=\"0.0\"></circle></g><g id=\"node-54\" transform=\"translate(474.459,1381.576)\"><circle r=\"0.0\"></circle></g><g id=\"node-55\" transform=\"translate(469.565,1268.098)\"><circle r=\"0.0\"></circle></g><g id=\"node-56\" transform=\"translate(471.861,1502.146)\"><circle r=\"0.0\"></circle></g><g id=\"node-57\" transform=\"translate(469.775,1438.315)\"><circle r=\"0.0\"></circle></g><g id=\"node-58\" transform=\"translate(473.683,1360.299)\"><circle r=\"0.0\"></circle></g><g id=\"node-59\" transform=\"translate(469.136,1246.820)\"><circle r=\"0.0\"></circle></g><g id=\"node-60\" transform=\"translate(449.918,587.228)\"><circle r=\"0.0\"></circle></g><g id=\"node-61\" transform=\"translate(469.231,1470.231)\"><circle r=\"0.0\"></circle></g><g id=\"node-62\" transform=\"translate(469.998,1335.475)\"><circle r=\"0.0\"></circle></g><g id=\"node-63\" transform=\"translate(468.793,1221.997)\"><circle r=\"0.0\"></circle></g><g id=\"node-64\" transform=\"translate(469.065,1126.250)\"><circle r=\"0.0\"></circle></g><g id=\"node-65\" transform=\"translate(460.638,842.554)\"><circle r=\"0.0\"></circle></g><g id=\"node-66\" transform=\"translate(449.607,565.951)\"><circle r=\"0.0\"></circle></g><g id=\"node-67\" transform=\"translate(459.978,1402.853)\"><circle r=\"0.0\"></circle></g><g id=\"node-68\" transform=\"translate(468.003,1195.401)\"><circle r=\"0.0\"></circle></g><g id=\"node-69\" transform=\"translate(462.288,1104.973)\"><circle r=\"0.0\"></circle></g><g id=\"node-70\" transform=\"translate(465.523,1012.772)\"><circle r=\"0.0\"></circle></g><g id=\"node-71\" transform=\"translate(465.888,956.033)\"><circle r=\"0.0\"></circle></g><g id=\"node-72\" transform=\"translate(460.483,821.277)\"><circle r=\"0.0\"></circle></g><g id=\"node-73\" transform=\"translate(449.296,541.128)\"><circle r=\"0.0\"></circle></g><g id=\"node-74\" transform=\"translate(450.966,445.381)\"><circle r=\"0.0\"></circle></g><g id=\"node-75\" transform=\"translate(443.936,360.272)\"><circle r=\"0.0\"></circle></g><g id=\"node-76\" transform=\"translate(459.244,246.794)\"><circle r=\"0.0\"></circle></g><g id=\"node-77\" transform=\"translate(445.927,1299.127)\"><circle r=\"0.0\"></circle></g><g id=\"node-78\" transform=\"translate(460.414,1080.149)\"><circle r=\"0.0\"></circle></g><g id=\"node-79\" transform=\"translate(452.261,984.402)\"><circle r=\"0.0\"></circle></g><g id=\"node-80\" transform=\"translate(460.329,899.293)\"><circle r=\"0.0\"></circle></g><g id=\"node-81\" transform=\"translate(458.178,796.454)\"><circle r=\"0.0\"></circle></g><g id=\"node-82\" transform=\"translate(459.581,700.707)\"><circle r=\"0.0\"></circle></g><g id=\"node-83\" transform=\"translate(459.427,643.967)\"><circle r=\"0.0\"></circle></g><g id=\"node-84\" transform=\"translate(449.141,514.531)\"><circle r=\"0.0\"></circle></g><g id=\"node-85\" transform=\"translate(450.811,424.104)\"><circle r=\"0.0\"></circle></g><g id=\"node-86\" transform=\"translate(443.781,338.995)\"><circle r=\"0.0\"></circle></g><g id=\"node-87\" transform=\"translate(459.244,225.517)\"><circle r=\"0.0\"></circle></g><g id=\"node-88\" transform=\"translate(451.744,133.316)\"><circle r=\"0.0\"></circle></g><g id=\"node-89\" transform=\"translate(419.874,1189.638)\"><circle r=\"0.0\"></circle></g><g id=\"node-90\" transform=\"translate(437.638,941.848)\"><circle r=\"0.0\"></circle></g><g id=\"node-91\" transform=\"translate(450.236,769.857)\"><circle r=\"0.0\"></circle></g><g id=\"node-92\" transform=\"translate(459.427,672.337)\"><circle r=\"0.0\"></circle></g><g id=\"node-93\" transform=\"translate(431.263,469.317)\"><circle r=\"0.0\"></circle></g><g id=\"node-94\" transform=\"translate(443.781,314.172)\"><circle r=\"0.0\"></circle></g><g id=\"node-95\" transform=\"translate(458.626,200.693)\"><circle r=\"0.0\"></circle></g><g id=\"node-96\" transform=\"translate(451.434,112.039)\"><circle r=\"0.0\"></circle></g><g id=\"node-97\" transform=\"translate(342.859,1065.743)\"><circle r=\"0.0\"></circle></g><g id=\"node-98\" transform=\"translate(417.331,721.097)\"><circle r=\"0.0\"></circle></g><g id=\"node-99\" transform=\"translate(426.147,391.745)\"><circle r=\"0.0\"></circle></g><g id=\"node-100\" transform=\"translate(400.515,156.366)\"><circle r=\"0.0\"></circle></g><g id=\"node-101\" transform=\"translate(298.649,893.420)\"><circle r=\"0.0\"></circle></g><g id=\"node-102\" transform=\"translate(370.406,274.055)\"><circle r=\"0.0\"></circle></g><g id=\"node-103\" transform=\"translate(198.217,583.738)\"><circle r=\"0.0\"></circle></g><g id=\"node-104\" transform=\"translate(50.000,323.065)\"><circle r=\"0.0\"></circle></g></g><g class=\"toytree-TipLabels\" style=\"fill:rgb(14.9%,14.9%,14.9%);fill-opacity:1.0;font-family:helvetica;font-size:11px;font-weight:normal;stroke:none;white-space:pre\"><g transform=\"translate(477.82,1537.61)rotate(0)\"><text x=\"15.00\" y=\"2.81\" style=\"fill:rgb(0%,0%,54.5%);fill-opacity:1.0\">Pan_troglodytes_ellioti_KU308531.1</text></g><g transform=\"translate(477.82,1509.24)rotate(0)\"><text x=\"15.00\" y=\"2.81\" style=\"fill:rgb(0%,0%,54.5%);fill-opacity:1.0\">Pan_troglodytes_ellioti_KU308533.1</text></g><g transform=\"translate(477.82,1480.87)rotate(0)\"><text x=\"15.00\" y=\"2.81\" style=\"fill:rgb(0%,0%,54.5%);fill-opacity:1.0\">Pan_troglodytes_ellioti_KU308532.1</text></g><g transform=\"translate(477.82,1452.50)rotate(0)\"><text x=\"15.00\" y=\"2.81\" style=\"fill:rgb(0%,0%,54.5%);fill-opacity:1.0\">Pan_troglodytes_ellioti_KU308530.1</text></g><g transform=\"translate(477.82,1424.13)rotate(0)\"><text x=\"15.00\" y=\"2.81\" style=\"fill:rgb(0%,0%,54.5%);fill-opacity:1.0\">Pan_troglodytes_ellioti_KU308529.1</text></g><g transform=\"translate(477.82,1395.76)rotate(0)\"><text x=\"15.00\" y=\"2.81\" style=\"fill:rgb(0%,0%,54.5%);fill-opacity:1.0\">Pan_troglodytes_verus_A993_KU308545.1</text></g><g transform=\"translate(477.82,1367.39)rotate(0)\"><text x=\"15.00\" y=\"2.81\" style=\"fill:rgb(0%,0%,54.5%);fill-opacity:1.0\">Pan_troglodytes_verus_B005_KU308547.1</text></g><g transform=\"translate(477.82,1339.02)rotate(0)\"><text x=\"15.00\" y=\"2.81\" style=\"fill:rgb(0%,0%,54.5%);fill-opacity:1.0\">Pan_troglodytes_verus_A994_KU308546.1</text></g><g transform=\"translate(477.82,1310.65)rotate(0)\"><text x=\"15.00\" y=\"2.81\" style=\"fill:rgb(0%,0%,54.5%);fill-opacity:1.0\">Pan_troglodytes_verus_N016_KU308548.1</text></g><g transform=\"translate(477.82,1282.28)rotate(0)\"><text x=\"15.00\" y=\"2.81\" style=\"fill:rgb(0%,0%,54.5%);fill-opacity:1.0\">Pan_troglodytes_troglodytes_B022_KU308541.1</text></g><g transform=\"translate(477.82,1253.91)rotate(0)\"><text x=\"15.00\" y=\"2.81\" style=\"fill:rgb(0%,0%,54.5%);fill-opacity:1.0\">Pan_troglodytes_troglodytes_B024_KU308542.1</text></g><g transform=\"translate(477.82,1225.54)rotate(0)\"><text x=\"15.00\" y=\"2.81\" style=\"fill:rgb(0%,0%,54.5%);fill-opacity:1.0\">Pan_troglodytes_troglodytes_B021_KU308540.1</text></g><g transform=\"translate(477.82,1197.17)rotate(0)\"><text x=\"15.00\" y=\"2.81\" style=\"fill:rgb(0%,0%,54.5%);fill-opacity:1.0\">Pan_troglodytes_troglodytes_B025_KU308543.1</text></g><g transform=\"translate(477.82,1168.80)rotate(0)\"><text x=\"15.00\" y=\"2.81\" style=\"fill:rgb(0%,0%,54.5%);fill-opacity:1.0\">Pan_troglodytes_troglodytes_A990_KU308539.1</text></g><g transform=\"translate(477.82,1140.43)rotate(0)\"><text x=\"15.00\" y=\"2.81\" style=\"fill:rgb(0%,0%,54.5%);fill-opacity:1.0\">Pan_paniscus_PP05_GU189658.1</text></g><g transform=\"translate(477.82,1112.07)rotate(0)\"><text x=\"15.00\" y=\"2.81\" style=\"fill:rgb(0%,0%,54.5%);fill-opacity:1.0\">Pan_paniscus_PP30_GU189676.1</text></g><g transform=\"translate(477.82,1083.70)rotate(0)\"><text x=\"15.00\" y=\"2.81\" style=\"fill:rgb(0%,0%,54.5%);fill-opacity:1.0\">Pan_paniscus_PP23_GU189661.1</text></g><g transform=\"translate(477.82,1055.33)rotate(0)\"><text x=\"15.00\" y=\"2.81\" style=\"fill:rgb(0%,0%,54.5%);fill-opacity:1.0\">Pan_paniscus_PP69_GU189670.1</text></g><g transform=\"translate(477.82,1026.96)rotate(0)\"><text x=\"15.00\" y=\"2.81\" style=\"fill:rgb(0%,50.2%,0%);fill-opacity:1.0\">Homo_sapiens_neanderthalensis_FM865410.1</text></g><g transform=\"translate(477.82,998.59)rotate(0)\"><text x=\"15.00\" y=\"2.81\" style=\"fill:rgb(0%,50.2%,0%);fill-opacity:1.0\">Homo_sapiens_neanderthalensis_AM948965.1</text></g><g transform=\"translate(477.82,970.22)rotate(0)\"><text x=\"15.00\" y=\"2.81\" style=\"fill:rgb(0%,50.2%,0%);fill-opacity:1.0\">Homo_sapiens_sapiens_AJ842750.1</text></g><g transform=\"translate(477.82,941.85)rotate(0)\"><text x=\"15.00\" y=\"2.81\" style=\"fill:rgb(0%,50.2%,0%);fill-opacity:1.0\">Homo_sapiens_sapiens_FN600416.1</text></g><g transform=\"translate(477.82,913.48)rotate(0)\"><text x=\"15.00\" y=\"2.81\" style=\"fill:rgb(0%,50.2%,0%);fill-opacity:1.0\">Homo_sapiens_denisova_KT780370.1</text></g><g transform=\"translate(477.82,885.11)rotate(0)\"><text x=\"15.00\" y=\"2.81\" style=\"fill:rgb(0%,50.2%,0%);fill-opacity:1.0\">Homo_sapiens_denisova_KX663333.1</text></g><g transform=\"translate(477.82,856.74)rotate(0)\"><text x=\"15.00\" y=\"2.81\" style=\"fill:rgb(64.7%,16.5%,16.5%);fill-opacity:1.0\">Gorilla_gorilla_gorilla_KU353721.1</text></g><g transform=\"translate(477.82,828.37)rotate(0)\"><text x=\"15.00\" y=\"2.81\" style=\"fill:rgb(64.7%,16.5%,16.5%);fill-opacity:1.0\">Gorilla_gorilla_gorilla_EU095336.1</text></g><g transform=\"translate(477.82,800.00)rotate(0)\"><text x=\"15.00\" y=\"2.81\" style=\"fill:rgb(64.7%,16.5%,16.5%);fill-opacity:1.0\">Gorilla_gorilla_gorilla_KF914214.1</text></g><g transform=\"translate(477.82,771.63)rotate(0)\"><text x=\"15.00\" y=\"2.81\" style=\"fill:rgb(64.7%,16.5%,16.5%);fill-opacity:1.0\">Gorilla_gorilla_gorilla_KU353722.1</text></g><g transform=\"translate(477.82,743.26)rotate(0)\"><text x=\"15.00\" y=\"2.81\" style=\"fill:rgb(64.7%,16.5%,16.5%);fill-opacity:1.0\">Gorilla_gorilla_gorilla_NC_011120.1</text></g><g transform=\"translate(477.82,714.89)rotate(0)\"><text x=\"15.00\" y=\"2.81\" style=\"fill:rgb(64.7%,16.5%,16.5%);fill-opacity:1.0\">Gorilla_beringei_MH177751.1</text></g><g transform=\"translate(477.82,686.52)rotate(0)\"><text x=\"15.00\" y=\"2.81\" style=\"fill:rgb(64.7%,16.5%,16.5%);fill-opacity:1.0\">Gorilla_beringei_MH177752.1</text></g><g transform=\"translate(477.82,658.15)rotate(0)\"><text x=\"15.00\" y=\"2.81\" style=\"fill:rgb(64.7%,16.5%,16.5%);fill-opacity:1.0\">Gorilla_beringei_MH177753.1</text></g><g transform=\"translate(477.82,629.78)rotate(0)\"><text x=\"15.00\" y=\"2.81\" style=\"fill:rgb(64.7%,16.5%,16.5%);fill-opacity:1.0\">Gorilla_beringei_MH177754.1</text></g><g transform=\"translate(477.82,601.41)rotate(0)\"><text x=\"15.00\" y=\"2.81\" style=\"fill:rgb(100%,0%,0%);fill-opacity:1.0\">Pongo_abelii_CR247</text></g><g transform=\"translate(477.82,573.04)rotate(0)\"><text x=\"15.00\" y=\"2.81\" style=\"fill:rgb(100%,0%,0%);fill-opacity:1.0\">Pongo_abelii_CR011</text></g><g transform=\"translate(477.82,544.67)rotate(0)\"><text x=\"15.00\" y=\"2.81\" style=\"fill:rgb(100%,0%,0%);fill-opacity:1.0\">Pongo_abelii_B017</text></g><g transform=\"translate(477.82,516.30)rotate(0)\"><text x=\"15.00\" y=\"2.81\" style=\"fill:rgb(100%,0%,0%);fill-opacity:1.0\">Pongo_abelii_B020</text></g><g transform=\"translate(477.82,487.93)rotate(0)\"><text x=\"15.00\" y=\"2.81\" style=\"fill:rgb(100%,0%,0%);fill-opacity:1.0\">Pongo_abelii_KB550</text></g><g transform=\"translate(477.82,459.57)rotate(0)\"><text x=\"15.00\" y=\"2.81\" style=\"fill:rgb(100%,0%,0%);fill-opacity:1.0\">Pongo_abelii_B018</text></g><g transform=\"translate(477.82,431.20)rotate(0)\"><text x=\"15.00\" y=\"2.81\" style=\"fill:rgb(100%,0%,0%);fill-opacity:1.0\">Pongo_abelii_A949</text></g><g transform=\"translate(477.82,402.83)rotate(0)\"><text x=\"15.00\" y=\"2.81\" style=\"fill:rgb(100%,0%,0%);fill-opacity:1.0\">Pongo_abelii_CRNA</text></g><g transform=\"translate(477.82,374.46)rotate(0)\"><text x=\"15.00\" y=\"2.81\" style=\"fill:rgb(100%,0%,0%);fill-opacity:1.0\">Pongo_abelii_A952</text></g><g transform=\"translate(477.82,346.09)rotate(0)\"><text x=\"15.00\" y=\"2.81\" style=\"fill:rgb(100%,0%,0%);fill-opacity:1.0\">Pongo_abelii_KB4661</text></g><g transform=\"translate(477.82,317.72)rotate(0)\"><text x=\"15.00\" y=\"2.81\" style=\"fill:rgb(100%,0%,0%);fill-opacity:1.0\">Pongo_abelii_CR519</text></g><g transform=\"translate(477.82,289.35)rotate(0)\"><text x=\"15.00\" y=\"2.81\" style=\"fill:rgb(100%,0%,0%);fill-opacity:1.0\">Pongo_abelii_KB5883</text></g><g transform=\"translate(477.82,260.98)rotate(0)\"><text x=\"15.00\" y=\"2.81\" style=\"fill:rgb(100%,0%,0%);fill-opacity:1.0\">Pongo_pygmaeus_CR535</text></g><g transform=\"translate(477.82,232.61)rotate(0)\"><text x=\"15.00\" y=\"2.81\" style=\"fill:rgb(100%,0%,0%);fill-opacity:1.0\">Pongo_pygmaeus_CR536</text></g><g transform=\"translate(477.82,204.24)rotate(0)\"><text x=\"15.00\" y=\"2.81\" style=\"fill:rgb(100%,0%,0%);fill-opacity:1.0\">Pongo_pygmaeus_A940</text></g><g transform=\"translate(477.82,175.87)rotate(0)\"><text x=\"15.00\" y=\"2.81\" style=\"fill:rgb(100%,0%,0%);fill-opacity:1.0\">Pongo_pygmaeus_A938</text></g><g transform=\"translate(477.82,147.50)rotate(0)\"><text x=\"15.00\" y=\"2.81\" style=\"fill:rgb(100%,0%,0%);fill-opacity:1.0\">Pongo_tapanuliensis_B019</text></g><g transform=\"translate(477.82,119.13)rotate(0)\"><text x=\"15.00\" y=\"2.81\" style=\"fill:rgb(100%,0%,0%);fill-opacity:1.0\">Pongo_tapanuliensis_CRBT</text></g><g transform=\"translate(477.82,90.76)rotate(0)\"><text x=\"15.00\" y=\"2.81\" style=\"fill:rgb(100%,0%,0%);fill-opacity:1.0\">Pongo_tapanuliensis_KB9258</text></g><g transform=\"translate(477.82,62.39)rotate(0)\"><text x=\"15.00\" y=\"2.81\" style=\"fill:rgb(0%,0%,0%);fill-opacity:1.0\">Hylobates_lar_HQ622776.1</text></g></g></g></g><g class=\"toyplot-coordinates-Axis\" id=\"t26eb27cfa1784fd7a1299660a3f06582\" transform=\"translate(50.0,1550.0)translate(0,20.0)\"><line x1=\"0\" y1=\"0\" x2=\"427.82000196110056\" y2=\"0\" style=\"\"></line><g><line x1=\"427.82000196110056\" y1=\"0\" x2=\"427.82000196110056\" y2=\"-5\" style=\"\"></line><line x1=\"366.7028588238005\" y1=\"0\" x2=\"366.7028588238005\" y2=\"-5\" style=\"\"></line><line x1=\"305.58571568650035\" y1=\"0\" x2=\"305.58571568650035\" y2=\"-5\" style=\"\"></line><line x1=\"244.4685725492003\" y1=\"0\" x2=\"244.4685725492003\" y2=\"-5\" style=\"\"></line><line x1=\"183.35142941190026\" y1=\"0\" x2=\"183.35142941190026\" y2=\"-5\" style=\"\"></line><line x1=\"122.23428627460017\" y1=\"0\" x2=\"122.23428627460017\" y2=\"-5\" style=\"\"></line><line x1=\"61.11714313730008\" y1=\"0\" x2=\"61.11714313730008\" y2=\"-5\" style=\"\"></line><line x1=\"0.0\" y1=\"0\" x2=\"0.0\" y2=\"-5\" style=\"\"></line></g><g><g transform=\"translate(427.82000196110056,6)\"><text x=\"-9.729999999999999\" y=\"8.555\" style=\"fill:rgb(16.1%,15.3%,14.1%);fill-opacity:1.0;font-family:helvetica;font-size:10.0px;font-weight:normal;stroke:none;vertical-align:baseline;white-space:pre\">0.00</text></g><g transform=\"translate(366.7028588238005,6)\"><text x=\"-9.729999999999999\" y=\"8.555\" style=\"fill:rgb(16.1%,15.3%,14.1%);fill-opacity:1.0;font-family:helvetica;font-size:10.0px;font-weight:normal;stroke:none;vertical-align:baseline;white-space:pre\">0.03</text></g><g transform=\"translate(305.58571568650035,6)\"><text x=\"-9.729999999999999\" y=\"8.555\" style=\"fill:rgb(16.1%,15.3%,14.1%);fill-opacity:1.0;font-family:helvetica;font-size:10.0px;font-weight:normal;stroke:none;vertical-align:baseline;white-space:pre\">0.06</text></g><g transform=\"translate(244.4685725492003,6)\"><text x=\"-9.729999999999999\" y=\"8.555\" style=\"fill:rgb(16.1%,15.3%,14.1%);fill-opacity:1.0;font-family:helvetica;font-size:10.0px;font-weight:normal;stroke:none;vertical-align:baseline;white-space:pre\">0.09</text></g><g transform=\"translate(183.35142941190026,6)\"><text x=\"-9.729999999999999\" y=\"8.555\" style=\"fill:rgb(16.1%,15.3%,14.1%);fill-opacity:1.0;font-family:helvetica;font-size:10.0px;font-weight:normal;stroke:none;vertical-align:baseline;white-space:pre\">0.12</text></g><g transform=\"translate(122.23428627460017,6)\"><text x=\"-9.729999999999999\" y=\"8.555\" style=\"fill:rgb(16.1%,15.3%,14.1%);fill-opacity:1.0;font-family:helvetica;font-size:10.0px;font-weight:normal;stroke:none;vertical-align:baseline;white-space:pre\">0.15</text></g><g transform=\"translate(61.11714313730008,6)\"><text x=\"-9.729999999999999\" y=\"8.555\" style=\"fill:rgb(16.1%,15.3%,14.1%);fill-opacity:1.0;font-family:helvetica;font-size:10.0px;font-weight:normal;stroke:none;vertical-align:baseline;white-space:pre\">0.18</text></g><g transform=\"translate(0.0,6)\"><text x=\"-9.729999999999999\" y=\"8.555\" style=\"fill:rgb(16.1%,15.3%,14.1%);fill-opacity:1.0;font-family:helvetica;font-size:10.0px;font-weight:normal;stroke:none;vertical-align:baseline;white-space:pre\">0.20</text></g></g><g class=\"toyplot-coordinates-Axis-coordinates\" style=\"visibility:hidden\" transform=\"\"><line x1=\"0\" x2=\"0\" y1=\"-3.0\" y2=\"4.5\" style=\"stroke:rgb(43.9%,50.2%,56.5%);stroke-opacity:1.0;stroke-width:1.0\"></line><text x=\"0\" y=\"-6\" style=\"alignment-baseline:alphabetic;fill:rgb(43.9%,50.2%,56.5%);fill-opacity:1.0;font-size:10px;font-weight:normal;stroke:none;text-anchor:middle\"></text></g></g></g></svg><div class=\"toyplot-behavior\"><script>(function()\n",
       "{\n",
       "var modules={};\n",
       "modules[\"toyplot/canvas/id\"] = \"tbf98bed6c56241a5b0a54a4739ca5dad\";\n",
       "modules[\"toyplot/canvas\"] = (function(canvas_id)\n",
       "    {\n",
       "        return document.querySelector(\"#\" + canvas_id);\n",
       "    })(modules[\"toyplot/canvas/id\"]);\n",
       "modules[\"toyplot.coordinates.Axis\"] = (\n",
       "        function(canvas)\n",
       "        {\n",
       "            function sign(x)\n",
       "            {\n",
       "                return x < 0 ? -1 : x > 0 ? 1 : 0;\n",
       "            }\n",
       "\n",
       "            function mix(a, b, amount)\n",
       "            {\n",
       "                return ((1.0 - amount) * a) + (amount * b);\n",
       "            }\n",
       "\n",
       "            function log(x, base)\n",
       "            {\n",
       "                return Math.log(Math.abs(x)) / Math.log(base);\n",
       "            }\n",
       "\n",
       "            function in_range(a, x, b)\n",
       "            {\n",
       "                var left = Math.min(a, b);\n",
       "                var right = Math.max(a, b);\n",
       "                return left <= x && x <= right;\n",
       "            }\n",
       "\n",
       "            function inside(range, projection)\n",
       "            {\n",
       "                for(var i = 0; i != projection.length; ++i)\n",
       "                {\n",
       "                    var segment = projection[i];\n",
       "                    if(in_range(segment.range.min, range, segment.range.max))\n",
       "                        return true;\n",
       "                }\n",
       "                return false;\n",
       "            }\n",
       "\n",
       "            function to_domain(range, projection)\n",
       "            {\n",
       "                for(var i = 0; i != projection.length; ++i)\n",
       "                {\n",
       "                    var segment = projection[i];\n",
       "                    if(in_range(segment.range.bounds.min, range, segment.range.bounds.max))\n",
       "                    {\n",
       "                        if(segment.scale == \"linear\")\n",
       "                        {\n",
       "                            var amount = (range - segment.range.min) / (segment.range.max - segment.range.min);\n",
       "                            return mix(segment.domain.min, segment.domain.max, amount)\n",
       "                        }\n",
       "                        else if(segment.scale[0] == \"log\")\n",
       "                        {\n",
       "                            var amount = (range - segment.range.min) / (segment.range.max - segment.range.min);\n",
       "                            var base = segment.scale[1];\n",
       "                            return sign(segment.domain.min) * Math.pow(base, mix(log(segment.domain.min, base), log(segment.domain.max, base), amount));\n",
       "                        }\n",
       "                    }\n",
       "                }\n",
       "            }\n",
       "\n",
       "            var axes = {};\n",
       "\n",
       "            function display_coordinates(e)\n",
       "            {\n",
       "                var current = canvas.createSVGPoint();\n",
       "                current.x = e.clientX;\n",
       "                current.y = e.clientY;\n",
       "\n",
       "                for(var axis_id in axes)\n",
       "                {\n",
       "                    var axis = document.querySelector(\"#\" + axis_id);\n",
       "                    var coordinates = axis.querySelector(\".toyplot-coordinates-Axis-coordinates\");\n",
       "                    if(coordinates)\n",
       "                    {\n",
       "                        var projection = axes[axis_id];\n",
       "                        var local = current.matrixTransform(axis.getScreenCTM().inverse());\n",
       "                        if(inside(local.x, projection))\n",
       "                        {\n",
       "                            var domain = to_domain(local.x, projection);\n",
       "                            coordinates.style.visibility = \"visible\";\n",
       "                            coordinates.setAttribute(\"transform\", \"translate(\" + local.x + \")\");\n",
       "                            var text = coordinates.querySelector(\"text\");\n",
       "                            text.textContent = domain.toFixed(2);\n",
       "                        }\n",
       "                        else\n",
       "                        {\n",
       "                            coordinates.style.visibility= \"hidden\";\n",
       "                        }\n",
       "                    }\n",
       "                }\n",
       "            }\n",
       "\n",
       "            canvas.addEventListener(\"click\", display_coordinates);\n",
       "\n",
       "            var module = {};\n",
       "            module.show_coordinates = function(axis_id, projection)\n",
       "            {\n",
       "                axes[axis_id] = projection;\n",
       "            }\n",
       "\n",
       "            return module;\n",
       "        })(modules[\"toyplot/canvas\"]);\n",
       "(function(axis, axis_id, projection)\n",
       "        {\n",
       "            axis.show_coordinates(axis_id, projection);\n",
       "        })(modules[\"toyplot.coordinates.Axis\"],\"t26eb27cfa1784fd7a1299660a3f06582\",[{\"domain\": {\"bounds\": {\"max\": Infinity, \"min\": -Infinity}, \"max\": 0.13034628441782498, \"min\": -0.2048818725}, \"range\": {\"bounds\": {\"max\": Infinity, \"min\": -Infinity}, \"max\": 700.0, \"min\": 0.0}, \"scale\": \"linear\"}]);\n",
       "})();</script></div></div>"
      ]
     },
     "metadata": {},
     "output_type": "display_data"
    }
   ],
   "source": [
    "# import the code so we can use it here\n",
    "import toytree       # a tree plotting library\n",
    "import toyplot       # a general plotting library\n",
    "\n",
    "# --------------------\n",
    "# Read in the big tree\n",
    "# --------------------\n",
    "# read the newick format tree file, give it the name 'bignewick'\n",
    "bignewick = \"big_ape.nwk\" # change this to point at your .nwk treefile\n",
    "btre = toytree.tree(bignewick, tree_format=1)\n",
    "\n",
    "# ----------------\n",
    "# Root the tree\n",
    "# ----------------\n",
    "# root and draw the tree\n",
    "brtre = btre.root(wildcard=\"Hylobates\") # specify the outgroup taxon\n",
    "\n",
    "# -----------------------------\n",
    "# Colouring the tree label text\n",
    "# -----------------------------\n",
    "\n",
    "# set list of colours depending on the taxon label text\n",
    "# numbers like #5384a3 are color hex codes (google it for other options)\n",
    "colorlist = [\"black\" if \"Hylobates\" in tip\n",
    "             else \"darkblue\" if \"Pan\" in tip \n",
    "             else \"red\" if \"Pongo\" in tip \n",
    "             else \"green\" if \"Homo\" in tip \n",
    "             else \"brown\" if \"Gorilla\" in tip \n",
    "             else \"#5384a3\" for tip in brtre.get_tip_labels()] # cyan\n",
    "\n",
    "canvas, axes = brtre.draw(\n",
    "    width=800,  # set dimensions of the figure\n",
    "    height=1600,\n",
    "    scalebar=True,  # scale bar of divergence levels\n",
    "    tip_labels_align=True,\n",
    "    tip_labels=True,\n",
    "    tip_labels_colors=colorlist,\n",
    "    node_labels=None,\n",
    "    node_sizes=[0 if i else 8 for i in brtre.get_node_values(None, 1, 0)],\n",
    "    node_markers=\"o\", # use \"o\" for circles or \"s\" for squares\n",
    "    node_colors=toytree.colors[0],\n",
    ")\n",
    "\n",
    "# canvas, axes = brtre.draw(width=400, height=800);"
   ]
  },
  {
   "cell_type": "code",
   "execution_count": 10,
   "metadata": {},
   "outputs": [
    {
     "ename": "ValueError",
     "evalue": "Expected <class 'toyplot.canvas.Canvas'>, received <class 'tuple'>.",
     "output_type": "error",
     "traceback": [
      "\u001b[0;31m---------------------------------------------------------------------------\u001b[0m",
      "\u001b[0;31mValueError\u001b[0m                                Traceback (most recent call last)",
      "\u001b[0;32m<ipython-input-10-2191c0f69fd4>\u001b[0m in \u001b[0;36m<module>\u001b[0;34m\u001b[0m\n\u001b[1;32m      3\u001b[0m \u001b[0;31m# --------------------------------\u001b[0m\u001b[0;34m\u001b[0m\u001b[0;34m\u001b[0m\u001b[0;34m\u001b[0m\u001b[0m\n\u001b[1;32m      4\u001b[0m \u001b[0;34m\u001b[0m\u001b[0m\n\u001b[0;32m----> 5\u001b[0;31m \u001b[0mtoyplot\u001b[0m\u001b[0;34m.\u001b[0m\u001b[0msvg\u001b[0m\u001b[0;34m.\u001b[0m\u001b[0mrender\u001b[0m\u001b[0;34m(\u001b[0m\u001b[0mcanvas\u001b[0m\u001b[0;34m,\u001b[0m \u001b[0;34m\"bigape.svg\"\u001b[0m\u001b[0;34m)\u001b[0m\u001b[0;34m\u001b[0m\u001b[0;34m\u001b[0m\u001b[0m\n\u001b[0m\u001b[1;32m      6\u001b[0m \u001b[0mtoyplot\u001b[0m\u001b[0;34m.\u001b[0m\u001b[0mpdf\u001b[0m\u001b[0;34m.\u001b[0m\u001b[0mrender\u001b[0m\u001b[0;34m(\u001b[0m\u001b[0mcanvas\u001b[0m\u001b[0;34m,\u001b[0m \u001b[0;34m\"bigape.pdf\"\u001b[0m\u001b[0;34m)\u001b[0m\u001b[0;34m\u001b[0m\u001b[0;34m\u001b[0m\u001b[0m\n\u001b[1;32m      7\u001b[0m \u001b[0mtoyplot\u001b[0m\u001b[0;34m.\u001b[0m\u001b[0mhtml\u001b[0m\u001b[0;34m.\u001b[0m\u001b[0mrender\u001b[0m\u001b[0;34m(\u001b[0m\u001b[0mcanvas\u001b[0m\u001b[0;34m,\u001b[0m \u001b[0;34m\"bigape.html\"\u001b[0m\u001b[0;34m)\u001b[0m\u001b[0;34m\u001b[0m\u001b[0;34m\u001b[0m\u001b[0m\n",
      "\u001b[0;32m~/miniconda3/envs/phylo-prac/lib/python3.9/site-packages/toyplot/svg.py\u001b[0m in \u001b[0;36mrender\u001b[0;34m(canvas, fobj, animation)\u001b[0m\n\u001b[1;32m     46\u001b[0m     \"\"\"\n\u001b[1;32m     47\u001b[0m \u001b[0;34m\u001b[0m\u001b[0m\n\u001b[0;32m---> 48\u001b[0;31m     \u001b[0mcanvas\u001b[0m \u001b[0;34m=\u001b[0m \u001b[0mtoyplot\u001b[0m\u001b[0;34m.\u001b[0m\u001b[0mrequire\u001b[0m\u001b[0;34m.\u001b[0m\u001b[0minstance\u001b[0m\u001b[0;34m(\u001b[0m\u001b[0mcanvas\u001b[0m\u001b[0;34m,\u001b[0m \u001b[0mtoyplot\u001b[0m\u001b[0;34m.\u001b[0m\u001b[0mcanvas\u001b[0m\u001b[0;34m.\u001b[0m\u001b[0mCanvas\u001b[0m\u001b[0;34m)\u001b[0m\u001b[0;34m\u001b[0m\u001b[0;34m\u001b[0m\u001b[0m\n\u001b[0m\u001b[1;32m     49\u001b[0m     \u001b[0mhtml\u001b[0m\u001b[0;34m,\u001b[0m \u001b[0mhtml_animation\u001b[0m \u001b[0;34m=\u001b[0m \u001b[0mtoyplot\u001b[0m\u001b[0;34m.\u001b[0m\u001b[0mhtml\u001b[0m\u001b[0;34m.\u001b[0m\u001b[0mrender\u001b[0m\u001b[0;34m(\u001b[0m\u001b[0mcanvas\u001b[0m\u001b[0;34m,\u001b[0m \u001b[0manimation\u001b[0m\u001b[0;34m=\u001b[0m\u001b[0;32mTrue\u001b[0m\u001b[0;34m)\u001b[0m\u001b[0;34m\u001b[0m\u001b[0;34m\u001b[0m\u001b[0m\n\u001b[1;32m     50\u001b[0m     \u001b[0msvg\u001b[0m \u001b[0;34m=\u001b[0m \u001b[0mhtml\u001b[0m\u001b[0;34m.\u001b[0m\u001b[0mfind\u001b[0m\u001b[0;34m(\u001b[0m\u001b[0;34m\"svg\"\u001b[0m\u001b[0;34m)\u001b[0m\u001b[0;34m\u001b[0m\u001b[0;34m\u001b[0m\u001b[0m\n",
      "\u001b[0;32m~/miniconda3/envs/phylo-prac/lib/python3.9/site-packages/toyplot/require.py\u001b[0m in \u001b[0;36minstance\u001b[0;34m(value, types)\u001b[0m\n\u001b[1;32m     13\u001b[0m     \u001b[0;34m\"\"\"Raise an exception if a value isn't one of the given type(s).\"\"\"\u001b[0m\u001b[0;34m\u001b[0m\u001b[0;34m\u001b[0m\u001b[0m\n\u001b[1;32m     14\u001b[0m     \u001b[0;32mif\u001b[0m \u001b[0;32mnot\u001b[0m \u001b[0misinstance\u001b[0m\u001b[0;34m(\u001b[0m\u001b[0mvalue\u001b[0m\u001b[0;34m,\u001b[0m \u001b[0mtypes\u001b[0m\u001b[0;34m)\u001b[0m\u001b[0;34m:\u001b[0m\u001b[0;34m\u001b[0m\u001b[0;34m\u001b[0m\u001b[0m\n\u001b[0;32m---> 15\u001b[0;31m         \u001b[0;32mraise\u001b[0m \u001b[0mValueError\u001b[0m\u001b[0;34m(\u001b[0m\u001b[0;34m\"Expected %s, received %s.\"\u001b[0m \u001b[0;34m%\u001b[0m \u001b[0;34m(\u001b[0m\u001b[0mtypes\u001b[0m\u001b[0;34m,\u001b[0m \u001b[0mtype\u001b[0m\u001b[0;34m(\u001b[0m\u001b[0mvalue\u001b[0m\u001b[0;34m)\u001b[0m\u001b[0;34m)\u001b[0m\u001b[0;34m)\u001b[0m \u001b[0;31m# pragma: no cover\u001b[0m\u001b[0;34m\u001b[0m\u001b[0;34m\u001b[0m\u001b[0m\n\u001b[0m\u001b[1;32m     16\u001b[0m     \u001b[0;32mreturn\u001b[0m \u001b[0mvalue\u001b[0m\u001b[0;34m\u001b[0m\u001b[0;34m\u001b[0m\u001b[0m\n\u001b[1;32m     17\u001b[0m \u001b[0;34m\u001b[0m\u001b[0m\n",
      "\u001b[0;31mValueError\u001b[0m: Expected <class 'toyplot.canvas.Canvas'>, received <class 'tuple'>."
     ]
    }
   ],
   "source": [
    "# --------------------------------\n",
    "# Save the tree as a graphics file\n",
    "# --------------------------------\n",
    "\n",
    "toyplot.svg.render(canvas, \"bigape.svg\")\n",
    "toyplot.pdf.render(canvas, \"bigape.pdf\")\n",
    "toyplot.html.render(canvas, \"bigape.html\")"
   ]
  },
  {
   "cell_type": "markdown",
   "metadata": {},
   "source": [
    "**Or maybe the cell below. Merge them somehow**"
   ]
  },
  {
   "cell_type": "code",
   "execution_count": 11,
   "metadata": {},
   "outputs": [
    {
     "ename": "ValueError",
     "evalue": "too many values to unpack (expected 2)",
     "output_type": "error",
     "traceback": [
      "\u001b[0;31m---------------------------------------------------------------------------\u001b[0m",
      "\u001b[0;31mValueError\u001b[0m                                Traceback (most recent call last)",
      "\u001b[0;32m<ipython-input-11-f26a852f3b73>\u001b[0m in \u001b[0;36m<module>\u001b[0;34m\u001b[0m\n\u001b[1;32m     20\u001b[0m \u001b[0;34m\u001b[0m\u001b[0m\n\u001b[1;32m     21\u001b[0m \u001b[0;31m# draw the tree using these colours and some other standard options\u001b[0m\u001b[0;34m\u001b[0m\u001b[0;34m\u001b[0m\u001b[0;34m\u001b[0m\u001b[0m\n\u001b[0;32m---> 22\u001b[0;31m canvas, axes =rtre.draw(\n\u001b[0m\u001b[1;32m     23\u001b[0m     \u001b[0mheight\u001b[0m\u001b[0;34m=\u001b[0m\u001b[0;36m1200\u001b[0m\u001b[0;34m,\u001b[0m\u001b[0;34m\u001b[0m\u001b[0;34m\u001b[0m\u001b[0m\n\u001b[1;32m     24\u001b[0m     \u001b[0mscalebar\u001b[0m\u001b[0;34m=\u001b[0m\u001b[0;32mTrue\u001b[0m\u001b[0;34m,\u001b[0m\u001b[0;34m\u001b[0m\u001b[0;34m\u001b[0m\u001b[0m\n",
      "\u001b[0;31mValueError\u001b[0m: too many values to unpack (expected 2)"
     ]
    },
    {
     "data": {
      "text/html": [
       "<div class=\"toyplot\" id=\"t456ed681b94041249c4734e25579c1b8\" style=\"text-align:center\"><svg class=\"toyplot-canvas-Canvas\" xmlns:toyplot=\"http://www.sandia.gov/toyplot\" xmlns:xlink=\"http://www.w3.org/1999/xlink\" xmlns=\"http://www.w3.org/2000/svg\" width=\"465.0px\" height=\"1200.0px\" viewBox=\"0 0 465.0 1200.0\" preserveAspectRatio=\"xMidYMid meet\" style=\"background-color:transparent;border-color:#292724;border-style:none;border-width:1.0;fill:rgb(16.1%,15.3%,14.1%);fill-opacity:1.0;font-family:Helvetica;font-size:12px;opacity:1.0;stroke:rgb(16.1%,15.3%,14.1%);stroke-opacity:1.0;stroke-width:1.0\" id=\"t46e136e751ee453a84c8ec3994f47312\"><g class=\"toyplot-coordinates-Cartesian\" id=\"t4b3894f3518e4c2a9bfae8f3ab5e2c2b\"><clipPath id=\"tc0b7d47d5dd14fe6aa285f62a16d8805\"><rect x=\"30.0\" y=\"30.0\" width=\"405.0\" height=\"1140.0\"></rect></clipPath><g clip-path=\"url(#tc0b7d47d5dd14fe6aa285f62a16d8805)\"><g class=\"toytree-mark-Toytree\" id=\"tc92feea247314aae9b855f3e4adeb198\"><g class=\"toytree-Edges\" style=\"fill:none;stroke:rgb(14.9%,14.9%,14.9%);stroke-linecap:round;stroke-opacity:1;stroke-width:2\"><path d=\"M 50.0 252.3 L 50.0 442.4 L 106.6 442.4\" id=\"104,103\"></path><path d=\"M 106.6 442.4 L 106.6 216.6 L 172.4 216.6\" id=\"103,102\"></path><path d=\"M 106.6 442.4 L 106.6 668.1 L 145.0 668.1\" id=\"103,101\"></path><path d=\"M 172.4 216.6 L 172.4 130.8 L 183.9 130.8\" id=\"102,100\"></path><path d=\"M 172.4 216.6 L 172.4 302.4 L 193.7 302.4\" id=\"102,99\"></path><path d=\"M 145.0 668.1 L 145.0 542.5 L 190.3 542.5\" id=\"101,98\"></path><path d=\"M 145.0 668.1 L 145.0 793.7 L 161.9 793.7\" id=\"101,97\"></path><path d=\"M 183.9 130.8 L 183.9 98.5 L 203.4 98.5\" id=\"100,96\"></path><path d=\"M 183.9 130.8 L 183.9 163.1 L 206.1 163.1\" id=\"100,95\"></path><path d=\"M 193.7 302.4 L 193.7 245.9 L 200.4 245.9\" id=\"99,94\"></path><path d=\"M 193.7 302.4 L 193.7 358.9 L 195.7 358.9\" id=\"99,93\"></path><path d=\"M 190.3 542.5 L 190.3 506.9 L 206.4 506.9\" id=\"98,92\"></path><path d=\"M 190.3 542.5 L 190.3 578.0 L 202.9 578.0\" id=\"98,91\"></path><path d=\"M 161.9 793.7 L 161.9 703.4 L 198.1 703.4\" id=\"97,90\"></path><path d=\"M 161.9 793.7 L 161.9 884.0 L 191.3 884.0\" id=\"97,89\"></path><path d=\"M 203.4 98.5 L 203.4 114.0 L 203.5 114.0\" id=\"96,88\"></path><path d=\"M 206.1 163.1 L 206.1 181.2 L 206.4 181.2\" id=\"95,87\"></path><path d=\"M 200.4 245.9 L 200.4 263.9 L 200.4 263.9\" id=\"94,86\"></path><path d=\"M 195.7 358.9 L 195.7 326.0 L 203.1 326.0\" id=\"93,85\"></path><path d=\"M 195.7 358.9 L 195.7 391.9 L 202.5 391.9\" id=\"93,84\"></path><path d=\"M 206.4 506.9 L 206.4 486.3 L 206.4 486.3\" id=\"92,83\"></path><path d=\"M 206.4 506.9 L 206.4 527.6 L 206.5 527.6\" id=\"92,82\"></path><path d=\"M 202.9 578.0 L 202.9 597.4 L 205.9 597.4\" id=\"91,81\"></path><path d=\"M 198.1 703.4 L 198.1 672.4 L 206.8 672.4\" id=\"90,80\"></path><path d=\"M 198.1 703.4 L 198.1 734.4 L 203.7 734.4\" id=\"90,79\"></path><path d=\"M 191.3 884.0 L 191.3 804.2 L 206.8 804.2\" id=\"89,78\"></path><path d=\"M 191.3 884.0 L 191.3 963.8 L 201.3 963.8\" id=\"89,77\"></path><path d=\"M 206.4 181.2 L 206.4 196.7 L 206.4 196.7\" id=\"87,76\"></path><path d=\"M 200.4 263.9 L 200.4 279.5 L 200.5 279.5\" id=\"86,75\"></path><path d=\"M 203.1 326.0 L 203.1 341.5 L 203.2 341.5\" id=\"85,74\"></path><path d=\"M 202.5 391.9 L 202.5 411.3 L 202.6 411.3\" id=\"84,73\"></path><path d=\"M 205.9 597.4 L 205.9 615.5 L 206.8 615.5\" id=\"81,72\"></path><path d=\"M 203.7 734.4 L 203.7 713.7 L 208.9 713.7\" id=\"79,71\"></path><path d=\"M 203.7 734.4 L 203.7 755.1 L 208.8 755.1\" id=\"79,70\"></path><path d=\"M 206.8 804.2 L 206.8 822.3 L 207.5 822.3\" id=\"78,69\"></path><path d=\"M 201.3 963.8 L 201.3 888.2 L 209.7 888.2\" id=\"77,68\"></path><path d=\"M 201.3 963.8 L 201.3 1039.5 L 206.6 1039.5\" id=\"77,67\"></path><path d=\"M 202.6 411.3 L 202.6 429.4 L 202.7 429.4\" id=\"73,66\"></path><path d=\"M 206.8 615.5 L 206.8 631.0 L 206.9 631.0\" id=\"72,65\"></path><path d=\"M 207.5 822.3 L 207.5 837.8 L 210.1 837.8\" id=\"69,64\"></path><path d=\"M 209.7 888.2 L 209.7 907.6 L 210.0 907.6\" id=\"68,63\"></path><path d=\"M 206.6 1039.5 L 206.6 990.3 L 210.5 990.3\" id=\"67,62\"></path><path d=\"M 206.6 1039.5 L 206.6 1088.6 L 210.2 1088.6\" id=\"67,61\"></path><path d=\"M 202.7 429.4 L 202.7 444.9 L 202.8 444.9\" id=\"66,60\"></path><path d=\"M 210.0 907.6 L 210.0 925.7 L 210.1 925.7\" id=\"63,59\"></path><path d=\"M 210.5 990.3 L 210.5 1008.4 L 211.9 1008.4\" id=\"62,58\"></path><path d=\"M 210.2 1088.6 L 210.2 1065.3 L 210.4 1065.3\" id=\"61,57\"></path><path d=\"M 210.2 1088.6 L 210.2 1111.8 L 211.2 1111.8\" id=\"61,56\"></path><path d=\"M 210.1 925.7 L 210.1 941.2 L 210.3 941.2\" id=\"59,55\"></path><path d=\"M 211.9 1008.4 L 211.9 1023.9 L 212.2 1023.9\" id=\"58,54\"></path><path d=\"M 211.2 1111.8 L 211.2 1127.3 L 211.6 1127.3\" id=\"56,53\"></path><path d=\"M 50.0 252.3 L 50.0 62.3 L 106.6 62.3\" id=\"104,52\"></path><path d=\"M 203.4 98.5 L 203.4 83.0 L 203.4 83.0\" id=\"96,51\"></path><path d=\"M 203.5 114.0 L 203.5 103.7 L 203.7 103.7\" id=\"88,50\"></path><path d=\"M 203.5 114.0 L 203.5 124.4 L 203.5 124.4\" id=\"88,49\"></path><path d=\"M 206.1 163.1 L 206.1 145.0 L 206.4 145.0\" id=\"95,48\"></path><path d=\"M 206.4 181.2 L 206.4 165.7 L 206.4 165.7\" id=\"87,47\"></path><path d=\"M 206.4 196.7 L 206.4 186.4 L 206.4 186.4\" id=\"76,46\"></path><path d=\"M 206.4 196.7 L 206.4 207.1 L 206.4 207.1\" id=\"76,45\"></path><path d=\"M 200.4 245.9 L 200.4 227.8 L 200.6 227.8\" id=\"94,44\"></path><path d=\"M 200.4 263.9 L 200.4 248.4 L 200.4 248.4\" id=\"86,43\"></path><path d=\"M 200.5 279.5 L 200.5 269.1 L 200.5 269.1\" id=\"75,42\"></path><path d=\"M 200.5 279.5 L 200.5 289.8 L 200.5 289.8\" id=\"75,41\"></path><path d=\"M 203.1 326.0 L 203.1 310.5 L 203.1 310.5\" id=\"85,40\"></path><path d=\"M 203.2 341.5 L 203.2 331.2 L 203.2 331.2\" id=\"74,39\"></path><path d=\"M 203.2 341.5 L 203.2 351.8 L 203.2 351.8\" id=\"74,38\"></path><path d=\"M 202.5 391.9 L 202.5 372.5 L 202.6 372.5\" id=\"84,37\"></path><path d=\"M 202.6 411.3 L 202.6 393.2 L 202.6 393.2\" id=\"73,36\"></path><path d=\"M 202.7 429.4 L 202.7 413.9 L 202.7 413.9\" id=\"66,35\"></path><path d=\"M 202.8 444.9 L 202.8 434.6 L 202.8 434.6\" id=\"60,34\"></path><path d=\"M 202.8 444.9 L 202.8 455.2 L 202.8 455.2\" id=\"60,33\"></path><path d=\"M 206.4 486.3 L 206.4 475.9 L 206.4 475.9\" id=\"83,32\"></path><path d=\"M 206.4 486.3 L 206.4 496.6 L 206.4 496.6\" id=\"83,31\"></path><path d=\"M 206.5 527.6 L 206.5 517.3 L 206.5 517.3\" id=\"82,30\"></path><path d=\"M 206.5 527.6 L 206.5 538.0 L 206.5 538.0\" id=\"82,29\"></path><path d=\"M 202.9 578.0 L 202.9 558.6 L 207.4 558.6\" id=\"91,28\"></path><path d=\"M 205.9 597.4 L 205.9 579.3 L 207.4 579.3\" id=\"81,27\"></path><path d=\"M 206.8 615.5 L 206.8 600.0 L 206.8 600.0\" id=\"72,26\"></path><path d=\"M 206.9 631.0 L 206.9 620.7 L 207.6 620.7\" id=\"65,25\"></path><path d=\"M 206.9 631.0 L 206.9 641.4 L 206.9 641.4\" id=\"65,24\"></path><path d=\"M 206.8 672.4 L 206.8 662.0 L 207.5 662.0\" id=\"80,23\"></path><path d=\"M 206.8 672.4 L 206.8 682.7 L 207.7 682.7\" id=\"80,22\"></path><path d=\"M 208.9 713.7 L 208.9 703.4 L 209.7 703.4\" id=\"71,21\"></path><path d=\"M 208.9 713.7 L 208.9 724.1 L 209.5 724.1\" id=\"71,20\"></path><path d=\"M 208.8 755.1 L 208.8 744.8 L 209.0 744.8\" id=\"70,19\"></path><path d=\"M 208.8 755.1 L 208.8 765.4 L 209.0 765.4\" id=\"70,18\"></path><path d=\"M 206.8 804.2 L 206.8 786.1 L 210.5 786.1\" id=\"78,17\"></path><path d=\"M 207.5 822.3 L 207.5 806.8 L 211.5 806.8\" id=\"69,16\"></path><path d=\"M 210.1 837.8 L 210.1 827.5 L 211.7 827.5\" id=\"64,15\"></path><path d=\"M 210.1 837.8 L 210.1 848.2 L 211.9 848.2\" id=\"64,14\"></path><path d=\"M 209.7 888.2 L 209.7 868.8 L 210.4 868.8\" id=\"68,13\"></path><path d=\"M 210.0 907.6 L 210.0 889.5 L 211.0 889.5\" id=\"63,12\"></path><path d=\"M 210.1 925.7 L 210.1 910.2 L 210.9 910.2\" id=\"59,11\"></path><path d=\"M 210.3 941.2 L 210.3 930.9 L 211.0 930.9\" id=\"55,10\"></path><path d=\"M 210.3 941.2 L 210.3 951.6 L 211.1 951.6\" id=\"55,9\"></path><path d=\"M 210.5 990.3 L 210.5 972.2 L 212.2 972.2\" id=\"62,8\"></path><path d=\"M 211.9 1008.4 L 211.9 992.9 L 212.6 992.9\" id=\"58,7\"></path><path d=\"M 212.2 1023.9 L 212.2 1013.6 L 212.7 1013.6\" id=\"54,6\"></path><path d=\"M 212.2 1023.9 L 212.2 1034.3 L 212.7 1034.3\" id=\"54,5\"></path><path d=\"M 210.4 1065.3 L 210.4 1055.0 L 213.4 1055.0\" id=\"57,4\"></path><path d=\"M 210.4 1065.3 L 210.4 1075.6 L 211.9 1075.6\" id=\"57,3\"></path><path d=\"M 211.2 1111.8 L 211.2 1096.3 L 212.5 1096.3\" id=\"56,2\"></path><path d=\"M 211.6 1127.3 L 211.6 1117.0 L 211.8 1117.0\" id=\"53,1\"></path><path d=\"M 211.6 1127.3 L 211.6 1137.7 L 212.2 1137.7\" id=\"53,0\"></path></g><g class=\"toytree-AlignEdges\" style=\"stroke:rgb(66.3%,66.3%,66.3%);stroke-dasharray:2, 4;stroke-linecap:round;stroke-opacity:1.0;stroke-width:2\"><path d=\"M 213.4 1137.7 L 212.2 1137.7\"></path><path d=\"M 213.4 1117.0 L 211.8 1117.0\"></path><path d=\"M 213.4 1096.3 L 212.5 1096.3\"></path><path d=\"M 213.4 1075.6 L 211.9 1075.6\"></path><path d=\"M 213.4 1055.0 L 213.4 1055.0\"></path><path d=\"M 213.4 1034.3 L 212.7 1034.3\"></path><path d=\"M 213.4 1013.6 L 212.7 1013.6\"></path><path d=\"M 213.4 992.9 L 212.6 992.9\"></path><path d=\"M 213.4 972.2 L 212.2 972.2\"></path><path d=\"M 213.4 951.6 L 211.1 951.6\"></path><path d=\"M 213.4 930.9 L 211.0 930.9\"></path><path d=\"M 213.4 910.2 L 210.9 910.2\"></path><path d=\"M 213.4 889.5 L 211.0 889.5\"></path><path d=\"M 213.4 868.8 L 210.4 868.8\"></path><path d=\"M 213.4 848.2 L 211.9 848.2\"></path><path d=\"M 213.4 827.5 L 211.7 827.5\"></path><path d=\"M 213.4 806.8 L 211.5 806.8\"></path><path d=\"M 213.4 786.1 L 210.5 786.1\"></path><path d=\"M 213.4 765.4 L 209.0 765.4\"></path><path d=\"M 213.4 744.8 L 209.0 744.8\"></path><path d=\"M 213.4 724.1 L 209.5 724.1\"></path><path d=\"M 213.4 703.4 L 209.7 703.4\"></path><path d=\"M 213.4 682.7 L 207.7 682.7\"></path><path d=\"M 213.4 662.0 L 207.5 662.0\"></path><path d=\"M 213.4 641.4 L 206.9 641.4\"></path><path d=\"M 213.4 620.7 L 207.6 620.7\"></path><path d=\"M 213.4 600.0 L 206.8 600.0\"></path><path d=\"M 213.4 579.3 L 207.4 579.3\"></path><path d=\"M 213.4 558.6 L 207.4 558.6\"></path><path d=\"M 213.4 538.0 L 206.5 538.0\"></path><path d=\"M 213.4 517.3 L 206.5 517.3\"></path><path d=\"M 213.4 496.6 L 206.4 496.6\"></path><path d=\"M 213.4 475.9 L 206.4 475.9\"></path><path d=\"M 213.4 455.2 L 202.8 455.2\"></path><path d=\"M 213.4 434.6 L 202.8 434.6\"></path><path d=\"M 213.4 413.9 L 202.7 413.9\"></path><path d=\"M 213.4 393.2 L 202.6 393.2\"></path><path d=\"M 213.4 372.5 L 202.6 372.5\"></path><path d=\"M 213.4 351.8 L 203.2 351.8\"></path><path d=\"M 213.4 331.2 L 203.2 331.2\"></path><path d=\"M 213.4 310.5 L 203.1 310.5\"></path><path d=\"M 213.4 289.8 L 200.5 289.8\"></path><path d=\"M 213.4 269.1 L 200.5 269.1\"></path><path d=\"M 213.4 248.4 L 200.4 248.4\"></path><path d=\"M 213.4 227.8 L 200.6 227.8\"></path><path d=\"M 213.4 207.1 L 206.4 207.1\"></path><path d=\"M 213.4 186.4 L 206.4 186.4\"></path><path d=\"M 213.4 165.7 L 206.4 165.7\"></path><path d=\"M 213.4 145.0 L 206.4 145.0\"></path><path d=\"M 213.4 124.4 L 203.5 124.4\"></path><path d=\"M 213.4 103.7 L 203.7 103.7\"></path><path d=\"M 213.4 83.0 L 203.4 83.0\"></path><path d=\"M 213.4 62.3 L 106.6 62.3\"></path></g><g class=\"toytree-Nodes\" style=\"fill:rgb(40%,76.1%,64.7%);fill-opacity:1.0;stroke:None;stroke-width:1\"><g id=\"node-0\" transform=\"translate(212.208,1137.682)\"><rect x=\"-4.0\" y=\"-4.0\" width=\"8\" height=\"8\"></rect></g><g id=\"node-1\" transform=\"translate(211.825,1117.002)\"><rect x=\"-4.0\" y=\"-4.0\" width=\"8\" height=\"8\"></rect></g><g id=\"node-2\" transform=\"translate(212.506,1096.322)\"><rect x=\"-4.0\" y=\"-4.0\" width=\"8\" height=\"8\"></rect></g><g id=\"node-3\" transform=\"translate(211.926,1075.642)\"><rect x=\"-4.0\" y=\"-4.0\" width=\"8\" height=\"8\"></rect></g><g id=\"node-4\" transform=\"translate(213.449,1054.962)\"><rect x=\"-4.0\" y=\"-4.0\" width=\"8\" height=\"8\"></rect></g><g id=\"node-5\" transform=\"translate(212.658,1034.282)\"><rect x=\"-4.0\" y=\"-4.0\" width=\"8\" height=\"8\"></rect></g><g id=\"node-6\" transform=\"translate(212.714,1013.602)\"><rect x=\"-4.0\" y=\"-4.0\" width=\"8\" height=\"8\"></rect></g><g id=\"node-7\" transform=\"translate(212.566,992.922)\"><rect x=\"-4.0\" y=\"-4.0\" width=\"8\" height=\"8\"></rect></g><g id=\"node-8\" transform=\"translate(212.201,972.242)\"><rect x=\"-4.0\" y=\"-4.0\" width=\"8\" height=\"8\"></rect></g><g id=\"node-9\" transform=\"translate(211.133,951.561)\"><rect x=\"-4.0\" y=\"-4.0\" width=\"8\" height=\"8\"></rect></g><g id=\"node-10\" transform=\"translate(210.993,930.881)\"><rect x=\"-4.0\" y=\"-4.0\" width=\"8\" height=\"8\"></rect></g><g id=\"node-11\" transform=\"translate(210.876,910.201)\"><rect x=\"-4.0\" y=\"-4.0\" width=\"8\" height=\"8\"></rect></g><g id=\"node-12\" transform=\"translate(211.042,889.521)\"><rect x=\"-4.0\" y=\"-4.0\" width=\"8\" height=\"8\"></rect></g><g id=\"node-13\" transform=\"translate(210.383,868.841)\"><rect x=\"-4.0\" y=\"-4.0\" width=\"8\" height=\"8\"></rect></g><g id=\"node-14\" transform=\"translate(211.937,848.161)\"><rect x=\"-4.0\" y=\"-4.0\" width=\"8\" height=\"8\"></rect></g><g id=\"node-15\" transform=\"translate(211.737,827.481)\"><rect x=\"-4.0\" y=\"-4.0\" width=\"8\" height=\"8\"></rect></g><g id=\"node-16\" transform=\"translate(211.519,806.801)\"><rect x=\"-4.0\" y=\"-4.0\" width=\"8\" height=\"8\"></rect></g><g id=\"node-17\" transform=\"translate(210.473,786.121)\"><rect x=\"-4.0\" y=\"-4.0\" width=\"8\" height=\"8\"></rect></g><g id=\"node-18\" transform=\"translate(209.018,765.441)\"><rect x=\"-4.0\" y=\"-4.0\" width=\"8\" height=\"8\"></rect></g><g id=\"node-19\" transform=\"translate(209.034,744.761)\"><rect x=\"-4.0\" y=\"-4.0\" width=\"8\" height=\"8\"></rect></g><g id=\"node-20\" transform=\"translate(209.535,724.081)\"><rect x=\"-4.0\" y=\"-4.0\" width=\"8\" height=\"8\"></rect></g><g id=\"node-21\" transform=\"translate(209.680,703.400)\"><rect x=\"-4.0\" y=\"-4.0\" width=\"8\" height=\"8\"></rect></g><g id=\"node-22\" transform=\"translate(207.687,682.720)\"><rect x=\"-4.0\" y=\"-4.0\" width=\"8\" height=\"8\"></rect></g><g id=\"node-23\" transform=\"translate(207.475,662.040)\"><rect x=\"-4.0\" y=\"-4.0\" width=\"8\" height=\"8\"></rect></g><g id=\"node-24\" transform=\"translate(206.884,641.360)\"><rect x=\"-4.0\" y=\"-4.0\" width=\"8\" height=\"8\"></rect></g><g id=\"node-25\" transform=\"translate(207.601,620.680)\"><rect x=\"-4.0\" y=\"-4.0\" width=\"8\" height=\"8\"></rect></g><g id=\"node-26\" transform=\"translate(206.825,600.000)\"><rect x=\"-4.0\" y=\"-4.0\" width=\"8\" height=\"8\"></rect></g><g id=\"node-27\" transform=\"translate(207.413,579.320)\"><rect x=\"-4.0\" y=\"-4.0\" width=\"8\" height=\"8\"></rect></g><g id=\"node-28\" transform=\"translate(207.430,558.640)\"><rect x=\"-4.0\" y=\"-4.0\" width=\"8\" height=\"8\"></rect></g><g id=\"node-29\" transform=\"translate(206.540,537.960)\"><rect x=\"-4.0\" y=\"-4.0\" width=\"8\" height=\"8\"></rect></g><g id=\"node-30\" transform=\"translate(206.481,517.280)\"><rect x=\"-4.0\" y=\"-4.0\" width=\"8\" height=\"8\"></rect></g><g id=\"node-31\" transform=\"translate(206.422,496.600)\"><rect x=\"-4.0\" y=\"-4.0\" width=\"8\" height=\"8\"></rect></g><g id=\"node-32\" transform=\"translate(206.422,475.919)\"><rect x=\"-4.0\" y=\"-4.0\" width=\"8\" height=\"8\"></rect></g><g id=\"node-33\" transform=\"translate(202.789,455.239)\"><rect x=\"-4.0\" y=\"-4.0\" width=\"8\" height=\"8\"></rect></g><g id=\"node-34\" transform=\"translate(202.789,434.559)\"><rect x=\"-4.0\" y=\"-4.0\" width=\"8\" height=\"8\"></rect></g><g id=\"node-35\" transform=\"translate(202.670,413.879)\"><rect x=\"-4.0\" y=\"-4.0\" width=\"8\" height=\"8\"></rect></g><g id=\"node-36\" transform=\"translate(202.551,393.199)\"><rect x=\"-4.0\" y=\"-4.0\" width=\"8\" height=\"8\"></rect></g><g id=\"node-37\" transform=\"translate(202.551,372.519)\"><rect x=\"-4.0\" y=\"-4.0\" width=\"8\" height=\"8\"></rect></g><g id=\"node-38\" transform=\"translate(203.189,351.839)\"><rect x=\"-4.0\" y=\"-4.0\" width=\"8\" height=\"8\"></rect></g><g id=\"node-39\" transform=\"translate(203.249,331.159)\"><rect x=\"-4.0\" y=\"-4.0\" width=\"8\" height=\"8\"></rect></g><g id=\"node-40\" transform=\"translate(203.130,310.479)\"><rect x=\"-4.0\" y=\"-4.0\" width=\"8\" height=\"8\"></rect></g><g id=\"node-41\" transform=\"translate(200.503,289.799)\"><rect x=\"-4.0\" y=\"-4.0\" width=\"8\" height=\"8\"></rect></g><g id=\"node-42\" transform=\"translate(200.503,269.119)\"><rect x=\"-4.0\" y=\"-4.0\" width=\"8\" height=\"8\"></rect></g><g id=\"node-43\" transform=\"translate(200.444,248.439)\"><rect x=\"-4.0\" y=\"-4.0\" width=\"8\" height=\"8\"></rect></g><g id=\"node-44\" transform=\"translate(200.622,227.758)\"><rect x=\"-4.0\" y=\"-4.0\" width=\"8\" height=\"8\"></rect></g><g id=\"node-45\" transform=\"translate(206.352,207.078)\"><rect x=\"-4.0\" y=\"-4.0\" width=\"8\" height=\"8\"></rect></g><g id=\"node-46\" transform=\"translate(206.352,186.398)\"><rect x=\"-4.0\" y=\"-4.0\" width=\"8\" height=\"8\"></rect></g><g id=\"node-47\" transform=\"translate(206.352,165.718)\"><rect x=\"-4.0\" y=\"-4.0\" width=\"8\" height=\"8\"></rect></g><g id=\"node-48\" transform=\"translate(206.356,145.038)\"><rect x=\"-4.0\" y=\"-4.0\" width=\"8\" height=\"8\"></rect></g><g id=\"node-49\" transform=\"translate(203.486,124.358)\"><rect x=\"-4.0\" y=\"-4.0\" width=\"8\" height=\"8\"></rect></g><g id=\"node-50\" transform=\"translate(203.665,103.678)\"><rect x=\"-4.0\" y=\"-4.0\" width=\"8\" height=\"8\"></rect></g><g id=\"node-51\" transform=\"translate(203.428,82.998)\"><rect x=\"-4.0\" y=\"-4.0\" width=\"8\" height=\"8\"></rect></g><g id=\"node-52\" transform=\"translate(106.626,62.318)\"><rect x=\"-4.0\" y=\"-4.0\" width=\"8\" height=\"8\"></rect></g><g id=\"node-53\" transform=\"translate(211.550,1127.342)\"><rect x=\"0.0\" y=\"0.0\" width=\"0\" height=\"0\"></rect></g><g id=\"node-54\" transform=\"translate(212.165,1023.942)\"><rect x=\"0.0\" y=\"0.0\" width=\"0\" height=\"0\"></rect></g><g id=\"node-55\" transform=\"translate(210.295,941.221)\"><rect x=\"0.0\" y=\"0.0\" width=\"0\" height=\"0\"></rect></g><g id=\"node-56\" transform=\"translate(211.172,1111.832)\"><rect x=\"0.0\" y=\"0.0\" width=\"0\" height=\"0\"></rect></g><g id=\"node-57\" transform=\"translate(210.375,1065.302)\"><rect x=\"0.0\" y=\"0.0\" width=\"0\" height=\"0\"></rect></g><g id=\"node-58\" transform=\"translate(211.868,1008.432)\"><rect x=\"0.0\" y=\"0.0\" width=\"0\" height=\"0\"></rect></g><g id=\"node-59\" transform=\"translate(210.131,925.711)\"><rect x=\"0.0\" y=\"0.0\" width=\"0\" height=\"0\"></rect></g><g id=\"node-60\" transform=\"translate(202.789,444.899)\"><rect x=\"0.0\" y=\"0.0\" width=\"0\" height=\"0\"></rect></g><g id=\"node-61\" transform=\"translate(210.167,1088.567)\"><rect x=\"0.0\" y=\"0.0\" width=\"0\" height=\"0\"></rect></g><g id=\"node-62\" transform=\"translate(210.460,990.337)\"><rect x=\"0.0\" y=\"0.0\" width=\"0\" height=\"0\"></rect></g><g id=\"node-63\" transform=\"translate(210.000,907.616)\"><rect x=\"0.0\" y=\"0.0\" width=\"0\" height=\"0\"></rect></g><g id=\"node-64\" transform=\"translate(210.104,837.821)\"><rect x=\"0.0\" y=\"0.0\" width=\"0\" height=\"0\"></rect></g><g id=\"node-65\" transform=\"translate(206.884,631.020)\"><rect x=\"0.0\" y=\"0.0\" width=\"0\" height=\"0\"></rect></g><g id=\"node-66\" transform=\"translate(202.670,429.389)\"><rect x=\"0.0\" y=\"0.0\" width=\"0\" height=\"0\"></rect></g><g id=\"node-67\" transform=\"translate(206.632,1039.452)\"><rect x=\"0.0\" y=\"0.0\" width=\"0\" height=\"0\"></rect></g><g id=\"node-68\" transform=\"translate(209.698,888.229)\"><rect x=\"0.0\" y=\"0.0\" width=\"0\" height=\"0\"></rect></g><g id=\"node-69\" transform=\"translate(207.515,822.311)\"><rect x=\"0.0\" y=\"0.0\" width=\"0\" height=\"0\"></rect></g><g id=\"node-70\" transform=\"translate(208.751,755.101)\"><rect x=\"0.0\" y=\"0.0\" width=\"0\" height=\"0\"></rect></g><g id=\"node-71\" transform=\"translate(208.890,713.740)\"><rect x=\"0.0\" y=\"0.0\" width=\"0\" height=\"0\"></rect></g><g id=\"node-72\" transform=\"translate(206.825,615.510)\"><rect x=\"0.0\" y=\"0.0\" width=\"0\" height=\"0\"></rect></g><g id=\"node-73\" transform=\"translate(202.551,411.294)\"><rect x=\"0.0\" y=\"0.0\" width=\"0\" height=\"0\"></rect></g><g id=\"node-74\" transform=\"translate(203.189,341.499)\"><rect x=\"0.0\" y=\"0.0\" width=\"0\" height=\"0\"></rect></g><g id=\"node-75\" transform=\"translate(200.503,279.459)\"><rect x=\"0.0\" y=\"0.0\" width=\"0\" height=\"0\"></rect></g><g id=\"node-76\" transform=\"translate(206.352,196.738)\"><rect x=\"0.0\" y=\"0.0\" width=\"0\" height=\"0\"></rect></g><g id=\"node-77\" transform=\"translate(201.264,963.840)\"><rect x=\"0.0\" y=\"0.0\" width=\"0\" height=\"0\"></rect></g><g id=\"node-78\" transform=\"translate(206.799,804.216)\"><rect x=\"0.0\" y=\"0.0\" width=\"0\" height=\"0\"></rect></g><g id=\"node-79\" transform=\"translate(203.684,734.421)\"><rect x=\"0.0\" y=\"0.0\" width=\"0\" height=\"0\"></rect></g><g id=\"node-80\" transform=\"translate(206.766,672.380)\"><rect x=\"0.0\" y=\"0.0\" width=\"0\" height=\"0\"></rect></g><g id=\"node-81\" transform=\"translate(205.945,597.415)\"><rect x=\"0.0\" y=\"0.0\" width=\"0\" height=\"0\"></rect></g><g id=\"node-82\" transform=\"translate(206.481,527.620)\"><rect x=\"0.0\" y=\"0.0\" width=\"0\" height=\"0\"></rect></g><g id=\"node-83\" transform=\"translate(206.422,486.260)\"><rect x=\"0.0\" y=\"0.0\" width=\"0\" height=\"0\"></rect></g><g id=\"node-84\" transform=\"translate(202.492,391.907)\"><rect x=\"0.0\" y=\"0.0\" width=\"0\" height=\"0\"></rect></g><g id=\"node-85\" transform=\"translate(203.130,325.989)\"><rect x=\"0.0\" y=\"0.0\" width=\"0\" height=\"0\"></rect></g><g id=\"node-86\" transform=\"translate(200.444,263.949)\"><rect x=\"0.0\" y=\"0.0\" width=\"0\" height=\"0\"></rect></g><g id=\"node-87\" transform=\"translate(206.352,181.228)\"><rect x=\"0.0\" y=\"0.0\" width=\"0\" height=\"0\"></rect></g><g id=\"node-88\" transform=\"translate(203.486,114.018)\"><rect x=\"0.0\" y=\"0.0\" width=\"0\" height=\"0\"></rect></g><g id=\"node-89\" transform=\"translate(191.310,884.028)\"><rect x=\"0.0\" y=\"0.0\" width=\"0\" height=\"0\"></rect></g><g id=\"node-90\" transform=\"translate(198.097,703.400)\"><rect x=\"0.0\" y=\"0.0\" width=\"0\" height=\"0\"></rect></g><g id=\"node-91\" transform=\"translate(202.910,578.027)\"><rect x=\"0.0\" y=\"0.0\" width=\"0\" height=\"0\"></rect></g><g id=\"node-92\" transform=\"translate(206.422,506.940)\"><rect x=\"0.0\" y=\"0.0\" width=\"0\" height=\"0\"></rect></g><g id=\"node-93\" transform=\"translate(195.661,358.948)\"><rect x=\"0.0\" y=\"0.0\" width=\"0\" height=\"0\"></rect></g><g id=\"node-94\" transform=\"translate(200.444,245.854)\"><rect x=\"0.0\" y=\"0.0\" width=\"0\" height=\"0\"></rect></g><g id=\"node-95\" transform=\"translate(206.116,163.133)\"><rect x=\"0.0\" y=\"0.0\" width=\"0\" height=\"0\"></rect></g><g id=\"node-96\" transform=\"translate(203.368,98.508)\"><rect x=\"0.0\" y=\"0.0\" width=\"0\" height=\"0\"></rect></g><g id=\"node-97\" transform=\"translate(161.887,793.714)\"><rect x=\"0.0\" y=\"0.0\" width=\"0\" height=\"0\"></rect></g><g id=\"node-98\" transform=\"translate(190.339,542.484)\"><rect x=\"0.0\" y=\"0.0\" width=\"0\" height=\"0\"></rect></g><g id=\"node-99\" transform=\"translate(193.707,302.401)\"><rect x=\"0.0\" y=\"0.0\" width=\"0\" height=\"0\"></rect></g><g id=\"node-100\" transform=\"translate(183.914,130.821)\"><rect x=\"0.0\" y=\"0.0\" width=\"0\" height=\"0\"></rect></g><g id=\"node-101\" transform=\"translate(144.996,668.099)\"><rect x=\"0.0\" y=\"0.0\" width=\"0\" height=\"0\"></rect></g><g id=\"node-102\" transform=\"translate(172.411,216.611)\"><rect x=\"0.0\" y=\"0.0\" width=\"0\" height=\"0\"></rect></g><g id=\"node-103\" transform=\"translate(106.626,442.355)\"><rect x=\"0.0\" y=\"0.0\" width=\"0\" height=\"0\"></rect></g><g id=\"node-104\" transform=\"translate(50.000,252.336)\"><rect x=\"0.0\" y=\"0.0\" width=\"0\" height=\"0\"></rect></g></g><g class=\"toytree-TipLabels\" style=\"fill:rgb(14.9%,14.9%,14.9%);fill-opacity:1.0;font-family:helvetica;font-size:11px;font-weight:normal;stroke:none;white-space:pre\"><g transform=\"translate(213.45,1137.68)rotate(0)\"><text x=\"15.00\" y=\"2.81\" style=\"fill:rgb(83.9%,33.3%,48.6%);fill-opacity:1.0\">Pan_troglodytes_ellioti_KU308531.1</text></g><g transform=\"translate(213.45,1117.00)rotate(0)\"><text x=\"15.00\" y=\"2.81\" style=\"fill:rgb(83.9%,33.3%,48.6%);fill-opacity:1.0\">Pan_troglodytes_ellioti_KU308533.1</text></g><g transform=\"translate(213.45,1096.32)rotate(0)\"><text x=\"15.00\" y=\"2.81\" style=\"fill:rgb(83.9%,33.3%,48.6%);fill-opacity:1.0\">Pan_troglodytes_ellioti_KU308532.1</text></g><g transform=\"translate(213.45,1075.64)rotate(0)\"><text x=\"15.00\" y=\"2.81\" style=\"fill:rgb(83.9%,33.3%,48.6%);fill-opacity:1.0\">Pan_troglodytes_ellioti_KU308530.1</text></g><g transform=\"translate(213.45,1054.96)rotate(0)\"><text x=\"15.00\" y=\"2.81\" style=\"fill:rgb(83.9%,33.3%,48.6%);fill-opacity:1.0\">Pan_troglodytes_ellioti_KU308529.1</text></g><g transform=\"translate(213.45,1034.28)rotate(0)\"><text x=\"15.00\" y=\"2.81\" style=\"fill:rgb(83.9%,33.3%,48.6%);fill-opacity:1.0\">Pan_troglodytes_verus_A993_KU308545.1</text></g><g transform=\"translate(213.45,1013.60)rotate(0)\"><text x=\"15.00\" y=\"2.81\" style=\"fill:rgb(83.9%,33.3%,48.6%);fill-opacity:1.0\">Pan_troglodytes_verus_B005_KU308547.1</text></g><g transform=\"translate(213.45,992.92)rotate(0)\"><text x=\"15.00\" y=\"2.81\" style=\"fill:rgb(83.9%,33.3%,48.6%);fill-opacity:1.0\">Pan_troglodytes_verus_A994_KU308546.1</text></g><g transform=\"translate(213.45,972.24)rotate(0)\"><text x=\"15.00\" y=\"2.81\" style=\"fill:rgb(83.9%,33.3%,48.6%);fill-opacity:1.0\">Pan_troglodytes_verus_N016_KU308548.1</text></g><g transform=\"translate(213.45,951.56)rotate(0)\"><text x=\"15.00\" y=\"2.81\" style=\"fill:rgb(83.9%,33.3%,48.6%);fill-opacity:1.0\">Pan_troglodytes_troglodytes_B022_KU308541.1</text></g><g transform=\"translate(213.45,930.88)rotate(0)\"><text x=\"15.00\" y=\"2.81\" style=\"fill:rgb(83.9%,33.3%,48.6%);fill-opacity:1.0\">Pan_troglodytes_troglodytes_B024_KU308542.1</text></g><g transform=\"translate(213.45,910.20)rotate(0)\"><text x=\"15.00\" y=\"2.81\" style=\"fill:rgb(83.9%,33.3%,48.6%);fill-opacity:1.0\">Pan_troglodytes_troglodytes_B021_KU308540.1</text></g><g transform=\"translate(213.45,889.52)rotate(0)\"><text x=\"15.00\" y=\"2.81\" style=\"fill:rgb(83.9%,33.3%,48.6%);fill-opacity:1.0\">Pan_troglodytes_troglodytes_B025_KU308543.1</text></g><g transform=\"translate(213.45,868.84)rotate(0)\"><text x=\"15.00\" y=\"2.81\" style=\"fill:rgb(83.9%,33.3%,48.6%);fill-opacity:1.0\">Pan_troglodytes_troglodytes_A990_KU308539.1</text></g><g transform=\"translate(213.45,848.16)rotate(0)\"><text x=\"15.00\" y=\"2.81\" style=\"fill:rgb(83.9%,33.3%,48.6%);fill-opacity:1.0\">Pan_paniscus_PP05_GU189658.1</text></g><g transform=\"translate(213.45,827.48)rotate(0)\"><text x=\"15.00\" y=\"2.81\" style=\"fill:rgb(83.9%,33.3%,48.6%);fill-opacity:1.0\">Pan_paniscus_PP30_GU189676.1</text></g><g transform=\"translate(213.45,806.80)rotate(0)\"><text x=\"15.00\" y=\"2.81\" style=\"fill:rgb(83.9%,33.3%,48.6%);fill-opacity:1.0\">Pan_paniscus_PP23_GU189661.1</text></g><g transform=\"translate(213.45,786.12)rotate(0)\"><text x=\"15.00\" y=\"2.81\" style=\"fill:rgb(83.9%,33.3%,48.6%);fill-opacity:1.0\">Pan_paniscus_PP69_GU189670.1</text></g><g transform=\"translate(213.45,765.44)rotate(0)\"><text x=\"15.00\" y=\"2.81\" style=\"fill:rgb(19.6%,80.4%,19.6%);fill-opacity:1.0\">Homo_sapiens_neanderthalensis_FM865410.1</text></g><g transform=\"translate(213.45,744.76)rotate(0)\"><text x=\"15.00\" y=\"2.81\" style=\"fill:rgb(19.6%,80.4%,19.6%);fill-opacity:1.0\">Homo_sapiens_neanderthalensis_AM948965.1</text></g><g transform=\"translate(213.45,724.08)rotate(0)\"><text x=\"15.00\" y=\"2.81\" style=\"fill:rgb(0%,50.2%,0%);fill-opacity:1.0\">Homo_sapiens_sapiens_AJ842750.1</text></g><g transform=\"translate(213.45,703.40)rotate(0)\"><text x=\"15.00\" y=\"2.81\" style=\"fill:rgb(0%,50.2%,0%);fill-opacity:1.0\">Homo_sapiens_sapiens_FN600416.1</text></g><g transform=\"translate(213.45,682.72)rotate(0)\"><text x=\"15.00\" y=\"2.81\" style=\"fill:rgb(32.5%,51.8%,63.9%);fill-opacity:1.0\">Homo_sapiens_denisova_KT780370.1</text></g><g transform=\"translate(213.45,662.04)rotate(0)\"><text x=\"15.00\" y=\"2.81\" style=\"fill:rgb(32.5%,51.8%,63.9%);fill-opacity:1.0\">Homo_sapiens_denisova_KX663333.1</text></g><g transform=\"translate(213.45,641.36)rotate(0)\"><text x=\"15.00\" y=\"2.81\" style=\"fill:rgb(25.5%,41.2%,88.2%);fill-opacity:1.0\">Gorilla_gorilla_gorilla_KU353721.1</text></g><g transform=\"translate(213.45,620.68)rotate(0)\"><text x=\"15.00\" y=\"2.81\" style=\"fill:rgb(25.5%,41.2%,88.2%);fill-opacity:1.0\">Gorilla_gorilla_gorilla_EU095336.1</text></g><g transform=\"translate(213.45,600.00)rotate(0)\"><text x=\"15.00\" y=\"2.81\" style=\"fill:rgb(25.5%,41.2%,88.2%);fill-opacity:1.0\">Gorilla_gorilla_gorilla_KF914214.1</text></g><g transform=\"translate(213.45,579.32)rotate(0)\"><text x=\"15.00\" y=\"2.81\" style=\"fill:rgb(25.5%,41.2%,88.2%);fill-opacity:1.0\">Gorilla_gorilla_gorilla_KU353722.1</text></g><g transform=\"translate(213.45,558.64)rotate(0)\"><text x=\"15.00\" y=\"2.81\" style=\"fill:rgb(25.5%,41.2%,88.2%);fill-opacity:1.0\">Gorilla_gorilla_gorilla_NC_011120.1</text></g><g transform=\"translate(213.45,537.96)rotate(0)\"><text x=\"15.00\" y=\"2.81\" style=\"fill:rgb(0%,0%,100%);fill-opacity:1.0\">Gorilla_beringei_MH177751.1</text></g><g transform=\"translate(213.45,517.28)rotate(0)\"><text x=\"15.00\" y=\"2.81\" style=\"fill:rgb(0%,0%,100%);fill-opacity:1.0\">Gorilla_beringei_MH177752.1</text></g><g transform=\"translate(213.45,496.60)rotate(0)\"><text x=\"15.00\" y=\"2.81\" style=\"fill:rgb(0%,0%,100%);fill-opacity:1.0\">Gorilla_beringei_MH177753.1</text></g><g transform=\"translate(213.45,475.92)rotate(0)\"><text x=\"15.00\" y=\"2.81\" style=\"fill:rgb(0%,0%,100%);fill-opacity:1.0\">Gorilla_beringei_MH177754.1</text></g><g transform=\"translate(213.45,455.24)rotate(0)\"><text x=\"15.00\" y=\"2.81\" style=\"fill:rgb(100%,0%,0%);fill-opacity:1.0\">Pongo_abelii_CR247</text></g><g transform=\"translate(213.45,434.56)rotate(0)\"><text x=\"15.00\" y=\"2.81\" style=\"fill:rgb(100%,0%,0%);fill-opacity:1.0\">Pongo_abelii_CR011</text></g><g transform=\"translate(213.45,413.88)rotate(0)\"><text x=\"15.00\" y=\"2.81\" style=\"fill:rgb(100%,0%,0%);fill-opacity:1.0\">Pongo_abelii_B017</text></g><g transform=\"translate(213.45,393.20)rotate(0)\"><text x=\"15.00\" y=\"2.81\" style=\"fill:rgb(100%,0%,0%);fill-opacity:1.0\">Pongo_abelii_B020</text></g><g transform=\"translate(213.45,372.52)rotate(0)\"><text x=\"15.00\" y=\"2.81\" style=\"fill:rgb(100%,0%,0%);fill-opacity:1.0\">Pongo_abelii_KB550</text></g><g transform=\"translate(213.45,351.84)rotate(0)\"><text x=\"15.00\" y=\"2.81\" style=\"fill:rgb(100%,0%,0%);fill-opacity:1.0\">Pongo_abelii_B018</text></g><g transform=\"translate(213.45,331.16)rotate(0)\"><text x=\"15.00\" y=\"2.81\" style=\"fill:rgb(100%,0%,0%);fill-opacity:1.0\">Pongo_abelii_A949</text></g><g transform=\"translate(213.45,310.48)rotate(0)\"><text x=\"15.00\" y=\"2.81\" style=\"fill:rgb(100%,0%,0%);fill-opacity:1.0\">Pongo_abelii_CRNA</text></g><g transform=\"translate(213.45,289.80)rotate(0)\"><text x=\"15.00\" y=\"2.81\" style=\"fill:rgb(100%,0%,0%);fill-opacity:1.0\">Pongo_abelii_A952</text></g><g transform=\"translate(213.45,269.12)rotate(0)\"><text x=\"15.00\" y=\"2.81\" style=\"fill:rgb(100%,0%,0%);fill-opacity:1.0\">Pongo_abelii_KB4661</text></g><g transform=\"translate(213.45,248.44)rotate(0)\"><text x=\"15.00\" y=\"2.81\" style=\"fill:rgb(100%,0%,0%);fill-opacity:1.0\">Pongo_abelii_CR519</text></g><g transform=\"translate(213.45,227.76)rotate(0)\"><text x=\"15.00\" y=\"2.81\" style=\"fill:rgb(100%,0%,0%);fill-opacity:1.0\">Pongo_abelii_KB5883</text></g><g transform=\"translate(213.45,207.08)rotate(0)\"><text x=\"15.00\" y=\"2.81\" style=\"fill:rgb(100%,64.7%,0%);fill-opacity:1.0\">Pongo_pygmaeus_CR535</text></g><g transform=\"translate(213.45,186.40)rotate(0)\"><text x=\"15.00\" y=\"2.81\" style=\"fill:rgb(100%,64.7%,0%);fill-opacity:1.0\">Pongo_pygmaeus_CR536</text></g><g transform=\"translate(213.45,165.72)rotate(0)\"><text x=\"15.00\" y=\"2.81\" style=\"fill:rgb(100%,64.7%,0%);fill-opacity:1.0\">Pongo_pygmaeus_A940</text></g><g transform=\"translate(213.45,145.04)rotate(0)\"><text x=\"15.00\" y=\"2.81\" style=\"fill:rgb(100%,64.7%,0%);fill-opacity:1.0\">Pongo_pygmaeus_A938</text></g><g transform=\"translate(213.45,124.36)rotate(0)\"><text x=\"15.00\" y=\"2.81\" style=\"fill:rgb(64.7%,16.5%,16.5%);fill-opacity:1.0\">Pongo_tapanuliensis_B019</text></g><g transform=\"translate(213.45,103.68)rotate(0)\"><text x=\"15.00\" y=\"2.81\" style=\"fill:rgb(64.7%,16.5%,16.5%);fill-opacity:1.0\">Pongo_tapanuliensis_CRBT</text></g><g transform=\"translate(213.45,83.00)rotate(0)\"><text x=\"15.00\" y=\"2.81\" style=\"fill:rgb(64.7%,16.5%,16.5%);fill-opacity:1.0\">Pongo_tapanuliensis_KB9258</text></g><g transform=\"translate(213.45,62.32)rotate(0)\"><text x=\"15.00\" y=\"2.81\" style=\"fill:rgb(32.5%,51.8%,63.9%);fill-opacity:1.0\">Hylobates_lar_HQ622776.1</text></g></g></g></g><g class=\"toyplot-coordinates-Axis\" id=\"t7f74b6555e3c4e54b65a45bc554c336f\" transform=\"translate(50.0,1150.0)translate(0,20.0)\"><line x1=\"0\" y1=\"0\" x2=\"163.44866362151072\" y2=\"0\" style=\"\"></line><g><line x1=\"163.44866362151072\" y1=\"0\" x2=\"163.44866362151072\" y2=\"-5\" style=\"\"></line><line x1=\"108.9657757476738\" y1=\"0\" x2=\"108.9657757476738\" y2=\"-5\" style=\"\"></line><line x1=\"54.4828878738369\" y1=\"0\" x2=\"54.4828878738369\" y2=\"-5\" style=\"\"></line><line x1=\"0.0\" y1=\"0\" x2=\"0.0\" y2=\"-5\" style=\"\"></line></g><g><g transform=\"translate(163.44866362151072,6)\"><text x=\"-9.729999999999999\" y=\"8.555\" style=\"fill:rgb(16.1%,15.3%,14.1%);fill-opacity:1.0;font-family:helvetica;font-size:10.0px;font-weight:normal;stroke:none;vertical-align:baseline;white-space:pre\">0.00</text></g><g transform=\"translate(108.9657757476738,6)\"><text x=\"-9.729999999999999\" y=\"8.555\" style=\"fill:rgb(16.1%,15.3%,14.1%);fill-opacity:1.0;font-family:helvetica;font-size:10.0px;font-weight:normal;stroke:none;vertical-align:baseline;white-space:pre\">0.07</text></g><g transform=\"translate(54.4828878738369,6)\"><text x=\"-9.729999999999999\" y=\"8.555\" style=\"fill:rgb(16.1%,15.3%,14.1%);fill-opacity:1.0;font-family:helvetica;font-size:10.0px;font-weight:normal;stroke:none;vertical-align:baseline;white-space:pre\">0.14</text></g><g transform=\"translate(0.0,6)\"><text x=\"-9.729999999999999\" y=\"8.555\" style=\"fill:rgb(16.1%,15.3%,14.1%);fill-opacity:1.0;font-family:helvetica;font-size:10.0px;font-weight:normal;stroke:none;vertical-align:baseline;white-space:pre\">0.20</text></g></g><g class=\"toyplot-coordinates-Axis-coordinates\" style=\"visibility:hidden\" transform=\"\"><line x1=\"0\" x2=\"0\" y1=\"-3.0\" y2=\"4.5\" style=\"stroke:rgb(43.9%,50.2%,56.5%);stroke-opacity:1.0;stroke-width:1.0\"></line><text x=\"0\" y=\"-6\" style=\"alignment-baseline:alphabetic;fill:rgb(43.9%,50.2%,56.5%);fill-opacity:1.0;font-size:10px;font-weight:normal;stroke:none;text-anchor:middle\"></text></g></g></g></svg><div class=\"toyplot-behavior\"><script>(function()\n",
       "{\n",
       "var modules={};\n",
       "modules[\"toyplot/canvas/id\"] = \"t46e136e751ee453a84c8ec3994f47312\";\n",
       "modules[\"toyplot/canvas\"] = (function(canvas_id)\n",
       "    {\n",
       "        return document.querySelector(\"#\" + canvas_id);\n",
       "    })(modules[\"toyplot/canvas/id\"]);\n",
       "modules[\"toyplot.coordinates.Axis\"] = (\n",
       "        function(canvas)\n",
       "        {\n",
       "            function sign(x)\n",
       "            {\n",
       "                return x < 0 ? -1 : x > 0 ? 1 : 0;\n",
       "            }\n",
       "\n",
       "            function mix(a, b, amount)\n",
       "            {\n",
       "                return ((1.0 - amount) * a) + (amount * b);\n",
       "            }\n",
       "\n",
       "            function log(x, base)\n",
       "            {\n",
       "                return Math.log(Math.abs(x)) / Math.log(base);\n",
       "            }\n",
       "\n",
       "            function in_range(a, x, b)\n",
       "            {\n",
       "                var left = Math.min(a, b);\n",
       "                var right = Math.max(a, b);\n",
       "                return left <= x && x <= right;\n",
       "            }\n",
       "\n",
       "            function inside(range, projection)\n",
       "            {\n",
       "                for(var i = 0; i != projection.length; ++i)\n",
       "                {\n",
       "                    var segment = projection[i];\n",
       "                    if(in_range(segment.range.min, range, segment.range.max))\n",
       "                        return true;\n",
       "                }\n",
       "                return false;\n",
       "            }\n",
       "\n",
       "            function to_domain(range, projection)\n",
       "            {\n",
       "                for(var i = 0; i != projection.length; ++i)\n",
       "                {\n",
       "                    var segment = projection[i];\n",
       "                    if(in_range(segment.range.bounds.min, range, segment.range.bounds.max))\n",
       "                    {\n",
       "                        if(segment.scale == \"linear\")\n",
       "                        {\n",
       "                            var amount = (range - segment.range.min) / (segment.range.max - segment.range.min);\n",
       "                            return mix(segment.domain.min, segment.domain.max, amount)\n",
       "                        }\n",
       "                        else if(segment.scale[0] == \"log\")\n",
       "                        {\n",
       "                            var amount = (range - segment.range.min) / (segment.range.max - segment.range.min);\n",
       "                            var base = segment.scale[1];\n",
       "                            return sign(segment.domain.min) * Math.pow(base, mix(log(segment.domain.min, base), log(segment.domain.max, base), amount));\n",
       "                        }\n",
       "                    }\n",
       "                }\n",
       "            }\n",
       "\n",
       "            var axes = {};\n",
       "\n",
       "            function display_coordinates(e)\n",
       "            {\n",
       "                var current = canvas.createSVGPoint();\n",
       "                current.x = e.clientX;\n",
       "                current.y = e.clientY;\n",
       "\n",
       "                for(var axis_id in axes)\n",
       "                {\n",
       "                    var axis = document.querySelector(\"#\" + axis_id);\n",
       "                    var coordinates = axis.querySelector(\".toyplot-coordinates-Axis-coordinates\");\n",
       "                    if(coordinates)\n",
       "                    {\n",
       "                        var projection = axes[axis_id];\n",
       "                        var local = current.matrixTransform(axis.getScreenCTM().inverse());\n",
       "                        if(inside(local.x, projection))\n",
       "                        {\n",
       "                            var domain = to_domain(local.x, projection);\n",
       "                            coordinates.style.visibility = \"visible\";\n",
       "                            coordinates.setAttribute(\"transform\", \"translate(\" + local.x + \")\");\n",
       "                            var text = coordinates.querySelector(\"text\");\n",
       "                            text.textContent = domain.toFixed(2);\n",
       "                        }\n",
       "                        else\n",
       "                        {\n",
       "                            coordinates.style.visibility= \"hidden\";\n",
       "                        }\n",
       "                    }\n",
       "                }\n",
       "            }\n",
       "\n",
       "            canvas.addEventListener(\"click\", display_coordinates);\n",
       "\n",
       "            var module = {};\n",
       "            module.show_coordinates = function(axis_id, projection)\n",
       "            {\n",
       "                axes[axis_id] = projection;\n",
       "            }\n",
       "\n",
       "            return module;\n",
       "        })(modules[\"toyplot/canvas\"]);\n",
       "(function(axis, axis_id, projection)\n",
       "        {\n",
       "            axis.show_coordinates(axis_id, projection);\n",
       "        })(modules[\"toyplot.coordinates.Axis\"],\"t7f74b6555e3c4e54b65a45bc554c336f\",[{\"domain\": {\"bounds\": {\"max\": Infinity, \"min\": -Infinity}, \"max\": 0.2526433333081576, \"min\": -0.2048818725}, \"range\": {\"bounds\": {\"max\": Infinity, \"min\": -Infinity}, \"max\": 365.0, \"min\": 0.0}, \"scale\": \"linear\"}]);\n",
       "})();</script></div></div>"
      ]
     },
     "metadata": {},
     "output_type": "display_data"
    }
   ],
   "source": [
    "### \n",
    "\n",
    "\n",
    "# read the tree file\n",
    "newick = \"big_ape.nwk\"\n",
    "tre = toytree.tree(newick, tree_format=1)\n",
    "\n",
    "# specify the outgroup to be Macaque\n",
    "rtre = tre.root(wildcard=\"Hylobates\")\n",
    "\n",
    "# change these options until you are happy with the design\n",
    "colorlist = [\"#d6557c\" if \"Pan\" in tip # pink\n",
    "             else \"blue\" if \"Gorilla_b\" in tip #\n",
    "             else \"#4169E1\" if \"Gorilla_g\" in tip #royalblue\n",
    "             else \"#008000\" if \"Homo_sapiens_sapiens\" in tip #green\n",
    "             else \"#32CD32\" if \"neanderthal\" in tip #limegreen\n",
    "             else \"#006400\" if \"denisovan\" in tip #darkgreen\n",
    "             else \"red\" if \"Pongo_abelii\" in tip #darkgreen\n",
    "             else \"orange\" if \"Pongo_pygmaeus\" in tip #darkgreen\n",
    "             else \"brown\" if \"Pongo_tapanuliensis\" in tip #darkgreen\n",
    "             else \"#5384a3\" for tip in rtre.get_tip_labels()] # cyan\n",
    "\n",
    "\n",
    "# draw the tree using these colours and some other standard options\n",
    "canvas, axes =rtre.draw(\n",
    "    height=1200,\n",
    "    scalebar=True,\n",
    "    node_labels=None,\n",
    "    node_sizes=[0 if i else 8 for i in rtre.get_node_values(None, 1, 0)],\n",
    "    node_markers=\"s\",\n",
    "    node_colors=toytree.colors[0], # could this be =colorlist too?\n",
    "    tip_labels_align=True,\n",
    "    tip_labels_colors=colorlist\n",
    ");\n",
    "\n",
    "# The following code cell is needed to save it as a graphics file"
   ]
  },
  {
   "cell_type": "markdown",
   "metadata": {},
   "source": [
    "Run this following cell to save your tree to a graphics format. You will need this for your report."
   ]
  },
  {
   "cell_type": "code",
   "execution_count": 28,
   "metadata": {},
   "outputs": [
    {
     "ename": "ValueError",
     "evalue": "too many values to unpack (expected 2)",
     "output_type": "error",
     "traceback": [
      "\u001b[0;31m---------------------------------------------------------------------------\u001b[0m",
      "\u001b[0;31mValueError\u001b[0m                                Traceback (most recent call last)",
      "\u001b[0;32m<ipython-input-28-ffbc73d85ed0>\u001b[0m in \u001b[0;36m<module>\u001b[0;34m\u001b[0m\n\u001b[1;32m      5\u001b[0m \u001b[0;32mimport\u001b[0m \u001b[0mtoyplot\u001b[0m\u001b[0;34m.\u001b[0m\u001b[0mpdf\u001b[0m\u001b[0;34m\u001b[0m\u001b[0;34m\u001b[0m\u001b[0m\n\u001b[1;32m      6\u001b[0m \u001b[0;34m\u001b[0m\u001b[0m\n\u001b[0;32m----> 7\u001b[0;31m canvas, axes = rtre.draw(\n\u001b[0m\u001b[1;32m      8\u001b[0m     \u001b[0mheight\u001b[0m\u001b[0;34m=\u001b[0m\u001b[0;36m1200\u001b[0m\u001b[0;34m,\u001b[0m\u001b[0;34m\u001b[0m\u001b[0;34m\u001b[0m\u001b[0m\n\u001b[1;32m      9\u001b[0m     \u001b[0mscalebar\u001b[0m\u001b[0;34m=\u001b[0m\u001b[0;32mTrue\u001b[0m\u001b[0;34m,\u001b[0m\u001b[0;34m\u001b[0m\u001b[0;34m\u001b[0m\u001b[0m\n",
      "\u001b[0;31mValueError\u001b[0m: too many values to unpack (expected 2)"
     ]
    },
    {
     "data": {
      "text/html": [
       "<div class=\"toyplot\" id=\"tc18c73f57f5e4363be8017b0affed5a4\" style=\"text-align:center\"><svg class=\"toyplot-canvas-Canvas\" xmlns:toyplot=\"http://www.sandia.gov/toyplot\" xmlns:xlink=\"http://www.w3.org/1999/xlink\" xmlns=\"http://www.w3.org/2000/svg\" width=\"465.0px\" height=\"1200.0px\" viewBox=\"0 0 465.0 1200.0\" preserveAspectRatio=\"xMidYMid meet\" style=\"background-color:transparent;border-color:#292724;border-style:none;border-width:1.0;fill:rgb(16.1%,15.3%,14.1%);fill-opacity:1.0;font-family:Helvetica;font-size:12px;opacity:1.0;stroke:rgb(16.1%,15.3%,14.1%);stroke-opacity:1.0;stroke-width:1.0\" id=\"t0ff97e51965b4123afa5e613f61d00c7\"><g class=\"toyplot-coordinates-Cartesian\" id=\"t38c4ee6e848e415f888ed47436a2d242\"><clipPath id=\"t45353a7c831241519052609f2ce6796e\"><rect x=\"30.0\" y=\"30.0\" width=\"405.0\" height=\"1140.0\"></rect></clipPath><g clip-path=\"url(#t45353a7c831241519052609f2ce6796e)\"><g class=\"toytree-mark-Toytree\" id=\"tff9dec95ecec4a489339c2cbe5fe235f\"><g class=\"toytree-Edges\" style=\"fill:none;stroke:rgb(14.9%,14.9%,14.9%);stroke-linecap:round;stroke-opacity:1;stroke-width:2\"><path d=\"M 50.0 252.3 L 50.0 442.4 L 106.6 442.4\" id=\"104,103\"></path><path d=\"M 106.6 442.4 L 106.6 216.6 L 172.4 216.6\" id=\"103,102\"></path><path d=\"M 106.6 442.4 L 106.6 668.1 L 145.0 668.1\" id=\"103,101\"></path><path d=\"M 172.4 216.6 L 172.4 130.8 L 183.9 130.8\" id=\"102,100\"></path><path d=\"M 172.4 216.6 L 172.4 302.4 L 193.7 302.4\" id=\"102,99\"></path><path d=\"M 145.0 668.1 L 145.0 542.5 L 190.3 542.5\" id=\"101,98\"></path><path d=\"M 145.0 668.1 L 145.0 793.7 L 161.9 793.7\" id=\"101,97\"></path><path d=\"M 183.9 130.8 L 183.9 98.5 L 203.4 98.5\" id=\"100,96\"></path><path d=\"M 183.9 130.8 L 183.9 163.1 L 206.1 163.1\" id=\"100,95\"></path><path d=\"M 193.7 302.4 L 193.7 245.9 L 200.4 245.9\" id=\"99,94\"></path><path d=\"M 193.7 302.4 L 193.7 358.9 L 195.7 358.9\" id=\"99,93\"></path><path d=\"M 190.3 542.5 L 190.3 506.9 L 206.4 506.9\" id=\"98,92\"></path><path d=\"M 190.3 542.5 L 190.3 578.0 L 202.9 578.0\" id=\"98,91\"></path><path d=\"M 161.9 793.7 L 161.9 703.4 L 198.1 703.4\" id=\"97,90\"></path><path d=\"M 161.9 793.7 L 161.9 884.0 L 191.3 884.0\" id=\"97,89\"></path><path d=\"M 203.4 98.5 L 203.4 114.0 L 203.5 114.0\" id=\"96,88\"></path><path d=\"M 206.1 163.1 L 206.1 181.2 L 206.4 181.2\" id=\"95,87\"></path><path d=\"M 200.4 245.9 L 200.4 263.9 L 200.4 263.9\" id=\"94,86\"></path><path d=\"M 195.7 358.9 L 195.7 326.0 L 203.1 326.0\" id=\"93,85\"></path><path d=\"M 195.7 358.9 L 195.7 391.9 L 202.5 391.9\" id=\"93,84\"></path><path d=\"M 206.4 506.9 L 206.4 486.3 L 206.4 486.3\" id=\"92,83\"></path><path d=\"M 206.4 506.9 L 206.4 527.6 L 206.5 527.6\" id=\"92,82\"></path><path d=\"M 202.9 578.0 L 202.9 597.4 L 205.9 597.4\" id=\"91,81\"></path><path d=\"M 198.1 703.4 L 198.1 672.4 L 206.8 672.4\" id=\"90,80\"></path><path d=\"M 198.1 703.4 L 198.1 734.4 L 203.7 734.4\" id=\"90,79\"></path><path d=\"M 191.3 884.0 L 191.3 804.2 L 206.8 804.2\" id=\"89,78\"></path><path d=\"M 191.3 884.0 L 191.3 963.8 L 201.3 963.8\" id=\"89,77\"></path><path d=\"M 206.4 181.2 L 206.4 196.7 L 206.4 196.7\" id=\"87,76\"></path><path d=\"M 200.4 263.9 L 200.4 279.5 L 200.5 279.5\" id=\"86,75\"></path><path d=\"M 203.1 326.0 L 203.1 341.5 L 203.2 341.5\" id=\"85,74\"></path><path d=\"M 202.5 391.9 L 202.5 411.3 L 202.6 411.3\" id=\"84,73\"></path><path d=\"M 205.9 597.4 L 205.9 615.5 L 206.8 615.5\" id=\"81,72\"></path><path d=\"M 203.7 734.4 L 203.7 713.7 L 208.9 713.7\" id=\"79,71\"></path><path d=\"M 203.7 734.4 L 203.7 755.1 L 208.8 755.1\" id=\"79,70\"></path><path d=\"M 206.8 804.2 L 206.8 822.3 L 207.5 822.3\" id=\"78,69\"></path><path d=\"M 201.3 963.8 L 201.3 888.2 L 209.7 888.2\" id=\"77,68\"></path><path d=\"M 201.3 963.8 L 201.3 1039.5 L 206.6 1039.5\" id=\"77,67\"></path><path d=\"M 202.6 411.3 L 202.6 429.4 L 202.7 429.4\" id=\"73,66\"></path><path d=\"M 206.8 615.5 L 206.8 631.0 L 206.9 631.0\" id=\"72,65\"></path><path d=\"M 207.5 822.3 L 207.5 837.8 L 210.1 837.8\" id=\"69,64\"></path><path d=\"M 209.7 888.2 L 209.7 907.6 L 210.0 907.6\" id=\"68,63\"></path><path d=\"M 206.6 1039.5 L 206.6 990.3 L 210.5 990.3\" id=\"67,62\"></path><path d=\"M 206.6 1039.5 L 206.6 1088.6 L 210.2 1088.6\" id=\"67,61\"></path><path d=\"M 202.7 429.4 L 202.7 444.9 L 202.8 444.9\" id=\"66,60\"></path><path d=\"M 210.0 907.6 L 210.0 925.7 L 210.1 925.7\" id=\"63,59\"></path><path d=\"M 210.5 990.3 L 210.5 1008.4 L 211.9 1008.4\" id=\"62,58\"></path><path d=\"M 210.2 1088.6 L 210.2 1065.3 L 210.4 1065.3\" id=\"61,57\"></path><path d=\"M 210.2 1088.6 L 210.2 1111.8 L 211.2 1111.8\" id=\"61,56\"></path><path d=\"M 210.1 925.7 L 210.1 941.2 L 210.3 941.2\" id=\"59,55\"></path><path d=\"M 211.9 1008.4 L 211.9 1023.9 L 212.2 1023.9\" id=\"58,54\"></path><path d=\"M 211.2 1111.8 L 211.2 1127.3 L 211.6 1127.3\" id=\"56,53\"></path><path d=\"M 50.0 252.3 L 50.0 62.3 L 106.6 62.3\" id=\"104,52\"></path><path d=\"M 203.4 98.5 L 203.4 83.0 L 203.4 83.0\" id=\"96,51\"></path><path d=\"M 203.5 114.0 L 203.5 103.7 L 203.7 103.7\" id=\"88,50\"></path><path d=\"M 203.5 114.0 L 203.5 124.4 L 203.5 124.4\" id=\"88,49\"></path><path d=\"M 206.1 163.1 L 206.1 145.0 L 206.4 145.0\" id=\"95,48\"></path><path d=\"M 206.4 181.2 L 206.4 165.7 L 206.4 165.7\" id=\"87,47\"></path><path d=\"M 206.4 196.7 L 206.4 186.4 L 206.4 186.4\" id=\"76,46\"></path><path d=\"M 206.4 196.7 L 206.4 207.1 L 206.4 207.1\" id=\"76,45\"></path><path d=\"M 200.4 245.9 L 200.4 227.8 L 200.6 227.8\" id=\"94,44\"></path><path d=\"M 200.4 263.9 L 200.4 248.4 L 200.4 248.4\" id=\"86,43\"></path><path d=\"M 200.5 279.5 L 200.5 269.1 L 200.5 269.1\" id=\"75,42\"></path><path d=\"M 200.5 279.5 L 200.5 289.8 L 200.5 289.8\" id=\"75,41\"></path><path d=\"M 203.1 326.0 L 203.1 310.5 L 203.1 310.5\" id=\"85,40\"></path><path d=\"M 203.2 341.5 L 203.2 331.2 L 203.2 331.2\" id=\"74,39\"></path><path d=\"M 203.2 341.5 L 203.2 351.8 L 203.2 351.8\" id=\"74,38\"></path><path d=\"M 202.5 391.9 L 202.5 372.5 L 202.6 372.5\" id=\"84,37\"></path><path d=\"M 202.6 411.3 L 202.6 393.2 L 202.6 393.2\" id=\"73,36\"></path><path d=\"M 202.7 429.4 L 202.7 413.9 L 202.7 413.9\" id=\"66,35\"></path><path d=\"M 202.8 444.9 L 202.8 434.6 L 202.8 434.6\" id=\"60,34\"></path><path d=\"M 202.8 444.9 L 202.8 455.2 L 202.8 455.2\" id=\"60,33\"></path><path d=\"M 206.4 486.3 L 206.4 475.9 L 206.4 475.9\" id=\"83,32\"></path><path d=\"M 206.4 486.3 L 206.4 496.6 L 206.4 496.6\" id=\"83,31\"></path><path d=\"M 206.5 527.6 L 206.5 517.3 L 206.5 517.3\" id=\"82,30\"></path><path d=\"M 206.5 527.6 L 206.5 538.0 L 206.5 538.0\" id=\"82,29\"></path><path d=\"M 202.9 578.0 L 202.9 558.6 L 207.4 558.6\" id=\"91,28\"></path><path d=\"M 205.9 597.4 L 205.9 579.3 L 207.4 579.3\" id=\"81,27\"></path><path d=\"M 206.8 615.5 L 206.8 600.0 L 206.8 600.0\" id=\"72,26\"></path><path d=\"M 206.9 631.0 L 206.9 620.7 L 207.6 620.7\" id=\"65,25\"></path><path d=\"M 206.9 631.0 L 206.9 641.4 L 206.9 641.4\" id=\"65,24\"></path><path d=\"M 206.8 672.4 L 206.8 662.0 L 207.5 662.0\" id=\"80,23\"></path><path d=\"M 206.8 672.4 L 206.8 682.7 L 207.7 682.7\" id=\"80,22\"></path><path d=\"M 208.9 713.7 L 208.9 703.4 L 209.7 703.4\" id=\"71,21\"></path><path d=\"M 208.9 713.7 L 208.9 724.1 L 209.5 724.1\" id=\"71,20\"></path><path d=\"M 208.8 755.1 L 208.8 744.8 L 209.0 744.8\" id=\"70,19\"></path><path d=\"M 208.8 755.1 L 208.8 765.4 L 209.0 765.4\" id=\"70,18\"></path><path d=\"M 206.8 804.2 L 206.8 786.1 L 210.5 786.1\" id=\"78,17\"></path><path d=\"M 207.5 822.3 L 207.5 806.8 L 211.5 806.8\" id=\"69,16\"></path><path d=\"M 210.1 837.8 L 210.1 827.5 L 211.7 827.5\" id=\"64,15\"></path><path d=\"M 210.1 837.8 L 210.1 848.2 L 211.9 848.2\" id=\"64,14\"></path><path d=\"M 209.7 888.2 L 209.7 868.8 L 210.4 868.8\" id=\"68,13\"></path><path d=\"M 210.0 907.6 L 210.0 889.5 L 211.0 889.5\" id=\"63,12\"></path><path d=\"M 210.1 925.7 L 210.1 910.2 L 210.9 910.2\" id=\"59,11\"></path><path d=\"M 210.3 941.2 L 210.3 930.9 L 211.0 930.9\" id=\"55,10\"></path><path d=\"M 210.3 941.2 L 210.3 951.6 L 211.1 951.6\" id=\"55,9\"></path><path d=\"M 210.5 990.3 L 210.5 972.2 L 212.2 972.2\" id=\"62,8\"></path><path d=\"M 211.9 1008.4 L 211.9 992.9 L 212.6 992.9\" id=\"58,7\"></path><path d=\"M 212.2 1023.9 L 212.2 1013.6 L 212.7 1013.6\" id=\"54,6\"></path><path d=\"M 212.2 1023.9 L 212.2 1034.3 L 212.7 1034.3\" id=\"54,5\"></path><path d=\"M 210.4 1065.3 L 210.4 1055.0 L 213.4 1055.0\" id=\"57,4\"></path><path d=\"M 210.4 1065.3 L 210.4 1075.6 L 211.9 1075.6\" id=\"57,3\"></path><path d=\"M 211.2 1111.8 L 211.2 1096.3 L 212.5 1096.3\" id=\"56,2\"></path><path d=\"M 211.6 1127.3 L 211.6 1117.0 L 211.8 1117.0\" id=\"53,1\"></path><path d=\"M 211.6 1127.3 L 211.6 1137.7 L 212.2 1137.7\" id=\"53,0\"></path></g><g class=\"toytree-AlignEdges\" style=\"stroke:rgb(66.3%,66.3%,66.3%);stroke-dasharray:2, 4;stroke-linecap:round;stroke-opacity:1.0;stroke-width:2\"><path d=\"M 213.4 1137.7 L 212.2 1137.7\"></path><path d=\"M 213.4 1117.0 L 211.8 1117.0\"></path><path d=\"M 213.4 1096.3 L 212.5 1096.3\"></path><path d=\"M 213.4 1075.6 L 211.9 1075.6\"></path><path d=\"M 213.4 1055.0 L 213.4 1055.0\"></path><path d=\"M 213.4 1034.3 L 212.7 1034.3\"></path><path d=\"M 213.4 1013.6 L 212.7 1013.6\"></path><path d=\"M 213.4 992.9 L 212.6 992.9\"></path><path d=\"M 213.4 972.2 L 212.2 972.2\"></path><path d=\"M 213.4 951.6 L 211.1 951.6\"></path><path d=\"M 213.4 930.9 L 211.0 930.9\"></path><path d=\"M 213.4 910.2 L 210.9 910.2\"></path><path d=\"M 213.4 889.5 L 211.0 889.5\"></path><path d=\"M 213.4 868.8 L 210.4 868.8\"></path><path d=\"M 213.4 848.2 L 211.9 848.2\"></path><path d=\"M 213.4 827.5 L 211.7 827.5\"></path><path d=\"M 213.4 806.8 L 211.5 806.8\"></path><path d=\"M 213.4 786.1 L 210.5 786.1\"></path><path d=\"M 213.4 765.4 L 209.0 765.4\"></path><path d=\"M 213.4 744.8 L 209.0 744.8\"></path><path d=\"M 213.4 724.1 L 209.5 724.1\"></path><path d=\"M 213.4 703.4 L 209.7 703.4\"></path><path d=\"M 213.4 682.7 L 207.7 682.7\"></path><path d=\"M 213.4 662.0 L 207.5 662.0\"></path><path d=\"M 213.4 641.4 L 206.9 641.4\"></path><path d=\"M 213.4 620.7 L 207.6 620.7\"></path><path d=\"M 213.4 600.0 L 206.8 600.0\"></path><path d=\"M 213.4 579.3 L 207.4 579.3\"></path><path d=\"M 213.4 558.6 L 207.4 558.6\"></path><path d=\"M 213.4 538.0 L 206.5 538.0\"></path><path d=\"M 213.4 517.3 L 206.5 517.3\"></path><path d=\"M 213.4 496.6 L 206.4 496.6\"></path><path d=\"M 213.4 475.9 L 206.4 475.9\"></path><path d=\"M 213.4 455.2 L 202.8 455.2\"></path><path d=\"M 213.4 434.6 L 202.8 434.6\"></path><path d=\"M 213.4 413.9 L 202.7 413.9\"></path><path d=\"M 213.4 393.2 L 202.6 393.2\"></path><path d=\"M 213.4 372.5 L 202.6 372.5\"></path><path d=\"M 213.4 351.8 L 203.2 351.8\"></path><path d=\"M 213.4 331.2 L 203.2 331.2\"></path><path d=\"M 213.4 310.5 L 203.1 310.5\"></path><path d=\"M 213.4 289.8 L 200.5 289.8\"></path><path d=\"M 213.4 269.1 L 200.5 269.1\"></path><path d=\"M 213.4 248.4 L 200.4 248.4\"></path><path d=\"M 213.4 227.8 L 200.6 227.8\"></path><path d=\"M 213.4 207.1 L 206.4 207.1\"></path><path d=\"M 213.4 186.4 L 206.4 186.4\"></path><path d=\"M 213.4 165.7 L 206.4 165.7\"></path><path d=\"M 213.4 145.0 L 206.4 145.0\"></path><path d=\"M 213.4 124.4 L 203.5 124.4\"></path><path d=\"M 213.4 103.7 L 203.7 103.7\"></path><path d=\"M 213.4 83.0 L 203.4 83.0\"></path><path d=\"M 213.4 62.3 L 106.6 62.3\"></path></g><g class=\"toytree-Nodes\" style=\"fill:rgb(40%,76.1%,64.7%);fill-opacity:1.0;stroke:None;stroke-width:1\"><g id=\"node-0\" transform=\"translate(212.208,1137.682)\"><rect x=\"-4.0\" y=\"-4.0\" width=\"8\" height=\"8\"></rect></g><g id=\"node-1\" transform=\"translate(211.825,1117.002)\"><rect x=\"-4.0\" y=\"-4.0\" width=\"8\" height=\"8\"></rect></g><g id=\"node-2\" transform=\"translate(212.506,1096.322)\"><rect x=\"-4.0\" y=\"-4.0\" width=\"8\" height=\"8\"></rect></g><g id=\"node-3\" transform=\"translate(211.926,1075.642)\"><rect x=\"-4.0\" y=\"-4.0\" width=\"8\" height=\"8\"></rect></g><g id=\"node-4\" transform=\"translate(213.449,1054.962)\"><rect x=\"-4.0\" y=\"-4.0\" width=\"8\" height=\"8\"></rect></g><g id=\"node-5\" transform=\"translate(212.658,1034.282)\"><rect x=\"-4.0\" y=\"-4.0\" width=\"8\" height=\"8\"></rect></g><g id=\"node-6\" transform=\"translate(212.714,1013.602)\"><rect x=\"-4.0\" y=\"-4.0\" width=\"8\" height=\"8\"></rect></g><g id=\"node-7\" transform=\"translate(212.566,992.922)\"><rect x=\"-4.0\" y=\"-4.0\" width=\"8\" height=\"8\"></rect></g><g id=\"node-8\" transform=\"translate(212.201,972.242)\"><rect x=\"-4.0\" y=\"-4.0\" width=\"8\" height=\"8\"></rect></g><g id=\"node-9\" transform=\"translate(211.133,951.561)\"><rect x=\"-4.0\" y=\"-4.0\" width=\"8\" height=\"8\"></rect></g><g id=\"node-10\" transform=\"translate(210.993,930.881)\"><rect x=\"-4.0\" y=\"-4.0\" width=\"8\" height=\"8\"></rect></g><g id=\"node-11\" transform=\"translate(210.876,910.201)\"><rect x=\"-4.0\" y=\"-4.0\" width=\"8\" height=\"8\"></rect></g><g id=\"node-12\" transform=\"translate(211.042,889.521)\"><rect x=\"-4.0\" y=\"-4.0\" width=\"8\" height=\"8\"></rect></g><g id=\"node-13\" transform=\"translate(210.383,868.841)\"><rect x=\"-4.0\" y=\"-4.0\" width=\"8\" height=\"8\"></rect></g><g id=\"node-14\" transform=\"translate(211.937,848.161)\"><rect x=\"-4.0\" y=\"-4.0\" width=\"8\" height=\"8\"></rect></g><g id=\"node-15\" transform=\"translate(211.737,827.481)\"><rect x=\"-4.0\" y=\"-4.0\" width=\"8\" height=\"8\"></rect></g><g id=\"node-16\" transform=\"translate(211.519,806.801)\"><rect x=\"-4.0\" y=\"-4.0\" width=\"8\" height=\"8\"></rect></g><g id=\"node-17\" transform=\"translate(210.473,786.121)\"><rect x=\"-4.0\" y=\"-4.0\" width=\"8\" height=\"8\"></rect></g><g id=\"node-18\" transform=\"translate(209.018,765.441)\"><rect x=\"-4.0\" y=\"-4.0\" width=\"8\" height=\"8\"></rect></g><g id=\"node-19\" transform=\"translate(209.034,744.761)\"><rect x=\"-4.0\" y=\"-4.0\" width=\"8\" height=\"8\"></rect></g><g id=\"node-20\" transform=\"translate(209.535,724.081)\"><rect x=\"-4.0\" y=\"-4.0\" width=\"8\" height=\"8\"></rect></g><g id=\"node-21\" transform=\"translate(209.680,703.400)\"><rect x=\"-4.0\" y=\"-4.0\" width=\"8\" height=\"8\"></rect></g><g id=\"node-22\" transform=\"translate(207.687,682.720)\"><rect x=\"-4.0\" y=\"-4.0\" width=\"8\" height=\"8\"></rect></g><g id=\"node-23\" transform=\"translate(207.475,662.040)\"><rect x=\"-4.0\" y=\"-4.0\" width=\"8\" height=\"8\"></rect></g><g id=\"node-24\" transform=\"translate(206.884,641.360)\"><rect x=\"-4.0\" y=\"-4.0\" width=\"8\" height=\"8\"></rect></g><g id=\"node-25\" transform=\"translate(207.601,620.680)\"><rect x=\"-4.0\" y=\"-4.0\" width=\"8\" height=\"8\"></rect></g><g id=\"node-26\" transform=\"translate(206.825,600.000)\"><rect x=\"-4.0\" y=\"-4.0\" width=\"8\" height=\"8\"></rect></g><g id=\"node-27\" transform=\"translate(207.413,579.320)\"><rect x=\"-4.0\" y=\"-4.0\" width=\"8\" height=\"8\"></rect></g><g id=\"node-28\" transform=\"translate(207.430,558.640)\"><rect x=\"-4.0\" y=\"-4.0\" width=\"8\" height=\"8\"></rect></g><g id=\"node-29\" transform=\"translate(206.540,537.960)\"><rect x=\"-4.0\" y=\"-4.0\" width=\"8\" height=\"8\"></rect></g><g id=\"node-30\" transform=\"translate(206.481,517.280)\"><rect x=\"-4.0\" y=\"-4.0\" width=\"8\" height=\"8\"></rect></g><g id=\"node-31\" transform=\"translate(206.422,496.600)\"><rect x=\"-4.0\" y=\"-4.0\" width=\"8\" height=\"8\"></rect></g><g id=\"node-32\" transform=\"translate(206.422,475.919)\"><rect x=\"-4.0\" y=\"-4.0\" width=\"8\" height=\"8\"></rect></g><g id=\"node-33\" transform=\"translate(202.789,455.239)\"><rect x=\"-4.0\" y=\"-4.0\" width=\"8\" height=\"8\"></rect></g><g id=\"node-34\" transform=\"translate(202.789,434.559)\"><rect x=\"-4.0\" y=\"-4.0\" width=\"8\" height=\"8\"></rect></g><g id=\"node-35\" transform=\"translate(202.670,413.879)\"><rect x=\"-4.0\" y=\"-4.0\" width=\"8\" height=\"8\"></rect></g><g id=\"node-36\" transform=\"translate(202.551,393.199)\"><rect x=\"-4.0\" y=\"-4.0\" width=\"8\" height=\"8\"></rect></g><g id=\"node-37\" transform=\"translate(202.551,372.519)\"><rect x=\"-4.0\" y=\"-4.0\" width=\"8\" height=\"8\"></rect></g><g id=\"node-38\" transform=\"translate(203.189,351.839)\"><rect x=\"-4.0\" y=\"-4.0\" width=\"8\" height=\"8\"></rect></g><g id=\"node-39\" transform=\"translate(203.249,331.159)\"><rect x=\"-4.0\" y=\"-4.0\" width=\"8\" height=\"8\"></rect></g><g id=\"node-40\" transform=\"translate(203.130,310.479)\"><rect x=\"-4.0\" y=\"-4.0\" width=\"8\" height=\"8\"></rect></g><g id=\"node-41\" transform=\"translate(200.503,289.799)\"><rect x=\"-4.0\" y=\"-4.0\" width=\"8\" height=\"8\"></rect></g><g id=\"node-42\" transform=\"translate(200.503,269.119)\"><rect x=\"-4.0\" y=\"-4.0\" width=\"8\" height=\"8\"></rect></g><g id=\"node-43\" transform=\"translate(200.444,248.439)\"><rect x=\"-4.0\" y=\"-4.0\" width=\"8\" height=\"8\"></rect></g><g id=\"node-44\" transform=\"translate(200.622,227.758)\"><rect x=\"-4.0\" y=\"-4.0\" width=\"8\" height=\"8\"></rect></g><g id=\"node-45\" transform=\"translate(206.352,207.078)\"><rect x=\"-4.0\" y=\"-4.0\" width=\"8\" height=\"8\"></rect></g><g id=\"node-46\" transform=\"translate(206.352,186.398)\"><rect x=\"-4.0\" y=\"-4.0\" width=\"8\" height=\"8\"></rect></g><g id=\"node-47\" transform=\"translate(206.352,165.718)\"><rect x=\"-4.0\" y=\"-4.0\" width=\"8\" height=\"8\"></rect></g><g id=\"node-48\" transform=\"translate(206.356,145.038)\"><rect x=\"-4.0\" y=\"-4.0\" width=\"8\" height=\"8\"></rect></g><g id=\"node-49\" transform=\"translate(203.486,124.358)\"><rect x=\"-4.0\" y=\"-4.0\" width=\"8\" height=\"8\"></rect></g><g id=\"node-50\" transform=\"translate(203.665,103.678)\"><rect x=\"-4.0\" y=\"-4.0\" width=\"8\" height=\"8\"></rect></g><g id=\"node-51\" transform=\"translate(203.428,82.998)\"><rect x=\"-4.0\" y=\"-4.0\" width=\"8\" height=\"8\"></rect></g><g id=\"node-52\" transform=\"translate(106.626,62.318)\"><rect x=\"-4.0\" y=\"-4.0\" width=\"8\" height=\"8\"></rect></g><g id=\"node-53\" transform=\"translate(211.550,1127.342)\"><rect x=\"0.0\" y=\"0.0\" width=\"0\" height=\"0\"></rect></g><g id=\"node-54\" transform=\"translate(212.165,1023.942)\"><rect x=\"0.0\" y=\"0.0\" width=\"0\" height=\"0\"></rect></g><g id=\"node-55\" transform=\"translate(210.295,941.221)\"><rect x=\"0.0\" y=\"0.0\" width=\"0\" height=\"0\"></rect></g><g id=\"node-56\" transform=\"translate(211.172,1111.832)\"><rect x=\"0.0\" y=\"0.0\" width=\"0\" height=\"0\"></rect></g><g id=\"node-57\" transform=\"translate(210.375,1065.302)\"><rect x=\"0.0\" y=\"0.0\" width=\"0\" height=\"0\"></rect></g><g id=\"node-58\" transform=\"translate(211.868,1008.432)\"><rect x=\"0.0\" y=\"0.0\" width=\"0\" height=\"0\"></rect></g><g id=\"node-59\" transform=\"translate(210.131,925.711)\"><rect x=\"0.0\" y=\"0.0\" width=\"0\" height=\"0\"></rect></g><g id=\"node-60\" transform=\"translate(202.789,444.899)\"><rect x=\"0.0\" y=\"0.0\" width=\"0\" height=\"0\"></rect></g><g id=\"node-61\" transform=\"translate(210.167,1088.567)\"><rect x=\"0.0\" y=\"0.0\" width=\"0\" height=\"0\"></rect></g><g id=\"node-62\" transform=\"translate(210.460,990.337)\"><rect x=\"0.0\" y=\"0.0\" width=\"0\" height=\"0\"></rect></g><g id=\"node-63\" transform=\"translate(210.000,907.616)\"><rect x=\"0.0\" y=\"0.0\" width=\"0\" height=\"0\"></rect></g><g id=\"node-64\" transform=\"translate(210.104,837.821)\"><rect x=\"0.0\" y=\"0.0\" width=\"0\" height=\"0\"></rect></g><g id=\"node-65\" transform=\"translate(206.884,631.020)\"><rect x=\"0.0\" y=\"0.0\" width=\"0\" height=\"0\"></rect></g><g id=\"node-66\" transform=\"translate(202.670,429.389)\"><rect x=\"0.0\" y=\"0.0\" width=\"0\" height=\"0\"></rect></g><g id=\"node-67\" transform=\"translate(206.632,1039.452)\"><rect x=\"0.0\" y=\"0.0\" width=\"0\" height=\"0\"></rect></g><g id=\"node-68\" transform=\"translate(209.698,888.229)\"><rect x=\"0.0\" y=\"0.0\" width=\"0\" height=\"0\"></rect></g><g id=\"node-69\" transform=\"translate(207.515,822.311)\"><rect x=\"0.0\" y=\"0.0\" width=\"0\" height=\"0\"></rect></g><g id=\"node-70\" transform=\"translate(208.751,755.101)\"><rect x=\"0.0\" y=\"0.0\" width=\"0\" height=\"0\"></rect></g><g id=\"node-71\" transform=\"translate(208.890,713.740)\"><rect x=\"0.0\" y=\"0.0\" width=\"0\" height=\"0\"></rect></g><g id=\"node-72\" transform=\"translate(206.825,615.510)\"><rect x=\"0.0\" y=\"0.0\" width=\"0\" height=\"0\"></rect></g><g id=\"node-73\" transform=\"translate(202.551,411.294)\"><rect x=\"0.0\" y=\"0.0\" width=\"0\" height=\"0\"></rect></g><g id=\"node-74\" transform=\"translate(203.189,341.499)\"><rect x=\"0.0\" y=\"0.0\" width=\"0\" height=\"0\"></rect></g><g id=\"node-75\" transform=\"translate(200.503,279.459)\"><rect x=\"0.0\" y=\"0.0\" width=\"0\" height=\"0\"></rect></g><g id=\"node-76\" transform=\"translate(206.352,196.738)\"><rect x=\"0.0\" y=\"0.0\" width=\"0\" height=\"0\"></rect></g><g id=\"node-77\" transform=\"translate(201.264,963.840)\"><rect x=\"0.0\" y=\"0.0\" width=\"0\" height=\"0\"></rect></g><g id=\"node-78\" transform=\"translate(206.799,804.216)\"><rect x=\"0.0\" y=\"0.0\" width=\"0\" height=\"0\"></rect></g><g id=\"node-79\" transform=\"translate(203.684,734.421)\"><rect x=\"0.0\" y=\"0.0\" width=\"0\" height=\"0\"></rect></g><g id=\"node-80\" transform=\"translate(206.766,672.380)\"><rect x=\"0.0\" y=\"0.0\" width=\"0\" height=\"0\"></rect></g><g id=\"node-81\" transform=\"translate(205.945,597.415)\"><rect x=\"0.0\" y=\"0.0\" width=\"0\" height=\"0\"></rect></g><g id=\"node-82\" transform=\"translate(206.481,527.620)\"><rect x=\"0.0\" y=\"0.0\" width=\"0\" height=\"0\"></rect></g><g id=\"node-83\" transform=\"translate(206.422,486.260)\"><rect x=\"0.0\" y=\"0.0\" width=\"0\" height=\"0\"></rect></g><g id=\"node-84\" transform=\"translate(202.492,391.907)\"><rect x=\"0.0\" y=\"0.0\" width=\"0\" height=\"0\"></rect></g><g id=\"node-85\" transform=\"translate(203.130,325.989)\"><rect x=\"0.0\" y=\"0.0\" width=\"0\" height=\"0\"></rect></g><g id=\"node-86\" transform=\"translate(200.444,263.949)\"><rect x=\"0.0\" y=\"0.0\" width=\"0\" height=\"0\"></rect></g><g id=\"node-87\" transform=\"translate(206.352,181.228)\"><rect x=\"0.0\" y=\"0.0\" width=\"0\" height=\"0\"></rect></g><g id=\"node-88\" transform=\"translate(203.486,114.018)\"><rect x=\"0.0\" y=\"0.0\" width=\"0\" height=\"0\"></rect></g><g id=\"node-89\" transform=\"translate(191.310,884.028)\"><rect x=\"0.0\" y=\"0.0\" width=\"0\" height=\"0\"></rect></g><g id=\"node-90\" transform=\"translate(198.097,703.400)\"><rect x=\"0.0\" y=\"0.0\" width=\"0\" height=\"0\"></rect></g><g id=\"node-91\" transform=\"translate(202.910,578.027)\"><rect x=\"0.0\" y=\"0.0\" width=\"0\" height=\"0\"></rect></g><g id=\"node-92\" transform=\"translate(206.422,506.940)\"><rect x=\"0.0\" y=\"0.0\" width=\"0\" height=\"0\"></rect></g><g id=\"node-93\" transform=\"translate(195.661,358.948)\"><rect x=\"0.0\" y=\"0.0\" width=\"0\" height=\"0\"></rect></g><g id=\"node-94\" transform=\"translate(200.444,245.854)\"><rect x=\"0.0\" y=\"0.0\" width=\"0\" height=\"0\"></rect></g><g id=\"node-95\" transform=\"translate(206.116,163.133)\"><rect x=\"0.0\" y=\"0.0\" width=\"0\" height=\"0\"></rect></g><g id=\"node-96\" transform=\"translate(203.368,98.508)\"><rect x=\"0.0\" y=\"0.0\" width=\"0\" height=\"0\"></rect></g><g id=\"node-97\" transform=\"translate(161.887,793.714)\"><rect x=\"0.0\" y=\"0.0\" width=\"0\" height=\"0\"></rect></g><g id=\"node-98\" transform=\"translate(190.339,542.484)\"><rect x=\"0.0\" y=\"0.0\" width=\"0\" height=\"0\"></rect></g><g id=\"node-99\" transform=\"translate(193.707,302.401)\"><rect x=\"0.0\" y=\"0.0\" width=\"0\" height=\"0\"></rect></g><g id=\"node-100\" transform=\"translate(183.914,130.821)\"><rect x=\"0.0\" y=\"0.0\" width=\"0\" height=\"0\"></rect></g><g id=\"node-101\" transform=\"translate(144.996,668.099)\"><rect x=\"0.0\" y=\"0.0\" width=\"0\" height=\"0\"></rect></g><g id=\"node-102\" transform=\"translate(172.411,216.611)\"><rect x=\"0.0\" y=\"0.0\" width=\"0\" height=\"0\"></rect></g><g id=\"node-103\" transform=\"translate(106.626,442.355)\"><rect x=\"0.0\" y=\"0.0\" width=\"0\" height=\"0\"></rect></g><g id=\"node-104\" transform=\"translate(50.000,252.336)\"><rect x=\"0.0\" y=\"0.0\" width=\"0\" height=\"0\"></rect></g></g><g class=\"toytree-TipLabels\" style=\"fill:rgb(14.9%,14.9%,14.9%);fill-opacity:1.0;font-family:helvetica;font-size:11px;font-weight:normal;stroke:none;white-space:pre\"><g transform=\"translate(213.45,1137.68)rotate(0)\"><text x=\"15.00\" y=\"2.81\" style=\"fill:rgb(83.9%,33.3%,48.6%);fill-opacity:1.0\">Pan_troglodytes_ellioti_KU308531.1</text></g><g transform=\"translate(213.45,1117.00)rotate(0)\"><text x=\"15.00\" y=\"2.81\" style=\"fill:rgb(83.9%,33.3%,48.6%);fill-opacity:1.0\">Pan_troglodytes_ellioti_KU308533.1</text></g><g transform=\"translate(213.45,1096.32)rotate(0)\"><text x=\"15.00\" y=\"2.81\" style=\"fill:rgb(83.9%,33.3%,48.6%);fill-opacity:1.0\">Pan_troglodytes_ellioti_KU308532.1</text></g><g transform=\"translate(213.45,1075.64)rotate(0)\"><text x=\"15.00\" y=\"2.81\" style=\"fill:rgb(83.9%,33.3%,48.6%);fill-opacity:1.0\">Pan_troglodytes_ellioti_KU308530.1</text></g><g transform=\"translate(213.45,1054.96)rotate(0)\"><text x=\"15.00\" y=\"2.81\" style=\"fill:rgb(83.9%,33.3%,48.6%);fill-opacity:1.0\">Pan_troglodytes_ellioti_KU308529.1</text></g><g transform=\"translate(213.45,1034.28)rotate(0)\"><text x=\"15.00\" y=\"2.81\" style=\"fill:rgb(83.9%,33.3%,48.6%);fill-opacity:1.0\">Pan_troglodytes_verus_A993_KU308545.1</text></g><g transform=\"translate(213.45,1013.60)rotate(0)\"><text x=\"15.00\" y=\"2.81\" style=\"fill:rgb(83.9%,33.3%,48.6%);fill-opacity:1.0\">Pan_troglodytes_verus_B005_KU308547.1</text></g><g transform=\"translate(213.45,992.92)rotate(0)\"><text x=\"15.00\" y=\"2.81\" style=\"fill:rgb(83.9%,33.3%,48.6%);fill-opacity:1.0\">Pan_troglodytes_verus_A994_KU308546.1</text></g><g transform=\"translate(213.45,972.24)rotate(0)\"><text x=\"15.00\" y=\"2.81\" style=\"fill:rgb(83.9%,33.3%,48.6%);fill-opacity:1.0\">Pan_troglodytes_verus_N016_KU308548.1</text></g><g transform=\"translate(213.45,951.56)rotate(0)\"><text x=\"15.00\" y=\"2.81\" style=\"fill:rgb(83.9%,33.3%,48.6%);fill-opacity:1.0\">Pan_troglodytes_troglodytes_B022_KU308541.1</text></g><g transform=\"translate(213.45,930.88)rotate(0)\"><text x=\"15.00\" y=\"2.81\" style=\"fill:rgb(83.9%,33.3%,48.6%);fill-opacity:1.0\">Pan_troglodytes_troglodytes_B024_KU308542.1</text></g><g transform=\"translate(213.45,910.20)rotate(0)\"><text x=\"15.00\" y=\"2.81\" style=\"fill:rgb(83.9%,33.3%,48.6%);fill-opacity:1.0\">Pan_troglodytes_troglodytes_B021_KU308540.1</text></g><g transform=\"translate(213.45,889.52)rotate(0)\"><text x=\"15.00\" y=\"2.81\" style=\"fill:rgb(83.9%,33.3%,48.6%);fill-opacity:1.0\">Pan_troglodytes_troglodytes_B025_KU308543.1</text></g><g transform=\"translate(213.45,868.84)rotate(0)\"><text x=\"15.00\" y=\"2.81\" style=\"fill:rgb(83.9%,33.3%,48.6%);fill-opacity:1.0\">Pan_troglodytes_troglodytes_A990_KU308539.1</text></g><g transform=\"translate(213.45,848.16)rotate(0)\"><text x=\"15.00\" y=\"2.81\" style=\"fill:rgb(83.9%,33.3%,48.6%);fill-opacity:1.0\">Pan_paniscus_PP05_GU189658.1</text></g><g transform=\"translate(213.45,827.48)rotate(0)\"><text x=\"15.00\" y=\"2.81\" style=\"fill:rgb(83.9%,33.3%,48.6%);fill-opacity:1.0\">Pan_paniscus_PP30_GU189676.1</text></g><g transform=\"translate(213.45,806.80)rotate(0)\"><text x=\"15.00\" y=\"2.81\" style=\"fill:rgb(83.9%,33.3%,48.6%);fill-opacity:1.0\">Pan_paniscus_PP23_GU189661.1</text></g><g transform=\"translate(213.45,786.12)rotate(0)\"><text x=\"15.00\" y=\"2.81\" style=\"fill:rgb(83.9%,33.3%,48.6%);fill-opacity:1.0\">Pan_paniscus_PP69_GU189670.1</text></g><g transform=\"translate(213.45,765.44)rotate(0)\"><text x=\"15.00\" y=\"2.81\" style=\"fill:rgb(19.6%,80.4%,19.6%);fill-opacity:1.0\">Homo_sapiens_neanderthalensis_FM865410.1</text></g><g transform=\"translate(213.45,744.76)rotate(0)\"><text x=\"15.00\" y=\"2.81\" style=\"fill:rgb(19.6%,80.4%,19.6%);fill-opacity:1.0\">Homo_sapiens_neanderthalensis_AM948965.1</text></g><g transform=\"translate(213.45,724.08)rotate(0)\"><text x=\"15.00\" y=\"2.81\" style=\"fill:rgb(0%,50.2%,0%);fill-opacity:1.0\">Homo_sapiens_sapiens_AJ842750.1</text></g><g transform=\"translate(213.45,703.40)rotate(0)\"><text x=\"15.00\" y=\"2.81\" style=\"fill:rgb(0%,50.2%,0%);fill-opacity:1.0\">Homo_sapiens_sapiens_FN600416.1</text></g><g transform=\"translate(213.45,682.72)rotate(0)\"><text x=\"15.00\" y=\"2.81\" style=\"fill:rgb(32.5%,51.8%,63.9%);fill-opacity:1.0\">Homo_sapiens_denisova_KT780370.1</text></g><g transform=\"translate(213.45,662.04)rotate(0)\"><text x=\"15.00\" y=\"2.81\" style=\"fill:rgb(32.5%,51.8%,63.9%);fill-opacity:1.0\">Homo_sapiens_denisova_KX663333.1</text></g><g transform=\"translate(213.45,641.36)rotate(0)\"><text x=\"15.00\" y=\"2.81\" style=\"fill:rgb(25.5%,41.2%,88.2%);fill-opacity:1.0\">Gorilla_gorilla_gorilla_KU353721.1</text></g><g transform=\"translate(213.45,620.68)rotate(0)\"><text x=\"15.00\" y=\"2.81\" style=\"fill:rgb(25.5%,41.2%,88.2%);fill-opacity:1.0\">Gorilla_gorilla_gorilla_EU095336.1</text></g><g transform=\"translate(213.45,600.00)rotate(0)\"><text x=\"15.00\" y=\"2.81\" style=\"fill:rgb(25.5%,41.2%,88.2%);fill-opacity:1.0\">Gorilla_gorilla_gorilla_KF914214.1</text></g><g transform=\"translate(213.45,579.32)rotate(0)\"><text x=\"15.00\" y=\"2.81\" style=\"fill:rgb(25.5%,41.2%,88.2%);fill-opacity:1.0\">Gorilla_gorilla_gorilla_KU353722.1</text></g><g transform=\"translate(213.45,558.64)rotate(0)\"><text x=\"15.00\" y=\"2.81\" style=\"fill:rgb(25.5%,41.2%,88.2%);fill-opacity:1.0\">Gorilla_gorilla_gorilla_NC_011120.1</text></g><g transform=\"translate(213.45,537.96)rotate(0)\"><text x=\"15.00\" y=\"2.81\" style=\"fill:rgb(0%,0%,100%);fill-opacity:1.0\">Gorilla_beringei_MH177751.1</text></g><g transform=\"translate(213.45,517.28)rotate(0)\"><text x=\"15.00\" y=\"2.81\" style=\"fill:rgb(0%,0%,100%);fill-opacity:1.0\">Gorilla_beringei_MH177752.1</text></g><g transform=\"translate(213.45,496.60)rotate(0)\"><text x=\"15.00\" y=\"2.81\" style=\"fill:rgb(0%,0%,100%);fill-opacity:1.0\">Gorilla_beringei_MH177753.1</text></g><g transform=\"translate(213.45,475.92)rotate(0)\"><text x=\"15.00\" y=\"2.81\" style=\"fill:rgb(0%,0%,100%);fill-opacity:1.0\">Gorilla_beringei_MH177754.1</text></g><g transform=\"translate(213.45,455.24)rotate(0)\"><text x=\"15.00\" y=\"2.81\" style=\"fill:rgb(100%,0%,0%);fill-opacity:1.0\">Pongo_abelii_CR247</text></g><g transform=\"translate(213.45,434.56)rotate(0)\"><text x=\"15.00\" y=\"2.81\" style=\"fill:rgb(100%,0%,0%);fill-opacity:1.0\">Pongo_abelii_CR011</text></g><g transform=\"translate(213.45,413.88)rotate(0)\"><text x=\"15.00\" y=\"2.81\" style=\"fill:rgb(100%,0%,0%);fill-opacity:1.0\">Pongo_abelii_B017</text></g><g transform=\"translate(213.45,393.20)rotate(0)\"><text x=\"15.00\" y=\"2.81\" style=\"fill:rgb(100%,0%,0%);fill-opacity:1.0\">Pongo_abelii_B020</text></g><g transform=\"translate(213.45,372.52)rotate(0)\"><text x=\"15.00\" y=\"2.81\" style=\"fill:rgb(100%,0%,0%);fill-opacity:1.0\">Pongo_abelii_KB550</text></g><g transform=\"translate(213.45,351.84)rotate(0)\"><text x=\"15.00\" y=\"2.81\" style=\"fill:rgb(100%,0%,0%);fill-opacity:1.0\">Pongo_abelii_B018</text></g><g transform=\"translate(213.45,331.16)rotate(0)\"><text x=\"15.00\" y=\"2.81\" style=\"fill:rgb(100%,0%,0%);fill-opacity:1.0\">Pongo_abelii_A949</text></g><g transform=\"translate(213.45,310.48)rotate(0)\"><text x=\"15.00\" y=\"2.81\" style=\"fill:rgb(100%,0%,0%);fill-opacity:1.0\">Pongo_abelii_CRNA</text></g><g transform=\"translate(213.45,289.80)rotate(0)\"><text x=\"15.00\" y=\"2.81\" style=\"fill:rgb(100%,0%,0%);fill-opacity:1.0\">Pongo_abelii_A952</text></g><g transform=\"translate(213.45,269.12)rotate(0)\"><text x=\"15.00\" y=\"2.81\" style=\"fill:rgb(100%,0%,0%);fill-opacity:1.0\">Pongo_abelii_KB4661</text></g><g transform=\"translate(213.45,248.44)rotate(0)\"><text x=\"15.00\" y=\"2.81\" style=\"fill:rgb(100%,0%,0%);fill-opacity:1.0\">Pongo_abelii_CR519</text></g><g transform=\"translate(213.45,227.76)rotate(0)\"><text x=\"15.00\" y=\"2.81\" style=\"fill:rgb(100%,0%,0%);fill-opacity:1.0\">Pongo_abelii_KB5883</text></g><g transform=\"translate(213.45,207.08)rotate(0)\"><text x=\"15.00\" y=\"2.81\" style=\"fill:rgb(100%,64.7%,0%);fill-opacity:1.0\">Pongo_pygmaeus_CR535</text></g><g transform=\"translate(213.45,186.40)rotate(0)\"><text x=\"15.00\" y=\"2.81\" style=\"fill:rgb(100%,64.7%,0%);fill-opacity:1.0\">Pongo_pygmaeus_CR536</text></g><g transform=\"translate(213.45,165.72)rotate(0)\"><text x=\"15.00\" y=\"2.81\" style=\"fill:rgb(100%,64.7%,0%);fill-opacity:1.0\">Pongo_pygmaeus_A940</text></g><g transform=\"translate(213.45,145.04)rotate(0)\"><text x=\"15.00\" y=\"2.81\" style=\"fill:rgb(100%,64.7%,0%);fill-opacity:1.0\">Pongo_pygmaeus_A938</text></g><g transform=\"translate(213.45,124.36)rotate(0)\"><text x=\"15.00\" y=\"2.81\" style=\"fill:rgb(64.7%,16.5%,16.5%);fill-opacity:1.0\">Pongo_tapanuliensis_B019</text></g><g transform=\"translate(213.45,103.68)rotate(0)\"><text x=\"15.00\" y=\"2.81\" style=\"fill:rgb(64.7%,16.5%,16.5%);fill-opacity:1.0\">Pongo_tapanuliensis_CRBT</text></g><g transform=\"translate(213.45,83.00)rotate(0)\"><text x=\"15.00\" y=\"2.81\" style=\"fill:rgb(64.7%,16.5%,16.5%);fill-opacity:1.0\">Pongo_tapanuliensis_KB9258</text></g><g transform=\"translate(213.45,62.32)rotate(0)\"><text x=\"15.00\" y=\"2.81\" style=\"fill:rgb(32.5%,51.8%,63.9%);fill-opacity:1.0\">Hylobates_lar_HQ622776.1</text></g></g></g></g><g class=\"toyplot-coordinates-Axis\" id=\"tde28882b6de14eb89789165a069c5369\" transform=\"translate(50.0,1150.0)translate(0,20.0)\"><line x1=\"0\" y1=\"0\" x2=\"163.44866362151072\" y2=\"0\" style=\"\"></line><g><line x1=\"163.44866362151072\" y1=\"0\" x2=\"163.44866362151072\" y2=\"-5\" style=\"\"></line><line x1=\"108.9657757476738\" y1=\"0\" x2=\"108.9657757476738\" y2=\"-5\" style=\"\"></line><line x1=\"54.4828878738369\" y1=\"0\" x2=\"54.4828878738369\" y2=\"-5\" style=\"\"></line><line x1=\"0.0\" y1=\"0\" x2=\"0.0\" y2=\"-5\" style=\"\"></line></g><g><g transform=\"translate(163.44866362151072,6)\"><text x=\"-9.729999999999999\" y=\"8.555\" style=\"fill:rgb(16.1%,15.3%,14.1%);fill-opacity:1.0;font-family:helvetica;font-size:10.0px;font-weight:normal;stroke:none;vertical-align:baseline;white-space:pre\">0.00</text></g><g transform=\"translate(108.9657757476738,6)\"><text x=\"-9.729999999999999\" y=\"8.555\" style=\"fill:rgb(16.1%,15.3%,14.1%);fill-opacity:1.0;font-family:helvetica;font-size:10.0px;font-weight:normal;stroke:none;vertical-align:baseline;white-space:pre\">0.07</text></g><g transform=\"translate(54.4828878738369,6)\"><text x=\"-9.729999999999999\" y=\"8.555\" style=\"fill:rgb(16.1%,15.3%,14.1%);fill-opacity:1.0;font-family:helvetica;font-size:10.0px;font-weight:normal;stroke:none;vertical-align:baseline;white-space:pre\">0.14</text></g><g transform=\"translate(0.0,6)\"><text x=\"-9.729999999999999\" y=\"8.555\" style=\"fill:rgb(16.1%,15.3%,14.1%);fill-opacity:1.0;font-family:helvetica;font-size:10.0px;font-weight:normal;stroke:none;vertical-align:baseline;white-space:pre\">0.20</text></g></g><g class=\"toyplot-coordinates-Axis-coordinates\" style=\"visibility:hidden\" transform=\"\"><line x1=\"0\" x2=\"0\" y1=\"-3.0\" y2=\"4.5\" style=\"stroke:rgb(43.9%,50.2%,56.5%);stroke-opacity:1.0;stroke-width:1.0\"></line><text x=\"0\" y=\"-6\" style=\"alignment-baseline:alphabetic;fill:rgb(43.9%,50.2%,56.5%);fill-opacity:1.0;font-size:10px;font-weight:normal;stroke:none;text-anchor:middle\"></text></g></g></g></svg><div class=\"toyplot-behavior\"><script>(function()\n",
       "{\n",
       "var modules={};\n",
       "modules[\"toyplot/canvas/id\"] = \"t0ff97e51965b4123afa5e613f61d00c7\";\n",
       "modules[\"toyplot/canvas\"] = (function(canvas_id)\n",
       "    {\n",
       "        return document.querySelector(\"#\" + canvas_id);\n",
       "    })(modules[\"toyplot/canvas/id\"]);\n",
       "modules[\"toyplot.coordinates.Axis\"] = (\n",
       "        function(canvas)\n",
       "        {\n",
       "            function sign(x)\n",
       "            {\n",
       "                return x < 0 ? -1 : x > 0 ? 1 : 0;\n",
       "            }\n",
       "\n",
       "            function mix(a, b, amount)\n",
       "            {\n",
       "                return ((1.0 - amount) * a) + (amount * b);\n",
       "            }\n",
       "\n",
       "            function log(x, base)\n",
       "            {\n",
       "                return Math.log(Math.abs(x)) / Math.log(base);\n",
       "            }\n",
       "\n",
       "            function in_range(a, x, b)\n",
       "            {\n",
       "                var left = Math.min(a, b);\n",
       "                var right = Math.max(a, b);\n",
       "                return left <= x && x <= right;\n",
       "            }\n",
       "\n",
       "            function inside(range, projection)\n",
       "            {\n",
       "                for(var i = 0; i != projection.length; ++i)\n",
       "                {\n",
       "                    var segment = projection[i];\n",
       "                    if(in_range(segment.range.min, range, segment.range.max))\n",
       "                        return true;\n",
       "                }\n",
       "                return false;\n",
       "            }\n",
       "\n",
       "            function to_domain(range, projection)\n",
       "            {\n",
       "                for(var i = 0; i != projection.length; ++i)\n",
       "                {\n",
       "                    var segment = projection[i];\n",
       "                    if(in_range(segment.range.bounds.min, range, segment.range.bounds.max))\n",
       "                    {\n",
       "                        if(segment.scale == \"linear\")\n",
       "                        {\n",
       "                            var amount = (range - segment.range.min) / (segment.range.max - segment.range.min);\n",
       "                            return mix(segment.domain.min, segment.domain.max, amount)\n",
       "                        }\n",
       "                        else if(segment.scale[0] == \"log\")\n",
       "                        {\n",
       "                            var amount = (range - segment.range.min) / (segment.range.max - segment.range.min);\n",
       "                            var base = segment.scale[1];\n",
       "                            return sign(segment.domain.min) * Math.pow(base, mix(log(segment.domain.min, base), log(segment.domain.max, base), amount));\n",
       "                        }\n",
       "                    }\n",
       "                }\n",
       "            }\n",
       "\n",
       "            var axes = {};\n",
       "\n",
       "            function display_coordinates(e)\n",
       "            {\n",
       "                var current = canvas.createSVGPoint();\n",
       "                current.x = e.clientX;\n",
       "                current.y = e.clientY;\n",
       "\n",
       "                for(var axis_id in axes)\n",
       "                {\n",
       "                    var axis = document.querySelector(\"#\" + axis_id);\n",
       "                    var coordinates = axis.querySelector(\".toyplot-coordinates-Axis-coordinates\");\n",
       "                    if(coordinates)\n",
       "                    {\n",
       "                        var projection = axes[axis_id];\n",
       "                        var local = current.matrixTransform(axis.getScreenCTM().inverse());\n",
       "                        if(inside(local.x, projection))\n",
       "                        {\n",
       "                            var domain = to_domain(local.x, projection);\n",
       "                            coordinates.style.visibility = \"visible\";\n",
       "                            coordinates.setAttribute(\"transform\", \"translate(\" + local.x + \")\");\n",
       "                            var text = coordinates.querySelector(\"text\");\n",
       "                            text.textContent = domain.toFixed(2);\n",
       "                        }\n",
       "                        else\n",
       "                        {\n",
       "                            coordinates.style.visibility= \"hidden\";\n",
       "                        }\n",
       "                    }\n",
       "                }\n",
       "            }\n",
       "\n",
       "            canvas.addEventListener(\"click\", display_coordinates);\n",
       "\n",
       "            var module = {};\n",
       "            module.show_coordinates = function(axis_id, projection)\n",
       "            {\n",
       "                axes[axis_id] = projection;\n",
       "            }\n",
       "\n",
       "            return module;\n",
       "        })(modules[\"toyplot/canvas\"]);\n",
       "(function(axis, axis_id, projection)\n",
       "        {\n",
       "            axis.show_coordinates(axis_id, projection);\n",
       "        })(modules[\"toyplot.coordinates.Axis\"],\"tde28882b6de14eb89789165a069c5369\",[{\"domain\": {\"bounds\": {\"max\": Infinity, \"min\": -Infinity}, \"max\": 0.2526433333081576, \"min\": -0.2048818725}, \"range\": {\"bounds\": {\"max\": Infinity, \"min\": -Infinity}, \"max\": 365.0, \"min\": 0.0}, \"scale\": \"linear\"}]);\n",
       "})();</script></div></div>"
      ]
     },
     "metadata": {},
     "output_type": "display_data"
    }
   ],
   "source": [
    "# change the output file names below and run the cell.\n",
    "# remember to save these files and take them away\n",
    "import toyplot.svg\n",
    "import toyplot.html\n",
    "import toyplot.pdf\n",
    "\n",
    "canvas, axes = rtre.draw(\n",
    "    height=1200,\n",
    "    scalebar=True,\n",
    "    node_labels=None,\n",
    "    node_sizes=[0 if i else 8 for i in rtre.get_node_values(None, 1, 0)],\n",
    "    node_markers=\"s\",\n",
    "    node_colors=toytree.colors[0], # could this be =colorlist too?\n",
    "    tip_labels_align=True,\n",
    "    tip_labels_colors=colorlist\n",
    ");\n",
    "\n",
    "\n",
    "toyplot.svg.render(canvas, \"big_ape2.svg\")\n",
    "toyplot.pdf.render(canvas, \"big_ape2.pdf\")"
   ]
  },
  {
   "cell_type": "markdown",
   "metadata": {},
   "source": [
    "<h2><font color='Blue'>Well Done</font></h2>\n",
    "\n",
    "You are now finished with case study 1, the apes. Case study two, the origins of HIV, will be much faster now you have experience.\n",
    "\n",
    "Please feel free to take a short break here.\n",
    "<hr>"
   ]
  },
  {
   "cell_type": "markdown",
   "metadata": {},
   "source": [
    "<h1><font color='DodgerBlue'>STUDY2: WHAT ARE THE ORIGINS OF HIV?</font></h1>"
   ]
  },
  {
   "cell_type": "markdown",
   "metadata": {},
   "source": [
    "![HIV](images/HIV.png)"
   ]
  },
  {
   "cell_type": "markdown",
   "metadata": {},
   "source": [
    "**Has HIV (human immunodeficiency virus) has coevolved with humans or does it have a recent zoonotic origin?**\n",
    "\n",
    "How can you test this? You now have all the skills required. We are going to repeat some of the work described by Sharp and Hahn (2011) in their paper \"Origins of HIV and the AIDS Pandemic\". Their figure 4 is very informative, and Zimmer and Emlen redraw it in their (3rd edition) Figure 8.12. \n",
    "\n",
    "Today you are going to reanalyse the HIV and SIV sequence data from great apes to produce a simlar figure and answer the question set above regarding zoonotic transfer. "
   ]
  },
  {
   "cell_type": "markdown",
   "metadata": {},
   "source": [
    "<h3><font color='DodgerBlue'>Sequence data</font></h3>"
   ]
  },
  {
   "cell_type": "markdown",
   "metadata": {},
   "source": [
    "I have prepared fasta files for you containing SIV and HIV sequence data from the *env* gene (Google it). They are called `SIVHIVspecies_ENV.fasta`\n",
    "\n",
    "It would be useful for you to know how many sequences were in each file, you calculated this earlier today for different files."
   ]
  },
  {
   "cell_type": "markdown",
   "metadata": {},
   "source": [
    "<h3><font color='DodgerBlue'>Sequence alignment and tree reconstruction</font></h3>"
   ]
  },
  {
   "cell_type": "code",
   "execution_count": 35,
   "metadata": {},
   "outputs": [
    {
     "name": "stdout",
     "output_type": "stream",
     "text": [
      "\n",
      "The analysis has begun, this will take a few minutes, please be patient\n",
      "The alignment trimming has finished\n",
      "The phylogenetic tree construction has started\n",
      "\n",
      "FastTree Version 2.1.10 Double precision (No SSE3)\n",
      "Alignment: SIVHIVspecies_ENV_trimmed.afa\n",
      "Nucleotide distances: Jukes-Cantor Joins: balanced Support: SH-like 1000\n",
      "Search: Normal +NNI +SPR (2 rounds range 10) +ML-NNI opt-each=1\n",
      "TopHits: 1.00*sqrtN close=default refresh=0.80\n",
      "ML Model: Generalized Time-Reversible, CAT approximation with 20 rate categories\n",
      "Ignored unknown character k (seen 8 times)\n",
      "Ignored unknown character m (seen 5 times)\n",
      "Ignored unknown character n (seen 1 times)\n",
      "Ignored unknown character r (seen 31 times)\n",
      "Ignored unknown character s (seen 4 times)\n",
      "Ignored unknown character w (seen 9 times)\n",
      "Ignored unknown character y (seen 14 times)\n",
      "Initial topology in 0.05 seconds\n",
      "Refining topology: 21 rounds ME-NNIs, 2 rounds ME-SPRs, 11 rounds ML-NNIs\n",
      "Total branch-length 4.225 after 0.52 sec1, 1 of 39 splits   \n",
      "ML-NNI round 1: LogLk = -38091.828 NNIs 8 max delta 30.96 Time 0.77\n",
      "GTR Frequencies: 0.3459 0.1835 0.2325 0.2381ep 12 of 12   \n",
      "GTR rates(ac ag at cg ct gt) 2.8801 4.2613 1.4979 1.5350 4.9478 1.0000\n",
      "Switched to using 20 rate categories (CAT approximation)1 of 20   \n",
      "Rate categories were divided by 0.860 so that average rate = 1.0\n",
      "CAT-based log-likelihoods may not be comparable across runs\n",
      "Use -gamma for approximate but comparable Gamma(20) log-likelihoods\n",
      "ML-NNI round 2: LogLk = -33351.728 NNIs 2 max delta 1.57 Time 1.84\n",
      "ML-NNI round 3: LogLk = -33348.280 NNIs 0 max delta 0.00 Time 1.90\n",
      "Turning off heuristics for final round of ML NNIs (converged)\n",
      "ML-NNI round 4: LogLk = -33338.905 NNIs 2 max delta 1.64 Time 2.20 (final)\n",
      "Optimize all lengths: LogLk = -33338.753 Time 2.27\n",
      "Total time: 2.61 seconds Unique: 41/41 Bad splits: 0/38\n",
      "\n",
      "The phylogenetic analysis has finished\n"
     ]
    }
   ],
   "source": [
    "#HIV\n",
    "print(\"\\nThe analysis has begun, this will take a few minutes, please be patient\")\n",
    "\n",
    "# # Align\n",
    "# !mafft --auto --quiet data/SIVHIVspecies_ENV.fasta > SIVHIVspecies_ENV.afa\n",
    "# print(\"\\nThe sequence alignment has finished\")\n",
    "# Trim\n",
    "!trimal -in SIVHIVspecies_ENV.afa -out SIVHIVspecies_ENV_trimmed.afa -gappyout -keepheader\n",
    "print(\"The alignment trimming has finished\")\n",
    "# Tree build\n",
    "print(\"The phylogenetic tree construction has started\\n\")\n",
    "!FastTree -gtr -nt SIVHIVspecies_ENV_trimmed.afa > SIVHIVspecies_ENV.nwk\n",
    "print(\"\\nThe phylogenetic analysis has finished\")"
   ]
  },
  {
   "cell_type": "code",
   "execution_count": 36,
   "metadata": {},
   "outputs": [],
   "source": [
    "# import the code so we can use it later, just run this cell\n",
    "import toytree       # a tree plotting library\n",
    "import toyplot       # a general plotting library\n",
    "import toyplot.pdf\n",
    "import toyplot.svg"
   ]
  },
  {
   "cell_type": "code",
   "execution_count": 49,
   "metadata": {},
   "outputs": [
    {
     "ename": "ValueError",
     "evalue": "too many values to unpack (expected 2)",
     "output_type": "error",
     "traceback": [
      "\u001b[0;31m---------------------------------------------------------------------------\u001b[0m",
      "\u001b[0;31mValueError\u001b[0m                                Traceback (most recent call last)",
      "\u001b[0;32m<ipython-input-49-ee1c37e55d33>\u001b[0m in \u001b[0;36m<module>\u001b[0;34m\u001b[0m\n\u001b[1;32m      9\u001b[0m              else \"cyan\" for tip in rtre.get_tip_labels()]\n\u001b[1;32m     10\u001b[0m \u001b[0;34m\u001b[0m\u001b[0m\n\u001b[0;32m---> 11\u001b[0;31m (canvas, axes) = rtre.draw(\n\u001b[0m\u001b[1;32m     12\u001b[0m     \u001b[0mnode_labels\u001b[0m\u001b[0;34m=\u001b[0m\u001b[0;32mNone\u001b[0m\u001b[0;34m,\u001b[0m\u001b[0;34m\u001b[0m\u001b[0;34m\u001b[0m\u001b[0m\n\u001b[1;32m     13\u001b[0m     \u001b[0mwidth\u001b[0m\u001b[0;34m=\u001b[0m\u001b[0;36m600\u001b[0m\u001b[0;34m,\u001b[0m\u001b[0;34m\u001b[0m\u001b[0;34m\u001b[0m\u001b[0m\n",
      "\u001b[0;31mValueError\u001b[0m: too many values to unpack (expected 2)"
     ]
    },
    {
     "data": {
      "text/html": [
       "<div class=\"toyplot\" id=\"ta12157c06c074c14917f9e64324f087c\" style=\"text-align:center\"><svg class=\"toyplot-canvas-Canvas\" xmlns:toyplot=\"http://www.sandia.gov/toyplot\" xmlns:xlink=\"http://www.w3.org/1999/xlink\" xmlns=\"http://www.w3.org/2000/svg\" width=\"600.0px\" height=\"600.0px\" viewBox=\"0 0 600.0 600.0\" preserveAspectRatio=\"xMidYMid meet\" style=\"background-color:transparent;border-color:#292724;border-style:none;border-width:1.0;fill:rgb(16.1%,15.3%,14.1%);fill-opacity:1.0;font-family:Helvetica;font-size:12px;opacity:1.0;stroke:rgb(16.1%,15.3%,14.1%);stroke-opacity:1.0;stroke-width:1.0\" id=\"t03e24c31f4754e65a0aed6a278791189\"><g class=\"toyplot-coordinates-Cartesian\" id=\"tc036b72b67a64cd686496f8ba3a09b2a\"><clipPath id=\"t777e84dc8aeb49c5ad6a59ffba9eb48f\"><rect x=\"30.0\" y=\"30.0\" width=\"540.0\" height=\"540.0\"></rect></clipPath><g clip-path=\"url(#t777e84dc8aeb49c5ad6a59ffba9eb48f)\"><g class=\"toytree-mark-Toytree\" id=\"t4aea600c299a461da8421259bc787c35\"><g class=\"toytree-Edges\" style=\"fill:none;stroke:rgb(14.9%,14.9%,14.9%);stroke-linecap:round;stroke-opacity:1;stroke-width:2\"><path d=\"M 50.0 172.1 L 50.0 73.2 L 95.5 73.2\" id=\"80,79\"></path><path d=\"M 50.0 172.1 L 50.0 271.0 L 95.5 271.0\" id=\"80,78\"></path><path d=\"M 95.5 73.2 L 95.5 84.3 L 146.4 84.3\" id=\"79,77\"></path><path d=\"M 95.5 271.0 L 95.5 167.1 L 114.4 167.1\" id=\"78,76\"></path><path d=\"M 95.5 271.0 L 95.5 374.9 L 144.7 374.9\" id=\"78,75\"></path><path d=\"M 146.4 84.3 L 146.4 94.7 L 155.4 94.7\" id=\"77,74\"></path><path d=\"M 114.4 167.1 L 114.4 127.4 L 160.2 127.4\" id=\"76,73\"></path><path d=\"M 114.4 167.1 L 114.4 206.8 L 130.2 206.8\" id=\"76,72\"></path><path d=\"M 144.7 374.9 L 144.7 344.6 L 201.8 344.6\" id=\"75,71\"></path><path d=\"M 144.7 374.9 L 144.7 405.2 L 168.3 405.2\" id=\"75,70\"></path><path d=\"M 155.4 94.7 L 155.4 103.6 L 170.0 103.6\" id=\"74,69\"></path><path d=\"M 130.2 206.8 L 130.2 157.0 L 156.8 157.0\" id=\"72,68\"></path><path d=\"M 130.2 206.8 L 130.2 256.7 L 171.0 256.7\" id=\"72,67\"></path><path d=\"M 201.8 344.6 L 201.8 353.6 L 236.9 353.6\" id=\"71,66\"></path><path d=\"M 168.3 405.2 L 168.3 380.3 L 181.3 380.3\" id=\"70,65\"></path><path d=\"M 168.3 405.2 L 168.3 430.2 L 251.4 430.2\" id=\"70,64\"></path><path d=\"M 156.8 157.0 L 156.8 168.7 L 169.3 168.7\" id=\"68,63\"></path><path d=\"M 171.0 256.7 L 171.0 237.5 L 189.7 237.5\" id=\"67,62\"></path><path d=\"M 171.0 256.7 L 171.0 275.8 L 180.0 275.8\" id=\"67,61\"></path><path d=\"M 181.3 380.3 L 181.3 389.3 L 222.2 389.3\" id=\"65,60\"></path><path d=\"M 251.4 430.2 L 251.4 453.2 L 262.9 453.2\" id=\"64,59\"></path><path d=\"M 169.3 168.7 L 169.3 180.3 L 179.0 180.3\" id=\"63,58\"></path><path d=\"M 189.7 237.5 L 189.7 246.4 L 201.5 246.4\" id=\"62,57\"></path><path d=\"M 180.0 275.8 L 180.0 287.4 L 210.1 287.4\" id=\"61,56\"></path><path d=\"M 262.9 453.2 L 262.9 425.0 L 270.0 425.0\" id=\"59,55\"></path><path d=\"M 262.9 453.2 L 262.9 481.5 L 281.2 481.5\" id=\"59,54\"></path><path d=\"M 179.0 180.3 L 179.0 191.4 L 210.5 191.4\" id=\"58,53\"></path><path d=\"M 210.1 287.4 L 210.1 298.5 L 230.7 298.5\" id=\"56,52\"></path><path d=\"M 281.2 481.5 L 281.2 453.2 L 286.9 453.2\" id=\"54,51\"></path><path d=\"M 281.2 481.5 L 281.2 509.7 L 284.3 509.7\" id=\"54,50\"></path><path d=\"M 210.5 191.4 L 210.5 201.8 L 217.3 201.8\" id=\"53,49\"></path><path d=\"M 230.7 298.5 L 230.7 308.9 L 235.7 308.9\" id=\"52,48\"></path><path d=\"M 286.9 453.2 L 286.9 463.6 L 288.4 463.6\" id=\"51,47\"></path><path d=\"M 284.3 509.7 L 284.3 496.4 L 289.5 496.4\" id=\"50,46\"></path><path d=\"M 284.3 509.7 L 284.3 523.1 L 291.1 523.1\" id=\"50,45\"></path><path d=\"M 217.3 201.8 L 217.3 210.7 L 222.9 210.7\" id=\"49,44\"></path><path d=\"M 235.7 308.9 L 235.7 317.9 L 241.3 317.9\" id=\"48,43\"></path><path d=\"M 288.4 463.6 L 288.4 472.6 L 292.4 472.6\" id=\"47,42\"></path><path d=\"M 291.1 523.1 L 291.1 532.1 L 302.4 532.1\" id=\"45,41\"></path><path d=\"M 95.5 73.2 L 95.5 62.0 L 199.7 62.0\" id=\"79,40\"></path><path d=\"M 146.4 84.3 L 146.4 73.9 L 166.7 73.9\" id=\"77,39\"></path><path d=\"M 155.4 94.7 L 155.4 85.8 L 181.2 85.8\" id=\"74,38\"></path><path d=\"M 170.0 103.6 L 170.0 97.7 L 184.6 97.7\" id=\"69,37\"></path><path d=\"M 170.0 103.6 L 170.0 109.6 L 185.0 109.6\" id=\"69,36\"></path><path d=\"M 160.2 127.4 L 160.2 121.5 L 198.9 121.5\" id=\"73,35\"></path><path d=\"M 160.2 127.4 L 160.2 133.4 L 200.4 133.4\" id=\"73,34\"></path><path d=\"M 156.8 157.0 L 156.8 145.3 L 214.6 145.3\" id=\"68,33\"></path><path d=\"M 169.3 168.7 L 169.3 157.2 L 214.1 157.2\" id=\"63,32\"></path><path d=\"M 179.0 180.3 L 179.0 169.1 L 225.8 169.1\" id=\"58,31\"></path><path d=\"M 210.5 191.4 L 210.5 181.0 L 225.8 181.0\" id=\"53,30\"></path><path d=\"M 217.3 201.8 L 217.3 192.9 L 243.4 192.9\" id=\"49,29\"></path><path d=\"M 222.9 210.7 L 222.9 204.8 L 248.6 204.8\" id=\"44,28\"></path><path d=\"M 222.9 210.7 L 222.9 216.7 L 248.1 216.7\" id=\"44,27\"></path><path d=\"M 189.7 237.5 L 189.7 228.6 L 205.4 228.6\" id=\"62,26\"></path><path d=\"M 201.5 246.4 L 201.5 240.5 L 224.3 240.5\" id=\"57,25\"></path><path d=\"M 201.5 246.4 L 201.5 252.4 L 241.9 252.4\" id=\"57,24\"></path><path d=\"M 180.0 275.8 L 180.0 264.3 L 247.6 264.3\" id=\"61,23\"></path><path d=\"M 210.1 287.4 L 210.1 276.2 L 256.4 276.2\" id=\"56,22\"></path><path d=\"M 230.7 298.5 L 230.7 288.1 L 247.3 288.1\" id=\"52,21\"></path><path d=\"M 235.7 308.9 L 235.7 300.0 L 254.7 300.0\" id=\"48,20\"></path><path d=\"M 241.3 317.9 L 241.3 311.9 L 253.4 311.9\" id=\"43,19\"></path><path d=\"M 241.3 317.9 L 241.3 323.8 L 257.1 323.8\" id=\"43,18\"></path><path d=\"M 201.8 344.6 L 201.8 335.7 L 251.2 335.7\" id=\"71,17\"></path><path d=\"M 236.9 353.6 L 236.9 347.6 L 257.2 347.6\" id=\"66,16\"></path><path d=\"M 236.9 353.6 L 236.9 359.5 L 255.0 359.5\" id=\"66,15\"></path><path d=\"M 181.3 380.3 L 181.3 371.4 L 236.0 371.4\" id=\"65,14\"></path><path d=\"M 222.2 389.3 L 222.2 383.3 L 233.9 383.3\" id=\"60,13\"></path><path d=\"M 222.2 389.3 L 222.2 395.2 L 230.2 395.2\" id=\"60,12\"></path><path d=\"M 251.4 430.2 L 251.4 407.1 L 283.7 407.1\" id=\"64,11\"></path><path d=\"M 270.0 425.0 L 270.0 419.0 L 303.6 419.0\" id=\"55,10\"></path><path d=\"M 270.0 425.0 L 270.0 430.9 L 313.4 430.9\" id=\"55,9\"></path><path d=\"M 286.9 453.2 L 286.9 442.8 L 324.4 442.8\" id=\"51,8\"></path><path d=\"M 288.4 463.6 L 288.4 454.7 L 303.4 454.7\" id=\"47,7\"></path><path d=\"M 292.4 472.6 L 292.4 466.6 L 312.1 466.6\" id=\"42,6\"></path><path d=\"M 292.4 472.6 L 292.4 478.5 L 322.8 478.5\" id=\"42,5\"></path><path d=\"M 289.5 496.4 L 289.5 490.4 L 325.4 490.4\" id=\"46,4\"></path><path d=\"M 289.5 496.4 L 289.5 502.3 L 323.3 502.3\" id=\"46,3\"></path><path d=\"M 291.1 523.1 L 291.1 514.2 L 314.6 514.2\" id=\"45,2\"></path><path d=\"M 302.4 532.1 L 302.4 526.1 L 322.4 526.1\" id=\"41,1\"></path><path d=\"M 302.4 532.1 L 302.4 538.0 L 318.7 538.0\" id=\"41,0\"></path></g><g class=\"toytree-AlignEdges\" style=\"stroke:rgb(66.3%,66.3%,66.3%);stroke-dasharray:2, 4;stroke-linecap:round;stroke-opacity:1.0;stroke-width:2\"><path d=\"M 325.4 538.0 L 318.7 538.0\"></path><path d=\"M 325.4 526.1 L 322.4 526.1\"></path><path d=\"M 325.4 514.2 L 314.6 514.2\"></path><path d=\"M 325.4 502.3 L 323.3 502.3\"></path><path d=\"M 325.4 490.4 L 325.4 490.4\"></path><path d=\"M 325.4 478.5 L 322.8 478.5\"></path><path d=\"M 325.4 466.6 L 312.1 466.6\"></path><path d=\"M 325.4 454.7 L 303.4 454.7\"></path><path d=\"M 325.4 442.8 L 324.4 442.8\"></path><path d=\"M 325.4 430.9 L 313.4 430.9\"></path><path d=\"M 325.4 419.0 L 303.6 419.0\"></path><path d=\"M 325.4 407.1 L 283.7 407.1\"></path><path d=\"M 325.4 395.2 L 230.2 395.2\"></path><path d=\"M 325.4 383.3 L 233.9 383.3\"></path><path d=\"M 325.4 371.4 L 236.0 371.4\"></path><path d=\"M 325.4 359.5 L 255.0 359.5\"></path><path d=\"M 325.4 347.6 L 257.2 347.6\"></path><path d=\"M 325.4 335.7 L 251.2 335.7\"></path><path d=\"M 325.4 323.8 L 257.1 323.8\"></path><path d=\"M 325.4 311.9 L 253.4 311.9\"></path><path d=\"M 325.4 300.0 L 254.7 300.0\"></path><path d=\"M 325.4 288.1 L 247.3 288.1\"></path><path d=\"M 325.4 276.2 L 256.4 276.2\"></path><path d=\"M 325.4 264.3 L 247.6 264.3\"></path><path d=\"M 325.4 252.4 L 241.9 252.4\"></path><path d=\"M 325.4 240.5 L 224.3 240.5\"></path><path d=\"M 325.4 228.6 L 205.4 228.6\"></path><path d=\"M 325.4 216.7 L 248.1 216.7\"></path><path d=\"M 325.4 204.8 L 248.6 204.8\"></path><path d=\"M 325.4 192.9 L 243.4 192.9\"></path><path d=\"M 325.4 181.0 L 225.8 181.0\"></path><path d=\"M 325.4 169.1 L 225.8 169.1\"></path><path d=\"M 325.4 157.2 L 214.1 157.2\"></path><path d=\"M 325.4 145.3 L 214.6 145.3\"></path><path d=\"M 325.4 133.4 L 200.4 133.4\"></path><path d=\"M 325.4 121.5 L 198.9 121.5\"></path><path d=\"M 325.4 109.6 L 185.0 109.6\"></path><path d=\"M 325.4 97.7 L 184.6 97.7\"></path><path d=\"M 325.4 85.8 L 181.2 85.8\"></path><path d=\"M 325.4 73.9 L 166.7 73.9\"></path><path d=\"M 325.4 62.0 L 199.7 62.0\"></path></g><g class=\"toytree-Nodes\" style=\"fill:rgb(40%,76.1%,64.7%);fill-opacity:1.0;stroke:None;stroke-width:1\"><g id=\"node-0\" transform=\"translate(318.748,538.005)\"><rect x=\"-4.0\" y=\"-4.0\" width=\"8\" height=\"8\"></rect></g><g id=\"node-1\" transform=\"translate(322.396,526.104)\"><rect x=\"-4.0\" y=\"-4.0\" width=\"8\" height=\"8\"></rect></g><g id=\"node-2\" transform=\"translate(314.647,514.204)\"><rect x=\"-4.0\" y=\"-4.0\" width=\"8\" height=\"8\"></rect></g><g id=\"node-3\" transform=\"translate(323.323,502.304)\"><rect x=\"-4.0\" y=\"-4.0\" width=\"8\" height=\"8\"></rect></g><g id=\"node-4\" transform=\"translate(325.444,490.404)\"><rect x=\"-4.0\" y=\"-4.0\" width=\"8\" height=\"8\"></rect></g><g id=\"node-5\" transform=\"translate(322.845,478.503)\"><rect x=\"-4.0\" y=\"-4.0\" width=\"8\" height=\"8\"></rect></g><g id=\"node-6\" transform=\"translate(312.138,466.603)\"><rect x=\"-4.0\" y=\"-4.0\" width=\"8\" height=\"8\"></rect></g><g id=\"node-7\" transform=\"translate(303.449,454.703)\"><rect x=\"-4.0\" y=\"-4.0\" width=\"8\" height=\"8\"></rect></g><g id=\"node-8\" transform=\"translate(324.441,442.803)\"><rect x=\"-4.0\" y=\"-4.0\" width=\"8\" height=\"8\"></rect></g><g id=\"node-9\" transform=\"translate(313.386,430.903)\"><rect x=\"-4.0\" y=\"-4.0\" width=\"8\" height=\"8\"></rect></g><g id=\"node-10\" transform=\"translate(303.628,419.002)\"><rect x=\"-4.0\" y=\"-4.0\" width=\"8\" height=\"8\"></rect></g><g id=\"node-11\" transform=\"translate(283.653,407.102)\"><rect x=\"-4.0\" y=\"-4.0\" width=\"8\" height=\"8\"></rect></g><g id=\"node-12\" transform=\"translate(230.245,395.202)\"><rect x=\"-4.0\" y=\"-4.0\" width=\"8\" height=\"8\"></rect></g><g id=\"node-13\" transform=\"translate(233.923,383.302)\"><rect x=\"-4.0\" y=\"-4.0\" width=\"8\" height=\"8\"></rect></g><g id=\"node-14\" transform=\"translate(236.018,371.401)\"><rect x=\"-4.0\" y=\"-4.0\" width=\"8\" height=\"8\"></rect></g><g id=\"node-15\" transform=\"translate(255.040,359.501)\"><rect x=\"-4.0\" y=\"-4.0\" width=\"8\" height=\"8\"></rect></g><g id=\"node-16\" transform=\"translate(257.228,347.601)\"><rect x=\"-4.0\" y=\"-4.0\" width=\"8\" height=\"8\"></rect></g><g id=\"node-17\" transform=\"translate(251.197,335.701)\"><rect x=\"-4.0\" y=\"-4.0\" width=\"8\" height=\"8\"></rect></g><g id=\"node-18\" transform=\"translate(257.138,323.800)\"><rect x=\"-4.0\" y=\"-4.0\" width=\"8\" height=\"8\"></rect></g><g id=\"node-19\" transform=\"translate(253.430,311.900)\"><rect x=\"-4.0\" y=\"-4.0\" width=\"8\" height=\"8\"></rect></g><g id=\"node-20\" transform=\"translate(254.735,300.000)\"><rect x=\"-4.0\" y=\"-4.0\" width=\"8\" height=\"8\"></rect></g><g id=\"node-21\" transform=\"translate(247.323,288.100)\"><rect x=\"-4.0\" y=\"-4.0\" width=\"8\" height=\"8\"></rect></g><g id=\"node-22\" transform=\"translate(256.418,276.200)\"><rect x=\"-4.0\" y=\"-4.0\" width=\"8\" height=\"8\"></rect></g><g id=\"node-23\" transform=\"translate(247.574,264.299)\"><rect x=\"-4.0\" y=\"-4.0\" width=\"8\" height=\"8\"></rect></g><g id=\"node-24\" transform=\"translate(241.878,252.399)\"><rect x=\"-4.0\" y=\"-4.0\" width=\"8\" height=\"8\"></rect></g><g id=\"node-25\" transform=\"translate(224.279,240.499)\"><rect x=\"-4.0\" y=\"-4.0\" width=\"8\" height=\"8\"></rect></g><g id=\"node-26\" transform=\"translate(205.366,228.599)\"><rect x=\"-4.0\" y=\"-4.0\" width=\"8\" height=\"8\"></rect></g><g id=\"node-27\" transform=\"translate(248.144,216.698)\"><rect x=\"-4.0\" y=\"-4.0\" width=\"8\" height=\"8\"></rect></g><g id=\"node-28\" transform=\"translate(248.634,204.798)\"><rect x=\"-4.0\" y=\"-4.0\" width=\"8\" height=\"8\"></rect></g><g id=\"node-29\" transform=\"translate(243.392,192.898)\"><rect x=\"-4.0\" y=\"-4.0\" width=\"8\" height=\"8\"></rect></g><g id=\"node-30\" transform=\"translate(225.782,180.998)\"><rect x=\"-4.0\" y=\"-4.0\" width=\"8\" height=\"8\"></rect></g><g id=\"node-31\" transform=\"translate(225.800,169.097)\"><rect x=\"-4.0\" y=\"-4.0\" width=\"8\" height=\"8\"></rect></g><g id=\"node-32\" transform=\"translate(214.103,157.197)\"><rect x=\"-4.0\" y=\"-4.0\" width=\"8\" height=\"8\"></rect></g><g id=\"node-33\" transform=\"translate(214.619,145.297)\"><rect x=\"-4.0\" y=\"-4.0\" width=\"8\" height=\"8\"></rect></g><g id=\"node-34\" transform=\"translate(200.417,133.397)\"><rect x=\"-4.0\" y=\"-4.0\" width=\"8\" height=\"8\"></rect></g><g id=\"node-35\" transform=\"translate(198.870,121.497)\"><rect x=\"-4.0\" y=\"-4.0\" width=\"8\" height=\"8\"></rect></g><g id=\"node-36\" transform=\"translate(184.969,109.596)\"><rect x=\"-4.0\" y=\"-4.0\" width=\"8\" height=\"8\"></rect></g><g id=\"node-37\" transform=\"translate(184.646,97.696)\"><rect x=\"-4.0\" y=\"-4.0\" width=\"8\" height=\"8\"></rect></g><g id=\"node-38\" transform=\"translate(181.163,85.796)\"><rect x=\"-4.0\" y=\"-4.0\" width=\"8\" height=\"8\"></rect></g><g id=\"node-39\" transform=\"translate(166.718,73.896)\"><rect x=\"-4.0\" y=\"-4.0\" width=\"8\" height=\"8\"></rect></g><g id=\"node-40\" transform=\"translate(199.715,61.995)\"><rect x=\"-4.0\" y=\"-4.0\" width=\"8\" height=\"8\"></rect></g><g id=\"node-41\" transform=\"translate(302.381,532.054)\"><rect x=\"0.0\" y=\"0.0\" width=\"0\" height=\"0\"></rect></g><g id=\"node-42\" transform=\"translate(292.354,472.553)\"><rect x=\"0.0\" y=\"0.0\" width=\"0\" height=\"0\"></rect></g><g id=\"node-43\" transform=\"translate(241.298,317.850)\"><rect x=\"0.0\" y=\"0.0\" width=\"0\" height=\"0\"></rect></g><g id=\"node-44\" transform=\"translate(222.923,210.748)\"><rect x=\"0.0\" y=\"0.0\" width=\"0\" height=\"0\"></rect></g><g id=\"node-45\" transform=\"translate(291.145,523.129)\"><rect x=\"0.0\" y=\"0.0\" width=\"0\" height=\"0\"></rect></g><g id=\"node-46\" transform=\"translate(289.489,496.354)\"><rect x=\"0.0\" y=\"0.0\" width=\"0\" height=\"0\"></rect></g><g id=\"node-47\" transform=\"translate(288.358,463.628)\"><rect x=\"0.0\" y=\"0.0\" width=\"0\" height=\"0\"></rect></g><g id=\"node-48\" transform=\"translate(235.747,308.925)\"><rect x=\"0.0\" y=\"0.0\" width=\"0\" height=\"0\"></rect></g><g id=\"node-49\" transform=\"translate(217.306,201.823)\"><rect x=\"0.0\" y=\"0.0\" width=\"0\" height=\"0\"></rect></g><g id=\"node-50\" transform=\"translate(284.343,509.742)\"><rect x=\"0.0\" y=\"0.0\" width=\"0\" height=\"0\"></rect></g><g id=\"node-51\" transform=\"translate(286.923,453.215)\"><rect x=\"0.0\" y=\"0.0\" width=\"0\" height=\"0\"></rect></g><g id=\"node-52\" transform=\"translate(230.730,298.512)\"><rect x=\"0.0\" y=\"0.0\" width=\"0\" height=\"0\"></rect></g><g id=\"node-53\" transform=\"translate(210.457,191.410)\"><rect x=\"0.0\" y=\"0.0\" width=\"0\" height=\"0\"></rect></g><g id=\"node-54\" transform=\"translate(281.221,481.478)\"><rect x=\"0.0\" y=\"0.0\" width=\"0\" height=\"0\"></rect></g><g id=\"node-55\" transform=\"translate(269.990,424.952)\"><rect x=\"0.0\" y=\"0.0\" width=\"0\" height=\"0\"></rect></g><g id=\"node-56\" transform=\"translate(210.062,287.356)\"><rect x=\"0.0\" y=\"0.0\" width=\"0\" height=\"0\"></rect></g><g id=\"node-57\" transform=\"translate(201.455,246.449)\"><rect x=\"0.0\" y=\"0.0\" width=\"0\" height=\"0\"></rect></g><g id=\"node-58\" transform=\"translate(178.970,180.254)\"><rect x=\"0.0\" y=\"0.0\" width=\"0\" height=\"0\"></rect></g><g id=\"node-59\" transform=\"translate(262.891,453.215)\"><rect x=\"0.0\" y=\"0.0\" width=\"0\" height=\"0\"></rect></g><g id=\"node-60\" transform=\"translate(222.171,389.252)\"><rect x=\"0.0\" y=\"0.0\" width=\"0\" height=\"0\"></rect></g><g id=\"node-61\" transform=\"translate(179.975,275.828)\"><rect x=\"0.0\" y=\"0.0\" width=\"0\" height=\"0\"></rect></g><g id=\"node-62\" transform=\"translate(189.749,237.524)\"><rect x=\"0.0\" y=\"0.0\" width=\"0\" height=\"0\"></rect></g><g id=\"node-63\" transform=\"translate(169.323,168.726)\"><rect x=\"0.0\" y=\"0.0\" width=\"0\" height=\"0\"></rect></g><g id=\"node-64\" transform=\"translate(251.390,430.159)\"><rect x=\"0.0\" y=\"0.0\" width=\"0\" height=\"0\"></rect></g><g id=\"node-65\" transform=\"translate(181.260,380.327)\"><rect x=\"0.0\" y=\"0.0\" width=\"0\" height=\"0\"></rect></g><g id=\"node-66\" transform=\"translate(236.873,353.551)\"><rect x=\"0.0\" y=\"0.0\" width=\"0\" height=\"0\"></rect></g><g id=\"node-67\" transform=\"translate(171.031,256.676)\"><rect x=\"0.0\" y=\"0.0\" width=\"0\" height=\"0\"></rect></g><g id=\"node-68\" transform=\"translate(156.786,157.011)\"><rect x=\"0.0\" y=\"0.0\" width=\"0\" height=\"0\"></rect></g><g id=\"node-69\" transform=\"translate(170.014,103.646)\"><rect x=\"0.0\" y=\"0.0\" width=\"0\" height=\"0\"></rect></g><g id=\"node-70\" transform=\"translate(168.325,405.243)\"><rect x=\"0.0\" y=\"0.0\" width=\"0\" height=\"0\"></rect></g><g id=\"node-71\" transform=\"translate(201.795,344.626)\"><rect x=\"0.0\" y=\"0.0\" width=\"0\" height=\"0\"></rect></g><g id=\"node-72\" transform=\"translate(130.180,206.844)\"><rect x=\"0.0\" y=\"0.0\" width=\"0\" height=\"0\"></rect></g><g id=\"node-73\" transform=\"translate(160.165,127.447)\"><rect x=\"0.0\" y=\"0.0\" width=\"0\" height=\"0\"></rect></g><g id=\"node-74\" transform=\"translate(155.445,94.721)\"><rect x=\"0.0\" y=\"0.0\" width=\"0\" height=\"0\"></rect></g><g id=\"node-75\" transform=\"translate(144.652,374.934)\"><rect x=\"0.0\" y=\"0.0\" width=\"0\" height=\"0\"></rect></g><g id=\"node-76\" transform=\"translate(114.356,167.145)\"><rect x=\"0.0\" y=\"0.0\" width=\"0\" height=\"0\"></rect></g><g id=\"node-77\" transform=\"translate(146.429,84.308)\"><rect x=\"0.0\" y=\"0.0\" width=\"0\" height=\"0\"></rect></g><g id=\"node-78\" transform=\"translate(95.508,271.040)\"><rect x=\"0.0\" y=\"0.0\" width=\"0\" height=\"0\"></rect></g><g id=\"node-79\" transform=\"translate(95.508,73.152)\"><rect x=\"0.0\" y=\"0.0\" width=\"0\" height=\"0\"></rect></g><g id=\"node-80\" transform=\"translate(50.000,172.096)\"><rect x=\"0.0\" y=\"0.0\" width=\"0\" height=\"0\"></rect></g></g><g class=\"toytree-TipLabels\" style=\"fill:rgb(14.9%,14.9%,14.9%);fill-opacity:1.0;font-family:helvetica;font-size:11px;font-weight:normal;stroke:none;white-space:pre\"><g transform=\"translate(325.44,538.00)rotate(0)\"><text x=\"15.00\" y=\"2.81\" style=\"fill:rgb(0%,0%,100%);fill-opacity:1.0\">H.sapiens.O.CM.x.pCMO2_3.AY618998</text></g><g transform=\"translate(325.44,526.10)rotate(0)\"><text x=\"15.00\" y=\"2.81\" style=\"fill:rgb(0%,0%,100%);fill-opacity:1.0\">H.sapiens.O.CM.99.99CMU4122.AY169815</text></g><g transform=\"translate(325.44,514.20)rotate(0)\"><text x=\"15.00\" y=\"2.81\" style=\"fill:rgb(0%,0%,100%);fill-opacity:1.0\">H.sapiens.O.SN.99.99SE_MP1300.AJ302647</text></g><g transform=\"translate(325.44,502.30)rotate(0)\"><text x=\"15.00\" y=\"2.81\" style=\"fill:rgb(0%,0%,100%);fill-opacity:1.0\">H.sapiens.O.GA.11.11Gab6352.JX245015</text></g><g transform=\"translate(325.44,490.40)rotate(0)\"><text x=\"15.00\" y=\"2.81\" style=\"fill:rgb(0%,0%,100%);fill-opacity:1.0\">H.sapiens.O.CM.96.LA52YBF39.KU168295</text></g><g transform=\"translate(325.44,478.50)rotate(0)\"><text x=\"15.00\" y=\"2.81\" style=\"fill:rgb(0%,0%,100%);fill-opacity:1.0\">H.sapiens.O.GA.10.10Gab1190.JX245014</text></g><g transform=\"translate(325.44,466.60)rotate(0)\"><text x=\"15.00\" y=\"2.81\" style=\"fill:rgb(0%,0%,100%);fill-opacity:1.0\">H.sapiens.O.ES.01.KX228804</text></g><g transform=\"translate(325.44,454.70)rotate(0)\"><text x=\"15.00\" y=\"2.81\" style=\"fill:rgb(0%,0%,100%);fill-opacity:1.0\">H.sapiens.O.ANT70</text></g><g transform=\"translate(325.44,442.80)rotate(0)\"><text x=\"15.00\" y=\"2.81\" style=\"fill:rgb(0%,0%,100%);fill-opacity:1.0\">H.sapiens.O.US.10.LTNP.JN571034</text></g><g transform=\"translate(325.44,430.90)rotate(0)\"><text x=\"15.00\" y=\"2.81\" style=\"fill:rgb(0%,0%,100%);fill-opacity:1.0\">H.sapiens.O.MVP5180</text></g><g transform=\"translate(325.44,419.00)rotate(0)\"><text x=\"15.00\" y=\"2.81\" style=\"fill:rgb(0%,0%,100%);fill-opacity:1.0\">H.sapiens.O.CM.96.LA51YBF35.KU168294</text></g><g transform=\"translate(325.44,407.10)rotate(0)\"><text x=\"15.00\" y=\"2.81\" style=\"fill:rgb(0%,0%,100%);fill-opacity:1.0\">H.sapiens.O.FR.06.RBF206.KY112585</text></g><g transform=\"translate(325.44,395.20)rotate(0)\"><text x=\"15.00\" y=\"2.81\" style=\"fill:rgb(100%,0%,0%);fill-opacity:1.0\">G.g.gorilla.CP684</text></g><g transform=\"translate(325.44,383.30)rotate(0)\"><text x=\"15.00\" y=\"2.81\" style=\"fill:rgb(100%,0%,0%);fill-opacity:1.0\">G.g.gorilla.CP2135</text></g><g transform=\"translate(325.44,371.40)rotate(0)\"><text x=\"15.00\" y=\"2.81\" style=\"fill:rgb(100%,0%,0%);fill-opacity:1.0\">G.g.gorilla.CM.12.BQID2.KP004991</text></g><g transform=\"translate(325.44,359.50)rotate(0)\"><text x=\"15.00\" y=\"2.81\" style=\"fill:rgb(0%,0%,100%);fill-opacity:1.0\">H.sapiens.P.FR.09.RBF168.GU111555</text></g><g transform=\"translate(325.44,347.60)rotate(0)\"><text x=\"15.00\" y=\"2.81\" style=\"fill:rgb(0%,0%,100%);fill-opacity:1.0\">H.sapiens.P.CM.06.U14788.HQ179987</text></g><g transform=\"translate(325.44,335.70)rotate(0)\"><text x=\"15.00\" y=\"2.81\" style=\"fill:rgb(100%,0%,0%);fill-opacity:1.0\">G.g.gorilla.CM.13.BPID15.KP004990</text></g><g transform=\"translate(325.44,323.80)rotate(0)\"><text x=\"15.00\" y=\"2.81\" style=\"fill:rgb(0%,0%,100%);fill-opacity:1.0\">H.sapiens.N.YBF106</text></g><g transform=\"translate(325.44,311.90)rotate(0)\"><text x=\"15.00\" y=\"2.81\" style=\"fill:rgb(0%,0%,100%);fill-opacity:1.0\">H.sapiens.N.YBF30</text></g><g transform=\"translate(325.44,300.00)rotate(0)\"><text x=\"15.00\" y=\"2.81\" style=\"fill:rgb(0%,0%,100%);fill-opacity:1.0\">H.sapiens.N.CM.15.S4858.KY498771</text></g><g transform=\"translate(325.44,288.10)rotate(0)\"><text x=\"15.00\" y=\"2.81\" style=\"fill:rgb(0%,0%,100%);fill-opacity:1.0\">H.sapiens.N.FR.11.N1_FR_2011.JN572926</text></g><g transform=\"translate(325.44,276.20)rotate(0)\"><text x=\"15.00\" y=\"2.81\" style=\"fill:rgb(0%,50.2%,0%);fill-opacity:1.0\">P.t.troglodytes.EK505</text></g><g transform=\"translate(325.44,264.30)rotate(0)\"><text x=\"15.00\" y=\"2.81\" style=\"fill:rgb(0%,50.2%,0%);fill-opacity:1.0\">P.t.troglodytes.US.85.US_Marilyn.AF103818</text></g><g transform=\"translate(325.44,252.40)rotate(0)\"><text x=\"15.00\" y=\"2.81\" style=\"fill:rgb(0%,50.2%,0%);fill-opacity:1.0\">P.t.troglodytes.CAM5</text></g><g transform=\"translate(325.44,240.50)rotate(0)\"><text x=\"15.00\" y=\"2.81\" style=\"fill:rgb(0%,50.2%,0%);fill-opacity:1.0\">P.t.troglodytes.CAM3</text></g><g transform=\"translate(325.44,228.60)rotate(0)\"><text x=\"15.00\" y=\"2.81\" style=\"fill:rgb(0%,50.2%,0%);fill-opacity:1.0\">P.t.troglodytes.DP943</text></g><g transform=\"translate(325.44,216.70)rotate(0)\"><text x=\"15.00\" y=\"2.81\" style=\"fill:rgb(0%,0%,100%);fill-opacity:1.0\">H.sapiens.M.D.CY.06.CY163.FJ388945</text></g><g transform=\"translate(325.44,204.80)rotate(0)\"><text x=\"15.00\" y=\"2.81\" style=\"fill:rgb(0%,0%,100%);fill-opacity:1.0\">H.sapiens.M.D.CM.10.DEMD10CM009.JX140670</text></g><g transform=\"translate(325.44,192.90)rotate(0)\"><text x=\"15.00\" y=\"2.81\" style=\"fill:rgb(0%,0%,100%);fill-opacity:1.0\">H.sapiens.M.D.CD.03.LA17MuBo.KU168271</text></g><g transform=\"translate(325.44,181.00)rotate(0)\"><text x=\"15.00\" y=\"2.81\" style=\"fill:rgb(0%,0%,100%);fill-opacity:1.0\">H.sapiens.M.D.YE.02.02YE516.AY795907</text></g><g transform=\"translate(325.44,169.10)rotate(0)\"><text x=\"15.00\" y=\"2.81\" style=\"fill:rgb(0%,50.2%,0%);fill-opacity:1.0\">P.t.troglodytes.MB897</text></g><g transform=\"translate(325.44,157.20)rotate(0)\"><text x=\"15.00\" y=\"2.81\" style=\"fill:rgb(0%,50.2%,0%);fill-opacity:1.0\">P.t.troglodytes.MB66</text></g><g transform=\"translate(325.44,145.30)rotate(0)\"><text x=\"15.00\" y=\"2.81\" style=\"fill:rgb(0%,50.2%,0%);fill-opacity:1.0\">P.t.troglodytes.LB7</text></g><g transform=\"translate(325.44,133.40)rotate(0)\"><text x=\"15.00\" y=\"2.81\" style=\"fill:rgb(0%,50.2%,0%);fill-opacity:1.0\">P.t.troglodytes.CAM13</text></g><g transform=\"translate(325.44,121.50)rotate(0)\"><text x=\"15.00\" y=\"2.81\" style=\"fill:rgb(0%,50.2%,0%);fill-opacity:1.0\">P.t.troglodytes.GAB1</text></g><g transform=\"translate(325.44,109.60)rotate(0)\"><text x=\"15.00\" y=\"2.81\" style=\"fill:rgb(0%,50.2%,0%);fill-opacity:1.0\">P.t.schweinfurthii.TAN2</text></g><g transform=\"translate(325.44,97.70)rotate(0)\"><text x=\"15.00\" y=\"2.81\" style=\"fill:rgb(0%,50.2%,0%);fill-opacity:1.0\">P.t.schweinfurthii.TAN3</text></g><g transform=\"translate(325.44,85.80)rotate(0)\"><text x=\"15.00\" y=\"2.81\" style=\"fill:rgb(0%,50.2%,0%);fill-opacity:1.0\">P.t.schweinfurthii.TZ.06.TAN5.JN091691</text></g><g transform=\"translate(325.44,73.90)rotate(0)\"><text x=\"15.00\" y=\"2.81\" style=\"fill:rgb(0%,50.2%,0%);fill-opacity:1.0\">P.t.schweinfurthii.TAN1</text></g><g transform=\"translate(325.44,62.00)rotate(0)\"><text x=\"15.00\" y=\"2.81\" style=\"fill:rgb(0%,50.2%,0%);fill-opacity:1.0\">P.t.schweinfurthii.ANT</text></g></g></g></g></g></svg><div class=\"toyplot-behavior\"><script>(function()\n",
       "{\n",
       "var modules={};\n",
       "})();</script></div></div>"
      ]
     },
     "metadata": {},
     "output_type": "display_data"
    }
   ],
   "source": [
    "newick = \"SIVHIVspecies_ENV.nwk\"\n",
    "tre = toytree.tree(newick, tree_format=1)\n",
    "rtre = tre.root(wildcard=\"schwein\")\n",
    "\n",
    "# change these options until you are happy with the design\n",
    "colorlist = [\"green\" if \"P.t\" in tip \n",
    "             else \"red\" if \"G.\" in tip \n",
    "             else \"blue\" if \"H.sapiens\" in tip \n",
    "             else \"cyan\" for tip in rtre.get_tip_labels()]\n",
    "\n",
    "canvas, axes = rtre.draw(\n",
    "    node_labels=None,\n",
    "    width=600,\n",
    "    height=600,\n",
    "    node_sizes=[0 if i else 8 for i in rtre.get_node_values(None, 1, 0)],\n",
    "    node_markers=\"s\",\n",
    "    node_colors=toytree.colors[0],\n",
    "    tip_labels_align=True,\n",
    "    tip_labels_colors=colorlist);\n",
    "\n",
    "# change the output file names below\n",
    "# remember to download (File-->Download) and take them away\n",
    "#toyplot.html.render(canvas, \"name.html\")\n",
    "toyplot.html.render(canvas, \"tree-plot.html\");"
   ]
  },
  {
   "cell_type": "markdown",
   "metadata": {},
   "source": [
    "You can use modify the code to colour it in more appropriately if you wish.\n",
    "\n",
    "The name contains a lot of metadata. The letter after H.sapiens indicates the HIV1 group to which that sequence belongs. Then the country from which it was isolated. Then the year. Then some identifiers and accession number. So `H.sapiens.O.CM.96.LA51YBF35.KU168294` is HIV1 group O, from Cameroon, isolated in 1996, with sample code LA51YBF35 and genbank accession number KU168294."
   ]
  },
  {
   "cell_type": "markdown",
   "metadata": {},
   "source": [
    "It may help you to talk about HIV1 group O, or group P, or group N in your explanations and in your annotations of the tree."
   ]
  },
  {
   "cell_type": "markdown",
   "metadata": {},
   "source": [
    "Make sure you then download the annotated tree and save it somewhere safe for your report."
   ]
  },
  {
   "cell_type": "code",
   "execution_count": 16,
   "metadata": {},
   "outputs": [],
   "source": [
    "# change the output file names below and run the cell.\n",
    "# remember to save these files and take them away\n",
    "\n",
    "# THIS DOESN\"T WORK. WHY?\n",
    "canvas = toyplot.Canvas()\n",
    "#toyplot.svg.render(canvas, \"name.svg\")\n",
    "#toyplot.pdf.render(canvas, \"name.pdf\")\n",
    "toyplot.html.render(canvas, \"name.html\")\n"
   ]
  },
  {
   "cell_type": "markdown",
   "metadata": {},
   "source": [
    "## Interpreting the tree"
   ]
  },
  {
   "cell_type": "markdown",
   "metadata": {},
   "source": [
    "The tree shows the diversity of great ape immunodeficiency viruses. Here are some questions that you could write about in your report. They are suggestions only, you can set yourself different or extra questions also, you decide.\n",
    "\n",
    "**Does the pattern of S/HIV represent the evolutionary history of the species? Has the virus speciated along with these apes or is it more complex than that?**\n",
    "\n",
    "**If you think there has been a zoonotic spread of SIV, ie a transfer to humans, is there a single origin or multiple transfers of HIV1?**\n",
    "\n",
    "**Can you determine anything about the geography of the transfer of the pandemic strain (M)? Think about the source. What is their gepgraphic range? Maybe you wish to include a map in your report?**\n",
    "\n",
    "It is useful to think about how you will provide phylogenetic evidence for your answer to each of the questions above. How can you annotate a phylogeny to demonstrate the evidence for your conclusion. Poor reports will rely largely on written descriptions of a tree, excellent reports make a powerful link between the text and the figure, using annotations to make their points very clear.\n"
   ]
  },
  {
   "cell_type": "markdown",
   "metadata": {},
   "source": [
    "## Writing your assessed report"
   ]
  },
  {
   "cell_type": "markdown",
   "metadata": {},
   "source": [
    "There is extensivehelp on the canvas site on what to include and how to structure your report. You should discuss your conclusions and figures with a demonstrator or myself before leaving however. Please make sure that you have downloaded image files of any trees that you need to include in your report. This Jupyter lab environment may continue to work but I can't guarrantee it's availability past the end of the practical (that is out of my hands)."
   ]
  },
  {
   "cell_type": "markdown",
   "metadata": {},
   "source": [
    "<hr>\n",
    "<h2><font color='Blue'>What skills have you acquired?</font></h2>\n",
    "\n",
    "If you have completed this practical I think you have now showed your competency in a range of important practical and conceptual skills:\n",
    "1. Understanding the use of phylogenetic trees\n",
    "2. Basic use of Jupyter notebooks\n",
    "3. Basic use of BioPython to characterise sequence data files\n",
    "4. Basic use of python to align DNA sequecne data and build a phylogenetic tree\n",
    "5. Use of python to programmatically annotate a phylogenetic tree\n",
    "\n",
    "These are the sorts of phrases you could include on you cv if you wished."
   ]
  },
  {
   "cell_type": "markdown",
   "metadata": {},
   "source": [
    "## Software References\n",
    "\n",
    "1. Cock PJA, Antao T, Chang JT, Chapman BA, Cox CJ, Dalke A, et al. Biopython: freely available Python tools for computational molecular biology and bioinformatics. Bioinformatics. 2009;25: 1422–1423. doi:10.1093/bioinformatics/btp163\n",
    "2. Katoh K, Toh H. Recent developments in the MAFFT multiple sequence alignment program. Brief Bioinform. 2008;9: 286–298. doi:10.1093/bib/bbn013\n",
    "3. Capella-Gutiérrez S, Silla-Martínez JM, Gabaldón T. trimAl: a tool for automated alignment trimming in large-scale phylogenetic analyses. Bioinformatics. 2009;25: 1972–1973. doi:10.1093/bioinformatics/btp348\n",
    "4. Price MN, Dehal PS, Arkin AP. FastTree 2 – Approximately Maximum-Likelihood Trees for Large Alignments. PLoS ONE. 2010. p. e9490. doi:10.1371/journal.pone.0009490\n",
    "5. Eaton DAR. Toytree: A minimalist tree visualization and manipulation library for Python. Methods Ecol Evol. 2020;11: 187–191. doi:10.1111/2041-210X.13313\n"
   ]
  },
  {
   "cell_type": "code",
   "execution_count": null,
   "metadata": {},
   "outputs": [],
   "source": []
  }
 ],
 "metadata": {
  "kernelspec": {
   "display_name": "Python 3",
   "language": "python",
   "name": "python3"
  },
  "language_info": {
   "codemirror_mode": {
    "name": "ipython",
    "version": 3
   },
   "file_extension": ".py",
   "mimetype": "text/x-python",
   "name": "python",
   "nbconvert_exporter": "python",
   "pygments_lexer": "ipython3",
   "version": "3.9.2"
  }
 },
 "nbformat": 4,
 "nbformat_minor": 4
}
