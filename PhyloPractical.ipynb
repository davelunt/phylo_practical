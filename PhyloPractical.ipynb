{
 "cells": [
  {
   "cell_type": "markdown",
   "metadata": {},
   "source": [
    "<h1><font color='DarkBlue'>PRACTICAL PHYLOGENETICS NOTEBOOK</font></h1>\n",
    "<hr>\n",
    "Dr Dave Lunt d.h.lunt@hull.ac.uk"
   ]
  },
  {
   "cell_type": "markdown",
   "metadata": {},
   "source": [
    "<h2><font color='Blue'>Goals of these experiments</font></h2>"
   ]
  },
  {
   "cell_type": "markdown",
   "metadata": {},
   "source": [
    "This Jupyter notebook will take you through two case studies using phylogenetic analysis to understand biological questions. This will involve aligning sequences and building maximum likelihood phylogenetic trees, followed by annotation an interpretation.\n",
    "\n",
    "We hope that this will give you \n",
    "- experience in analysing DNA sequence data\n",
    "- Understanding of the steps involved in phylogenetics\n",
    "- Knowledge about the compleities of the specific case studies we are using\n",
    "\n",
    "You will write up one of the case study analyses you perform today for your assessment."
   ]
  },
  {
   "cell_type": "markdown",
   "metadata": {},
   "source": [
    "<h2><font color='Blue'>Introduction to Jupyter computational notebooks</font></h2>"
   ]
  },
  {
   "cell_type": "markdown",
   "metadata": {},
   "source": [
    "<font color=red>**FIRSTLY, DO NOT PANIC. EVERYTHING YOU NEED TO KNOW ABOUT COMPUTERS AND CODE WILL BE TAUGHT HERE. YOU WILL BE ABLE TO DO THIS EVEN IF YOU HAVE LITTLE EXPERIENCE WITH COMPUTERS**</font>\n",
    "\n",
    "This class of students has mixed prior experience however, so if you have not done the bioinformatics practicals in Genetic Analysis last semester then please make yourself known and we will give you a 5 minute catch-up to make your life easier.\n",
    "\n",
    "If you are familiar with Jupyter notebooks then you can skip this section and move to \"A NEW SPECIES oF APE?\" below.\n",
    "\n",
    "This document that you are reading now is a **Jupyter Notebook**. It is a web browser based text editor that is also able to execute scripts ie  code. Today we are using the programming language `python`, probably the most used language in bioinformatics, but we could also run `R`, `bash` or many other languages. Scripts are found in the grey cells (see below) and have something like `In [ ]:` or `[1]` to their left in the margin..  \n",
    "\n",
    "To execute a script, click the cell below and then press SHIFT+ENTER, or instead the triangular \"Run\" button in the tool bar above. Try running this code below now "
   ]
  },
  {
   "cell_type": "code",
   "execution_count": 1,
   "metadata": {},
   "outputs": [
    {
     "name": "stdout",
     "output_type": "stream",
     "text": [
      "Hey there, good job in running the python print command!\n"
     ]
    }
   ],
   "source": [
    "print('Hey there, good job in running the python print command!')"
   ]
  },
  {
   "cell_type": "markdown",
   "metadata": {},
   "source": [
    "This code cell (containing \"print('Hey...\") should have executed when you pressed SHIFT-ENTER and it's output was printed below the cell (\"Hey there, good job...\"). All Jupyter commands run in a similar fashion"
   ]
  },
  {
   "cell_type": "markdown",
   "metadata": {},
   "source": [
    "Can you identify which parts of this notebook are code, which parts output, and which parts documentation like this sentence? Discuss with us if you are in doubt.\n",
    "\n",
    "1. Try editing the code below and re-running. Replace \"Good job\" with \"Even better job\"\n",
    "2. Instead of the `Run` button at the top you can click in the cell and press Shift-Enter to run the code. Most people find this faster, edit the cell below then give it a try:"
   ]
  },
  {
   "cell_type": "code",
   "execution_count": 2,
   "metadata": {},
   "outputs": [
    {
     "name": "stdout",
     "output_type": "stream",
     "text": [
      "Hey there, really good job!\n"
     ]
    }
   ],
   "source": [
    "print('Hey there, really good job!')"
   ]
  },
  {
   "cell_type": "markdown",
   "metadata": {},
   "source": [
    "<h4><font color='Blue'>ACTION:</font></h4>\n",
    "\n",
    "Now edit the cell above to have two print statements. On a new line type `print('Your new phrase')` and then run it. It might be easier to copy/paste and just change the pasted phrase. If it doesn't run well, you have a typo. Yes, its always a typo.\n",
    "\n",
    "**Congratulations, you have now run, copy/pasted and edited cells. Those are all the skills you will need today**\n",
    "\n",
    "This iterative edit-and-run approach is how much of modern biological data is explored and analysed. This mix of code and explanation you are seeing in this Jupyter notebook is called \"literate programming\""
   ]
  },
  {
   "cell_type": "markdown",
   "metadata": {},
   "source": [
    "This notebook will take you through the anaysis of the two case studies found in the practical handbook. To make this notebook concise, background information is excluded from it and only available in the practical handbook, and you will need to work with both documents. For each case study you will need to run several cells just as you did above. The programs will then align and clean the DNA sequences, build a tree and annotate it. **In most cases you will only need to run the cell just as you did above. In a few cases you will be able to tweak the script just a bit following clear instructions**. Good luck!"
   ]
  },
  {
   "cell_type": "markdown",
   "metadata": {},
   "source": [
    "<h1><font color='Blue'>STUDY1: A NEW SPECIES OF APE?</font></h1>"
   ]
  },
  {
   "cell_type": "markdown",
   "metadata": {},
   "source": [
    "![orangutan males](images/Bornean,_Sumatran_&_Tapanuli_orangs.jpg)"
   ]
  },
  {
   "cell_type": "markdown",
   "metadata": {},
   "source": [
    "_Figure 1:_ Male Bornean, Sumatran and Tapanuli orangutans, three suggested species [wikipedia](https://en.wikipedia.org/wiki/Orangutan). "
   ]
  },
  {
   "cell_type": "markdown",
   "metadata": {},
   "source": [
    "The first aim of today is to investigate what phylogenetics can tell us about different species of great ape. It is, of course, complex. You might like to think how you would conceptually go about trying to get information using a phylogenetic approach."
   ]
  },
  {
   "cell_type": "markdown",
   "metadata": {},
   "source": [
    "**Table 1: Latin names and common names of species in this practical.** As always, Googling is encouraged."
   ]
  },
  {
   "cell_type": "markdown",
   "metadata": {},
   "source": [
    "| Name             | Common name           | Name  | Common Name |\n",
    "| ----------------|:----------------------| --------------|:---------- |\n",
    "| Macaca macaca | Macaque (outgroup)|  Homo sapiens sapiens | Modern humans\n",
    "| Hylobates lar      | Gibbon (outgroup)     |  Homo sapiens neanderthalis  | Neanderthals (extinct)|\n",
    "| Gorilla gorilla | Western Gorilla      | Homo sapiens denisovan | Denisovans (extinct)\n",
    "| Gorilla beringei | Eastern/mountain Gorilla | Pongo abelii | Sumatran orangutan     |\n",
    "| Pan troglodytes | Chimp      |   Pongo pygmaeus | Bornean orangutan   |\n",
    "| Pan paniscus | Bonobo      |     Pongo tapanuliensis | Tapanuli orangutan|\n",
    "|"
   ]
  },
  {
   "cell_type": "markdown",
   "metadata": {},
   "source": [
    "<h2><font color='Blue'>How much data do you have?</font></h2>\n",
    "Your working directory has some DNA sequence files in fasta format. There are a number of ways to determine the number of sequences in a file, here is a quick one-liner. \n"
   ]
  },
  {
   "cell_type": "code",
   "execution_count": 4,
   "metadata": {},
   "outputs": [
    {
     "name": "stdout",
     "output_type": "stream",
     "text": [
      "Number of sequences: \n",
      "19\n"
     ]
    }
   ],
   "source": [
    "!echo \"Number of sequences: \"; grep -c \">\" data/ape.fas"
   ]
  },
  {
   "cell_type": "markdown",
   "metadata": {},
   "source": [
    "It should have displayed the number of sequences in the `ape.fas` file in the `data` directory\n",
    "\n",
    "If you got 'file does not exist' it is because you haven't pointed it at `ape.fas`"
   ]
  },
  {
   "cell_type": "markdown",
   "metadata": {},
   "source": [
    "### Some python code for processing sequences, just FYI"
   ]
  },
  {
   "cell_type": "markdown",
   "metadata": {},
   "source": [
    "Below we use some python code to allow more complex analyses. In the next example we are going to find the number and total length of sequences using a useful code package called BioPython [1].\n",
    "\n",
    "Remember: The code below has explanations of what each section does (explanations begin with the # or 'comment' symbol) as some people are interested in seeing bioinformatics code in action. I want you to see scripting like this so you can realise it's not magic **but you do not have to know python or understand this code. Just run the cell as usual.**"
   ]
  },
  {
   "cell_type": "code",
   "execution_count": 5,
   "metadata": {},
   "outputs": [
    {
     "name": "stdout",
     "output_type": "stream",
     "text": [
      "The file contained 19 records with total sequence length of 10650 nucleotides\n"
     ]
    }
   ],
   "source": [
    "# --------------------------------------------\n",
    "# Python code to report on number of sequences \n",
    "# in a file by using BioPython\n",
    "# --------------------------------------------\n",
    "\n",
    "# import BioPython code so we can use it\n",
    "from Bio.SeqIO.FastaIO import SimpleFastaParser\n",
    "\n",
    "# set counts to zero before starting\n",
    "count = 0\n",
    "total_len = 0\n",
    "\n",
    "# open the data file and give it a handle (nickname)\n",
    "with open(\"data/ape.fas\") as in_handle:\n",
    "    \n",
    "# for each title line add 1 to count of records, \n",
    "# and add length of sequence to a count called total_len\n",
    "     for title, seq in SimpleFastaParser(in_handle):\n",
    "         count += 1\n",
    "         total_len += len(seq)\n",
    "            \n",
    "# print the results in a readable format\n",
    "print(\"The file contained %i records with total sequence length of %i nucleotides\" % (count, total_len))"
   ]
  },
  {
   "cell_type": "markdown",
   "metadata": {},
   "source": [
    "<h4><font color='Blue'>QUESTIONS:</font></h4>\n",
    "\n",
    "- Can you see which part of the above code specifies the fasta file `ape.fas`?\n",
    "\n",
    "- How could you run this on a different file in the data directory called `testseqs.fasta`? \n",
    "\n",
    "You don't need any python knowledge to answer these. The idea here is that in much of bioinformatics you can modify someone else's code to point at your data file and everything will work. "
   ]
  },
  {
   "cell_type": "markdown",
   "metadata": {},
   "source": [
    "<h4><font color='Blue'>ACTION:</font></h4>\n",
    "\n",
    "Try it, just change the name above and re-run the cell, or ask for help if you can't quite see it. Remember that the file is within the `data` directory. If you've done it correctly (watch for typos) then the number and length of sequence reported will change."
   ]
  },
  {
   "cell_type": "markdown",
   "metadata": {},
   "source": [
    "<hr>\n",
    "<h2><font color='Blue'>Aligning the sequences</font></h2>\n",
    "In order to carry out a valid analysis you have to align the DNA sequences. If you're not quite sure why, look at the images below and discuss with a demonstrator. "
   ]
  },
  {
   "cell_type": "markdown",
   "metadata": {},
   "source": [
    "![Aligned DNA sequence](./images/aligned.png \"A DNA sequence alignment\")\n",
    "_A DNA sequence alignmnet. Each character (column) can be directly compared across the different species_"
   ]
  },
  {
   "cell_type": "markdown",
   "metadata": {},
   "source": [
    "![Un-aligned DNA sequence](./images/unaligned.png \"An incomplete  DNA sequence alignment\")\n",
    "_A set of DNA sequences not completely aligned. Each character (column) cannot be directly compared across the different species as some are 'shifted' so even though they are very similar, they look enormously different when just comparing down each column (character)_"
   ]
  },
  {
   "cell_type": "markdown",
   "metadata": {},
   "source": [
    "To align the sequences we will use a program called MAFFT [2]. What piece of information will we have to add to the code? Yes, the name of the input DNA sequence file to be aligned.\n",
    "\n",
    "<h4><font color='Blue'>ACTIONS:</font></h4>\n",
    "\n",
    "- Change the name of the file in the following code to be `ape.fas`\n",
    "- run the cell"
   ]
  },
  {
   "cell_type": "code",
   "execution_count": 6,
   "metadata": {},
   "outputs": [],
   "source": [
    "# ---------------------------\n",
    "# Align sequences using MAFFT\n",
    "# ---------------------------\n",
    "\n",
    "!mafft --auto --quiet data/ape.fas > ape.afa"
   ]
  },
  {
   "cell_type": "markdown",
   "metadata": {},
   "source": [
    "In the command above can you see where we name the output file? You may remember that the greater than symbol `>` is used to specify where the output of a command goes, in this case to `ape.afa`.  Did it work? Can you find the `ape.afa` file? The `.afa` extension stands for 'aligned fasta'"
   ]
  },
  {
   "cell_type": "markdown",
   "metadata": {},
   "source": [
    "<hr>\n",
    "<h2><font color='Blue'>QC the alignment</font></h2>\n",
    "Trimal [3] quality controls the alignment, removing badly aligned regions and alignment artefacts. \n",
    "\n",
    "Can you see that the input file specified `ape.afa` is the output file from the previous step? Can you see the output file that it will write? This should appear in your files list once you have run the cell."
   ]
  },
  {
   "cell_type": "code",
   "execution_count": 7,
   "metadata": {},
   "outputs": [],
   "source": [
    "# ------------------------------------------\n",
    "# Quality control the alignment using trimal\n",
    "# ------------------------------------------\n",
    "\n",
    "!trimal -in ape.afa -out ape_trimmed.afa -gappyout -keepheader"
   ]
  },
  {
   "cell_type": "markdown",
   "metadata": {},
   "source": [
    "<hr>\n",
    "<h2><font color='Blue'>Tree reconstruction</font></h2>\n",
    "This section will reconstruct a maximum likelihood phylogenetic tree using the sequence alignment you have produced. We will use the program FastTree [4]."
   ]
  },
  {
   "cell_type": "code",
   "execution_count": 8,
   "metadata": {},
   "outputs": [
    {
     "name": "stdout",
     "output_type": "stream",
     "text": [
      "FastTree Version 2.1.10 Double precision (No SSE3)\n",
      "Alignment: ape_trimmed.afa\n",
      "Nucleotide distances: Jukes-Cantor Joins: balanced Support: SH-like 1000\n",
      "Search: Normal +NNI +SPR (2 rounds range 10) +ML-NNI opt-each=1\n",
      "TopHits: 1.00*sqrtN close=default refresh=0.80\n",
      "ML Model: Generalized Time-Reversible, CAT approximation with 20 rate categories\n",
      "Initial topology in 0.00 seconds\n",
      "Refining topology: 16 rounds ME-NNIs, 2 rounds ME-SPRs, 8 rounds ML-NNIs\n",
      "Total branch-length 0.477 after 0.03 sec\n",
      "ML-NNI round 1: LogLk = -1805.940 NNIs 2 max delta 0.00 Time 0.05\n",
      "GTR Frequencies: 0.3150 0.3149 0.1056 0.2645ep 9 of 12   \n",
      "GTR rates(ac ag at cg ct gt) 2.3845 14.9825 1.2609 1.5635 13.8255 1.0000\n",
      "Switched to using 20 rate categories (CAT approximation)\n",
      "Rate categories were divided by 0.732 so that average rate = 1.0\n",
      "CAT-based log-likelihoods may not be comparable across runs\n",
      "Use -gamma for approximate but comparable Gamma(20) log-likelihoods\n",
      "ML-NNI round 2: LogLk = -1589.440 NNIs 0 max delta 0.00 Time 0.16\n",
      "Turning off heuristics for final round of ML NNIs (converged)\n",
      "ML-NNI round 3: LogLk = -1589.426 NNIs 0 max delta 0.00 Time 0.20 (final)\n",
      "Optimize all lengths: LogLk = -1589.426 Time 0.21\n",
      "Total time: 0.25 seconds Unique: 17/19 Bad splits: 0/14\n"
     ]
    }
   ],
   "source": [
    "# -------------------------\n",
    "# Build tree using FastTree\n",
    "# -------------------------\n",
    "\n",
    "!FastTree -gtr -nt ape_trimmed.afa > ape.nwk"
   ]
  },
  {
   "cell_type": "markdown",
   "metadata": {},
   "source": [
    "<hr>"
   ]
  },
  {
   "cell_type": "markdown",
   "metadata": {},
   "source": [
    "The treebuilding program \"FastTree\" gives lots of output, you can just ignore all those details. When it is finished a file called `ape.nwk` will appear. This is a Newick tree file (.nwk) containing the tree as bracket notation text. Double click it if you want to have a look."
   ]
  },
  {
   "cell_type": "markdown",
   "metadata": {},
   "source": [
    "<hr>\n",
    "<h2><font color='Blue'>Tree Annotation and Viewing</font></h2>\n",
    "\n",
    "The tree alone (example below) is in bracket notation format (called Newick) and not very meaningful to examine.\n",
    "\n",
    "```\n",
    "((A,B),(C,D));\n",
    "```\n",
    "Instead we are going to display it as a graphic, and then annotate it to be easier to interpret. To do this we are going to use a tree graphics program called ToyTree [5]."
   ]
  },
  {
   "cell_type": "markdown",
   "metadata": {},
   "source": [
    "<h4><font color='Blue'>QUESTION:</font></h4>\n",
    "\n",
    "What treefile (.nwk) has just been written by the build tree cell above? Open it for a look at the Newick format.\n",
    "\n",
    "<h4><font color='Blue'>ACTION:</font></h4>\n",
    "\n",
    "Take your newick treefile name and enter it into the cell below to replace \"tree.nwk\""
   ]
  },
  {
   "cell_type": "code",
   "execution_count": 10,
   "metadata": {},
   "outputs": [
    {
     "data": {
      "text/html": [
       "<div class=\"toyplot\" id=\"tc80d823cd27247469f40added183b3ed\" style=\"text-align:center\"><svg class=\"toyplot-canvas-Canvas\" xmlns:toyplot=\"http://www.sandia.gov/toyplot\" xmlns:xlink=\"http://www.w3.org/1999/xlink\" xmlns=\"http://www.w3.org/2000/svg\" width=\"370.0px\" height=\"342.0px\" viewBox=\"0 0 370.0 342.0\" preserveAspectRatio=\"xMidYMid meet\" style=\"background-color:transparent;border-color:#292724;border-style:none;border-width:1.0;fill:rgb(16.1%,15.3%,14.1%);fill-opacity:1.0;font-family:Helvetica;font-size:12px;opacity:1.0;stroke:rgb(16.1%,15.3%,14.1%);stroke-opacity:1.0;stroke-width:1.0\" id=\"t86326c0a40c8489880be33101764c9c2\"><g class=\"toyplot-coordinates-Cartesian\" id=\"t6e15e75a8eba4ce1b32737c113fbd2f2\"><clipPath id=\"tce4c70229c7b4649828e5e97c452076c\"><rect x=\"30.0\" y=\"30.0\" width=\"310.0\" height=\"282.0\"></rect></clipPath><g clip-path=\"url(#tce4c70229c7b4649828e5e97c452076c)\"><g class=\"toytree-mark-Toytree\" id=\"t1e4bb54649a04402955c35385d171beb\"><g class=\"toytree-Edges\" style=\"fill:none;stroke:rgb(14.9%,14.9%,14.9%);stroke-linecap:round;stroke-opacity:1;stroke-width:2\"><path d=\"M 51.2 89.1 L 51.2 79.7 L 56.1 79.7\" id=\"34,33\"></path><path d=\"M 51.2 89.1 L 51.2 126.2 L 54.0 126.2\" id=\"34,32\"></path><path d=\"M 54.0 126.2 L 54.0 104.0 L 54.0 104.0\" id=\"32,31\"></path><path d=\"M 54.0 126.2 L 54.0 148.4 L 55.0 148.4\" id=\"32,30\"></path><path d=\"M 55.0 148.4 L 55.0 174.4 L 69.7 174.4\" id=\"30,29\"></path><path d=\"M 69.7 174.4 L 69.7 145.1 L 76.9 145.1\" id=\"29,28\"></path><path d=\"M 69.7 174.4 L 69.7 203.7 L 105.9 203.7\" id=\"29,27\"></path><path d=\"M 76.9 145.1 L 76.9 155.8 L 77.9 155.8\" id=\"28,26\"></path><path d=\"M 105.9 203.7 L 105.9 224.3 L 143.3 224.3\" id=\"27,25\"></path><path d=\"M 77.9 155.8 L 77.9 164.9 L 78.8 164.9\" id=\"26,24\"></path><path d=\"M 143.3 224.3 L 143.3 204.5 L 161.3 204.5\" id=\"25,23\"></path><path d=\"M 143.3 224.3 L 143.3 244.1 L 147.5 244.1\" id=\"25,22\"></path><path d=\"M 161.3 204.5 L 161.3 213.6 L 161.3 213.6\" id=\"23,21\"></path><path d=\"M 147.5 244.1 L 147.5 256.2 L 148.4 256.2\" id=\"22,20\"></path><path d=\"M 148.4 256.2 L 148.4 268.4 L 148.4 268.4\" id=\"20,19\"></path><path d=\"M 51.2 89.1 L 51.2 61.4 L 56.1 61.4\" id=\"34,18\"></path><path d=\"M 56.1 79.7 L 56.1 73.6 L 56.1 73.6\" id=\"33,17\"></path><path d=\"M 56.1 79.7 L 56.1 85.8 L 57.0 85.8\" id=\"33,16\"></path><path d=\"M 54.0 104.0 L 54.0 97.9 L 54.0 97.9\" id=\"31,15\"></path><path d=\"M 54.0 104.0 L 54.0 110.1 L 55.0 110.1\" id=\"31,14\"></path><path d=\"M 55.0 148.4 L 55.0 122.3 L 55.0 122.3\" id=\"30,13\"></path><path d=\"M 76.9 145.1 L 76.9 134.5 L 76.9 134.5\" id=\"28,12\"></path><path d=\"M 77.9 155.8 L 77.9 146.6 L 77.9 146.6\" id=\"26,11\"></path><path d=\"M 78.8 164.9 L 78.8 158.8 L 80.7 158.8\" id=\"24,10\"></path><path d=\"M 78.8 164.9 L 78.8 171.0 L 78.8 171.0\" id=\"24,9\"></path><path d=\"M 105.9 203.7 L 105.9 183.2 L 209.3 183.2\" id=\"27,8\"></path><path d=\"M 161.3 204.5 L 161.3 195.4 L 163.2 195.4\" id=\"23,7\"></path><path d=\"M 161.3 213.6 L 161.3 207.5 L 164.2 207.5\" id=\"21,6\"></path><path d=\"M 161.3 213.6 L 161.3 219.7 L 162.2 219.7\" id=\"21,5\"></path><path d=\"M 147.5 244.1 L 147.5 231.9 L 149.3 231.9\" id=\"22,4\"></path><path d=\"M 148.4 256.2 L 148.4 244.1 L 149.4 244.1\" id=\"20,3\"></path><path d=\"M 148.4 268.4 L 148.4 256.2 L 148.4 256.2\" id=\"19,2\"></path><path d=\"M 148.4 268.4 L 148.4 268.4 L 148.4 268.4\" id=\"19,1\"></path><path d=\"M 148.4 268.4 L 148.4 280.6 L 148.4 280.6\" id=\"19,0\"></path></g><g class=\"toytree-TipLabels\" style=\"fill:rgb(14.9%,14.9%,14.9%);fill-opacity:1.0;font-family:helvetica;font-size:11px;font-weight:normal;stroke:none;white-space:pre\"><g transform=\"translate(148.45,280.59)rotate(0)\"><text x=\"15.00\" y=\"2.81\" style=\"\">Pan_troglodytes5</text></g><g transform=\"translate(148.45,268.41)rotate(0)\"><text x=\"15.00\" y=\"2.81\" style=\"\">Pan_troglodytes4</text></g><g transform=\"translate(148.45,256.24)rotate(0)\"><text x=\"15.00\" y=\"2.81\" style=\"\">Pan_troglodytes3</text></g><g transform=\"translate(149.40,244.06)rotate(0)\"><text x=\"15.00\" y=\"2.81\" style=\"\">Pan_troglodytes1</text></g><g transform=\"translate(149.26,231.88)rotate(0)\"><text x=\"15.00\" y=\"2.81\" style=\"\">Pan_troglodytes6</text></g><g transform=\"translate(162.25,219.71)rotate(0)\"><text x=\"15.00\" y=\"2.81\" style=\"\">Pan_paniscus3</text></g><g transform=\"translate(164.18,207.53)rotate(0)\"><text x=\"15.00\" y=\"2.81\" style=\"\">Pan_paniscus2</text></g><g transform=\"translate(163.21,195.35)rotate(0)\"><text x=\"15.00\" y=\"2.81\" style=\"\">Pan_paniscus1</text></g><g transform=\"translate(209.29,183.18)rotate(0)\"><text x=\"15.00\" y=\"2.81\" style=\"\">Macaca_fascicularis</text></g><g transform=\"translate(78.83,171.00)rotate(0)\"><text x=\"15.00\" y=\"2.81\" style=\"\">Pongo_pygmaeus_pygmaeus1</text></g><g transform=\"translate(80.75,158.82)rotate(0)\"><text x=\"15.00\" y=\"2.81\" style=\"\">Pongo_pygmaeus_pygmaeus4</text></g><g transform=\"translate(77.87,146.65)rotate(0)\"><text x=\"15.00\" y=\"2.81\" style=\"\">Pongo_pygmaeus_pygmaeus3</text></g><g transform=\"translate(76.91,134.47)rotate(0)\"><text x=\"15.00\" y=\"2.81\" style=\"\">Pongo_pygmaeus_pygmaeus2</text></g><g transform=\"translate(54.99,122.29)rotate(0)\"><text x=\"15.00\" y=\"2.81\" style=\"\">Pongo_abelii2</text></g><g transform=\"translate(54.99,110.12)rotate(0)\"><text x=\"15.00\" y=\"2.81\" style=\"\">Pongo_abelii3</text></g><g transform=\"translate(54.04,97.94)rotate(0)\"><text x=\"15.00\" y=\"2.81\" style=\"\">Pongo_abelii1</text></g><g transform=\"translate(57.03,85.76)rotate(0)\"><text x=\"15.00\" y=\"2.81\" style=\"\">Pongo_abelii5</text></g><g transform=\"translate(56.07,73.59)rotate(0)\"><text x=\"15.00\" y=\"2.81\" style=\"\">Pongo_abelii4</text></g><g transform=\"translate(56.07,61.41)rotate(0)\"><text x=\"15.00\" y=\"2.81\" style=\"\">Pongo_abelii6</text></g></g></g></g></g></svg><div class=\"toyplot-behavior\"><script>(function()\n",
       "{\n",
       "var modules={};\n",
       "})();</script></div></div>"
      ]
     },
     "metadata": {},
     "output_type": "display_data"
    }
   ],
   "source": [
    "# -----------------------------------\n",
    "# Drawing the phylogeny using ToyTree\n",
    "# -----------------------------------\n",
    "# import the code so we can use it here\n",
    "import toytree       # a tree plotting library\n",
    "import toyplot       # a general plotting library\n",
    "# import numpy as np   # a numerical library, give it the shorthand 'np'\n",
    "\n",
    "# read the newick format tree file, give it the name 'newick'\n",
    "newick = \"ape.nwk\" # change this to point at your .nwk treefile\n",
    "tre = toytree.tree(newick, tree_format=1)\n",
    "\n",
    "tre.draw();"
   ]
  },
  {
   "cell_type": "markdown",
   "metadata": {},
   "source": [
    "If you see a graphic image of a phylogenetic tree, congratulations! If not please ask for a little help, its probably a quick fix for a demonstrator.\n",
    "\n",
    "<h4><font color='Blue'>NOW ROOT THE TREE</font></h4>\n",
    "\n",
    "Your tree will probably look very odd because it isn't yet rooted correctly. Use the next cell to root it by entering \"Macaca\" (Macacque) instead of \"outgroup\""
   ]
  },
  {
   "cell_type": "code",
   "execution_count": 11,
   "metadata": {},
   "outputs": [
    {
     "data": {
      "text/html": [
       "<div class=\"toyplot\" id=\"t2a96402ba4124f8694d9128379287c85\" style=\"text-align:center\"><svg class=\"toyplot-canvas-Canvas\" xmlns:toyplot=\"http://www.sandia.gov/toyplot\" xmlns:xlink=\"http://www.w3.org/1999/xlink\" xmlns=\"http://www.w3.org/2000/svg\" width=\"370.0px\" height=\"600.0px\" viewBox=\"0 0 370.0 600.0\" preserveAspectRatio=\"xMidYMid meet\" style=\"background-color:transparent;border-color:#292724;border-style:none;border-width:1.0;fill:rgb(16.1%,15.3%,14.1%);fill-opacity:1.0;font-family:Helvetica;font-size:12px;opacity:1.0;stroke:rgb(16.1%,15.3%,14.1%);stroke-opacity:1.0;stroke-width:1.0\" id=\"tfdb21deebea54c3893b603b0a6f2dfa7\"><g class=\"toyplot-coordinates-Cartesian\" id=\"t60e9f3d9f7ec430782d5a3dcf88a727e\"><clipPath id=\"tcfb9d7009979451e98ac7ee2c3688f3b\"><rect x=\"30.0\" y=\"30.0\" width=\"310.0\" height=\"540.0\"></rect></clipPath><g clip-path=\"url(#tcfb9d7009979451e98ac7ee2c3688f3b)\"><g class=\"toytree-mark-Toytree\" id=\"t39e5e54601424d85930559439ec8135a\"><g class=\"toytree-Edges\" style=\"fill:none;stroke:rgb(14.9%,14.9%,14.9%);stroke-linecap:round;stroke-opacity:1;stroke-width:2\"><path d=\"M 51.0 164.3 L 51.0 266.5 L 114.5 266.5\" id=\"35,34\"></path><path d=\"M 114.5 266.5 L 114.5 151.2 L 160.3 151.2\" id=\"34,33\"></path><path d=\"M 114.5 266.5 L 114.5 381.8 L 158.8 381.8\" id=\"34,32\"></path><path d=\"M 160.3 151.2 L 160.3 108.3 L 182.4 108.3\" id=\"33,31\"></path><path d=\"M 160.3 151.2 L 160.3 194.2 L 165.5 194.2\" id=\"33,30\"></path><path d=\"M 158.8 381.8 L 158.8 323.1 L 167.6 323.1\" id=\"32,29\"></path><path d=\"M 158.8 381.8 L 158.8 440.5 L 176.9 440.5\" id=\"32,28\"></path><path d=\"M 182.4 108.3 L 182.4 128.1 L 182.4 128.1\" id=\"31,27\"></path><path d=\"M 165.5 194.2 L 165.5 220.7 L 166.7 220.7\" id=\"30,26\"></path><path d=\"M 167.6 323.1 L 167.6 346.3 L 168.8 346.3\" id=\"29,25\"></path><path d=\"M 176.9 440.5 L 176.9 475.2 L 178.1 475.2\" id=\"28,24\"></path><path d=\"M 166.7 220.7 L 166.7 247.1 L 166.7 247.1\" id=\"26,23\"></path><path d=\"M 168.8 346.3 L 168.8 366.1 L 170.0 366.1\" id=\"25,22\"></path><path d=\"M 178.1 475.2 L 178.1 445.4 L 178.1 445.4\" id=\"24,21\"></path><path d=\"M 178.1 475.2 L 178.1 504.9 L 181.6 504.9\" id=\"24,20\"></path><path d=\"M 181.6 504.9 L 181.6 524.8 L 187.6 524.8\" id=\"20,19\"></path><path d=\"M 51.0 164.3 L 51.0 62.0 L 114.5 62.0\" id=\"35,18\"></path><path d=\"M 182.4 108.3 L 182.4 88.4 L 184.8 88.4\" id=\"31,17\"></path><path d=\"M 182.4 128.1 L 182.4 114.9 L 186.0 114.9\" id=\"27,16\"></path><path d=\"M 182.4 128.1 L 182.4 141.3 L 183.6 141.3\" id=\"27,15\"></path><path d=\"M 165.5 194.2 L 165.5 167.8 L 167.7 167.8\" id=\"30,14\"></path><path d=\"M 166.7 220.7 L 166.7 194.2 L 167.9 194.2\" id=\"26,13\"></path><path d=\"M 166.7 247.1 L 166.7 220.7 L 166.7 220.7\" id=\"23,12\"></path><path d=\"M 166.7 247.1 L 166.7 247.1 L 166.7 247.1\" id=\"23,11\"></path><path d=\"M 166.7 247.1 L 166.7 273.6 L 166.7 273.6\" id=\"23,10\"></path><path d=\"M 167.6 323.1 L 167.6 300.0 L 167.6 300.0\" id=\"29,9\"></path><path d=\"M 168.8 346.3 L 168.8 326.4 L 168.8 326.4\" id=\"25,8\"></path><path d=\"M 170.0 366.1 L 170.0 352.9 L 172.3 352.9\" id=\"22,7\"></path><path d=\"M 170.0 366.1 L 170.0 379.3 L 170.0 379.3\" id=\"22,6\"></path><path d=\"M 176.9 440.5 L 176.9 405.8 L 176.9 405.8\" id=\"28,5\"></path><path d=\"M 178.1 445.4 L 178.1 432.2 L 178.1 432.2\" id=\"21,4\"></path><path d=\"M 178.1 445.4 L 178.1 458.7 L 179.2 458.7\" id=\"21,3\"></path><path d=\"M 181.6 504.9 L 181.6 485.1 L 187.6 485.1\" id=\"20,2\"></path><path d=\"M 187.6 524.8 L 187.6 511.6 L 187.6 511.6\" id=\"19,1\"></path><path d=\"M 187.6 524.8 L 187.6 538.0 L 188.8 538.0\" id=\"19,0\"></path></g><g class=\"toytree-AlignEdges\" style=\"stroke:rgb(66.3%,66.3%,66.3%);stroke-dasharray:2, 4;stroke-linecap:round;stroke-opacity:1.0;stroke-width:2\"><path d=\"M 188.8 538.0 L 188.8 538.0\"></path><path d=\"M 188.8 511.6 L 187.6 511.6\"></path><path d=\"M 188.8 485.1 L 187.6 485.1\"></path><path d=\"M 188.8 458.7 L 179.2 458.7\"></path><path d=\"M 188.8 432.2 L 178.1 432.2\"></path><path d=\"M 188.8 405.8 L 176.9 405.8\"></path><path d=\"M 188.8 379.3 L 170.0 379.3\"></path><path d=\"M 188.8 352.9 L 172.3 352.9\"></path><path d=\"M 188.8 326.4 L 168.8 326.4\"></path><path d=\"M 188.8 300.0 L 167.6 300.0\"></path><path d=\"M 188.8 273.6 L 166.7 273.6\"></path><path d=\"M 188.8 247.1 L 166.7 247.1\"></path><path d=\"M 188.8 220.7 L 166.7 220.7\"></path><path d=\"M 188.8 194.2 L 167.9 194.2\"></path><path d=\"M 188.8 167.8 L 167.7 167.8\"></path><path d=\"M 188.8 141.3 L 183.6 141.3\"></path><path d=\"M 188.8 114.9 L 186.0 114.9\"></path><path d=\"M 188.8 88.4 L 184.8 88.4\"></path><path d=\"M 188.8 62.0 L 114.5 62.0\"></path></g><g class=\"toytree-TipLabels\" style=\"fill:rgb(14.9%,14.9%,14.9%);fill-opacity:1.0;font-family:helvetica;font-size:11px;font-weight:normal;stroke:none;white-space:pre\"><g transform=\"translate(188.76,538.00)rotate(0)\"><text x=\"15.00\" y=\"2.81\" style=\"\">Pongo_abelii5</text></g><g transform=\"translate(188.76,511.56)rotate(0)\"><text x=\"15.00\" y=\"2.81\" style=\"\">Pongo_abelii4</text></g><g transform=\"translate(188.76,485.11)rotate(0)\"><text x=\"15.00\" y=\"2.81\" style=\"\">Pongo_abelii6</text></g><g transform=\"translate(188.76,458.67)rotate(0)\"><text x=\"15.00\" y=\"2.81\" style=\"\">Pongo_abelii3</text></g><g transform=\"translate(188.76,432.22)rotate(0)\"><text x=\"15.00\" y=\"2.81\" style=\"\">Pongo_abelii1</text></g><g transform=\"translate(188.76,405.78)rotate(0)\"><text x=\"15.00\" y=\"2.81\" style=\"\">Pongo_abelii2</text></g><g transform=\"translate(188.76,379.33)rotate(0)\"><text x=\"15.00\" y=\"2.81\" style=\"\">Pongo_pygmaeus_pygmaeus1</text></g><g transform=\"translate(188.76,352.89)rotate(0)\"><text x=\"15.00\" y=\"2.81\" style=\"\">Pongo_pygmaeus_pygmaeus4</text></g><g transform=\"translate(188.76,326.44)rotate(0)\"><text x=\"15.00\" y=\"2.81\" style=\"\">Pongo_pygmaeus_pygmaeus3</text></g><g transform=\"translate(188.76,300.00)rotate(0)\"><text x=\"15.00\" y=\"2.81\" style=\"\">Pongo_pygmaeus_pygmaeus2</text></g><g transform=\"translate(188.76,273.56)rotate(0)\"><text x=\"15.00\" y=\"2.81\" style=\"\">Pan_troglodytes5</text></g><g transform=\"translate(188.76,247.11)rotate(0)\"><text x=\"15.00\" y=\"2.81\" style=\"\">Pan_troglodytes4</text></g><g transform=\"translate(188.76,220.67)rotate(0)\"><text x=\"15.00\" y=\"2.81\" style=\"\">Pan_troglodytes3</text></g><g transform=\"translate(188.76,194.22)rotate(0)\"><text x=\"15.00\" y=\"2.81\" style=\"\">Pan_troglodytes1</text></g><g transform=\"translate(188.76,167.78)rotate(0)\"><text x=\"15.00\" y=\"2.81\" style=\"\">Pan_troglodytes6</text></g><g transform=\"translate(188.76,141.33)rotate(0)\"><text x=\"15.00\" y=\"2.81\" style=\"\">Pan_paniscus3</text></g><g transform=\"translate(188.76,114.89)rotate(0)\"><text x=\"15.00\" y=\"2.81\" style=\"\">Pan_paniscus2</text></g><g transform=\"translate(188.76,88.44)rotate(0)\"><text x=\"15.00\" y=\"2.81\" style=\"\">Pan_paniscus1</text></g><g transform=\"translate(188.76,62.00)rotate(0)\"><text x=\"15.00\" y=\"2.81\" style=\"\">Macaca_fascicularis</text></g></g></g></g></g></svg><div class=\"toyplot-behavior\"><script>(function()\n",
       "{\n",
       "var modules={};\n",
       "})();</script></div></div>"
      ]
     },
     "metadata": {},
     "output_type": "display_data"
    }
   ],
   "source": [
    "# ----------------\n",
    "# Root and re-draw\n",
    "# ----------------\n",
    "# root and draw the tree\n",
    "rtre = tre.root(wildcard=\"Macaca\") # specify the outgroup taxon\n",
    "rtre.draw(height=600, tip_labels_align=True); # draw the tree"
   ]
  },
  {
   "cell_type": "markdown",
   "metadata": {},
   "source": [
    "You should now have a tree that reveals a lot about the relationships betwen these species. Remember that there is a table with the species name earlier in this document. It will be easier to interpret though when you put it into a report if you annotate and colour it by taxon."
   ]
  },
  {
   "cell_type": "markdown",
   "metadata": {},
   "source": [
    "<h4><font color='Blue'>NOW ANNOTATE THE TREE:</font></h4>\n",
    "Although you now have 'the answer' it is not so easy to study this tree. You will need to compare the divergences between the two species of orangutan and compare those to the divergences between the two species of chimpanzee. In this simple tree its not too hard, but in general phylogeneticists label and colour to maintain focus on the correct comaprisons. You are now going to use the script below to colour in the tips by their species identity. \n",
    "\n",
    "Run the cell and examine the tree"
   ]
  },
  {
   "cell_type": "code",
   "execution_count": 12,
   "metadata": {},
   "outputs": [
    {
     "data": {
      "text/html": [
       "<div class=\"toyplot\" id=\"tef6a581e8c3d475d84eb627074887cf4\" style=\"text-align:center\"><svg class=\"toyplot-canvas-Canvas\" xmlns:toyplot=\"http://www.sandia.gov/toyplot\" xmlns:xlink=\"http://www.w3.org/1999/xlink\" xmlns=\"http://www.w3.org/2000/svg\" width=\"600.0px\" height=\"600.0px\" viewBox=\"0 0 600.0 600.0\" preserveAspectRatio=\"xMidYMid meet\" style=\"background-color:transparent;border-color:#292724;border-style:none;border-width:1.0;fill:rgb(16.1%,15.3%,14.1%);fill-opacity:1.0;font-family:Helvetica;font-size:12px;opacity:1.0;stroke:rgb(16.1%,15.3%,14.1%);stroke-opacity:1.0;stroke-width:1.0\" id=\"td4b8168404544fd2bba2683bc314290f\"><g class=\"toyplot-coordinates-Cartesian\" id=\"te7f6908e4f2e4b81912149b39ac87c04\"><clipPath id=\"teb9386da70a646548399e330aeb92cd0\"><rect x=\"30.0\" y=\"30.0\" width=\"540.0\" height=\"540.0\"></rect></clipPath><g clip-path=\"url(#teb9386da70a646548399e330aeb92cd0)\"><g class=\"toytree-mark-Toytree\" id=\"tef02adfd1458466d93973e252467b098\"><g class=\"toytree-Edges\" style=\"fill:none;stroke:rgb(14.9%,14.9%,14.9%);stroke-linecap:round;stroke-opacity:1;stroke-width:2\"><path d=\"M 50.0 164.3 L 50.0 266.5 L 207.8 266.5\" id=\"35,34\"></path><path d=\"M 207.8 266.5 L 207.8 151.2 L 321.8 151.2\" id=\"34,33\"></path><path d=\"M 207.8 266.5 L 207.8 381.8 L 318.1 381.8\" id=\"34,32\"></path><path d=\"M 321.8 151.2 L 321.8 108.3 L 376.8 108.3\" id=\"33,31\"></path><path d=\"M 321.8 151.2 L 321.8 194.2 L 334.8 194.2\" id=\"33,30\"></path><path d=\"M 318.1 381.8 L 318.1 323.1 L 340.0 323.1\" id=\"32,29\"></path><path d=\"M 318.1 381.8 L 318.1 440.5 L 363.0 440.5\" id=\"32,28\"></path><path d=\"M 376.8 108.3 L 376.8 128.1 L 376.8 128.1\" id=\"31,27\"></path><path d=\"M 334.8 194.2 L 334.8 220.7 L 337.7 220.7\" id=\"30,26\"></path><path d=\"M 340.0 323.1 L 340.0 346.3 L 342.9 346.3\" id=\"29,25\"></path><path d=\"M 363.0 440.5 L 363.0 475.2 L 365.9 475.2\" id=\"28,24\"></path><path d=\"M 337.7 220.7 L 337.7 247.1 L 337.7 247.1\" id=\"26,23\"></path><path d=\"M 342.9 346.3 L 342.9 366.1 L 345.8 366.1\" id=\"25,22\"></path><path d=\"M 365.9 475.2 L 365.9 445.4 L 365.9 445.4\" id=\"24,21\"></path><path d=\"M 365.9 475.2 L 365.9 504.9 L 374.7 504.9\" id=\"24,20\"></path><path d=\"M 374.7 504.9 L 374.7 524.8 L 389.6 524.8\" id=\"20,19\"></path><path d=\"M 50.0 164.3 L 50.0 62.0 L 207.8 62.0\" id=\"35,18\"></path><path d=\"M 376.8 108.3 L 376.8 88.4 L 382.7 88.4\" id=\"31,17\"></path><path d=\"M 376.8 128.1 L 376.8 114.9 L 385.7 114.9\" id=\"27,16\"></path><path d=\"M 376.8 128.1 L 376.8 141.3 L 379.8 141.3\" id=\"27,15\"></path><path d=\"M 334.8 194.2 L 334.8 167.8 L 340.1 167.8\" id=\"30,14\"></path><path d=\"M 337.7 220.7 L 337.7 194.2 L 340.6 194.2\" id=\"26,13\"></path><path d=\"M 337.7 247.1 L 337.7 220.7 L 337.7 220.7\" id=\"23,12\"></path><path d=\"M 337.7 247.1 L 337.7 247.1 L 337.7 247.1\" id=\"23,11\"></path><path d=\"M 337.7 247.1 L 337.7 273.6 L 337.7 273.6\" id=\"23,10\"></path><path d=\"M 340.0 323.1 L 340.0 300.0 L 340.0 300.0\" id=\"29,9\"></path><path d=\"M 342.9 346.3 L 342.9 326.4 L 342.9 326.4\" id=\"25,8\"></path><path d=\"M 345.8 366.1 L 345.8 352.9 L 351.7 352.9\" id=\"22,7\"></path><path d=\"M 345.8 366.1 L 345.8 379.3 L 345.8 379.3\" id=\"22,6\"></path><path d=\"M 363.0 440.5 L 363.0 405.8 L 363.0 405.8\" id=\"28,5\"></path><path d=\"M 365.9 445.4 L 365.9 432.2 L 365.9 432.2\" id=\"21,4\"></path><path d=\"M 365.9 445.4 L 365.9 458.7 L 368.8 458.7\" id=\"21,3\"></path><path d=\"M 374.7 504.9 L 374.7 485.1 L 389.6 485.1\" id=\"20,2\"></path><path d=\"M 389.6 524.8 L 389.6 511.6 L 389.6 511.6\" id=\"19,1\"></path><path d=\"M 389.6 524.8 L 389.6 538.0 L 392.6 538.0\" id=\"19,0\"></path></g><g class=\"toytree-AlignEdges\" style=\"stroke:rgb(66.3%,66.3%,66.3%);stroke-dasharray:2, 4;stroke-linecap:round;stroke-opacity:1.0;stroke-width:2\"><path d=\"M 392.6 538.0 L 392.6 538.0\"></path><path d=\"M 392.6 511.6 L 389.6 511.6\"></path><path d=\"M 392.6 485.1 L 389.6 485.1\"></path><path d=\"M 392.6 458.7 L 368.8 458.7\"></path><path d=\"M 392.6 432.2 L 365.9 432.2\"></path><path d=\"M 392.6 405.8 L 363.0 405.8\"></path><path d=\"M 392.6 379.3 L 345.8 379.3\"></path><path d=\"M 392.6 352.9 L 351.7 352.9\"></path><path d=\"M 392.6 326.4 L 342.9 326.4\"></path><path d=\"M 392.6 300.0 L 340.0 300.0\"></path><path d=\"M 392.6 273.6 L 337.7 273.6\"></path><path d=\"M 392.6 247.1 L 337.7 247.1\"></path><path d=\"M 392.6 220.7 L 337.7 220.7\"></path><path d=\"M 392.6 194.2 L 340.6 194.2\"></path><path d=\"M 392.6 167.8 L 340.1 167.8\"></path><path d=\"M 392.6 141.3 L 379.8 141.3\"></path><path d=\"M 392.6 114.9 L 385.7 114.9\"></path><path d=\"M 392.6 88.4 L 382.7 88.4\"></path><path d=\"M 392.6 62.0 L 207.8 62.0\"></path></g><g class=\"toytree-Nodes\" style=\"fill:rgb(40%,76.1%,64.7%);fill-opacity:1.0;stroke:None;stroke-width:1\"><g id=\"node-0\" transform=\"translate(392.565,538.005)\"><rect x=\"-4.0\" y=\"-4.0\" width=\"8\" height=\"8\"></rect></g><g id=\"node-1\" transform=\"translate(389.645,511.560)\"><rect x=\"-4.0\" y=\"-4.0\" width=\"8\" height=\"8\"></rect></g><g id=\"node-2\" transform=\"translate(389.619,485.115)\"><rect x=\"-4.0\" y=\"-4.0\" width=\"8\" height=\"8\"></rect></g><g id=\"node-3\" transform=\"translate(368.849,458.670)\"><rect x=\"-4.0\" y=\"-4.0\" width=\"8\" height=\"8\"></rect></g><g id=\"node-4\" transform=\"translate(365.938,432.225)\"><rect x=\"-4.0\" y=\"-4.0\" width=\"8\" height=\"8\"></rect></g><g id=\"node-5\" transform=\"translate(363.024,405.780)\"><rect x=\"-4.0\" y=\"-4.0\" width=\"8\" height=\"8\"></rect></g><g id=\"node-6\" transform=\"translate(345.804,379.335)\"><rect x=\"-4.0\" y=\"-4.0\" width=\"8\" height=\"8\"></rect></g><g id=\"node-7\" transform=\"translate(351.665,352.890)\"><rect x=\"-4.0\" y=\"-4.0\" width=\"8\" height=\"8\"></rect></g><g id=\"node-8\" transform=\"translate(342.883,326.445)\"><rect x=\"-4.0\" y=\"-4.0\" width=\"8\" height=\"8\"></rect></g><g id=\"node-9\" transform=\"translate(339.962,300.000)\"><rect x=\"-4.0\" y=\"-4.0\" width=\"8\" height=\"8\"></rect></g><g id=\"node-10\" transform=\"translate(337.651,273.555)\"><rect x=\"-4.0\" y=\"-4.0\" width=\"8\" height=\"8\"></rect></g><g id=\"node-11\" transform=\"translate(337.651,247.110)\"><rect x=\"-4.0\" y=\"-4.0\" width=\"8\" height=\"8\"></rect></g><g id=\"node-12\" transform=\"translate(337.651,220.665)\"><rect x=\"-4.0\" y=\"-4.0\" width=\"8\" height=\"8\"></rect></g><g id=\"node-13\" transform=\"translate(340.573,194.220)\"><rect x=\"-4.0\" y=\"-4.0\" width=\"8\" height=\"8\"></rect></g><g id=\"node-14\" transform=\"translate(340.128,167.775)\"><rect x=\"-4.0\" y=\"-4.0\" width=\"8\" height=\"8\"></rect></g><g id=\"node-15\" transform=\"translate(379.756,141.330)\"><rect x=\"-4.0\" y=\"-4.0\" width=\"8\" height=\"8\"></rect></g><g id=\"node-16\" transform=\"translate(385.662,114.885)\"><rect x=\"-4.0\" y=\"-4.0\" width=\"8\" height=\"8\"></rect></g><g id=\"node-17\" transform=\"translate(382.711,88.440)\"><rect x=\"-4.0\" y=\"-4.0\" width=\"8\" height=\"8\"></rect></g><g id=\"node-18\" transform=\"translate(207.767,61.995)\"><rect x=\"-4.0\" y=\"-4.0\" width=\"8\" height=\"8\"></rect></g><g id=\"node-19\" transform=\"translate(389.645,524.782)\"><rect x=\"0.0\" y=\"0.0\" width=\"0\" height=\"0\"></rect></g><g id=\"node-20\" transform=\"translate(374.684,504.948)\"><rect x=\"0.0\" y=\"0.0\" width=\"0\" height=\"0\"></rect></g><g id=\"node-21\" transform=\"translate(365.938,445.447)\"><rect x=\"0.0\" y=\"0.0\" width=\"0\" height=\"0\"></rect></g><g id=\"node-22\" transform=\"translate(345.804,366.112)\"><rect x=\"0.0\" y=\"0.0\" width=\"0\" height=\"0\"></rect></g><g id=\"node-23\" transform=\"translate(337.651,247.110)\"><rect x=\"0.0\" y=\"0.0\" width=\"0\" height=\"0\"></rect></g><g id=\"node-24\" transform=\"translate(365.938,475.198)\"><rect x=\"0.0\" y=\"0.0\" width=\"0\" height=\"0\"></rect></g><g id=\"node-25\" transform=\"translate(342.883,346.279)\"><rect x=\"0.0\" y=\"0.0\" width=\"0\" height=\"0\"></rect></g><g id=\"node-26\" transform=\"translate(337.651,220.665)\"><rect x=\"0.0\" y=\"0.0\" width=\"0\" height=\"0\"></rect></g><g id=\"node-27\" transform=\"translate(376.809,128.108)\"><rect x=\"0.0\" y=\"0.0\" width=\"0\" height=\"0\"></rect></g><g id=\"node-28\" transform=\"translate(363.024,440.489)\"><rect x=\"0.0\" y=\"0.0\" width=\"0\" height=\"0\"></rect></g><g id=\"node-29\" transform=\"translate(339.962,323.139)\"><rect x=\"0.0\" y=\"0.0\" width=\"0\" height=\"0\"></rect></g><g id=\"node-30\" transform=\"translate(334.766,194.220)\"><rect x=\"0.0\" y=\"0.0\" width=\"0\" height=\"0\"></rect></g><g id=\"node-31\" transform=\"translate(376.809,108.274)\"><rect x=\"0.0\" y=\"0.0\" width=\"0\" height=\"0\"></rect></g><g id=\"node-32\" transform=\"translate(318.050,381.814)\"><rect x=\"0.0\" y=\"0.0\" width=\"0\" height=\"0\"></rect></g><g id=\"node-33\" transform=\"translate(321.821,151.247)\"><rect x=\"0.0\" y=\"0.0\" width=\"0\" height=\"0\"></rect></g><g id=\"node-34\" transform=\"translate(207.767,266.531)\"><rect x=\"0.0\" y=\"0.0\" width=\"0\" height=\"0\"></rect></g><g id=\"node-35\" transform=\"translate(50.000,164.263)\"><rect x=\"0.0\" y=\"0.0\" width=\"0\" height=\"0\"></rect></g></g><g class=\"toytree-TipLabels\" style=\"fill:rgb(14.9%,14.9%,14.9%);fill-opacity:1.0;font-family:helvetica;font-size:11px;font-weight:normal;stroke:none;white-space:pre\"><g transform=\"translate(392.56,538.00)rotate(0)\"><text x=\"15.00\" y=\"2.81\" style=\"fill:rgb(100%,0%,0%);fill-opacity:1.0\">Pongo_abelii5</text></g><g transform=\"translate(392.56,511.56)rotate(0)\"><text x=\"15.00\" y=\"2.81\" style=\"fill:rgb(100%,0%,0%);fill-opacity:1.0\">Pongo_abelii4</text></g><g transform=\"translate(392.56,485.11)rotate(0)\"><text x=\"15.00\" y=\"2.81\" style=\"fill:rgb(100%,0%,0%);fill-opacity:1.0\">Pongo_abelii6</text></g><g transform=\"translate(392.56,458.67)rotate(0)\"><text x=\"15.00\" y=\"2.81\" style=\"fill:rgb(100%,0%,0%);fill-opacity:1.0\">Pongo_abelii3</text></g><g transform=\"translate(392.56,432.22)rotate(0)\"><text x=\"15.00\" y=\"2.81\" style=\"fill:rgb(100%,0%,0%);fill-opacity:1.0\">Pongo_abelii1</text></g><g transform=\"translate(392.56,405.78)rotate(0)\"><text x=\"15.00\" y=\"2.81\" style=\"fill:rgb(100%,0%,0%);fill-opacity:1.0\">Pongo_abelii2</text></g><g transform=\"translate(392.56,379.33)rotate(0)\"><text x=\"15.00\" y=\"2.81\" style=\"fill:rgb(100%,64.7%,0%);fill-opacity:1.0\">Pongo_pygmaeus_pygmaeus1</text></g><g transform=\"translate(392.56,352.89)rotate(0)\"><text x=\"15.00\" y=\"2.81\" style=\"fill:rgb(100%,64.7%,0%);fill-opacity:1.0\">Pongo_pygmaeus_pygmaeus4</text></g><g transform=\"translate(392.56,326.44)rotate(0)\"><text x=\"15.00\" y=\"2.81\" style=\"fill:rgb(100%,64.7%,0%);fill-opacity:1.0\">Pongo_pygmaeus_pygmaeus3</text></g><g transform=\"translate(392.56,300.00)rotate(0)\"><text x=\"15.00\" y=\"2.81\" style=\"fill:rgb(100%,64.7%,0%);fill-opacity:1.0\">Pongo_pygmaeus_pygmaeus2</text></g><g transform=\"translate(392.56,273.56)rotate(0)\"><text x=\"15.00\" y=\"2.81\" style=\"fill:rgb(0%,0%,54.5%);fill-opacity:1.0\">Pan_troglodytes5</text></g><g transform=\"translate(392.56,247.11)rotate(0)\"><text x=\"15.00\" y=\"2.81\" style=\"fill:rgb(0%,0%,54.5%);fill-opacity:1.0\">Pan_troglodytes4</text></g><g transform=\"translate(392.56,220.67)rotate(0)\"><text x=\"15.00\" y=\"2.81\" style=\"fill:rgb(0%,0%,54.5%);fill-opacity:1.0\">Pan_troglodytes3</text></g><g transform=\"translate(392.56,194.22)rotate(0)\"><text x=\"15.00\" y=\"2.81\" style=\"fill:rgb(0%,0%,54.5%);fill-opacity:1.0\">Pan_troglodytes1</text></g><g transform=\"translate(392.56,167.78)rotate(0)\"><text x=\"15.00\" y=\"2.81\" style=\"fill:rgb(0%,0%,54.5%);fill-opacity:1.0\">Pan_troglodytes6</text></g><g transform=\"translate(392.56,141.33)rotate(0)\"><text x=\"15.00\" y=\"2.81\" style=\"fill:rgb(0%,0%,100%);fill-opacity:1.0\">Pan_paniscus3</text></g><g transform=\"translate(392.56,114.89)rotate(0)\"><text x=\"15.00\" y=\"2.81\" style=\"fill:rgb(0%,0%,100%);fill-opacity:1.0\">Pan_paniscus2</text></g><g transform=\"translate(392.56,88.44)rotate(0)\"><text x=\"15.00\" y=\"2.81\" style=\"fill:rgb(0%,0%,100%);fill-opacity:1.0\">Pan_paniscus1</text></g><g transform=\"translate(392.56,62.00)rotate(0)\"><text x=\"15.00\" y=\"2.81\" style=\"fill:rgb(32.5%,51.8%,63.9%);fill-opacity:1.0\">Macaca_fascicularis</text></g></g></g></g><g class=\"toyplot-coordinates-Axis\" id=\"te665998d75ab4105b9953c585721b60d\" transform=\"translate(50.0,550.0)translate(0,20.0)\"><line x1=\"0\" y1=\"0\" x2=\"342.56491506149564\" y2=\"0\" style=\"\"></line><g><line x1=\"342.56491506149564\" y1=\"0\" x2=\"342.56491506149564\" y2=\"-5\" style=\"\"></line><line x1=\"274.0519320491965\" y1=\"0\" x2=\"274.0519320491965\" y2=\"-5\" style=\"\"></line><line x1=\"205.5389490368974\" y1=\"0\" x2=\"205.5389490368974\" y2=\"-5\" style=\"\"></line><line x1=\"137.0259660245983\" y1=\"0\" x2=\"137.0259660245983\" y2=\"-5\" style=\"\"></line><line x1=\"68.51298301229915\" y1=\"0\" x2=\"68.51298301229915\" y2=\"-5\" style=\"\"></line><line x1=\"0.0\" y1=\"0\" x2=\"0.0\" y2=\"-5\" style=\"\"></line></g><g><g transform=\"translate(342.56491506149564,6)\"><text x=\"-9.729999999999999\" y=\"8.555\" style=\"fill:rgb(16.1%,15.3%,14.1%);fill-opacity:1.0;font-family:helvetica;font-size:10.0px;font-weight:normal;stroke:none;vertical-align:baseline;white-space:pre\">0.00</text></g><g transform=\"translate(274.0519320491965,6)\"><text x=\"-9.729999999999999\" y=\"8.555\" style=\"fill:rgb(16.1%,15.3%,14.1%);fill-opacity:1.0;font-family:helvetica;font-size:10.0px;font-weight:normal;stroke:none;vertical-align:baseline;white-space:pre\">0.06</text></g><g transform=\"translate(205.5389490368974,6)\"><text x=\"-9.729999999999999\" y=\"8.555\" style=\"fill:rgb(16.1%,15.3%,14.1%);fill-opacity:1.0;font-family:helvetica;font-size:10.0px;font-weight:normal;stroke:none;vertical-align:baseline;white-space:pre\">0.11</text></g><g transform=\"translate(137.0259660245983,6)\"><text x=\"-9.729999999999999\" y=\"8.555\" style=\"fill:rgb(16.1%,15.3%,14.1%);fill-opacity:1.0;font-family:helvetica;font-size:10.0px;font-weight:normal;stroke:none;vertical-align:baseline;white-space:pre\">0.17</text></g><g transform=\"translate(68.51298301229915,6)\"><text x=\"-9.729999999999999\" y=\"8.555\" style=\"fill:rgb(16.1%,15.3%,14.1%);fill-opacity:1.0;font-family:helvetica;font-size:10.0px;font-weight:normal;stroke:none;vertical-align:baseline;white-space:pre\">0.23</text></g><g transform=\"translate(0.0,6)\"><text x=\"-9.729999999999999\" y=\"8.555\" style=\"fill:rgb(16.1%,15.3%,14.1%);fill-opacity:1.0;font-family:helvetica;font-size:10.0px;font-weight:normal;stroke:none;vertical-align:baseline;white-space:pre\">0.29</text></g></g><g class=\"toyplot-coordinates-Axis-coordinates\" style=\"visibility:hidden\" transform=\"\"><line x1=\"0\" x2=\"0\" y1=\"-3.0\" y2=\"4.5\" style=\"stroke:rgb(43.9%,50.2%,56.5%);stroke-opacity:1.0;stroke-width:1.0\"></line><text x=\"0\" y=\"-6\" style=\"alignment-baseline:alphabetic;fill:rgb(43.9%,50.2%,56.5%);fill-opacity:1.0;font-size:10px;font-weight:normal;stroke:none;text-anchor:middle\"></text></g></g></g></svg><div class=\"toyplot-behavior\"><script>(function()\n",
       "{\n",
       "var modules={};\n",
       "modules[\"toyplot/canvas/id\"] = \"td4b8168404544fd2bba2683bc314290f\";\n",
       "modules[\"toyplot/canvas\"] = (function(canvas_id)\n",
       "    {\n",
       "        return document.querySelector(\"#\" + canvas_id);\n",
       "    })(modules[\"toyplot/canvas/id\"]);\n",
       "modules[\"toyplot.coordinates.Axis\"] = (\n",
       "        function(canvas)\n",
       "        {\n",
       "            function sign(x)\n",
       "            {\n",
       "                return x < 0 ? -1 : x > 0 ? 1 : 0;\n",
       "            }\n",
       "\n",
       "            function mix(a, b, amount)\n",
       "            {\n",
       "                return ((1.0 - amount) * a) + (amount * b);\n",
       "            }\n",
       "\n",
       "            function log(x, base)\n",
       "            {\n",
       "                return Math.log(Math.abs(x)) / Math.log(base);\n",
       "            }\n",
       "\n",
       "            function in_range(a, x, b)\n",
       "            {\n",
       "                var left = Math.min(a, b);\n",
       "                var right = Math.max(a, b);\n",
       "                return left <= x && x <= right;\n",
       "            }\n",
       "\n",
       "            function inside(range, projection)\n",
       "            {\n",
       "                for(var i = 0; i != projection.length; ++i)\n",
       "                {\n",
       "                    var segment = projection[i];\n",
       "                    if(in_range(segment.range.min, range, segment.range.max))\n",
       "                        return true;\n",
       "                }\n",
       "                return false;\n",
       "            }\n",
       "\n",
       "            function to_domain(range, projection)\n",
       "            {\n",
       "                for(var i = 0; i != projection.length; ++i)\n",
       "                {\n",
       "                    var segment = projection[i];\n",
       "                    if(in_range(segment.range.bounds.min, range, segment.range.bounds.max))\n",
       "                    {\n",
       "                        if(segment.scale == \"linear\")\n",
       "                        {\n",
       "                            var amount = (range - segment.range.min) / (segment.range.max - segment.range.min);\n",
       "                            return mix(segment.domain.min, segment.domain.max, amount)\n",
       "                        }\n",
       "                        else if(segment.scale[0] == \"log\")\n",
       "                        {\n",
       "                            var amount = (range - segment.range.min) / (segment.range.max - segment.range.min);\n",
       "                            var base = segment.scale[1];\n",
       "                            return sign(segment.domain.min) * Math.pow(base, mix(log(segment.domain.min, base), log(segment.domain.max, base), amount));\n",
       "                        }\n",
       "                    }\n",
       "                }\n",
       "            }\n",
       "\n",
       "            var axes = {};\n",
       "\n",
       "            function display_coordinates(e)\n",
       "            {\n",
       "                var current = canvas.createSVGPoint();\n",
       "                current.x = e.clientX;\n",
       "                current.y = e.clientY;\n",
       "\n",
       "                for(var axis_id in axes)\n",
       "                {\n",
       "                    var axis = document.querySelector(\"#\" + axis_id);\n",
       "                    var coordinates = axis.querySelector(\".toyplot-coordinates-Axis-coordinates\");\n",
       "                    if(coordinates)\n",
       "                    {\n",
       "                        var projection = axes[axis_id];\n",
       "                        var local = current.matrixTransform(axis.getScreenCTM().inverse());\n",
       "                        if(inside(local.x, projection))\n",
       "                        {\n",
       "                            var domain = to_domain(local.x, projection);\n",
       "                            coordinates.style.visibility = \"visible\";\n",
       "                            coordinates.setAttribute(\"transform\", \"translate(\" + local.x + \")\");\n",
       "                            var text = coordinates.querySelector(\"text\");\n",
       "                            text.textContent = domain.toFixed(2);\n",
       "                        }\n",
       "                        else\n",
       "                        {\n",
       "                            coordinates.style.visibility= \"hidden\";\n",
       "                        }\n",
       "                    }\n",
       "                }\n",
       "            }\n",
       "\n",
       "            canvas.addEventListener(\"click\", display_coordinates);\n",
       "\n",
       "            var module = {};\n",
       "            module.show_coordinates = function(axis_id, projection)\n",
       "            {\n",
       "                axes[axis_id] = projection;\n",
       "            }\n",
       "\n",
       "            return module;\n",
       "        })(modules[\"toyplot/canvas\"]);\n",
       "(function(axis, axis_id, projection)\n",
       "        {\n",
       "            axis.show_coordinates(axis_id, projection);\n",
       "        })(modules[\"toyplot.coordinates.Axis\"],\"te665998d75ab4105b9953c585721b60d\",[{\"domain\": {\"bounds\": {\"max\": Infinity, \"min\": -Infinity}, \"max\": 0.13187198928956498, \"min\": -0.28694186450000003}, \"range\": {\"bounds\": {\"max\": Infinity, \"min\": -Infinity}, \"max\": 500.0, \"min\": 0.0}, \"scale\": \"linear\"}]);\n",
       "})();</script></div></div>"
      ]
     },
     "metadata": {},
     "output_type": "display_data"
    }
   ],
   "source": [
    "# -----------------------------\n",
    "# Colouring the tree label text\n",
    "# -----------------------------\n",
    "\n",
    "# set list of colours depending on the taxon label text\n",
    "# numbers like \"#5384a3\" are colour 'hex' codes, cyan in\n",
    "# this case (google \"hex colour codes\" for other options)\n",
    "\n",
    "colorlist = [\"blue\" if \"Pan_paniscus\" in tip\n",
    "             else \"darkblue\" if \"Pan_troglodytes\" in tip \n",
    "             else \"red\" if \"Pongo_abelii\" in tip \n",
    "             else \"orange\" if \"Pongo_pygmaeus\" in tip\n",
    "             else \"#5384a3\" for tip in rtre.get_tip_labels()]\n",
    "\n",
    "# draw the tree\n",
    "canvas = rtre.draw(\n",
    "    width=600,  # set dimensions of the figure\n",
    "    height=600,\n",
    "    scalebar=True,  # scale bar of divergence levels\n",
    "    tip_labels_align=True,\n",
    "    tip_labels=True,\n",
    "    tip_labels_colors=colorlist,\n",
    "    node_labels=None,\n",
    "    node_sizes=[0 if i else 8 for i in rtre.get_node_values(None, 1, 0)],\n",
    "    node_markers=\"s\", # use \"o\" for circles instead of squares\n",
    "    node_colors=toytree.colors[0],\n",
    ")"
   ]
  },
  {
   "cell_type": "markdown",
   "metadata": {},
   "source": [
    "You now have all the skills to edit this script and change colours. Pick some ones you like and rerun. The tree tips are marked by squares, the dashed lines after those just help link the tips to the names. You can remove the code line `tip_labels_align=True,` above and rerun to see it without the dotted lines"
   ]
  },
  {
   "cell_type": "markdown",
   "metadata": {},
   "source": [
    "<h3><font color=red>IMPORTANT, SAVE YOUR FILE</font></h3>\n",
    "Make sure that you save and take away a copy of you tree file image in a format suitable to insert into your final report. Run the cell below and then find the file in your working directory and save it somewhere accesible."
   ]
  },
  {
   "cell_type": "code",
   "execution_count": 13,
   "metadata": {},
   "outputs": [],
   "source": [
    "# --------------------------------\n",
    "# Save the tree as a graphics file\n",
    "# --------------------------------\n",
    "\n",
    "# import code to draw graphics files\n",
    "import toyplot.pdf\n",
    "import toyplot.svg\n",
    "import toyplot.html\n",
    "\n",
    "# draw graphics files\n",
    "# toyplot.svg.render(canvas[0], \"ape.svg\")\n",
    "toyplot.pdf.render(canvas[0], \"ape.pdf\")\n",
    "toyplot.html.render(canvas[0], \"ape.html\")"
   ]
  },
  {
   "cell_type": "markdown",
   "metadata": {},
   "source": [
    "<h4><font color='Blue'>SPECIES DIFFERENTIATION</font></h4>"
   ]
  },
  {
   "cell_type": "markdown",
   "metadata": {},
   "source": [
    "Looking at the tree, it would seem the two *Pan* clades are as distant from each other as the two *Pongo* clades\n",
    " \n",
    "The scale along the bottom is genetic distances from 0 to 1, so 0.06 would be 6%. Find the common ancestor node of each genus. What is the distance between the common ancestor of both Pan species and the tree tips? What is that value for Pongo? Do you think it is very different?\n",
    "\n",
    "When this analysis was first done orangutans were all classified as the same species, whereas there were two Pan species. Do you think that classification accurately reflects evolutionary history? Does the classification in this way have any negatives for conservation planning? Discuss in your group.\n",
    "\n",
    "Soon after these analyses on single mitochondrial genes, exactly as you have done here, orangutans were divided into two species."
   ]
  },
  {
   "cell_type": "markdown",
   "metadata": {},
   "source": [
    "## Pause"
   ]
  },
  {
   "cell_type": "markdown",
   "metadata": {},
   "source": [
    "You have just loaded a data file, aligned it, quality controled the alignment, constructed a maximum likelihood phyogenetic tree, and created an annotated figure of the phylogeny. Well done!"
   ]
  },
  {
   "cell_type": "markdown",
   "metadata": {},
   "source": [
    "Oh yes, some of you may also have modified a bioinformatics python script to characterise a DNA sequence file. "
   ]
  },
  {
   "cell_type": "markdown",
   "metadata": {},
   "source": [
    "This was quite a lot of work to do the first time, trying to understand how to pass a specific data file through the analytical satges to create a phylogeny. Fortunately, as you learned above, doing it again on a different data file just requires a simple change, ie specifying a different file."
   ]
  },
  {
   "cell_type": "markdown",
   "metadata": {},
   "source": [
    "Below you can quite rapidly analyse a \"big ape\" data set, containing a lot more sequences, by rerunning the same commands with different data. It should not take long. In the second case study (below) we are going to swap from apes to HIV, but again it should be rapid because the commands will be very similar."
   ]
  },
  {
   "cell_type": "markdown",
   "metadata": {},
   "source": [
    "<hr>\n",
    "<h2><font color='Blue'>A big data analysis of great apes</font></h2>\n",
    "\n",
    "One very useful aspect of using code to carry out analyses is that once you have written it, and it works, its very little effort to re-run it again on any number or any size of other data sets.\n",
    "\n",
    "Here I have collected from GenBank whole mitochondrial genomes (about 16,000 nucleotides per genome) from a lot of great apes including humas, neanderthals, and species of gorillas in addition to the species you have just analysed. The file is large but we can just run the same code again. If you want to find out how much data you have, you could insert a cell and paste in the code to quantify sequences (from the ape example) and run it for the big_ape dataset. This is optional. For efficiency reasons I've compressed the code below a little, but its the same as you have just run.\n",
    "\n",
    "This big analysis gives you the opportunity to decide whether the similarity of divergence between groups that you have just observed is true more widely. When you have produced their big trees you should discuss what the divergence levels might mean with your demonstrators. If you want to find out how much data you are analysing you can copy and paste the \"how much data do you have?\" cell from above, and run it here (on the new fasta file). But that is optional."
   ]
  },
  {
   "cell_type": "markdown",
   "metadata": {},
   "source": [
    "The data is in the `data` directory in a file called `big_ape.fas` make sure your code points at the correct input file.\n",
    "\n",
    "Run this cell to align, trim the alignment, and then build a tree. It might take a few minutes to complete. When there is a number not an asterisk in the left margin then it is complete."
   ]
  },
  {
   "cell_type": "code",
   "execution_count": 18,
   "metadata": {},
   "outputs": [
    {
     "name": "stdout",
     "output_type": "stream",
     "text": [
      "\n",
      "The analysis has begun, this will take a few minutes, please be patient\n",
      "\n",
      "\n",
      "The sequence alignment has finished\n",
      "The alignment trimming has finished\n",
      "The phylogenetic tree construction has started\n",
      "\n",
      "FastTree Version 2.1.10 Double precision (No SSE3)\n",
      "Alignment: big_ape_trimmed.afa\n",
      "Nucleotide distances: Jukes-Cantor Joins: balanced Support: SH-like 1000\n",
      "Search: Normal +NNI +SPR (2 rounds range 10) +ML-NNI opt-each=1\n",
      "TopHits: 1.00*sqrtN close=default refresh=0.80\n",
      "ML Model: Generalized Time-Reversible, CAT approximation with 20 rate categories\n",
      "Ignored unknown character n (seen 42 times)\n",
      "Ignored unknown character r (seen 1 times)\n",
      "Ignored unknown character s (seen 1 times)\n",
      "Initial topology in 0.35 seconds\n",
      "Refining topology: 23 rounds ME-NNIs, 2 rounds ME-SPRs, 11 rounds ML-NNIs\n",
      "Total branch-length 0.536 after 5.33 sec3, 1 of 49 splits   \n",
      "ML-NNI round 1: LogLk = -77072.124 NNIs 4 max delta 7.85 Time 8.11\n",
      "GTR Frequencies: 0.3092 0.3142 0.1304 0.2462ep 12 of 12   \n",
      "GTR rates(ac ag at cg ct gt) 5.1842 40.6082 3.0165 1.5506 43.5488 1.0000\n",
      "Switched to using 20 rate categories (CAT approximation)19 of 20   \n",
      "Rate categories were divided by 0.742 so that average rate = 1.0\n",
      "CAT-based log-likelihoods may not be comparable across runs\n",
      "Use -gamma for approximate but comparable Gamma(20) log-likelihoods\n",
      "ML-NNI round 2: LogLk = -65713.209 NNIs 1 max delta 0.00 Time 17.32\n",
      "Turning off heuristics for final round of ML NNIs (converged)\n",
      "ML-NNI round 3: LogLk = -65710.620 NNIs 0 max delta 0.00 Time 19.73 (final)\n",
      "Optimize all lengths: LogLk = -65710.620 Time 20.33\n",
      "Total time: 25.72 seconds Unique: 51/53 Bad splits: 0/48\n",
      "\n",
      "The phylogenetic analysis has finished\n"
     ]
    }
   ],
   "source": [
    "print(\"\\nThe analysis has begun, this will take a few minutes, please be patient\\n\")\n",
    "\n",
    "# Align\n",
    "!mafft --auto --quiet data/big_ape.fas > big_ape.afa\n",
    "print(\"\\nThe sequence alignment has finished\")\n",
    "# Trim\n",
    "!trimal -in big_ape.afa -out big_ape_trimmed.afa -gappyout -keepheader\n",
    "print(\"The alignment trimming has finished\")\n",
    "# Tree build\n",
    "print(\"The phylogenetic tree construction has started\\n\")\n",
    "!FastTree -gtr -nt big_ape_trimmed.afa > big_ape.nwk\n",
    "print(\"\\nThe phylogenetic analysis has finished\")"
   ]
  },
  {
   "cell_type": "markdown",
   "metadata": {},
   "source": [
    "Expect this to take a couple of minutes. Remember if there is an asterisk in the top left \"`In [*]:`\" then it is still working, when it is a number it is finished. \n",
    "\n",
    "What tree file (.nwk) did it write? You will need this below\n",
    "\n",
    "If this completed without errors then you can just run the cell below and see the output tree. You may want to adjust colours and re-run a few times. If you had an error, see if you can spot what went wrong, but seek assistance if not."
   ]
  },
  {
   "cell_type": "code",
   "execution_count": 16,
   "metadata": {},
   "outputs": [
    {
     "data": {
      "text/html": [
       "<div class=\"toyplot\" id=\"t5f898801067c4355b790bc830220b1f1\" style=\"text-align:center\"><svg class=\"toyplot-canvas-Canvas\" xmlns:toyplot=\"http://www.sandia.gov/toyplot\" xmlns:xlink=\"http://www.w3.org/1999/xlink\" xmlns=\"http://www.w3.org/2000/svg\" width=\"700.0px\" height=\"1200.0px\" viewBox=\"0 0 700.0 1200.0\" preserveAspectRatio=\"xMidYMid meet\" style=\"background-color:transparent;border-color:#292724;border-style:none;border-width:1.0;fill:rgb(16.1%,15.3%,14.1%);fill-opacity:1.0;font-family:Helvetica;font-size:12px;opacity:1.0;stroke:rgb(16.1%,15.3%,14.1%);stroke-opacity:1.0;stroke-width:1.0\" id=\"t3fdb45cc98b84c9a816efccc9f0ffc12\"><g class=\"toyplot-coordinates-Cartesian\" id=\"t10848b4fe17a47eaa5cd5e962f591f02\"><clipPath id=\"tccded95487724a6388a6743bf1c23d3d\"><rect x=\"30.0\" y=\"30.0\" width=\"640.0\" height=\"1140.0\"></rect></clipPath><g clip-path=\"url(#tccded95487724a6388a6743bf1c23d3d)\"><g class=\"toytree-mark-Toytree\" id=\"td3b8eee8ce7c415b83b780eab000e0fb\"><g class=\"toytree-Edges\" style=\"fill:none;stroke:rgb(14.9%,14.9%,14.9%);stroke-linecap:round;stroke-opacity:1;stroke-width:2\"><path d=\"M 50.0 252.3 L 50.0 442.4 L 169.2 442.4\" id=\"104,103\"></path><path d=\"M 169.2 442.4 L 169.2 216.6 L 307.6 216.6\" id=\"103,102\"></path><path d=\"M 169.2 442.4 L 169.2 668.1 L 249.9 668.1\" id=\"103,101\"></path><path d=\"M 307.6 216.6 L 307.6 130.8 L 331.8 130.8\" id=\"102,100\"></path><path d=\"M 307.6 216.6 L 307.6 302.4 L 352.4 302.4\" id=\"102,99\"></path><path d=\"M 249.9 668.1 L 249.9 542.5 L 345.3 542.5\" id=\"101,98\"></path><path d=\"M 249.9 668.1 L 249.9 793.7 L 285.4 793.7\" id=\"101,97\"></path><path d=\"M 331.8 130.8 L 331.8 98.5 L 372.7 98.5\" id=\"100,96\"></path><path d=\"M 331.8 130.8 L 331.8 163.1 L 378.5 163.1\" id=\"100,95\"></path><path d=\"M 352.4 302.4 L 352.4 245.9 L 366.6 245.9\" id=\"99,94\"></path><path d=\"M 352.4 302.4 L 352.4 358.9 L 356.5 358.9\" id=\"99,93\"></path><path d=\"M 345.3 542.5 L 345.3 506.9 L 379.1 506.9\" id=\"98,92\"></path><path d=\"M 345.3 542.5 L 345.3 578.0 L 371.7 578.0\" id=\"98,91\"></path><path d=\"M 285.4 793.7 L 285.4 703.4 L 361.6 703.4\" id=\"97,90\"></path><path d=\"M 285.4 793.7 L 285.4 884.0 L 347.3 884.0\" id=\"97,89\"></path><path d=\"M 372.7 98.5 L 372.7 114.0 L 373.0 114.0\" id=\"96,88\"></path><path d=\"M 378.5 163.1 L 378.5 181.2 L 379.0 181.2\" id=\"95,87\"></path><path d=\"M 366.6 245.9 L 366.6 263.9 L 366.6 263.9\" id=\"94,86\"></path><path d=\"M 356.5 358.9 L 356.5 326.0 L 372.2 326.0\" id=\"93,85\"></path><path d=\"M 356.5 358.9 L 356.5 391.9 L 370.9 391.9\" id=\"93,84\"></path><path d=\"M 379.1 506.9 L 379.1 486.3 L 379.1 486.3\" id=\"92,83\"></path><path d=\"M 379.1 506.9 L 379.1 527.6 L 379.3 527.6\" id=\"92,82\"></path><path d=\"M 371.7 578.0 L 371.7 597.4 L 378.1 597.4\" id=\"91,81\"></path><path d=\"M 361.6 703.4 L 361.6 672.4 L 379.9 672.4\" id=\"90,80\"></path><path d=\"M 361.6 703.4 L 361.6 734.4 L 373.4 734.4\" id=\"90,79\"></path><path d=\"M 347.3 884.0 L 347.3 804.2 L 379.9 804.2\" id=\"89,78\"></path><path d=\"M 347.3 884.0 L 347.3 963.8 L 368.3 963.8\" id=\"89,77\"></path><path d=\"M 379.0 181.2 L 379.0 196.7 L 379.0 196.7\" id=\"87,76\"></path><path d=\"M 366.6 263.9 L 366.6 279.5 L 366.7 279.5\" id=\"86,75\"></path><path d=\"M 372.2 326.0 L 372.2 341.5 L 372.3 341.5\" id=\"85,74\"></path><path d=\"M 370.9 391.9 L 370.9 411.3 L 371.0 411.3\" id=\"84,73\"></path><path d=\"M 378.1 597.4 L 378.1 615.5 L 380.0 615.5\" id=\"81,72\"></path><path d=\"M 373.4 734.4 L 373.4 713.7 L 384.3 713.7\" id=\"79,71\"></path><path d=\"M 373.4 734.4 L 373.4 755.1 L 384.0 755.1\" id=\"79,70\"></path><path d=\"M 379.9 804.2 L 379.9 822.3 L 381.4 822.3\" id=\"78,69\"></path><path d=\"M 368.3 963.8 L 368.3 888.2 L 386.0 888.2\" id=\"77,68\"></path><path d=\"M 368.3 963.8 L 368.3 1039.5 L 379.6 1039.5\" id=\"77,67\"></path><path d=\"M 371.0 411.3 L 371.0 429.4 L 371.2 429.4\" id=\"73,66\"></path><path d=\"M 380.0 615.5 L 380.0 631.0 L 380.1 631.0\" id=\"72,65\"></path><path d=\"M 381.4 822.3 L 381.4 837.8 L 386.9 837.8\" id=\"69,64\"></path><path d=\"M 386.0 888.2 L 386.0 907.6 L 386.7 907.6\" id=\"68,63\"></path><path d=\"M 379.6 1039.5 L 379.6 990.3 L 387.6 990.3\" id=\"67,62\"></path><path d=\"M 379.6 1039.5 L 379.6 1088.6 L 387.0 1088.6\" id=\"67,61\"></path><path d=\"M 371.2 429.4 L 371.2 444.9 L 371.5 444.9\" id=\"66,60\"></path><path d=\"M 386.7 907.6 L 386.7 925.7 L 386.9 925.7\" id=\"63,59\"></path><path d=\"M 387.6 990.3 L 387.6 1008.4 L 390.6 1008.4\" id=\"62,58\"></path><path d=\"M 387.0 1088.6 L 387.0 1065.3 L 387.5 1065.3\" id=\"61,57\"></path><path d=\"M 387.0 1088.6 L 387.0 1111.8 L 389.1 1111.8\" id=\"61,56\"></path><path d=\"M 386.9 925.7 L 386.9 941.2 L 387.3 941.2\" id=\"59,55\"></path><path d=\"M 390.6 1008.4 L 390.6 1023.9 L 391.2 1023.9\" id=\"58,54\"></path><path d=\"M 389.1 1111.8 L 389.1 1127.3 L 389.9 1127.3\" id=\"56,53\"></path><path d=\"M 50.0 252.3 L 50.0 62.3 L 169.2 62.3\" id=\"104,52\"></path><path d=\"M 372.7 98.5 L 372.7 83.0 L 372.8 83.0\" id=\"96,51\"></path><path d=\"M 373.0 114.0 L 373.0 103.7 L 373.3 103.7\" id=\"88,50\"></path><path d=\"M 373.0 114.0 L 373.0 124.4 L 373.0 124.4\" id=\"88,49\"></path><path d=\"M 378.5 163.1 L 378.5 145.0 L 379.0 145.0\" id=\"95,48\"></path><path d=\"M 379.0 181.2 L 379.0 165.7 L 379.0 165.7\" id=\"87,47\"></path><path d=\"M 379.0 196.7 L 379.0 186.4 L 379.0 186.4\" id=\"76,46\"></path><path d=\"M 379.0 196.7 L 379.0 207.1 L 379.0 207.1\" id=\"76,45\"></path><path d=\"M 366.6 245.9 L 366.6 227.8 L 366.9 227.8\" id=\"94,44\"></path><path d=\"M 366.6 263.9 L 366.6 248.4 L 366.6 248.4\" id=\"86,43\"></path><path d=\"M 366.7 279.5 L 366.7 269.1 L 366.7 269.1\" id=\"75,42\"></path><path d=\"M 366.7 279.5 L 366.7 289.8 L 366.7 289.8\" id=\"75,41\"></path><path d=\"M 372.2 326.0 L 372.2 310.5 L 372.2 310.5\" id=\"85,40\"></path><path d=\"M 372.3 341.5 L 372.3 331.2 L 372.5 331.2\" id=\"74,39\"></path><path d=\"M 372.3 341.5 L 372.3 351.8 L 372.3 351.8\" id=\"74,38\"></path><path d=\"M 370.9 391.9 L 370.9 372.5 L 371.0 372.5\" id=\"84,37\"></path><path d=\"M 371.0 411.3 L 371.0 393.2 L 371.0 393.2\" id=\"73,36\"></path><path d=\"M 371.2 429.4 L 371.2 413.9 L 371.2 413.9\" id=\"66,35\"></path><path d=\"M 371.5 444.9 L 371.5 434.6 L 371.5 434.6\" id=\"60,34\"></path><path d=\"M 371.5 444.9 L 371.5 455.2 L 371.5 455.2\" id=\"60,33\"></path><path d=\"M 379.1 486.3 L 379.1 475.9 L 379.1 475.9\" id=\"83,32\"></path><path d=\"M 379.1 486.3 L 379.1 496.6 L 379.1 496.6\" id=\"83,31\"></path><path d=\"M 379.3 527.6 L 379.3 517.3 L 379.3 517.3\" id=\"82,30\"></path><path d=\"M 379.3 527.6 L 379.3 538.0 L 379.4 538.0\" id=\"82,29\"></path><path d=\"M 371.7 578.0 L 371.7 558.6 L 381.3 558.6\" id=\"91,28\"></path><path d=\"M 378.1 597.4 L 378.1 579.3 L 381.2 579.3\" id=\"81,27\"></path><path d=\"M 380.0 615.5 L 380.0 600.0 L 380.0 600.0\" id=\"72,26\"></path><path d=\"M 380.1 631.0 L 380.1 620.7 L 381.6 620.7\" id=\"65,25\"></path><path d=\"M 380.1 631.0 L 380.1 641.4 L 380.1 641.4\" id=\"65,24\"></path><path d=\"M 379.9 672.4 L 379.9 662.0 L 381.4 662.0\" id=\"80,23\"></path><path d=\"M 379.9 672.4 L 379.9 682.7 L 381.8 682.7\" id=\"80,22\"></path><path d=\"M 384.3 713.7 L 384.3 703.4 L 386.0 703.4\" id=\"71,21\"></path><path d=\"M 384.3 713.7 L 384.3 724.1 L 385.7 724.1\" id=\"71,20\"></path><path d=\"M 384.0 755.1 L 384.0 744.8 L 384.6 744.8\" id=\"70,19\"></path><path d=\"M 384.0 755.1 L 384.0 765.4 L 384.6 765.4\" id=\"70,18\"></path><path d=\"M 379.9 804.2 L 379.9 786.1 L 387.7 786.1\" id=\"78,17\"></path><path d=\"M 381.4 822.3 L 381.4 806.8 L 389.9 806.8\" id=\"69,16\"></path><path d=\"M 386.9 837.8 L 386.9 827.5 L 390.3 827.5\" id=\"64,15\"></path><path d=\"M 386.9 837.8 L 386.9 848.2 L 390.7 848.2\" id=\"64,14\"></path><path d=\"M 386.0 888.2 L 386.0 868.8 L 387.5 868.8\" id=\"68,13\"></path><path d=\"M 386.7 907.6 L 386.7 889.5 L 388.9 889.5\" id=\"63,12\"></path><path d=\"M 386.9 925.7 L 386.9 910.2 L 388.5 910.2\" id=\"59,11\"></path><path d=\"M 387.3 941.2 L 387.3 930.9 L 388.8 930.9\" id=\"55,10\"></path><path d=\"M 387.3 941.2 L 387.3 951.6 L 389.0 951.6\" id=\"55,9\"></path><path d=\"M 387.6 990.3 L 387.6 972.2 L 391.3 972.2\" id=\"62,8\"></path><path d=\"M 390.6 1008.4 L 390.6 992.9 L 392.1 992.9\" id=\"58,7\"></path><path d=\"M 391.2 1023.9 L 391.2 1013.6 L 392.4 1013.6\" id=\"54,6\"></path><path d=\"M 391.2 1023.9 L 391.2 1034.3 L 392.3 1034.3\" id=\"54,5\"></path><path d=\"M 387.5 1065.3 L 387.5 1055.0 L 393.9 1055.0\" id=\"57,4\"></path><path d=\"M 387.5 1065.3 L 387.5 1075.6 L 390.7 1075.6\" id=\"57,3\"></path><path d=\"M 389.1 1111.8 L 389.1 1096.3 L 391.9 1096.3\" id=\"56,2\"></path><path d=\"M 389.9 1127.3 L 389.9 1117.0 L 390.5 1117.0\" id=\"53,1\"></path><path d=\"M 389.9 1127.3 L 389.9 1137.7 L 391.3 1137.7\" id=\"53,0\"></path></g><g class=\"toytree-AlignEdges\" style=\"stroke:rgb(66.3%,66.3%,66.3%);stroke-dasharray:2, 4;stroke-linecap:round;stroke-opacity:1.0;stroke-width:2\"><path d=\"M 393.9 1137.7 L 391.3 1137.7\"></path><path d=\"M 393.9 1117.0 L 390.5 1117.0\"></path><path d=\"M 393.9 1096.3 L 391.9 1096.3\"></path><path d=\"M 393.9 1075.6 L 390.7 1075.6\"></path><path d=\"M 393.9 1055.0 L 393.9 1055.0\"></path><path d=\"M 393.9 1034.3 L 392.3 1034.3\"></path><path d=\"M 393.9 1013.6 L 392.4 1013.6\"></path><path d=\"M 393.9 992.9 L 392.1 992.9\"></path><path d=\"M 393.9 972.2 L 391.3 972.2\"></path><path d=\"M 393.9 951.6 L 389.0 951.6\"></path><path d=\"M 393.9 930.9 L 388.8 930.9\"></path><path d=\"M 393.9 910.2 L 388.5 910.2\"></path><path d=\"M 393.9 889.5 L 388.9 889.5\"></path><path d=\"M 393.9 868.8 L 387.5 868.8\"></path><path d=\"M 393.9 848.2 L 390.7 848.2\"></path><path d=\"M 393.9 827.5 L 390.3 827.5\"></path><path d=\"M 393.9 806.8 L 389.9 806.8\"></path><path d=\"M 393.9 786.1 L 387.7 786.1\"></path><path d=\"M 393.9 765.4 L 384.6 765.4\"></path><path d=\"M 393.9 744.8 L 384.6 744.8\"></path><path d=\"M 393.9 724.1 L 385.7 724.1\"></path><path d=\"M 393.9 703.4 L 386.0 703.4\"></path><path d=\"M 393.9 682.7 L 381.8 682.7\"></path><path d=\"M 393.9 662.0 L 381.4 662.0\"></path><path d=\"M 393.9 641.4 L 380.1 641.4\"></path><path d=\"M 393.9 620.7 L 381.6 620.7\"></path><path d=\"M 393.9 600.0 L 380.0 600.0\"></path><path d=\"M 393.9 579.3 L 381.2 579.3\"></path><path d=\"M 393.9 558.6 L 381.3 558.6\"></path><path d=\"M 393.9 538.0 L 379.4 538.0\"></path><path d=\"M 393.9 517.3 L 379.3 517.3\"></path><path d=\"M 393.9 496.6 L 379.1 496.6\"></path><path d=\"M 393.9 475.9 L 379.1 475.9\"></path><path d=\"M 393.9 455.2 L 371.5 455.2\"></path><path d=\"M 393.9 434.6 L 371.5 434.6\"></path><path d=\"M 393.9 413.9 L 371.2 413.9\"></path><path d=\"M 393.9 393.2 L 371.0 393.2\"></path><path d=\"M 393.9 372.5 L 371.0 372.5\"></path><path d=\"M 393.9 351.8 L 372.3 351.8\"></path><path d=\"M 393.9 331.2 L 372.5 331.2\"></path><path d=\"M 393.9 310.5 L 372.2 310.5\"></path><path d=\"M 393.9 289.8 L 366.7 289.8\"></path><path d=\"M 393.9 269.1 L 366.7 269.1\"></path><path d=\"M 393.9 248.4 L 366.6 248.4\"></path><path d=\"M 393.9 227.8 L 366.9 227.8\"></path><path d=\"M 393.9 207.1 L 379.0 207.1\"></path><path d=\"M 393.9 186.4 L 379.0 186.4\"></path><path d=\"M 393.9 165.7 L 379.0 165.7\"></path><path d=\"M 393.9 145.0 L 379.0 145.0\"></path><path d=\"M 393.9 124.4 L 373.0 124.4\"></path><path d=\"M 393.9 103.7 L 373.3 103.7\"></path><path d=\"M 393.9 83.0 L 372.8 83.0\"></path><path d=\"M 393.9 62.3 L 169.2 62.3\"></path></g><g class=\"toytree-Nodes\" style=\"fill:rgb(40%,76.1%,64.7%);fill-opacity:1.0;stroke:None;stroke-width:1\"><g id=\"node-0\" transform=\"translate(391.309,1137.682)\"><rect x=\"-4.0\" y=\"-4.0\" width=\"8\" height=\"8\"></rect></g><g id=\"node-1\" transform=\"translate(390.502,1117.002)\"><rect x=\"-4.0\" y=\"-4.0\" width=\"8\" height=\"8\"></rect></g><g id=\"node-2\" transform=\"translate(391.936,1096.322)\"><rect x=\"-4.0\" y=\"-4.0\" width=\"8\" height=\"8\"></rect></g><g id=\"node-3\" transform=\"translate(390.714,1075.642)\"><rect x=\"-4.0\" y=\"-4.0\" width=\"8\" height=\"8\"></rect></g><g id=\"node-4\" transform=\"translate(393.919,1054.962)\"><rect x=\"-4.0\" y=\"-4.0\" width=\"8\" height=\"8\"></rect></g><g id=\"node-5\" transform=\"translate(392.255,1034.282)\"><rect x=\"-4.0\" y=\"-4.0\" width=\"8\" height=\"8\"></rect></g><g id=\"node-6\" transform=\"translate(392.373,1013.602)\"><rect x=\"-4.0\" y=\"-4.0\" width=\"8\" height=\"8\"></rect></g><g id=\"node-7\" transform=\"translate(392.062,992.922)\"><rect x=\"-4.0\" y=\"-4.0\" width=\"8\" height=\"8\"></rect></g><g id=\"node-8\" transform=\"translate(391.294,972.242)\"><rect x=\"-4.0\" y=\"-4.0\" width=\"8\" height=\"8\"></rect></g><g id=\"node-9\" transform=\"translate(389.046,951.561)\"><rect x=\"-4.0\" y=\"-4.0\" width=\"8\" height=\"8\"></rect></g><g id=\"node-10\" transform=\"translate(388.751,930.881)\"><rect x=\"-4.0\" y=\"-4.0\" width=\"8\" height=\"8\"></rect></g><g id=\"node-11\" transform=\"translate(388.507,910.201)\"><rect x=\"-4.0\" y=\"-4.0\" width=\"8\" height=\"8\"></rect></g><g id=\"node-12\" transform=\"translate(388.855,889.521)\"><rect x=\"-4.0\" y=\"-4.0\" width=\"8\" height=\"8\"></rect></g><g id=\"node-13\" transform=\"translate(387.468,868.841)\"><rect x=\"-4.0\" y=\"-4.0\" width=\"8\" height=\"8\"></rect></g><g id=\"node-14\" transform=\"translate(390.737,848.161)\"><rect x=\"-4.0\" y=\"-4.0\" width=\"8\" height=\"8\"></rect></g><g id=\"node-15\" transform=\"translate(390.318,827.481)\"><rect x=\"-4.0\" y=\"-4.0\" width=\"8\" height=\"8\"></rect></g><g id=\"node-16\" transform=\"translate(389.858,806.801)\"><rect x=\"-4.0\" y=\"-4.0\" width=\"8\" height=\"8\"></rect></g><g id=\"node-17\" transform=\"translate(387.658,786.121)\"><rect x=\"-4.0\" y=\"-4.0\" width=\"8\" height=\"8\"></rect></g><g id=\"node-18\" transform=\"translate(384.595,765.441)\"><rect x=\"-4.0\" y=\"-4.0\" width=\"8\" height=\"8\"></rect></g><g id=\"node-19\" transform=\"translate(384.631,744.761)\"><rect x=\"-4.0\" y=\"-4.0\" width=\"8\" height=\"8\"></rect></g><g id=\"node-20\" transform=\"translate(385.684,724.081)\"><rect x=\"-4.0\" y=\"-4.0\" width=\"8\" height=\"8\"></rect></g><g id=\"node-21\" transform=\"translate(385.989,703.400)\"><rect x=\"-4.0\" y=\"-4.0\" width=\"8\" height=\"8\"></rect></g><g id=\"node-22\" transform=\"translate(381.795,682.720)\"><rect x=\"-4.0\" y=\"-4.0\" width=\"8\" height=\"8\"></rect></g><g id=\"node-23\" transform=\"translate(381.350,662.040)\"><rect x=\"-4.0\" y=\"-4.0\" width=\"8\" height=\"8\"></rect></g><g id=\"node-24\" transform=\"translate(380.107,641.360)\"><rect x=\"-4.0\" y=\"-4.0\" width=\"8\" height=\"8\"></rect></g><g id=\"node-25\" transform=\"translate(381.614,620.680)\"><rect x=\"-4.0\" y=\"-4.0\" width=\"8\" height=\"8\"></rect></g><g id=\"node-26\" transform=\"translate(379.982,600.000)\"><rect x=\"-4.0\" y=\"-4.0\" width=\"8\" height=\"8\"></rect></g><g id=\"node-27\" transform=\"translate(381.218,579.320)\"><rect x=\"-4.0\" y=\"-4.0\" width=\"8\" height=\"8\"></rect></g><g id=\"node-28\" transform=\"translate(381.254,558.640)\"><rect x=\"-4.0\" y=\"-4.0\" width=\"8\" height=\"8\"></rect></g><g id=\"node-29\" transform=\"translate(379.382,537.960)\"><rect x=\"-4.0\" y=\"-4.0\" width=\"8\" height=\"8\"></rect></g><g id=\"node-30\" transform=\"translate(379.257,517.280)\"><rect x=\"-4.0\" y=\"-4.0\" width=\"8\" height=\"8\"></rect></g><g id=\"node-31\" transform=\"translate(379.133,496.600)\"><rect x=\"-4.0\" y=\"-4.0\" width=\"8\" height=\"8\"></rect></g><g id=\"node-32\" transform=\"translate(379.133,475.919)\"><rect x=\"-4.0\" y=\"-4.0\" width=\"8\" height=\"8\"></rect></g><g id=\"node-33\" transform=\"translate(371.489,455.239)\"><rect x=\"-4.0\" y=\"-4.0\" width=\"8\" height=\"8\"></rect></g><g id=\"node-34\" transform=\"translate(371.489,434.559)\"><rect x=\"-4.0\" y=\"-4.0\" width=\"8\" height=\"8\"></rect></g><g id=\"node-35\" transform=\"translate(371.239,413.879)\"><rect x=\"-4.0\" y=\"-4.0\" width=\"8\" height=\"8\"></rect></g><g id=\"node-36\" transform=\"translate(370.989,393.199)\"><rect x=\"-4.0\" y=\"-4.0\" width=\"8\" height=\"8\"></rect></g><g id=\"node-37\" transform=\"translate(370.990,372.519)\"><rect x=\"-4.0\" y=\"-4.0\" width=\"8\" height=\"8\"></rect></g><g id=\"node-38\" transform=\"translate(372.332,351.839)\"><rect x=\"-4.0\" y=\"-4.0\" width=\"8\" height=\"8\"></rect></g><g id=\"node-39\" transform=\"translate(372.457,331.159)\"><rect x=\"-4.0\" y=\"-4.0\" width=\"8\" height=\"8\"></rect></g><g id=\"node-40\" transform=\"translate(372.206,310.479)\"><rect x=\"-4.0\" y=\"-4.0\" width=\"8\" height=\"8\"></rect></g><g id=\"node-41\" transform=\"translate(366.680,289.799)\"><rect x=\"-4.0\" y=\"-4.0\" width=\"8\" height=\"8\"></rect></g><g id=\"node-42\" transform=\"translate(366.680,269.119)\"><rect x=\"-4.0\" y=\"-4.0\" width=\"8\" height=\"8\"></rect></g><g id=\"node-43\" transform=\"translate(366.555,248.439)\"><rect x=\"-4.0\" y=\"-4.0\" width=\"8\" height=\"8\"></rect></g><g id=\"node-44\" transform=\"translate(366.931,227.758)\"><rect x=\"-4.0\" y=\"-4.0\" width=\"8\" height=\"8\"></rect></g><g id=\"node-45\" transform=\"translate(378.986,207.078)\"><rect x=\"-4.0\" y=\"-4.0\" width=\"8\" height=\"8\"></rect></g><g id=\"node-46\" transform=\"translate(378.986,186.398)\"><rect x=\"-4.0\" y=\"-4.0\" width=\"8\" height=\"8\"></rect></g><g id=\"node-47\" transform=\"translate(378.986,165.718)\"><rect x=\"-4.0\" y=\"-4.0\" width=\"8\" height=\"8\"></rect></g><g id=\"node-48\" transform=\"translate(378.995,145.038)\"><rect x=\"-4.0\" y=\"-4.0\" width=\"8\" height=\"8\"></rect></g><g id=\"node-49\" transform=\"translate(372.957,124.358)\"><rect x=\"-4.0\" y=\"-4.0\" width=\"8\" height=\"8\"></rect></g><g id=\"node-50\" transform=\"translate(373.333,103.678)\"><rect x=\"-4.0\" y=\"-4.0\" width=\"8\" height=\"8\"></rect></g><g id=\"node-51\" transform=\"translate(372.834,82.998)\"><rect x=\"-4.0\" y=\"-4.0\" width=\"8\" height=\"8\"></rect></g><g id=\"node-52\" transform=\"translate(169.150,62.318)\"><rect x=\"-4.0\" y=\"-4.0\" width=\"8\" height=\"8\"></rect></g><g id=\"node-53\" transform=\"translate(389.925,1127.342)\"><rect x=\"0.0\" y=\"0.0\" width=\"0\" height=\"0\"></rect></g><g id=\"node-54\" transform=\"translate(391.217,1023.942)\"><rect x=\"0.0\" y=\"0.0\" width=\"0\" height=\"0\"></rect></g><g id=\"node-55\" transform=\"translate(387.283,941.221)\"><rect x=\"0.0\" y=\"0.0\" width=\"0\" height=\"0\"></rect></g><g id=\"node-56\" transform=\"translate(389.129,1111.832)\"><rect x=\"0.0\" y=\"0.0\" width=\"0\" height=\"0\"></rect></g><g id=\"node-57\" transform=\"translate(387.452,1065.302)\"><rect x=\"0.0\" y=\"0.0\" width=\"0\" height=\"0\"></rect></g><g id=\"node-58\" transform=\"translate(390.593,1008.432)\"><rect x=\"0.0\" y=\"0.0\" width=\"0\" height=\"0\"></rect></g><g id=\"node-59\" transform=\"translate(386.938,925.711)\"><rect x=\"0.0\" y=\"0.0\" width=\"0\" height=\"0\"></rect></g><g id=\"node-60\" transform=\"translate(371.489,444.899)\"><rect x=\"0.0\" y=\"0.0\" width=\"0\" height=\"0\"></rect></g><g id=\"node-61\" transform=\"translate(387.014,1088.567)\"><rect x=\"0.0\" y=\"0.0\" width=\"0\" height=\"0\"></rect></g><g id=\"node-62\" transform=\"translate(387.631,990.337)\"><rect x=\"0.0\" y=\"0.0\" width=\"0\" height=\"0\"></rect></g><g id=\"node-63\" transform=\"translate(386.662,907.616)\"><rect x=\"0.0\" y=\"0.0\" width=\"0\" height=\"0\"></rect></g><g id=\"node-64\" transform=\"translate(386.881,837.821)\"><rect x=\"0.0\" y=\"0.0\" width=\"0\" height=\"0\"></rect></g><g id=\"node-65\" transform=\"translate(380.107,631.020)\"><rect x=\"0.0\" y=\"0.0\" width=\"0\" height=\"0\"></rect></g><g id=\"node-66\" transform=\"translate(371.239,429.389)\"><rect x=\"0.0\" y=\"0.0\" width=\"0\" height=\"0\"></rect></g><g id=\"node-67\" transform=\"translate(379.576,1039.452)\"><rect x=\"0.0\" y=\"0.0\" width=\"0\" height=\"0\"></rect></g><g id=\"node-68\" transform=\"translate(386.027,888.229)\"><rect x=\"0.0\" y=\"0.0\" width=\"0\" height=\"0\"></rect></g><g id=\"node-69\" transform=\"translate(381.433,822.311)\"><rect x=\"0.0\" y=\"0.0\" width=\"0\" height=\"0\"></rect></g><g id=\"node-70\" transform=\"translate(384.034,755.101)\"><rect x=\"0.0\" y=\"0.0\" width=\"0\" height=\"0\"></rect></g><g id=\"node-71\" transform=\"translate(384.327,713.740)\"><rect x=\"0.0\" y=\"0.0\" width=\"0\" height=\"0\"></rect></g><g id=\"node-72\" transform=\"translate(379.982,615.510)\"><rect x=\"0.0\" y=\"0.0\" width=\"0\" height=\"0\"></rect></g><g id=\"node-73\" transform=\"translate(370.989,411.294)\"><rect x=\"0.0\" y=\"0.0\" width=\"0\" height=\"0\"></rect></g><g id=\"node-74\" transform=\"translate(372.332,341.499)\"><rect x=\"0.0\" y=\"0.0\" width=\"0\" height=\"0\"></rect></g><g id=\"node-75\" transform=\"translate(366.680,279.459)\"><rect x=\"0.0\" y=\"0.0\" width=\"0\" height=\"0\"></rect></g><g id=\"node-76\" transform=\"translate(378.986,196.738)\"><rect x=\"0.0\" y=\"0.0\" width=\"0\" height=\"0\"></rect></g><g id=\"node-77\" transform=\"translate(368.281,963.840)\"><rect x=\"0.0\" y=\"0.0\" width=\"0\" height=\"0\"></rect></g><g id=\"node-78\" transform=\"translate(379.927,804.216)\"><rect x=\"0.0\" y=\"0.0\" width=\"0\" height=\"0\"></rect></g><g id=\"node-79\" transform=\"translate(373.372,734.421)\"><rect x=\"0.0\" y=\"0.0\" width=\"0\" height=\"0\"></rect></g><g id=\"node-80\" transform=\"translate(379.858,672.380)\"><rect x=\"0.0\" y=\"0.0\" width=\"0\" height=\"0\"></rect></g><g id=\"node-81\" transform=\"translate(378.129,597.415)\"><rect x=\"0.0\" y=\"0.0\" width=\"0\" height=\"0\"></rect></g><g id=\"node-82\" transform=\"translate(379.257,527.620)\"><rect x=\"0.0\" y=\"0.0\" width=\"0\" height=\"0\"></rect></g><g id=\"node-83\" transform=\"translate(379.133,486.260)\"><rect x=\"0.0\" y=\"0.0\" width=\"0\" height=\"0\"></rect></g><g id=\"node-84\" transform=\"translate(370.864,391.907)\"><rect x=\"0.0\" y=\"0.0\" width=\"0\" height=\"0\"></rect></g><g id=\"node-85\" transform=\"translate(372.206,325.989)\"><rect x=\"0.0\" y=\"0.0\" width=\"0\" height=\"0\"></rect></g><g id=\"node-86\" transform=\"translate(366.555,263.949)\"><rect x=\"0.0\" y=\"0.0\" width=\"0\" height=\"0\"></rect></g><g id=\"node-87\" transform=\"translate(378.986,181.228)\"><rect x=\"0.0\" y=\"0.0\" width=\"0\" height=\"0\"></rect></g><g id=\"node-88\" transform=\"translate(372.957,114.018)\"><rect x=\"0.0\" y=\"0.0\" width=\"0\" height=\"0\"></rect></g><g id=\"node-89\" transform=\"translate(347.337,884.028)\"><rect x=\"0.0\" y=\"0.0\" width=\"0\" height=\"0\"></rect></g><g id=\"node-90\" transform=\"translate(361.617,703.400)\"><rect x=\"0.0\" y=\"0.0\" width=\"0\" height=\"0\"></rect></g><g id=\"node-91\" transform=\"translate(371.745,578.027)\"><rect x=\"0.0\" y=\"0.0\" width=\"0\" height=\"0\"></rect></g><g id=\"node-92\" transform=\"translate(379.133,506.940)\"><rect x=\"0.0\" y=\"0.0\" width=\"0\" height=\"0\"></rect></g><g id=\"node-93\" transform=\"translate(356.492,358.948)\"><rect x=\"0.0\" y=\"0.0\" width=\"0\" height=\"0\"></rect></g><g id=\"node-94\" transform=\"translate(366.555,245.854)\"><rect x=\"0.0\" y=\"0.0\" width=\"0\" height=\"0\"></rect></g><g id=\"node-95\" transform=\"translate(378.489,163.133)\"><rect x=\"0.0\" y=\"0.0\" width=\"0\" height=\"0\"></rect></g><g id=\"node-96\" transform=\"translate(372.708,98.508)\"><rect x=\"0.0\" y=\"0.0\" width=\"0\" height=\"0\"></rect></g><g id=\"node-97\" transform=\"translate(285.425,793.714)\"><rect x=\"0.0\" y=\"0.0\" width=\"0\" height=\"0\"></rect></g><g id=\"node-98\" transform=\"translate(345.293,542.484)\"><rect x=\"0.0\" y=\"0.0\" width=\"0\" height=\"0\"></rect></g><g id=\"node-99\" transform=\"translate(352.379,302.401)\"><rect x=\"0.0\" y=\"0.0\" width=\"0\" height=\"0\"></rect></g><g id=\"node-100\" transform=\"translate(331.774,130.821)\"><rect x=\"0.0\" y=\"0.0\" width=\"0\" height=\"0\"></rect></g><g id=\"node-101\" transform=\"translate(249.886,668.099)\"><rect x=\"0.0\" y=\"0.0\" width=\"0\" height=\"0\"></rect></g><g id=\"node-102\" transform=\"translate(307.571,216.611)\"><rect x=\"0.0\" y=\"0.0\" width=\"0\" height=\"0\"></rect></g><g id=\"node-103\" transform=\"translate(169.150,442.355)\"><rect x=\"0.0\" y=\"0.0\" width=\"0\" height=\"0\"></rect></g><g id=\"node-104\" transform=\"translate(50.000,252.336)\"><rect x=\"0.0\" y=\"0.0\" width=\"0\" height=\"0\"></rect></g></g><g class=\"toytree-TipLabels\" style=\"fill:rgb(14.9%,14.9%,14.9%);fill-opacity:1.0;font-family:helvetica;font-size:11px;font-weight:normal;stroke:none;white-space:pre\"><g transform=\"translate(393.92,1137.68)rotate(0)\"><text x=\"15.00\" y=\"2.81\" style=\"fill:rgb(83.9%,33.3%,48.6%);fill-opacity:1.0\">Pan_troglodytes_ellioti_KU308531.1</text></g><g transform=\"translate(393.92,1117.00)rotate(0)\"><text x=\"15.00\" y=\"2.81\" style=\"fill:rgb(83.9%,33.3%,48.6%);fill-opacity:1.0\">Pan_troglodytes_ellioti_KU308533.1</text></g><g transform=\"translate(393.92,1096.32)rotate(0)\"><text x=\"15.00\" y=\"2.81\" style=\"fill:rgb(83.9%,33.3%,48.6%);fill-opacity:1.0\">Pan_troglodytes_ellioti_KU308532.1</text></g><g transform=\"translate(393.92,1075.64)rotate(0)\"><text x=\"15.00\" y=\"2.81\" style=\"fill:rgb(83.9%,33.3%,48.6%);fill-opacity:1.0\">Pan_troglodytes_ellioti_KU308530.1</text></g><g transform=\"translate(393.92,1054.96)rotate(0)\"><text x=\"15.00\" y=\"2.81\" style=\"fill:rgb(83.9%,33.3%,48.6%);fill-opacity:1.0\">Pan_troglodytes_ellioti_KU308529.1</text></g><g transform=\"translate(393.92,1034.28)rotate(0)\"><text x=\"15.00\" y=\"2.81\" style=\"fill:rgb(83.9%,33.3%,48.6%);fill-opacity:1.0\">Pan_troglodytes_verus_A993_KU308545.1</text></g><g transform=\"translate(393.92,1013.60)rotate(0)\"><text x=\"15.00\" y=\"2.81\" style=\"fill:rgb(83.9%,33.3%,48.6%);fill-opacity:1.0\">Pan_troglodytes_verus_B005_KU308547.1</text></g><g transform=\"translate(393.92,992.92)rotate(0)\"><text x=\"15.00\" y=\"2.81\" style=\"fill:rgb(83.9%,33.3%,48.6%);fill-opacity:1.0\">Pan_troglodytes_verus_A994_KU308546.1</text></g><g transform=\"translate(393.92,972.24)rotate(0)\"><text x=\"15.00\" y=\"2.81\" style=\"fill:rgb(83.9%,33.3%,48.6%);fill-opacity:1.0\">Pan_troglodytes_verus_N016_KU308548.1</text></g><g transform=\"translate(393.92,951.56)rotate(0)\"><text x=\"15.00\" y=\"2.81\" style=\"fill:rgb(83.9%,33.3%,48.6%);fill-opacity:1.0\">Pan_troglodytes_troglodytes_B022_KU308541.1</text></g><g transform=\"translate(393.92,930.88)rotate(0)\"><text x=\"15.00\" y=\"2.81\" style=\"fill:rgb(83.9%,33.3%,48.6%);fill-opacity:1.0\">Pan_troglodytes_troglodytes_B024_KU308542.1</text></g><g transform=\"translate(393.92,910.20)rotate(0)\"><text x=\"15.00\" y=\"2.81\" style=\"fill:rgb(83.9%,33.3%,48.6%);fill-opacity:1.0\">Pan_troglodytes_troglodytes_B021_KU308540.1</text></g><g transform=\"translate(393.92,889.52)rotate(0)\"><text x=\"15.00\" y=\"2.81\" style=\"fill:rgb(83.9%,33.3%,48.6%);fill-opacity:1.0\">Pan_troglodytes_troglodytes_B025_KU308543.1</text></g><g transform=\"translate(393.92,868.84)rotate(0)\"><text x=\"15.00\" y=\"2.81\" style=\"fill:rgb(83.9%,33.3%,48.6%);fill-opacity:1.0\">Pan_troglodytes_troglodytes_A990_KU308539.1</text></g><g transform=\"translate(393.92,848.16)rotate(0)\"><text x=\"15.00\" y=\"2.81\" style=\"fill:rgb(83.9%,33.3%,48.6%);fill-opacity:1.0\">Pan_paniscus_PP05_GU189658.1</text></g><g transform=\"translate(393.92,827.48)rotate(0)\"><text x=\"15.00\" y=\"2.81\" style=\"fill:rgb(83.9%,33.3%,48.6%);fill-opacity:1.0\">Pan_paniscus_PP30_GU189676.1</text></g><g transform=\"translate(393.92,806.80)rotate(0)\"><text x=\"15.00\" y=\"2.81\" style=\"fill:rgb(83.9%,33.3%,48.6%);fill-opacity:1.0\">Pan_paniscus_PP23_GU189661.1</text></g><g transform=\"translate(393.92,786.12)rotate(0)\"><text x=\"15.00\" y=\"2.81\" style=\"fill:rgb(83.9%,33.3%,48.6%);fill-opacity:1.0\">Pan_paniscus_PP69_GU189670.1</text></g><g transform=\"translate(393.92,765.44)rotate(0)\"><text x=\"15.00\" y=\"2.81\" style=\"fill:rgb(19.6%,80.4%,19.6%);fill-opacity:1.0\">Homo_sapiens_neanderthalensis_FM865410.1</text></g><g transform=\"translate(393.92,744.76)rotate(0)\"><text x=\"15.00\" y=\"2.81\" style=\"fill:rgb(19.6%,80.4%,19.6%);fill-opacity:1.0\">Homo_sapiens_neanderthalensis_AM948965.1</text></g><g transform=\"translate(393.92,724.08)rotate(0)\"><text x=\"15.00\" y=\"2.81\" style=\"fill:rgb(0%,50.2%,0%);fill-opacity:1.0\">Homo_sapiens_sapiens_AJ842750.1</text></g><g transform=\"translate(393.92,703.40)rotate(0)\"><text x=\"15.00\" y=\"2.81\" style=\"fill:rgb(0%,50.2%,0%);fill-opacity:1.0\">Homo_sapiens_sapiens_FN600416.1</text></g><g transform=\"translate(393.92,682.72)rotate(0)\"><text x=\"15.00\" y=\"2.81\" style=\"fill:rgb(32.5%,51.8%,63.9%);fill-opacity:1.0\">Homo_sapiens_denisova_KT780370.1</text></g><g transform=\"translate(393.92,662.04)rotate(0)\"><text x=\"15.00\" y=\"2.81\" style=\"fill:rgb(32.5%,51.8%,63.9%);fill-opacity:1.0\">Homo_sapiens_denisova_KX663333.1</text></g><g transform=\"translate(393.92,641.36)rotate(0)\"><text x=\"15.00\" y=\"2.81\" style=\"fill:rgb(25.5%,41.2%,88.2%);fill-opacity:1.0\">Gorilla_gorilla_gorilla_KU353721.1</text></g><g transform=\"translate(393.92,620.68)rotate(0)\"><text x=\"15.00\" y=\"2.81\" style=\"fill:rgb(25.5%,41.2%,88.2%);fill-opacity:1.0\">Gorilla_gorilla_gorilla_EU095336.1</text></g><g transform=\"translate(393.92,600.00)rotate(0)\"><text x=\"15.00\" y=\"2.81\" style=\"fill:rgb(25.5%,41.2%,88.2%);fill-opacity:1.0\">Gorilla_gorilla_gorilla_KF914214.1</text></g><g transform=\"translate(393.92,579.32)rotate(0)\"><text x=\"15.00\" y=\"2.81\" style=\"fill:rgb(25.5%,41.2%,88.2%);fill-opacity:1.0\">Gorilla_gorilla_gorilla_KU353722.1</text></g><g transform=\"translate(393.92,558.64)rotate(0)\"><text x=\"15.00\" y=\"2.81\" style=\"fill:rgb(25.5%,41.2%,88.2%);fill-opacity:1.0\">Gorilla_gorilla_gorilla_NC_011120.1</text></g><g transform=\"translate(393.92,537.96)rotate(0)\"><text x=\"15.00\" y=\"2.81\" style=\"fill:rgb(0%,0%,100%);fill-opacity:1.0\">Gorilla_beringei_MH177751.1</text></g><g transform=\"translate(393.92,517.28)rotate(0)\"><text x=\"15.00\" y=\"2.81\" style=\"fill:rgb(0%,0%,100%);fill-opacity:1.0\">Gorilla_beringei_MH177752.1</text></g><g transform=\"translate(393.92,496.60)rotate(0)\"><text x=\"15.00\" y=\"2.81\" style=\"fill:rgb(0%,0%,100%);fill-opacity:1.0\">Gorilla_beringei_MH177753.1</text></g><g transform=\"translate(393.92,475.92)rotate(0)\"><text x=\"15.00\" y=\"2.81\" style=\"fill:rgb(0%,0%,100%);fill-opacity:1.0\">Gorilla_beringei_MH177754.1</text></g><g transform=\"translate(393.92,455.24)rotate(0)\"><text x=\"15.00\" y=\"2.81\" style=\"fill:rgb(100%,0%,0%);fill-opacity:1.0\">Pongo_abelii_CR247</text></g><g transform=\"translate(393.92,434.56)rotate(0)\"><text x=\"15.00\" y=\"2.81\" style=\"fill:rgb(100%,0%,0%);fill-opacity:1.0\">Pongo_abelii_CR011</text></g><g transform=\"translate(393.92,413.88)rotate(0)\"><text x=\"15.00\" y=\"2.81\" style=\"fill:rgb(100%,0%,0%);fill-opacity:1.0\">Pongo_abelii_B017</text></g><g transform=\"translate(393.92,393.20)rotate(0)\"><text x=\"15.00\" y=\"2.81\" style=\"fill:rgb(100%,0%,0%);fill-opacity:1.0\">Pongo_abelii_B020</text></g><g transform=\"translate(393.92,372.52)rotate(0)\"><text x=\"15.00\" y=\"2.81\" style=\"fill:rgb(100%,0%,0%);fill-opacity:1.0\">Pongo_abelii_KB550</text></g><g transform=\"translate(393.92,351.84)rotate(0)\"><text x=\"15.00\" y=\"2.81\" style=\"fill:rgb(100%,0%,0%);fill-opacity:1.0\">Pongo_abelii_B018</text></g><g transform=\"translate(393.92,331.16)rotate(0)\"><text x=\"15.00\" y=\"2.81\" style=\"fill:rgb(100%,0%,0%);fill-opacity:1.0\">Pongo_abelii_A949</text></g><g transform=\"translate(393.92,310.48)rotate(0)\"><text x=\"15.00\" y=\"2.81\" style=\"fill:rgb(100%,0%,0%);fill-opacity:1.0\">Pongo_abelii_CRNA</text></g><g transform=\"translate(393.92,289.80)rotate(0)\"><text x=\"15.00\" y=\"2.81\" style=\"fill:rgb(100%,0%,0%);fill-opacity:1.0\">Pongo_abelii_A952</text></g><g transform=\"translate(393.92,269.12)rotate(0)\"><text x=\"15.00\" y=\"2.81\" style=\"fill:rgb(100%,0%,0%);fill-opacity:1.0\">Pongo_abelii_KB4661</text></g><g transform=\"translate(393.92,248.44)rotate(0)\"><text x=\"15.00\" y=\"2.81\" style=\"fill:rgb(100%,0%,0%);fill-opacity:1.0\">Pongo_abelii_CR519</text></g><g transform=\"translate(393.92,227.76)rotate(0)\"><text x=\"15.00\" y=\"2.81\" style=\"fill:rgb(100%,0%,0%);fill-opacity:1.0\">Pongo_abelii_KB5883</text></g><g transform=\"translate(393.92,207.08)rotate(0)\"><text x=\"15.00\" y=\"2.81\" style=\"fill:rgb(100%,64.7%,0%);fill-opacity:1.0\">Pongo_pygmaeus_CR535</text></g><g transform=\"translate(393.92,186.40)rotate(0)\"><text x=\"15.00\" y=\"2.81\" style=\"fill:rgb(100%,64.7%,0%);fill-opacity:1.0\">Pongo_pygmaeus_CR536</text></g><g transform=\"translate(393.92,165.72)rotate(0)\"><text x=\"15.00\" y=\"2.81\" style=\"fill:rgb(100%,64.7%,0%);fill-opacity:1.0\">Pongo_pygmaeus_A940</text></g><g transform=\"translate(393.92,145.04)rotate(0)\"><text x=\"15.00\" y=\"2.81\" style=\"fill:rgb(100%,64.7%,0%);fill-opacity:1.0\">Pongo_pygmaeus_A938</text></g><g transform=\"translate(393.92,124.36)rotate(0)\"><text x=\"15.00\" y=\"2.81\" style=\"fill:rgb(64.7%,16.5%,16.5%);fill-opacity:1.0\">Pongo_tapanuliensis_B019</text></g><g transform=\"translate(393.92,103.68)rotate(0)\"><text x=\"15.00\" y=\"2.81\" style=\"fill:rgb(64.7%,16.5%,16.5%);fill-opacity:1.0\">Pongo_tapanuliensis_CRBT</text></g><g transform=\"translate(393.92,83.00)rotate(0)\"><text x=\"15.00\" y=\"2.81\" style=\"fill:rgb(64.7%,16.5%,16.5%);fill-opacity:1.0\">Pongo_tapanuliensis_KB9258</text></g><g transform=\"translate(393.92,62.32)rotate(0)\"><text x=\"15.00\" y=\"2.81\" style=\"fill:rgb(32.5%,51.8%,63.9%);fill-opacity:1.0\">Hylobates_lar_HQ622776.1</text></g></g></g></g><g class=\"toyplot-coordinates-Axis\" id=\"tcf0ce5de9a4842a081518572e9d52f38\" transform=\"translate(50.0,1150.0)translate(0,20.0)\"><line x1=\"0\" y1=\"0\" x2=\"343.91894177099806\" y2=\"0\" style=\"\"></line><g><line x1=\"343.91894177099806\" y1=\"0\" x2=\"343.91894177099806\" y2=\"-5\" style=\"\"></line><line x1=\"286.5991181424984\" y1=\"0\" x2=\"286.5991181424984\" y2=\"-5\" style=\"\"></line><line x1=\"229.2792945139987\" y1=\"0\" x2=\"229.2792945139987\" y2=\"-5\" style=\"\"></line><line x1=\"171.95947088549903\" y1=\"0\" x2=\"171.95947088549903\" y2=\"-5\" style=\"\"></line><line x1=\"114.63964725699935\" y1=\"0\" x2=\"114.63964725699935\" y2=\"-5\" style=\"\"></line><line x1=\"57.31982362849968\" y1=\"0\" x2=\"57.31982362849968\" y2=\"-5\" style=\"\"></line><line x1=\"0.0\" y1=\"0\" x2=\"0.0\" y2=\"-5\" style=\"\"></line></g><g><g transform=\"translate(343.91894177099806,6)\"><text x=\"-9.729999999999999\" y=\"8.555\" style=\"fill:rgb(16.1%,15.3%,14.1%);fill-opacity:1.0;font-family:helvetica;font-size:10.0px;font-weight:normal;stroke:none;vertical-align:baseline;white-space:pre\">0.00</text></g><g transform=\"translate(286.5991181424984,6)\"><text x=\"-9.729999999999999\" y=\"8.555\" style=\"fill:rgb(16.1%,15.3%,14.1%);fill-opacity:1.0;font-family:helvetica;font-size:10.0px;font-weight:normal;stroke:none;vertical-align:baseline;white-space:pre\">0.03</text></g><g transform=\"translate(229.2792945139987,6)\"><text x=\"-9.729999999999999\" y=\"8.555\" style=\"fill:rgb(16.1%,15.3%,14.1%);fill-opacity:1.0;font-family:helvetica;font-size:10.0px;font-weight:normal;stroke:none;vertical-align:baseline;white-space:pre\">0.07</text></g><g transform=\"translate(171.95947088549903,6)\"><text x=\"-9.729999999999999\" y=\"8.555\" style=\"fill:rgb(16.1%,15.3%,14.1%);fill-opacity:1.0;font-family:helvetica;font-size:10.0px;font-weight:normal;stroke:none;vertical-align:baseline;white-space:pre\">0.10</text></g><g transform=\"translate(114.63964725699935,6)\"><text x=\"-9.729999999999999\" y=\"8.555\" style=\"fill:rgb(16.1%,15.3%,14.1%);fill-opacity:1.0;font-family:helvetica;font-size:10.0px;font-weight:normal;stroke:none;vertical-align:baseline;white-space:pre\">0.14</text></g><g transform=\"translate(57.31982362849968,6)\"><text x=\"-9.729999999999999\" y=\"8.555\" style=\"fill:rgb(16.1%,15.3%,14.1%);fill-opacity:1.0;font-family:helvetica;font-size:10.0px;font-weight:normal;stroke:none;vertical-align:baseline;white-space:pre\">0.17</text></g><g transform=\"translate(0.0,6)\"><text x=\"-9.729999999999999\" y=\"8.555\" style=\"fill:rgb(16.1%,15.3%,14.1%);fill-opacity:1.0;font-family:helvetica;font-size:10.0px;font-weight:normal;stroke:none;vertical-align:baseline;white-space:pre\">0.20</text></g></g><g class=\"toyplot-coordinates-Axis-coordinates\" style=\"visibility:hidden\" transform=\"\"><line x1=\"0\" x2=\"0\" y1=\"-3.0\" y2=\"4.5\" style=\"stroke:rgb(43.9%,50.2%,56.5%);stroke-opacity:1.0;stroke-width:1.0\"></line><text x=\"0\" y=\"-6\" style=\"alignment-baseline:alphabetic;fill:rgb(43.9%,50.2%,56.5%);fill-opacity:1.0;font-size:10px;font-weight:normal;stroke:none;text-anchor:middle\"></text></g></g></g></svg><div class=\"toyplot-behavior\"><script>(function()\n",
       "{\n",
       "var modules={};\n",
       "modules[\"toyplot/canvas/id\"] = \"t3fdb45cc98b84c9a816efccc9f0ffc12\";\n",
       "modules[\"toyplot/canvas\"] = (function(canvas_id)\n",
       "    {\n",
       "        return document.querySelector(\"#\" + canvas_id);\n",
       "    })(modules[\"toyplot/canvas/id\"]);\n",
       "modules[\"toyplot.coordinates.Axis\"] = (\n",
       "        function(canvas)\n",
       "        {\n",
       "            function sign(x)\n",
       "            {\n",
       "                return x < 0 ? -1 : x > 0 ? 1 : 0;\n",
       "            }\n",
       "\n",
       "            function mix(a, b, amount)\n",
       "            {\n",
       "                return ((1.0 - amount) * a) + (amount * b);\n",
       "            }\n",
       "\n",
       "            function log(x, base)\n",
       "            {\n",
       "                return Math.log(Math.abs(x)) / Math.log(base);\n",
       "            }\n",
       "\n",
       "            function in_range(a, x, b)\n",
       "            {\n",
       "                var left = Math.min(a, b);\n",
       "                var right = Math.max(a, b);\n",
       "                return left <= x && x <= right;\n",
       "            }\n",
       "\n",
       "            function inside(range, projection)\n",
       "            {\n",
       "                for(var i = 0; i != projection.length; ++i)\n",
       "                {\n",
       "                    var segment = projection[i];\n",
       "                    if(in_range(segment.range.min, range, segment.range.max))\n",
       "                        return true;\n",
       "                }\n",
       "                return false;\n",
       "            }\n",
       "\n",
       "            function to_domain(range, projection)\n",
       "            {\n",
       "                for(var i = 0; i != projection.length; ++i)\n",
       "                {\n",
       "                    var segment = projection[i];\n",
       "                    if(in_range(segment.range.bounds.min, range, segment.range.bounds.max))\n",
       "                    {\n",
       "                        if(segment.scale == \"linear\")\n",
       "                        {\n",
       "                            var amount = (range - segment.range.min) / (segment.range.max - segment.range.min);\n",
       "                            return mix(segment.domain.min, segment.domain.max, amount)\n",
       "                        }\n",
       "                        else if(segment.scale[0] == \"log\")\n",
       "                        {\n",
       "                            var amount = (range - segment.range.min) / (segment.range.max - segment.range.min);\n",
       "                            var base = segment.scale[1];\n",
       "                            return sign(segment.domain.min) * Math.pow(base, mix(log(segment.domain.min, base), log(segment.domain.max, base), amount));\n",
       "                        }\n",
       "                    }\n",
       "                }\n",
       "            }\n",
       "\n",
       "            var axes = {};\n",
       "\n",
       "            function display_coordinates(e)\n",
       "            {\n",
       "                var current = canvas.createSVGPoint();\n",
       "                current.x = e.clientX;\n",
       "                current.y = e.clientY;\n",
       "\n",
       "                for(var axis_id in axes)\n",
       "                {\n",
       "                    var axis = document.querySelector(\"#\" + axis_id);\n",
       "                    var coordinates = axis.querySelector(\".toyplot-coordinates-Axis-coordinates\");\n",
       "                    if(coordinates)\n",
       "                    {\n",
       "                        var projection = axes[axis_id];\n",
       "                        var local = current.matrixTransform(axis.getScreenCTM().inverse());\n",
       "                        if(inside(local.x, projection))\n",
       "                        {\n",
       "                            var domain = to_domain(local.x, projection);\n",
       "                            coordinates.style.visibility = \"visible\";\n",
       "                            coordinates.setAttribute(\"transform\", \"translate(\" + local.x + \")\");\n",
       "                            var text = coordinates.querySelector(\"text\");\n",
       "                            text.textContent = domain.toFixed(2);\n",
       "                        }\n",
       "                        else\n",
       "                        {\n",
       "                            coordinates.style.visibility= \"hidden\";\n",
       "                        }\n",
       "                    }\n",
       "                }\n",
       "            }\n",
       "\n",
       "            canvas.addEventListener(\"click\", display_coordinates);\n",
       "\n",
       "            var module = {};\n",
       "            module.show_coordinates = function(axis_id, projection)\n",
       "            {\n",
       "                axes[axis_id] = projection;\n",
       "            }\n",
       "\n",
       "            return module;\n",
       "        })(modules[\"toyplot/canvas\"]);\n",
       "(function(axis, axis_id, projection)\n",
       "        {\n",
       "            axis.show_coordinates(axis_id, projection);\n",
       "        })(modules[\"toyplot.coordinates.Axis\"],\"tcf0ce5de9a4842a081518572e9d52f38\",[{\"domain\": {\"bounds\": {\"max\": Infinity, \"min\": -Infinity}, \"max\": 0.15255445498746248, \"min\": -0.2048818725}, \"range\": {\"bounds\": {\"max\": Infinity, \"min\": -Infinity}, \"max\": 600.0, \"min\": 0.0}, \"scale\": \"linear\"}]);\n",
       "})();</script></div></div>"
      ]
     },
     "metadata": {},
     "output_type": "display_data"
    }
   ],
   "source": [
    "# import the tree plotting software\n",
    "import toytree\n",
    "import toyplot\n",
    "import toyplot.svg\n",
    "import toyplot.html\n",
    "import toyplot.pdf\n",
    "\n",
    "# read the tree file, you will need to specify the correct file here\n",
    "newick = \"big_ape.nwk\"\n",
    "bigtre = toytree.tree(newick, tree_format=1)\n",
    "\n",
    "# specify the rooted tree with outgroup as Macaque, Hylobates lar\n",
    "bigrtre = bigtre.root(wildcard=\"Hylobates\")\n",
    "\n",
    "# colour the tree, change these options until you are happy with the design\n",
    "colorlist = [\"#d6557c\" if \"Pan\" in tip # pink\n",
    "             else \"blue\" if \"Gorilla_b\" in tip #\n",
    "             else \"#4169E1\" if \"Gorilla_g\" in tip #royalblue\n",
    "             else \"#008000\" if \"Homo_sapiens_sapiens\" in tip #green\n",
    "             else \"#32CD32\" if \"neanderthal\" in tip #limegreen\n",
    "             else \"#006400\" if \"denisovan\" in tip #darkgreen\n",
    "             else \"red\" if \"Pongo_abelii\" in tip #darkgreen\n",
    "             else \"orange\" if \"Pongo_pygmaeus\" in tip #darkgreen\n",
    "             else \"brown\" if \"Pongo_tapanuliensis\" in tip #darkgreen\n",
    "             else \"#5384a3\" for tip in bigrtre.get_tip_labels()] # cyan\n",
    "\n",
    "\n",
    "# create the tree using these colours and some other standard options\n",
    "canvas = bigrtre.draw(\n",
    "    width=700,\n",
    "    height=1200,\n",
    "    scalebar=True,\n",
    "    node_labels=None,\n",
    "    node_sizes=[0 if i else 8 for i in bigrtre.get_node_values(None, 1, 0)],\n",
    "    node_markers=\"s\",\n",
    "    node_colors=toytree.colors[0],\n",
    "    tip_labels_align=True,\n",
    "    tip_labels_colors=colorlist\n",
    ");"
   ]
  },
  {
   "cell_type": "code",
   "execution_count": 17,
   "metadata": {},
   "outputs": [],
   "source": [
    "# --------------------------------\n",
    "# Save the tree as a graphics file\n",
    "# --------------------------------\n",
    "#you can specify the name if you wish\n",
    "\n",
    "toyplot.pdf.render(canvas[0], \"bigape.pdf\")\n",
    "toyplot.html.render(canvas[0], \"bigape.html\")"
   ]
  },
  {
   "cell_type": "markdown",
   "metadata": {},
   "source": [
    "Check the files list to make sure that the tree has saved and looks how you intended. You will need this tree for your report. You can alter and recreate the tree under the same, or a different name."
   ]
  },
  {
   "cell_type": "markdown",
   "metadata": {},
   "source": [
    "<h2><font color='Blue'>It's a bit more complicated than that...</font></h2>"
   ]
  },
  {
   "cell_type": "markdown",
   "metadata": {},
   "source": [
    "There is no level of percentage sequence divergence that determines what is a species. So what can this tree really tell us? Well, amount of sequence divergence from closest relatives gives us a good initial picture of the system, and can give a framework on which to carry out more sophisticated analyses. Evolutionary biologists have sequenced the entire nuclear genomes of these species (you have analysed the much smaller mitochondrial genomes). This allows them to look at estinates of coalescent date, evidence for hybridization and many other biological aspects. "
   ]
  },
  {
   "cell_type": "markdown",
   "metadata": {},
   "source": [
    "<h2><font color='Blue'>Well Done</font></h2>\n",
    "\n",
    "You are now finished with case study 1, the apes. Case study two, the origins of HIV, will be much faster now you have experience.\n",
    "\n",
    "<h4>Please feel free to take a short break here.</h4>\n",
    "<hr>"
   ]
  },
  {
   "cell_type": "markdown",
   "metadata": {},
   "source": [
    "<h1><font color='DodgerBlue'>STUDY2: WHAT ARE THE ORIGINS OF HIV?</font></h1>"
   ]
  },
  {
   "cell_type": "markdown",
   "metadata": {},
   "source": [
    "![HIV](images/HIV.png)"
   ]
  },
  {
   "cell_type": "markdown",
   "metadata": {},
   "source": [
    "<hr>\n",
    "\n",
    "**QUESTION: Has HIV (human immunodeficiency virus) coevolved with humans or does it have a recent zoonotic origin?**\n",
    "\n",
    "How can you test this? You now have all the skills required. We are going to repeat some of the work described by Sharp and Hahn (2011) in their paper \"Origins of HIV and the AIDS Pandemic\". Their figure 4 is very informative, and Zimmer and Emlen redraw it in their (3rd edition) Figure 8.12. \n",
    "\n",
    "Today you are going to reanalyse the HIV and SIV sequence data from great apes to produce a simlar figure and answer the question set above regarding zoonotic transfer. "
   ]
  },
  {
   "cell_type": "markdown",
   "metadata": {},
   "source": [
    "<h3><font color='DodgerBlue'>Sequence data</font></h3>"
   ]
  },
  {
   "cell_type": "markdown",
   "metadata": {},
   "source": [
    "I have prepared aligned fasta files for you containing SIV and HIV sequence data from the *env* gene (Google it). They are called `SIVHIVspecies_ENV.afa`\n",
    "\n",
    "It would be useful for you to know how many sequences were in each file, you calculated this earlier today for different files. Paste in the code to the cell below and describe the sequences."
   ]
  },
  {
   "cell_type": "code",
   "execution_count": null,
   "metadata": {},
   "outputs": [],
   "source": []
  },
  {
   "cell_type": "markdown",
   "metadata": {},
   "source": [
    "You will need this alignment file name to enter below"
   ]
  },
  {
   "cell_type": "markdown",
   "metadata": {},
   "source": [
    "<h3><font color='DodgerBlue'>Tree reconstruction</font></h3>"
   ]
  },
  {
   "cell_type": "code",
   "execution_count": 20,
   "metadata": {},
   "outputs": [
    {
     "name": "stdout",
     "output_type": "stream",
     "text": [
      "\n",
      "The analysis has begun, this will take a few minutes, please be patient\n",
      "The alignment trimming has finished\n",
      "The phylogenetic tree construction has started\n",
      "\n",
      "FastTree Version 2.1.10 Double precision (No SSE3)\n",
      "Alignment: SIVHIVspecies_ENV_trimmed.afa\n",
      "Nucleotide distances: Jukes-Cantor Joins: balanced Support: SH-like 1000\n",
      "Search: Normal +NNI +SPR (2 rounds range 10) +ML-NNI opt-each=1\n",
      "TopHits: 1.00*sqrtN close=default refresh=0.80\n",
      "ML Model: Generalized Time-Reversible, CAT approximation with 20 rate categories\n",
      "Ignored unknown character K (seen 5 times)\n",
      "Ignored unknown character M (seen 5 times)\n",
      "Ignored unknown character R (seen 32 times)\n",
      "Ignored unknown character S (seen 2 times)\n",
      "Ignored unknown character W (seen 8 times)\n",
      "Ignored unknown character X (seen 1 times)\n",
      "Ignored unknown character Y (seen 10 times)\n",
      "Initial topology in 0.03 seconds\n",
      "Refining topology: 21 rounds ME-NNIs, 2 rounds ME-SPRs, 11 rounds ML-NNIs\n",
      "Total branch-length 3.781 after 0.57 sec1, 1 of 39 splits   \n",
      "ML-NNI round 1: LogLk = -31085.336 NNIs 7 max delta 7.27 Time 1.07\n",
      "GTR Frequencies: 0.3398 0.1837 0.2346 0.2419ep 12 of 12   \n",
      "GTR rates(ac ag at cg ct gt) 2.9686 4.7631 1.6332 1.4876 5.4581 1.0000\n",
      "Switched to using 20 rate categories (CAT approximation)16 of 20   \n",
      "Rate categories were divided by 0.849 so that average rate = 1.0\n",
      "CAT-based log-likelihoods may not be comparable across runs\n",
      "Use -gamma for approximate but comparable Gamma(20) log-likelihoods\n",
      "ML-NNI round 2: LogLk = -27203.055 NNIs 3 max delta 6.79 Time 2.28\n",
      "ML-NNI round 3: LogLk = -27202.662 NNIs 0 max delta 0.00 Time 2.34\n",
      "Turning off heuristics for final round of ML NNIs (converged)\n",
      "ML-NNI round 4: LogLk = -27193.168 NNIs 2 max delta 4.67 Time 2.67 (final)\n",
      "Optimize all lengths: LogLk = -27193.108 Time 2.76\n",
      "Total time: 3.23 seconds Unique: 41/41 Bad splits: 0/38\n",
      "\n",
      "The phylogenetic analysis has finished\n"
     ]
    }
   ],
   "source": [
    "#HIV\n",
    "print(\"\\nThe analysis has begun, this will take a few minutes, please be patient\")\n",
    "\n",
    "# # Alignment has already been done, so this is commented out\n",
    "# !mafft --auto --quiet data/SIVHIVspecies_ENV.fasta > SIVHIVspecies_ENV.afa\n",
    "# print(\"\\nThe sequence alignment has finished\")\n",
    "# Trim\n",
    "!trimal -in data/SIVHIVspecies_ENV.afa -out SIVHIVspecies_ENV_trimmed.afa -gappyout -keepheader\n",
    "print(\"The alignment trimming has finished\")\n",
    "# Tree build\n",
    "print(\"The phylogenetic tree construction has started\\n\")\n",
    "!FastTree -gtr -nt SIVHIVspecies_ENV_trimmed.afa > SIVHIVspecies_ENV.nwk\n",
    "print(\"\\nThe phylogenetic analysis has finished\")"
   ]
  },
  {
   "cell_type": "code",
   "execution_count": 21,
   "metadata": {},
   "outputs": [],
   "source": [
    "# import the code so we can use it later, just run this cell\n",
    "import toytree       # a tree plotting library\n",
    "import toyplot       # a general plotting library\n",
    "import toyplot.pdf\n",
    "import toyplot.svg"
   ]
  },
  {
   "cell_type": "code",
   "execution_count": 22,
   "metadata": {},
   "outputs": [
    {
     "data": {
      "text/html": [
       "<div class=\"toyplot\" id=\"tba48d3fee3d54154bc0ca7ae7a8fb823\" style=\"text-align:center\"><svg class=\"toyplot-canvas-Canvas\" xmlns:toyplot=\"http://www.sandia.gov/toyplot\" xmlns:xlink=\"http://www.w3.org/1999/xlink\" xmlns=\"http://www.w3.org/2000/svg\" width=\"600.0px\" height=\"600.0px\" viewBox=\"0 0 600.0 600.0\" preserveAspectRatio=\"xMidYMid meet\" style=\"background-color:transparent;border-color:#292724;border-style:none;border-width:1.0;fill:rgb(16.1%,15.3%,14.1%);fill-opacity:1.0;font-family:Helvetica;font-size:12px;opacity:1.0;stroke:rgb(16.1%,15.3%,14.1%);stroke-opacity:1.0;stroke-width:1.0\" id=\"t8bda6f4c44314389afa73a29c7db9af4\"><g class=\"toyplot-coordinates-Cartesian\" id=\"t0040bbc67aff4d339d9c608e41820e9e\"><clipPath id=\"t2ce36bc322ee446080b823723ce2504c\"><rect x=\"30.0\" y=\"30.0\" width=\"540.0\" height=\"540.0\"></rect></clipPath><g clip-path=\"url(#t2ce36bc322ee446080b823723ce2504c)\"><g class=\"toytree-mark-Toytree\" id=\"t32773f48a2854ddf87b91928d5b05a53\"><g class=\"toytree-Edges\" style=\"fill:none;stroke:rgb(14.9%,14.9%,14.9%);stroke-linecap:round;stroke-opacity:1;stroke-width:2\"><path d=\"M 50.0 176.6 L 50.0 73.2 L 99.9 73.2\" id=\"80,79\"></path><path d=\"M 50.0 176.6 L 50.0 280.0 L 99.9 280.0\" id=\"80,78\"></path><path d=\"M 99.9 73.2 L 99.9 84.3 L 146.4 84.3\" id=\"79,77\"></path><path d=\"M 99.9 280.0 L 99.9 168.2 L 117.7 168.2\" id=\"78,76\"></path><path d=\"M 99.9 280.0 L 99.9 391.9 L 152.8 391.9\" id=\"78,75\"></path><path d=\"M 146.4 84.3 L 146.4 94.7 L 154.0 94.7\" id=\"77,74\"></path><path d=\"M 117.7 168.2 L 117.7 127.4 L 168.6 127.4\" id=\"76,73\"></path><path d=\"M 117.7 168.2 L 117.7 209.0 L 137.8 209.0\" id=\"76,72\"></path><path d=\"M 152.8 391.9 L 152.8 362.5 L 181.1 362.5\" id=\"75,71\"></path><path d=\"M 152.8 391.9 L 152.8 421.3 L 231.5 421.3\" id=\"75,70\"></path><path d=\"M 154.0 94.7 L 154.0 103.6 L 172.5 103.6\" id=\"74,69\"></path><path d=\"M 137.8 209.0 L 137.8 161.3 L 174.4 161.3\" id=\"72,68\"></path><path d=\"M 137.8 209.0 L 137.8 256.7 L 177.5 256.7\" id=\"72,67\"></path><path d=\"M 181.1 362.5 L 181.1 344.6 L 255.3 344.6\" id=\"71,66\"></path><path d=\"M 181.1 362.5 L 181.1 380.3 L 195.2 380.3\" id=\"71,65\"></path><path d=\"M 231.5 421.3 L 231.5 435.5 L 244.6 435.5\" id=\"70,64\"></path><path d=\"M 174.4 161.3 L 174.4 177.3 L 188.6 177.3\" id=\"68,63\"></path><path d=\"M 177.5 256.7 L 177.5 237.5 L 200.8 237.5\" id=\"67,62\"></path><path d=\"M 177.5 256.7 L 177.5 275.8 L 186.1 275.8\" id=\"67,61\"></path><path d=\"M 255.3 344.6 L 255.3 353.6 L 293.2 353.6\" id=\"66,60\"></path><path d=\"M 195.2 380.3 L 195.2 389.3 L 244.3 389.3\" id=\"65,59\"></path><path d=\"M 244.6 435.5 L 244.6 451.9 L 261.2 451.9\" id=\"64,58\"></path><path d=\"M 188.6 177.3 L 188.6 163.1 L 200.6 163.1\" id=\"63,57\"></path><path d=\"M 188.6 177.3 L 188.6 191.4 L 225.9 191.4\" id=\"63,56\"></path><path d=\"M 200.8 237.5 L 200.8 246.4 L 213.3 246.4\" id=\"62,55\"></path><path d=\"M 186.1 275.8 L 186.1 287.4 L 213.9 287.4\" id=\"61,54\"></path><path d=\"M 261.2 451.9 L 261.2 472.9 L 267.4 472.9\" id=\"58,53\"></path><path d=\"M 225.9 191.4 L 225.9 201.8 L 233.9 201.8\" id=\"56,52\"></path><path d=\"M 213.9 287.4 L 213.9 298.5 L 235.8 298.5\" id=\"54,51\"></path><path d=\"M 267.4 472.9 L 267.4 451.7 L 275.6 451.7\" id=\"53,50\"></path><path d=\"M 267.4 472.9 L 267.4 494.1 L 270.6 494.1\" id=\"53,49\"></path><path d=\"M 233.9 201.8 L 233.9 210.7 L 239.1 210.7\" id=\"52,48\"></path><path d=\"M 235.8 298.5 L 235.8 308.9 L 240.3 308.9\" id=\"51,47\"></path><path d=\"M 275.6 451.7 L 275.6 460.7 L 289.1 460.7\" id=\"50,46\"></path><path d=\"M 270.6 494.1 L 270.6 509.7 L 276.5 509.7\" id=\"49,45\"></path><path d=\"M 240.3 308.9 L 240.3 317.9 L 243.8 317.9\" id=\"47,44\"></path><path d=\"M 276.5 509.7 L 276.5 496.4 L 288.5 496.4\" id=\"45,43\"></path><path d=\"M 276.5 509.7 L 276.5 523.1 L 279.3 523.1\" id=\"45,42\"></path><path d=\"M 279.3 523.1 L 279.3 532.1 L 282.8 532.1\" id=\"42,41\"></path><path d=\"M 99.9 73.2 L 99.9 62.0 L 218.3 62.0\" id=\"79,40\"></path><path d=\"M 146.4 84.3 L 146.4 73.9 L 171.2 73.9\" id=\"77,39\"></path><path d=\"M 154.0 94.7 L 154.0 85.8 L 181.3 85.8\" id=\"74,38\"></path><path d=\"M 172.5 103.6 L 172.5 97.7 L 188.3 97.7\" id=\"69,37\"></path><path d=\"M 172.5 103.6 L 172.5 109.6 L 193.0 109.6\" id=\"69,36\"></path><path d=\"M 168.6 127.4 L 168.6 121.5 L 212.5 121.5\" id=\"73,35\"></path><path d=\"M 168.6 127.4 L 168.6 133.4 L 211.4 133.4\" id=\"73,34\"></path><path d=\"M 174.4 161.3 L 174.4 145.3 L 242.3 145.3\" id=\"68,33\"></path><path d=\"M 200.6 163.1 L 200.6 157.2 L 250.6 157.2\" id=\"57,32\"></path><path d=\"M 200.6 163.1 L 200.6 169.1 L 235.7 169.1\" id=\"57,31\"></path><path d=\"M 225.9 191.4 L 225.9 181.0 L 248.2 181.0\" id=\"56,30\"></path><path d=\"M 233.9 201.8 L 233.9 192.9 L 258.7 192.9\" id=\"52,29\"></path><path d=\"M 239.1 210.7 L 239.1 204.8 L 262.8 204.8\" id=\"48,28\"></path><path d=\"M 239.1 210.7 L 239.1 216.7 L 268.2 216.7\" id=\"48,27\"></path><path d=\"M 200.8 237.5 L 200.8 228.6 L 212.1 228.6\" id=\"62,26\"></path><path d=\"M 213.3 246.4 L 213.3 240.5 L 234.6 240.5\" id=\"55,25\"></path><path d=\"M 213.3 246.4 L 213.3 252.4 L 256.3 252.4\" id=\"55,24\"></path><path d=\"M 186.1 275.8 L 186.1 264.3 L 253.6 264.3\" id=\"61,23\"></path><path d=\"M 213.9 287.4 L 213.9 276.2 L 260.6 276.2\" id=\"54,22\"></path><path d=\"M 235.8 298.5 L 235.8 288.1 L 255.6 288.1\" id=\"51,21\"></path><path d=\"M 240.3 308.9 L 240.3 300.0 L 258.0 300.0\" id=\"47,20\"></path><path d=\"M 243.8 317.9 L 243.8 311.9 L 260.6 311.9\" id=\"44,19\"></path><path d=\"M 243.8 317.9 L 243.8 323.8 L 254.9 323.8\" id=\"44,18\"></path><path d=\"M 255.3 344.6 L 255.3 335.7 L 318.5 335.7\" id=\"66,17\"></path><path d=\"M 293.2 353.6 L 293.2 347.6 L 317.5 347.6\" id=\"60,16\"></path><path d=\"M 293.2 353.6 L 293.2 359.5 L 311.7 359.5\" id=\"60,15\"></path><path d=\"M 195.2 380.3 L 195.2 371.4 L 259.5 371.4\" id=\"65,14\"></path><path d=\"M 244.3 389.3 L 244.3 383.3 L 258.2 383.3\" id=\"59,13\"></path><path d=\"M 244.3 389.3 L 244.3 395.2 L 252.6 395.2\" id=\"59,12\"></path><path d=\"M 231.5 421.3 L 231.5 407.1 L 270.6 407.1\" id=\"70,11\"></path><path d=\"M 244.6 435.5 L 244.6 419.0 L 290.0 419.0\" id=\"64,10\"></path><path d=\"M 261.2 451.9 L 261.2 430.9 L 298.1 430.9\" id=\"58,9\"></path><path d=\"M 275.6 451.7 L 275.6 442.8 L 299.0 442.8\" id=\"50,8\"></path><path d=\"M 289.1 460.7 L 289.1 454.7 L 309.8 454.7\" id=\"46,7\"></path><path d=\"M 289.1 460.7 L 289.1 466.6 L 306.7 466.6\" id=\"46,6\"></path><path d=\"M 270.6 494.1 L 270.6 478.5 L 310.7 478.5\" id=\"49,5\"></path><path d=\"M 288.5 496.4 L 288.5 490.4 L 315.9 490.4\" id=\"43,4\"></path><path d=\"M 288.5 496.4 L 288.5 502.3 L 342.3 502.3\" id=\"43,3\"></path><path d=\"M 279.3 523.1 L 279.3 514.2 L 298.5 514.2\" id=\"42,2\"></path><path d=\"M 282.8 532.1 L 282.8 526.1 L 305.8 526.1\" id=\"41,1\"></path><path d=\"M 282.8 532.1 L 282.8 538.0 L 311.8 538.0\" id=\"41,0\"></path></g><g class=\"toytree-AlignEdges\" style=\"stroke:rgb(66.3%,66.3%,66.3%);stroke-dasharray:2, 4;stroke-linecap:round;stroke-opacity:1.0;stroke-width:2\"><path d=\"M 342.3 538.0 L 311.8 538.0\"></path><path d=\"M 342.3 526.1 L 305.8 526.1\"></path><path d=\"M 342.3 514.2 L 298.5 514.2\"></path><path d=\"M 342.3 502.3 L 342.3 502.3\"></path><path d=\"M 342.3 490.4 L 315.9 490.4\"></path><path d=\"M 342.3 478.5 L 310.7 478.5\"></path><path d=\"M 342.3 466.6 L 306.7 466.6\"></path><path d=\"M 342.3 454.7 L 309.8 454.7\"></path><path d=\"M 342.3 442.8 L 299.0 442.8\"></path><path d=\"M 342.3 430.9 L 298.1 430.9\"></path><path d=\"M 342.3 419.0 L 290.0 419.0\"></path><path d=\"M 342.3 407.1 L 270.6 407.1\"></path><path d=\"M 342.3 395.2 L 252.6 395.2\"></path><path d=\"M 342.3 383.3 L 258.2 383.3\"></path><path d=\"M 342.3 371.4 L 259.5 371.4\"></path><path d=\"M 342.3 359.5 L 311.7 359.5\"></path><path d=\"M 342.3 347.6 L 317.5 347.6\"></path><path d=\"M 342.3 335.7 L 318.5 335.7\"></path><path d=\"M 342.3 323.8 L 254.9 323.8\"></path><path d=\"M 342.3 311.9 L 260.6 311.9\"></path><path d=\"M 342.3 300.0 L 258.0 300.0\"></path><path d=\"M 342.3 288.1 L 255.6 288.1\"></path><path d=\"M 342.3 276.2 L 260.6 276.2\"></path><path d=\"M 342.3 264.3 L 253.6 264.3\"></path><path d=\"M 342.3 252.4 L 256.3 252.4\"></path><path d=\"M 342.3 240.5 L 234.6 240.5\"></path><path d=\"M 342.3 228.6 L 212.1 228.6\"></path><path d=\"M 342.3 216.7 L 268.2 216.7\"></path><path d=\"M 342.3 204.8 L 262.8 204.8\"></path><path d=\"M 342.3 192.9 L 258.7 192.9\"></path><path d=\"M 342.3 181.0 L 248.2 181.0\"></path><path d=\"M 342.3 169.1 L 235.7 169.1\"></path><path d=\"M 342.3 157.2 L 250.6 157.2\"></path><path d=\"M 342.3 145.3 L 242.3 145.3\"></path><path d=\"M 342.3 133.4 L 211.4 133.4\"></path><path d=\"M 342.3 121.5 L 212.5 121.5\"></path><path d=\"M 342.3 109.6 L 193.0 109.6\"></path><path d=\"M 342.3 97.7 L 188.3 97.7\"></path><path d=\"M 342.3 85.8 L 181.3 85.8\"></path><path d=\"M 342.3 73.9 L 171.2 73.9\"></path><path d=\"M 342.3 62.0 L 218.3 62.0\"></path></g><g class=\"toytree-Nodes\" style=\"fill:rgb(40%,76.1%,64.7%);fill-opacity:1.0;stroke:None;stroke-width:1\"><g id=\"node-0\" transform=\"translate(311.761,538.005)\"><rect x=\"-4.0\" y=\"-4.0\" width=\"8\" height=\"8\"></rect></g><g id=\"node-1\" transform=\"translate(305.819,526.104)\"><rect x=\"-4.0\" y=\"-4.0\" width=\"8\" height=\"8\"></rect></g><g id=\"node-2\" transform=\"translate(298.483,514.204)\"><rect x=\"-4.0\" y=\"-4.0\" width=\"8\" height=\"8\"></rect></g><g id=\"node-3\" transform=\"translate(342.285,502.304)\"><rect x=\"-4.0\" y=\"-4.0\" width=\"8\" height=\"8\"></rect></g><g id=\"node-4\" transform=\"translate(315.917,490.404)\"><rect x=\"-4.0\" y=\"-4.0\" width=\"8\" height=\"8\"></rect></g><g id=\"node-5\" transform=\"translate(310.740,478.503)\"><rect x=\"-4.0\" y=\"-4.0\" width=\"8\" height=\"8\"></rect></g><g id=\"node-6\" transform=\"translate(306.731,466.603)\"><rect x=\"-4.0\" y=\"-4.0\" width=\"8\" height=\"8\"></rect></g><g id=\"node-7\" transform=\"translate(309.833,454.703)\"><rect x=\"-4.0\" y=\"-4.0\" width=\"8\" height=\"8\"></rect></g><g id=\"node-8\" transform=\"translate(298.978,442.803)\"><rect x=\"-4.0\" y=\"-4.0\" width=\"8\" height=\"8\"></rect></g><g id=\"node-9\" transform=\"translate(298.102,430.903)\"><rect x=\"-4.0\" y=\"-4.0\" width=\"8\" height=\"8\"></rect></g><g id=\"node-10\" transform=\"translate(290.029,419.002)\"><rect x=\"-4.0\" y=\"-4.0\" width=\"8\" height=\"8\"></rect></g><g id=\"node-11\" transform=\"translate(270.647,407.102)\"><rect x=\"-4.0\" y=\"-4.0\" width=\"8\" height=\"8\"></rect></g><g id=\"node-12\" transform=\"translate(252.646,395.202)\"><rect x=\"-4.0\" y=\"-4.0\" width=\"8\" height=\"8\"></rect></g><g id=\"node-13\" transform=\"translate(258.187,383.302)\"><rect x=\"-4.0\" y=\"-4.0\" width=\"8\" height=\"8\"></rect></g><g id=\"node-14\" transform=\"translate(259.489,371.401)\"><rect x=\"-4.0\" y=\"-4.0\" width=\"8\" height=\"8\"></rect></g><g id=\"node-15\" transform=\"translate(311.656,359.501)\"><rect x=\"-4.0\" y=\"-4.0\" width=\"8\" height=\"8\"></rect></g><g id=\"node-16\" transform=\"translate(317.503,347.601)\"><rect x=\"-4.0\" y=\"-4.0\" width=\"8\" height=\"8\"></rect></g><g id=\"node-17\" transform=\"translate(318.455,335.701)\"><rect x=\"-4.0\" y=\"-4.0\" width=\"8\" height=\"8\"></rect></g><g id=\"node-18\" transform=\"translate(254.900,323.800)\"><rect x=\"-4.0\" y=\"-4.0\" width=\"8\" height=\"8\"></rect></g><g id=\"node-19\" transform=\"translate(260.619,311.900)\"><rect x=\"-4.0\" y=\"-4.0\" width=\"8\" height=\"8\"></rect></g><g id=\"node-20\" transform=\"translate(257.976,300.000)\"><rect x=\"-4.0\" y=\"-4.0\" width=\"8\" height=\"8\"></rect></g><g id=\"node-21\" transform=\"translate(255.649,288.100)\"><rect x=\"-4.0\" y=\"-4.0\" width=\"8\" height=\"8\"></rect></g><g id=\"node-22\" transform=\"translate(260.602,276.200)\"><rect x=\"-4.0\" y=\"-4.0\" width=\"8\" height=\"8\"></rect></g><g id=\"node-23\" transform=\"translate(253.650,264.299)\"><rect x=\"-4.0\" y=\"-4.0\" width=\"8\" height=\"8\"></rect></g><g id=\"node-24\" transform=\"translate(256.349,252.399)\"><rect x=\"-4.0\" y=\"-4.0\" width=\"8\" height=\"8\"></rect></g><g id=\"node-25\" transform=\"translate(234.570,240.499)\"><rect x=\"-4.0\" y=\"-4.0\" width=\"8\" height=\"8\"></rect></g><g id=\"node-26\" transform=\"translate(212.125,228.599)\"><rect x=\"-4.0\" y=\"-4.0\" width=\"8\" height=\"8\"></rect></g><g id=\"node-27\" transform=\"translate(268.157,216.698)\"><rect x=\"-4.0\" y=\"-4.0\" width=\"8\" height=\"8\"></rect></g><g id=\"node-28\" transform=\"translate(262.754,204.798)\"><rect x=\"-4.0\" y=\"-4.0\" width=\"8\" height=\"8\"></rect></g><g id=\"node-29\" transform=\"translate(258.654,192.898)\"><rect x=\"-4.0\" y=\"-4.0\" width=\"8\" height=\"8\"></rect></g><g id=\"node-30\" transform=\"translate(248.175,180.998)\"><rect x=\"-4.0\" y=\"-4.0\" width=\"8\" height=\"8\"></rect></g><g id=\"node-31\" transform=\"translate(235.655,169.097)\"><rect x=\"-4.0\" y=\"-4.0\" width=\"8\" height=\"8\"></rect></g><g id=\"node-32\" transform=\"translate(250.633,157.197)\"><rect x=\"-4.0\" y=\"-4.0\" width=\"8\" height=\"8\"></rect></g><g id=\"node-33\" transform=\"translate(242.273,145.297)\"><rect x=\"-4.0\" y=\"-4.0\" width=\"8\" height=\"8\"></rect></g><g id=\"node-34\" transform=\"translate(211.433,133.397)\"><rect x=\"-4.0\" y=\"-4.0\" width=\"8\" height=\"8\"></rect></g><g id=\"node-35\" transform=\"translate(212.480,121.497)\"><rect x=\"-4.0\" y=\"-4.0\" width=\"8\" height=\"8\"></rect></g><g id=\"node-36\" transform=\"translate(192.955,109.596)\"><rect x=\"-4.0\" y=\"-4.0\" width=\"8\" height=\"8\"></rect></g><g id=\"node-37\" transform=\"translate(188.250,97.696)\"><rect x=\"-4.0\" y=\"-4.0\" width=\"8\" height=\"8\"></rect></g><g id=\"node-38\" transform=\"translate(181.334,85.796)\"><rect x=\"-4.0\" y=\"-4.0\" width=\"8\" height=\"8\"></rect></g><g id=\"node-39\" transform=\"translate(171.154,73.896)\"><rect x=\"-4.0\" y=\"-4.0\" width=\"8\" height=\"8\"></rect></g><g id=\"node-40\" transform=\"translate(218.314,61.995)\"><rect x=\"-4.0\" y=\"-4.0\" width=\"8\" height=\"8\"></rect></g><g id=\"node-41\" transform=\"translate(282.848,532.054)\"><rect x=\"0.0\" y=\"0.0\" width=\"0\" height=\"0\"></rect></g><g id=\"node-42\" transform=\"translate(279.321,523.129)\"><rect x=\"0.0\" y=\"0.0\" width=\"0\" height=\"0\"></rect></g><g id=\"node-43\" transform=\"translate(288.482,496.354)\"><rect x=\"0.0\" y=\"0.0\" width=\"0\" height=\"0\"></rect></g><g id=\"node-44\" transform=\"translate(243.785,317.850)\"><rect x=\"0.0\" y=\"0.0\" width=\"0\" height=\"0\"></rect></g><g id=\"node-45\" transform=\"translate(276.518,509.742)\"><rect x=\"0.0\" y=\"0.0\" width=\"0\" height=\"0\"></rect></g><g id=\"node-46\" transform=\"translate(289.110,460.653)\"><rect x=\"0.0\" y=\"0.0\" width=\"0\" height=\"0\"></rect></g><g id=\"node-47\" transform=\"translate(240.318,308.925)\"><rect x=\"0.0\" y=\"0.0\" width=\"0\" height=\"0\"></rect></g><g id=\"node-48\" transform=\"translate(239.112,210.748)\"><rect x=\"0.0\" y=\"0.0\" width=\"0\" height=\"0\"></rect></g><g id=\"node-49\" transform=\"translate(270.597,494.122)\"><rect x=\"0.0\" y=\"0.0\" width=\"0\" height=\"0\"></rect></g><g id=\"node-50\" transform=\"translate(275.578,451.728)\"><rect x=\"0.0\" y=\"0.0\" width=\"0\" height=\"0\"></rect></g><g id=\"node-51\" transform=\"translate(235.789,298.512)\"><rect x=\"0.0\" y=\"0.0\" width=\"0\" height=\"0\"></rect></g><g id=\"node-52\" transform=\"translate(233.932,201.823)\"><rect x=\"0.0\" y=\"0.0\" width=\"0\" height=\"0\"></rect></g><g id=\"node-53\" transform=\"translate(267.429,472.925)\"><rect x=\"0.0\" y=\"0.0\" width=\"0\" height=\"0\"></rect></g><g id=\"node-54\" transform=\"translate(213.877,287.356)\"><rect x=\"0.0\" y=\"0.0\" width=\"0\" height=\"0\"></rect></g><g id=\"node-55\" transform=\"translate(213.278,246.449)\"><rect x=\"0.0\" y=\"0.0\" width=\"0\" height=\"0\"></rect></g><g id=\"node-56\" transform=\"translate(225.930,191.410)\"><rect x=\"0.0\" y=\"0.0\" width=\"0\" height=\"0\"></rect></g><g id=\"node-57\" transform=\"translate(200.646,163.147)\"><rect x=\"0.0\" y=\"0.0\" width=\"0\" height=\"0\"></rect></g><g id=\"node-58\" transform=\"translate(261.231,451.914)\"><rect x=\"0.0\" y=\"0.0\" width=\"0\" height=\"0\"></rect></g><g id=\"node-59\" transform=\"translate(244.348,389.252)\"><rect x=\"0.0\" y=\"0.0\" width=\"0\" height=\"0\"></rect></g><g id=\"node-60\" transform=\"translate(293.192,353.551)\"><rect x=\"0.0\" y=\"0.0\" width=\"0\" height=\"0\"></rect></g><g id=\"node-61\" transform=\"translate(186.080,275.828)\"><rect x=\"0.0\" y=\"0.0\" width=\"0\" height=\"0\"></rect></g><g id=\"node-62\" transform=\"translate(200.786,237.524)\"><rect x=\"0.0\" y=\"0.0\" width=\"0\" height=\"0\"></rect></g><g id=\"node-63\" transform=\"translate(188.565,177.279)\"><rect x=\"0.0\" y=\"0.0\" width=\"0\" height=\"0\"></rect></g><g id=\"node-64\" transform=\"translate(244.625,435.458)\"><rect x=\"0.0\" y=\"0.0\" width=\"0\" height=\"0\"></rect></g><g id=\"node-65\" transform=\"translate(195.228,380.327)\"><rect x=\"0.0\" y=\"0.0\" width=\"0\" height=\"0\"></rect></g><g id=\"node-66\" transform=\"translate(255.325,344.626)\"><rect x=\"0.0\" y=\"0.0\" width=\"0\" height=\"0\"></rect></g><g id=\"node-67\" transform=\"translate(177.481,256.676)\"><rect x=\"0.0\" y=\"0.0\" width=\"0\" height=\"0\"></rect></g><g id=\"node-68\" transform=\"translate(174.439,161.288)\"><rect x=\"0.0\" y=\"0.0\" width=\"0\" height=\"0\"></rect></g><g id=\"node-69\" transform=\"translate(172.485,103.646)\"><rect x=\"0.0\" y=\"0.0\" width=\"0\" height=\"0\"></rect></g><g id=\"node-70\" transform=\"translate(231.469,421.280)\"><rect x=\"0.0\" y=\"0.0\" width=\"0\" height=\"0\"></rect></g><g id=\"node-71\" transform=\"translate(181.140,362.476)\"><rect x=\"0.0\" y=\"0.0\" width=\"0\" height=\"0\"></rect></g><g id=\"node-72\" transform=\"translate(137.843,208.982)\"><rect x=\"0.0\" y=\"0.0\" width=\"0\" height=\"0\"></rect></g><g id=\"node-73\" transform=\"translate(168.570,127.447)\"><rect x=\"0.0\" y=\"0.0\" width=\"0\" height=\"0\"></rect></g><g id=\"node-74\" transform=\"translate(153.966,94.721)\"><rect x=\"0.0\" y=\"0.0\" width=\"0\" height=\"0\"></rect></g><g id=\"node-75\" transform=\"translate(152.825,391.878)\"><rect x=\"0.0\" y=\"0.0\" width=\"0\" height=\"0\"></rect></g><g id=\"node-76\" transform=\"translate(117.654,168.214)\"><rect x=\"0.0\" y=\"0.0\" width=\"0\" height=\"0\"></rect></g><g id=\"node-77\" transform=\"translate(146.376,84.308)\"><rect x=\"0.0\" y=\"0.0\" width=\"0\" height=\"0\"></rect></g><g id=\"node-78\" transform=\"translate(99.866,280.046)\"><rect x=\"0.0\" y=\"0.0\" width=\"0\" height=\"0\"></rect></g><g id=\"node-79\" transform=\"translate(99.866,73.152)\"><rect x=\"0.0\" y=\"0.0\" width=\"0\" height=\"0\"></rect></g><g id=\"node-80\" transform=\"translate(50.000,176.599)\"><rect x=\"0.0\" y=\"0.0\" width=\"0\" height=\"0\"></rect></g></g><g class=\"toytree-TipLabels\" style=\"fill:rgb(14.9%,14.9%,14.9%);fill-opacity:1.0;font-family:helvetica;font-size:11px;font-weight:normal;stroke:none;white-space:pre\"><g transform=\"translate(342.29,538.00)rotate(0)\"><text x=\"15.00\" y=\"2.81\" style=\"fill:rgb(0%,0%,100%);fill-opacity:1.0\">H.sapiens.O.GA.10.10Gab1190.JX245014</text></g><g transform=\"translate(342.29,526.10)rotate(0)\"><text x=\"15.00\" y=\"2.81\" style=\"fill:rgb(0%,0%,100%);fill-opacity:1.0\">H.sapiens.O.ES.01.KX228804</text></g><g transform=\"translate(342.29,514.20)rotate(0)\"><text x=\"15.00\" y=\"2.81\" style=\"fill:rgb(0%,0%,100%);fill-opacity:1.0\">H.sapiens.O.ANT70</text></g><g transform=\"translate(342.29,502.30)rotate(0)\"><text x=\"15.00\" y=\"2.81\" style=\"fill:rgb(0%,0%,100%);fill-opacity:1.0\">H.sapiens.O.MVP5180</text></g><g transform=\"translate(342.29,490.40)rotate(0)\"><text x=\"15.00\" y=\"2.81\" style=\"fill:rgb(0%,0%,100%);fill-opacity:1.0\">H.sapiens.O.US.10.LTNP.JN571034</text></g><g transform=\"translate(342.29,478.50)rotate(0)\"><text x=\"15.00\" y=\"2.81\" style=\"fill:rgb(0%,0%,100%);fill-opacity:1.0\">H.sapiens.O.GA.11.11Gab6352.JX245015</text></g><g transform=\"translate(342.29,466.60)rotate(0)\"><text x=\"15.00\" y=\"2.81\" style=\"fill:rgb(0%,0%,100%);fill-opacity:1.0\">H.sapiens.O.CM.x.pCMO2_3.AY618998</text></g><g transform=\"translate(342.29,454.70)rotate(0)\"><text x=\"15.00\" y=\"2.81\" style=\"fill:rgb(0%,0%,100%);fill-opacity:1.0\">H.sapiens.O.CM.99.99CMU4122.AY169815</text></g><g transform=\"translate(342.29,442.80)rotate(0)\"><text x=\"15.00\" y=\"2.81\" style=\"fill:rgb(0%,0%,100%);fill-opacity:1.0\">H.sapiens.O.SN.99.99SE_MP1300.AJ302647</text></g><g transform=\"translate(342.29,430.90)rotate(0)\"><text x=\"15.00\" y=\"2.81\" style=\"fill:rgb(0%,0%,100%);fill-opacity:1.0\">H.sapiens.O.CM.96.LA52YBF39.KU168295</text></g><g transform=\"translate(342.29,419.00)rotate(0)\"><text x=\"15.00\" y=\"2.81\" style=\"fill:rgb(0%,0%,100%);fill-opacity:1.0\">H.sapiens.O.CM.96.LA51YBF35.KU168294</text></g><g transform=\"translate(342.29,407.10)rotate(0)\"><text x=\"15.00\" y=\"2.81\" style=\"fill:rgb(0%,0%,100%);fill-opacity:1.0\">H.sapiens.O.FR.06.RBF206.KY112585</text></g><g transform=\"translate(342.29,395.20)rotate(0)\"><text x=\"15.00\" y=\"2.81\" style=\"fill:rgb(0%,0%,100%);fill-opacity:1.0\">G.g.gorilla.CP684</text></g><g transform=\"translate(342.29,383.30)rotate(0)\"><text x=\"15.00\" y=\"2.81\" style=\"fill:rgb(0%,0%,100%);fill-opacity:1.0\">G.g.gorilla.CP2135</text></g><g transform=\"translate(342.29,371.40)rotate(0)\"><text x=\"15.00\" y=\"2.81\" style=\"fill:rgb(0%,0%,100%);fill-opacity:1.0\">G.g.gorilla.CM.12.BQID2.KP004991</text></g><g transform=\"translate(342.29,359.50)rotate(0)\"><text x=\"15.00\" y=\"2.81\" style=\"fill:rgb(0%,0%,100%);fill-opacity:1.0\">H.sapiens.P.FR.09.RBF168.GU111555</text></g><g transform=\"translate(342.29,347.60)rotate(0)\"><text x=\"15.00\" y=\"2.81\" style=\"fill:rgb(0%,0%,100%);fill-opacity:1.0\">H.sapiens.P.CM.06.U14788.HQ179987</text></g><g transform=\"translate(342.29,335.70)rotate(0)\"><text x=\"15.00\" y=\"2.81\" style=\"fill:rgb(0%,0%,100%);fill-opacity:1.0\">G.g.gorilla.CM.13.BPID15.KP004990</text></g><g transform=\"translate(342.29,323.80)rotate(0)\"><text x=\"15.00\" y=\"2.81\" style=\"fill:rgb(0%,0%,100%);fill-opacity:1.0\">H.sapiens.N.YBF30</text></g><g transform=\"translate(342.29,311.90)rotate(0)\"><text x=\"15.00\" y=\"2.81\" style=\"fill:rgb(0%,0%,100%);fill-opacity:1.0\">H.sapiens.N.YBF106</text></g><g transform=\"translate(342.29,300.00)rotate(0)\"><text x=\"15.00\" y=\"2.81\" style=\"fill:rgb(0%,0%,100%);fill-opacity:1.0\">H.sapiens.N.CM.15.S4858.KY498771</text></g><g transform=\"translate(342.29,288.10)rotate(0)\"><text x=\"15.00\" y=\"2.81\" style=\"fill:rgb(0%,0%,100%);fill-opacity:1.0\">H.sapiens.N.FR.11.N1_FR_2011.JN572926</text></g><g transform=\"translate(342.29,276.20)rotate(0)\"><text x=\"15.00\" y=\"2.81\" style=\"fill:rgb(0%,0%,100%);fill-opacity:1.0\">P.t.troglodytes.EK505</text></g><g transform=\"translate(342.29,264.30)rotate(0)\"><text x=\"15.00\" y=\"2.81\" style=\"fill:rgb(0%,0%,100%);fill-opacity:1.0\">P.t.troglodytes.US.85.US_Marilyn.AF103818</text></g><g transform=\"translate(342.29,252.40)rotate(0)\"><text x=\"15.00\" y=\"2.81\" style=\"fill:rgb(0%,0%,100%);fill-opacity:1.0\">P.t.troglodytes.CAM5</text></g><g transform=\"translate(342.29,240.50)rotate(0)\"><text x=\"15.00\" y=\"2.81\" style=\"fill:rgb(0%,0%,100%);fill-opacity:1.0\">P.t.troglodytes.CAM3</text></g><g transform=\"translate(342.29,228.60)rotate(0)\"><text x=\"15.00\" y=\"2.81\" style=\"fill:rgb(0%,0%,100%);fill-opacity:1.0\">P.t.troglodytes.DP943</text></g><g transform=\"translate(342.29,216.70)rotate(0)\"><text x=\"15.00\" y=\"2.81\" style=\"fill:rgb(0%,0%,100%);fill-opacity:1.0\">H.sapiens.M.D.CY.06.CY163.FJ388945</text></g><g transform=\"translate(342.29,204.80)rotate(0)\"><text x=\"15.00\" y=\"2.81\" style=\"fill:rgb(0%,0%,100%);fill-opacity:1.0\">H.sapiens.M.D.CM.10.DEMD10CM009.JX140670</text></g><g transform=\"translate(342.29,192.90)rotate(0)\"><text x=\"15.00\" y=\"2.81\" style=\"fill:rgb(0%,0%,100%);fill-opacity:1.0\">H.sapiens.M.D.YE.02.02YE516.AY795907</text></g><g transform=\"translate(342.29,181.00)rotate(0)\"><text x=\"15.00\" y=\"2.81\" style=\"fill:rgb(0%,0%,100%);fill-opacity:1.0\">H.sapiens.M.D.CD.03.LA17MuBo.KU168271</text></g><g transform=\"translate(342.29,169.10)rotate(0)\"><text x=\"15.00\" y=\"2.81\" style=\"fill:rgb(0%,0%,100%);fill-opacity:1.0\">P.t.troglodytes.MB66</text></g><g transform=\"translate(342.29,157.20)rotate(0)\"><text x=\"15.00\" y=\"2.81\" style=\"fill:rgb(0%,0%,100%);fill-opacity:1.0\">P.t.troglodytes.MB897</text></g><g transform=\"translate(342.29,145.30)rotate(0)\"><text x=\"15.00\" y=\"2.81\" style=\"fill:rgb(0%,0%,100%);fill-opacity:1.0\">P.t.troglodytes.LB7</text></g><g transform=\"translate(342.29,133.40)rotate(0)\"><text x=\"15.00\" y=\"2.81\" style=\"fill:rgb(0%,0%,100%);fill-opacity:1.0\">P.t.troglodytes.CAM13</text></g><g transform=\"translate(342.29,121.50)rotate(0)\"><text x=\"15.00\" y=\"2.81\" style=\"fill:rgb(0%,0%,100%);fill-opacity:1.0\">P.t.troglodytes.GAB1</text></g><g transform=\"translate(342.29,109.60)rotate(0)\"><text x=\"15.00\" y=\"2.81\" style=\"fill:rgb(0%,50.2%,0%);fill-opacity:1.0\">P.t.schweinfurthii.TAN2</text></g><g transform=\"translate(342.29,97.70)rotate(0)\"><text x=\"15.00\" y=\"2.81\" style=\"fill:rgb(0%,50.2%,0%);fill-opacity:1.0\">P.t.schweinfurthii.TAN3</text></g><g transform=\"translate(342.29,85.80)rotate(0)\"><text x=\"15.00\" y=\"2.81\" style=\"fill:rgb(0%,50.2%,0%);fill-opacity:1.0\">P.t.schweinfurthii.TZ.06.TAN5.JN091691</text></g><g transform=\"translate(342.29,73.90)rotate(0)\"><text x=\"15.00\" y=\"2.81\" style=\"fill:rgb(0%,50.2%,0%);fill-opacity:1.0\">P.t.schweinfurthii.TAN1</text></g><g transform=\"translate(342.29,62.00)rotate(0)\"><text x=\"15.00\" y=\"2.81\" style=\"fill:rgb(0%,50.2%,0%);fill-opacity:1.0\">P.t.schweinfurthii.ANT</text></g></g></g></g></g></svg><div class=\"toyplot-behavior\"><script>(function()\n",
       "{\n",
       "var modules={};\n",
       "})();</script></div></div>"
      ]
     },
     "metadata": {},
     "output_type": "display_data"
    }
   ],
   "source": [
    "newick = \"SIVHIVspecies_ENV.nwk\"\n",
    "hivtre = toytree.tree(newick, tree_format=1)\n",
    "hivrtre = hivtre.root(wildcard=\"schwein\")\n",
    "\n",
    "# change these options until you are happy with the design\n",
    "colorlist = [\"green\" if \"P.t.schweinfurthii\" in tip \n",
    "             else \"blue\" if \"P.t.\" in tip \n",
    "             else \"blue\" if \"G.g\" in tip\n",
    "             else \"blue\" if \"H.sapiens\" in tip \n",
    "             else \"blue\" for tip in hivrtre.get_tip_labels()]\n",
    "\n",
    "canvas = hivrtre.draw(\n",
    "    node_labels=None,\n",
    "    width=600,\n",
    "    height=600,\n",
    "    node_sizes=[0 if i else 8 for i in hivrtre.get_node_values(None, 1, 0)],\n",
    "    node_markers=\"s\",\n",
    "    node_colors=toytree.colors[0],\n",
    "    tip_labels_align=True,\n",
    "    tip_labels_colors=colorlist);\n"
   ]
  },
  {
   "cell_type": "markdown",
   "metadata": {},
   "source": [
    "You can use modify the code to colour it in more appropriately if you wish. Maybe change the colour to highlight Human HIV sequences in red?\n",
    "\n",
    "The name contains a lot of metadata. The letter after H.sapiens indicates the HIV1 group to which that sequence belongs. Then the country from which it was isolated. Then the year. Then some identifiers and accession number. So `H.sapiens.O.CM.96.LA51YBF35.KU168294` is HIV1 group O, from Cameroon, isolated in 1996, with sample code LA51YBF35 and genbank accession number KU168294."
   ]
  },
  {
   "cell_type": "markdown",
   "metadata": {},
   "source": [
    "It may help you to talk about HIV1 group O, or group P, or group N in your explanations and in your annotations of the tree."
   ]
  },
  {
   "cell_type": "markdown",
   "metadata": {},
   "source": [
    "Make sure you then download the annotated tree and save it somewhere safe for your report. If you want to save several differently coloured tree (a good idea) then remember to change the filename below else they will overwrite the previous file."
   ]
  },
  {
   "cell_type": "code",
   "execution_count": 23,
   "metadata": {},
   "outputs": [],
   "source": [
    "# --------------------------------\n",
    "# Save the tree as a graphics file\n",
    "# --------------------------------\n",
    "# remember to save these files and take them away\n",
    "\n",
    "toyplot.pdf.render(canvas[0], \"hiv.pdf\")\n",
    "toyplot.html.render(canvas[0], \"hiv.html\")\n"
   ]
  },
  {
   "cell_type": "markdown",
   "metadata": {},
   "source": [
    "## Interpreting the tree"
   ]
  },
  {
   "cell_type": "markdown",
   "metadata": {},
   "source": [
    "The tree shows the diversity of great ape immunodeficiency viruses. Here are some questions that you could write about in your report. They are suggestions only, you can set yourself different or extra questions also, you decide.\n",
    "\n",
    "**Does the pattern of S/HIV represent the evolutionary history of the species? Has the virus speciated along with these apes or is it more complex than that?**\n",
    "\n",
    "**If you think there has been a zoonotic spread of SIV, ie a transfer to humans, is there a single origin or multiple transfers of HIV1?**\n",
    "\n",
    "**Can you determine anything about the geography of the transfer of the pandemic strain (M)? Think about the subspecies of the source. What is their gepgraphic range? Maybe you wish to include a map in your report? Wikipedia has one**\n",
    "\n",
    "It is useful to think about how you will provide phylogenetic evidence for your answer to each of the questions above. How can you annotate a phylogeny to demonstrate the evidence for your conclusion. Poor reports will rely largely on written descriptions of a tree, excellent reports make a powerful link between the text and the figure, using annotations to make their points very clear.\n"
   ]
  },
  {
   "cell_type": "markdown",
   "metadata": {},
   "source": [
    "## Writing your assessed report"
   ]
  },
  {
   "cell_type": "markdown",
   "metadata": {},
   "source": [
    "There is extensivehelp on the canvas site on what to include and how to structure your report. You should discuss your conclusions and figures with a demonstrator or myself before leaving however. Please make sure that you have downloaded image files of any trees that you need to include in your report. This Jupyter lab environment may continue to work but I can't guarrantee it's availability past the end of the practical (that is out of my hands)."
   ]
  },
  {
   "cell_type": "markdown",
   "metadata": {},
   "source": [
    "<hr>\n",
    "<h2><font color='Blue'>What skills have you acquired?</font></h2>\n",
    "\n",
    "If you have completed this practical I think you have now showed your competency in a range of important practical and conceptual skills:\n",
    "1. Understanding the use of phylogenetic trees\n",
    "2. Basic use of Jupyter notebooks\n",
    "3. Basic use of BioPython to characterise sequence data files\n",
    "4. Basic use of python to align DNA sequecne data and build a phylogenetic tree\n",
    "5. Use of python to programmatically annotate a phylogenetic tree\n",
    "\n",
    "These are the sorts of phrases you could include on you cv if you wished."
   ]
  },
  {
   "cell_type": "markdown",
   "metadata": {},
   "source": [
    "## Software References\n",
    "\n",
    "1. Cock PJA, Antao T, Chang JT, Chapman BA, Cox CJ, Dalke A, et al. Biopython: freely available Python tools for computational molecular biology and bioinformatics. Bioinformatics. 2009;25: 1422–1423. doi:10.1093/bioinformatics/btp163\n",
    "2. Katoh K, Toh H. Recent developments in the MAFFT multiple sequence alignment program. Brief Bioinform. 2008;9: 286–298. doi:10.1093/bib/bbn013\n",
    "3. Capella-Gutiérrez S, Silla-Martínez JM, Gabaldón T. trimAl: a tool for automated alignment trimming in large-scale phylogenetic analyses. Bioinformatics. 2009;25: 1972–1973. doi:10.1093/bioinformatics/btp348\n",
    "4. Price MN, Dehal PS, Arkin AP. FastTree 2 – Approximately Maximum-Likelihood Trees for Large Alignments. PLoS ONE. 2010. p. e9490. doi:10.1371/journal.pone.0009490\n",
    "5. Eaton DAR. Toytree: A minimalist tree visualization and manipulation library for Python. Methods Ecol Evol. 2020;11: 187–191. doi:10.1111/2041-210X.13313\n"
   ]
  },
  {
   "cell_type": "markdown",
   "metadata": {},
   "source": [
    "## Case Study References\n",
    "\n",
    "Sharp PM, Hahn BH. Origins of HIV and the AIDS pandemic. Cold Spring Harb Perspect Med. 2011;1: a006841. doi:10.1101/cshperspect.a006841\n",
    "\n",
    "Locke DP, Hillier LW, Warren WC, Worley KC, Nazareth LV, Muzny DM, et al. Comparative and demographic analysis of orang-utan genomes. Nature. 2011;469: 529–533. doi:10.1038/nature09687\n",
    "\n",
    "Nater A, Mattle-Greminger MP, Nurcahyo A, Nowak MG, de Manuel M, Desai T, et al. Morphometric, Behavioral, and Genomic Evidence for a New Orangutan Species. Curr Biol. 2017;0. doi:10.1016/j.cub.2017.09.047\n",
    "\n"
   ]
  },
  {
   "cell_type": "code",
   "execution_count": null,
   "metadata": {},
   "outputs": [],
   "source": []
  }
 ],
 "metadata": {
  "kernelspec": {
   "display_name": "Python 3",
   "language": "python",
   "name": "python3"
  },
  "language_info": {
   "codemirror_mode": {
    "name": "ipython",
    "version": 3
   },
   "file_extension": ".py",
   "mimetype": "text/x-python",
   "name": "python",
   "nbconvert_exporter": "python",
   "pygments_lexer": "ipython3",
   "version": "3.9.2"
  }
 },
 "nbformat": 4,
 "nbformat_minor": 4
}
