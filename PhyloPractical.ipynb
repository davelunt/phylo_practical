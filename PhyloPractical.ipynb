{
 "cells": [
  {
   "cell_type": "markdown",
   "metadata": {},
   "source": [
    "<h1><font color='DarkBlue'>PRACTICAL PHYLOGENETICS NOTEBOOK</font></h1>\n",
    "<hr>\n",
    "Dr Dave Lunt d.h.lunt@hull.ac.uk"
   ]
  },
  {
   "cell_type": "markdown",
   "metadata": {},
   "source": [
    "<h2><font color='Blue'>Goals of these experiments</font></h2>"
   ]
  },
  {
   "cell_type": "markdown",
   "metadata": {},
   "source": [
    "This Jupyter notebook will take you through two case studies using phylogenetic analysis to understand biological questions. This will involve aligning sequences and building maximum likelihood phylogenetic trees, followed by annotation an interpretation.\n",
    "\n",
    "We hope that this will give you \n",
    "- experience in analysing DNA sequence data\n",
    "- Understanding of the steps involved in phylogenetics\n",
    "- Knowledge about the compleities of the specific case studies we are using\n",
    "\n",
    "You will write up one of the case study analyses you perform today for your assessment."
   ]
  },
  {
   "cell_type": "markdown",
   "metadata": {},
   "source": [
    "<h2><font color='Blue'>Introduction to Jupyter computational notebooks</font></h2>"
   ]
  },
  {
   "cell_type": "markdown",
   "metadata": {},
   "source": [
    "<font color=red>**FIRSTLY, DO NOT PANIC. EVERYTHING YOU NEED TO KNOW ABOUT COMPUTERS AND CODE WILL BE TAUGHT HERE. YOU WILL BE ABLE TO DO THIS EVEN IF YOU HAVE LITTLE EXPERIENCE WITH COMPUTERS**</font>\n",
    "\n",
    "This class of students has mixed prior experience however, so if you have not done the bioinformatics practicals in Genetic Analysis last semester then please make yourself known and we will give you a 5 minute catch-up to make your life easier.\n",
    "\n",
    "If you are familiar with Jupyter notebooks then you can skip this section and move to \"A NEW SPECIES oF APE?\" below.\n",
    "\n",
    "This document that you are reading now is a **Jupyter Notebook**. It is a web browser based text editor that is also able to execute scripts ie  code. Today we are using the programming language `python`, probably the most used language in bioinformatics, but we could also run `R`, `bash` or many other languages. Scripts are found in the grey cells (see below) and have something like `In [ ]:` or `[1]` to their left in the margin..  \n",
    "\n",
    "To execute a script, click the cell below and then press SHIFT+ENTER, or instead the triangular \"Run\" button in the tool bar above. Try running this code below now "
   ]
  },
  {
   "cell_type": "code",
   "execution_count": 1,
   "metadata": {},
   "outputs": [
    {
     "name": "stdout",
     "output_type": "stream",
     "text": [
      "Hey there, good job in running the python print command!\n"
     ]
    }
   ],
   "source": [
    "print('Hey there, good job in running the python print command!')"
   ]
  },
  {
   "cell_type": "markdown",
   "metadata": {},
   "source": [
    "This code cell (containing \"print('Hey...\") should have executed when you pressed SHIFT-ENTER and it's output was printed below the cell (\"Hey there, good job...\"). All Jupyter commands run in a similar fashion"
   ]
  },
  {
   "cell_type": "markdown",
   "metadata": {},
   "source": [
    "Can you identify which parts of this notebook are code, which parts output, and which parts documentation like this sentence? Discuss with us if you are in doubt.\n",
    "\n",
    "1. Try editing the code below and re-running. Replace \"Good job\" with \"Even better job\"\n",
    "2. Instead of the `Run` button at the top you can click in the cell and press Shift-Enter to run the code. Most people find this faster, edit the cell below then give it a try:"
   ]
  },
  {
   "cell_type": "code",
   "execution_count": 2,
   "metadata": {},
   "outputs": [
    {
     "name": "stdout",
     "output_type": "stream",
     "text": [
      "Hey there, good job!\n"
     ]
    }
   ],
   "source": [
    "print('Hey there, good job!')"
   ]
  },
  {
   "cell_type": "markdown",
   "metadata": {},
   "source": [
    "<h4><font color='Blue'>ACTION:</font></h4>\n",
    "\n",
    "Now edit the cell above to have two print statements. On a new line type `print('Your new phrase')` and then run it. It might be easier to copy/paste and just change the pasted phrase. If it doesn't run well, you have a typo. Yes, its always a typo.\n",
    "\n",
    "**Congratulations, you have now run, copy/pasted and edited cells. Those are all the skills you will need today**\n",
    "\n",
    "This iterative edit-and-run approach is how much of modern biological data is explored and analysed. This mix of code and explanation you are seeing in this Jupyter notebook is called \"literate programming\""
   ]
  },
  {
   "cell_type": "markdown",
   "metadata": {},
   "source": [
    "This notebook will take you through the anaysis of the two case studies found in the practical handbook. To make this notebook concise, background information is excluded from it and only available in the practical handbook, and you will need to work with both documents. For each case study you will need to run several cells just as you did above. The programs will then align and clean the DNA sequences, build a tree and annotate it. **In most cases you will only need to run the cell just as you did above. In a few cases you will be able to tweak the script just a bit following clear instructions**. Good luck!"
   ]
  },
  {
   "cell_type": "markdown",
   "metadata": {},
   "source": [
    "<h1><font color='Blue'>STUDY1: A NEW SPECIES OF APE?</font></h1>"
   ]
  },
  {
   "cell_type": "markdown",
   "metadata": {},
   "source": [
    "![orangutan males](images/Bornean,_Sumatran_&_Tapanuli_orangs.jpg)"
   ]
  },
  {
   "cell_type": "markdown",
   "metadata": {},
   "source": [
    "_Figure 1:_ Male Bornean, Sumatran and Tapanuli orangutans, three suggested species [wikipedia](https://en.wikipedia.org/wiki/Orangutan). "
   ]
  },
  {
   "cell_type": "markdown",
   "metadata": {},
   "source": [
    "The first aim of today is to investigate what phylogenetics can tell us about different species of great ape. It is, of course, complex. You might like to think how you would conceptually go about trying to get information using a phylogenetic approach."
   ]
  },
  {
   "cell_type": "markdown",
   "metadata": {},
   "source": [
    "**Table 1: Latin names and common names of species in this practical.** As always, Googling is encouraged."
   ]
  },
  {
   "cell_type": "markdown",
   "metadata": {},
   "source": [
    "| Name             | Common name           | Name  | Common Name |\n",
    "| ----------------|:----------------------| --------------|:---------- |\n",
    "| Macaca macaca | Macaque (outgroup)|  Homo sapiens sapiens | Modern humans\n",
    "| Hylobates lar      | Gibbon (outgroup)     |  Homo sapiens neanderthalis  | Neanderthals (extinct)|\n",
    "| Gorilla gorilla | Western Gorilla      | Homo sapiens denisovan | Denisovans (extinct)\n",
    "| Gorilla beringei | Eastern/mountain Gorilla | Pongo abelii | Sumatran orangutan     |\n",
    "| Pan troglodytes | Chimp      |   Pongo pygmaeus | Bornean orangutan   |\n",
    "| Pan paniscus | Bonobo      |     Pongo tapanuliensis | Tapanuli orangutan|\n",
    "|"
   ]
  },
  {
   "cell_type": "markdown",
   "metadata": {},
   "source": [
    "<h2><font color='Blue'>How much data do you have?</font></h2>\n",
    "Your working directory has some DNA sequence files in fasta format. There are a number of ways to determine the number of sequences in a file, here is a quick one-liner. \n",
    "\n",
    "Edit the cell to replace `name.fas` with the correct file `data/ape.fas`. Shift-Enter to run the cell as usual"
   ]
  },
  {
   "cell_type": "code",
   "execution_count": 3,
   "metadata": {},
   "outputs": [
    {
     "name": "stdout",
     "output_type": "stream",
     "text": [
      "Number of sequences: \n",
      "19\n"
     ]
    }
   ],
   "source": [
    "!echo \"Number of sequences: \"; grep -c \">\" data/ape.fas"
   ]
  },
  {
   "cell_type": "markdown",
   "metadata": {},
   "source": [
    "It should have displayed the number of sequences in the `ape.fas` file"
   ]
  },
  {
   "cell_type": "markdown",
   "metadata": {},
   "source": [
    "Below we will use a few python packages to allow more complex analyses. In the next example we are going to find the number and total length of sequences using a useful code package called BioPython [1].\n",
    "\n",
    "Remember: The code below has explanations of what each section does (explanations begin with the # symbol) as some people are interested in seeing bioinformatics code in action. **But you do not have to know python or understand this code. Just run the cell as usual.**"
   ]
  },
  {
   "cell_type": "code",
   "execution_count": 6,
   "metadata": {},
   "outputs": [
    {
     "name": "stdout",
     "output_type": "stream",
     "text": [
      "The file contained 3 records with total sequence length of 1449 nucleotides\n"
     ]
    }
   ],
   "source": [
    "# --------------------------------------------\n",
    "# Python code to report on number of sequences \n",
    "# in a file by using BioPython\n",
    "# --------------------------------------------\n",
    "\n",
    "# import BioPython code so we can use it\n",
    "from Bio.SeqIO.FastaIO import SimpleFastaParser\n",
    "\n",
    "# set counts to zero before starting\n",
    "count = 0\n",
    "total_len = 0\n",
    "\n",
    "# open the data file and give it a handle (nickname)\n",
    "with open(\"name.fas\") as in_handle:\n",
    "    \n",
    "# for each title line add 1 to count of records, \n",
    "# and add length of sequence to a count called total_len\n",
    "     for title, seq in SimpleFastaParser(in_handle):\n",
    "         count += 1\n",
    "         total_len += len(seq)\n",
    "            \n",
    "# print the results in a readable format\n",
    "print(\"The file contained %i records with total sequence length of %i nucleotides\" % (count, total_len))"
   ]
  },
  {
   "cell_type": "markdown",
   "metadata": {},
   "source": [
    "<h4><font color='Blue'>QUESTIONS:</font></h4>\n",
    "\n",
    "- Can you see which part of the above code specifies the fasta file `ape.fas`?\n",
    "\n",
    "- How could you run this on a different file in the data directory called `testseqs.fasta`? \n",
    "\n",
    "You don't need any python knowledge to answer these. The idea here is that in much of bioinformatics you can modify someone else's code to point at your data file and everything will work. \n",
    "\n",
    "<h4><font color='Blue'>ACTIONS:</font></h4>\n",
    "\n",
    "Try it, just change the name above and re-run the cell, or ask for help if you can't quite see it. Remember that the file is within the `data` directory. If you've done it correctly (watch for typos) then the number and length of sequence reported will change."
   ]
  },
  {
   "cell_type": "markdown",
   "metadata": {},
   "source": [
    "<hr>\n",
    "<h2><font color='Blue'>Aligning the sequences</font></h2>\n",
    "In order to carry out a valid analysis you have to align the DNA sequences. If you're not quite sure why, look at the images below and discuss with a demonstrator. "
   ]
  },
  {
   "cell_type": "markdown",
   "metadata": {},
   "source": [
    "![Aligned DNA sequence](./images/aligned.png \"A DNA sequence alignment\")\n",
    "_A DNA sequence alignmnet. Each character (column) can be directly compared across the different species_"
   ]
  },
  {
   "cell_type": "markdown",
   "metadata": {},
   "source": [
    "![Un-aligned DNA sequence](./images/unaligned.png \"An incomplete  DNA sequence alignment\")\n",
    "_A set of DNA sequences not completely aligned. Each character (column) cannot be directly compared across the different species as some are 'shifted' so even though they are very similar, they look enormously different when just comparing down each column (character)_"
   ]
  },
  {
   "cell_type": "markdown",
   "metadata": {},
   "source": [
    "To align the sequences we will use a program called MAFFT [2]. What piece of information will we have to add to the code? Yes, the name of the input DNA sequence file to be aligned.\n",
    "\n",
    "<h4><font color='Blue'>ACTIONS:</font></h4>\n",
    "\n",
    "- Change the name of the file in the following code to be `ape.fas`\n",
    "- run the cell"
   ]
  },
  {
   "cell_type": "code",
   "execution_count": 1,
   "metadata": {},
   "outputs": [],
   "source": [
    "# ---------------------------\n",
    "# Align sequences using MAFFT\n",
    "# ---------------------------\n",
    "\n",
    "!mafft --auto --quiet data/ape.fas > ape.afa"
   ]
  },
  {
   "cell_type": "markdown",
   "metadata": {},
   "source": [
    "Did it work? Can you find the `ape.afa` file? The \".afa.\" extension stands for 'aligned fasta'"
   ]
  },
  {
   "cell_type": "markdown",
   "metadata": {},
   "source": [
    "<hr>\n",
    "<h2><font color='Blue'>QC the alignment</font></h2>\n",
    "Trimal [3] quality controls the alignment, removing badly aligned regions and alignment artefacts."
   ]
  },
  {
   "cell_type": "code",
   "execution_count": 2,
   "metadata": {},
   "outputs": [],
   "source": [
    "# ------------------------------------------\n",
    "# Quality control the alignment using trimal\n",
    "# ------------------------------------------\n",
    "\n",
    "!trimal -in ape.afa -out ape_trimmed.afa -gappyout -keepheader"
   ]
  },
  {
   "cell_type": "markdown",
   "metadata": {},
   "source": [
    "<hr>\n",
    "<h2><font color='Blue'>Tree reconstruction</font></h2>\n",
    "This section will reconstruct a maximum likelihood phylogenetic tree using the sequence alignment you have produced. We will use the program FastTree [4]."
   ]
  },
  {
   "cell_type": "code",
   "execution_count": 3,
   "metadata": {},
   "outputs": [
    {
     "name": "stdout",
     "output_type": "stream",
     "text": [
      "FastTree Version 2.1.10 Double precision (No SSE3)\n",
      "Alignment: ape_trimmed.afa\n",
      "Nucleotide distances: Jukes-Cantor Joins: balanced Support: SH-like 1000\n",
      "Search: Normal +NNI +SPR (2 rounds range 10) +ML-NNI opt-each=1\n",
      "TopHits: 1.00*sqrtN close=default refresh=0.80\n",
      "ML Model: Generalized Time-Reversible, CAT approximation with 20 rate categories\n",
      "Initial topology in 0.00 seconds\n",
      "Refining topology: 16 rounds ME-NNIs, 2 rounds ME-SPRs, 8 rounds ML-NNIs\n",
      "Total branch-length 0.477 after 0.08 sec\n",
      "ML-NNI round 1: LogLk = -1805.940 NNIs 2 max delta 0.00 Time 0.15\n",
      "GTR Frequencies: 0.3150 0.3149 0.1056 0.2645ep 6 of 12   \n",
      "GTR rates(ac ag at cg ct gt) 2.3845 14.9825 1.2609 1.5635 13.8255 1.0000\n",
      "Switched to using 20 rate categories (CAT approximation)\n",
      "Rate categories were divided by 0.732 so that average rate = 1.0\n",
      "CAT-based log-likelihoods may not be comparable across runs\n",
      "Use -gamma for approximate but comparable Gamma(20) log-likelihoods\n",
      "ML-NNI round 2: LogLk = -1589.440 NNIs 0 max delta 0.00 Time 0.32\n",
      "Turning off heuristics for final round of ML NNIs (converged)\n",
      "ML-NNI round 3: LogLk = -1589.426 NNIs 0 max delta 0.00 Time 0.36 (final)\n",
      "Optimize all lengths: LogLk = -1589.426 Time 0.36\n",
      "Total time: 0.42 seconds Unique: 17/19 Bad splits: 0/14\n"
     ]
    }
   ],
   "source": [
    "# -------------------------\n",
    "# Build tree using FastTree\n",
    "# -------------------------\n",
    "\n",
    "!FastTree -gtr -nt ape_trimmed.afa > ape.nwk"
   ]
  },
  {
   "cell_type": "markdown",
   "metadata": {},
   "source": [
    "<hr>"
   ]
  },
  {
   "cell_type": "markdown",
   "metadata": {},
   "source": [
    "The treebuilding program \"FastTree\" gives lots of output, you can just ignore all those details. When it is finished a file called `ape.nwk` will appear. This is a Newick tree file (.nwk) containing the tree as bracket notation text."
   ]
  },
  {
   "cell_type": "markdown",
   "metadata": {},
   "source": [
    "<hr>\n",
    "<h2><font color='Blue'>Tree Annotation and Viewing</font></h2>\n",
    "\n",
    "The tree alone (example below) is in bracket notation format (called Newick) and not very meaningful to examine.\n",
    "\n",
    "```\n",
    "((A,B),(C,D));\n",
    "```\n",
    "Instead we are going to display it as a graphic, and then annotate it to be easier to interpret. To do this we are going to use a tree graphics program called ToyTree [5]."
   ]
  },
  {
   "cell_type": "markdown",
   "metadata": {},
   "source": [
    "<h4><font color='Blue'>QUESTION:</font></h4>\n",
    "\n",
    "What treefile (.nwk) has just been written by the build tree cell above?\n",
    "\n",
    "<h4><font color='Blue'>ACTION:</font></h4>\n",
    "\n",
    "Take your newick treefile name and enter it into the cell below to replace \"tree.nwk\""
   ]
  },
  {
   "cell_type": "code",
   "execution_count": 4,
   "metadata": {},
   "outputs": [
    {
     "data": {
      "text/html": [
       "<div class=\"toyplot\" id=\"t72d5242952f54175abd08f396844bed7\" style=\"text-align:center\"><svg class=\"toyplot-canvas-Canvas\" height=\"342.0px\" id=\"t0685048044904409a2631ab720715d01\" preserveAspectRatio=\"xMidYMid meet\" style=\"background-color:transparent;border-color:#292724;border-style:none;border-width:1.0;fill:rgb(16.1%,15.3%,14.1%);fill-opacity:1.0;font-family:Helvetica;font-size:12px;opacity:1.0;stroke:rgb(16.1%,15.3%,14.1%);stroke-opacity:1.0;stroke-width:1.0\" viewBox=\"0 0 370.0 342.0\" width=\"370.0px\" xmlns=\"http://www.w3.org/2000/svg\" xmlns:toyplot=\"http://www.sandia.gov/toyplot\" xmlns:xlink=\"http://www.w3.org/1999/xlink\"><g class=\"toyplot-coordinates-Cartesian\" id=\"tb0d22734705840f5bae9b2ca847e77c7\"><clipPath id=\"t1203afafedee4d098bc9da47e2a117d2\"><rect height=\"282.0\" width=\"310.0\" x=\"30.0\" y=\"30.0\"></rect></clipPath><g clip-path=\"url(#t1203afafedee4d098bc9da47e2a117d2)\"><g class=\"toytree-mark-Toytree\" id=\"t2b29d016c61040159af266dea1a50999\"><g class=\"toytree-Edges\" style=\"fill:none;stroke:rgb(14.9%,14.9%,14.9%);stroke-linecap:round;stroke-opacity:1;stroke-width:2\"><path d=\"M 51.2 89.1 L 51.2 79.7 L 56.1 79.7\" id=\"34,33\"></path><path d=\"M 51.2 89.1 L 51.2 126.2 L 54.0 126.2\" id=\"34,32\"></path><path d=\"M 54.0 126.2 L 54.0 104.0 L 54.0 104.0\" id=\"32,31\"></path><path d=\"M 54.0 126.2 L 54.0 148.4 L 55.0 148.4\" id=\"32,30\"></path><path d=\"M 55.0 148.4 L 55.0 174.4 L 69.7 174.4\" id=\"30,29\"></path><path d=\"M 69.7 174.4 L 69.7 145.1 L 76.9 145.1\" id=\"29,28\"></path><path d=\"M 69.7 174.4 L 69.7 203.7 L 105.9 203.7\" id=\"29,27\"></path><path d=\"M 76.9 145.1 L 76.9 155.8 L 77.9 155.8\" id=\"28,26\"></path><path d=\"M 105.9 203.7 L 105.9 224.3 L 143.3 224.3\" id=\"27,25\"></path><path d=\"M 77.9 155.8 L 77.9 164.9 L 78.8 164.9\" id=\"26,24\"></path><path d=\"M 143.3 224.3 L 143.3 204.5 L 161.3 204.5\" id=\"25,23\"></path><path d=\"M 143.3 224.3 L 143.3 244.1 L 147.5 244.1\" id=\"25,22\"></path><path d=\"M 161.3 204.5 L 161.3 213.6 L 161.3 213.6\" id=\"23,21\"></path><path d=\"M 147.5 244.1 L 147.5 256.2 L 148.4 256.2\" id=\"22,20\"></path><path d=\"M 148.4 256.2 L 148.4 268.4 L 148.4 268.4\" id=\"20,19\"></path><path d=\"M 51.2 89.1 L 51.2 61.4 L 56.1 61.4\" id=\"34,18\"></path><path d=\"M 56.1 79.7 L 56.1 73.6 L 56.1 73.6\" id=\"33,17\"></path><path d=\"M 56.1 79.7 L 56.1 85.8 L 57.0 85.8\" id=\"33,16\"></path><path d=\"M 54.0 104.0 L 54.0 97.9 L 54.0 97.9\" id=\"31,15\"></path><path d=\"M 54.0 104.0 L 54.0 110.1 L 55.0 110.1\" id=\"31,14\"></path><path d=\"M 55.0 148.4 L 55.0 122.3 L 55.0 122.3\" id=\"30,13\"></path><path d=\"M 76.9 145.1 L 76.9 134.5 L 76.9 134.5\" id=\"28,12\"></path><path d=\"M 77.9 155.8 L 77.9 146.6 L 77.9 146.6\" id=\"26,11\"></path><path d=\"M 78.8 164.9 L 78.8 158.8 L 80.7 158.8\" id=\"24,10\"></path><path d=\"M 78.8 164.9 L 78.8 171.0 L 78.8 171.0\" id=\"24,9\"></path><path d=\"M 105.9 203.7 L 105.9 183.2 L 209.3 183.2\" id=\"27,8\"></path><path d=\"M 161.3 204.5 L 161.3 195.4 L 163.2 195.4\" id=\"23,7\"></path><path d=\"M 161.3 213.6 L 161.3 207.5 L 164.2 207.5\" id=\"21,6\"></path><path d=\"M 161.3 213.6 L 161.3 219.7 L 162.2 219.7\" id=\"21,5\"></path><path d=\"M 147.5 244.1 L 147.5 231.9 L 149.3 231.9\" id=\"22,4\"></path><path d=\"M 148.4 256.2 L 148.4 244.1 L 149.4 244.1\" id=\"20,3\"></path><path d=\"M 148.4 268.4 L 148.4 256.2 L 148.4 256.2\" id=\"19,2\"></path><path d=\"M 148.4 268.4 L 148.4 268.4 L 148.4 268.4\" id=\"19,1\"></path><path d=\"M 148.4 268.4 L 148.4 280.6 L 148.4 280.6\" id=\"19,0\"></path></g><g class=\"toytree-TipLabels\" style=\"fill:rgb(14.9%,14.9%,14.9%);fill-opacity:1.0;font-family:helvetica;font-size:11px;font-weight:normal;stroke:none;white-space:pre\"><g transform=\"translate(148.45,280.59)rotate(0)\"><text style=\"\" x=\"15.00\" y=\"2.81\">Pan_troglodytes5</text></g><g transform=\"translate(148.45,268.41)rotate(0)\"><text style=\"\" x=\"15.00\" y=\"2.81\">Pan_troglodytes4</text></g><g transform=\"translate(148.45,256.24)rotate(0)\"><text style=\"\" x=\"15.00\" y=\"2.81\">Pan_troglodytes3</text></g><g transform=\"translate(149.40,244.06)rotate(0)\"><text style=\"\" x=\"15.00\" y=\"2.81\">Pan_troglodytes1</text></g><g transform=\"translate(149.26,231.88)rotate(0)\"><text style=\"\" x=\"15.00\" y=\"2.81\">Pan_troglodytes6</text></g><g transform=\"translate(162.25,219.71)rotate(0)\"><text style=\"\" x=\"15.00\" y=\"2.81\">Pan_paniscus3</text></g><g transform=\"translate(164.18,207.53)rotate(0)\"><text style=\"\" x=\"15.00\" y=\"2.81\">Pan_paniscus2</text></g><g transform=\"translate(163.21,195.35)rotate(0)\"><text style=\"\" x=\"15.00\" y=\"2.81\">Pan_paniscus1</text></g><g transform=\"translate(209.29,183.18)rotate(0)\"><text style=\"\" x=\"15.00\" y=\"2.81\">Macaca_fascicularis</text></g><g transform=\"translate(78.83,171.00)rotate(0)\"><text style=\"\" x=\"15.00\" y=\"2.81\">Pongo_pygmaeus_pygmaeus1</text></g><g transform=\"translate(80.75,158.82)rotate(0)\"><text style=\"\" x=\"15.00\" y=\"2.81\">Pongo_pygmaeus_pygmaeus4</text></g><g transform=\"translate(77.87,146.65)rotate(0)\"><text style=\"\" x=\"15.00\" y=\"2.81\">Pongo_pygmaeus_pygmaeus3</text></g><g transform=\"translate(76.91,134.47)rotate(0)\"><text style=\"\" x=\"15.00\" y=\"2.81\">Pongo_pygmaeus_pygmaeus2</text></g><g transform=\"translate(54.99,122.29)rotate(0)\"><text style=\"\" x=\"15.00\" y=\"2.81\">Pongo_abelii2</text></g><g transform=\"translate(54.99,110.12)rotate(0)\"><text style=\"\" x=\"15.00\" y=\"2.81\">Pongo_abelii3</text></g><g transform=\"translate(54.04,97.94)rotate(0)\"><text style=\"\" x=\"15.00\" y=\"2.81\">Pongo_abelii1</text></g><g transform=\"translate(57.03,85.76)rotate(0)\"><text style=\"\" x=\"15.00\" y=\"2.81\">Pongo_abelii5</text></g><g transform=\"translate(56.07,73.59)rotate(0)\"><text style=\"\" x=\"15.00\" y=\"2.81\">Pongo_abelii4</text></g><g transform=\"translate(56.07,61.41)rotate(0)\"><text style=\"\" x=\"15.00\" y=\"2.81\">Pongo_abelii6</text></g></g></g></g></g></svg><div class=\"toyplot-behavior\"><script>(function()\n",
       "{\n",
       "var modules={};\n",
       "})();</script></div></div>"
      ]
     },
     "metadata": {},
     "output_type": "display_data"
    }
   ],
   "source": [
    "# -----------------------------------\n",
    "# Drawing the phylogeny using ToyTree\n",
    "# -----------------------------------\n",
    "# import the code so we can use it here\n",
    "import toytree       # a tree plotting library\n",
    "import toyplot       # a general plotting library\n",
    "# import numpy as np   # a numerical library, give it the shorthand 'np'\n",
    "\n",
    "# read the newick format tree file, give it the name 'newick'\n",
    "newick = \"ape.nwk\" # change this to point at your .nwk treefile\n",
    "tre = toytree.tree(newick, tree_format=1)\n",
    "\n",
    "tre.draw();"
   ]
  },
  {
   "cell_type": "markdown",
   "metadata": {},
   "source": [
    "If you see a graphic image of a phylogenetic tree, congratulations! If not please ask for a little help, its probably a quick fix for a demonstrator.\n",
    "\n",
    "<h4><font color='Blue'>NOW ROOT THE TREE</font></h4>\n",
    "\n",
    "Your tree will probably look very odd because it isn't yet rooted correctly. Use the next cell to root it by entering \"Macaca\" (Macacque) instead of \"outgroup\""
   ]
  },
  {
   "cell_type": "code",
   "execution_count": 5,
   "metadata": {},
   "outputs": [
    {
     "data": {
      "text/html": [
       "<div class=\"toyplot\" id=\"t03537d9009664755a8201dc43eee9f82\" style=\"text-align:center\"><svg class=\"toyplot-canvas-Canvas\" height=\"600.0px\" id=\"t7c1dc4bdaf1c438896f3b14a1b19bf57\" preserveAspectRatio=\"xMidYMid meet\" style=\"background-color:transparent;border-color:#292724;border-style:none;border-width:1.0;fill:rgb(16.1%,15.3%,14.1%);fill-opacity:1.0;font-family:Helvetica;font-size:12px;opacity:1.0;stroke:rgb(16.1%,15.3%,14.1%);stroke-opacity:1.0;stroke-width:1.0\" viewBox=\"0 0 370.0 600.0\" width=\"370.0px\" xmlns=\"http://www.w3.org/2000/svg\" xmlns:toyplot=\"http://www.sandia.gov/toyplot\" xmlns:xlink=\"http://www.w3.org/1999/xlink\"><g class=\"toyplot-coordinates-Cartesian\" id=\"t6c8ff42191654060981b3e3611b85851\"><clipPath id=\"t9b77278d7a1b473b918cba3ab6e3b28b\"><rect height=\"540.0\" width=\"310.0\" x=\"30.0\" y=\"30.0\"></rect></clipPath><g clip-path=\"url(#t9b77278d7a1b473b918cba3ab6e3b28b)\"><g class=\"toytree-mark-Toytree\" id=\"t5321f9fb497a4c159510520ff6ab9079\"><g class=\"toytree-Edges\" style=\"fill:none;stroke:rgb(14.9%,14.9%,14.9%);stroke-linecap:round;stroke-opacity:1;stroke-width:2\"><path d=\"M 51.0 164.3 L 51.0 266.5 L 114.5 266.5\" id=\"35,34\"></path><path d=\"M 114.5 266.5 L 114.5 151.2 L 160.3 151.2\" id=\"34,33\"></path><path d=\"M 114.5 266.5 L 114.5 381.8 L 158.8 381.8\" id=\"34,32\"></path><path d=\"M 160.3 151.2 L 160.3 108.3 L 182.4 108.3\" id=\"33,31\"></path><path d=\"M 160.3 151.2 L 160.3 194.2 L 165.5 194.2\" id=\"33,30\"></path><path d=\"M 158.8 381.8 L 158.8 323.1 L 167.6 323.1\" id=\"32,29\"></path><path d=\"M 158.8 381.8 L 158.8 440.5 L 176.9 440.5\" id=\"32,28\"></path><path d=\"M 182.4 108.3 L 182.4 128.1 L 182.4 128.1\" id=\"31,27\"></path><path d=\"M 165.5 194.2 L 165.5 220.7 L 166.7 220.7\" id=\"30,26\"></path><path d=\"M 167.6 323.1 L 167.6 346.3 L 168.8 346.3\" id=\"29,25\"></path><path d=\"M 176.9 440.5 L 176.9 475.2 L 178.1 475.2\" id=\"28,24\"></path><path d=\"M 166.7 220.7 L 166.7 247.1 L 166.7 247.1\" id=\"26,23\"></path><path d=\"M 168.8 346.3 L 168.8 366.1 L 170.0 366.1\" id=\"25,22\"></path><path d=\"M 178.1 475.2 L 178.1 445.4 L 178.1 445.4\" id=\"24,21\"></path><path d=\"M 178.1 475.2 L 178.1 504.9 L 181.6 504.9\" id=\"24,20\"></path><path d=\"M 181.6 504.9 L 181.6 524.8 L 187.6 524.8\" id=\"20,19\"></path><path d=\"M 51.0 164.3 L 51.0 62.0 L 114.5 62.0\" id=\"35,18\"></path><path d=\"M 182.4 108.3 L 182.4 88.4 L 184.8 88.4\" id=\"31,17\"></path><path d=\"M 182.4 128.1 L 182.4 114.9 L 186.0 114.9\" id=\"27,16\"></path><path d=\"M 182.4 128.1 L 182.4 141.3 L 183.6 141.3\" id=\"27,15\"></path><path d=\"M 165.5 194.2 L 165.5 167.8 L 167.7 167.8\" id=\"30,14\"></path><path d=\"M 166.7 220.7 L 166.7 194.2 L 167.9 194.2\" id=\"26,13\"></path><path d=\"M 166.7 247.1 L 166.7 220.7 L 166.7 220.7\" id=\"23,12\"></path><path d=\"M 166.7 247.1 L 166.7 247.1 L 166.7 247.1\" id=\"23,11\"></path><path d=\"M 166.7 247.1 L 166.7 273.6 L 166.7 273.6\" id=\"23,10\"></path><path d=\"M 167.6 323.1 L 167.6 300.0 L 167.6 300.0\" id=\"29,9\"></path><path d=\"M 168.8 346.3 L 168.8 326.4 L 168.8 326.4\" id=\"25,8\"></path><path d=\"M 170.0 366.1 L 170.0 352.9 L 172.3 352.9\" id=\"22,7\"></path><path d=\"M 170.0 366.1 L 170.0 379.3 L 170.0 379.3\" id=\"22,6\"></path><path d=\"M 176.9 440.5 L 176.9 405.8 L 176.9 405.8\" id=\"28,5\"></path><path d=\"M 178.1 445.4 L 178.1 432.2 L 178.1 432.2\" id=\"21,4\"></path><path d=\"M 178.1 445.4 L 178.1 458.7 L 179.2 458.7\" id=\"21,3\"></path><path d=\"M 181.6 504.9 L 181.6 485.1 L 187.6 485.1\" id=\"20,2\"></path><path d=\"M 187.6 524.8 L 187.6 511.6 L 187.6 511.6\" id=\"19,1\"></path><path d=\"M 187.6 524.8 L 187.6 538.0 L 188.8 538.0\" id=\"19,0\"></path></g><g class=\"toytree-AlignEdges\" style=\"stroke:rgb(66.3%,66.3%,66.3%);stroke-dasharray:2, 4;stroke-linecap:round;stroke-opacity:1.0;stroke-width:2\"><path d=\"M 188.8 538.0 L 188.8 538.0\"></path><path d=\"M 188.8 511.6 L 187.6 511.6\"></path><path d=\"M 188.8 485.1 L 187.6 485.1\"></path><path d=\"M 188.8 458.7 L 179.2 458.7\"></path><path d=\"M 188.8 432.2 L 178.1 432.2\"></path><path d=\"M 188.8 405.8 L 176.9 405.8\"></path><path d=\"M 188.8 379.3 L 170.0 379.3\"></path><path d=\"M 188.8 352.9 L 172.3 352.9\"></path><path d=\"M 188.8 326.4 L 168.8 326.4\"></path><path d=\"M 188.8 300.0 L 167.6 300.0\"></path><path d=\"M 188.8 273.6 L 166.7 273.6\"></path><path d=\"M 188.8 247.1 L 166.7 247.1\"></path><path d=\"M 188.8 220.7 L 166.7 220.7\"></path><path d=\"M 188.8 194.2 L 167.9 194.2\"></path><path d=\"M 188.8 167.8 L 167.7 167.8\"></path><path d=\"M 188.8 141.3 L 183.6 141.3\"></path><path d=\"M 188.8 114.9 L 186.0 114.9\"></path><path d=\"M 188.8 88.4 L 184.8 88.4\"></path><path d=\"M 188.8 62.0 L 114.5 62.0\"></path></g><g class=\"toytree-TipLabels\" style=\"fill:rgb(14.9%,14.9%,14.9%);fill-opacity:1.0;font-family:helvetica;font-size:11px;font-weight:normal;stroke:none;white-space:pre\"><g transform=\"translate(188.76,538.00)rotate(0)\"><text style=\"\" x=\"15.00\" y=\"2.81\">Pongo_abelii5</text></g><g transform=\"translate(188.76,511.56)rotate(0)\"><text style=\"\" x=\"15.00\" y=\"2.81\">Pongo_abelii4</text></g><g transform=\"translate(188.76,485.11)rotate(0)\"><text style=\"\" x=\"15.00\" y=\"2.81\">Pongo_abelii6</text></g><g transform=\"translate(188.76,458.67)rotate(0)\"><text style=\"\" x=\"15.00\" y=\"2.81\">Pongo_abelii3</text></g><g transform=\"translate(188.76,432.22)rotate(0)\"><text style=\"\" x=\"15.00\" y=\"2.81\">Pongo_abelii1</text></g><g transform=\"translate(188.76,405.78)rotate(0)\"><text style=\"\" x=\"15.00\" y=\"2.81\">Pongo_abelii2</text></g><g transform=\"translate(188.76,379.33)rotate(0)\"><text style=\"\" x=\"15.00\" y=\"2.81\">Pongo_pygmaeus_pygmaeus1</text></g><g transform=\"translate(188.76,352.89)rotate(0)\"><text style=\"\" x=\"15.00\" y=\"2.81\">Pongo_pygmaeus_pygmaeus4</text></g><g transform=\"translate(188.76,326.44)rotate(0)\"><text style=\"\" x=\"15.00\" y=\"2.81\">Pongo_pygmaeus_pygmaeus3</text></g><g transform=\"translate(188.76,300.00)rotate(0)\"><text style=\"\" x=\"15.00\" y=\"2.81\">Pongo_pygmaeus_pygmaeus2</text></g><g transform=\"translate(188.76,273.56)rotate(0)\"><text style=\"\" x=\"15.00\" y=\"2.81\">Pan_troglodytes5</text></g><g transform=\"translate(188.76,247.11)rotate(0)\"><text style=\"\" x=\"15.00\" y=\"2.81\">Pan_troglodytes4</text></g><g transform=\"translate(188.76,220.67)rotate(0)\"><text style=\"\" x=\"15.00\" y=\"2.81\">Pan_troglodytes3</text></g><g transform=\"translate(188.76,194.22)rotate(0)\"><text style=\"\" x=\"15.00\" y=\"2.81\">Pan_troglodytes1</text></g><g transform=\"translate(188.76,167.78)rotate(0)\"><text style=\"\" x=\"15.00\" y=\"2.81\">Pan_troglodytes6</text></g><g transform=\"translate(188.76,141.33)rotate(0)\"><text style=\"\" x=\"15.00\" y=\"2.81\">Pan_paniscus3</text></g><g transform=\"translate(188.76,114.89)rotate(0)\"><text style=\"\" x=\"15.00\" y=\"2.81\">Pan_paniscus2</text></g><g transform=\"translate(188.76,88.44)rotate(0)\"><text style=\"\" x=\"15.00\" y=\"2.81\">Pan_paniscus1</text></g><g transform=\"translate(188.76,62.00)rotate(0)\"><text style=\"\" x=\"15.00\" y=\"2.81\">Macaca_fascicularis</text></g></g></g></g></g></svg><div class=\"toyplot-behavior\"><script>(function()\n",
       "{\n",
       "var modules={};\n",
       "})();</script></div></div>"
      ]
     },
     "metadata": {},
     "output_type": "display_data"
    }
   ],
   "source": [
    "# ----------------\n",
    "# Root and re-draw\n",
    "# ----------------\n",
    "# root and draw the tree\n",
    "rtre = tre.root(wildcard=\"Macaca\") # specify the outgroup taxon\n",
    "rtre.draw(height=600, tip_labels_align=True); # draw the tree"
   ]
  },
  {
   "cell_type": "markdown",
   "metadata": {},
   "source": [
    "You should now have a tree that reveals a lot about the relationships betwen these species. It will be easier to interpret though when you put it into a report if you annotate and colour it by taxon."
   ]
  },
  {
   "cell_type": "markdown",
   "metadata": {},
   "source": [
    "<h4><font color='Blue'>NOW ANNOTATE THE TREE:</font></h4>\n",
    "Although you now have 'the answer' it is not so easy to study this tree. You will need to compare the divergences between the two species of orangutan and compare those to the divergences between the two species of chimpanzee. In this simple tree its not too hard, but in general phylogeneticists label and colour to maintain focus on the correct comaprisons. You are now going to use the script below to colour in the tips by their species identity. \n",
    "\n",
    "Run the cell and examine the tree"
   ]
  },
  {
   "cell_type": "code",
   "execution_count": 6,
   "metadata": {},
   "outputs": [
    {
     "data": {
      "text/html": [
       "<div class=\"toyplot\" id=\"t4da29c305a814fc98fb0f36e5a258720\" style=\"text-align:center\"><svg class=\"toyplot-canvas-Canvas\" height=\"600.0px\" id=\"t5f7a34d57124438eb5f793c56f17e78e\" preserveAspectRatio=\"xMidYMid meet\" style=\"background-color:transparent;border-color:#292724;border-style:none;border-width:1.0;fill:rgb(16.1%,15.3%,14.1%);fill-opacity:1.0;font-family:Helvetica;font-size:12px;opacity:1.0;stroke:rgb(16.1%,15.3%,14.1%);stroke-opacity:1.0;stroke-width:1.0\" viewBox=\"0 0 600.0 600.0\" width=\"600.0px\" xmlns=\"http://www.w3.org/2000/svg\" xmlns:toyplot=\"http://www.sandia.gov/toyplot\" xmlns:xlink=\"http://www.w3.org/1999/xlink\"><g class=\"toyplot-coordinates-Cartesian\" id=\"t5d4faa9182ff4417a0e5640c67602bcd\"><clipPath id=\"t824806857b1a4a5a82456522f50d1518\"><rect height=\"540.0\" width=\"540.0\" x=\"30.0\" y=\"30.0\"></rect></clipPath><g clip-path=\"url(#t824806857b1a4a5a82456522f50d1518)\"><g class=\"toytree-mark-Toytree\" id=\"t268ca4f01b064b3bbacf3eeeaa648917\"><g class=\"toytree-Edges\" style=\"fill:none;stroke:rgb(14.9%,14.9%,14.9%);stroke-linecap:round;stroke-opacity:1;stroke-width:2\"><path d=\"M 50.0 164.3 L 50.0 266.5 L 207.8 266.5\" id=\"35,34\"></path><path d=\"M 207.8 266.5 L 207.8 151.2 L 321.8 151.2\" id=\"34,33\"></path><path d=\"M 207.8 266.5 L 207.8 381.8 L 318.1 381.8\" id=\"34,32\"></path><path d=\"M 321.8 151.2 L 321.8 108.3 L 376.8 108.3\" id=\"33,31\"></path><path d=\"M 321.8 151.2 L 321.8 194.2 L 334.8 194.2\" id=\"33,30\"></path><path d=\"M 318.1 381.8 L 318.1 323.1 L 340.0 323.1\" id=\"32,29\"></path><path d=\"M 318.1 381.8 L 318.1 440.5 L 363.0 440.5\" id=\"32,28\"></path><path d=\"M 376.8 108.3 L 376.8 128.1 L 376.8 128.1\" id=\"31,27\"></path><path d=\"M 334.8 194.2 L 334.8 220.7 L 337.7 220.7\" id=\"30,26\"></path><path d=\"M 340.0 323.1 L 340.0 346.3 L 342.9 346.3\" id=\"29,25\"></path><path d=\"M 363.0 440.5 L 363.0 475.2 L 365.9 475.2\" id=\"28,24\"></path><path d=\"M 337.7 220.7 L 337.7 247.1 L 337.7 247.1\" id=\"26,23\"></path><path d=\"M 342.9 346.3 L 342.9 366.1 L 345.8 366.1\" id=\"25,22\"></path><path d=\"M 365.9 475.2 L 365.9 445.4 L 365.9 445.4\" id=\"24,21\"></path><path d=\"M 365.9 475.2 L 365.9 504.9 L 374.7 504.9\" id=\"24,20\"></path><path d=\"M 374.7 504.9 L 374.7 524.8 L 389.6 524.8\" id=\"20,19\"></path><path d=\"M 50.0 164.3 L 50.0 62.0 L 207.8 62.0\" id=\"35,18\"></path><path d=\"M 376.8 108.3 L 376.8 88.4 L 382.7 88.4\" id=\"31,17\"></path><path d=\"M 376.8 128.1 L 376.8 114.9 L 385.7 114.9\" id=\"27,16\"></path><path d=\"M 376.8 128.1 L 376.8 141.3 L 379.8 141.3\" id=\"27,15\"></path><path d=\"M 334.8 194.2 L 334.8 167.8 L 340.1 167.8\" id=\"30,14\"></path><path d=\"M 337.7 220.7 L 337.7 194.2 L 340.6 194.2\" id=\"26,13\"></path><path d=\"M 337.7 247.1 L 337.7 220.7 L 337.7 220.7\" id=\"23,12\"></path><path d=\"M 337.7 247.1 L 337.7 247.1 L 337.7 247.1\" id=\"23,11\"></path><path d=\"M 337.7 247.1 L 337.7 273.6 L 337.7 273.6\" id=\"23,10\"></path><path d=\"M 340.0 323.1 L 340.0 300.0 L 340.0 300.0\" id=\"29,9\"></path><path d=\"M 342.9 346.3 L 342.9 326.4 L 342.9 326.4\" id=\"25,8\"></path><path d=\"M 345.8 366.1 L 345.8 352.9 L 351.7 352.9\" id=\"22,7\"></path><path d=\"M 345.8 366.1 L 345.8 379.3 L 345.8 379.3\" id=\"22,6\"></path><path d=\"M 363.0 440.5 L 363.0 405.8 L 363.0 405.8\" id=\"28,5\"></path><path d=\"M 365.9 445.4 L 365.9 432.2 L 365.9 432.2\" id=\"21,4\"></path><path d=\"M 365.9 445.4 L 365.9 458.7 L 368.8 458.7\" id=\"21,3\"></path><path d=\"M 374.7 504.9 L 374.7 485.1 L 389.6 485.1\" id=\"20,2\"></path><path d=\"M 389.6 524.8 L 389.6 511.6 L 389.6 511.6\" id=\"19,1\"></path><path d=\"M 389.6 524.8 L 389.6 538.0 L 392.6 538.0\" id=\"19,0\"></path></g><g class=\"toytree-AlignEdges\" style=\"stroke:rgb(66.3%,66.3%,66.3%);stroke-dasharray:2, 4;stroke-linecap:round;stroke-opacity:1.0;stroke-width:2\"><path d=\"M 392.6 538.0 L 392.6 538.0\"></path><path d=\"M 392.6 511.6 L 389.6 511.6\"></path><path d=\"M 392.6 485.1 L 389.6 485.1\"></path><path d=\"M 392.6 458.7 L 368.8 458.7\"></path><path d=\"M 392.6 432.2 L 365.9 432.2\"></path><path d=\"M 392.6 405.8 L 363.0 405.8\"></path><path d=\"M 392.6 379.3 L 345.8 379.3\"></path><path d=\"M 392.6 352.9 L 351.7 352.9\"></path><path d=\"M 392.6 326.4 L 342.9 326.4\"></path><path d=\"M 392.6 300.0 L 340.0 300.0\"></path><path d=\"M 392.6 273.6 L 337.7 273.6\"></path><path d=\"M 392.6 247.1 L 337.7 247.1\"></path><path d=\"M 392.6 220.7 L 337.7 220.7\"></path><path d=\"M 392.6 194.2 L 340.6 194.2\"></path><path d=\"M 392.6 167.8 L 340.1 167.8\"></path><path d=\"M 392.6 141.3 L 379.8 141.3\"></path><path d=\"M 392.6 114.9 L 385.7 114.9\"></path><path d=\"M 392.6 88.4 L 382.7 88.4\"></path><path d=\"M 392.6 62.0 L 207.8 62.0\"></path></g><g class=\"toytree-Nodes\" style=\"fill:rgb(40%,76.1%,64.7%);fill-opacity:1.0;stroke:None;stroke-width:1\"><g id=\"node-0\" transform=\"translate(392.565,538.005)\"><rect height=\"8\" width=\"8\" x=\"-4.0\" y=\"-4.0\"></rect></g><g id=\"node-1\" transform=\"translate(389.645,511.560)\"><rect height=\"8\" width=\"8\" x=\"-4.0\" y=\"-4.0\"></rect></g><g id=\"node-2\" transform=\"translate(389.619,485.115)\"><rect height=\"8\" width=\"8\" x=\"-4.0\" y=\"-4.0\"></rect></g><g id=\"node-3\" transform=\"translate(368.849,458.670)\"><rect height=\"8\" width=\"8\" x=\"-4.0\" y=\"-4.0\"></rect></g><g id=\"node-4\" transform=\"translate(365.938,432.225)\"><rect height=\"8\" width=\"8\" x=\"-4.0\" y=\"-4.0\"></rect></g><g id=\"node-5\" transform=\"translate(363.024,405.780)\"><rect height=\"8\" width=\"8\" x=\"-4.0\" y=\"-4.0\"></rect></g><g id=\"node-6\" transform=\"translate(345.804,379.335)\"><rect height=\"8\" width=\"8\" x=\"-4.0\" y=\"-4.0\"></rect></g><g id=\"node-7\" transform=\"translate(351.665,352.890)\"><rect height=\"8\" width=\"8\" x=\"-4.0\" y=\"-4.0\"></rect></g><g id=\"node-8\" transform=\"translate(342.883,326.445)\"><rect height=\"8\" width=\"8\" x=\"-4.0\" y=\"-4.0\"></rect></g><g id=\"node-9\" transform=\"translate(339.962,300.000)\"><rect height=\"8\" width=\"8\" x=\"-4.0\" y=\"-4.0\"></rect></g><g id=\"node-10\" transform=\"translate(337.651,273.555)\"><rect height=\"8\" width=\"8\" x=\"-4.0\" y=\"-4.0\"></rect></g><g id=\"node-11\" transform=\"translate(337.651,247.110)\"><rect height=\"8\" width=\"8\" x=\"-4.0\" y=\"-4.0\"></rect></g><g id=\"node-12\" transform=\"translate(337.651,220.665)\"><rect height=\"8\" width=\"8\" x=\"-4.0\" y=\"-4.0\"></rect></g><g id=\"node-13\" transform=\"translate(340.573,194.220)\"><rect height=\"8\" width=\"8\" x=\"-4.0\" y=\"-4.0\"></rect></g><g id=\"node-14\" transform=\"translate(340.128,167.775)\"><rect height=\"8\" width=\"8\" x=\"-4.0\" y=\"-4.0\"></rect></g><g id=\"node-15\" transform=\"translate(379.756,141.330)\"><rect height=\"8\" width=\"8\" x=\"-4.0\" y=\"-4.0\"></rect></g><g id=\"node-16\" transform=\"translate(385.662,114.885)\"><rect height=\"8\" width=\"8\" x=\"-4.0\" y=\"-4.0\"></rect></g><g id=\"node-17\" transform=\"translate(382.711,88.440)\"><rect height=\"8\" width=\"8\" x=\"-4.0\" y=\"-4.0\"></rect></g><g id=\"node-18\" transform=\"translate(207.767,61.995)\"><rect height=\"8\" width=\"8\" x=\"-4.0\" y=\"-4.0\"></rect></g><g id=\"node-19\" transform=\"translate(389.645,524.782)\"><rect height=\"0\" width=\"0\" x=\"0.0\" y=\"0.0\"></rect></g><g id=\"node-20\" transform=\"translate(374.684,504.948)\"><rect height=\"0\" width=\"0\" x=\"0.0\" y=\"0.0\"></rect></g><g id=\"node-21\" transform=\"translate(365.938,445.447)\"><rect height=\"0\" width=\"0\" x=\"0.0\" y=\"0.0\"></rect></g><g id=\"node-22\" transform=\"translate(345.804,366.112)\"><rect height=\"0\" width=\"0\" x=\"0.0\" y=\"0.0\"></rect></g><g id=\"node-23\" transform=\"translate(337.651,247.110)\"><rect height=\"0\" width=\"0\" x=\"0.0\" y=\"0.0\"></rect></g><g id=\"node-24\" transform=\"translate(365.938,475.198)\"><rect height=\"0\" width=\"0\" x=\"0.0\" y=\"0.0\"></rect></g><g id=\"node-25\" transform=\"translate(342.883,346.279)\"><rect height=\"0\" width=\"0\" x=\"0.0\" y=\"0.0\"></rect></g><g id=\"node-26\" transform=\"translate(337.651,220.665)\"><rect height=\"0\" width=\"0\" x=\"0.0\" y=\"0.0\"></rect></g><g id=\"node-27\" transform=\"translate(376.809,128.108)\"><rect height=\"0\" width=\"0\" x=\"0.0\" y=\"0.0\"></rect></g><g id=\"node-28\" transform=\"translate(363.024,440.489)\"><rect height=\"0\" width=\"0\" x=\"0.0\" y=\"0.0\"></rect></g><g id=\"node-29\" transform=\"translate(339.962,323.139)\"><rect height=\"0\" width=\"0\" x=\"0.0\" y=\"0.0\"></rect></g><g id=\"node-30\" transform=\"translate(334.766,194.220)\"><rect height=\"0\" width=\"0\" x=\"0.0\" y=\"0.0\"></rect></g><g id=\"node-31\" transform=\"translate(376.809,108.274)\"><rect height=\"0\" width=\"0\" x=\"0.0\" y=\"0.0\"></rect></g><g id=\"node-32\" transform=\"translate(318.050,381.814)\"><rect height=\"0\" width=\"0\" x=\"0.0\" y=\"0.0\"></rect></g><g id=\"node-33\" transform=\"translate(321.821,151.247)\"><rect height=\"0\" width=\"0\" x=\"0.0\" y=\"0.0\"></rect></g><g id=\"node-34\" transform=\"translate(207.767,266.531)\"><rect height=\"0\" width=\"0\" x=\"0.0\" y=\"0.0\"></rect></g><g id=\"node-35\" transform=\"translate(50.000,164.263)\"><rect height=\"0\" width=\"0\" x=\"0.0\" y=\"0.0\"></rect></g></g><g class=\"toytree-TipLabels\" style=\"fill:rgb(14.9%,14.9%,14.9%);fill-opacity:1.0;font-family:helvetica;font-size:11px;font-weight:normal;stroke:none;white-space:pre\"><g transform=\"translate(392.56,538.00)rotate(0)\"><text style=\"fill:rgb(100%,0%,0%);fill-opacity:1.0\" x=\"15.00\" y=\"2.81\">Pongo_abelii5</text></g><g transform=\"translate(392.56,511.56)rotate(0)\"><text style=\"fill:rgb(100%,0%,0%);fill-opacity:1.0\" x=\"15.00\" y=\"2.81\">Pongo_abelii4</text></g><g transform=\"translate(392.56,485.11)rotate(0)\"><text style=\"fill:rgb(100%,0%,0%);fill-opacity:1.0\" x=\"15.00\" y=\"2.81\">Pongo_abelii6</text></g><g transform=\"translate(392.56,458.67)rotate(0)\"><text style=\"fill:rgb(100%,0%,0%);fill-opacity:1.0\" x=\"15.00\" y=\"2.81\">Pongo_abelii3</text></g><g transform=\"translate(392.56,432.22)rotate(0)\"><text style=\"fill:rgb(100%,0%,0%);fill-opacity:1.0\" x=\"15.00\" y=\"2.81\">Pongo_abelii1</text></g><g transform=\"translate(392.56,405.78)rotate(0)\"><text style=\"fill:rgb(100%,0%,0%);fill-opacity:1.0\" x=\"15.00\" y=\"2.81\">Pongo_abelii2</text></g><g transform=\"translate(392.56,379.33)rotate(0)\"><text style=\"fill:rgb(64.7%,16.5%,16.5%);fill-opacity:1.0\" x=\"15.00\" y=\"2.81\">Pongo_pygmaeus_pygmaeus1</text></g><g transform=\"translate(392.56,352.89)rotate(0)\"><text style=\"fill:rgb(64.7%,16.5%,16.5%);fill-opacity:1.0\" x=\"15.00\" y=\"2.81\">Pongo_pygmaeus_pygmaeus4</text></g><g transform=\"translate(392.56,326.44)rotate(0)\"><text style=\"fill:rgb(64.7%,16.5%,16.5%);fill-opacity:1.0\" x=\"15.00\" y=\"2.81\">Pongo_pygmaeus_pygmaeus3</text></g><g transform=\"translate(392.56,300.00)rotate(0)\"><text style=\"fill:rgb(64.7%,16.5%,16.5%);fill-opacity:1.0\" x=\"15.00\" y=\"2.81\">Pongo_pygmaeus_pygmaeus2</text></g><g transform=\"translate(392.56,273.56)rotate(0)\"><text style=\"fill:rgb(0%,0%,54.5%);fill-opacity:1.0\" x=\"15.00\" y=\"2.81\">Pan_troglodytes5</text></g><g transform=\"translate(392.56,247.11)rotate(0)\"><text style=\"fill:rgb(0%,0%,54.5%);fill-opacity:1.0\" x=\"15.00\" y=\"2.81\">Pan_troglodytes4</text></g><g transform=\"translate(392.56,220.67)rotate(0)\"><text style=\"fill:rgb(0%,0%,54.5%);fill-opacity:1.0\" x=\"15.00\" y=\"2.81\">Pan_troglodytes3</text></g><g transform=\"translate(392.56,194.22)rotate(0)\"><text style=\"fill:rgb(0%,0%,54.5%);fill-opacity:1.0\" x=\"15.00\" y=\"2.81\">Pan_troglodytes1</text></g><g transform=\"translate(392.56,167.78)rotate(0)\"><text style=\"fill:rgb(0%,0%,54.5%);fill-opacity:1.0\" x=\"15.00\" y=\"2.81\">Pan_troglodytes6</text></g><g transform=\"translate(392.56,141.33)rotate(0)\"><text style=\"fill:rgb(0%,0%,100%);fill-opacity:1.0\" x=\"15.00\" y=\"2.81\">Pan_paniscus3</text></g><g transform=\"translate(392.56,114.89)rotate(0)\"><text style=\"fill:rgb(0%,0%,100%);fill-opacity:1.0\" x=\"15.00\" y=\"2.81\">Pan_paniscus2</text></g><g transform=\"translate(392.56,88.44)rotate(0)\"><text style=\"fill:rgb(0%,0%,100%);fill-opacity:1.0\" x=\"15.00\" y=\"2.81\">Pan_paniscus1</text></g><g transform=\"translate(392.56,62.00)rotate(0)\"><text style=\"fill:rgb(32.5%,51.8%,63.9%);fill-opacity:1.0\" x=\"15.00\" y=\"2.81\">Macaca_fascicularis</text></g></g></g></g><g class=\"toyplot-coordinates-Axis\" id=\"tf45ad35888fe48278872e7b33dc7bd28\" transform=\"translate(50.0,550.0)translate(0,20.0)\"><line style=\"\" x1=\"0\" x2=\"342.56491506149564\" y1=\"0\" y2=\"0\"></line><g><line style=\"\" x1=\"342.56491506149564\" x2=\"342.56491506149564\" y1=\"0\" y2=\"-5\"></line><line style=\"\" x1=\"274.0519320491965\" x2=\"274.0519320491965\" y1=\"0\" y2=\"-5\"></line><line style=\"\" x1=\"205.5389490368974\" x2=\"205.5389490368974\" y1=\"0\" y2=\"-5\"></line><line style=\"\" x1=\"137.0259660245983\" x2=\"137.0259660245983\" y1=\"0\" y2=\"-5\"></line><line style=\"\" x1=\"68.51298301229915\" x2=\"68.51298301229915\" y1=\"0\" y2=\"-5\"></line><line style=\"\" x1=\"0.0\" x2=\"0.0\" y1=\"0\" y2=\"-5\"></line></g><g><g transform=\"translate(342.56491506149564,6)\"><text style=\"fill:rgb(16.1%,15.3%,14.1%);fill-opacity:1.0;font-family:helvetica;font-size:10.0px;font-weight:normal;stroke:none;vertical-align:baseline;white-space:pre\" x=\"-9.729999999999999\" y=\"8.555\">0.00</text></g><g transform=\"translate(274.0519320491965,6)\"><text style=\"fill:rgb(16.1%,15.3%,14.1%);fill-opacity:1.0;font-family:helvetica;font-size:10.0px;font-weight:normal;stroke:none;vertical-align:baseline;white-space:pre\" x=\"-9.729999999999999\" y=\"8.555\">0.06</text></g><g transform=\"translate(205.5389490368974,6)\"><text style=\"fill:rgb(16.1%,15.3%,14.1%);fill-opacity:1.0;font-family:helvetica;font-size:10.0px;font-weight:normal;stroke:none;vertical-align:baseline;white-space:pre\" x=\"-9.729999999999999\" y=\"8.555\">0.11</text></g><g transform=\"translate(137.0259660245983,6)\"><text style=\"fill:rgb(16.1%,15.3%,14.1%);fill-opacity:1.0;font-family:helvetica;font-size:10.0px;font-weight:normal;stroke:none;vertical-align:baseline;white-space:pre\" x=\"-9.729999999999999\" y=\"8.555\">0.17</text></g><g transform=\"translate(68.51298301229915,6)\"><text style=\"fill:rgb(16.1%,15.3%,14.1%);fill-opacity:1.0;font-family:helvetica;font-size:10.0px;font-weight:normal;stroke:none;vertical-align:baseline;white-space:pre\" x=\"-9.729999999999999\" y=\"8.555\">0.23</text></g><g transform=\"translate(0.0,6)\"><text style=\"fill:rgb(16.1%,15.3%,14.1%);fill-opacity:1.0;font-family:helvetica;font-size:10.0px;font-weight:normal;stroke:none;vertical-align:baseline;white-space:pre\" x=\"-9.729999999999999\" y=\"8.555\">0.29</text></g></g><g class=\"toyplot-coordinates-Axis-coordinates\" style=\"visibility:hidden\" transform=\"\"><line style=\"stroke:rgb(43.9%,50.2%,56.5%);stroke-opacity:1.0;stroke-width:1.0\" x1=\"0\" x2=\"0\" y1=\"-3.0\" y2=\"4.5\"></line><text style=\"alignment-baseline:alphabetic;fill:rgb(43.9%,50.2%,56.5%);fill-opacity:1.0;font-size:10px;font-weight:normal;stroke:none;text-anchor:middle\" x=\"0\" y=\"-6\"></text></g></g></g></svg><div class=\"toyplot-behavior\"><script>(function()\n",
       "{\n",
       "var modules={};\n",
       "modules[\"toyplot/canvas/id\"] = \"t5f7a34d57124438eb5f793c56f17e78e\";\n",
       "modules[\"toyplot/canvas\"] = (function(canvas_id)\n",
       "    {\n",
       "        return document.querySelector(\"#\" + canvas_id);\n",
       "    })(modules[\"toyplot/canvas/id\"]);\n",
       "modules[\"toyplot.coordinates.Axis\"] = (\n",
       "        function(canvas)\n",
       "        {\n",
       "            function sign(x)\n",
       "            {\n",
       "                return x < 0 ? -1 : x > 0 ? 1 : 0;\n",
       "            }\n",
       "\n",
       "            function mix(a, b, amount)\n",
       "            {\n",
       "                return ((1.0 - amount) * a) + (amount * b);\n",
       "            }\n",
       "\n",
       "            function log(x, base)\n",
       "            {\n",
       "                return Math.log(Math.abs(x)) / Math.log(base);\n",
       "            }\n",
       "\n",
       "            function in_range(a, x, b)\n",
       "            {\n",
       "                var left = Math.min(a, b);\n",
       "                var right = Math.max(a, b);\n",
       "                return left <= x && x <= right;\n",
       "            }\n",
       "\n",
       "            function inside(range, projection)\n",
       "            {\n",
       "                for(var i = 0; i != projection.length; ++i)\n",
       "                {\n",
       "                    var segment = projection[i];\n",
       "                    if(in_range(segment.range.min, range, segment.range.max))\n",
       "                        return true;\n",
       "                }\n",
       "                return false;\n",
       "            }\n",
       "\n",
       "            function to_domain(range, projection)\n",
       "            {\n",
       "                for(var i = 0; i != projection.length; ++i)\n",
       "                {\n",
       "                    var segment = projection[i];\n",
       "                    if(in_range(segment.range.bounds.min, range, segment.range.bounds.max))\n",
       "                    {\n",
       "                        if(segment.scale == \"linear\")\n",
       "                        {\n",
       "                            var amount = (range - segment.range.min) / (segment.range.max - segment.range.min);\n",
       "                            return mix(segment.domain.min, segment.domain.max, amount)\n",
       "                        }\n",
       "                        else if(segment.scale[0] == \"log\")\n",
       "                        {\n",
       "                            var amount = (range - segment.range.min) / (segment.range.max - segment.range.min);\n",
       "                            var base = segment.scale[1];\n",
       "                            return sign(segment.domain.min) * Math.pow(base, mix(log(segment.domain.min, base), log(segment.domain.max, base), amount));\n",
       "                        }\n",
       "                    }\n",
       "                }\n",
       "            }\n",
       "\n",
       "            var axes = {};\n",
       "\n",
       "            function display_coordinates(e)\n",
       "            {\n",
       "                var current = canvas.createSVGPoint();\n",
       "                current.x = e.clientX;\n",
       "                current.y = e.clientY;\n",
       "\n",
       "                for(var axis_id in axes)\n",
       "                {\n",
       "                    var axis = document.querySelector(\"#\" + axis_id);\n",
       "                    var coordinates = axis.querySelector(\".toyplot-coordinates-Axis-coordinates\");\n",
       "                    if(coordinates)\n",
       "                    {\n",
       "                        var projection = axes[axis_id];\n",
       "                        var local = current.matrixTransform(axis.getScreenCTM().inverse());\n",
       "                        if(inside(local.x, projection))\n",
       "                        {\n",
       "                            var domain = to_domain(local.x, projection);\n",
       "                            coordinates.style.visibility = \"visible\";\n",
       "                            coordinates.setAttribute(\"transform\", \"translate(\" + local.x + \")\");\n",
       "                            var text = coordinates.querySelector(\"text\");\n",
       "                            text.textContent = domain.toFixed(2);\n",
       "                        }\n",
       "                        else\n",
       "                        {\n",
       "                            coordinates.style.visibility= \"hidden\";\n",
       "                        }\n",
       "                    }\n",
       "                }\n",
       "            }\n",
       "\n",
       "            canvas.addEventListener(\"click\", display_coordinates);\n",
       "\n",
       "            var module = {};\n",
       "            module.show_coordinates = function(axis_id, projection)\n",
       "            {\n",
       "                axes[axis_id] = projection;\n",
       "            }\n",
       "\n",
       "            return module;\n",
       "        })(modules[\"toyplot/canvas\"]);\n",
       "(function(axis, axis_id, projection)\n",
       "        {\n",
       "            axis.show_coordinates(axis_id, projection);\n",
       "        })(modules[\"toyplot.coordinates.Axis\"],\"tf45ad35888fe48278872e7b33dc7bd28\",[{\"domain\": {\"bounds\": {\"max\": Infinity, \"min\": -Infinity}, \"max\": 0.13187198928956498, \"min\": -0.28694186450000003}, \"range\": {\"bounds\": {\"max\": Infinity, \"min\": -Infinity}, \"max\": 500.0, \"min\": 0.0}, \"scale\": \"linear\"}]);\n",
       "})();</script></div></div>"
      ]
     },
     "metadata": {},
     "output_type": "display_data"
    }
   ],
   "source": [
    "# -----------------------------\n",
    "# Colouring the tree label text\n",
    "# -----------------------------\n",
    "\n",
    "# set list of colours depending on the taxon label text\n",
    "# numbers like \"#5384a3\" are colour 'hex' codes, cyan in\n",
    "# this case (google \"hex colour codes\" for other options)\n",
    "\n",
    "colorlist = [\"blue\" if \"Pan_paniscus\" in tip\n",
    "             else \"darkblue\" if \"Pan_troglodytes\" in tip \n",
    "             else \"red\" if \"Pongo_abelii\" in tip \n",
    "             else \"brown\" if \"Pongo_pygmaeus\" in tip\n",
    "             else \"#5384a3\" for tip in rtre.get_tip_labels()]\n",
    "\n",
    "# draw the tree\n",
    "canvas = rtre.draw(\n",
    "    width=600,  # set dimensions of the figure\n",
    "    height=600,\n",
    "    scalebar=True,  # scale bar of divergence levels\n",
    "    tip_labels_align=True,\n",
    "    tip_labels=True,\n",
    "    tip_labels_colors=colorlist,\n",
    "    node_labels=None,\n",
    "    node_sizes=[0 if i else 8 for i in rtre.get_node_values(None, 1, 0)],\n",
    "    node_markers=\"s\", # use \"o\" for circles instead of squares\n",
    "    node_colors=toytree.colors[0],\n",
    ")"
   ]
  },
  {
   "cell_type": "markdown",
   "metadata": {},
   "source": [
    "You now have all the skills to edit this script and change colours. Pick some ones you like and rerun."
   ]
  },
  {
   "cell_type": "markdown",
   "metadata": {},
   "source": [
    "<h3><font color=red>IMPORTANT, SAVE YOUR FILE</font></h3>\n",
    "Make sure that you save and take away a copy of you tree file image in a format suitable to insert into your final report. Run the cell below and then find the file in your working directory and save it somewhere accesible."
   ]
  },
  {
   "cell_type": "code",
   "execution_count": 9,
   "metadata": {},
   "outputs": [
    {
     "ename": "NameError",
     "evalue": "name 'Canvas' is not defined",
     "output_type": "error",
     "traceback": [
      "\u001b[0;31m---------------------------------------------------------------------------\u001b[0m",
      "\u001b[0;31mNameError\u001b[0m                                 Traceback (most recent call last)",
      "\u001b[0;32m<ipython-input-9-fcd56adb6692>\u001b[0m in \u001b[0;36m<module>\u001b[0;34m\u001b[0m\n\u001b[1;32m      8\u001b[0m \u001b[0;34m\u001b[0m\u001b[0m\n\u001b[1;32m      9\u001b[0m \u001b[0;31m# draw graphics files\u001b[0m\u001b[0;34m\u001b[0m\u001b[0;34m\u001b[0m\u001b[0;34m\u001b[0m\u001b[0m\n\u001b[0;32m---> 10\u001b[0;31m \u001b[0mtoyplot\u001b[0m\u001b[0;34m.\u001b[0m\u001b[0msvg\u001b[0m\u001b[0;34m.\u001b[0m\u001b[0mrender\u001b[0m\u001b[0;34m(\u001b[0m\u001b[0mCanvas\u001b[0m\u001b[0;34m,\u001b[0m \u001b[0;34m\"ape.svg\"\u001b[0m\u001b[0;34m)\u001b[0m\u001b[0;34m\u001b[0m\u001b[0;34m\u001b[0m\u001b[0m\n\u001b[0m\u001b[1;32m     11\u001b[0m \u001b[0mtoyplot\u001b[0m\u001b[0;34m.\u001b[0m\u001b[0mpdf\u001b[0m\u001b[0;34m.\u001b[0m\u001b[0mrender\u001b[0m\u001b[0;34m(\u001b[0m\u001b[0mcanvas\u001b[0m\u001b[0;34m,\u001b[0m \u001b[0;34m\"ape.pdf\"\u001b[0m\u001b[0;34m)\u001b[0m\u001b[0;34m\u001b[0m\u001b[0;34m\u001b[0m\u001b[0m\n\u001b[1;32m     12\u001b[0m \u001b[0mtoyplot\u001b[0m\u001b[0;34m.\u001b[0m\u001b[0mhtml\u001b[0m\u001b[0;34m.\u001b[0m\u001b[0mrender\u001b[0m\u001b[0;34m(\u001b[0m\u001b[0mcanvas\u001b[0m\u001b[0;34m,\u001b[0m \u001b[0;34m\"ape.html\"\u001b[0m\u001b[0;34m)\u001b[0m\u001b[0;34m\u001b[0m\u001b[0;34m\u001b[0m\u001b[0m\n",
      "\u001b[0;31mNameError\u001b[0m: name 'Canvas' is not defined"
     ]
    }
   ],
   "source": [
    "# --------------------------------\n",
    "# Save the tree as a graphics file\n",
    "# --------------------------------\n",
    "\n",
    "# import code to draw graphics files\n",
    "import toyplot.pdf\n",
    "import toyplot.svg\n",
    "\n",
    "# draw graphics files\n",
    "toyplot.svg.render(canvas, \"ape.svg\")\n",
    "toyplot.pdf.render(canvas, \"ape.pdf\")\n",
    "toyplot.html.render(canvas, \"ape.html\")"
   ]
  },
  {
   "cell_type": "markdown",
   "metadata": {},
   "source": [
    "## Pause"
   ]
  },
  {
   "cell_type": "markdown",
   "metadata": {},
   "source": [
    "You have just loaded a data file, aligned it, quality controled the alignment, constructed a maximum likelihood phyogenetic tree, and created an annotated figure of the phylogeny. Well done!"
   ]
  },
  {
   "cell_type": "markdown",
   "metadata": {},
   "source": [
    "This was quite a lot of work to do the first time, trying to understand how to pass a specific data file through the analytical satges to create a phylogeny. Fortunately, as you learned above, doing it again on a different data file just requires a simple change, ie specifying a different file."
   ]
  },
  {
   "cell_type": "markdown",
   "metadata": {},
   "source": [
    "Below you can quite rapidly analyse a \"big ape\" data set, containing a lot more sequences, by rerunning the same commands with different data. It should not take long. In the second case study (below) we are going to swap from apes to HIV, but again it should be rapid because the commands will be very similar."
   ]
  },
  {
   "cell_type": "markdown",
   "metadata": {},
   "source": [
    "<h4><font color='Blue'>SPECIES DIFFERENTIATION</font></h4>\n",
    "Looking at the tree, it would seem the two *Pan* clades are as distant from each other as the two *Pongo* clades\n",
    " \n",
    "The scale along the bottom is genetic distances from 0 to 1, so 0.06 would be 6%. Find the common ancestor node of each genus. What is the distance between the common ancestor of both Pan species and the tree tips? What is that value for Pongo? Is it very different."
   ]
  },
  {
   "cell_type": "markdown",
   "metadata": {},
   "source": [
    "<hr>\n",
    "<h2><font color='Blue'>A big data analysis of great apes</font></h2>\n",
    "\n",
    "One very useful aspect of using code to carry out analyses is that once you have written it, and it works, its very little effort to re-run it again on any number or any size of other data sets.\n",
    "\n",
    "Here I have collected from GenBank whole mitochondrial genomes (about 16,000 nucleotides) from a lot of great apes including humas, neanderthals, and species of gorillas in addition to the species you have just analysed. The file is large but we can just run the same code again. If you want to find out how much data you have, you could insert a cell and paste in the code to quantify sequences (from the ape example) and run it for the big_ape dataset. This is optional. For efficiency reasons I've compressed the code below a little, but its the same as you have just run.\n",
    "\n",
    "This big analysis gives you the opportunity to decide whether the similarity of divergence between groups that you have just observed is true more widely. When the class have produced their big trees we will all discuss what the divergence levels might mean. If you want to find out how much data you are analysing you can copy and paste the \"how much data do you have?\" cell from above, and run it here (on the new fasta file). But that is optional."
   ]
  },
  {
   "cell_type": "markdown",
   "metadata": {},
   "source": [
    "Run this cell to align, trim the alignment, and then build a tree. It might take a few minutes to complete. When there is a number not an asterisk in the left margin then it is complete."
   ]
  },
  {
   "cell_type": "code",
   "execution_count": null,
   "metadata": {},
   "outputs": [],
   "source": [
    "# Align\n",
    "!mafft --auto --quiet big_ape.fas > big_ape.afa\n",
    "print(\"\\nThe sequence alignment has finished\")\n",
    "# Trim\n",
    "!trimal -in big_ape.afa -out big_ape_trimmed.afa -gappyout -keepheader\n",
    "print(\"The alignment trimming has finished\")\n",
    "# Tree build\n",
    "print(\"The phylogenetic tree construction has started\\n\")\n",
    "!FastTree -gtr -nt big_ape_trimmed.afa > big_ape.nwk\n",
    "print(\"\\nThe phylogenetic analysis has finished\")"
   ]
  },
  {
   "cell_type": "markdown",
   "metadata": {},
   "source": [
    "Expect this to take a couple of minutes. Remember if there is an asterisk in the top left \"`In [*]:`\" then it is still working, when it is a number it is finished. \n",
    "\n",
    "If this completed without errors then you can just run the cell below and see the output tree. You may want to adjust colours and re-run a few times. If you had an error, see if you can spot what went wrong, but seek assistance if not."
   ]
  },
  {
   "cell_type": "code",
   "execution_count": 58,
   "metadata": {},
   "outputs": [
    {
     "ename": "ToytreeError",
     "evalue": "No Samples matched the wildcard",
     "output_type": "error",
     "traceback": [
      "\u001b[0;31m---------------------------------------------------------------------------\u001b[0m",
      "\u001b[0;31mToytreeError\u001b[0m                              Traceback (most recent call last)",
      "\u001b[0;32m<ipython-input-58-7520a4a7e915>\u001b[0m in \u001b[0;36m<module>\u001b[0;34m\u001b[0m\n\u001b[1;32m     14\u001b[0m \u001b[0;31m# ----------------\u001b[0m\u001b[0;34m\u001b[0m\u001b[0;34m\u001b[0m\u001b[0;34m\u001b[0m\u001b[0m\n\u001b[1;32m     15\u001b[0m \u001b[0;31m# root and draw the tree\u001b[0m\u001b[0;34m\u001b[0m\u001b[0;34m\u001b[0m\u001b[0;34m\u001b[0m\u001b[0m\n\u001b[0;32m---> 16\u001b[0;31m \u001b[0mbrtre\u001b[0m \u001b[0;34m=\u001b[0m \u001b[0mbtre\u001b[0m\u001b[0;34m.\u001b[0m\u001b[0mroot\u001b[0m\u001b[0;34m(\u001b[0m\u001b[0mwildcard\u001b[0m\u001b[0;34m=\u001b[0m\u001b[0;34m\"Hylobates\"\u001b[0m\u001b[0;34m)\u001b[0m \u001b[0;31m# specify the outgroup taxon\u001b[0m\u001b[0;34m\u001b[0m\u001b[0;34m\u001b[0m\u001b[0m\n\u001b[0m\u001b[1;32m     17\u001b[0m \u001b[0;34m\u001b[0m\u001b[0m\n\u001b[1;32m     18\u001b[0m \u001b[0;31m# -----------------------------\u001b[0m\u001b[0;34m\u001b[0m\u001b[0;34m\u001b[0m\u001b[0;34m\u001b[0m\u001b[0m\n",
      "\u001b[0;32m~/opt/miniconda3/envs/snakephylo/lib/python3.6/site-packages/toytree/Toytree.py\u001b[0m in \u001b[0;36mroot\u001b[0;34m(self, names, wildcard, regex, resolve_root_dist, edge_features)\u001b[0m\n\u001b[1;32m    946\u001b[0m             \u001b[0;34m(\u001b[0m\u001b[0mnames\u001b[0m\u001b[0;34m,\u001b[0m \u001b[0mwildcard\u001b[0m\u001b[0;34m,\u001b[0m \u001b[0mregex\u001b[0m\u001b[0;34m)\u001b[0m\u001b[0;34m,\u001b[0m\u001b[0;34m\u001b[0m\u001b[0;34m\u001b[0m\u001b[0m\n\u001b[1;32m    947\u001b[0m             \u001b[0mresolve_root_dist\u001b[0m\u001b[0;34m,\u001b[0m\u001b[0;34m\u001b[0m\u001b[0;34m\u001b[0m\u001b[0m\n\u001b[0;32m--> 948\u001b[0;31m             \u001b[0medge_features\u001b[0m\u001b[0;34m,\u001b[0m\u001b[0;34m\u001b[0m\u001b[0;34m\u001b[0m\u001b[0m\n\u001b[0m\u001b[1;32m    949\u001b[0m         )\n\u001b[1;32m    950\u001b[0m         \u001b[0;32mreturn\u001b[0m \u001b[0mrooter\u001b[0m\u001b[0;34m.\u001b[0m\u001b[0mtree\u001b[0m\u001b[0;34m\u001b[0m\u001b[0;34m\u001b[0m\u001b[0m\n",
      "\u001b[0;32m~/opt/miniconda3/envs/snakephylo/lib/python3.6/site-packages/toytree/Rooter.py\u001b[0m in \u001b[0;36m__init__\u001b[0;34m(self, tree, nastuple, resolve_root_dist, edge_features)\u001b[0m\n\u001b[1;32m     33\u001b[0m \u001b[0;34m\u001b[0m\u001b[0m\n\u001b[1;32m     34\u001b[0m         \u001b[0;31m# parse node selecting arguments (nastuple) with NodeAssist\u001b[0m\u001b[0;34m\u001b[0m\u001b[0;34m\u001b[0m\u001b[0;34m\u001b[0m\u001b[0m\n\u001b[0;32m---> 35\u001b[0;31m         \u001b[0mself\u001b[0m\u001b[0;34m.\u001b[0m\u001b[0mget_match\u001b[0m\u001b[0;34m(\u001b[0m\u001b[0;34m*\u001b[0m\u001b[0mnastuple\u001b[0m\u001b[0;34m)\u001b[0m\u001b[0;34m\u001b[0m\u001b[0;34m\u001b[0m\u001b[0m\n\u001b[0m\u001b[1;32m     36\u001b[0m \u001b[0;34m\u001b[0m\u001b[0m\n\u001b[1;32m     37\u001b[0m         \u001b[0;31m# get the mrca node (or tip node) of the monopyletic matched query.\u001b[0m\u001b[0;34m\u001b[0m\u001b[0;34m\u001b[0m\u001b[0;34m\u001b[0m\u001b[0m\n",
      "\u001b[0;32m~/opt/miniconda3/envs/snakephylo/lib/python3.6/site-packages/toytree/Rooter.py\u001b[0m in \u001b[0;36mget_match\u001b[0;34m(self, names, wildcard, regex)\u001b[0m\n\u001b[1;32m    274\u001b[0m         \"\"\"\n\u001b[1;32m    275\u001b[0m         \u001b[0;31m# find the selected node\u001b[0m\u001b[0;34m\u001b[0m\u001b[0;34m\u001b[0m\u001b[0;34m\u001b[0m\u001b[0m\n\u001b[0;32m--> 276\u001b[0;31m         \u001b[0mself\u001b[0m\u001b[0;34m.\u001b[0m\u001b[0mnas\u001b[0m \u001b[0;34m=\u001b[0m \u001b[0mNodeAssist\u001b[0m\u001b[0;34m(\u001b[0m\u001b[0mself\u001b[0m\u001b[0;34m.\u001b[0m\u001b[0mtree\u001b[0m\u001b[0;34m,\u001b[0m \u001b[0mnames\u001b[0m\u001b[0;34m,\u001b[0m \u001b[0mwildcard\u001b[0m\u001b[0;34m,\u001b[0m \u001b[0mregex\u001b[0m\u001b[0;34m)\u001b[0m\u001b[0;34m\u001b[0m\u001b[0;34m\u001b[0m\u001b[0m\n\u001b[0m\u001b[1;32m    277\u001b[0m         \u001b[0;31m# self.nas.match_query()\u001b[0m\u001b[0;34m\u001b[0m\u001b[0;34m\u001b[0m\u001b[0;34m\u001b[0m\u001b[0m\n\u001b[1;32m    278\u001b[0m         \u001b[0mself\u001b[0m\u001b[0;34m.\u001b[0m\u001b[0mtipnames\u001b[0m \u001b[0;34m=\u001b[0m \u001b[0mself\u001b[0m\u001b[0;34m.\u001b[0m\u001b[0mnas\u001b[0m\u001b[0;34m.\u001b[0m\u001b[0mget_tipnames\u001b[0m\u001b[0;34m(\u001b[0m\u001b[0;34m)\u001b[0m\u001b[0;34m\u001b[0m\u001b[0;34m\u001b[0m\u001b[0m\n",
      "\u001b[0;32m~/opt/miniconda3/envs/snakephylo/lib/python3.6/site-packages/toytree/NodeAssist.py\u001b[0m in \u001b[0;36m__init__\u001b[0;34m(self, ttree, names, wildcard, regex)\u001b[0m\n\u001b[1;32m     33\u001b[0m         \u001b[0mself\u001b[0m\u001b[0;34m.\u001b[0m\u001b[0mnodes\u001b[0m \u001b[0;34m=\u001b[0m \u001b[0;34m[\u001b[0m\u001b[0;34m]\u001b[0m\u001b[0;34m\u001b[0m\u001b[0;34m\u001b[0m\u001b[0m\n\u001b[1;32m     34\u001b[0m         \u001b[0mself\u001b[0m\u001b[0;34m.\u001b[0m\u001b[0mtipnames\u001b[0m \u001b[0;34m=\u001b[0m \u001b[0;34m[\u001b[0m\u001b[0;34m]\u001b[0m\u001b[0;34m\u001b[0m\u001b[0;34m\u001b[0m\u001b[0m\n\u001b[0;32m---> 35\u001b[0;31m         \u001b[0mself\u001b[0m\u001b[0;34m.\u001b[0m\u001b[0mmatch_query\u001b[0m\u001b[0;34m(\u001b[0m\u001b[0;34m)\u001b[0m\u001b[0;34m\u001b[0m\u001b[0;34m\u001b[0m\u001b[0m\n\u001b[0m\u001b[1;32m     36\u001b[0m \u001b[0;34m\u001b[0m\u001b[0m\n\u001b[1;32m     37\u001b[0m         \u001b[0;31m# default options to be updated in function calls\u001b[0m\u001b[0;34m\u001b[0m\u001b[0;34m\u001b[0m\u001b[0;34m\u001b[0m\u001b[0m\n",
      "\u001b[0;32m~/opt/miniconda3/envs/snakephylo/lib/python3.6/site-packages/toytree/NodeAssist.py\u001b[0m in \u001b[0;36mmatch_query\u001b[0;34m(self)\u001b[0m\n\u001b[1;32m     83\u001b[0m             ]\n\u001b[1;32m     84\u001b[0m             \u001b[0;32mif\u001b[0m \u001b[0;32mnot\u001b[0m \u001b[0many\u001b[0m\u001b[0;34m(\u001b[0m\u001b[0mtips\u001b[0m\u001b[0;34m)\u001b[0m\u001b[0;34m:\u001b[0m\u001b[0;34m\u001b[0m\u001b[0;34m\u001b[0m\u001b[0m\n\u001b[0;32m---> 85\u001b[0;31m                 \u001b[0;32mraise\u001b[0m \u001b[0mToytreeError\u001b[0m\u001b[0;34m(\u001b[0m\u001b[0;34m\"No Samples matched the wildcard\"\u001b[0m\u001b[0;34m)\u001b[0m\u001b[0;34m\u001b[0m\u001b[0;34m\u001b[0m\u001b[0m\n\u001b[0m\u001b[1;32m     86\u001b[0m \u001b[0;34m\u001b[0m\u001b[0m\n\u001b[1;32m     87\u001b[0m         \u001b[0;31m# build list of **tipnames** from matched nodes\u001b[0m\u001b[0;34m\u001b[0m\u001b[0;34m\u001b[0m\u001b[0;34m\u001b[0m\u001b[0m\n",
      "\u001b[0;31mToytreeError\u001b[0m: No Samples matched the wildcard"
     ]
    }
   ],
   "source": [
    "# import the code so we can use it here\n",
    "import toytree       # a tree plotting library\n",
    "import toyplot       # a general plotting library\n",
    "\n",
    "# --------------------\n",
    "# Read in the big tree\n",
    "# --------------------\n",
    "# read the newick format tree file, give it the name 'bignewick'\n",
    "bignewick = \"big_ape.nwk\" # change this to point at your .nwk treefile\n",
    "btre = toytree.tree(bignewick, tree_format=1)\n",
    "\n",
    "# ----------------\n",
    "# Root the tree\n",
    "# ----------------\n",
    "# root and draw the tree\n",
    "brtre = btre.root(wildcard=\"Hylobates\") # specify the outgroup taxon\n",
    "\n",
    "# -----------------------------\n",
    "# Colouring the tree label text\n",
    "# -----------------------------\n",
    "\n",
    "# set list of colours depending on the taxon label text\n",
    "# numbers like #5384a3 are color hex codes (google it for other options)\n",
    "colorlist = [\"black\" if \"Hylobates\" in tip\n",
    "             else \"darkblue\" if \"Pan\" in tip \n",
    "             else \"red\" if \"Pongo\" in tip \n",
    "             else \"green\" if \"Homo\" in tip \n",
    "             else \"brown\" if \"Gorilla\" in tip \n",
    "             else \"#5384a3\" for tip in brtre.get_tip_labels()] # cyan\n",
    "\n",
    "canvas, axes = brtre.draw(\n",
    "    width=800,  # set dimensions of the figure\n",
    "    height=1600,\n",
    "    scalebar=True,  # scale bar of divergence levels\n",
    "    tip_labels_align=True,\n",
    "    tip_labels=True,\n",
    "    tip_labels_colors=colorlist,\n",
    "    node_labels=None,\n",
    "    node_sizes=[0 if i else 8 for i in brtre.get_node_values(None, 1, 0)],\n",
    "    node_markers=\"o\", # use \"o\" for circles or \"s\" for squares\n",
    "    node_colors=toytree.colors[0],\n",
    ")\n",
    "\n",
    "# canvas, axes = brtre.draw(width=400, height=800);"
   ]
  },
  {
   "cell_type": "code",
   "execution_count": 40,
   "metadata": {},
   "outputs": [],
   "source": [
    "# --------------------------------\n",
    "# Save the tree as a graphics file\n",
    "# --------------------------------\n",
    "\n",
    "toyplot.svg.render(canvas, \"bigape.svg\")\n",
    "toyplot.pdf.render(canvas, \"bigape.pdf\")\n",
    "toyplot.html.render(canvas, \"bigape.html\")"
   ]
  },
  {
   "cell_type": "markdown",
   "metadata": {},
   "source": [
    "**Or maybe the cell below. Merge them somehow**"
   ]
  },
  {
   "cell_type": "code",
   "execution_count": 41,
   "metadata": {},
   "outputs": [
    {
     "data": {
      "text/html": [
       "<div class=\"toyplot\" id=\"tc56f9116c27e4e8f808fc3d984e237de\" style=\"text-align:center\"><svg class=\"toyplot-canvas-Canvas\" height=\"1200.0px\" id=\"td2db19eddb794fa0a0261ad4e0a8c66f\" preserveAspectRatio=\"xMidYMid meet\" style=\"background-color:transparent;border-color:#292724;border-style:none;border-width:1.0;fill:rgb(16.1%,15.3%,14.1%);fill-opacity:1.0;font-family:Helvetica;font-size:12px;opacity:1.0;stroke:rgb(16.1%,15.3%,14.1%);stroke-opacity:1.0;stroke-width:1.0\" viewBox=\"0 0 465.0 1200.0\" width=\"465.0px\" xmlns=\"http://www.w3.org/2000/svg\" xmlns:toyplot=\"http://www.sandia.gov/toyplot\" xmlns:xlink=\"http://www.w3.org/1999/xlink\"><g class=\"toyplot-coordinates-Cartesian\" id=\"t72448e0d41f245f5a220613cd836cd3f\"><clipPath id=\"tc6e85418fdcb4e52823f91debc0c4e29\"><rect height=\"1140.0\" width=\"405.0\" x=\"30.0\" y=\"30.0\"></rect></clipPath><g clip-path=\"url(#tc6e85418fdcb4e52823f91debc0c4e29)\"><g class=\"toyplot-mark-Graph\" id=\"t05d8df66eee042d6906bbb364d4e8c13\"><g class=\"toyplot-Edges\"><path d=\"M 165.87301587301587 1143.4782608695652 L 164.9936897891371 1143.4782608695652\" style=\"fill:none;stroke:rgb(66.3%,66.3%,66.3%);stroke-dasharray:2, 4;stroke-linecap:round;stroke-opacity:1.0;stroke-width:2\"></path><path d=\"M 165.87301587301587 1122.5752508361204 L 164.7216615938084 1122.5752508361204\" style=\"fill:none;stroke:rgb(66.3%,66.3%,66.3%);stroke-dasharray:2, 4;stroke-linecap:round;stroke-opacity:1.0;stroke-width:2\"></path><path d=\"M 165.87301587301587 1101.6722408026756 L 165.20501585150058 1101.6722408026756\" style=\"fill:none;stroke:rgb(66.3%,66.3%,66.3%);stroke-dasharray:2, 4;stroke-linecap:round;stroke-opacity:1.0;stroke-width:2\"></path><path d=\"M 165.87301587301587 1080.7692307692307 L 164.7933384208526 1080.7692307692307\" style=\"fill:none;stroke:rgb(66.3%,66.3%,66.3%);stroke-dasharray:2, 4;stroke-linecap:round;stroke-opacity:1.0;stroke-width:2\"></path><path d=\"M 165.87301587301587 1059.866220735786 L 165.87301587301587 1059.866220735786\" style=\"fill:none;stroke:rgb(66.3%,66.3%,66.3%);stroke-dasharray:2, 4;stroke-linecap:round;stroke-opacity:1.0;stroke-width:2\"></path><path d=\"M 165.87301587301587 1038.9632107023413 L 165.3124999862605 1038.9632107023413\" style=\"fill:none;stroke:rgb(66.3%,66.3%,66.3%);stroke-dasharray:2, 4;stroke-linecap:round;stroke-opacity:1.0;stroke-width:2\"></path><path d=\"M 165.87301587301587 1018.0602006688963 L 165.35205017083337 1018.0602006688963\" style=\"fill:none;stroke:rgb(66.3%,66.3%,66.3%);stroke-dasharray:2, 4;stroke-linecap:round;stroke-opacity:1.0;stroke-width:2\"></path><path d=\"M 165.87301587301587 997.1571906354516 L 165.24754314453168 997.1571906354516\" style=\"fill:none;stroke:rgb(66.3%,66.3%,66.3%);stroke-dasharray:2, 4;stroke-linecap:round;stroke-opacity:1.0;stroke-width:2\"></path><path d=\"M 165.87301587301587 976.2541806020067 L 164.98866931197458 976.2541806020067\" style=\"fill:none;stroke:rgb(66.3%,66.3%,66.3%);stroke-dasharray:2, 4;stroke-linecap:round;stroke-opacity:1.0;stroke-width:2\"></path><path d=\"M 165.87301587301587 955.3511705685619 L 164.23134246326987 955.3511705685619\" style=\"fill:none;stroke:rgb(66.3%,66.3%,66.3%);stroke-dasharray:2, 4;stroke-linecap:round;stroke-opacity:1.0;stroke-width:2\"></path><path d=\"M 165.87301587301587 934.448160535117 L 164.1319763784357 934.448160535117\" style=\"fill:none;stroke:rgb(66.3%,66.3%,66.3%);stroke-dasharray:2, 4;stroke-linecap:round;stroke-opacity:1.0;stroke-width:2\"></path><path d=\"M 165.87301587301587 913.5451505016723 L 164.04945946062045 913.5451505016723\" style=\"fill:none;stroke:rgb(66.3%,66.3%,66.3%);stroke-dasharray:2, 4;stroke-linecap:round;stroke-opacity:1.0;stroke-width:2\"></path><path d=\"M 165.87301587301587 892.6421404682275 L 164.16689349452653 892.6421404682275\" style=\"fill:none;stroke:rgb(66.3%,66.3%,66.3%);stroke-dasharray:2, 4;stroke-linecap:round;stroke-opacity:1.0;stroke-width:2\"></path><path d=\"M 165.87301587301587 871.7391304347827 L 163.69940432924886 871.7391304347827\" style=\"fill:none;stroke:rgb(66.3%,66.3%,66.3%);stroke-dasharray:2, 4;stroke-linecap:round;stroke-opacity:1.0;stroke-width:2\"></path><path d=\"M 165.87301587301587 850.8361204013378 L 164.801074152139 850.8361204013378\" style=\"fill:none;stroke:rgb(66.3%,66.3%,66.3%);stroke-dasharray:2, 4;stroke-linecap:round;stroke-opacity:1.0;stroke-width:2\"></path><path d=\"M 165.87301587301587 829.9331103678929 L 164.65988772442057 829.9331103678929\" style=\"fill:none;stroke:rgb(66.3%,66.3%,66.3%);stroke-dasharray:2, 4;stroke-linecap:round;stroke-opacity:1.0;stroke-width:2\"></path><path d=\"M 165.87301587301587 809.0301003344483 L 164.50477211656963 809.0301003344483\" style=\"fill:none;stroke:rgb(66.3%,66.3%,66.3%);stroke-dasharray:2, 4;stroke-linecap:round;stroke-opacity:1.0;stroke-width:2\"></path><path d=\"M 165.87301587301587 788.1270903010034 L 163.7636112382619 788.1270903010034\" style=\"fill:none;stroke:rgb(66.3%,66.3%,66.3%);stroke-dasharray:2, 4;stroke-linecap:round;stroke-opacity:1.0;stroke-width:2\"></path><path d=\"M 165.87301587301587 767.2240802675586 L 162.73165518324836 767.2240802675586\" style=\"fill:none;stroke:rgb(66.3%,66.3%,66.3%);stroke-dasharray:2, 4;stroke-linecap:round;stroke-opacity:1.0;stroke-width:2\"></path><path d=\"M 165.87301587301587 746.3210702341138 L 162.74360264072934 746.3210702341138\" style=\"fill:none;stroke:rgb(66.3%,66.3%,66.3%);stroke-dasharray:2, 4;stroke-linecap:round;stroke-opacity:1.0;stroke-width:2\"></path><path d=\"M 165.87301587301587 725.418060200669 L 163.09842091941005 725.418060200669\" style=\"fill:none;stroke:rgb(66.3%,66.3%,66.3%);stroke-dasharray:2, 4;stroke-linecap:round;stroke-opacity:1.0;stroke-width:2\"></path><path d=\"M 165.87301587301587 704.5150501672241 L 163.2012601089254 704.5150501672241\" style=\"fill:none;stroke:rgb(66.3%,66.3%,66.3%);stroke-dasharray:2, 4;stroke-linecap:round;stroke-opacity:1.0;stroke-width:2\"></path><path d=\"M 165.87301587301587 683.6120401337794 L 161.7881894920105 683.6120401337794\" style=\"fill:none;stroke:rgb(66.3%,66.3%,66.3%);stroke-dasharray:2, 4;stroke-linecap:round;stroke-opacity:1.0;stroke-width:2\"></path><path d=\"M 165.87301587301587 662.7090301003344 L 161.6383697890993 662.7090301003344\" style=\"fill:none;stroke:rgb(66.3%,66.3%,66.3%);stroke-dasharray:2, 4;stroke-linecap:round;stroke-opacity:1.0;stroke-width:2\"></path><path d=\"M 165.87301587301587 641.8060200668897 L 161.21941133749937 641.8060200668897\" style=\"fill:none;stroke:rgb(66.3%,66.3%,66.3%);stroke-dasharray:2, 4;stroke-linecap:round;stroke-opacity:1.0;stroke-width:2\"></path><path d=\"M 165.87301587301587 620.903010033445 L 161.7272413403942 620.903010033445\" style=\"fill:none;stroke:rgb(66.3%,66.3%,66.3%);stroke-dasharray:2, 4;stroke-linecap:round;stroke-opacity:1.0;stroke-width:2\"></path><path d=\"M 165.87301587301587 600.0 L 161.17749371827486 600.0\" style=\"fill:none;stroke:rgb(66.3%,66.3%,66.3%);stroke-dasharray:2, 4;stroke-linecap:round;stroke-opacity:1.0;stroke-width:2\"></path><path d=\"M 165.87301587301587 579.0969899665553 L 161.59389301034335 579.0969899665553\" style=\"fill:none;stroke:rgb(66.3%,66.3%,66.3%);stroke-dasharray:2, 4;stroke-linecap:round;stroke-opacity:1.0;stroke-width:2\"></path><path d=\"M 165.87301587301587 558.1939799331104 L 161.6058975893962 558.1939799331104\" style=\"fill:none;stroke:rgb(66.3%,66.3%,66.3%);stroke-dasharray:2, 4;stroke-linecap:round;stroke-opacity:1.0;stroke-width:2\"></path><path d=\"M 165.87301587301587 537.2909698996657 L 160.97509841572594 537.2909698996657\" style=\"fill:none;stroke:rgb(66.3%,66.3%,66.3%);stroke-dasharray:2, 4;stroke-linecap:round;stroke-opacity:1.0;stroke-width:2\"></path><path d=\"M 165.87301587301587 516.3879598662207 L 160.93319832886505 516.3879598662207\" style=\"fill:none;stroke:rgb(66.3%,66.3%,66.3%);stroke-dasharray:2, 4;stroke-linecap:round;stroke-opacity:1.0;stroke-width:2\"></path><path d=\"M 165.87301587301587 495.484949832776 L 160.89129371752324 495.484949832776\" style=\"fill:none;stroke:rgb(66.3%,66.3%,66.3%);stroke-dasharray:2, 4;stroke-linecap:round;stroke-opacity:1.0;stroke-width:2\"></path><path d=\"M 165.87301587301587 474.5819397993311 L 160.89129371752324 474.5819397993311\" style=\"fill:none;stroke:rgb(66.3%,66.3%,66.3%);stroke-dasharray:2, 4;stroke-linecap:round;stroke-opacity:1.0;stroke-width:2\"></path><path d=\"M 165.87301587301587 453.6789297658863 L 158.31601685386735 453.6789297658863\" style=\"fill:none;stroke:rgb(66.3%,66.3%,66.3%);stroke-dasharray:2, 4;stroke-linecap:round;stroke-opacity:1.0;stroke-width:2\"></path><path d=\"M 165.87301587301587 432.77591973244154 L 158.31601685386735 432.77591973244154\" style=\"fill:none;stroke:rgb(66.3%,66.3%,66.3%);stroke-dasharray:2, 4;stroke-linecap:round;stroke-opacity:1.0;stroke-width:2\"></path><path d=\"M 165.87301587301587 411.87290969899664 L 158.2316777013537 411.87290969899664\" style=\"fill:none;stroke:rgb(66.3%,66.3%,66.3%);stroke-dasharray:2, 4;stroke-linecap:round;stroke-opacity:1.0;stroke-width:2\"></path><path d=\"M 165.87301587301587 390.96989966555185 L 158.14734703224178 390.96989966555185\" style=\"fill:none;stroke:rgb(66.3%,66.3%,66.3%);stroke-dasharray:2, 4;stroke-linecap:round;stroke-opacity:1.0;stroke-width:2\"></path><path d=\"M 165.87301587301587 370.06688963210706 L 158.1476388612624 370.06688963210706\" style=\"fill:none;stroke:rgb(66.3%,66.3%,66.3%);stroke-dasharray:2, 4;stroke-linecap:round;stroke-opacity:1.0;stroke-width:2\"></path><path d=\"M 165.87301587301587 349.16387959866216 L 158.5998058718383 349.16387959866216\" style=\"fill:none;stroke:rgb(66.3%,66.3%,66.3%);stroke-dasharray:2, 4;stroke-linecap:round;stroke-opacity:1.0;stroke-width:2\"></path><path d=\"M 165.87301587301587 328.2608695652174 L 158.6419717719544 328.2608695652174\" style=\"fill:none;stroke:rgb(66.3%,66.3%,66.3%);stroke-dasharray:2, 4;stroke-linecap:round;stroke-opacity:1.0;stroke-width:2\"></path><path d=\"M 165.87301587301587 307.3578595317726 L 158.55763714392168 307.3578595317726\" style=\"fill:none;stroke:rgb(66.3%,66.3%,66.3%);stroke-dasharray:2, 4;stroke-linecap:round;stroke-opacity:1.0;stroke-width:2\"></path><path d=\"M 165.87301587301587 286.4548494983277 L 156.69575385348736 286.4548494983277\" style=\"fill:none;stroke:rgb(66.3%,66.3%,66.3%);stroke-dasharray:2, 4;stroke-linecap:round;stroke-opacity:1.0;stroke-width:2\"></path><path d=\"M 165.87301587301587 265.5518394648829 L 156.69575441904752 265.5518394648829\" style=\"fill:none;stroke:rgb(66.3%,66.3%,66.3%);stroke-dasharray:2, 4;stroke-linecap:round;stroke-opacity:1.0;stroke-width:2\"></path><path d=\"M 165.87301587301587 244.64882943143812 L 156.65359247785227 244.64882943143812\" style=\"fill:none;stroke:rgb(66.3%,66.3%,66.3%);stroke-dasharray:2, 4;stroke-linecap:round;stroke-opacity:1.0;stroke-width:2\"></path><path d=\"M 165.87301587301587 223.74581939799322 L 156.78008282591892 223.74581939799322\" style=\"fill:none;stroke:rgb(66.3%,66.3%,66.3%);stroke-dasharray:2, 4;stroke-linecap:round;stroke-opacity:1.0;stroke-width:2\"></path><path d=\"M 165.87301587301587 202.84280936454843 L 160.84178571596254 202.84280936454843\" style=\"fill:none;stroke:rgb(66.3%,66.3%,66.3%);stroke-dasharray:2, 4;stroke-linecap:round;stroke-opacity:1.0;stroke-width:2\"></path><path d=\"M 165.87301587301587 181.93979933110367 L 160.84178571596254 181.93979933110367\" style=\"fill:none;stroke:rgb(66.3%,66.3%,66.3%);stroke-dasharray:2, 4;stroke-linecap:round;stroke-opacity:1.0;stroke-width:2\"></path><path d=\"M 165.87301587301587 161.03678929765877 L 160.84178571596254 161.03678929765877\" style=\"fill:none;stroke:rgb(66.3%,66.3%,66.3%);stroke-dasharray:2, 4;stroke-linecap:round;stroke-opacity:1.0;stroke-width:2\"></path><path d=\"M 165.87301587301587 140.13377926421398 L 160.8448906410073 140.13377926421398\" style=\"fill:none;stroke:rgb(66.3%,66.3%,66.3%);stroke-dasharray:2, 4;stroke-linecap:round;stroke-opacity:1.0;stroke-width:2\"></path><path d=\"M 165.87301587301587 119.23076923076921 L 158.8105714641254 119.23076923076921\" style=\"fill:none;stroke:rgb(66.3%,66.3%,66.3%);stroke-dasharray:2, 4;stroke-linecap:round;stroke-opacity:1.0;stroke-width:2\"></path><path d=\"M 165.87301587301587 98.32775919732443 L 158.93721225118333 98.32775919732443\" style=\"fill:none;stroke:rgb(66.3%,66.3%,66.3%);stroke-dasharray:2, 4;stroke-linecap:round;stroke-opacity:1.0;stroke-width:2\"></path><path d=\"M 165.87301587301587 77.42474916387953 L 158.76915153780425 77.42474916387953\" style=\"fill:none;stroke:rgb(66.3%,66.3%,66.3%);stroke-dasharray:2, 4;stroke-linecap:round;stroke-opacity:1.0;stroke-width:2\"></path><path d=\"M 165.87301587301587 56.521739130434746 L 90.14396868522141 56.521739130434746\" style=\"fill:none;stroke:rgb(66.3%,66.3%,66.3%);stroke-dasharray:2, 4;stroke-linecap:round;stroke-opacity:1.0;stroke-width:2\"></path><g class=\"toyplot-HeadMarkers\"></g><g class=\"toyplot-MiddleMarkers\"></g><g class=\"toyplot-TailMarkers\"></g></g><g class=\"toyplot-Vertices\"><g class=\"toyplot-Datum\" style=\"fill:rgb(40%,76.1%,64.7%);fill-opacity:1.0;opacity:1.0;stroke:rgb(40%,76.1%,64.7%);stroke-opacity:1.0\" transform=\"translate(164.9936897891371, 1143.4782608695652)\"><circle r=\"0.0\"></circle></g><g class=\"toyplot-Datum\" style=\"fill:rgb(40%,76.1%,64.7%);fill-opacity:1.0;opacity:1.0;stroke:rgb(40%,76.1%,64.7%);stroke-opacity:1.0\" transform=\"translate(164.7216615938084, 1122.5752508361204)\"><circle r=\"0.0\"></circle></g><g class=\"toyplot-Datum\" style=\"fill:rgb(40%,76.1%,64.7%);fill-opacity:1.0;opacity:1.0;stroke:rgb(40%,76.1%,64.7%);stroke-opacity:1.0\" transform=\"translate(165.20501585150058, 1101.6722408026756)\"><circle r=\"0.0\"></circle></g><g class=\"toyplot-Datum\" style=\"fill:rgb(40%,76.1%,64.7%);fill-opacity:1.0;opacity:1.0;stroke:rgb(40%,76.1%,64.7%);stroke-opacity:1.0\" transform=\"translate(164.7933384208526, 1080.7692307692307)\"><circle r=\"0.0\"></circle></g><g class=\"toyplot-Datum\" style=\"fill:rgb(40%,76.1%,64.7%);fill-opacity:1.0;opacity:1.0;stroke:rgb(40%,76.1%,64.7%);stroke-opacity:1.0\" transform=\"translate(165.87301587301587, 1059.866220735786)\"><circle r=\"0.0\"></circle></g><g class=\"toyplot-Datum\" style=\"fill:rgb(40%,76.1%,64.7%);fill-opacity:1.0;opacity:1.0;stroke:rgb(40%,76.1%,64.7%);stroke-opacity:1.0\" transform=\"translate(165.3124999862605, 1038.9632107023413)\"><circle r=\"0.0\"></circle></g><g class=\"toyplot-Datum\" style=\"fill:rgb(40%,76.1%,64.7%);fill-opacity:1.0;opacity:1.0;stroke:rgb(40%,76.1%,64.7%);stroke-opacity:1.0\" transform=\"translate(165.35205017083337, 1018.0602006688963)\"><circle r=\"0.0\"></circle></g><g class=\"toyplot-Datum\" style=\"fill:rgb(40%,76.1%,64.7%);fill-opacity:1.0;opacity:1.0;stroke:rgb(40%,76.1%,64.7%);stroke-opacity:1.0\" transform=\"translate(165.24754314453168, 997.1571906354516)\"><circle r=\"0.0\"></circle></g><g class=\"toyplot-Datum\" style=\"fill:rgb(40%,76.1%,64.7%);fill-opacity:1.0;opacity:1.0;stroke:rgb(40%,76.1%,64.7%);stroke-opacity:1.0\" transform=\"translate(164.98866931197458, 976.2541806020067)\"><circle r=\"0.0\"></circle></g><g class=\"toyplot-Datum\" style=\"fill:rgb(40%,76.1%,64.7%);fill-opacity:1.0;opacity:1.0;stroke:rgb(40%,76.1%,64.7%);stroke-opacity:1.0\" transform=\"translate(164.23134246326987, 955.3511705685619)\"><circle r=\"0.0\"></circle></g><g class=\"toyplot-Datum\" style=\"fill:rgb(40%,76.1%,64.7%);fill-opacity:1.0;opacity:1.0;stroke:rgb(40%,76.1%,64.7%);stroke-opacity:1.0\" transform=\"translate(164.1319763784357, 934.448160535117)\"><circle r=\"0.0\"></circle></g><g class=\"toyplot-Datum\" style=\"fill:rgb(40%,76.1%,64.7%);fill-opacity:1.0;opacity:1.0;stroke:rgb(40%,76.1%,64.7%);stroke-opacity:1.0\" transform=\"translate(164.04945946062045, 913.5451505016723)\"><circle r=\"0.0\"></circle></g><g class=\"toyplot-Datum\" style=\"fill:rgb(40%,76.1%,64.7%);fill-opacity:1.0;opacity:1.0;stroke:rgb(40%,76.1%,64.7%);stroke-opacity:1.0\" transform=\"translate(164.16689349452653, 892.6421404682275)\"><circle r=\"0.0\"></circle></g><g class=\"toyplot-Datum\" style=\"fill:rgb(40%,76.1%,64.7%);fill-opacity:1.0;opacity:1.0;stroke:rgb(40%,76.1%,64.7%);stroke-opacity:1.0\" transform=\"translate(163.69940432924886, 871.7391304347827)\"><circle r=\"0.0\"></circle></g><g class=\"toyplot-Datum\" style=\"fill:rgb(40%,76.1%,64.7%);fill-opacity:1.0;opacity:1.0;stroke:rgb(40%,76.1%,64.7%);stroke-opacity:1.0\" transform=\"translate(164.801074152139, 850.8361204013378)\"><circle r=\"0.0\"></circle></g><g class=\"toyplot-Datum\" style=\"fill:rgb(40%,76.1%,64.7%);fill-opacity:1.0;opacity:1.0;stroke:rgb(40%,76.1%,64.7%);stroke-opacity:1.0\" transform=\"translate(164.65988772442057, 829.9331103678929)\"><circle r=\"0.0\"></circle></g><g class=\"toyplot-Datum\" style=\"fill:rgb(40%,76.1%,64.7%);fill-opacity:1.0;opacity:1.0;stroke:rgb(40%,76.1%,64.7%);stroke-opacity:1.0\" transform=\"translate(164.50477211656963, 809.0301003344483)\"><circle r=\"0.0\"></circle></g><g class=\"toyplot-Datum\" style=\"fill:rgb(40%,76.1%,64.7%);fill-opacity:1.0;opacity:1.0;stroke:rgb(40%,76.1%,64.7%);stroke-opacity:1.0\" transform=\"translate(163.7636112382619, 788.1270903010034)\"><circle r=\"0.0\"></circle></g><g class=\"toyplot-Datum\" style=\"fill:rgb(40%,76.1%,64.7%);fill-opacity:1.0;opacity:1.0;stroke:rgb(40%,76.1%,64.7%);stroke-opacity:1.0\" transform=\"translate(162.73165518324836, 767.2240802675586)\"><circle r=\"0.0\"></circle></g><g class=\"toyplot-Datum\" style=\"fill:rgb(40%,76.1%,64.7%);fill-opacity:1.0;opacity:1.0;stroke:rgb(40%,76.1%,64.7%);stroke-opacity:1.0\" transform=\"translate(162.74360264072934, 746.3210702341138)\"><circle r=\"0.0\"></circle></g><g class=\"toyplot-Datum\" style=\"fill:rgb(40%,76.1%,64.7%);fill-opacity:1.0;opacity:1.0;stroke:rgb(40%,76.1%,64.7%);stroke-opacity:1.0\" transform=\"translate(163.09842091941005, 725.418060200669)\"><circle r=\"0.0\"></circle></g><g class=\"toyplot-Datum\" style=\"fill:rgb(40%,76.1%,64.7%);fill-opacity:1.0;opacity:1.0;stroke:rgb(40%,76.1%,64.7%);stroke-opacity:1.0\" transform=\"translate(163.2012601089254, 704.5150501672241)\"><circle r=\"0.0\"></circle></g><g class=\"toyplot-Datum\" style=\"fill:rgb(40%,76.1%,64.7%);fill-opacity:1.0;opacity:1.0;stroke:rgb(40%,76.1%,64.7%);stroke-opacity:1.0\" transform=\"translate(161.7881894920105, 683.6120401337794)\"><circle r=\"0.0\"></circle></g><g class=\"toyplot-Datum\" style=\"fill:rgb(40%,76.1%,64.7%);fill-opacity:1.0;opacity:1.0;stroke:rgb(40%,76.1%,64.7%);stroke-opacity:1.0\" transform=\"translate(161.6383697890993, 662.7090301003344)\"><circle r=\"0.0\"></circle></g><g class=\"toyplot-Datum\" style=\"fill:rgb(40%,76.1%,64.7%);fill-opacity:1.0;opacity:1.0;stroke:rgb(40%,76.1%,64.7%);stroke-opacity:1.0\" transform=\"translate(161.21941133749937, 641.8060200668897)\"><circle r=\"0.0\"></circle></g><g class=\"toyplot-Datum\" style=\"fill:rgb(40%,76.1%,64.7%);fill-opacity:1.0;opacity:1.0;stroke:rgb(40%,76.1%,64.7%);stroke-opacity:1.0\" transform=\"translate(161.7272413403942, 620.903010033445)\"><circle r=\"0.0\"></circle></g><g class=\"toyplot-Datum\" style=\"fill:rgb(40%,76.1%,64.7%);fill-opacity:1.0;opacity:1.0;stroke:rgb(40%,76.1%,64.7%);stroke-opacity:1.0\" transform=\"translate(161.17749371827486, 600.0)\"><circle r=\"0.0\"></circle></g><g class=\"toyplot-Datum\" style=\"fill:rgb(40%,76.1%,64.7%);fill-opacity:1.0;opacity:1.0;stroke:rgb(40%,76.1%,64.7%);stroke-opacity:1.0\" transform=\"translate(161.59389301034335, 579.0969899665553)\"><circle r=\"0.0\"></circle></g><g class=\"toyplot-Datum\" style=\"fill:rgb(40%,76.1%,64.7%);fill-opacity:1.0;opacity:1.0;stroke:rgb(40%,76.1%,64.7%);stroke-opacity:1.0\" transform=\"translate(161.6058975893962, 558.1939799331104)\"><circle r=\"0.0\"></circle></g><g class=\"toyplot-Datum\" style=\"fill:rgb(40%,76.1%,64.7%);fill-opacity:1.0;opacity:1.0;stroke:rgb(40%,76.1%,64.7%);stroke-opacity:1.0\" transform=\"translate(160.97509841572594, 537.2909698996657)\"><circle r=\"0.0\"></circle></g><g class=\"toyplot-Datum\" style=\"fill:rgb(40%,76.1%,64.7%);fill-opacity:1.0;opacity:1.0;stroke:rgb(40%,76.1%,64.7%);stroke-opacity:1.0\" transform=\"translate(160.93319832886505, 516.3879598662207)\"><circle r=\"0.0\"></circle></g><g class=\"toyplot-Datum\" style=\"fill:rgb(40%,76.1%,64.7%);fill-opacity:1.0;opacity:1.0;stroke:rgb(40%,76.1%,64.7%);stroke-opacity:1.0\" transform=\"translate(160.89129371752324, 495.484949832776)\"><circle r=\"0.0\"></circle></g><g class=\"toyplot-Datum\" style=\"fill:rgb(40%,76.1%,64.7%);fill-opacity:1.0;opacity:1.0;stroke:rgb(40%,76.1%,64.7%);stroke-opacity:1.0\" transform=\"translate(160.89129371752324, 474.5819397993311)\"><circle r=\"0.0\"></circle></g><g class=\"toyplot-Datum\" style=\"fill:rgb(40%,76.1%,64.7%);fill-opacity:1.0;opacity:1.0;stroke:rgb(40%,76.1%,64.7%);stroke-opacity:1.0\" transform=\"translate(158.31601685386735, 453.6789297658863)\"><circle r=\"0.0\"></circle></g><g class=\"toyplot-Datum\" style=\"fill:rgb(40%,76.1%,64.7%);fill-opacity:1.0;opacity:1.0;stroke:rgb(40%,76.1%,64.7%);stroke-opacity:1.0\" transform=\"translate(158.31601685386735, 432.77591973244154)\"><circle r=\"0.0\"></circle></g><g class=\"toyplot-Datum\" style=\"fill:rgb(40%,76.1%,64.7%);fill-opacity:1.0;opacity:1.0;stroke:rgb(40%,76.1%,64.7%);stroke-opacity:1.0\" transform=\"translate(158.2316777013537, 411.87290969899664)\"><circle r=\"0.0\"></circle></g><g class=\"toyplot-Datum\" style=\"fill:rgb(40%,76.1%,64.7%);fill-opacity:1.0;opacity:1.0;stroke:rgb(40%,76.1%,64.7%);stroke-opacity:1.0\" transform=\"translate(158.14734703224178, 390.96989966555185)\"><circle r=\"0.0\"></circle></g><g class=\"toyplot-Datum\" style=\"fill:rgb(40%,76.1%,64.7%);fill-opacity:1.0;opacity:1.0;stroke:rgb(40%,76.1%,64.7%);stroke-opacity:1.0\" transform=\"translate(158.1476388612624, 370.06688963210706)\"><circle r=\"0.0\"></circle></g><g class=\"toyplot-Datum\" style=\"fill:rgb(40%,76.1%,64.7%);fill-opacity:1.0;opacity:1.0;stroke:rgb(40%,76.1%,64.7%);stroke-opacity:1.0\" transform=\"translate(158.5998058718383, 349.16387959866216)\"><circle r=\"0.0\"></circle></g><g class=\"toyplot-Datum\" style=\"fill:rgb(40%,76.1%,64.7%);fill-opacity:1.0;opacity:1.0;stroke:rgb(40%,76.1%,64.7%);stroke-opacity:1.0\" transform=\"translate(158.6419717719544, 328.2608695652174)\"><circle r=\"0.0\"></circle></g><g class=\"toyplot-Datum\" style=\"fill:rgb(40%,76.1%,64.7%);fill-opacity:1.0;opacity:1.0;stroke:rgb(40%,76.1%,64.7%);stroke-opacity:1.0\" transform=\"translate(158.55763714392168, 307.3578595317726)\"><circle r=\"0.0\"></circle></g><g class=\"toyplot-Datum\" style=\"fill:rgb(40%,76.1%,64.7%);fill-opacity:1.0;opacity:1.0;stroke:rgb(40%,76.1%,64.7%);stroke-opacity:1.0\" transform=\"translate(156.69575385348736, 286.4548494983277)\"><circle r=\"0.0\"></circle></g><g class=\"toyplot-Datum\" style=\"fill:rgb(40%,76.1%,64.7%);fill-opacity:1.0;opacity:1.0;stroke:rgb(40%,76.1%,64.7%);stroke-opacity:1.0\" transform=\"translate(156.69575441904752, 265.5518394648829)\"><circle r=\"0.0\"></circle></g><g class=\"toyplot-Datum\" style=\"fill:rgb(40%,76.1%,64.7%);fill-opacity:1.0;opacity:1.0;stroke:rgb(40%,76.1%,64.7%);stroke-opacity:1.0\" transform=\"translate(156.65359247785227, 244.64882943143812)\"><circle r=\"0.0\"></circle></g><g class=\"toyplot-Datum\" style=\"fill:rgb(40%,76.1%,64.7%);fill-opacity:1.0;opacity:1.0;stroke:rgb(40%,76.1%,64.7%);stroke-opacity:1.0\" transform=\"translate(156.78008282591892, 223.74581939799322)\"><circle r=\"0.0\"></circle></g><g class=\"toyplot-Datum\" style=\"fill:rgb(40%,76.1%,64.7%);fill-opacity:1.0;opacity:1.0;stroke:rgb(40%,76.1%,64.7%);stroke-opacity:1.0\" transform=\"translate(160.84178571596254, 202.84280936454843)\"><circle r=\"0.0\"></circle></g><g class=\"toyplot-Datum\" style=\"fill:rgb(40%,76.1%,64.7%);fill-opacity:1.0;opacity:1.0;stroke:rgb(40%,76.1%,64.7%);stroke-opacity:1.0\" transform=\"translate(160.84178571596254, 181.93979933110367)\"><circle r=\"0.0\"></circle></g><g class=\"toyplot-Datum\" style=\"fill:rgb(40%,76.1%,64.7%);fill-opacity:1.0;opacity:1.0;stroke:rgb(40%,76.1%,64.7%);stroke-opacity:1.0\" transform=\"translate(160.84178571596254, 161.03678929765877)\"><circle r=\"0.0\"></circle></g><g class=\"toyplot-Datum\" style=\"fill:rgb(40%,76.1%,64.7%);fill-opacity:1.0;opacity:1.0;stroke:rgb(40%,76.1%,64.7%);stroke-opacity:1.0\" transform=\"translate(160.8448906410073, 140.13377926421398)\"><circle r=\"0.0\"></circle></g><g class=\"toyplot-Datum\" style=\"fill:rgb(40%,76.1%,64.7%);fill-opacity:1.0;opacity:1.0;stroke:rgb(40%,76.1%,64.7%);stroke-opacity:1.0\" transform=\"translate(158.8105714641254, 119.23076923076921)\"><circle r=\"0.0\"></circle></g><g class=\"toyplot-Datum\" style=\"fill:rgb(40%,76.1%,64.7%);fill-opacity:1.0;opacity:1.0;stroke:rgb(40%,76.1%,64.7%);stroke-opacity:1.0\" transform=\"translate(158.93721225118333, 98.32775919732443)\"><circle r=\"0.0\"></circle></g><g class=\"toyplot-Datum\" style=\"fill:rgb(40%,76.1%,64.7%);fill-opacity:1.0;opacity:1.0;stroke:rgb(40%,76.1%,64.7%);stroke-opacity:1.0\" transform=\"translate(158.76915153780425, 77.42474916387953)\"><circle r=\"0.0\"></circle></g><g class=\"toyplot-Datum\" style=\"fill:rgb(40%,76.1%,64.7%);fill-opacity:1.0;opacity:1.0;stroke:rgb(40%,76.1%,64.7%);stroke-opacity:1.0\" transform=\"translate(90.14396868522141, 56.521739130434746)\"><circle r=\"0.0\"></circle></g><g class=\"toyplot-Datum\" style=\"fill:rgb(40%,76.1%,64.7%);fill-opacity:1.0;opacity:1.0;stroke:rgb(40%,76.1%,64.7%);stroke-opacity:1.0\" transform=\"translate(165.87301587301587, 1143.4782608695652)\"><circle r=\"0.0\"></circle></g><g class=\"toyplot-Datum\" style=\"fill:rgb(40%,76.1%,64.7%);fill-opacity:1.0;opacity:1.0;stroke:rgb(40%,76.1%,64.7%);stroke-opacity:1.0\" transform=\"translate(165.87301587301587, 1122.5752508361204)\"><circle r=\"0.0\"></circle></g><g class=\"toyplot-Datum\" style=\"fill:rgb(40%,76.1%,64.7%);fill-opacity:1.0;opacity:1.0;stroke:rgb(40%,76.1%,64.7%);stroke-opacity:1.0\" transform=\"translate(165.87301587301587, 1101.6722408026756)\"><circle r=\"0.0\"></circle></g><g class=\"toyplot-Datum\" style=\"fill:rgb(40%,76.1%,64.7%);fill-opacity:1.0;opacity:1.0;stroke:rgb(40%,76.1%,64.7%);stroke-opacity:1.0\" transform=\"translate(165.87301587301587, 1080.7692307692307)\"><circle r=\"0.0\"></circle></g><g class=\"toyplot-Datum\" style=\"fill:rgb(40%,76.1%,64.7%);fill-opacity:1.0;opacity:1.0;stroke:rgb(40%,76.1%,64.7%);stroke-opacity:1.0\" transform=\"translate(165.87301587301587, 1059.866220735786)\"><circle r=\"0.0\"></circle></g><g class=\"toyplot-Datum\" style=\"fill:rgb(40%,76.1%,64.7%);fill-opacity:1.0;opacity:1.0;stroke:rgb(40%,76.1%,64.7%);stroke-opacity:1.0\" transform=\"translate(165.87301587301587, 1038.9632107023413)\"><circle r=\"0.0\"></circle></g><g class=\"toyplot-Datum\" style=\"fill:rgb(40%,76.1%,64.7%);fill-opacity:1.0;opacity:1.0;stroke:rgb(40%,76.1%,64.7%);stroke-opacity:1.0\" transform=\"translate(165.87301587301587, 1018.0602006688963)\"><circle r=\"0.0\"></circle></g><g class=\"toyplot-Datum\" style=\"fill:rgb(40%,76.1%,64.7%);fill-opacity:1.0;opacity:1.0;stroke:rgb(40%,76.1%,64.7%);stroke-opacity:1.0\" transform=\"translate(165.87301587301587, 997.1571906354516)\"><circle r=\"0.0\"></circle></g><g class=\"toyplot-Datum\" style=\"fill:rgb(40%,76.1%,64.7%);fill-opacity:1.0;opacity:1.0;stroke:rgb(40%,76.1%,64.7%);stroke-opacity:1.0\" transform=\"translate(165.87301587301587, 976.2541806020067)\"><circle r=\"0.0\"></circle></g><g class=\"toyplot-Datum\" style=\"fill:rgb(40%,76.1%,64.7%);fill-opacity:1.0;opacity:1.0;stroke:rgb(40%,76.1%,64.7%);stroke-opacity:1.0\" transform=\"translate(165.87301587301587, 955.3511705685619)\"><circle r=\"0.0\"></circle></g><g class=\"toyplot-Datum\" style=\"fill:rgb(40%,76.1%,64.7%);fill-opacity:1.0;opacity:1.0;stroke:rgb(40%,76.1%,64.7%);stroke-opacity:1.0\" transform=\"translate(165.87301587301587, 934.448160535117)\"><circle r=\"0.0\"></circle></g><g class=\"toyplot-Datum\" style=\"fill:rgb(40%,76.1%,64.7%);fill-opacity:1.0;opacity:1.0;stroke:rgb(40%,76.1%,64.7%);stroke-opacity:1.0\" transform=\"translate(165.87301587301587, 913.5451505016723)\"><circle r=\"0.0\"></circle></g><g class=\"toyplot-Datum\" style=\"fill:rgb(40%,76.1%,64.7%);fill-opacity:1.0;opacity:1.0;stroke:rgb(40%,76.1%,64.7%);stroke-opacity:1.0\" transform=\"translate(165.87301587301587, 892.6421404682275)\"><circle r=\"0.0\"></circle></g><g class=\"toyplot-Datum\" style=\"fill:rgb(40%,76.1%,64.7%);fill-opacity:1.0;opacity:1.0;stroke:rgb(40%,76.1%,64.7%);stroke-opacity:1.0\" transform=\"translate(165.87301587301587, 871.7391304347827)\"><circle r=\"0.0\"></circle></g><g class=\"toyplot-Datum\" style=\"fill:rgb(40%,76.1%,64.7%);fill-opacity:1.0;opacity:1.0;stroke:rgb(40%,76.1%,64.7%);stroke-opacity:1.0\" transform=\"translate(165.87301587301587, 850.8361204013378)\"><circle r=\"0.0\"></circle></g><g class=\"toyplot-Datum\" style=\"fill:rgb(40%,76.1%,64.7%);fill-opacity:1.0;opacity:1.0;stroke:rgb(40%,76.1%,64.7%);stroke-opacity:1.0\" transform=\"translate(165.87301587301587, 829.9331103678929)\"><circle r=\"0.0\"></circle></g><g class=\"toyplot-Datum\" style=\"fill:rgb(40%,76.1%,64.7%);fill-opacity:1.0;opacity:1.0;stroke:rgb(40%,76.1%,64.7%);stroke-opacity:1.0\" transform=\"translate(165.87301587301587, 809.0301003344483)\"><circle r=\"0.0\"></circle></g><g class=\"toyplot-Datum\" style=\"fill:rgb(40%,76.1%,64.7%);fill-opacity:1.0;opacity:1.0;stroke:rgb(40%,76.1%,64.7%);stroke-opacity:1.0\" transform=\"translate(165.87301587301587, 788.1270903010034)\"><circle r=\"0.0\"></circle></g><g class=\"toyplot-Datum\" style=\"fill:rgb(40%,76.1%,64.7%);fill-opacity:1.0;opacity:1.0;stroke:rgb(40%,76.1%,64.7%);stroke-opacity:1.0\" transform=\"translate(165.87301587301587, 767.2240802675586)\"><circle r=\"0.0\"></circle></g><g class=\"toyplot-Datum\" style=\"fill:rgb(40%,76.1%,64.7%);fill-opacity:1.0;opacity:1.0;stroke:rgb(40%,76.1%,64.7%);stroke-opacity:1.0\" transform=\"translate(165.87301587301587, 746.3210702341138)\"><circle r=\"0.0\"></circle></g><g class=\"toyplot-Datum\" style=\"fill:rgb(40%,76.1%,64.7%);fill-opacity:1.0;opacity:1.0;stroke:rgb(40%,76.1%,64.7%);stroke-opacity:1.0\" transform=\"translate(165.87301587301587, 725.418060200669)\"><circle r=\"0.0\"></circle></g><g class=\"toyplot-Datum\" style=\"fill:rgb(40%,76.1%,64.7%);fill-opacity:1.0;opacity:1.0;stroke:rgb(40%,76.1%,64.7%);stroke-opacity:1.0\" transform=\"translate(165.87301587301587, 704.5150501672241)\"><circle r=\"0.0\"></circle></g><g class=\"toyplot-Datum\" style=\"fill:rgb(40%,76.1%,64.7%);fill-opacity:1.0;opacity:1.0;stroke:rgb(40%,76.1%,64.7%);stroke-opacity:1.0\" transform=\"translate(165.87301587301587, 683.6120401337794)\"><circle r=\"0.0\"></circle></g><g class=\"toyplot-Datum\" style=\"fill:rgb(40%,76.1%,64.7%);fill-opacity:1.0;opacity:1.0;stroke:rgb(40%,76.1%,64.7%);stroke-opacity:1.0\" transform=\"translate(165.87301587301587, 662.7090301003344)\"><circle r=\"0.0\"></circle></g><g class=\"toyplot-Datum\" style=\"fill:rgb(40%,76.1%,64.7%);fill-opacity:1.0;opacity:1.0;stroke:rgb(40%,76.1%,64.7%);stroke-opacity:1.0\" transform=\"translate(165.87301587301587, 641.8060200668897)\"><circle r=\"0.0\"></circle></g><g class=\"toyplot-Datum\" style=\"fill:rgb(40%,76.1%,64.7%);fill-opacity:1.0;opacity:1.0;stroke:rgb(40%,76.1%,64.7%);stroke-opacity:1.0\" transform=\"translate(165.87301587301587, 620.903010033445)\"><circle r=\"0.0\"></circle></g><g class=\"toyplot-Datum\" style=\"fill:rgb(40%,76.1%,64.7%);fill-opacity:1.0;opacity:1.0;stroke:rgb(40%,76.1%,64.7%);stroke-opacity:1.0\" transform=\"translate(165.87301587301587, 600.0)\"><circle r=\"0.0\"></circle></g><g class=\"toyplot-Datum\" style=\"fill:rgb(40%,76.1%,64.7%);fill-opacity:1.0;opacity:1.0;stroke:rgb(40%,76.1%,64.7%);stroke-opacity:1.0\" transform=\"translate(165.87301587301587, 579.0969899665553)\"><circle r=\"0.0\"></circle></g><g class=\"toyplot-Datum\" style=\"fill:rgb(40%,76.1%,64.7%);fill-opacity:1.0;opacity:1.0;stroke:rgb(40%,76.1%,64.7%);stroke-opacity:1.0\" transform=\"translate(165.87301587301587, 558.1939799331104)\"><circle r=\"0.0\"></circle></g><g class=\"toyplot-Datum\" style=\"fill:rgb(40%,76.1%,64.7%);fill-opacity:1.0;opacity:1.0;stroke:rgb(40%,76.1%,64.7%);stroke-opacity:1.0\" transform=\"translate(165.87301587301587, 537.2909698996657)\"><circle r=\"0.0\"></circle></g><g class=\"toyplot-Datum\" style=\"fill:rgb(40%,76.1%,64.7%);fill-opacity:1.0;opacity:1.0;stroke:rgb(40%,76.1%,64.7%);stroke-opacity:1.0\" transform=\"translate(165.87301587301587, 516.3879598662207)\"><circle r=\"0.0\"></circle></g><g class=\"toyplot-Datum\" style=\"fill:rgb(40%,76.1%,64.7%);fill-opacity:1.0;opacity:1.0;stroke:rgb(40%,76.1%,64.7%);stroke-opacity:1.0\" transform=\"translate(165.87301587301587, 495.484949832776)\"><circle r=\"0.0\"></circle></g><g class=\"toyplot-Datum\" style=\"fill:rgb(40%,76.1%,64.7%);fill-opacity:1.0;opacity:1.0;stroke:rgb(40%,76.1%,64.7%);stroke-opacity:1.0\" transform=\"translate(165.87301587301587, 474.5819397993311)\"><circle r=\"0.0\"></circle></g><g class=\"toyplot-Datum\" style=\"fill:rgb(40%,76.1%,64.7%);fill-opacity:1.0;opacity:1.0;stroke:rgb(40%,76.1%,64.7%);stroke-opacity:1.0\" transform=\"translate(165.87301587301587, 453.6789297658863)\"><circle r=\"0.0\"></circle></g><g class=\"toyplot-Datum\" style=\"fill:rgb(40%,76.1%,64.7%);fill-opacity:1.0;opacity:1.0;stroke:rgb(40%,76.1%,64.7%);stroke-opacity:1.0\" transform=\"translate(165.87301587301587, 432.77591973244154)\"><circle r=\"0.0\"></circle></g><g class=\"toyplot-Datum\" style=\"fill:rgb(40%,76.1%,64.7%);fill-opacity:1.0;opacity:1.0;stroke:rgb(40%,76.1%,64.7%);stroke-opacity:1.0\" transform=\"translate(165.87301587301587, 411.87290969899664)\"><circle r=\"0.0\"></circle></g><g class=\"toyplot-Datum\" style=\"fill:rgb(40%,76.1%,64.7%);fill-opacity:1.0;opacity:1.0;stroke:rgb(40%,76.1%,64.7%);stroke-opacity:1.0\" transform=\"translate(165.87301587301587, 390.96989966555185)\"><circle r=\"0.0\"></circle></g><g class=\"toyplot-Datum\" style=\"fill:rgb(40%,76.1%,64.7%);fill-opacity:1.0;opacity:1.0;stroke:rgb(40%,76.1%,64.7%);stroke-opacity:1.0\" transform=\"translate(165.87301587301587, 370.06688963210706)\"><circle r=\"0.0\"></circle></g><g class=\"toyplot-Datum\" style=\"fill:rgb(40%,76.1%,64.7%);fill-opacity:1.0;opacity:1.0;stroke:rgb(40%,76.1%,64.7%);stroke-opacity:1.0\" transform=\"translate(165.87301587301587, 349.16387959866216)\"><circle r=\"0.0\"></circle></g><g class=\"toyplot-Datum\" style=\"fill:rgb(40%,76.1%,64.7%);fill-opacity:1.0;opacity:1.0;stroke:rgb(40%,76.1%,64.7%);stroke-opacity:1.0\" transform=\"translate(165.87301587301587, 328.2608695652174)\"><circle r=\"0.0\"></circle></g><g class=\"toyplot-Datum\" style=\"fill:rgb(40%,76.1%,64.7%);fill-opacity:1.0;opacity:1.0;stroke:rgb(40%,76.1%,64.7%);stroke-opacity:1.0\" transform=\"translate(165.87301587301587, 307.3578595317726)\"><circle r=\"0.0\"></circle></g><g class=\"toyplot-Datum\" style=\"fill:rgb(40%,76.1%,64.7%);fill-opacity:1.0;opacity:1.0;stroke:rgb(40%,76.1%,64.7%);stroke-opacity:1.0\" transform=\"translate(165.87301587301587, 286.4548494983277)\"><circle r=\"0.0\"></circle></g><g class=\"toyplot-Datum\" style=\"fill:rgb(40%,76.1%,64.7%);fill-opacity:1.0;opacity:1.0;stroke:rgb(40%,76.1%,64.7%);stroke-opacity:1.0\" transform=\"translate(165.87301587301587, 265.5518394648829)\"><circle r=\"0.0\"></circle></g><g class=\"toyplot-Datum\" style=\"fill:rgb(40%,76.1%,64.7%);fill-opacity:1.0;opacity:1.0;stroke:rgb(40%,76.1%,64.7%);stroke-opacity:1.0\" transform=\"translate(165.87301587301587, 244.64882943143812)\"><circle r=\"0.0\"></circle></g><g class=\"toyplot-Datum\" style=\"fill:rgb(40%,76.1%,64.7%);fill-opacity:1.0;opacity:1.0;stroke:rgb(40%,76.1%,64.7%);stroke-opacity:1.0\" transform=\"translate(165.87301587301587, 223.74581939799322)\"><circle r=\"0.0\"></circle></g><g class=\"toyplot-Datum\" style=\"fill:rgb(40%,76.1%,64.7%);fill-opacity:1.0;opacity:1.0;stroke:rgb(40%,76.1%,64.7%);stroke-opacity:1.0\" transform=\"translate(165.87301587301587, 202.84280936454843)\"><circle r=\"0.0\"></circle></g><g class=\"toyplot-Datum\" style=\"fill:rgb(40%,76.1%,64.7%);fill-opacity:1.0;opacity:1.0;stroke:rgb(40%,76.1%,64.7%);stroke-opacity:1.0\" transform=\"translate(165.87301587301587, 181.93979933110367)\"><circle r=\"0.0\"></circle></g><g class=\"toyplot-Datum\" style=\"fill:rgb(40%,76.1%,64.7%);fill-opacity:1.0;opacity:1.0;stroke:rgb(40%,76.1%,64.7%);stroke-opacity:1.0\" transform=\"translate(165.87301587301587, 161.03678929765877)\"><circle r=\"0.0\"></circle></g><g class=\"toyplot-Datum\" style=\"fill:rgb(40%,76.1%,64.7%);fill-opacity:1.0;opacity:1.0;stroke:rgb(40%,76.1%,64.7%);stroke-opacity:1.0\" transform=\"translate(165.87301587301587, 140.13377926421398)\"><circle r=\"0.0\"></circle></g><g class=\"toyplot-Datum\" style=\"fill:rgb(40%,76.1%,64.7%);fill-opacity:1.0;opacity:1.0;stroke:rgb(40%,76.1%,64.7%);stroke-opacity:1.0\" transform=\"translate(165.87301587301587, 119.23076923076921)\"><circle r=\"0.0\"></circle></g><g class=\"toyplot-Datum\" style=\"fill:rgb(40%,76.1%,64.7%);fill-opacity:1.0;opacity:1.0;stroke:rgb(40%,76.1%,64.7%);stroke-opacity:1.0\" transform=\"translate(165.87301587301587, 98.32775919732443)\"><circle r=\"0.0\"></circle></g><g class=\"toyplot-Datum\" style=\"fill:rgb(40%,76.1%,64.7%);fill-opacity:1.0;opacity:1.0;stroke:rgb(40%,76.1%,64.7%);stroke-opacity:1.0\" transform=\"translate(165.87301587301587, 77.42474916387953)\"><circle r=\"0.0\"></circle></g><g class=\"toyplot-Datum\" style=\"fill:rgb(40%,76.1%,64.7%);fill-opacity:1.0;opacity:1.0;stroke:rgb(40%,76.1%,64.7%);stroke-opacity:1.0\" transform=\"translate(165.87301587301587, 56.521739130434746)\"><circle r=\"0.0\"></circle></g></g></g><g class=\"toyplot-mark-Graph\" id=\"t0535dbdd22ca440ea83f953e0a8a7d11\"><g class=\"toyplot-Edges\"><path d=\"M 50.0 56.521739130434746 L 90.14396868522141 56.521739130434746\" style=\"fill:none;opacity:1;stroke:rgb(14.9%,14.9%,14.9%);stroke-linecap:round;stroke-opacity:1.0;stroke-width:2.0\"></path><path d=\"M 50.0 440.6553746864549 L 90.14396868522141 440.6553746864549\" style=\"fill:none;opacity:1;stroke:rgb(14.9%,14.9%,14.9%);stroke-linecap:round;stroke-opacity:1.0;stroke-width:2.0\"></path><path d=\"M 90.14396868522141 212.4777905518395 L 136.78055366246411 212.4777905518395\" style=\"fill:none;opacity:1;stroke:rgb(14.9%,14.9%,14.9%);stroke-linecap:round;stroke-opacity:1.0;stroke-width:2.0\"></path><path d=\"M 90.14396868522141 668.8329588210703 L 117.34546876634045 668.8329588210703\" style=\"fill:none;opacity:1;stroke:rgb(14.9%,14.9%,14.9%);stroke-linecap:round;stroke-opacity:1.0;stroke-width:2.0\"></path><path d=\"M 136.78055366246411 125.76295986622065 L 144.9352812929755 125.76295986622065\" style=\"fill:none;opacity:1;stroke:rgb(14.9%,14.9%,14.9%);stroke-linecap:round;stroke-opacity:1.0;stroke-width:2.0\"></path><path d=\"M 136.78055366246411 299.1926212374582 L 151.8775362590677 299.1926212374582\" style=\"fill:none;opacity:1;stroke:rgb(14.9%,14.9%,14.9%);stroke-linecap:round;stroke-opacity:1.0;stroke-width:2.0\"></path><path d=\"M 117.34546876634045 541.8635033444816 L 149.48994447930608 541.8635033444816\" style=\"fill:none;opacity:1;stroke:rgb(14.9%,14.9%,14.9%);stroke-linecap:round;stroke-opacity:1.0;stroke-width:2.0\"></path><path d=\"M 117.34546876634045 795.802414297659 L 129.31934865044798 795.802414297659\" style=\"fill:none;opacity:1;stroke:rgb(14.9%,14.9%,14.9%);stroke-linecap:round;stroke-opacity:1.0;stroke-width:2.0\"></path><path d=\"M 144.9352812929755 93.1020066889632 L 158.7265625987203 93.1020066889632\" style=\"fill:none;opacity:1;stroke:rgb(14.9%,14.9%,14.9%);stroke-linecap:round;stroke-opacity:1.0;stroke-width:2.0\"></path><path d=\"M 144.9352812929755 158.42391304347822 L 160.67436465107625 158.42391304347822\" style=\"fill:none;opacity:1;stroke:rgb(14.9%,14.9%,14.9%);stroke-linecap:round;stroke-opacity:1.0;stroke-width:2.0\"></path><path d=\"M 151.8775362590677 242.03595317725745 L 156.65358682225107 242.03595317725745\" style=\"fill:none;opacity:1;stroke:rgb(14.9%,14.9%,14.9%);stroke-linecap:round;stroke-opacity:1.0;stroke-width:2.0\"></path><path d=\"M 151.8775362590677 356.3492892976588 L 153.26320379161217 356.3492892976588\" style=\"fill:none;opacity:1;stroke:rgb(14.9%,14.9%,14.9%);stroke-linecap:round;stroke-opacity:1.0;stroke-width:2.0\"></path><path d=\"M 149.48994447930608 505.93645484949843 L 160.89129088972265 505.93645484949843\" style=\"fill:none;opacity:1;stroke:rgb(14.9%,14.9%,14.9%);stroke-linecap:round;stroke-opacity:1.0;stroke-width:2.0\"></path><path d=\"M 149.48994447930608 577.790551839465 L 158.40214091411167 577.790551839465\" style=\"fill:none;opacity:1;stroke:rgb(14.9%,14.9%,14.9%);stroke-linecap:round;stroke-opacity:1.0;stroke-width:2.0\"></path><path d=\"M 129.31934865044798 704.5150501672241 L 154.98986448576642 704.5150501672241\" style=\"fill:none;opacity:1;stroke:rgb(14.9%,14.9%,14.9%);stroke-linecap:round;stroke-opacity:1.0;stroke-width:2.0\"></path><path d=\"M 129.31934865044798 887.0897784280937 L 150.17869490153038 887.0897784280937\" style=\"fill:none;opacity:1;stroke:rgb(14.9%,14.9%,14.9%);stroke-linecap:round;stroke-opacity:1.0;stroke-width:2.0\"></path><path d=\"M 158.7265625987203 77.42474916387953 L 158.76915153780425 77.42474916387953\" style=\"fill:none;opacity:1;stroke:rgb(14.9%,14.9%,14.9%);stroke-linecap:round;stroke-opacity:1.0;stroke-width:2.0\"></path><path d=\"M 158.7265625987203 108.77926421404675 L 158.81056863632483 108.77926421404675\" style=\"fill:none;opacity:1;stroke:rgb(14.9%,14.9%,14.9%);stroke-linecap:round;stroke-opacity:1.0;stroke-width:2.0\"></path><path d=\"M 160.67436465107625 140.13377926421398 L 160.8448906410073 140.13377926421398\" style=\"fill:none;opacity:1;stroke:rgb(14.9%,14.9%,14.9%);stroke-linecap:round;stroke-opacity:1.0;stroke-width:2.0\"></path><path d=\"M 160.67436465107625 176.71404682274243 L 160.84178288816196 176.71404682274243\" style=\"fill:none;opacity:1;stroke:rgb(14.9%,14.9%,14.9%);stroke-linecap:round;stroke-opacity:1.0;stroke-width:2.0\"></path><path d=\"M 156.65358682225107 223.74581939799322 L 156.78008282591892 223.74581939799322\" style=\"fill:none;opacity:1;stroke:rgb(14.9%,14.9%,14.9%);stroke-linecap:round;stroke-opacity:1.0;stroke-width:2.0\"></path><path d=\"M 156.65358682225107 260.3260869565217 L 156.65358965005166 260.3260869565217\" style=\"fill:none;opacity:1;stroke:rgb(14.9%,14.9%,14.9%);stroke-linecap:round;stroke-opacity:1.0;stroke-width:2.0\"></path><path d=\"M 153.26320379161217 323.03511705685617 L 158.55763431612107 323.03511705685617\" style=\"fill:none;opacity:1;stroke:rgb(14.9%,14.9%,14.9%);stroke-linecap:round;stroke-opacity:1.0;stroke-width:2.0\"></path><path d=\"M 153.26320379161217 389.6634615384615 L 158.10534118563896 389.6634615384615\" style=\"fill:none;opacity:1;stroke:rgb(14.9%,14.9%,14.9%);stroke-linecap:round;stroke-opacity:1.0;stroke-width:2.0\"></path><path d=\"M 160.89129088972265 485.03344481605353 L 160.89129371752324 485.03344481605353\" style=\"fill:none;opacity:1;stroke:rgb(14.9%,14.9%,14.9%);stroke-linecap:round;stroke-opacity:1.0;stroke-width:2.0\"></path><path d=\"M 160.89129088972265 526.8394648829432 L 160.93319550106446 526.8394648829432\" style=\"fill:none;opacity:1;stroke:rgb(14.9%,14.9%,14.9%);stroke-linecap:round;stroke-opacity:1.0;stroke-width:2.0\"></path><path d=\"M 158.40214091411167 558.1939799331104 L 161.6058975893962 558.1939799331104\" style=\"fill:none;opacity:1;stroke:rgb(14.9%,14.9%,14.9%);stroke-linecap:round;stroke-opacity:1.0;stroke-width:2.0\"></path><path d=\"M 158.40214091411167 597.3871237458194 L 160.5531430610637 597.3871237458194\" style=\"fill:none;opacity:1;stroke:rgb(14.9%,14.9%,14.9%);stroke-linecap:round;stroke-opacity:1.0;stroke-width:2.0\"></path><path d=\"M 154.98986448576642 673.160535117057 L 161.13573841480405 673.160535117057\" style=\"fill:none;opacity:1;stroke:rgb(14.9%,14.9%,14.9%);stroke-linecap:round;stroke-opacity:1.0;stroke-width:2.0\"></path><path d=\"M 154.98986448576642 735.8695652173914 L 158.9505023483831 735.8695652173914\" style=\"fill:none;opacity:1;stroke:rgb(14.9%,14.9%,14.9%);stroke-linecap:round;stroke-opacity:1.0;stroke-width:2.0\"></path><path d=\"M 150.17869490153038 806.4172240802677 L 161.15880648087432 806.4172240802677\" style=\"fill:none;opacity:1;stroke:rgb(14.9%,14.9%,14.9%);stroke-linecap:round;stroke-opacity:1.0;stroke-width:2.0\"></path><path d=\"M 150.17869490153038 967.7623327759197 L 157.23494982049553 967.7623327759197\" style=\"fill:none;opacity:1;stroke:rgb(14.9%,14.9%,14.9%);stroke-linecap:round;stroke-opacity:1.0;stroke-width:2.0\"></path><path d=\"M 158.81056863632483 98.32775919732443 L 158.93721225118333 98.32775919732443\" style=\"fill:none;opacity:1;stroke:rgb(14.9%,14.9%,14.9%);stroke-linecap:round;stroke-opacity:1.0;stroke-width:2.0\"></path><path d=\"M 158.81056863632483 119.23076923076921 L 158.8105714641254 119.23076923076921\" style=\"fill:none;opacity:1;stroke:rgb(14.9%,14.9%,14.9%);stroke-linecap:round;stroke-opacity:1.0;stroke-width:2.0\"></path><path d=\"M 160.84178288816196 161.03678929765877 L 160.84178571596254 161.03678929765877\" style=\"fill:none;opacity:1;stroke:rgb(14.9%,14.9%,14.9%);stroke-linecap:round;stroke-opacity:1.0;stroke-width:2.0\"></path><path d=\"M 160.84178288816196 192.39130434782598 L 160.84178571596254 192.39130434782598\" style=\"fill:none;opacity:1;stroke:rgb(14.9%,14.9%,14.9%);stroke-linecap:round;stroke-opacity:1.0;stroke-width:2.0\"></path><path d=\"M 156.65358965005166 244.64882943143812 L 156.65359247785227 244.64882943143812\" style=\"fill:none;opacity:1;stroke:rgb(14.9%,14.9%,14.9%);stroke-linecap:round;stroke-opacity:1.0;stroke-width:2.0\"></path><path d=\"M 156.65358965005166 276.0033444816054 L 156.6957510256868 276.0033444816054\" style=\"fill:none;opacity:1;stroke:rgb(14.9%,14.9%,14.9%);stroke-linecap:round;stroke-opacity:1.0;stroke-width:2.0\"></path><path d=\"M 158.55763431612107 307.3578595317726 L 158.55763714392168 307.3578595317726\" style=\"fill:none;opacity:1;stroke:rgb(14.9%,14.9%,14.9%);stroke-linecap:round;stroke-opacity:1.0;stroke-width:2.0\"></path><path d=\"M 158.55763431612107 338.71237458193986 L 158.59980304403774 338.71237458193986\" style=\"fill:none;opacity:1;stroke:rgb(14.9%,14.9%,14.9%);stroke-linecap:round;stroke-opacity:1.0;stroke-width:2.0\"></path><path d=\"M 158.10534118563896 370.06688963210706 L 158.1476388612624 370.06688963210706\" style=\"fill:none;opacity:1;stroke:rgb(14.9%,14.9%,14.9%);stroke-linecap:round;stroke-opacity:1.0;stroke-width:2.0\"></path><path d=\"M 158.10534118563896 409.2600334448161 L 158.1473442044412 409.2600334448161\" style=\"fill:none;opacity:1;stroke:rgb(14.9%,14.9%,14.9%);stroke-linecap:round;stroke-opacity:1.0;stroke-width:2.0\"></path><path d=\"M 160.89129371752324 474.5819397993311 L 160.89129371752324 474.5819397993311\" style=\"fill:none;opacity:1;stroke:rgb(14.9%,14.9%,14.9%);stroke-linecap:round;stroke-opacity:1.0;stroke-width:2.0\"></path><path d=\"M 160.89129371752324 495.484949832776 L 160.89129371752324 495.484949832776\" style=\"fill:none;opacity:1;stroke:rgb(14.9%,14.9%,14.9%);stroke-linecap:round;stroke-opacity:1.0;stroke-width:2.0\"></path><path d=\"M 160.93319550106446 516.3879598662207 L 160.93319832886505 516.3879598662207\" style=\"fill:none;opacity:1;stroke:rgb(14.9%,14.9%,14.9%);stroke-linecap:round;stroke-opacity:1.0;stroke-width:2.0\"></path><path d=\"M 160.93319550106446 537.2909698996657 L 160.97509841572594 537.2909698996657\" style=\"fill:none;opacity:1;stroke:rgb(14.9%,14.9%,14.9%);stroke-linecap:round;stroke-opacity:1.0;stroke-width:2.0\"></path><path d=\"M 160.5531430610637 579.0969899665553 L 161.59389301034335 579.0969899665553\" style=\"fill:none;opacity:1;stroke:rgb(14.9%,14.9%,14.9%);stroke-linecap:round;stroke-opacity:1.0;stroke-width:2.0\"></path><path d=\"M 160.5531430610637 615.6772575250836 L 161.17749089047427 615.6772575250836\" style=\"fill:none;opacity:1;stroke:rgb(14.9%,14.9%,14.9%);stroke-linecap:round;stroke-opacity:1.0;stroke-width:2.0\"></path><path d=\"M 161.13573841480405 662.7090301003344 L 161.6383697890993 662.7090301003344\" style=\"fill:none;opacity:1;stroke:rgb(14.9%,14.9%,14.9%);stroke-linecap:round;stroke-opacity:1.0;stroke-width:2.0\"></path><path d=\"M 161.13573841480405 683.6120401337794 L 161.7881894920105 683.6120401337794\" style=\"fill:none;opacity:1;stroke:rgb(14.9%,14.9%,14.9%);stroke-linecap:round;stroke-opacity:1.0;stroke-width:2.0\"></path><path d=\"M 158.9505023483831 714.9665551839466 L 162.64129111880357 714.9665551839466\" style=\"fill:none;opacity:1;stroke:rgb(14.9%,14.9%,14.9%);stroke-linecap:round;stroke-opacity:1.0;stroke-width:2.0\"></path><path d=\"M 158.9505023483831 756.7725752508363 L 162.54242329243291 756.7725752508363\" style=\"fill:none;opacity:1;stroke:rgb(14.9%,14.9%,14.9%);stroke-linecap:round;stroke-opacity:1.0;stroke-width:2.0\"></path><path d=\"M 161.15880648087432 788.1270903010034 L 163.7636112382619 788.1270903010034\" style=\"fill:none;opacity:1;stroke:rgb(14.9%,14.9%,14.9%);stroke-linecap:round;stroke-opacity:1.0;stroke-width:2.0\"></path><path d=\"M 161.15880648087432 824.7073578595318 L 161.66631468006227 824.7073578595318\" style=\"fill:none;opacity:1;stroke:rgb(14.9%,14.9%,14.9%);stroke-linecap:round;stroke-opacity:1.0;stroke-width:2.0\"></path><path d=\"M 157.23494982049553 891.3357023411371 L 163.21421426341544 891.3357023411371\" style=\"fill:none;opacity:1;stroke:rgb(14.9%,14.9%,14.9%);stroke-linecap:round;stroke-opacity:1.0;stroke-width:2.0\"></path><path d=\"M 157.23494982049553 1044.1889632107025 L 161.0404862142642 1044.1889632107025\" style=\"fill:none;opacity:1;stroke:rgb(14.9%,14.9%,14.9%);stroke-linecap:round;stroke-opacity:1.0;stroke-width:2.0\"></path><path d=\"M 160.84178571596254 181.93979933110367 L 160.84178571596254 181.93979933110367\" style=\"fill:none;opacity:1;stroke:rgb(14.9%,14.9%,14.9%);stroke-linecap:round;stroke-opacity:1.0;stroke-width:2.0\"></path><path d=\"M 160.84178571596254 202.84280936454843 L 160.84178571596254 202.84280936454843\" style=\"fill:none;opacity:1;stroke:rgb(14.9%,14.9%,14.9%);stroke-linecap:round;stroke-opacity:1.0;stroke-width:2.0\"></path><path d=\"M 156.6957510256868 265.5518394648829 L 156.69575441904752 265.5518394648829\" style=\"fill:none;opacity:1;stroke:rgb(14.9%,14.9%,14.9%);stroke-linecap:round;stroke-opacity:1.0;stroke-width:2.0\"></path><path d=\"M 156.6957510256868 286.4548494983277 L 156.69575385348736 286.4548494983277\" style=\"fill:none;opacity:1;stroke:rgb(14.9%,14.9%,14.9%);stroke-linecap:round;stroke-opacity:1.0;stroke-width:2.0\"></path><path d=\"M 158.59980304403774 328.2608695652174 L 158.6419717719544 328.2608695652174\" style=\"fill:none;opacity:1;stroke:rgb(14.9%,14.9%,14.9%);stroke-linecap:round;stroke-opacity:1.0;stroke-width:2.0\"></path><path d=\"M 158.59980304403774 349.16387959866216 L 158.5998058718383 349.16387959866216\" style=\"fill:none;opacity:1;stroke:rgb(14.9%,14.9%,14.9%);stroke-linecap:round;stroke-opacity:1.0;stroke-width:2.0\"></path><path d=\"M 158.1473442044412 390.96989966555185 L 158.14734703224178 390.96989966555185\" style=\"fill:none;opacity:1;stroke:rgb(14.9%,14.9%,14.9%);stroke-linecap:round;stroke-opacity:1.0;stroke-width:2.0\"></path><path d=\"M 158.1473442044412 427.5501672240803 L 158.23167487355312 427.5501672240803\" style=\"fill:none;opacity:1;stroke:rgb(14.9%,14.9%,14.9%);stroke-linecap:round;stroke-opacity:1.0;stroke-width:2.0\"></path><path d=\"M 161.17749089047427 600.0 L 161.17749371827486 600.0\" style=\"fill:none;opacity:1;stroke:rgb(14.9%,14.9%,14.9%);stroke-linecap:round;stroke-opacity:1.0;stroke-width:2.0\"></path><path d=\"M 161.17749089047427 631.3545150501674 L 161.21940850969878 631.3545150501674\" style=\"fill:none;opacity:1;stroke:rgb(14.9%,14.9%,14.9%);stroke-linecap:round;stroke-opacity:1.0;stroke-width:2.0\"></path><path d=\"M 162.64129111880357 704.5150501672241 L 163.2012601089254 704.5150501672241\" style=\"fill:none;opacity:1;stroke:rgb(14.9%,14.9%,14.9%);stroke-linecap:round;stroke-opacity:1.0;stroke-width:2.0\"></path><path d=\"M 162.64129111880357 725.418060200669 L 163.09842091941005 725.418060200669\" style=\"fill:none;opacity:1;stroke:rgb(14.9%,14.9%,14.9%);stroke-linecap:round;stroke-opacity:1.0;stroke-width:2.0\"></path><path d=\"M 162.54242329243291 746.3210702341138 L 162.74360264072934 746.3210702341138\" style=\"fill:none;opacity:1;stroke:rgb(14.9%,14.9%,14.9%);stroke-linecap:round;stroke-opacity:1.0;stroke-width:2.0\"></path><path d=\"M 162.54242329243291 767.2240802675586 L 162.73165518324836 767.2240802675586\" style=\"fill:none;opacity:1;stroke:rgb(14.9%,14.9%,14.9%);stroke-linecap:round;stroke-opacity:1.0;stroke-width:2.0\"></path><path d=\"M 161.66631468006227 809.0301003344483 L 164.50477211656963 809.0301003344483\" style=\"fill:none;opacity:1;stroke:rgb(14.9%,14.9%,14.9%);stroke-linecap:round;stroke-opacity:1.0;stroke-width:2.0\"></path><path d=\"M 161.66631468006227 840.3846153846154 L 163.5017682150882 840.3846153846154\" style=\"fill:none;opacity:1;stroke:rgb(14.9%,14.9%,14.9%);stroke-linecap:round;stroke-opacity:1.0;stroke-width:2.0\"></path><path d=\"M 163.21421426341544 871.7391304347827 L 163.69940432924886 871.7391304347827\" style=\"fill:none;opacity:1;stroke:rgb(14.9%,14.9%,14.9%);stroke-linecap:round;stroke-opacity:1.0;stroke-width:2.0\"></path><path d=\"M 163.21421426341544 910.9322742474917 L 163.42810683759183 910.9322742474917\" style=\"fill:none;opacity:1;stroke:rgb(14.9%,14.9%,14.9%);stroke-linecap:round;stroke-opacity:1.0;stroke-width:2.0\"></path><path d=\"M 161.0404862142642 994.5443143812711 L 163.75433096229474 994.5443143812711\" style=\"fill:none;opacity:1;stroke:rgb(14.9%,14.9%,14.9%);stroke-linecap:round;stroke-opacity:1.0;stroke-width:2.0\"></path><path d=\"M 161.0404862142642 1093.8336120401339 L 163.5466131734806 1093.8336120401339\" style=\"fill:none;opacity:1;stroke:rgb(14.9%,14.9%,14.9%);stroke-linecap:round;stroke-opacity:1.0;stroke-width:2.0\"></path><path d=\"M 158.23167487355312 411.87290969899664 L 158.2316777013537 411.87290969899664\" style=\"fill:none;opacity:1;stroke:rgb(14.9%,14.9%,14.9%);stroke-linecap:round;stroke-opacity:1.0;stroke-width:2.0\"></path><path d=\"M 158.23167487355312 443.22742474916384 L 158.31601402606677 443.22742474916384\" style=\"fill:none;opacity:1;stroke:rgb(14.9%,14.9%,14.9%);stroke-linecap:round;stroke-opacity:1.0;stroke-width:2.0\"></path><path d=\"M 161.21940850969878 620.903010033445 L 161.7272413403942 620.903010033445\" style=\"fill:none;opacity:1;stroke:rgb(14.9%,14.9%,14.9%);stroke-linecap:round;stroke-opacity:1.0;stroke-width:2.0\"></path><path d=\"M 161.21940850969878 641.8060200668897 L 161.21941133749937 641.8060200668897\" style=\"fill:none;opacity:1;stroke:rgb(14.9%,14.9%,14.9%);stroke-linecap:round;stroke-opacity:1.0;stroke-width:2.0\"></path><path d=\"M 163.5017682150882 829.9331103678929 L 164.65988772442057 829.9331103678929\" style=\"fill:none;opacity:1;stroke:rgb(14.9%,14.9%,14.9%);stroke-linecap:round;stroke-opacity:1.0;stroke-width:2.0\"></path><path d=\"M 163.5017682150882 850.8361204013378 L 164.801074152139 850.8361204013378\" style=\"fill:none;opacity:1;stroke:rgb(14.9%,14.9%,14.9%);stroke-linecap:round;stroke-opacity:1.0;stroke-width:2.0\"></path><path d=\"M 163.42810683759183 892.6421404682275 L 164.16689349452653 892.6421404682275\" style=\"fill:none;opacity:1;stroke:rgb(14.9%,14.9%,14.9%);stroke-linecap:round;stroke-opacity:1.0;stroke-width:2.0\"></path><path d=\"M 163.42810683759183 929.2224080267558 L 163.52100404580267 929.2224080267558\" style=\"fill:none;opacity:1;stroke:rgb(14.9%,14.9%,14.9%);stroke-linecap:round;stroke-opacity:1.0;stroke-width:2.0\"></path><path d=\"M 163.75433096229474 976.2541806020067 L 164.98866931197458 976.2541806020067\" style=\"fill:none;opacity:1;stroke:rgb(14.9%,14.9%,14.9%);stroke-linecap:round;stroke-opacity:1.0;stroke-width:2.0\"></path><path d=\"M 163.75433096229474 1012.8344481605352 L 164.7524263675169 1012.8344481605352\" style=\"fill:none;opacity:1;stroke:rgb(14.9%,14.9%,14.9%);stroke-linecap:round;stroke-opacity:1.0;stroke-width:2.0\"></path><path d=\"M 163.5466131734806 1070.3177257525085 L 163.6941236944323 1070.3177257525085\" style=\"fill:none;opacity:1;stroke:rgb(14.9%,14.9%,14.9%);stroke-linecap:round;stroke-opacity:1.0;stroke-width:2.0\"></path><path d=\"M 163.5466131734806 1117.3494983277594 L 164.259162931007 1117.3494983277594\" style=\"fill:none;opacity:1;stroke:rgb(14.9%,14.9%,14.9%);stroke-linecap:round;stroke-opacity:1.0;stroke-width:2.0\"></path><path d=\"M 158.31601402606677 432.77591973244154 L 158.31601685386735 432.77591973244154\" style=\"fill:none;opacity:1;stroke:rgb(14.9%,14.9%,14.9%);stroke-linecap:round;stroke-opacity:1.0;stroke-width:2.0\"></path><path d=\"M 158.31601402606677 453.6789297658863 L 158.31601685386735 453.6789297658863\" style=\"fill:none;opacity:1;stroke:rgb(14.9%,14.9%,14.9%);stroke-linecap:round;stroke-opacity:1.0;stroke-width:2.0\"></path><path d=\"M 163.52100404580267 913.5451505016723 L 164.04945946062045 913.5451505016723\" style=\"fill:none;opacity:1;stroke:rgb(14.9%,14.9%,14.9%);stroke-linecap:round;stroke-opacity:1.0;stroke-width:2.0\"></path><path d=\"M 163.52100404580267 944.8996655518396 L 163.63715708604275 944.8996655518396\" style=\"fill:none;opacity:1;stroke:rgb(14.9%,14.9%,14.9%);stroke-linecap:round;stroke-opacity:1.0;stroke-width:2.0\"></path><path d=\"M 164.7524263675169 997.1571906354516 L 165.24754314453168 997.1571906354516\" style=\"fill:none;opacity:1;stroke:rgb(14.9%,14.9%,14.9%);stroke-linecap:round;stroke-opacity:1.0;stroke-width:2.0\"></path><path d=\"M 164.7524263675169 1028.5117056856188 L 164.96280568224375 1028.5117056856188\" style=\"fill:none;opacity:1;stroke:rgb(14.9%,14.9%,14.9%);stroke-linecap:round;stroke-opacity:1.0;stroke-width:2.0\"></path><path d=\"M 163.6941236944323 1059.866220735786 L 165.87301587301587 1059.866220735786\" style=\"fill:none;opacity:1;stroke:rgb(14.9%,14.9%,14.9%);stroke-linecap:round;stroke-opacity:1.0;stroke-width:2.0\"></path><path d=\"M 163.6941236944323 1080.7692307692307 L 164.7933384208526 1080.7692307692307\" style=\"fill:none;opacity:1;stroke:rgb(14.9%,14.9%,14.9%);stroke-linecap:round;stroke-opacity:1.0;stroke-width:2.0\"></path><path d=\"M 164.259162931007 1101.6722408026756 L 165.20501585150058 1101.6722408026756\" style=\"fill:none;opacity:1;stroke:rgb(14.9%,14.9%,14.9%);stroke-linecap:round;stroke-opacity:1.0;stroke-width:2.0\"></path><path d=\"M 164.259162931007 1133.0267558528428 L 164.52731025280983 1133.0267558528428\" style=\"fill:none;opacity:1;stroke:rgb(14.9%,14.9%,14.9%);stroke-linecap:round;stroke-opacity:1.0;stroke-width:2.0\"></path><path d=\"M 163.63715708604275 934.448160535117 L 164.1319763784357 934.448160535117\" style=\"fill:none;opacity:1;stroke:rgb(14.9%,14.9%,14.9%);stroke-linecap:round;stroke-opacity:1.0;stroke-width:2.0\"></path><path d=\"M 163.63715708604275 955.3511705685619 L 164.23134246326987 955.3511705685619\" style=\"fill:none;opacity:1;stroke:rgb(14.9%,14.9%,14.9%);stroke-linecap:round;stroke-opacity:1.0;stroke-width:2.0\"></path><path d=\"M 164.96280568224375 1018.0602006688963 L 165.35205017083337 1018.0602006688963\" style=\"fill:none;opacity:1;stroke:rgb(14.9%,14.9%,14.9%);stroke-linecap:round;stroke-opacity:1.0;stroke-width:2.0\"></path><path d=\"M 164.96280568224375 1038.9632107023413 L 165.3124999862605 1038.9632107023413\" style=\"fill:none;opacity:1;stroke:rgb(14.9%,14.9%,14.9%);stroke-linecap:round;stroke-opacity:1.0;stroke-width:2.0\"></path><path d=\"M 164.52731025280983 1122.5752508361204 L 164.7216615938084 1122.5752508361204\" style=\"fill:none;opacity:1;stroke:rgb(14.9%,14.9%,14.9%);stroke-linecap:round;stroke-opacity:1.0;stroke-width:2.0\"></path><path d=\"M 164.52731025280983 1143.4782608695652 L 164.9936897891371 1143.4782608695652\" style=\"fill:none;opacity:1;stroke:rgb(14.9%,14.9%,14.9%);stroke-linecap:round;stroke-opacity:1.0;stroke-width:2.0\"></path><path d=\"M 50.0 248.58855690844473 L 50.0 56.521739130434746\" style=\"fill:none;opacity:1;stroke:rgb(14.9%,14.9%,14.9%);stroke-linecap:round;stroke-opacity:1.0;stroke-width:2.0\"></path><path d=\"M 50.0 248.58855690844473 L 50.0 440.6553746864549\" style=\"fill:none;opacity:1;stroke:rgb(14.9%,14.9%,14.9%);stroke-linecap:round;stroke-opacity:1.0;stroke-width:2.0\"></path><path d=\"M 90.14396868522141 440.6553746864549 L 90.14396868522141 212.4777905518395\" style=\"fill:none;opacity:1;stroke:rgb(14.9%,14.9%,14.9%);stroke-linecap:round;stroke-opacity:1.0;stroke-width:2.0\"></path><path d=\"M 90.14396868522141 440.6553746864549 L 90.14396868522141 668.8329588210703\" style=\"fill:none;opacity:1;stroke:rgb(14.9%,14.9%,14.9%);stroke-linecap:round;stroke-opacity:1.0;stroke-width:2.0\"></path><path d=\"M 136.78055366246411 212.4777905518395 L 136.78055366246411 125.76295986622065\" style=\"fill:none;opacity:1;stroke:rgb(14.9%,14.9%,14.9%);stroke-linecap:round;stroke-opacity:1.0;stroke-width:2.0\"></path><path d=\"M 136.78055366246411 212.4777905518395 L 136.78055366246411 299.1926212374582\" style=\"fill:none;opacity:1;stroke:rgb(14.9%,14.9%,14.9%);stroke-linecap:round;stroke-opacity:1.0;stroke-width:2.0\"></path><path d=\"M 117.34546876634045 668.8329588210703 L 117.34546876634045 541.8635033444816\" style=\"fill:none;opacity:1;stroke:rgb(14.9%,14.9%,14.9%);stroke-linecap:round;stroke-opacity:1.0;stroke-width:2.0\"></path><path d=\"M 117.34546876634045 668.8329588210703 L 117.34546876634045 795.802414297659\" style=\"fill:none;opacity:1;stroke:rgb(14.9%,14.9%,14.9%);stroke-linecap:round;stroke-opacity:1.0;stroke-width:2.0\"></path><path d=\"M 144.9352812929755 125.76295986622065 L 144.9352812929755 93.1020066889632\" style=\"fill:none;opacity:1;stroke:rgb(14.9%,14.9%,14.9%);stroke-linecap:round;stroke-opacity:1.0;stroke-width:2.0\"></path><path d=\"M 144.9352812929755 125.76295986622065 L 144.9352812929755 158.42391304347822\" style=\"fill:none;opacity:1;stroke:rgb(14.9%,14.9%,14.9%);stroke-linecap:round;stroke-opacity:1.0;stroke-width:2.0\"></path><path d=\"M 151.8775362590677 299.1926212374582 L 151.8775362590677 242.03595317725745\" style=\"fill:none;opacity:1;stroke:rgb(14.9%,14.9%,14.9%);stroke-linecap:round;stroke-opacity:1.0;stroke-width:2.0\"></path><path d=\"M 151.8775362590677 299.1926212374582 L 151.8775362590677 356.3492892976588\" style=\"fill:none;opacity:1;stroke:rgb(14.9%,14.9%,14.9%);stroke-linecap:round;stroke-opacity:1.0;stroke-width:2.0\"></path><path d=\"M 149.48994447930608 541.8635033444816 L 149.48994447930608 505.93645484949843\" style=\"fill:none;opacity:1;stroke:rgb(14.9%,14.9%,14.9%);stroke-linecap:round;stroke-opacity:1.0;stroke-width:2.0\"></path><path d=\"M 149.48994447930608 541.8635033444816 L 149.48994447930608 577.790551839465\" style=\"fill:none;opacity:1;stroke:rgb(14.9%,14.9%,14.9%);stroke-linecap:round;stroke-opacity:1.0;stroke-width:2.0\"></path><path d=\"M 129.31934865044798 795.802414297659 L 129.31934865044798 704.5150501672241\" style=\"fill:none;opacity:1;stroke:rgb(14.9%,14.9%,14.9%);stroke-linecap:round;stroke-opacity:1.0;stroke-width:2.0\"></path><path d=\"M 129.31934865044798 795.802414297659 L 129.31934865044798 887.0897784280937\" style=\"fill:none;opacity:1;stroke:rgb(14.9%,14.9%,14.9%);stroke-linecap:round;stroke-opacity:1.0;stroke-width:2.0\"></path><path d=\"M 158.7265625987203 93.1020066889632 L 158.7265625987203 77.42474916387953\" style=\"fill:none;opacity:1;stroke:rgb(14.9%,14.9%,14.9%);stroke-linecap:round;stroke-opacity:1.0;stroke-width:2.0\"></path><path d=\"M 158.7265625987203 93.1020066889632 L 158.7265625987203 108.77926421404675\" style=\"fill:none;opacity:1;stroke:rgb(14.9%,14.9%,14.9%);stroke-linecap:round;stroke-opacity:1.0;stroke-width:2.0\"></path><path d=\"M 160.67436465107625 158.42391304347822 L 160.67436465107625 140.13377926421398\" style=\"fill:none;opacity:1;stroke:rgb(14.9%,14.9%,14.9%);stroke-linecap:round;stroke-opacity:1.0;stroke-width:2.0\"></path><path d=\"M 160.67436465107625 158.42391304347822 L 160.67436465107625 176.71404682274243\" style=\"fill:none;opacity:1;stroke:rgb(14.9%,14.9%,14.9%);stroke-linecap:round;stroke-opacity:1.0;stroke-width:2.0\"></path><path d=\"M 156.65358682225107 242.03595317725745 L 156.65358682225107 223.74581939799322\" style=\"fill:none;opacity:1;stroke:rgb(14.9%,14.9%,14.9%);stroke-linecap:round;stroke-opacity:1.0;stroke-width:2.0\"></path><path d=\"M 156.65358682225107 242.03595317725745 L 156.65358682225107 260.3260869565217\" style=\"fill:none;opacity:1;stroke:rgb(14.9%,14.9%,14.9%);stroke-linecap:round;stroke-opacity:1.0;stroke-width:2.0\"></path><path d=\"M 153.26320379161217 356.3492892976588 L 153.26320379161217 323.03511705685617\" style=\"fill:none;opacity:1;stroke:rgb(14.9%,14.9%,14.9%);stroke-linecap:round;stroke-opacity:1.0;stroke-width:2.0\"></path><path d=\"M 153.26320379161217 356.3492892976588 L 153.26320379161217 389.6634615384615\" style=\"fill:none;opacity:1;stroke:rgb(14.9%,14.9%,14.9%);stroke-linecap:round;stroke-opacity:1.0;stroke-width:2.0\"></path><path d=\"M 160.89129088972265 505.93645484949843 L 160.89129088972265 485.03344481605353\" style=\"fill:none;opacity:1;stroke:rgb(14.9%,14.9%,14.9%);stroke-linecap:round;stroke-opacity:1.0;stroke-width:2.0\"></path><path d=\"M 160.89129088972265 505.93645484949843 L 160.89129088972265 526.8394648829432\" style=\"fill:none;opacity:1;stroke:rgb(14.9%,14.9%,14.9%);stroke-linecap:round;stroke-opacity:1.0;stroke-width:2.0\"></path><path d=\"M 158.40214091411167 577.790551839465 L 158.40214091411167 558.1939799331104\" style=\"fill:none;opacity:1;stroke:rgb(14.9%,14.9%,14.9%);stroke-linecap:round;stroke-opacity:1.0;stroke-width:2.0\"></path><path d=\"M 158.40214091411167 577.790551839465 L 158.40214091411167 597.3871237458194\" style=\"fill:none;opacity:1;stroke:rgb(14.9%,14.9%,14.9%);stroke-linecap:round;stroke-opacity:1.0;stroke-width:2.0\"></path><path d=\"M 154.98986448576642 704.5150501672241 L 154.98986448576642 673.160535117057\" style=\"fill:none;opacity:1;stroke:rgb(14.9%,14.9%,14.9%);stroke-linecap:round;stroke-opacity:1.0;stroke-width:2.0\"></path><path d=\"M 154.98986448576642 704.5150501672241 L 154.98986448576642 735.8695652173914\" style=\"fill:none;opacity:1;stroke:rgb(14.9%,14.9%,14.9%);stroke-linecap:round;stroke-opacity:1.0;stroke-width:2.0\"></path><path d=\"M 150.17869490153038 887.0897784280937 L 150.17869490153038 806.4172240802677\" style=\"fill:none;opacity:1;stroke:rgb(14.9%,14.9%,14.9%);stroke-linecap:round;stroke-opacity:1.0;stroke-width:2.0\"></path><path d=\"M 150.17869490153038 887.0897784280937 L 150.17869490153038 967.7623327759197\" style=\"fill:none;opacity:1;stroke:rgb(14.9%,14.9%,14.9%);stroke-linecap:round;stroke-opacity:1.0;stroke-width:2.0\"></path><path d=\"M 158.81056863632483 108.77926421404675 L 158.81056863632483 98.32775919732443\" style=\"fill:none;opacity:1;stroke:rgb(14.9%,14.9%,14.9%);stroke-linecap:round;stroke-opacity:1.0;stroke-width:2.0\"></path><path d=\"M 158.81056863632483 108.77926421404675 L 158.81056863632483 119.23076923076921\" style=\"fill:none;opacity:1;stroke:rgb(14.9%,14.9%,14.9%);stroke-linecap:round;stroke-opacity:1.0;stroke-width:2.0\"></path><path d=\"M 160.84178288816196 176.71404682274243 L 160.84178288816196 161.03678929765877\" style=\"fill:none;opacity:1;stroke:rgb(14.9%,14.9%,14.9%);stroke-linecap:round;stroke-opacity:1.0;stroke-width:2.0\"></path><path d=\"M 160.84178288816196 176.71404682274243 L 160.84178288816196 192.39130434782598\" style=\"fill:none;opacity:1;stroke:rgb(14.9%,14.9%,14.9%);stroke-linecap:round;stroke-opacity:1.0;stroke-width:2.0\"></path><path d=\"M 156.65358965005166 260.3260869565217 L 156.65358965005166 244.64882943143812\" style=\"fill:none;opacity:1;stroke:rgb(14.9%,14.9%,14.9%);stroke-linecap:round;stroke-opacity:1.0;stroke-width:2.0\"></path><path d=\"M 156.65358965005166 260.3260869565217 L 156.65358965005166 276.0033444816054\" style=\"fill:none;opacity:1;stroke:rgb(14.9%,14.9%,14.9%);stroke-linecap:round;stroke-opacity:1.0;stroke-width:2.0\"></path><path d=\"M 158.55763431612107 323.03511705685617 L 158.55763431612107 307.3578595317726\" style=\"fill:none;opacity:1;stroke:rgb(14.9%,14.9%,14.9%);stroke-linecap:round;stroke-opacity:1.0;stroke-width:2.0\"></path><path d=\"M 158.55763431612107 323.03511705685617 L 158.55763431612107 338.71237458193986\" style=\"fill:none;opacity:1;stroke:rgb(14.9%,14.9%,14.9%);stroke-linecap:round;stroke-opacity:1.0;stroke-width:2.0\"></path><path d=\"M 158.10534118563896 389.6634615384615 L 158.10534118563896 370.06688963210706\" style=\"fill:none;opacity:1;stroke:rgb(14.9%,14.9%,14.9%);stroke-linecap:round;stroke-opacity:1.0;stroke-width:2.0\"></path><path d=\"M 158.10534118563896 389.6634615384615 L 158.10534118563896 409.2600334448161\" style=\"fill:none;opacity:1;stroke:rgb(14.9%,14.9%,14.9%);stroke-linecap:round;stroke-opacity:1.0;stroke-width:2.0\"></path><path d=\"M 160.89129371752324 485.03344481605353 L 160.89129371752324 474.5819397993311\" style=\"fill:none;opacity:1;stroke:rgb(14.9%,14.9%,14.9%);stroke-linecap:round;stroke-opacity:1.0;stroke-width:2.0\"></path><path d=\"M 160.89129371752324 485.03344481605353 L 160.89129371752324 495.484949832776\" style=\"fill:none;opacity:1;stroke:rgb(14.9%,14.9%,14.9%);stroke-linecap:round;stroke-opacity:1.0;stroke-width:2.0\"></path><path d=\"M 160.93319550106446 526.8394648829432 L 160.93319550106446 516.3879598662207\" style=\"fill:none;opacity:1;stroke:rgb(14.9%,14.9%,14.9%);stroke-linecap:round;stroke-opacity:1.0;stroke-width:2.0\"></path><path d=\"M 160.93319550106446 526.8394648829432 L 160.93319550106446 537.2909698996657\" style=\"fill:none;opacity:1;stroke:rgb(14.9%,14.9%,14.9%);stroke-linecap:round;stroke-opacity:1.0;stroke-width:2.0\"></path><path d=\"M 160.5531430610637 597.3871237458194 L 160.5531430610637 579.0969899665553\" style=\"fill:none;opacity:1;stroke:rgb(14.9%,14.9%,14.9%);stroke-linecap:round;stroke-opacity:1.0;stroke-width:2.0\"></path><path d=\"M 160.5531430610637 597.3871237458194 L 160.5531430610637 615.6772575250836\" style=\"fill:none;opacity:1;stroke:rgb(14.9%,14.9%,14.9%);stroke-linecap:round;stroke-opacity:1.0;stroke-width:2.0\"></path><path d=\"M 161.13573841480405 673.160535117057 L 161.13573841480405 662.7090301003344\" style=\"fill:none;opacity:1;stroke:rgb(14.9%,14.9%,14.9%);stroke-linecap:round;stroke-opacity:1.0;stroke-width:2.0\"></path><path d=\"M 161.13573841480405 673.160535117057 L 161.13573841480405 683.6120401337794\" style=\"fill:none;opacity:1;stroke:rgb(14.9%,14.9%,14.9%);stroke-linecap:round;stroke-opacity:1.0;stroke-width:2.0\"></path><path d=\"M 158.9505023483831 735.8695652173914 L 158.9505023483831 714.9665551839466\" style=\"fill:none;opacity:1;stroke:rgb(14.9%,14.9%,14.9%);stroke-linecap:round;stroke-opacity:1.0;stroke-width:2.0\"></path><path d=\"M 158.9505023483831 735.8695652173914 L 158.9505023483831 756.7725752508363\" style=\"fill:none;opacity:1;stroke:rgb(14.9%,14.9%,14.9%);stroke-linecap:round;stroke-opacity:1.0;stroke-width:2.0\"></path><path d=\"M 161.15880648087432 806.4172240802677 L 161.15880648087432 788.1270903010034\" style=\"fill:none;opacity:1;stroke:rgb(14.9%,14.9%,14.9%);stroke-linecap:round;stroke-opacity:1.0;stroke-width:2.0\"></path><path d=\"M 161.15880648087432 806.4172240802677 L 161.15880648087432 824.7073578595318\" style=\"fill:none;opacity:1;stroke:rgb(14.9%,14.9%,14.9%);stroke-linecap:round;stroke-opacity:1.0;stroke-width:2.0\"></path><path d=\"M 157.23494982049553 967.7623327759197 L 157.23494982049553 891.3357023411371\" style=\"fill:none;opacity:1;stroke:rgb(14.9%,14.9%,14.9%);stroke-linecap:round;stroke-opacity:1.0;stroke-width:2.0\"></path><path d=\"M 157.23494982049553 967.7623327759197 L 157.23494982049553 1044.1889632107025\" style=\"fill:none;opacity:1;stroke:rgb(14.9%,14.9%,14.9%);stroke-linecap:round;stroke-opacity:1.0;stroke-width:2.0\"></path><path d=\"M 160.84178571596254 192.39130434782598 L 160.84178571596254 181.93979933110367\" style=\"fill:none;opacity:1;stroke:rgb(14.9%,14.9%,14.9%);stroke-linecap:round;stroke-opacity:1.0;stroke-width:2.0\"></path><path d=\"M 160.84178571596254 192.39130434782598 L 160.84178571596254 202.84280936454843\" style=\"fill:none;opacity:1;stroke:rgb(14.9%,14.9%,14.9%);stroke-linecap:round;stroke-opacity:1.0;stroke-width:2.0\"></path><path d=\"M 156.6957510256868 276.0033444816054 L 156.6957510256868 265.5518394648829\" style=\"fill:none;opacity:1;stroke:rgb(14.9%,14.9%,14.9%);stroke-linecap:round;stroke-opacity:1.0;stroke-width:2.0\"></path><path d=\"M 156.6957510256868 276.0033444816054 L 156.6957510256868 286.4548494983277\" style=\"fill:none;opacity:1;stroke:rgb(14.9%,14.9%,14.9%);stroke-linecap:round;stroke-opacity:1.0;stroke-width:2.0\"></path><path d=\"M 158.59980304403774 338.71237458193986 L 158.59980304403774 328.2608695652174\" style=\"fill:none;opacity:1;stroke:rgb(14.9%,14.9%,14.9%);stroke-linecap:round;stroke-opacity:1.0;stroke-width:2.0\"></path><path d=\"M 158.59980304403774 338.71237458193986 L 158.59980304403774 349.16387959866216\" style=\"fill:none;opacity:1;stroke:rgb(14.9%,14.9%,14.9%);stroke-linecap:round;stroke-opacity:1.0;stroke-width:2.0\"></path><path d=\"M 158.1473442044412 409.2600334448161 L 158.1473442044412 390.96989966555185\" style=\"fill:none;opacity:1;stroke:rgb(14.9%,14.9%,14.9%);stroke-linecap:round;stroke-opacity:1.0;stroke-width:2.0\"></path><path d=\"M 158.1473442044412 409.2600334448161 L 158.1473442044412 427.5501672240803\" style=\"fill:none;opacity:1;stroke:rgb(14.9%,14.9%,14.9%);stroke-linecap:round;stroke-opacity:1.0;stroke-width:2.0\"></path><path d=\"M 161.17749089047427 615.6772575250836 L 161.17749089047427 600.0\" style=\"fill:none;opacity:1;stroke:rgb(14.9%,14.9%,14.9%);stroke-linecap:round;stroke-opacity:1.0;stroke-width:2.0\"></path><path d=\"M 161.17749089047427 615.6772575250836 L 161.17749089047427 631.3545150501674\" style=\"fill:none;opacity:1;stroke:rgb(14.9%,14.9%,14.9%);stroke-linecap:round;stroke-opacity:1.0;stroke-width:2.0\"></path><path d=\"M 162.64129111880357 714.9665551839466 L 162.64129111880357 704.5150501672241\" style=\"fill:none;opacity:1;stroke:rgb(14.9%,14.9%,14.9%);stroke-linecap:round;stroke-opacity:1.0;stroke-width:2.0\"></path><path d=\"M 162.64129111880357 714.9665551839466 L 162.64129111880357 725.418060200669\" style=\"fill:none;opacity:1;stroke:rgb(14.9%,14.9%,14.9%);stroke-linecap:round;stroke-opacity:1.0;stroke-width:2.0\"></path><path d=\"M 162.54242329243291 756.7725752508363 L 162.54242329243291 746.3210702341138\" style=\"fill:none;opacity:1;stroke:rgb(14.9%,14.9%,14.9%);stroke-linecap:round;stroke-opacity:1.0;stroke-width:2.0\"></path><path d=\"M 162.54242329243291 756.7725752508363 L 162.54242329243291 767.2240802675586\" style=\"fill:none;opacity:1;stroke:rgb(14.9%,14.9%,14.9%);stroke-linecap:round;stroke-opacity:1.0;stroke-width:2.0\"></path><path d=\"M 161.66631468006227 824.7073578595318 L 161.66631468006227 809.0301003344483\" style=\"fill:none;opacity:1;stroke:rgb(14.9%,14.9%,14.9%);stroke-linecap:round;stroke-opacity:1.0;stroke-width:2.0\"></path><path d=\"M 161.66631468006227 824.7073578595318 L 161.66631468006227 840.3846153846154\" style=\"fill:none;opacity:1;stroke:rgb(14.9%,14.9%,14.9%);stroke-linecap:round;stroke-opacity:1.0;stroke-width:2.0\"></path><path d=\"M 163.21421426341544 891.3357023411371 L 163.21421426341544 871.7391304347827\" style=\"fill:none;opacity:1;stroke:rgb(14.9%,14.9%,14.9%);stroke-linecap:round;stroke-opacity:1.0;stroke-width:2.0\"></path><path d=\"M 163.21421426341544 891.3357023411371 L 163.21421426341544 910.9322742474917\" style=\"fill:none;opacity:1;stroke:rgb(14.9%,14.9%,14.9%);stroke-linecap:round;stroke-opacity:1.0;stroke-width:2.0\"></path><path d=\"M 161.0404862142642 1044.1889632107025 L 161.0404862142642 994.5443143812711\" style=\"fill:none;opacity:1;stroke:rgb(14.9%,14.9%,14.9%);stroke-linecap:round;stroke-opacity:1.0;stroke-width:2.0\"></path><path d=\"M 161.0404862142642 1044.1889632107025 L 161.0404862142642 1093.8336120401339\" style=\"fill:none;opacity:1;stroke:rgb(14.9%,14.9%,14.9%);stroke-linecap:round;stroke-opacity:1.0;stroke-width:2.0\"></path><path d=\"M 158.23167487355312 427.5501672240803 L 158.23167487355312 411.87290969899664\" style=\"fill:none;opacity:1;stroke:rgb(14.9%,14.9%,14.9%);stroke-linecap:round;stroke-opacity:1.0;stroke-width:2.0\"></path><path d=\"M 158.23167487355312 427.5501672240803 L 158.23167487355312 443.22742474916384\" style=\"fill:none;opacity:1;stroke:rgb(14.9%,14.9%,14.9%);stroke-linecap:round;stroke-opacity:1.0;stroke-width:2.0\"></path><path d=\"M 161.21940850969878 631.3545150501674 L 161.21940850969878 620.903010033445\" style=\"fill:none;opacity:1;stroke:rgb(14.9%,14.9%,14.9%);stroke-linecap:round;stroke-opacity:1.0;stroke-width:2.0\"></path><path d=\"M 161.21940850969878 631.3545150501674 L 161.21940850969878 641.8060200668897\" style=\"fill:none;opacity:1;stroke:rgb(14.9%,14.9%,14.9%);stroke-linecap:round;stroke-opacity:1.0;stroke-width:2.0\"></path><path d=\"M 163.5017682150882 840.3846153846154 L 163.5017682150882 829.9331103678929\" style=\"fill:none;opacity:1;stroke:rgb(14.9%,14.9%,14.9%);stroke-linecap:round;stroke-opacity:1.0;stroke-width:2.0\"></path><path d=\"M 163.5017682150882 840.3846153846154 L 163.5017682150882 850.8361204013378\" style=\"fill:none;opacity:1;stroke:rgb(14.9%,14.9%,14.9%);stroke-linecap:round;stroke-opacity:1.0;stroke-width:2.0\"></path><path d=\"M 163.42810683759183 910.9322742474917 L 163.42810683759183 892.6421404682275\" style=\"fill:none;opacity:1;stroke:rgb(14.9%,14.9%,14.9%);stroke-linecap:round;stroke-opacity:1.0;stroke-width:2.0\"></path><path d=\"M 163.42810683759183 910.9322742474917 L 163.42810683759183 929.2224080267558\" style=\"fill:none;opacity:1;stroke:rgb(14.9%,14.9%,14.9%);stroke-linecap:round;stroke-opacity:1.0;stroke-width:2.0\"></path><path d=\"M 163.75433096229474 994.5443143812711 L 163.75433096229474 976.2541806020067\" style=\"fill:none;opacity:1;stroke:rgb(14.9%,14.9%,14.9%);stroke-linecap:round;stroke-opacity:1.0;stroke-width:2.0\"></path><path d=\"M 163.75433096229474 994.5443143812711 L 163.75433096229474 1012.8344481605352\" style=\"fill:none;opacity:1;stroke:rgb(14.9%,14.9%,14.9%);stroke-linecap:round;stroke-opacity:1.0;stroke-width:2.0\"></path><path d=\"M 163.5466131734806 1093.8336120401339 L 163.5466131734806 1070.3177257525085\" style=\"fill:none;opacity:1;stroke:rgb(14.9%,14.9%,14.9%);stroke-linecap:round;stroke-opacity:1.0;stroke-width:2.0\"></path><path d=\"M 163.5466131734806 1093.8336120401339 L 163.5466131734806 1117.3494983277594\" style=\"fill:none;opacity:1;stroke:rgb(14.9%,14.9%,14.9%);stroke-linecap:round;stroke-opacity:1.0;stroke-width:2.0\"></path><path d=\"M 158.31601402606677 443.22742474916384 L 158.31601402606677 432.77591973244154\" style=\"fill:none;opacity:1;stroke:rgb(14.9%,14.9%,14.9%);stroke-linecap:round;stroke-opacity:1.0;stroke-width:2.0\"></path><path d=\"M 158.31601402606677 443.22742474916384 L 158.31601402606677 453.6789297658863\" style=\"fill:none;opacity:1;stroke:rgb(14.9%,14.9%,14.9%);stroke-linecap:round;stroke-opacity:1.0;stroke-width:2.0\"></path><path d=\"M 163.52100404580267 929.2224080267558 L 163.52100404580267 913.5451505016723\" style=\"fill:none;opacity:1;stroke:rgb(14.9%,14.9%,14.9%);stroke-linecap:round;stroke-opacity:1.0;stroke-width:2.0\"></path><path d=\"M 163.52100404580267 929.2224080267558 L 163.52100404580267 944.8996655518396\" style=\"fill:none;opacity:1;stroke:rgb(14.9%,14.9%,14.9%);stroke-linecap:round;stroke-opacity:1.0;stroke-width:2.0\"></path><path d=\"M 164.7524263675169 1012.8344481605352 L 164.7524263675169 997.1571906354516\" style=\"fill:none;opacity:1;stroke:rgb(14.9%,14.9%,14.9%);stroke-linecap:round;stroke-opacity:1.0;stroke-width:2.0\"></path><path d=\"M 164.7524263675169 1012.8344481605352 L 164.7524263675169 1028.5117056856188\" style=\"fill:none;opacity:1;stroke:rgb(14.9%,14.9%,14.9%);stroke-linecap:round;stroke-opacity:1.0;stroke-width:2.0\"></path><path d=\"M 163.6941236944323 1070.3177257525085 L 163.6941236944323 1059.866220735786\" style=\"fill:none;opacity:1;stroke:rgb(14.9%,14.9%,14.9%);stroke-linecap:round;stroke-opacity:1.0;stroke-width:2.0\"></path><path d=\"M 163.6941236944323 1070.3177257525085 L 163.6941236944323 1080.7692307692307\" style=\"fill:none;opacity:1;stroke:rgb(14.9%,14.9%,14.9%);stroke-linecap:round;stroke-opacity:1.0;stroke-width:2.0\"></path><path d=\"M 164.259162931007 1117.3494983277594 L 164.259162931007 1101.6722408026756\" style=\"fill:none;opacity:1;stroke:rgb(14.9%,14.9%,14.9%);stroke-linecap:round;stroke-opacity:1.0;stroke-width:2.0\"></path><path d=\"M 164.259162931007 1117.3494983277594 L 164.259162931007 1133.0267558528428\" style=\"fill:none;opacity:1;stroke:rgb(14.9%,14.9%,14.9%);stroke-linecap:round;stroke-opacity:1.0;stroke-width:2.0\"></path><path d=\"M 163.63715708604275 944.8996655518396 L 163.63715708604275 934.448160535117\" style=\"fill:none;opacity:1;stroke:rgb(14.9%,14.9%,14.9%);stroke-linecap:round;stroke-opacity:1.0;stroke-width:2.0\"></path><path d=\"M 163.63715708604275 944.8996655518396 L 163.63715708604275 955.3511705685619\" style=\"fill:none;opacity:1;stroke:rgb(14.9%,14.9%,14.9%);stroke-linecap:round;stroke-opacity:1.0;stroke-width:2.0\"></path><path d=\"M 164.96280568224375 1028.5117056856188 L 164.96280568224375 1018.0602006688963\" style=\"fill:none;opacity:1;stroke:rgb(14.9%,14.9%,14.9%);stroke-linecap:round;stroke-opacity:1.0;stroke-width:2.0\"></path><path d=\"M 164.96280568224375 1028.5117056856188 L 164.96280568224375 1038.9632107023413\" style=\"fill:none;opacity:1;stroke:rgb(14.9%,14.9%,14.9%);stroke-linecap:round;stroke-opacity:1.0;stroke-width:2.0\"></path><path d=\"M 164.52731025280983 1133.0267558528428 L 164.52731025280983 1122.5752508361204\" style=\"fill:none;opacity:1;stroke:rgb(14.9%,14.9%,14.9%);stroke-linecap:round;stroke-opacity:1.0;stroke-width:2.0\"></path><path d=\"M 164.52731025280983 1133.0267558528428 L 164.52731025280983 1143.4782608695652\" style=\"fill:none;opacity:1;stroke:rgb(14.9%,14.9%,14.9%);stroke-linecap:round;stroke-opacity:1.0;stroke-width:2.0\"></path><g class=\"toyplot-HeadMarkers\"></g><g class=\"toyplot-MiddleMarkers\"></g><g class=\"toyplot-TailMarkers\"></g></g><g class=\"toyplot-Vertices\"><g class=\"toyplot-Datum\" style=\"fill:rgb(98.8%,55.3%,38.4%);fill-opacity:1.0;opacity:1.0;stroke:rgb(98.8%,55.3%,38.4%);stroke-opacity:1.0\" transform=\"translate(164.9936897891371, 1143.4782608695652)\"><circle r=\"0.0\"></circle></g><g class=\"toyplot-Datum\" style=\"fill:rgb(98.8%,55.3%,38.4%);fill-opacity:1.0;opacity:1.0;stroke:rgb(98.8%,55.3%,38.4%);stroke-opacity:1.0\" transform=\"translate(164.7216615938084, 1122.5752508361204)\"><circle r=\"0.0\"></circle></g><g class=\"toyplot-Datum\" style=\"fill:rgb(98.8%,55.3%,38.4%);fill-opacity:1.0;opacity:1.0;stroke:rgb(98.8%,55.3%,38.4%);stroke-opacity:1.0\" transform=\"translate(165.20501585150058, 1101.6722408026756)\"><circle r=\"0.0\"></circle></g><g class=\"toyplot-Datum\" style=\"fill:rgb(98.8%,55.3%,38.4%);fill-opacity:1.0;opacity:1.0;stroke:rgb(98.8%,55.3%,38.4%);stroke-opacity:1.0\" transform=\"translate(164.7933384208526, 1080.7692307692307)\"><circle r=\"0.0\"></circle></g><g class=\"toyplot-Datum\" style=\"fill:rgb(98.8%,55.3%,38.4%);fill-opacity:1.0;opacity:1.0;stroke:rgb(98.8%,55.3%,38.4%);stroke-opacity:1.0\" transform=\"translate(165.87301587301587, 1059.866220735786)\"><circle r=\"0.0\"></circle></g><g class=\"toyplot-Datum\" style=\"fill:rgb(98.8%,55.3%,38.4%);fill-opacity:1.0;opacity:1.0;stroke:rgb(98.8%,55.3%,38.4%);stroke-opacity:1.0\" transform=\"translate(165.3124999862605, 1038.9632107023413)\"><circle r=\"0.0\"></circle></g><g class=\"toyplot-Datum\" style=\"fill:rgb(98.8%,55.3%,38.4%);fill-opacity:1.0;opacity:1.0;stroke:rgb(98.8%,55.3%,38.4%);stroke-opacity:1.0\" transform=\"translate(165.35205017083337, 1018.0602006688963)\"><circle r=\"0.0\"></circle></g><g class=\"toyplot-Datum\" style=\"fill:rgb(98.8%,55.3%,38.4%);fill-opacity:1.0;opacity:1.0;stroke:rgb(98.8%,55.3%,38.4%);stroke-opacity:1.0\" transform=\"translate(165.24754314453168, 997.1571906354516)\"><circle r=\"0.0\"></circle></g><g class=\"toyplot-Datum\" style=\"fill:rgb(98.8%,55.3%,38.4%);fill-opacity:1.0;opacity:1.0;stroke:rgb(98.8%,55.3%,38.4%);stroke-opacity:1.0\" transform=\"translate(164.98866931197458, 976.2541806020067)\"><circle r=\"0.0\"></circle></g><g class=\"toyplot-Datum\" style=\"fill:rgb(98.8%,55.3%,38.4%);fill-opacity:1.0;opacity:1.0;stroke:rgb(98.8%,55.3%,38.4%);stroke-opacity:1.0\" transform=\"translate(164.23134246326987, 955.3511705685619)\"><circle r=\"0.0\"></circle></g><g class=\"toyplot-Datum\" style=\"fill:rgb(98.8%,55.3%,38.4%);fill-opacity:1.0;opacity:1.0;stroke:rgb(98.8%,55.3%,38.4%);stroke-opacity:1.0\" transform=\"translate(164.1319763784357, 934.448160535117)\"><circle r=\"0.0\"></circle></g><g class=\"toyplot-Datum\" style=\"fill:rgb(98.8%,55.3%,38.4%);fill-opacity:1.0;opacity:1.0;stroke:rgb(98.8%,55.3%,38.4%);stroke-opacity:1.0\" transform=\"translate(164.04945946062045, 913.5451505016723)\"><circle r=\"0.0\"></circle></g><g class=\"toyplot-Datum\" style=\"fill:rgb(98.8%,55.3%,38.4%);fill-opacity:1.0;opacity:1.0;stroke:rgb(98.8%,55.3%,38.4%);stroke-opacity:1.0\" transform=\"translate(164.16689349452653, 892.6421404682275)\"><circle r=\"0.0\"></circle></g><g class=\"toyplot-Datum\" style=\"fill:rgb(98.8%,55.3%,38.4%);fill-opacity:1.0;opacity:1.0;stroke:rgb(98.8%,55.3%,38.4%);stroke-opacity:1.0\" transform=\"translate(163.69940432924886, 871.7391304347827)\"><circle r=\"0.0\"></circle></g><g class=\"toyplot-Datum\" style=\"fill:rgb(98.8%,55.3%,38.4%);fill-opacity:1.0;opacity:1.0;stroke:rgb(98.8%,55.3%,38.4%);stroke-opacity:1.0\" transform=\"translate(164.801074152139, 850.8361204013378)\"><circle r=\"0.0\"></circle></g><g class=\"toyplot-Datum\" style=\"fill:rgb(98.8%,55.3%,38.4%);fill-opacity:1.0;opacity:1.0;stroke:rgb(98.8%,55.3%,38.4%);stroke-opacity:1.0\" transform=\"translate(164.65988772442057, 829.9331103678929)\"><circle r=\"0.0\"></circle></g><g class=\"toyplot-Datum\" style=\"fill:rgb(98.8%,55.3%,38.4%);fill-opacity:1.0;opacity:1.0;stroke:rgb(98.8%,55.3%,38.4%);stroke-opacity:1.0\" transform=\"translate(164.50477211656963, 809.0301003344483)\"><circle r=\"0.0\"></circle></g><g class=\"toyplot-Datum\" style=\"fill:rgb(98.8%,55.3%,38.4%);fill-opacity:1.0;opacity:1.0;stroke:rgb(98.8%,55.3%,38.4%);stroke-opacity:1.0\" transform=\"translate(163.7636112382619, 788.1270903010034)\"><circle r=\"0.0\"></circle></g><g class=\"toyplot-Datum\" style=\"fill:rgb(98.8%,55.3%,38.4%);fill-opacity:1.0;opacity:1.0;stroke:rgb(98.8%,55.3%,38.4%);stroke-opacity:1.0\" transform=\"translate(162.73165518324836, 767.2240802675586)\"><circle r=\"0.0\"></circle></g><g class=\"toyplot-Datum\" style=\"fill:rgb(98.8%,55.3%,38.4%);fill-opacity:1.0;opacity:1.0;stroke:rgb(98.8%,55.3%,38.4%);stroke-opacity:1.0\" transform=\"translate(162.74360264072934, 746.3210702341138)\"><circle r=\"0.0\"></circle></g><g class=\"toyplot-Datum\" style=\"fill:rgb(98.8%,55.3%,38.4%);fill-opacity:1.0;opacity:1.0;stroke:rgb(98.8%,55.3%,38.4%);stroke-opacity:1.0\" transform=\"translate(163.09842091941005, 725.418060200669)\"><circle r=\"0.0\"></circle></g><g class=\"toyplot-Datum\" style=\"fill:rgb(98.8%,55.3%,38.4%);fill-opacity:1.0;opacity:1.0;stroke:rgb(98.8%,55.3%,38.4%);stroke-opacity:1.0\" transform=\"translate(163.2012601089254, 704.5150501672241)\"><circle r=\"0.0\"></circle></g><g class=\"toyplot-Datum\" style=\"fill:rgb(98.8%,55.3%,38.4%);fill-opacity:1.0;opacity:1.0;stroke:rgb(98.8%,55.3%,38.4%);stroke-opacity:1.0\" transform=\"translate(161.7881894920105, 683.6120401337794)\"><circle r=\"0.0\"></circle></g><g class=\"toyplot-Datum\" style=\"fill:rgb(98.8%,55.3%,38.4%);fill-opacity:1.0;opacity:1.0;stroke:rgb(98.8%,55.3%,38.4%);stroke-opacity:1.0\" transform=\"translate(161.6383697890993, 662.7090301003344)\"><circle r=\"0.0\"></circle></g><g class=\"toyplot-Datum\" style=\"fill:rgb(98.8%,55.3%,38.4%);fill-opacity:1.0;opacity:1.0;stroke:rgb(98.8%,55.3%,38.4%);stroke-opacity:1.0\" transform=\"translate(161.21941133749937, 641.8060200668897)\"><circle r=\"0.0\"></circle></g><g class=\"toyplot-Datum\" style=\"fill:rgb(98.8%,55.3%,38.4%);fill-opacity:1.0;opacity:1.0;stroke:rgb(98.8%,55.3%,38.4%);stroke-opacity:1.0\" transform=\"translate(161.7272413403942, 620.903010033445)\"><circle r=\"0.0\"></circle></g><g class=\"toyplot-Datum\" style=\"fill:rgb(98.8%,55.3%,38.4%);fill-opacity:1.0;opacity:1.0;stroke:rgb(98.8%,55.3%,38.4%);stroke-opacity:1.0\" transform=\"translate(161.17749371827486, 600.0)\"><circle r=\"0.0\"></circle></g><g class=\"toyplot-Datum\" style=\"fill:rgb(98.8%,55.3%,38.4%);fill-opacity:1.0;opacity:1.0;stroke:rgb(98.8%,55.3%,38.4%);stroke-opacity:1.0\" transform=\"translate(161.59389301034335, 579.0969899665553)\"><circle r=\"0.0\"></circle></g><g class=\"toyplot-Datum\" style=\"fill:rgb(98.8%,55.3%,38.4%);fill-opacity:1.0;opacity:1.0;stroke:rgb(98.8%,55.3%,38.4%);stroke-opacity:1.0\" transform=\"translate(161.6058975893962, 558.1939799331104)\"><circle r=\"0.0\"></circle></g><g class=\"toyplot-Datum\" style=\"fill:rgb(98.8%,55.3%,38.4%);fill-opacity:1.0;opacity:1.0;stroke:rgb(98.8%,55.3%,38.4%);stroke-opacity:1.0\" transform=\"translate(160.97509841572594, 537.2909698996657)\"><circle r=\"0.0\"></circle></g><g class=\"toyplot-Datum\" style=\"fill:rgb(98.8%,55.3%,38.4%);fill-opacity:1.0;opacity:1.0;stroke:rgb(98.8%,55.3%,38.4%);stroke-opacity:1.0\" transform=\"translate(160.93319832886505, 516.3879598662207)\"><circle r=\"0.0\"></circle></g><g class=\"toyplot-Datum\" style=\"fill:rgb(98.8%,55.3%,38.4%);fill-opacity:1.0;opacity:1.0;stroke:rgb(98.8%,55.3%,38.4%);stroke-opacity:1.0\" transform=\"translate(160.89129371752324, 495.484949832776)\"><circle r=\"0.0\"></circle></g><g class=\"toyplot-Datum\" style=\"fill:rgb(98.8%,55.3%,38.4%);fill-opacity:1.0;opacity:1.0;stroke:rgb(98.8%,55.3%,38.4%);stroke-opacity:1.0\" transform=\"translate(160.89129371752324, 474.5819397993311)\"><circle r=\"0.0\"></circle></g><g class=\"toyplot-Datum\" style=\"fill:rgb(98.8%,55.3%,38.4%);fill-opacity:1.0;opacity:1.0;stroke:rgb(98.8%,55.3%,38.4%);stroke-opacity:1.0\" transform=\"translate(158.31601685386735, 453.6789297658863)\"><circle r=\"0.0\"></circle></g><g class=\"toyplot-Datum\" style=\"fill:rgb(98.8%,55.3%,38.4%);fill-opacity:1.0;opacity:1.0;stroke:rgb(98.8%,55.3%,38.4%);stroke-opacity:1.0\" transform=\"translate(158.31601685386735, 432.77591973244154)\"><circle r=\"0.0\"></circle></g><g class=\"toyplot-Datum\" style=\"fill:rgb(98.8%,55.3%,38.4%);fill-opacity:1.0;opacity:1.0;stroke:rgb(98.8%,55.3%,38.4%);stroke-opacity:1.0\" transform=\"translate(158.2316777013537, 411.87290969899664)\"><circle r=\"0.0\"></circle></g><g class=\"toyplot-Datum\" style=\"fill:rgb(98.8%,55.3%,38.4%);fill-opacity:1.0;opacity:1.0;stroke:rgb(98.8%,55.3%,38.4%);stroke-opacity:1.0\" transform=\"translate(158.14734703224178, 390.96989966555185)\"><circle r=\"0.0\"></circle></g><g class=\"toyplot-Datum\" style=\"fill:rgb(98.8%,55.3%,38.4%);fill-opacity:1.0;opacity:1.0;stroke:rgb(98.8%,55.3%,38.4%);stroke-opacity:1.0\" transform=\"translate(158.1476388612624, 370.06688963210706)\"><circle r=\"0.0\"></circle></g><g class=\"toyplot-Datum\" style=\"fill:rgb(98.8%,55.3%,38.4%);fill-opacity:1.0;opacity:1.0;stroke:rgb(98.8%,55.3%,38.4%);stroke-opacity:1.0\" transform=\"translate(158.5998058718383, 349.16387959866216)\"><circle r=\"0.0\"></circle></g><g class=\"toyplot-Datum\" style=\"fill:rgb(98.8%,55.3%,38.4%);fill-opacity:1.0;opacity:1.0;stroke:rgb(98.8%,55.3%,38.4%);stroke-opacity:1.0\" transform=\"translate(158.6419717719544, 328.2608695652174)\"><circle r=\"0.0\"></circle></g><g class=\"toyplot-Datum\" style=\"fill:rgb(98.8%,55.3%,38.4%);fill-opacity:1.0;opacity:1.0;stroke:rgb(98.8%,55.3%,38.4%);stroke-opacity:1.0\" transform=\"translate(158.55763714392168, 307.3578595317726)\"><circle r=\"0.0\"></circle></g><g class=\"toyplot-Datum\" style=\"fill:rgb(98.8%,55.3%,38.4%);fill-opacity:1.0;opacity:1.0;stroke:rgb(98.8%,55.3%,38.4%);stroke-opacity:1.0\" transform=\"translate(156.69575385348736, 286.4548494983277)\"><circle r=\"0.0\"></circle></g><g class=\"toyplot-Datum\" style=\"fill:rgb(98.8%,55.3%,38.4%);fill-opacity:1.0;opacity:1.0;stroke:rgb(98.8%,55.3%,38.4%);stroke-opacity:1.0\" transform=\"translate(156.69575441904752, 265.5518394648829)\"><circle r=\"0.0\"></circle></g><g class=\"toyplot-Datum\" style=\"fill:rgb(98.8%,55.3%,38.4%);fill-opacity:1.0;opacity:1.0;stroke:rgb(98.8%,55.3%,38.4%);stroke-opacity:1.0\" transform=\"translate(156.65359247785227, 244.64882943143812)\"><circle r=\"0.0\"></circle></g><g class=\"toyplot-Datum\" style=\"fill:rgb(98.8%,55.3%,38.4%);fill-opacity:1.0;opacity:1.0;stroke:rgb(98.8%,55.3%,38.4%);stroke-opacity:1.0\" transform=\"translate(156.78008282591892, 223.74581939799322)\"><circle r=\"0.0\"></circle></g><g class=\"toyplot-Datum\" style=\"fill:rgb(98.8%,55.3%,38.4%);fill-opacity:1.0;opacity:1.0;stroke:rgb(98.8%,55.3%,38.4%);stroke-opacity:1.0\" transform=\"translate(160.84178571596254, 202.84280936454843)\"><circle r=\"0.0\"></circle></g><g class=\"toyplot-Datum\" style=\"fill:rgb(98.8%,55.3%,38.4%);fill-opacity:1.0;opacity:1.0;stroke:rgb(98.8%,55.3%,38.4%);stroke-opacity:1.0\" transform=\"translate(160.84178571596254, 181.93979933110367)\"><circle r=\"0.0\"></circle></g><g class=\"toyplot-Datum\" style=\"fill:rgb(98.8%,55.3%,38.4%);fill-opacity:1.0;opacity:1.0;stroke:rgb(98.8%,55.3%,38.4%);stroke-opacity:1.0\" transform=\"translate(160.84178571596254, 161.03678929765877)\"><circle r=\"0.0\"></circle></g><g class=\"toyplot-Datum\" style=\"fill:rgb(98.8%,55.3%,38.4%);fill-opacity:1.0;opacity:1.0;stroke:rgb(98.8%,55.3%,38.4%);stroke-opacity:1.0\" transform=\"translate(160.8448906410073, 140.13377926421398)\"><circle r=\"0.0\"></circle></g><g class=\"toyplot-Datum\" style=\"fill:rgb(98.8%,55.3%,38.4%);fill-opacity:1.0;opacity:1.0;stroke:rgb(98.8%,55.3%,38.4%);stroke-opacity:1.0\" transform=\"translate(158.8105714641254, 119.23076923076921)\"><circle r=\"0.0\"></circle></g><g class=\"toyplot-Datum\" style=\"fill:rgb(98.8%,55.3%,38.4%);fill-opacity:1.0;opacity:1.0;stroke:rgb(98.8%,55.3%,38.4%);stroke-opacity:1.0\" transform=\"translate(158.93721225118333, 98.32775919732443)\"><circle r=\"0.0\"></circle></g><g class=\"toyplot-Datum\" style=\"fill:rgb(98.8%,55.3%,38.4%);fill-opacity:1.0;opacity:1.0;stroke:rgb(98.8%,55.3%,38.4%);stroke-opacity:1.0\" transform=\"translate(158.76915153780425, 77.42474916387953)\"><circle r=\"0.0\"></circle></g><g class=\"toyplot-Datum\" style=\"fill:rgb(98.8%,55.3%,38.4%);fill-opacity:1.0;opacity:1.0;stroke:rgb(98.8%,55.3%,38.4%);stroke-opacity:1.0\" transform=\"translate(90.14396868522141, 56.521739130434746)\"><circle r=\"0.0\"></circle></g><g class=\"toyplot-Datum\" style=\"fill:rgb(98.8%,55.3%,38.4%);fill-opacity:1.0;opacity:1.0;stroke:rgb(98.8%,55.3%,38.4%);stroke-opacity:1.0\" transform=\"translate(164.52731025280983, 1133.0267558528428)\"><circle r=\"0.0\"></circle></g><g class=\"toyplot-Datum\" style=\"fill:rgb(98.8%,55.3%,38.4%);fill-opacity:1.0;opacity:1.0;stroke:rgb(98.8%,55.3%,38.4%);stroke-opacity:1.0\" transform=\"translate(164.96280568224375, 1028.5117056856188)\"><circle r=\"0.0\"></circle></g><g class=\"toyplot-Datum\" style=\"fill:rgb(98.8%,55.3%,38.4%);fill-opacity:1.0;opacity:1.0;stroke:rgb(98.8%,55.3%,38.4%);stroke-opacity:1.0\" transform=\"translate(163.63715708604275, 944.8996655518396)\"><circle r=\"0.0\"></circle></g><g class=\"toyplot-Datum\" style=\"fill:rgb(98.8%,55.3%,38.4%);fill-opacity:1.0;opacity:1.0;stroke:rgb(98.8%,55.3%,38.4%);stroke-opacity:1.0\" transform=\"translate(164.259162931007, 1117.3494983277594)\"><circle r=\"0.0\"></circle></g><g class=\"toyplot-Datum\" style=\"fill:rgb(98.8%,55.3%,38.4%);fill-opacity:1.0;opacity:1.0;stroke:rgb(98.8%,55.3%,38.4%);stroke-opacity:1.0\" transform=\"translate(163.6941236944323, 1070.3177257525085)\"><circle r=\"0.0\"></circle></g><g class=\"toyplot-Datum\" style=\"fill:rgb(98.8%,55.3%,38.4%);fill-opacity:1.0;opacity:1.0;stroke:rgb(98.8%,55.3%,38.4%);stroke-opacity:1.0\" transform=\"translate(164.7524263675169, 1012.8344481605352)\"><circle r=\"0.0\"></circle></g><g class=\"toyplot-Datum\" style=\"fill:rgb(98.8%,55.3%,38.4%);fill-opacity:1.0;opacity:1.0;stroke:rgb(98.8%,55.3%,38.4%);stroke-opacity:1.0\" transform=\"translate(163.52100404580267, 929.2224080267558)\"><circle r=\"0.0\"></circle></g><g class=\"toyplot-Datum\" style=\"fill:rgb(98.8%,55.3%,38.4%);fill-opacity:1.0;opacity:1.0;stroke:rgb(98.8%,55.3%,38.4%);stroke-opacity:1.0\" transform=\"translate(158.31601402606677, 443.22742474916384)\"><circle r=\"0.0\"></circle></g><g class=\"toyplot-Datum\" style=\"fill:rgb(98.8%,55.3%,38.4%);fill-opacity:1.0;opacity:1.0;stroke:rgb(98.8%,55.3%,38.4%);stroke-opacity:1.0\" transform=\"translate(163.5466131734806, 1093.8336120401339)\"><circle r=\"0.0\"></circle></g><g class=\"toyplot-Datum\" style=\"fill:rgb(98.8%,55.3%,38.4%);fill-opacity:1.0;opacity:1.0;stroke:rgb(98.8%,55.3%,38.4%);stroke-opacity:1.0\" transform=\"translate(163.75433096229474, 994.5443143812711)\"><circle r=\"0.0\"></circle></g><g class=\"toyplot-Datum\" style=\"fill:rgb(98.8%,55.3%,38.4%);fill-opacity:1.0;opacity:1.0;stroke:rgb(98.8%,55.3%,38.4%);stroke-opacity:1.0\" transform=\"translate(163.42810683759183, 910.9322742474917)\"><circle r=\"0.0\"></circle></g><g class=\"toyplot-Datum\" style=\"fill:rgb(98.8%,55.3%,38.4%);fill-opacity:1.0;opacity:1.0;stroke:rgb(98.8%,55.3%,38.4%);stroke-opacity:1.0\" transform=\"translate(163.5017682150882, 840.3846153846154)\"><circle r=\"0.0\"></circle></g><g class=\"toyplot-Datum\" style=\"fill:rgb(98.8%,55.3%,38.4%);fill-opacity:1.0;opacity:1.0;stroke:rgb(98.8%,55.3%,38.4%);stroke-opacity:1.0\" transform=\"translate(161.21940850969878, 631.3545150501674)\"><circle r=\"0.0\"></circle></g><g class=\"toyplot-Datum\" style=\"fill:rgb(98.8%,55.3%,38.4%);fill-opacity:1.0;opacity:1.0;stroke:rgb(98.8%,55.3%,38.4%);stroke-opacity:1.0\" transform=\"translate(158.23167487355312, 427.5501672240803)\"><circle r=\"0.0\"></circle></g><g class=\"toyplot-Datum\" style=\"fill:rgb(98.8%,55.3%,38.4%);fill-opacity:1.0;opacity:1.0;stroke:rgb(98.8%,55.3%,38.4%);stroke-opacity:1.0\" transform=\"translate(161.0404862142642, 1044.1889632107025)\"><circle r=\"0.0\"></circle></g><g class=\"toyplot-Datum\" style=\"fill:rgb(98.8%,55.3%,38.4%);fill-opacity:1.0;opacity:1.0;stroke:rgb(98.8%,55.3%,38.4%);stroke-opacity:1.0\" transform=\"translate(163.21421426341544, 891.3357023411371)\"><circle r=\"0.0\"></circle></g><g class=\"toyplot-Datum\" style=\"fill:rgb(98.8%,55.3%,38.4%);fill-opacity:1.0;opacity:1.0;stroke:rgb(98.8%,55.3%,38.4%);stroke-opacity:1.0\" transform=\"translate(161.66631468006227, 824.7073578595318)\"><circle r=\"0.0\"></circle></g><g class=\"toyplot-Datum\" style=\"fill:rgb(98.8%,55.3%,38.4%);fill-opacity:1.0;opacity:1.0;stroke:rgb(98.8%,55.3%,38.4%);stroke-opacity:1.0\" transform=\"translate(162.54242329243291, 756.7725752508363)\"><circle r=\"0.0\"></circle></g><g class=\"toyplot-Datum\" style=\"fill:rgb(98.8%,55.3%,38.4%);fill-opacity:1.0;opacity:1.0;stroke:rgb(98.8%,55.3%,38.4%);stroke-opacity:1.0\" transform=\"translate(162.64129111880357, 714.9665551839466)\"><circle r=\"0.0\"></circle></g><g class=\"toyplot-Datum\" style=\"fill:rgb(98.8%,55.3%,38.4%);fill-opacity:1.0;opacity:1.0;stroke:rgb(98.8%,55.3%,38.4%);stroke-opacity:1.0\" transform=\"translate(161.17749089047427, 615.6772575250836)\"><circle r=\"0.0\"></circle></g><g class=\"toyplot-Datum\" style=\"fill:rgb(98.8%,55.3%,38.4%);fill-opacity:1.0;opacity:1.0;stroke:rgb(98.8%,55.3%,38.4%);stroke-opacity:1.0\" transform=\"translate(158.1473442044412, 409.2600334448161)\"><circle r=\"0.0\"></circle></g><g class=\"toyplot-Datum\" style=\"fill:rgb(98.8%,55.3%,38.4%);fill-opacity:1.0;opacity:1.0;stroke:rgb(98.8%,55.3%,38.4%);stroke-opacity:1.0\" transform=\"translate(158.59980304403774, 338.71237458193986)\"><circle r=\"0.0\"></circle></g><g class=\"toyplot-Datum\" style=\"fill:rgb(98.8%,55.3%,38.4%);fill-opacity:1.0;opacity:1.0;stroke:rgb(98.8%,55.3%,38.4%);stroke-opacity:1.0\" transform=\"translate(156.6957510256868, 276.0033444816054)\"><circle r=\"0.0\"></circle></g><g class=\"toyplot-Datum\" style=\"fill:rgb(98.8%,55.3%,38.4%);fill-opacity:1.0;opacity:1.0;stroke:rgb(98.8%,55.3%,38.4%);stroke-opacity:1.0\" transform=\"translate(160.84178571596254, 192.39130434782598)\"><circle r=\"0.0\"></circle></g><g class=\"toyplot-Datum\" style=\"fill:rgb(98.8%,55.3%,38.4%);fill-opacity:1.0;opacity:1.0;stroke:rgb(98.8%,55.3%,38.4%);stroke-opacity:1.0\" transform=\"translate(157.23494982049553, 967.7623327759197)\"><circle r=\"0.0\"></circle></g><g class=\"toyplot-Datum\" style=\"fill:rgb(98.8%,55.3%,38.4%);fill-opacity:1.0;opacity:1.0;stroke:rgb(98.8%,55.3%,38.4%);stroke-opacity:1.0\" transform=\"translate(161.15880648087432, 806.4172240802677)\"><circle r=\"0.0\"></circle></g><g class=\"toyplot-Datum\" style=\"fill:rgb(98.8%,55.3%,38.4%);fill-opacity:1.0;opacity:1.0;stroke:rgb(98.8%,55.3%,38.4%);stroke-opacity:1.0\" transform=\"translate(158.9505023483831, 735.8695652173914)\"><circle r=\"0.0\"></circle></g><g class=\"toyplot-Datum\" style=\"fill:rgb(98.8%,55.3%,38.4%);fill-opacity:1.0;opacity:1.0;stroke:rgb(98.8%,55.3%,38.4%);stroke-opacity:1.0\" transform=\"translate(161.13573841480405, 673.160535117057)\"><circle r=\"0.0\"></circle></g><g class=\"toyplot-Datum\" style=\"fill:rgb(98.8%,55.3%,38.4%);fill-opacity:1.0;opacity:1.0;stroke:rgb(98.8%,55.3%,38.4%);stroke-opacity:1.0\" transform=\"translate(160.5531430610637, 597.3871237458194)\"><circle r=\"0.0\"></circle></g><g class=\"toyplot-Datum\" style=\"fill:rgb(98.8%,55.3%,38.4%);fill-opacity:1.0;opacity:1.0;stroke:rgb(98.8%,55.3%,38.4%);stroke-opacity:1.0\" transform=\"translate(160.93319550106446, 526.8394648829432)\"><circle r=\"0.0\"></circle></g><g class=\"toyplot-Datum\" style=\"fill:rgb(98.8%,55.3%,38.4%);fill-opacity:1.0;opacity:1.0;stroke:rgb(98.8%,55.3%,38.4%);stroke-opacity:1.0\" transform=\"translate(160.89129371752324, 485.03344481605353)\"><circle r=\"0.0\"></circle></g><g class=\"toyplot-Datum\" style=\"fill:rgb(98.8%,55.3%,38.4%);fill-opacity:1.0;opacity:1.0;stroke:rgb(98.8%,55.3%,38.4%);stroke-opacity:1.0\" transform=\"translate(158.10534118563896, 389.6634615384615)\"><circle r=\"0.0\"></circle></g><g class=\"toyplot-Datum\" style=\"fill:rgb(98.8%,55.3%,38.4%);fill-opacity:1.0;opacity:1.0;stroke:rgb(98.8%,55.3%,38.4%);stroke-opacity:1.0\" transform=\"translate(158.55763431612107, 323.03511705685617)\"><circle r=\"0.0\"></circle></g><g class=\"toyplot-Datum\" style=\"fill:rgb(98.8%,55.3%,38.4%);fill-opacity:1.0;opacity:1.0;stroke:rgb(98.8%,55.3%,38.4%);stroke-opacity:1.0\" transform=\"translate(156.65358965005166, 260.3260869565217)\"><circle r=\"0.0\"></circle></g><g class=\"toyplot-Datum\" style=\"fill:rgb(98.8%,55.3%,38.4%);fill-opacity:1.0;opacity:1.0;stroke:rgb(98.8%,55.3%,38.4%);stroke-opacity:1.0\" transform=\"translate(160.84178288816196, 176.71404682274243)\"><circle r=\"0.0\"></circle></g><g class=\"toyplot-Datum\" style=\"fill:rgb(98.8%,55.3%,38.4%);fill-opacity:1.0;opacity:1.0;stroke:rgb(98.8%,55.3%,38.4%);stroke-opacity:1.0\" transform=\"translate(158.81056863632483, 108.77926421404675)\"><circle r=\"0.0\"></circle></g><g class=\"toyplot-Datum\" style=\"fill:rgb(98.8%,55.3%,38.4%);fill-opacity:1.0;opacity:1.0;stroke:rgb(98.8%,55.3%,38.4%);stroke-opacity:1.0\" transform=\"translate(150.17869490153038, 887.0897784280937)\"><circle r=\"0.0\"></circle></g><g class=\"toyplot-Datum\" style=\"fill:rgb(98.8%,55.3%,38.4%);fill-opacity:1.0;opacity:1.0;stroke:rgb(98.8%,55.3%,38.4%);stroke-opacity:1.0\" transform=\"translate(154.98986448576642, 704.5150501672241)\"><circle r=\"0.0\"></circle></g><g class=\"toyplot-Datum\" style=\"fill:rgb(98.8%,55.3%,38.4%);fill-opacity:1.0;opacity:1.0;stroke:rgb(98.8%,55.3%,38.4%);stroke-opacity:1.0\" transform=\"translate(158.40214091411167, 577.790551839465)\"><circle r=\"0.0\"></circle></g><g class=\"toyplot-Datum\" style=\"fill:rgb(98.8%,55.3%,38.4%);fill-opacity:1.0;opacity:1.0;stroke:rgb(98.8%,55.3%,38.4%);stroke-opacity:1.0\" transform=\"translate(160.89129088972265, 505.93645484949843)\"><circle r=\"0.0\"></circle></g><g class=\"toyplot-Datum\" style=\"fill:rgb(98.8%,55.3%,38.4%);fill-opacity:1.0;opacity:1.0;stroke:rgb(98.8%,55.3%,38.4%);stroke-opacity:1.0\" transform=\"translate(153.26320379161217, 356.3492892976588)\"><circle r=\"0.0\"></circle></g><g class=\"toyplot-Datum\" style=\"fill:rgb(98.8%,55.3%,38.4%);fill-opacity:1.0;opacity:1.0;stroke:rgb(98.8%,55.3%,38.4%);stroke-opacity:1.0\" transform=\"translate(156.65358682225107, 242.03595317725745)\"><circle r=\"0.0\"></circle></g><g class=\"toyplot-Datum\" style=\"fill:rgb(98.8%,55.3%,38.4%);fill-opacity:1.0;opacity:1.0;stroke:rgb(98.8%,55.3%,38.4%);stroke-opacity:1.0\" transform=\"translate(160.67436465107625, 158.42391304347822)\"><circle r=\"0.0\"></circle></g><g class=\"toyplot-Datum\" style=\"fill:rgb(98.8%,55.3%,38.4%);fill-opacity:1.0;opacity:1.0;stroke:rgb(98.8%,55.3%,38.4%);stroke-opacity:1.0\" transform=\"translate(158.7265625987203, 93.1020066889632)\"><circle r=\"0.0\"></circle></g><g class=\"toyplot-Datum\" style=\"fill:rgb(98.8%,55.3%,38.4%);fill-opacity:1.0;opacity:1.0;stroke:rgb(98.8%,55.3%,38.4%);stroke-opacity:1.0\" transform=\"translate(129.31934865044798, 795.802414297659)\"><circle r=\"0.0\"></circle></g><g class=\"toyplot-Datum\" style=\"fill:rgb(98.8%,55.3%,38.4%);fill-opacity:1.0;opacity:1.0;stroke:rgb(98.8%,55.3%,38.4%);stroke-opacity:1.0\" transform=\"translate(149.48994447930608, 541.8635033444816)\"><circle r=\"0.0\"></circle></g><g class=\"toyplot-Datum\" style=\"fill:rgb(98.8%,55.3%,38.4%);fill-opacity:1.0;opacity:1.0;stroke:rgb(98.8%,55.3%,38.4%);stroke-opacity:1.0\" transform=\"translate(151.8775362590677, 299.1926212374582)\"><circle r=\"0.0\"></circle></g><g class=\"toyplot-Datum\" style=\"fill:rgb(98.8%,55.3%,38.4%);fill-opacity:1.0;opacity:1.0;stroke:rgb(98.8%,55.3%,38.4%);stroke-opacity:1.0\" transform=\"translate(144.9352812929755, 125.76295986622065)\"><circle r=\"0.0\"></circle></g><g class=\"toyplot-Datum\" style=\"fill:rgb(98.8%,55.3%,38.4%);fill-opacity:1.0;opacity:1.0;stroke:rgb(98.8%,55.3%,38.4%);stroke-opacity:1.0\" transform=\"translate(117.34546876634045, 668.8329588210703)\"><circle r=\"0.0\"></circle></g><g class=\"toyplot-Datum\" style=\"fill:rgb(98.8%,55.3%,38.4%);fill-opacity:1.0;opacity:1.0;stroke:rgb(98.8%,55.3%,38.4%);stroke-opacity:1.0\" transform=\"translate(136.78055366246411, 212.4777905518395)\"><circle r=\"0.0\"></circle></g><g class=\"toyplot-Datum\" style=\"fill:rgb(98.8%,55.3%,38.4%);fill-opacity:1.0;opacity:1.0;stroke:rgb(98.8%,55.3%,38.4%);stroke-opacity:1.0\" transform=\"translate(90.14396868522141, 440.6553746864549)\"><circle r=\"0.0\"></circle></g><g class=\"toyplot-Datum\" style=\"fill:rgb(98.8%,55.3%,38.4%);fill-opacity:1.0;opacity:1.0;stroke:rgb(98.8%,55.3%,38.4%);stroke-opacity:1.0\" transform=\"translate(50.0, 248.58855690844473)\"><circle r=\"0.0\"></circle></g><g class=\"toyplot-Datum\" style=\"fill:rgb(98.8%,55.3%,38.4%);fill-opacity:1.0;opacity:1.0;stroke:rgb(98.8%,55.3%,38.4%);stroke-opacity:1.0\" transform=\"translate(50.0, 56.521739130434746)\"><circle r=\"0.0\"></circle></g><g class=\"toyplot-Datum\" style=\"fill:rgb(98.8%,55.3%,38.4%);fill-opacity:1.0;opacity:1.0;stroke:rgb(98.8%,55.3%,38.4%);stroke-opacity:1.0\" transform=\"translate(50.0, 440.6553746864549)\"><circle r=\"0.0\"></circle></g><g class=\"toyplot-Datum\" style=\"fill:rgb(98.8%,55.3%,38.4%);fill-opacity:1.0;opacity:1.0;stroke:rgb(98.8%,55.3%,38.4%);stroke-opacity:1.0\" transform=\"translate(90.14396868522141, 212.4777905518395)\"><circle r=\"0.0\"></circle></g><g class=\"toyplot-Datum\" style=\"fill:rgb(98.8%,55.3%,38.4%);fill-opacity:1.0;opacity:1.0;stroke:rgb(98.8%,55.3%,38.4%);stroke-opacity:1.0\" transform=\"translate(90.14396868522141, 668.8329588210703)\"><circle r=\"0.0\"></circle></g><g class=\"toyplot-Datum\" style=\"fill:rgb(98.8%,55.3%,38.4%);fill-opacity:1.0;opacity:1.0;stroke:rgb(98.8%,55.3%,38.4%);stroke-opacity:1.0\" transform=\"translate(136.78055366246411, 125.76295986622065)\"><circle r=\"0.0\"></circle></g><g class=\"toyplot-Datum\" style=\"fill:rgb(98.8%,55.3%,38.4%);fill-opacity:1.0;opacity:1.0;stroke:rgb(98.8%,55.3%,38.4%);stroke-opacity:1.0\" transform=\"translate(136.78055366246411, 299.1926212374582)\"><circle r=\"0.0\"></circle></g><g class=\"toyplot-Datum\" style=\"fill:rgb(98.8%,55.3%,38.4%);fill-opacity:1.0;opacity:1.0;stroke:rgb(98.8%,55.3%,38.4%);stroke-opacity:1.0\" transform=\"translate(117.34546876634045, 541.8635033444816)\"><circle r=\"0.0\"></circle></g><g class=\"toyplot-Datum\" style=\"fill:rgb(98.8%,55.3%,38.4%);fill-opacity:1.0;opacity:1.0;stroke:rgb(98.8%,55.3%,38.4%);stroke-opacity:1.0\" transform=\"translate(117.34546876634045, 795.802414297659)\"><circle r=\"0.0\"></circle></g><g class=\"toyplot-Datum\" style=\"fill:rgb(98.8%,55.3%,38.4%);fill-opacity:1.0;opacity:1.0;stroke:rgb(98.8%,55.3%,38.4%);stroke-opacity:1.0\" transform=\"translate(144.9352812929755, 93.1020066889632)\"><circle r=\"0.0\"></circle></g><g class=\"toyplot-Datum\" style=\"fill:rgb(98.8%,55.3%,38.4%);fill-opacity:1.0;opacity:1.0;stroke:rgb(98.8%,55.3%,38.4%);stroke-opacity:1.0\" transform=\"translate(144.9352812929755, 158.42391304347822)\"><circle r=\"0.0\"></circle></g><g class=\"toyplot-Datum\" style=\"fill:rgb(98.8%,55.3%,38.4%);fill-opacity:1.0;opacity:1.0;stroke:rgb(98.8%,55.3%,38.4%);stroke-opacity:1.0\" transform=\"translate(151.8775362590677, 242.03595317725745)\"><circle r=\"0.0\"></circle></g><g class=\"toyplot-Datum\" style=\"fill:rgb(98.8%,55.3%,38.4%);fill-opacity:1.0;opacity:1.0;stroke:rgb(98.8%,55.3%,38.4%);stroke-opacity:1.0\" transform=\"translate(151.8775362590677, 356.3492892976588)\"><circle r=\"0.0\"></circle></g><g class=\"toyplot-Datum\" style=\"fill:rgb(98.8%,55.3%,38.4%);fill-opacity:1.0;opacity:1.0;stroke:rgb(98.8%,55.3%,38.4%);stroke-opacity:1.0\" transform=\"translate(149.48994447930608, 505.93645484949843)\"><circle r=\"0.0\"></circle></g><g class=\"toyplot-Datum\" style=\"fill:rgb(98.8%,55.3%,38.4%);fill-opacity:1.0;opacity:1.0;stroke:rgb(98.8%,55.3%,38.4%);stroke-opacity:1.0\" transform=\"translate(149.48994447930608, 577.790551839465)\"><circle r=\"0.0\"></circle></g><g class=\"toyplot-Datum\" style=\"fill:rgb(98.8%,55.3%,38.4%);fill-opacity:1.0;opacity:1.0;stroke:rgb(98.8%,55.3%,38.4%);stroke-opacity:1.0\" transform=\"translate(129.31934865044798, 704.5150501672241)\"><circle r=\"0.0\"></circle></g><g class=\"toyplot-Datum\" style=\"fill:rgb(98.8%,55.3%,38.4%);fill-opacity:1.0;opacity:1.0;stroke:rgb(98.8%,55.3%,38.4%);stroke-opacity:1.0\" transform=\"translate(129.31934865044798, 887.0897784280937)\"><circle r=\"0.0\"></circle></g><g class=\"toyplot-Datum\" style=\"fill:rgb(98.8%,55.3%,38.4%);fill-opacity:1.0;opacity:1.0;stroke:rgb(98.8%,55.3%,38.4%);stroke-opacity:1.0\" transform=\"translate(158.7265625987203, 77.42474916387953)\"><circle r=\"0.0\"></circle></g><g class=\"toyplot-Datum\" style=\"fill:rgb(98.8%,55.3%,38.4%);fill-opacity:1.0;opacity:1.0;stroke:rgb(98.8%,55.3%,38.4%);stroke-opacity:1.0\" transform=\"translate(158.7265625987203, 108.77926421404675)\"><circle r=\"0.0\"></circle></g><g class=\"toyplot-Datum\" style=\"fill:rgb(98.8%,55.3%,38.4%);fill-opacity:1.0;opacity:1.0;stroke:rgb(98.8%,55.3%,38.4%);stroke-opacity:1.0\" transform=\"translate(160.67436465107625, 140.13377926421398)\"><circle r=\"0.0\"></circle></g><g class=\"toyplot-Datum\" style=\"fill:rgb(98.8%,55.3%,38.4%);fill-opacity:1.0;opacity:1.0;stroke:rgb(98.8%,55.3%,38.4%);stroke-opacity:1.0\" transform=\"translate(160.67436465107625, 176.71404682274243)\"><circle r=\"0.0\"></circle></g><g class=\"toyplot-Datum\" style=\"fill:rgb(98.8%,55.3%,38.4%);fill-opacity:1.0;opacity:1.0;stroke:rgb(98.8%,55.3%,38.4%);stroke-opacity:1.0\" transform=\"translate(156.65358682225107, 223.74581939799322)\"><circle r=\"0.0\"></circle></g><g class=\"toyplot-Datum\" style=\"fill:rgb(98.8%,55.3%,38.4%);fill-opacity:1.0;opacity:1.0;stroke:rgb(98.8%,55.3%,38.4%);stroke-opacity:1.0\" transform=\"translate(156.65358682225107, 260.3260869565217)\"><circle r=\"0.0\"></circle></g><g class=\"toyplot-Datum\" style=\"fill:rgb(98.8%,55.3%,38.4%);fill-opacity:1.0;opacity:1.0;stroke:rgb(98.8%,55.3%,38.4%);stroke-opacity:1.0\" transform=\"translate(153.26320379161217, 323.03511705685617)\"><circle r=\"0.0\"></circle></g><g class=\"toyplot-Datum\" style=\"fill:rgb(98.8%,55.3%,38.4%);fill-opacity:1.0;opacity:1.0;stroke:rgb(98.8%,55.3%,38.4%);stroke-opacity:1.0\" transform=\"translate(153.26320379161217, 389.6634615384615)\"><circle r=\"0.0\"></circle></g><g class=\"toyplot-Datum\" style=\"fill:rgb(98.8%,55.3%,38.4%);fill-opacity:1.0;opacity:1.0;stroke:rgb(98.8%,55.3%,38.4%);stroke-opacity:1.0\" transform=\"translate(160.89129088972265, 485.03344481605353)\"><circle r=\"0.0\"></circle></g><g class=\"toyplot-Datum\" style=\"fill:rgb(98.8%,55.3%,38.4%);fill-opacity:1.0;opacity:1.0;stroke:rgb(98.8%,55.3%,38.4%);stroke-opacity:1.0\" transform=\"translate(160.89129088972265, 526.8394648829432)\"><circle r=\"0.0\"></circle></g><g class=\"toyplot-Datum\" style=\"fill:rgb(98.8%,55.3%,38.4%);fill-opacity:1.0;opacity:1.0;stroke:rgb(98.8%,55.3%,38.4%);stroke-opacity:1.0\" transform=\"translate(158.40214091411167, 558.1939799331104)\"><circle r=\"0.0\"></circle></g><g class=\"toyplot-Datum\" style=\"fill:rgb(98.8%,55.3%,38.4%);fill-opacity:1.0;opacity:1.0;stroke:rgb(98.8%,55.3%,38.4%);stroke-opacity:1.0\" transform=\"translate(158.40214091411167, 597.3871237458194)\"><circle r=\"0.0\"></circle></g><g class=\"toyplot-Datum\" style=\"fill:rgb(98.8%,55.3%,38.4%);fill-opacity:1.0;opacity:1.0;stroke:rgb(98.8%,55.3%,38.4%);stroke-opacity:1.0\" transform=\"translate(154.98986448576642, 673.160535117057)\"><circle r=\"0.0\"></circle></g><g class=\"toyplot-Datum\" style=\"fill:rgb(98.8%,55.3%,38.4%);fill-opacity:1.0;opacity:1.0;stroke:rgb(98.8%,55.3%,38.4%);stroke-opacity:1.0\" transform=\"translate(154.98986448576642, 735.8695652173914)\"><circle r=\"0.0\"></circle></g><g class=\"toyplot-Datum\" style=\"fill:rgb(98.8%,55.3%,38.4%);fill-opacity:1.0;opacity:1.0;stroke:rgb(98.8%,55.3%,38.4%);stroke-opacity:1.0\" transform=\"translate(150.17869490153038, 806.4172240802677)\"><circle r=\"0.0\"></circle></g><g class=\"toyplot-Datum\" style=\"fill:rgb(98.8%,55.3%,38.4%);fill-opacity:1.0;opacity:1.0;stroke:rgb(98.8%,55.3%,38.4%);stroke-opacity:1.0\" transform=\"translate(150.17869490153038, 967.7623327759197)\"><circle r=\"0.0\"></circle></g><g class=\"toyplot-Datum\" style=\"fill:rgb(98.8%,55.3%,38.4%);fill-opacity:1.0;opacity:1.0;stroke:rgb(98.8%,55.3%,38.4%);stroke-opacity:1.0\" transform=\"translate(158.81056863632483, 98.32775919732443)\"><circle r=\"0.0\"></circle></g><g class=\"toyplot-Datum\" style=\"fill:rgb(98.8%,55.3%,38.4%);fill-opacity:1.0;opacity:1.0;stroke:rgb(98.8%,55.3%,38.4%);stroke-opacity:1.0\" transform=\"translate(158.81056863632483, 119.23076923076921)\"><circle r=\"0.0\"></circle></g><g class=\"toyplot-Datum\" style=\"fill:rgb(98.8%,55.3%,38.4%);fill-opacity:1.0;opacity:1.0;stroke:rgb(98.8%,55.3%,38.4%);stroke-opacity:1.0\" transform=\"translate(160.84178288816196, 161.03678929765877)\"><circle r=\"0.0\"></circle></g><g class=\"toyplot-Datum\" style=\"fill:rgb(98.8%,55.3%,38.4%);fill-opacity:1.0;opacity:1.0;stroke:rgb(98.8%,55.3%,38.4%);stroke-opacity:1.0\" transform=\"translate(160.84178288816196, 192.39130434782598)\"><circle r=\"0.0\"></circle></g><g class=\"toyplot-Datum\" style=\"fill:rgb(98.8%,55.3%,38.4%);fill-opacity:1.0;opacity:1.0;stroke:rgb(98.8%,55.3%,38.4%);stroke-opacity:1.0\" transform=\"translate(156.65358965005166, 244.64882943143812)\"><circle r=\"0.0\"></circle></g><g class=\"toyplot-Datum\" style=\"fill:rgb(98.8%,55.3%,38.4%);fill-opacity:1.0;opacity:1.0;stroke:rgb(98.8%,55.3%,38.4%);stroke-opacity:1.0\" transform=\"translate(156.65358965005166, 276.0033444816054)\"><circle r=\"0.0\"></circle></g><g class=\"toyplot-Datum\" style=\"fill:rgb(98.8%,55.3%,38.4%);fill-opacity:1.0;opacity:1.0;stroke:rgb(98.8%,55.3%,38.4%);stroke-opacity:1.0\" transform=\"translate(158.55763431612107, 307.3578595317726)\"><circle r=\"0.0\"></circle></g><g class=\"toyplot-Datum\" style=\"fill:rgb(98.8%,55.3%,38.4%);fill-opacity:1.0;opacity:1.0;stroke:rgb(98.8%,55.3%,38.4%);stroke-opacity:1.0\" transform=\"translate(158.55763431612107, 338.71237458193986)\"><circle r=\"0.0\"></circle></g><g class=\"toyplot-Datum\" style=\"fill:rgb(98.8%,55.3%,38.4%);fill-opacity:1.0;opacity:1.0;stroke:rgb(98.8%,55.3%,38.4%);stroke-opacity:1.0\" transform=\"translate(158.10534118563896, 370.06688963210706)\"><circle r=\"0.0\"></circle></g><g class=\"toyplot-Datum\" style=\"fill:rgb(98.8%,55.3%,38.4%);fill-opacity:1.0;opacity:1.0;stroke:rgb(98.8%,55.3%,38.4%);stroke-opacity:1.0\" transform=\"translate(158.10534118563896, 409.2600334448161)\"><circle r=\"0.0\"></circle></g><g class=\"toyplot-Datum\" style=\"fill:rgb(98.8%,55.3%,38.4%);fill-opacity:1.0;opacity:1.0;stroke:rgb(98.8%,55.3%,38.4%);stroke-opacity:1.0\" transform=\"translate(160.89129371752324, 474.5819397993311)\"><circle r=\"0.0\"></circle></g><g class=\"toyplot-Datum\" style=\"fill:rgb(98.8%,55.3%,38.4%);fill-opacity:1.0;opacity:1.0;stroke:rgb(98.8%,55.3%,38.4%);stroke-opacity:1.0\" transform=\"translate(160.89129371752324, 495.484949832776)\"><circle r=\"0.0\"></circle></g><g class=\"toyplot-Datum\" style=\"fill:rgb(98.8%,55.3%,38.4%);fill-opacity:1.0;opacity:1.0;stroke:rgb(98.8%,55.3%,38.4%);stroke-opacity:1.0\" transform=\"translate(160.93319550106446, 516.3879598662207)\"><circle r=\"0.0\"></circle></g><g class=\"toyplot-Datum\" style=\"fill:rgb(98.8%,55.3%,38.4%);fill-opacity:1.0;opacity:1.0;stroke:rgb(98.8%,55.3%,38.4%);stroke-opacity:1.0\" transform=\"translate(160.93319550106446, 537.2909698996657)\"><circle r=\"0.0\"></circle></g><g class=\"toyplot-Datum\" style=\"fill:rgb(98.8%,55.3%,38.4%);fill-opacity:1.0;opacity:1.0;stroke:rgb(98.8%,55.3%,38.4%);stroke-opacity:1.0\" transform=\"translate(160.5531430610637, 579.0969899665553)\"><circle r=\"0.0\"></circle></g><g class=\"toyplot-Datum\" style=\"fill:rgb(98.8%,55.3%,38.4%);fill-opacity:1.0;opacity:1.0;stroke:rgb(98.8%,55.3%,38.4%);stroke-opacity:1.0\" transform=\"translate(160.5531430610637, 615.6772575250836)\"><circle r=\"0.0\"></circle></g><g class=\"toyplot-Datum\" style=\"fill:rgb(98.8%,55.3%,38.4%);fill-opacity:1.0;opacity:1.0;stroke:rgb(98.8%,55.3%,38.4%);stroke-opacity:1.0\" transform=\"translate(161.13573841480405, 662.7090301003344)\"><circle r=\"0.0\"></circle></g><g class=\"toyplot-Datum\" style=\"fill:rgb(98.8%,55.3%,38.4%);fill-opacity:1.0;opacity:1.0;stroke:rgb(98.8%,55.3%,38.4%);stroke-opacity:1.0\" transform=\"translate(161.13573841480405, 683.6120401337794)\"><circle r=\"0.0\"></circle></g><g class=\"toyplot-Datum\" style=\"fill:rgb(98.8%,55.3%,38.4%);fill-opacity:1.0;opacity:1.0;stroke:rgb(98.8%,55.3%,38.4%);stroke-opacity:1.0\" transform=\"translate(158.9505023483831, 714.9665551839466)\"><circle r=\"0.0\"></circle></g><g class=\"toyplot-Datum\" style=\"fill:rgb(98.8%,55.3%,38.4%);fill-opacity:1.0;opacity:1.0;stroke:rgb(98.8%,55.3%,38.4%);stroke-opacity:1.0\" transform=\"translate(158.9505023483831, 756.7725752508363)\"><circle r=\"0.0\"></circle></g><g class=\"toyplot-Datum\" style=\"fill:rgb(98.8%,55.3%,38.4%);fill-opacity:1.0;opacity:1.0;stroke:rgb(98.8%,55.3%,38.4%);stroke-opacity:1.0\" transform=\"translate(161.15880648087432, 788.1270903010034)\"><circle r=\"0.0\"></circle></g><g class=\"toyplot-Datum\" style=\"fill:rgb(98.8%,55.3%,38.4%);fill-opacity:1.0;opacity:1.0;stroke:rgb(98.8%,55.3%,38.4%);stroke-opacity:1.0\" transform=\"translate(161.15880648087432, 824.7073578595318)\"><circle r=\"0.0\"></circle></g><g class=\"toyplot-Datum\" style=\"fill:rgb(98.8%,55.3%,38.4%);fill-opacity:1.0;opacity:1.0;stroke:rgb(98.8%,55.3%,38.4%);stroke-opacity:1.0\" transform=\"translate(157.23494982049553, 891.3357023411371)\"><circle r=\"0.0\"></circle></g><g class=\"toyplot-Datum\" style=\"fill:rgb(98.8%,55.3%,38.4%);fill-opacity:1.0;opacity:1.0;stroke:rgb(98.8%,55.3%,38.4%);stroke-opacity:1.0\" transform=\"translate(157.23494982049553, 1044.1889632107025)\"><circle r=\"0.0\"></circle></g><g class=\"toyplot-Datum\" style=\"fill:rgb(98.8%,55.3%,38.4%);fill-opacity:1.0;opacity:1.0;stroke:rgb(98.8%,55.3%,38.4%);stroke-opacity:1.0\" transform=\"translate(160.84178571596254, 181.93979933110367)\"><circle r=\"0.0\"></circle></g><g class=\"toyplot-Datum\" style=\"fill:rgb(98.8%,55.3%,38.4%);fill-opacity:1.0;opacity:1.0;stroke:rgb(98.8%,55.3%,38.4%);stroke-opacity:1.0\" transform=\"translate(160.84178571596254, 202.84280936454843)\"><circle r=\"0.0\"></circle></g><g class=\"toyplot-Datum\" style=\"fill:rgb(98.8%,55.3%,38.4%);fill-opacity:1.0;opacity:1.0;stroke:rgb(98.8%,55.3%,38.4%);stroke-opacity:1.0\" transform=\"translate(156.6957510256868, 265.5518394648829)\"><circle r=\"0.0\"></circle></g><g class=\"toyplot-Datum\" style=\"fill:rgb(98.8%,55.3%,38.4%);fill-opacity:1.0;opacity:1.0;stroke:rgb(98.8%,55.3%,38.4%);stroke-opacity:1.0\" transform=\"translate(156.6957510256868, 286.4548494983277)\"><circle r=\"0.0\"></circle></g><g class=\"toyplot-Datum\" style=\"fill:rgb(98.8%,55.3%,38.4%);fill-opacity:1.0;opacity:1.0;stroke:rgb(98.8%,55.3%,38.4%);stroke-opacity:1.0\" transform=\"translate(158.59980304403774, 328.2608695652174)\"><circle r=\"0.0\"></circle></g><g class=\"toyplot-Datum\" style=\"fill:rgb(98.8%,55.3%,38.4%);fill-opacity:1.0;opacity:1.0;stroke:rgb(98.8%,55.3%,38.4%);stroke-opacity:1.0\" transform=\"translate(158.59980304403774, 349.16387959866216)\"><circle r=\"0.0\"></circle></g><g class=\"toyplot-Datum\" style=\"fill:rgb(98.8%,55.3%,38.4%);fill-opacity:1.0;opacity:1.0;stroke:rgb(98.8%,55.3%,38.4%);stroke-opacity:1.0\" transform=\"translate(158.1473442044412, 390.96989966555185)\"><circle r=\"0.0\"></circle></g><g class=\"toyplot-Datum\" style=\"fill:rgb(98.8%,55.3%,38.4%);fill-opacity:1.0;opacity:1.0;stroke:rgb(98.8%,55.3%,38.4%);stroke-opacity:1.0\" transform=\"translate(158.1473442044412, 427.5501672240803)\"><circle r=\"0.0\"></circle></g><g class=\"toyplot-Datum\" style=\"fill:rgb(98.8%,55.3%,38.4%);fill-opacity:1.0;opacity:1.0;stroke:rgb(98.8%,55.3%,38.4%);stroke-opacity:1.0\" transform=\"translate(161.17749089047427, 600.0)\"><circle r=\"0.0\"></circle></g><g class=\"toyplot-Datum\" style=\"fill:rgb(98.8%,55.3%,38.4%);fill-opacity:1.0;opacity:1.0;stroke:rgb(98.8%,55.3%,38.4%);stroke-opacity:1.0\" transform=\"translate(161.17749089047427, 631.3545150501674)\"><circle r=\"0.0\"></circle></g><g class=\"toyplot-Datum\" style=\"fill:rgb(98.8%,55.3%,38.4%);fill-opacity:1.0;opacity:1.0;stroke:rgb(98.8%,55.3%,38.4%);stroke-opacity:1.0\" transform=\"translate(162.64129111880357, 704.5150501672241)\"><circle r=\"0.0\"></circle></g><g class=\"toyplot-Datum\" style=\"fill:rgb(98.8%,55.3%,38.4%);fill-opacity:1.0;opacity:1.0;stroke:rgb(98.8%,55.3%,38.4%);stroke-opacity:1.0\" transform=\"translate(162.64129111880357, 725.418060200669)\"><circle r=\"0.0\"></circle></g><g class=\"toyplot-Datum\" style=\"fill:rgb(98.8%,55.3%,38.4%);fill-opacity:1.0;opacity:1.0;stroke:rgb(98.8%,55.3%,38.4%);stroke-opacity:1.0\" transform=\"translate(162.54242329243291, 746.3210702341138)\"><circle r=\"0.0\"></circle></g><g class=\"toyplot-Datum\" style=\"fill:rgb(98.8%,55.3%,38.4%);fill-opacity:1.0;opacity:1.0;stroke:rgb(98.8%,55.3%,38.4%);stroke-opacity:1.0\" transform=\"translate(162.54242329243291, 767.2240802675586)\"><circle r=\"0.0\"></circle></g><g class=\"toyplot-Datum\" style=\"fill:rgb(98.8%,55.3%,38.4%);fill-opacity:1.0;opacity:1.0;stroke:rgb(98.8%,55.3%,38.4%);stroke-opacity:1.0\" transform=\"translate(161.66631468006227, 809.0301003344483)\"><circle r=\"0.0\"></circle></g><g class=\"toyplot-Datum\" style=\"fill:rgb(98.8%,55.3%,38.4%);fill-opacity:1.0;opacity:1.0;stroke:rgb(98.8%,55.3%,38.4%);stroke-opacity:1.0\" transform=\"translate(161.66631468006227, 840.3846153846154)\"><circle r=\"0.0\"></circle></g><g class=\"toyplot-Datum\" style=\"fill:rgb(98.8%,55.3%,38.4%);fill-opacity:1.0;opacity:1.0;stroke:rgb(98.8%,55.3%,38.4%);stroke-opacity:1.0\" transform=\"translate(163.21421426341544, 871.7391304347827)\"><circle r=\"0.0\"></circle></g><g class=\"toyplot-Datum\" style=\"fill:rgb(98.8%,55.3%,38.4%);fill-opacity:1.0;opacity:1.0;stroke:rgb(98.8%,55.3%,38.4%);stroke-opacity:1.0\" transform=\"translate(163.21421426341544, 910.9322742474917)\"><circle r=\"0.0\"></circle></g><g class=\"toyplot-Datum\" style=\"fill:rgb(98.8%,55.3%,38.4%);fill-opacity:1.0;opacity:1.0;stroke:rgb(98.8%,55.3%,38.4%);stroke-opacity:1.0\" transform=\"translate(161.0404862142642, 994.5443143812711)\"><circle r=\"0.0\"></circle></g><g class=\"toyplot-Datum\" style=\"fill:rgb(98.8%,55.3%,38.4%);fill-opacity:1.0;opacity:1.0;stroke:rgb(98.8%,55.3%,38.4%);stroke-opacity:1.0\" transform=\"translate(161.0404862142642, 1093.8336120401339)\"><circle r=\"0.0\"></circle></g><g class=\"toyplot-Datum\" style=\"fill:rgb(98.8%,55.3%,38.4%);fill-opacity:1.0;opacity:1.0;stroke:rgb(98.8%,55.3%,38.4%);stroke-opacity:1.0\" transform=\"translate(158.23167487355312, 411.87290969899664)\"><circle r=\"0.0\"></circle></g><g class=\"toyplot-Datum\" style=\"fill:rgb(98.8%,55.3%,38.4%);fill-opacity:1.0;opacity:1.0;stroke:rgb(98.8%,55.3%,38.4%);stroke-opacity:1.0\" transform=\"translate(158.23167487355312, 443.22742474916384)\"><circle r=\"0.0\"></circle></g><g class=\"toyplot-Datum\" style=\"fill:rgb(98.8%,55.3%,38.4%);fill-opacity:1.0;opacity:1.0;stroke:rgb(98.8%,55.3%,38.4%);stroke-opacity:1.0\" transform=\"translate(161.21940850969878, 620.903010033445)\"><circle r=\"0.0\"></circle></g><g class=\"toyplot-Datum\" style=\"fill:rgb(98.8%,55.3%,38.4%);fill-opacity:1.0;opacity:1.0;stroke:rgb(98.8%,55.3%,38.4%);stroke-opacity:1.0\" transform=\"translate(161.21940850969878, 641.8060200668897)\"><circle r=\"0.0\"></circle></g><g class=\"toyplot-Datum\" style=\"fill:rgb(98.8%,55.3%,38.4%);fill-opacity:1.0;opacity:1.0;stroke:rgb(98.8%,55.3%,38.4%);stroke-opacity:1.0\" transform=\"translate(163.5017682150882, 829.9331103678929)\"><circle r=\"0.0\"></circle></g><g class=\"toyplot-Datum\" style=\"fill:rgb(98.8%,55.3%,38.4%);fill-opacity:1.0;opacity:1.0;stroke:rgb(98.8%,55.3%,38.4%);stroke-opacity:1.0\" transform=\"translate(163.5017682150882, 850.8361204013378)\"><circle r=\"0.0\"></circle></g><g class=\"toyplot-Datum\" style=\"fill:rgb(98.8%,55.3%,38.4%);fill-opacity:1.0;opacity:1.0;stroke:rgb(98.8%,55.3%,38.4%);stroke-opacity:1.0\" transform=\"translate(163.42810683759183, 892.6421404682275)\"><circle r=\"0.0\"></circle></g><g class=\"toyplot-Datum\" style=\"fill:rgb(98.8%,55.3%,38.4%);fill-opacity:1.0;opacity:1.0;stroke:rgb(98.8%,55.3%,38.4%);stroke-opacity:1.0\" transform=\"translate(163.42810683759183, 929.2224080267558)\"><circle r=\"0.0\"></circle></g><g class=\"toyplot-Datum\" style=\"fill:rgb(98.8%,55.3%,38.4%);fill-opacity:1.0;opacity:1.0;stroke:rgb(98.8%,55.3%,38.4%);stroke-opacity:1.0\" transform=\"translate(163.75433096229474, 976.2541806020067)\"><circle r=\"0.0\"></circle></g><g class=\"toyplot-Datum\" style=\"fill:rgb(98.8%,55.3%,38.4%);fill-opacity:1.0;opacity:1.0;stroke:rgb(98.8%,55.3%,38.4%);stroke-opacity:1.0\" transform=\"translate(163.75433096229474, 1012.8344481605352)\"><circle r=\"0.0\"></circle></g><g class=\"toyplot-Datum\" style=\"fill:rgb(98.8%,55.3%,38.4%);fill-opacity:1.0;opacity:1.0;stroke:rgb(98.8%,55.3%,38.4%);stroke-opacity:1.0\" transform=\"translate(163.5466131734806, 1070.3177257525085)\"><circle r=\"0.0\"></circle></g><g class=\"toyplot-Datum\" style=\"fill:rgb(98.8%,55.3%,38.4%);fill-opacity:1.0;opacity:1.0;stroke:rgb(98.8%,55.3%,38.4%);stroke-opacity:1.0\" transform=\"translate(163.5466131734806, 1117.3494983277594)\"><circle r=\"0.0\"></circle></g><g class=\"toyplot-Datum\" style=\"fill:rgb(98.8%,55.3%,38.4%);fill-opacity:1.0;opacity:1.0;stroke:rgb(98.8%,55.3%,38.4%);stroke-opacity:1.0\" transform=\"translate(158.31601402606677, 432.77591973244154)\"><circle r=\"0.0\"></circle></g><g class=\"toyplot-Datum\" style=\"fill:rgb(98.8%,55.3%,38.4%);fill-opacity:1.0;opacity:1.0;stroke:rgb(98.8%,55.3%,38.4%);stroke-opacity:1.0\" transform=\"translate(158.31601402606677, 453.6789297658863)\"><circle r=\"0.0\"></circle></g><g class=\"toyplot-Datum\" style=\"fill:rgb(98.8%,55.3%,38.4%);fill-opacity:1.0;opacity:1.0;stroke:rgb(98.8%,55.3%,38.4%);stroke-opacity:1.0\" transform=\"translate(163.52100404580267, 913.5451505016723)\"><circle r=\"0.0\"></circle></g><g class=\"toyplot-Datum\" style=\"fill:rgb(98.8%,55.3%,38.4%);fill-opacity:1.0;opacity:1.0;stroke:rgb(98.8%,55.3%,38.4%);stroke-opacity:1.0\" transform=\"translate(163.52100404580267, 944.8996655518396)\"><circle r=\"0.0\"></circle></g><g class=\"toyplot-Datum\" style=\"fill:rgb(98.8%,55.3%,38.4%);fill-opacity:1.0;opacity:1.0;stroke:rgb(98.8%,55.3%,38.4%);stroke-opacity:1.0\" transform=\"translate(164.7524263675169, 997.1571906354516)\"><circle r=\"0.0\"></circle></g><g class=\"toyplot-Datum\" style=\"fill:rgb(98.8%,55.3%,38.4%);fill-opacity:1.0;opacity:1.0;stroke:rgb(98.8%,55.3%,38.4%);stroke-opacity:1.0\" transform=\"translate(164.7524263675169, 1028.5117056856188)\"><circle r=\"0.0\"></circle></g><g class=\"toyplot-Datum\" style=\"fill:rgb(98.8%,55.3%,38.4%);fill-opacity:1.0;opacity:1.0;stroke:rgb(98.8%,55.3%,38.4%);stroke-opacity:1.0\" transform=\"translate(163.6941236944323, 1059.866220735786)\"><circle r=\"0.0\"></circle></g><g class=\"toyplot-Datum\" style=\"fill:rgb(98.8%,55.3%,38.4%);fill-opacity:1.0;opacity:1.0;stroke:rgb(98.8%,55.3%,38.4%);stroke-opacity:1.0\" transform=\"translate(163.6941236944323, 1080.7692307692307)\"><circle r=\"0.0\"></circle></g><g class=\"toyplot-Datum\" style=\"fill:rgb(98.8%,55.3%,38.4%);fill-opacity:1.0;opacity:1.0;stroke:rgb(98.8%,55.3%,38.4%);stroke-opacity:1.0\" transform=\"translate(164.259162931007, 1101.6722408026756)\"><circle r=\"0.0\"></circle></g><g class=\"toyplot-Datum\" style=\"fill:rgb(98.8%,55.3%,38.4%);fill-opacity:1.0;opacity:1.0;stroke:rgb(98.8%,55.3%,38.4%);stroke-opacity:1.0\" transform=\"translate(164.259162931007, 1133.0267558528428)\"><circle r=\"0.0\"></circle></g><g class=\"toyplot-Datum\" style=\"fill:rgb(98.8%,55.3%,38.4%);fill-opacity:1.0;opacity:1.0;stroke:rgb(98.8%,55.3%,38.4%);stroke-opacity:1.0\" transform=\"translate(163.63715708604275, 934.448160535117)\"><circle r=\"0.0\"></circle></g><g class=\"toyplot-Datum\" style=\"fill:rgb(98.8%,55.3%,38.4%);fill-opacity:1.0;opacity:1.0;stroke:rgb(98.8%,55.3%,38.4%);stroke-opacity:1.0\" transform=\"translate(163.63715708604275, 955.3511705685619)\"><circle r=\"0.0\"></circle></g><g class=\"toyplot-Datum\" style=\"fill:rgb(98.8%,55.3%,38.4%);fill-opacity:1.0;opacity:1.0;stroke:rgb(98.8%,55.3%,38.4%);stroke-opacity:1.0\" transform=\"translate(164.96280568224375, 1018.0602006688963)\"><circle r=\"0.0\"></circle></g><g class=\"toyplot-Datum\" style=\"fill:rgb(98.8%,55.3%,38.4%);fill-opacity:1.0;opacity:1.0;stroke:rgb(98.8%,55.3%,38.4%);stroke-opacity:1.0\" transform=\"translate(164.96280568224375, 1038.9632107023413)\"><circle r=\"0.0\"></circle></g><g class=\"toyplot-Datum\" style=\"fill:rgb(98.8%,55.3%,38.4%);fill-opacity:1.0;opacity:1.0;stroke:rgb(98.8%,55.3%,38.4%);stroke-opacity:1.0\" transform=\"translate(164.52731025280983, 1122.5752508361204)\"><circle r=\"0.0\"></circle></g><g class=\"toyplot-Datum\" style=\"fill:rgb(98.8%,55.3%,38.4%);fill-opacity:1.0;opacity:1.0;stroke:rgb(98.8%,55.3%,38.4%);stroke-opacity:1.0\" transform=\"translate(164.52731025280983, 1143.4782608695652)\"><circle r=\"0.0\"></circle></g></g></g><g class=\"toyplot-mark-Text\" id=\"t7dca8713404c43f8aa93f555e8b2573f\"><g class=\"toyplot-Series\"><g class=\"toyplot-Datum\" transform=\"translate(165.87301587301587,1143.4782608695652)\"><text style=\"fill:rgb(83.9%,33.3%,48.6%);fill-opacity:1.0;font-family:helvetica;font-size:11.0px;font-weight:normal;opacity:1;stroke:none;vertical-align:baseline;white-space:pre\" x=\"15.0\" y=\"2.8104999999999993\">Pan_troglodytes_ellioti_KU308531.1</text></g><g class=\"toyplot-Datum\" transform=\"translate(165.87301587301587,1122.5752508361204)\"><text style=\"fill:rgb(83.9%,33.3%,48.6%);fill-opacity:1.0;font-family:helvetica;font-size:11.0px;font-weight:normal;opacity:1;stroke:none;vertical-align:baseline;white-space:pre\" x=\"15.0\" y=\"2.8104999999999993\">Pan_troglodytes_ellioti_KU308533.1</text></g><g class=\"toyplot-Datum\" transform=\"translate(165.87301587301587,1101.6722408026756)\"><text style=\"fill:rgb(83.9%,33.3%,48.6%);fill-opacity:1.0;font-family:helvetica;font-size:11.0px;font-weight:normal;opacity:1;stroke:none;vertical-align:baseline;white-space:pre\" x=\"15.0\" y=\"2.8104999999999993\">Pan_troglodytes_ellioti_KU308532.1</text></g><g class=\"toyplot-Datum\" transform=\"translate(165.87301587301587,1080.7692307692307)\"><text style=\"fill:rgb(83.9%,33.3%,48.6%);fill-opacity:1.0;font-family:helvetica;font-size:11.0px;font-weight:normal;opacity:1;stroke:none;vertical-align:baseline;white-space:pre\" x=\"15.0\" y=\"2.8104999999999993\">Pan_troglodytes_ellioti_KU308530.1</text></g><g class=\"toyplot-Datum\" transform=\"translate(165.87301587301587,1059.866220735786)\"><text style=\"fill:rgb(83.9%,33.3%,48.6%);fill-opacity:1.0;font-family:helvetica;font-size:11.0px;font-weight:normal;opacity:1;stroke:none;vertical-align:baseline;white-space:pre\" x=\"15.0\" y=\"2.8104999999999993\">Pan_troglodytes_ellioti_KU308529.1</text></g><g class=\"toyplot-Datum\" transform=\"translate(165.87301587301587,1038.9632107023413)\"><text style=\"fill:rgb(83.9%,33.3%,48.6%);fill-opacity:1.0;font-family:helvetica;font-size:11.0px;font-weight:normal;opacity:1;stroke:none;vertical-align:baseline;white-space:pre\" x=\"15.0\" y=\"2.8104999999999993\">Pan_troglodytes_verus_A993_KU308545.1</text></g><g class=\"toyplot-Datum\" transform=\"translate(165.87301587301587,1018.0602006688963)\"><text style=\"fill:rgb(83.9%,33.3%,48.6%);fill-opacity:1.0;font-family:helvetica;font-size:11.0px;font-weight:normal;opacity:1;stroke:none;vertical-align:baseline;white-space:pre\" x=\"15.0\" y=\"2.8104999999999993\">Pan_troglodytes_verus_B005_KU308547.1</text></g><g class=\"toyplot-Datum\" transform=\"translate(165.87301587301587,997.1571906354516)\"><text style=\"fill:rgb(83.9%,33.3%,48.6%);fill-opacity:1.0;font-family:helvetica;font-size:11.0px;font-weight:normal;opacity:1;stroke:none;vertical-align:baseline;white-space:pre\" x=\"15.0\" y=\"2.8104999999999993\">Pan_troglodytes_verus_A994_KU308546.1</text></g><g class=\"toyplot-Datum\" transform=\"translate(165.87301587301587,976.2541806020067)\"><text style=\"fill:rgb(83.9%,33.3%,48.6%);fill-opacity:1.0;font-family:helvetica;font-size:11.0px;font-weight:normal;opacity:1;stroke:none;vertical-align:baseline;white-space:pre\" x=\"15.0\" y=\"2.8104999999999993\">Pan_troglodytes_verus_N016_KU308548.1</text></g><g class=\"toyplot-Datum\" transform=\"translate(165.87301587301587,955.3511705685619)\"><text style=\"fill:rgb(83.9%,33.3%,48.6%);fill-opacity:1.0;font-family:helvetica;font-size:11.0px;font-weight:normal;opacity:1;stroke:none;vertical-align:baseline;white-space:pre\" x=\"15.0\" y=\"2.8104999999999993\">Pan_troglodytes_troglodytes_B022_KU308541.1</text></g><g class=\"toyplot-Datum\" transform=\"translate(165.87301587301587,934.448160535117)\"><text style=\"fill:rgb(83.9%,33.3%,48.6%);fill-opacity:1.0;font-family:helvetica;font-size:11.0px;font-weight:normal;opacity:1;stroke:none;vertical-align:baseline;white-space:pre\" x=\"15.0\" y=\"2.8104999999999993\">Pan_troglodytes_troglodytes_B024_KU308542.1</text></g><g class=\"toyplot-Datum\" transform=\"translate(165.87301587301587,913.5451505016723)\"><text style=\"fill:rgb(83.9%,33.3%,48.6%);fill-opacity:1.0;font-family:helvetica;font-size:11.0px;font-weight:normal;opacity:1;stroke:none;vertical-align:baseline;white-space:pre\" x=\"15.0\" y=\"2.8104999999999993\">Pan_troglodytes_troglodytes_B021_KU308540.1</text></g><g class=\"toyplot-Datum\" transform=\"translate(165.87301587301587,892.6421404682275)\"><text style=\"fill:rgb(83.9%,33.3%,48.6%);fill-opacity:1.0;font-family:helvetica;font-size:11.0px;font-weight:normal;opacity:1;stroke:none;vertical-align:baseline;white-space:pre\" x=\"15.0\" y=\"2.8104999999999993\">Pan_troglodytes_troglodytes_B025_KU308543.1</text></g><g class=\"toyplot-Datum\" transform=\"translate(165.87301587301587,871.7391304347827)\"><text style=\"fill:rgb(83.9%,33.3%,48.6%);fill-opacity:1.0;font-family:helvetica;font-size:11.0px;font-weight:normal;opacity:1;stroke:none;vertical-align:baseline;white-space:pre\" x=\"15.0\" y=\"2.8104999999999993\">Pan_troglodytes_troglodytes_A990_KU308539.1</text></g><g class=\"toyplot-Datum\" transform=\"translate(165.87301587301587,850.8361204013378)\"><text style=\"fill:rgb(83.9%,33.3%,48.6%);fill-opacity:1.0;font-family:helvetica;font-size:11.0px;font-weight:normal;opacity:1;stroke:none;vertical-align:baseline;white-space:pre\" x=\"15.0\" y=\"2.8104999999999993\">Pan_paniscus_PP05_GU189658.1</text></g><g class=\"toyplot-Datum\" transform=\"translate(165.87301587301587,829.9331103678929)\"><text style=\"fill:rgb(83.9%,33.3%,48.6%);fill-opacity:1.0;font-family:helvetica;font-size:11.0px;font-weight:normal;opacity:1;stroke:none;vertical-align:baseline;white-space:pre\" x=\"15.0\" y=\"2.8104999999999993\">Pan_paniscus_PP30_GU189676.1</text></g><g class=\"toyplot-Datum\" transform=\"translate(165.87301587301587,809.0301003344483)\"><text style=\"fill:rgb(83.9%,33.3%,48.6%);fill-opacity:1.0;font-family:helvetica;font-size:11.0px;font-weight:normal;opacity:1;stroke:none;vertical-align:baseline;white-space:pre\" x=\"15.0\" y=\"2.8104999999999993\">Pan_paniscus_PP23_GU189661.1</text></g><g class=\"toyplot-Datum\" transform=\"translate(165.87301587301587,788.1270903010034)\"><text style=\"fill:rgb(83.9%,33.3%,48.6%);fill-opacity:1.0;font-family:helvetica;font-size:11.0px;font-weight:normal;opacity:1;stroke:none;vertical-align:baseline;white-space:pre\" x=\"15.0\" y=\"2.8104999999999993\">Pan_paniscus_PP69_GU189670.1</text></g><g class=\"toyplot-Datum\" transform=\"translate(165.87301587301587,767.2240802675586)\"><text style=\"fill:rgb(19.6%,80.4%,19.6%);fill-opacity:1.0;font-family:helvetica;font-size:11.0px;font-weight:normal;opacity:1;stroke:none;vertical-align:baseline;white-space:pre\" x=\"15.0\" y=\"2.8104999999999993\">Homo_sapiens_neanderthalensis_FM865410.1</text></g><g class=\"toyplot-Datum\" transform=\"translate(165.87301587301587,746.3210702341138)\"><text style=\"fill:rgb(19.6%,80.4%,19.6%);fill-opacity:1.0;font-family:helvetica;font-size:11.0px;font-weight:normal;opacity:1;stroke:none;vertical-align:baseline;white-space:pre\" x=\"15.0\" y=\"2.8104999999999993\">Homo_sapiens_neanderthalensis_AM948965.1</text></g><g class=\"toyplot-Datum\" transform=\"translate(165.87301587301587,725.418060200669)\"><text style=\"fill:rgb(0%,50.2%,0%);fill-opacity:1.0;font-family:helvetica;font-size:11.0px;font-weight:normal;opacity:1;stroke:none;vertical-align:baseline;white-space:pre\" x=\"15.0\" y=\"2.8104999999999993\">Homo_sapiens_sapiens_AJ842750.1</text></g><g class=\"toyplot-Datum\" transform=\"translate(165.87301587301587,704.5150501672241)\"><text style=\"fill:rgb(0%,50.2%,0%);fill-opacity:1.0;font-family:helvetica;font-size:11.0px;font-weight:normal;opacity:1;stroke:none;vertical-align:baseline;white-space:pre\" x=\"15.0\" y=\"2.8104999999999993\">Homo_sapiens_sapiens_FN600416.1</text></g><g class=\"toyplot-Datum\" transform=\"translate(165.87301587301587,683.6120401337794)\"><text style=\"fill:rgb(32.5%,51.8%,63.9%);fill-opacity:1.0;font-family:helvetica;font-size:11.0px;font-weight:normal;opacity:1;stroke:none;vertical-align:baseline;white-space:pre\" x=\"15.0\" y=\"2.8104999999999993\">Homo_sapiens_denisova_KT780370.1</text></g><g class=\"toyplot-Datum\" transform=\"translate(165.87301587301587,662.7090301003344)\"><text style=\"fill:rgb(32.5%,51.8%,63.9%);fill-opacity:1.0;font-family:helvetica;font-size:11.0px;font-weight:normal;opacity:1;stroke:none;vertical-align:baseline;white-space:pre\" x=\"15.0\" y=\"2.8104999999999993\">Homo_sapiens_denisova_KX663333.1</text></g><g class=\"toyplot-Datum\" transform=\"translate(165.87301587301587,641.8060200668897)\"><text style=\"fill:rgb(25.5%,41.2%,88.2%);fill-opacity:1.0;font-family:helvetica;font-size:11.0px;font-weight:normal;opacity:1;stroke:none;vertical-align:baseline;white-space:pre\" x=\"15.0\" y=\"2.8104999999999993\">Gorilla_gorilla_gorilla_KU353721.1</text></g><g class=\"toyplot-Datum\" transform=\"translate(165.87301587301587,620.903010033445)\"><text style=\"fill:rgb(25.5%,41.2%,88.2%);fill-opacity:1.0;font-family:helvetica;font-size:11.0px;font-weight:normal;opacity:1;stroke:none;vertical-align:baseline;white-space:pre\" x=\"15.0\" y=\"2.8104999999999993\">Gorilla_gorilla_gorilla_EU095336.1</text></g><g class=\"toyplot-Datum\" transform=\"translate(165.87301587301587,600.0)\"><text style=\"fill:rgb(25.5%,41.2%,88.2%);fill-opacity:1.0;font-family:helvetica;font-size:11.0px;font-weight:normal;opacity:1;stroke:none;vertical-align:baseline;white-space:pre\" x=\"15.0\" y=\"2.8104999999999993\">Gorilla_gorilla_gorilla_KF914214.1</text></g><g class=\"toyplot-Datum\" transform=\"translate(165.87301587301587,579.0969899665553)\"><text style=\"fill:rgb(25.5%,41.2%,88.2%);fill-opacity:1.0;font-family:helvetica;font-size:11.0px;font-weight:normal;opacity:1;stroke:none;vertical-align:baseline;white-space:pre\" x=\"15.0\" y=\"2.8104999999999993\">Gorilla_gorilla_gorilla_KU353722.1</text></g><g class=\"toyplot-Datum\" transform=\"translate(165.87301587301587,558.1939799331104)\"><text style=\"fill:rgb(25.5%,41.2%,88.2%);fill-opacity:1.0;font-family:helvetica;font-size:11.0px;font-weight:normal;opacity:1;stroke:none;vertical-align:baseline;white-space:pre\" x=\"15.0\" y=\"2.8104999999999993\">Gorilla_gorilla_gorilla_NC_011120.1</text></g><g class=\"toyplot-Datum\" transform=\"translate(165.87301587301587,537.2909698996657)\"><text style=\"fill:rgb(0%,0%,100%);fill-opacity:1.0;font-family:helvetica;font-size:11.0px;font-weight:normal;opacity:1;stroke:none;vertical-align:baseline;white-space:pre\" x=\"15.0\" y=\"2.8104999999999993\">Gorilla_beringei_MH177751.1</text></g><g class=\"toyplot-Datum\" transform=\"translate(165.87301587301587,516.3879598662207)\"><text style=\"fill:rgb(0%,0%,100%);fill-opacity:1.0;font-family:helvetica;font-size:11.0px;font-weight:normal;opacity:1;stroke:none;vertical-align:baseline;white-space:pre\" x=\"15.0\" y=\"2.8104999999999993\">Gorilla_beringei_MH177752.1</text></g><g class=\"toyplot-Datum\" transform=\"translate(165.87301587301587,495.484949832776)\"><text style=\"fill:rgb(0%,0%,100%);fill-opacity:1.0;font-family:helvetica;font-size:11.0px;font-weight:normal;opacity:1;stroke:none;vertical-align:baseline;white-space:pre\" x=\"15.0\" y=\"2.8104999999999993\">Gorilla_beringei_MH177753.1</text></g><g class=\"toyplot-Datum\" transform=\"translate(165.87301587301587,474.5819397993311)\"><text style=\"fill:rgb(0%,0%,100%);fill-opacity:1.0;font-family:helvetica;font-size:11.0px;font-weight:normal;opacity:1;stroke:none;vertical-align:baseline;white-space:pre\" x=\"15.0\" y=\"2.8104999999999993\">Gorilla_beringei_MH177754.1</text></g><g class=\"toyplot-Datum\" transform=\"translate(165.87301587301587,453.6789297658863)\"><text style=\"fill:rgb(100%,0%,0%);fill-opacity:1.0;font-family:helvetica;font-size:11.0px;font-weight:normal;opacity:1;stroke:none;vertical-align:baseline;white-space:pre\" x=\"15.0\" y=\"2.8104999999999993\">Pongo_abelii_CR247</text></g><g class=\"toyplot-Datum\" transform=\"translate(165.87301587301587,432.77591973244154)\"><text style=\"fill:rgb(100%,0%,0%);fill-opacity:1.0;font-family:helvetica;font-size:11.0px;font-weight:normal;opacity:1;stroke:none;vertical-align:baseline;white-space:pre\" x=\"15.0\" y=\"2.8104999999999993\">Pongo_abelii_CR011</text></g><g class=\"toyplot-Datum\" transform=\"translate(165.87301587301587,411.87290969899664)\"><text style=\"fill:rgb(100%,0%,0%);fill-opacity:1.0;font-family:helvetica;font-size:11.0px;font-weight:normal;opacity:1;stroke:none;vertical-align:baseline;white-space:pre\" x=\"15.0\" y=\"2.8104999999999993\">Pongo_abelii_B017</text></g><g class=\"toyplot-Datum\" transform=\"translate(165.87301587301587,390.96989966555185)\"><text style=\"fill:rgb(100%,0%,0%);fill-opacity:1.0;font-family:helvetica;font-size:11.0px;font-weight:normal;opacity:1;stroke:none;vertical-align:baseline;white-space:pre\" x=\"15.0\" y=\"2.8104999999999993\">Pongo_abelii_B020</text></g><g class=\"toyplot-Datum\" transform=\"translate(165.87301587301587,370.06688963210706)\"><text style=\"fill:rgb(100%,0%,0%);fill-opacity:1.0;font-family:helvetica;font-size:11.0px;font-weight:normal;opacity:1;stroke:none;vertical-align:baseline;white-space:pre\" x=\"15.0\" y=\"2.8104999999999993\">Pongo_abelii_KB550</text></g><g class=\"toyplot-Datum\" transform=\"translate(165.87301587301587,349.16387959866216)\"><text style=\"fill:rgb(100%,0%,0%);fill-opacity:1.0;font-family:helvetica;font-size:11.0px;font-weight:normal;opacity:1;stroke:none;vertical-align:baseline;white-space:pre\" x=\"15.0\" y=\"2.8104999999999993\">Pongo_abelii_B018</text></g><g class=\"toyplot-Datum\" transform=\"translate(165.87301587301587,328.2608695652174)\"><text style=\"fill:rgb(100%,0%,0%);fill-opacity:1.0;font-family:helvetica;font-size:11.0px;font-weight:normal;opacity:1;stroke:none;vertical-align:baseline;white-space:pre\" x=\"15.0\" y=\"2.8104999999999993\">Pongo_abelii_A949</text></g><g class=\"toyplot-Datum\" transform=\"translate(165.87301587301587,307.3578595317726)\"><text style=\"fill:rgb(100%,0%,0%);fill-opacity:1.0;font-family:helvetica;font-size:11.0px;font-weight:normal;opacity:1;stroke:none;vertical-align:baseline;white-space:pre\" x=\"15.0\" y=\"2.8104999999999993\">Pongo_abelii_CRNA</text></g><g class=\"toyplot-Datum\" transform=\"translate(165.87301587301587,286.4548494983277)\"><text style=\"fill:rgb(100%,0%,0%);fill-opacity:1.0;font-family:helvetica;font-size:11.0px;font-weight:normal;opacity:1;stroke:none;vertical-align:baseline;white-space:pre\" x=\"15.0\" y=\"2.8104999999999993\">Pongo_abelii_A952</text></g><g class=\"toyplot-Datum\" transform=\"translate(165.87301587301587,265.5518394648829)\"><text style=\"fill:rgb(100%,0%,0%);fill-opacity:1.0;font-family:helvetica;font-size:11.0px;font-weight:normal;opacity:1;stroke:none;vertical-align:baseline;white-space:pre\" x=\"15.0\" y=\"2.8104999999999993\">Pongo_abelii_KB4661</text></g><g class=\"toyplot-Datum\" transform=\"translate(165.87301587301587,244.64882943143812)\"><text style=\"fill:rgb(100%,0%,0%);fill-opacity:1.0;font-family:helvetica;font-size:11.0px;font-weight:normal;opacity:1;stroke:none;vertical-align:baseline;white-space:pre\" x=\"15.0\" y=\"2.8104999999999993\">Pongo_abelii_CR519</text></g><g class=\"toyplot-Datum\" transform=\"translate(165.87301587301587,223.74581939799322)\"><text style=\"fill:rgb(100%,0%,0%);fill-opacity:1.0;font-family:helvetica;font-size:11.0px;font-weight:normal;opacity:1;stroke:none;vertical-align:baseline;white-space:pre\" x=\"15.0\" y=\"2.8104999999999993\">Pongo_abelii_KB5883</text></g><g class=\"toyplot-Datum\" transform=\"translate(165.87301587301587,202.84280936454843)\"><text style=\"fill:rgb(100%,64.7%,0%);fill-opacity:1.0;font-family:helvetica;font-size:11.0px;font-weight:normal;opacity:1;stroke:none;vertical-align:baseline;white-space:pre\" x=\"15.0\" y=\"2.8104999999999993\">Pongo_pygmaeus_CR535</text></g><g class=\"toyplot-Datum\" transform=\"translate(165.87301587301587,181.93979933110367)\"><text style=\"fill:rgb(100%,64.7%,0%);fill-opacity:1.0;font-family:helvetica;font-size:11.0px;font-weight:normal;opacity:1;stroke:none;vertical-align:baseline;white-space:pre\" x=\"15.0\" y=\"2.8104999999999993\">Pongo_pygmaeus_CR536</text></g><g class=\"toyplot-Datum\" transform=\"translate(165.87301587301587,161.03678929765877)\"><text style=\"fill:rgb(100%,64.7%,0%);fill-opacity:1.0;font-family:helvetica;font-size:11.0px;font-weight:normal;opacity:1;stroke:none;vertical-align:baseline;white-space:pre\" x=\"15.0\" y=\"2.8104999999999993\">Pongo_pygmaeus_A940</text></g><g class=\"toyplot-Datum\" transform=\"translate(165.87301587301587,140.13377926421398)\"><text style=\"fill:rgb(100%,64.7%,0%);fill-opacity:1.0;font-family:helvetica;font-size:11.0px;font-weight:normal;opacity:1;stroke:none;vertical-align:baseline;white-space:pre\" x=\"15.0\" y=\"2.8104999999999993\">Pongo_pygmaeus_A938</text></g><g class=\"toyplot-Datum\" transform=\"translate(165.87301587301587,119.23076923076921)\"><text style=\"fill:rgb(64.7%,16.5%,16.5%);fill-opacity:1.0;font-family:helvetica;font-size:11.0px;font-weight:normal;opacity:1;stroke:none;vertical-align:baseline;white-space:pre\" x=\"15.0\" y=\"2.8104999999999993\">Pongo_tapanuliensis_B019</text></g><g class=\"toyplot-Datum\" transform=\"translate(165.87301587301587,98.32775919732443)\"><text style=\"fill:rgb(64.7%,16.5%,16.5%);fill-opacity:1.0;font-family:helvetica;font-size:11.0px;font-weight:normal;opacity:1;stroke:none;vertical-align:baseline;white-space:pre\" x=\"15.0\" y=\"2.8104999999999993\">Pongo_tapanuliensis_CRBT</text></g><g class=\"toyplot-Datum\" transform=\"translate(165.87301587301587,77.42474916387953)\"><text style=\"fill:rgb(64.7%,16.5%,16.5%);fill-opacity:1.0;font-family:helvetica;font-size:11.0px;font-weight:normal;opacity:1;stroke:none;vertical-align:baseline;white-space:pre\" x=\"15.0\" y=\"2.8104999999999993\">Pongo_tapanuliensis_KB9258</text></g><g class=\"toyplot-Datum\" transform=\"translate(165.87301587301587,56.521739130434746)\"><text style=\"fill:rgb(32.5%,51.8%,63.9%);fill-opacity:1.0;font-family:helvetica;font-size:11.0px;font-weight:normal;opacity:1;stroke:none;vertical-align:baseline;white-space:pre\" x=\"15.0\" y=\"2.8104999999999993\">Hylobates_lar_HQ622776.1</text></g></g></g><g class=\"toyplot-mark-Point\" id=\"t4500abdd11e1416a8d49188f5e6b3c10\"><g class=\"toyplot-Series\"><g class=\"toyplot-Datum\" style=\"fill:rgb(40%,76.1%,64.7%);fill-opacity:1.0;opacity:1.0;stroke:none;stroke-width:1\" transform=\"translate(164.9936897891371, 1143.4782608695652)\"><rect height=\"8\" width=\"8\" x=\"-4.0\" y=\"-4.0\"></rect><g><text style=\"fill:rgb(14.9%,14.9%,14.9%);fill-opacity:1.0;font-family:helvetica;font-size:9.0px;font-weight:normal;stroke:none;vertical-align:baseline;white-space:pre\" x=\"-1.2510000000000001\" y=\"2.2995\"> </text></g></g><g class=\"toyplot-Datum\" style=\"fill:rgb(40%,76.1%,64.7%);fill-opacity:1.0;opacity:1.0;stroke:none;stroke-width:1\" transform=\"translate(164.7216615938084, 1122.5752508361204)\"><rect height=\"8\" width=\"8\" x=\"-4.0\" y=\"-4.0\"></rect><g><text style=\"fill:rgb(14.9%,14.9%,14.9%);fill-opacity:1.0;font-family:helvetica;font-size:9.0px;font-weight:normal;stroke:none;vertical-align:baseline;white-space:pre\" x=\"-1.2510000000000001\" y=\"2.2995\"> </text></g></g><g class=\"toyplot-Datum\" style=\"fill:rgb(40%,76.1%,64.7%);fill-opacity:1.0;opacity:1.0;stroke:none;stroke-width:1\" transform=\"translate(165.20501585150058, 1101.6722408026756)\"><rect height=\"8\" width=\"8\" x=\"-4.0\" y=\"-4.0\"></rect><g><text style=\"fill:rgb(14.9%,14.9%,14.9%);fill-opacity:1.0;font-family:helvetica;font-size:9.0px;font-weight:normal;stroke:none;vertical-align:baseline;white-space:pre\" x=\"-1.2510000000000001\" y=\"2.2995\"> </text></g></g><g class=\"toyplot-Datum\" style=\"fill:rgb(40%,76.1%,64.7%);fill-opacity:1.0;opacity:1.0;stroke:none;stroke-width:1\" transform=\"translate(164.7933384208526, 1080.7692307692307)\"><rect height=\"8\" width=\"8\" x=\"-4.0\" y=\"-4.0\"></rect><g><text style=\"fill:rgb(14.9%,14.9%,14.9%);fill-opacity:1.0;font-family:helvetica;font-size:9.0px;font-weight:normal;stroke:none;vertical-align:baseline;white-space:pre\" x=\"-1.2510000000000001\" y=\"2.2995\"> </text></g></g><g class=\"toyplot-Datum\" style=\"fill:rgb(40%,76.1%,64.7%);fill-opacity:1.0;opacity:1.0;stroke:none;stroke-width:1\" transform=\"translate(165.87301587301587, 1059.866220735786)\"><rect height=\"8\" width=\"8\" x=\"-4.0\" y=\"-4.0\"></rect><g><text style=\"fill:rgb(14.9%,14.9%,14.9%);fill-opacity:1.0;font-family:helvetica;font-size:9.0px;font-weight:normal;stroke:none;vertical-align:baseline;white-space:pre\" x=\"-1.2510000000000001\" y=\"2.2995\"> </text></g></g><g class=\"toyplot-Datum\" style=\"fill:rgb(40%,76.1%,64.7%);fill-opacity:1.0;opacity:1.0;stroke:none;stroke-width:1\" transform=\"translate(165.3124999862605, 1038.9632107023413)\"><rect height=\"8\" width=\"8\" x=\"-4.0\" y=\"-4.0\"></rect><g><text style=\"fill:rgb(14.9%,14.9%,14.9%);fill-opacity:1.0;font-family:helvetica;font-size:9.0px;font-weight:normal;stroke:none;vertical-align:baseline;white-space:pre\" x=\"-1.2510000000000001\" y=\"2.2995\"> </text></g></g><g class=\"toyplot-Datum\" style=\"fill:rgb(40%,76.1%,64.7%);fill-opacity:1.0;opacity:1.0;stroke:none;stroke-width:1\" transform=\"translate(165.35205017083337, 1018.0602006688963)\"><rect height=\"8\" width=\"8\" x=\"-4.0\" y=\"-4.0\"></rect><g><text style=\"fill:rgb(14.9%,14.9%,14.9%);fill-opacity:1.0;font-family:helvetica;font-size:9.0px;font-weight:normal;stroke:none;vertical-align:baseline;white-space:pre\" x=\"-1.2510000000000001\" y=\"2.2995\"> </text></g></g><g class=\"toyplot-Datum\" style=\"fill:rgb(40%,76.1%,64.7%);fill-opacity:1.0;opacity:1.0;stroke:none;stroke-width:1\" transform=\"translate(165.24754314453168, 997.1571906354516)\"><rect height=\"8\" width=\"8\" x=\"-4.0\" y=\"-4.0\"></rect><g><text style=\"fill:rgb(14.9%,14.9%,14.9%);fill-opacity:1.0;font-family:helvetica;font-size:9.0px;font-weight:normal;stroke:none;vertical-align:baseline;white-space:pre\" x=\"-1.2510000000000001\" y=\"2.2995\"> </text></g></g><g class=\"toyplot-Datum\" style=\"fill:rgb(40%,76.1%,64.7%);fill-opacity:1.0;opacity:1.0;stroke:none;stroke-width:1\" transform=\"translate(164.98866931197458, 976.2541806020067)\"><rect height=\"8\" width=\"8\" x=\"-4.0\" y=\"-4.0\"></rect><g><text style=\"fill:rgb(14.9%,14.9%,14.9%);fill-opacity:1.0;font-family:helvetica;font-size:9.0px;font-weight:normal;stroke:none;vertical-align:baseline;white-space:pre\" x=\"-1.2510000000000001\" y=\"2.2995\"> </text></g></g><g class=\"toyplot-Datum\" style=\"fill:rgb(40%,76.1%,64.7%);fill-opacity:1.0;opacity:1.0;stroke:none;stroke-width:1\" transform=\"translate(164.23134246326987, 955.3511705685619)\"><rect height=\"8\" width=\"8\" x=\"-4.0\" y=\"-4.0\"></rect><g><text style=\"fill:rgb(14.9%,14.9%,14.9%);fill-opacity:1.0;font-family:helvetica;font-size:9.0px;font-weight:normal;stroke:none;vertical-align:baseline;white-space:pre\" x=\"-1.2510000000000001\" y=\"2.2995\"> </text></g></g><g class=\"toyplot-Datum\" style=\"fill:rgb(40%,76.1%,64.7%);fill-opacity:1.0;opacity:1.0;stroke:none;stroke-width:1\" transform=\"translate(164.1319763784357, 934.448160535117)\"><rect height=\"8\" width=\"8\" x=\"-4.0\" y=\"-4.0\"></rect><g><text style=\"fill:rgb(14.9%,14.9%,14.9%);fill-opacity:1.0;font-family:helvetica;font-size:9.0px;font-weight:normal;stroke:none;vertical-align:baseline;white-space:pre\" x=\"-1.2510000000000001\" y=\"2.2995\"> </text></g></g><g class=\"toyplot-Datum\" style=\"fill:rgb(40%,76.1%,64.7%);fill-opacity:1.0;opacity:1.0;stroke:none;stroke-width:1\" transform=\"translate(164.04945946062045, 913.5451505016723)\"><rect height=\"8\" width=\"8\" x=\"-4.0\" y=\"-4.0\"></rect><g><text style=\"fill:rgb(14.9%,14.9%,14.9%);fill-opacity:1.0;font-family:helvetica;font-size:9.0px;font-weight:normal;stroke:none;vertical-align:baseline;white-space:pre\" x=\"-1.2510000000000001\" y=\"2.2995\"> </text></g></g><g class=\"toyplot-Datum\" style=\"fill:rgb(40%,76.1%,64.7%);fill-opacity:1.0;opacity:1.0;stroke:none;stroke-width:1\" transform=\"translate(164.16689349452653, 892.6421404682275)\"><rect height=\"8\" width=\"8\" x=\"-4.0\" y=\"-4.0\"></rect><g><text style=\"fill:rgb(14.9%,14.9%,14.9%);fill-opacity:1.0;font-family:helvetica;font-size:9.0px;font-weight:normal;stroke:none;vertical-align:baseline;white-space:pre\" x=\"-1.2510000000000001\" y=\"2.2995\"> </text></g></g><g class=\"toyplot-Datum\" style=\"fill:rgb(40%,76.1%,64.7%);fill-opacity:1.0;opacity:1.0;stroke:none;stroke-width:1\" transform=\"translate(163.69940432924886, 871.7391304347827)\"><rect height=\"8\" width=\"8\" x=\"-4.0\" y=\"-4.0\"></rect><g><text style=\"fill:rgb(14.9%,14.9%,14.9%);fill-opacity:1.0;font-family:helvetica;font-size:9.0px;font-weight:normal;stroke:none;vertical-align:baseline;white-space:pre\" x=\"-1.2510000000000001\" y=\"2.2995\"> </text></g></g><g class=\"toyplot-Datum\" style=\"fill:rgb(40%,76.1%,64.7%);fill-opacity:1.0;opacity:1.0;stroke:none;stroke-width:1\" transform=\"translate(164.801074152139, 850.8361204013378)\"><rect height=\"8\" width=\"8\" x=\"-4.0\" y=\"-4.0\"></rect><g><text style=\"fill:rgb(14.9%,14.9%,14.9%);fill-opacity:1.0;font-family:helvetica;font-size:9.0px;font-weight:normal;stroke:none;vertical-align:baseline;white-space:pre\" x=\"-1.2510000000000001\" y=\"2.2995\"> </text></g></g><g class=\"toyplot-Datum\" style=\"fill:rgb(40%,76.1%,64.7%);fill-opacity:1.0;opacity:1.0;stroke:none;stroke-width:1\" transform=\"translate(164.65988772442057, 829.9331103678929)\"><rect height=\"8\" width=\"8\" x=\"-4.0\" y=\"-4.0\"></rect><g><text style=\"fill:rgb(14.9%,14.9%,14.9%);fill-opacity:1.0;font-family:helvetica;font-size:9.0px;font-weight:normal;stroke:none;vertical-align:baseline;white-space:pre\" x=\"-1.2510000000000001\" y=\"2.2995\"> </text></g></g><g class=\"toyplot-Datum\" style=\"fill:rgb(40%,76.1%,64.7%);fill-opacity:1.0;opacity:1.0;stroke:none;stroke-width:1\" transform=\"translate(164.50477211656963, 809.0301003344483)\"><rect height=\"8\" width=\"8\" x=\"-4.0\" y=\"-4.0\"></rect><g><text style=\"fill:rgb(14.9%,14.9%,14.9%);fill-opacity:1.0;font-family:helvetica;font-size:9.0px;font-weight:normal;stroke:none;vertical-align:baseline;white-space:pre\" x=\"-1.2510000000000001\" y=\"2.2995\"> </text></g></g><g class=\"toyplot-Datum\" style=\"fill:rgb(40%,76.1%,64.7%);fill-opacity:1.0;opacity:1.0;stroke:none;stroke-width:1\" transform=\"translate(163.7636112382619, 788.1270903010034)\"><rect height=\"8\" width=\"8\" x=\"-4.0\" y=\"-4.0\"></rect><g><text style=\"fill:rgb(14.9%,14.9%,14.9%);fill-opacity:1.0;font-family:helvetica;font-size:9.0px;font-weight:normal;stroke:none;vertical-align:baseline;white-space:pre\" x=\"-1.2510000000000001\" y=\"2.2995\"> </text></g></g><g class=\"toyplot-Datum\" style=\"fill:rgb(40%,76.1%,64.7%);fill-opacity:1.0;opacity:1.0;stroke:none;stroke-width:1\" transform=\"translate(162.73165518324836, 767.2240802675586)\"><rect height=\"8\" width=\"8\" x=\"-4.0\" y=\"-4.0\"></rect><g><text style=\"fill:rgb(14.9%,14.9%,14.9%);fill-opacity:1.0;font-family:helvetica;font-size:9.0px;font-weight:normal;stroke:none;vertical-align:baseline;white-space:pre\" x=\"-1.2510000000000001\" y=\"2.2995\"> </text></g></g><g class=\"toyplot-Datum\" style=\"fill:rgb(40%,76.1%,64.7%);fill-opacity:1.0;opacity:1.0;stroke:none;stroke-width:1\" transform=\"translate(162.74360264072934, 746.3210702341138)\"><rect height=\"8\" width=\"8\" x=\"-4.0\" y=\"-4.0\"></rect><g><text style=\"fill:rgb(14.9%,14.9%,14.9%);fill-opacity:1.0;font-family:helvetica;font-size:9.0px;font-weight:normal;stroke:none;vertical-align:baseline;white-space:pre\" x=\"-1.2510000000000001\" y=\"2.2995\"> </text></g></g><g class=\"toyplot-Datum\" style=\"fill:rgb(40%,76.1%,64.7%);fill-opacity:1.0;opacity:1.0;stroke:none;stroke-width:1\" transform=\"translate(163.09842091941005, 725.418060200669)\"><rect height=\"8\" width=\"8\" x=\"-4.0\" y=\"-4.0\"></rect><g><text style=\"fill:rgb(14.9%,14.9%,14.9%);fill-opacity:1.0;font-family:helvetica;font-size:9.0px;font-weight:normal;stroke:none;vertical-align:baseline;white-space:pre\" x=\"-1.2510000000000001\" y=\"2.2995\"> </text></g></g><g class=\"toyplot-Datum\" style=\"fill:rgb(40%,76.1%,64.7%);fill-opacity:1.0;opacity:1.0;stroke:none;stroke-width:1\" transform=\"translate(163.2012601089254, 704.5150501672241)\"><rect height=\"8\" width=\"8\" x=\"-4.0\" y=\"-4.0\"></rect><g><text style=\"fill:rgb(14.9%,14.9%,14.9%);fill-opacity:1.0;font-family:helvetica;font-size:9.0px;font-weight:normal;stroke:none;vertical-align:baseline;white-space:pre\" x=\"-1.2510000000000001\" y=\"2.2995\"> </text></g></g><g class=\"toyplot-Datum\" style=\"fill:rgb(40%,76.1%,64.7%);fill-opacity:1.0;opacity:1.0;stroke:none;stroke-width:1\" transform=\"translate(161.7881894920105, 683.6120401337794)\"><rect height=\"8\" width=\"8\" x=\"-4.0\" y=\"-4.0\"></rect><g><text style=\"fill:rgb(14.9%,14.9%,14.9%);fill-opacity:1.0;font-family:helvetica;font-size:9.0px;font-weight:normal;stroke:none;vertical-align:baseline;white-space:pre\" x=\"-1.2510000000000001\" y=\"2.2995\"> </text></g></g><g class=\"toyplot-Datum\" style=\"fill:rgb(40%,76.1%,64.7%);fill-opacity:1.0;opacity:1.0;stroke:none;stroke-width:1\" transform=\"translate(161.6383697890993, 662.7090301003344)\"><rect height=\"8\" width=\"8\" x=\"-4.0\" y=\"-4.0\"></rect><g><text style=\"fill:rgb(14.9%,14.9%,14.9%);fill-opacity:1.0;font-family:helvetica;font-size:9.0px;font-weight:normal;stroke:none;vertical-align:baseline;white-space:pre\" x=\"-1.2510000000000001\" y=\"2.2995\"> </text></g></g><g class=\"toyplot-Datum\" style=\"fill:rgb(40%,76.1%,64.7%);fill-opacity:1.0;opacity:1.0;stroke:none;stroke-width:1\" transform=\"translate(161.21941133749937, 641.8060200668897)\"><rect height=\"8\" width=\"8\" x=\"-4.0\" y=\"-4.0\"></rect><g><text style=\"fill:rgb(14.9%,14.9%,14.9%);fill-opacity:1.0;font-family:helvetica;font-size:9.0px;font-weight:normal;stroke:none;vertical-align:baseline;white-space:pre\" x=\"-1.2510000000000001\" y=\"2.2995\"> </text></g></g><g class=\"toyplot-Datum\" style=\"fill:rgb(40%,76.1%,64.7%);fill-opacity:1.0;opacity:1.0;stroke:none;stroke-width:1\" transform=\"translate(161.7272413403942, 620.903010033445)\"><rect height=\"8\" width=\"8\" x=\"-4.0\" y=\"-4.0\"></rect><g><text style=\"fill:rgb(14.9%,14.9%,14.9%);fill-opacity:1.0;font-family:helvetica;font-size:9.0px;font-weight:normal;stroke:none;vertical-align:baseline;white-space:pre\" x=\"-1.2510000000000001\" y=\"2.2995\"> </text></g></g><g class=\"toyplot-Datum\" style=\"fill:rgb(40%,76.1%,64.7%);fill-opacity:1.0;opacity:1.0;stroke:none;stroke-width:1\" transform=\"translate(161.17749371827486, 600.0)\"><rect height=\"8\" width=\"8\" x=\"-4.0\" y=\"-4.0\"></rect><g><text style=\"fill:rgb(14.9%,14.9%,14.9%);fill-opacity:1.0;font-family:helvetica;font-size:9.0px;font-weight:normal;stroke:none;vertical-align:baseline;white-space:pre\" x=\"-1.2510000000000001\" y=\"2.2995\"> </text></g></g><g class=\"toyplot-Datum\" style=\"fill:rgb(40%,76.1%,64.7%);fill-opacity:1.0;opacity:1.0;stroke:none;stroke-width:1\" transform=\"translate(161.59389301034335, 579.0969899665553)\"><rect height=\"8\" width=\"8\" x=\"-4.0\" y=\"-4.0\"></rect><g><text style=\"fill:rgb(14.9%,14.9%,14.9%);fill-opacity:1.0;font-family:helvetica;font-size:9.0px;font-weight:normal;stroke:none;vertical-align:baseline;white-space:pre\" x=\"-1.2510000000000001\" y=\"2.2995\"> </text></g></g><g class=\"toyplot-Datum\" style=\"fill:rgb(40%,76.1%,64.7%);fill-opacity:1.0;opacity:1.0;stroke:none;stroke-width:1\" transform=\"translate(161.6058975893962, 558.1939799331104)\"><rect height=\"8\" width=\"8\" x=\"-4.0\" y=\"-4.0\"></rect><g><text style=\"fill:rgb(14.9%,14.9%,14.9%);fill-opacity:1.0;font-family:helvetica;font-size:9.0px;font-weight:normal;stroke:none;vertical-align:baseline;white-space:pre\" x=\"-1.2510000000000001\" y=\"2.2995\"> </text></g></g><g class=\"toyplot-Datum\" style=\"fill:rgb(40%,76.1%,64.7%);fill-opacity:1.0;opacity:1.0;stroke:none;stroke-width:1\" transform=\"translate(160.97509841572594, 537.2909698996657)\"><rect height=\"8\" width=\"8\" x=\"-4.0\" y=\"-4.0\"></rect><g><text style=\"fill:rgb(14.9%,14.9%,14.9%);fill-opacity:1.0;font-family:helvetica;font-size:9.0px;font-weight:normal;stroke:none;vertical-align:baseline;white-space:pre\" x=\"-1.2510000000000001\" y=\"2.2995\"> </text></g></g><g class=\"toyplot-Datum\" style=\"fill:rgb(40%,76.1%,64.7%);fill-opacity:1.0;opacity:1.0;stroke:none;stroke-width:1\" transform=\"translate(160.93319832886505, 516.3879598662207)\"><rect height=\"8\" width=\"8\" x=\"-4.0\" y=\"-4.0\"></rect><g><text style=\"fill:rgb(14.9%,14.9%,14.9%);fill-opacity:1.0;font-family:helvetica;font-size:9.0px;font-weight:normal;stroke:none;vertical-align:baseline;white-space:pre\" x=\"-1.2510000000000001\" y=\"2.2995\"> </text></g></g><g class=\"toyplot-Datum\" style=\"fill:rgb(40%,76.1%,64.7%);fill-opacity:1.0;opacity:1.0;stroke:none;stroke-width:1\" transform=\"translate(160.89129371752324, 495.484949832776)\"><rect height=\"8\" width=\"8\" x=\"-4.0\" y=\"-4.0\"></rect><g><text style=\"fill:rgb(14.9%,14.9%,14.9%);fill-opacity:1.0;font-family:helvetica;font-size:9.0px;font-weight:normal;stroke:none;vertical-align:baseline;white-space:pre\" x=\"-1.2510000000000001\" y=\"2.2995\"> </text></g></g><g class=\"toyplot-Datum\" style=\"fill:rgb(40%,76.1%,64.7%);fill-opacity:1.0;opacity:1.0;stroke:none;stroke-width:1\" transform=\"translate(160.89129371752324, 474.5819397993311)\"><rect height=\"8\" width=\"8\" x=\"-4.0\" y=\"-4.0\"></rect><g><text style=\"fill:rgb(14.9%,14.9%,14.9%);fill-opacity:1.0;font-family:helvetica;font-size:9.0px;font-weight:normal;stroke:none;vertical-align:baseline;white-space:pre\" x=\"-1.2510000000000001\" y=\"2.2995\"> </text></g></g><g class=\"toyplot-Datum\" style=\"fill:rgb(40%,76.1%,64.7%);fill-opacity:1.0;opacity:1.0;stroke:none;stroke-width:1\" transform=\"translate(158.31601685386735, 453.6789297658863)\"><rect height=\"8\" width=\"8\" x=\"-4.0\" y=\"-4.0\"></rect><g><text style=\"fill:rgb(14.9%,14.9%,14.9%);fill-opacity:1.0;font-family:helvetica;font-size:9.0px;font-weight:normal;stroke:none;vertical-align:baseline;white-space:pre\" x=\"-1.2510000000000001\" y=\"2.2995\"> </text></g></g><g class=\"toyplot-Datum\" style=\"fill:rgb(40%,76.1%,64.7%);fill-opacity:1.0;opacity:1.0;stroke:none;stroke-width:1\" transform=\"translate(158.31601685386735, 432.77591973244154)\"><rect height=\"8\" width=\"8\" x=\"-4.0\" y=\"-4.0\"></rect><g><text style=\"fill:rgb(14.9%,14.9%,14.9%);fill-opacity:1.0;font-family:helvetica;font-size:9.0px;font-weight:normal;stroke:none;vertical-align:baseline;white-space:pre\" x=\"-1.2510000000000001\" y=\"2.2995\"> </text></g></g><g class=\"toyplot-Datum\" style=\"fill:rgb(40%,76.1%,64.7%);fill-opacity:1.0;opacity:1.0;stroke:none;stroke-width:1\" transform=\"translate(158.2316777013537, 411.87290969899664)\"><rect height=\"8\" width=\"8\" x=\"-4.0\" y=\"-4.0\"></rect><g><text style=\"fill:rgb(14.9%,14.9%,14.9%);fill-opacity:1.0;font-family:helvetica;font-size:9.0px;font-weight:normal;stroke:none;vertical-align:baseline;white-space:pre\" x=\"-1.2510000000000001\" y=\"2.2995\"> </text></g></g><g class=\"toyplot-Datum\" style=\"fill:rgb(40%,76.1%,64.7%);fill-opacity:1.0;opacity:1.0;stroke:none;stroke-width:1\" transform=\"translate(158.14734703224178, 390.96989966555185)\"><rect height=\"8\" width=\"8\" x=\"-4.0\" y=\"-4.0\"></rect><g><text style=\"fill:rgb(14.9%,14.9%,14.9%);fill-opacity:1.0;font-family:helvetica;font-size:9.0px;font-weight:normal;stroke:none;vertical-align:baseline;white-space:pre\" x=\"-1.2510000000000001\" y=\"2.2995\"> </text></g></g><g class=\"toyplot-Datum\" style=\"fill:rgb(40%,76.1%,64.7%);fill-opacity:1.0;opacity:1.0;stroke:none;stroke-width:1\" transform=\"translate(158.1476388612624, 370.06688963210706)\"><rect height=\"8\" width=\"8\" x=\"-4.0\" y=\"-4.0\"></rect><g><text style=\"fill:rgb(14.9%,14.9%,14.9%);fill-opacity:1.0;font-family:helvetica;font-size:9.0px;font-weight:normal;stroke:none;vertical-align:baseline;white-space:pre\" x=\"-1.2510000000000001\" y=\"2.2995\"> </text></g></g><g class=\"toyplot-Datum\" style=\"fill:rgb(40%,76.1%,64.7%);fill-opacity:1.0;opacity:1.0;stroke:none;stroke-width:1\" transform=\"translate(158.5998058718383, 349.16387959866216)\"><rect height=\"8\" width=\"8\" x=\"-4.0\" y=\"-4.0\"></rect><g><text style=\"fill:rgb(14.9%,14.9%,14.9%);fill-opacity:1.0;font-family:helvetica;font-size:9.0px;font-weight:normal;stroke:none;vertical-align:baseline;white-space:pre\" x=\"-1.2510000000000001\" y=\"2.2995\"> </text></g></g><g class=\"toyplot-Datum\" style=\"fill:rgb(40%,76.1%,64.7%);fill-opacity:1.0;opacity:1.0;stroke:none;stroke-width:1\" transform=\"translate(158.6419717719544, 328.2608695652174)\"><rect height=\"8\" width=\"8\" x=\"-4.0\" y=\"-4.0\"></rect><g><text style=\"fill:rgb(14.9%,14.9%,14.9%);fill-opacity:1.0;font-family:helvetica;font-size:9.0px;font-weight:normal;stroke:none;vertical-align:baseline;white-space:pre\" x=\"-1.2510000000000001\" y=\"2.2995\"> </text></g></g><g class=\"toyplot-Datum\" style=\"fill:rgb(40%,76.1%,64.7%);fill-opacity:1.0;opacity:1.0;stroke:none;stroke-width:1\" transform=\"translate(158.55763714392168, 307.3578595317726)\"><rect height=\"8\" width=\"8\" x=\"-4.0\" y=\"-4.0\"></rect><g><text style=\"fill:rgb(14.9%,14.9%,14.9%);fill-opacity:1.0;font-family:helvetica;font-size:9.0px;font-weight:normal;stroke:none;vertical-align:baseline;white-space:pre\" x=\"-1.2510000000000001\" y=\"2.2995\"> </text></g></g><g class=\"toyplot-Datum\" style=\"fill:rgb(40%,76.1%,64.7%);fill-opacity:1.0;opacity:1.0;stroke:none;stroke-width:1\" transform=\"translate(156.69575385348736, 286.4548494983277)\"><rect height=\"8\" width=\"8\" x=\"-4.0\" y=\"-4.0\"></rect><g><text style=\"fill:rgb(14.9%,14.9%,14.9%);fill-opacity:1.0;font-family:helvetica;font-size:9.0px;font-weight:normal;stroke:none;vertical-align:baseline;white-space:pre\" x=\"-1.2510000000000001\" y=\"2.2995\"> </text></g></g><g class=\"toyplot-Datum\" style=\"fill:rgb(40%,76.1%,64.7%);fill-opacity:1.0;opacity:1.0;stroke:none;stroke-width:1\" transform=\"translate(156.69575441904752, 265.5518394648829)\"><rect height=\"8\" width=\"8\" x=\"-4.0\" y=\"-4.0\"></rect><g><text style=\"fill:rgb(14.9%,14.9%,14.9%);fill-opacity:1.0;font-family:helvetica;font-size:9.0px;font-weight:normal;stroke:none;vertical-align:baseline;white-space:pre\" x=\"-1.2510000000000001\" y=\"2.2995\"> </text></g></g><g class=\"toyplot-Datum\" style=\"fill:rgb(40%,76.1%,64.7%);fill-opacity:1.0;opacity:1.0;stroke:none;stroke-width:1\" transform=\"translate(156.65359247785227, 244.64882943143812)\"><rect height=\"8\" width=\"8\" x=\"-4.0\" y=\"-4.0\"></rect><g><text style=\"fill:rgb(14.9%,14.9%,14.9%);fill-opacity:1.0;font-family:helvetica;font-size:9.0px;font-weight:normal;stroke:none;vertical-align:baseline;white-space:pre\" x=\"-1.2510000000000001\" y=\"2.2995\"> </text></g></g><g class=\"toyplot-Datum\" style=\"fill:rgb(40%,76.1%,64.7%);fill-opacity:1.0;opacity:1.0;stroke:none;stroke-width:1\" transform=\"translate(156.78008282591892, 223.74581939799322)\"><rect height=\"8\" width=\"8\" x=\"-4.0\" y=\"-4.0\"></rect><g><text style=\"fill:rgb(14.9%,14.9%,14.9%);fill-opacity:1.0;font-family:helvetica;font-size:9.0px;font-weight:normal;stroke:none;vertical-align:baseline;white-space:pre\" x=\"-1.2510000000000001\" y=\"2.2995\"> </text></g></g><g class=\"toyplot-Datum\" style=\"fill:rgb(40%,76.1%,64.7%);fill-opacity:1.0;opacity:1.0;stroke:none;stroke-width:1\" transform=\"translate(160.84178571596254, 202.84280936454843)\"><rect height=\"8\" width=\"8\" x=\"-4.0\" y=\"-4.0\"></rect><g><text style=\"fill:rgb(14.9%,14.9%,14.9%);fill-opacity:1.0;font-family:helvetica;font-size:9.0px;font-weight:normal;stroke:none;vertical-align:baseline;white-space:pre\" x=\"-1.2510000000000001\" y=\"2.2995\"> </text></g></g><g class=\"toyplot-Datum\" style=\"fill:rgb(40%,76.1%,64.7%);fill-opacity:1.0;opacity:1.0;stroke:none;stroke-width:1\" transform=\"translate(160.84178571596254, 181.93979933110367)\"><rect height=\"8\" width=\"8\" x=\"-4.0\" y=\"-4.0\"></rect><g><text style=\"fill:rgb(14.9%,14.9%,14.9%);fill-opacity:1.0;font-family:helvetica;font-size:9.0px;font-weight:normal;stroke:none;vertical-align:baseline;white-space:pre\" x=\"-1.2510000000000001\" y=\"2.2995\"> </text></g></g><g class=\"toyplot-Datum\" style=\"fill:rgb(40%,76.1%,64.7%);fill-opacity:1.0;opacity:1.0;stroke:none;stroke-width:1\" transform=\"translate(160.84178571596254, 161.03678929765877)\"><rect height=\"8\" width=\"8\" x=\"-4.0\" y=\"-4.0\"></rect><g><text style=\"fill:rgb(14.9%,14.9%,14.9%);fill-opacity:1.0;font-family:helvetica;font-size:9.0px;font-weight:normal;stroke:none;vertical-align:baseline;white-space:pre\" x=\"-1.2510000000000001\" y=\"2.2995\"> </text></g></g><g class=\"toyplot-Datum\" style=\"fill:rgb(40%,76.1%,64.7%);fill-opacity:1.0;opacity:1.0;stroke:none;stroke-width:1\" transform=\"translate(160.8448906410073, 140.13377926421398)\"><rect height=\"8\" width=\"8\" x=\"-4.0\" y=\"-4.0\"></rect><g><text style=\"fill:rgb(14.9%,14.9%,14.9%);fill-opacity:1.0;font-family:helvetica;font-size:9.0px;font-weight:normal;stroke:none;vertical-align:baseline;white-space:pre\" x=\"-1.2510000000000001\" y=\"2.2995\"> </text></g></g><g class=\"toyplot-Datum\" style=\"fill:rgb(40%,76.1%,64.7%);fill-opacity:1.0;opacity:1.0;stroke:none;stroke-width:1\" transform=\"translate(158.8105714641254, 119.23076923076921)\"><rect height=\"8\" width=\"8\" x=\"-4.0\" y=\"-4.0\"></rect><g><text style=\"fill:rgb(14.9%,14.9%,14.9%);fill-opacity:1.0;font-family:helvetica;font-size:9.0px;font-weight:normal;stroke:none;vertical-align:baseline;white-space:pre\" x=\"-1.2510000000000001\" y=\"2.2995\"> </text></g></g><g class=\"toyplot-Datum\" style=\"fill:rgb(40%,76.1%,64.7%);fill-opacity:1.0;opacity:1.0;stroke:none;stroke-width:1\" transform=\"translate(158.93721225118333, 98.32775919732443)\"><rect height=\"8\" width=\"8\" x=\"-4.0\" y=\"-4.0\"></rect><g><text style=\"fill:rgb(14.9%,14.9%,14.9%);fill-opacity:1.0;font-family:helvetica;font-size:9.0px;font-weight:normal;stroke:none;vertical-align:baseline;white-space:pre\" x=\"-1.2510000000000001\" y=\"2.2995\"> </text></g></g><g class=\"toyplot-Datum\" style=\"fill:rgb(40%,76.1%,64.7%);fill-opacity:1.0;opacity:1.0;stroke:none;stroke-width:1\" transform=\"translate(158.76915153780425, 77.42474916387953)\"><rect height=\"8\" width=\"8\" x=\"-4.0\" y=\"-4.0\"></rect><g><text style=\"fill:rgb(14.9%,14.9%,14.9%);fill-opacity:1.0;font-family:helvetica;font-size:9.0px;font-weight:normal;stroke:none;vertical-align:baseline;white-space:pre\" x=\"-1.2510000000000001\" y=\"2.2995\"> </text></g></g><g class=\"toyplot-Datum\" style=\"fill:rgb(40%,76.1%,64.7%);fill-opacity:1.0;opacity:1.0;stroke:none;stroke-width:1\" transform=\"translate(90.14396868522141, 56.521739130434746)\"><rect height=\"8\" width=\"8\" x=\"-4.0\" y=\"-4.0\"></rect><g><text style=\"fill:rgb(14.9%,14.9%,14.9%);fill-opacity:1.0;font-family:helvetica;font-size:9.0px;font-weight:normal;stroke:none;vertical-align:baseline;white-space:pre\" x=\"-1.2510000000000001\" y=\"2.2995\"> </text></g></g></g></g></g><g class=\"toyplot-coordinates-Axis\" id=\"t1f04ab8d71ba4eea85fa53abf7283d90\" transform=\"translate(50.0,1150.0)translate(0,20.0)\"><line style=\"\" x1=\"0\" x2=\"115.87301587301587\" y1=\"0\" y2=\"0\"></line><g><line style=\"\" x1=\"115.87301587301587\" x2=\"115.87301587301587\" y1=\"0\" y2=\"-5\"></line><line style=\"\" x1=\"77.24867724867724\" x2=\"77.24867724867724\" y1=\"0\" y2=\"-5\"></line><line style=\"\" x1=\"38.62433862433862\" x2=\"38.62433862433862\" y1=\"0\" y2=\"-5\"></line><line style=\"\" x1=\"0.0\" x2=\"0.0\" y1=\"0\" y2=\"-5\"></line></g><g><g transform=\"translate(115.87301587301587,6)\"><text style=\"fill:rgb(16.1%,15.3%,14.1%);fill-opacity:1.0;font-family:helvetica;font-size:10.0px;font-weight:normal;stroke:none;vertical-align:baseline;white-space:pre\" x=\"-9.729999999999999\" y=\"8.555\">0.00</text></g><g transform=\"translate(77.24867724867724,6)\"><text style=\"fill:rgb(16.1%,15.3%,14.1%);fill-opacity:1.0;font-family:helvetica;font-size:10.0px;font-weight:normal;stroke:none;vertical-align:baseline;white-space:pre\" x=\"-9.729999999999999\" y=\"8.555\">0.07</text></g><g transform=\"translate(38.62433862433862,6)\"><text style=\"fill:rgb(16.1%,15.3%,14.1%);fill-opacity:1.0;font-family:helvetica;font-size:10.0px;font-weight:normal;stroke:none;vertical-align:baseline;white-space:pre\" x=\"-9.729999999999999\" y=\"8.555\">0.14</text></g><g transform=\"translate(0.0,6)\"><text style=\"fill:rgb(16.1%,15.3%,14.1%);fill-opacity:1.0;font-family:helvetica;font-size:10.0px;font-weight:normal;stroke:none;vertical-align:baseline;white-space:pre\" x=\"-9.729999999999999\" y=\"8.555\">0.20</text></g></g><g class=\"toyplot-coordinates-Axis-coordinates\" style=\"visibility:hidden\" transform=\"\"><line style=\"stroke:rgb(43.9%,50.2%,56.5%);stroke-opacity:1.0;stroke-width:1.0\" x1=\"0\" x2=\"0\" y1=\"-3.0\" y2=\"4.5\"></line><text style=\"alignment-baseline:alphabetic;fill:rgb(43.9%,50.2%,56.5%);fill-opacity:1.0;font-size:10px;font-weight:normal;stroke:none;text-anchor:middle\" x=\"0\" y=\"-6\"></text></g></g></g></svg><div class=\"toyplot-behavior\"><script>(function()\n",
       "{\n",
       "var modules={};\n",
       "modules[\"toyplot/tables\"] = (function()\n",
       "    {\n",
       "        var tables = [];\n",
       "\n",
       "        var module = {};\n",
       "\n",
       "        module.set = function(owner, key, names, columns)\n",
       "        {\n",
       "            tables.push({owner: owner, key: key, names: names, columns: columns});\n",
       "        }\n",
       "\n",
       "        module.get = function(owner, key)\n",
       "        {\n",
       "            for(var i = 0; i != tables.length; ++i)\n",
       "            {\n",
       "                var table = tables[i];\n",
       "                if(table.owner != owner)\n",
       "                    continue;\n",
       "                if(table.key != key)\n",
       "                    continue;\n",
       "                return {names: table.names, columns: table.columns};\n",
       "            }\n",
       "        }\n",
       "\n",
       "        module.get_csv = function(owner, key)\n",
       "        {\n",
       "            var table = module.get(owner, key);\n",
       "            if(table != undefined)\n",
       "            {\n",
       "                var csv = \"\";\n",
       "                csv += table.names.join(\",\") + \"\\n\";\n",
       "                for(var i = 0; i != table.columns[0].length; ++i)\n",
       "                {\n",
       "                  for(var j = 0; j != table.columns.length; ++j)\n",
       "                  {\n",
       "                    if(j)\n",
       "                      csv += \",\";\n",
       "                    csv += table.columns[j][i];\n",
       "                  }\n",
       "                  csv += \"\\n\";\n",
       "                }\n",
       "                return csv;\n",
       "            }\n",
       "        }\n",
       "\n",
       "        return module;\n",
       "    })();\n",
       "modules[\"toyplot/root/id\"] = \"tc56f9116c27e4e8f808fc3d984e237de\";\n",
       "modules[\"toyplot/root\"] = (function(root_id)\n",
       "    {\n",
       "        return document.querySelector(\"#\" + root_id);\n",
       "    })(modules[\"toyplot/root/id\"]);\n",
       "modules[\"toyplot/canvas/id\"] = \"td2db19eddb794fa0a0261ad4e0a8c66f\";\n",
       "modules[\"toyplot/canvas\"] = (function(canvas_id)\n",
       "    {\n",
       "        return document.querySelector(\"#\" + canvas_id);\n",
       "    })(modules[\"toyplot/canvas/id\"]);\n",
       "modules[\"toyplot/menus/context\"] = (function(root, canvas)\n",
       "    {\n",
       "        var wrapper = document.createElement(\"div\");\n",
       "        wrapper.innerHTML = \"<ul class='toyplot-context-menu' style='background:#eee; border:1px solid #b8b8b8; border-radius:5px; box-shadow: 0px 0px 8px rgba(0%,0%,0%,0.25); margin:0; padding:3px 0; position:fixed; visibility:hidden;'></ul>\"\n",
       "        var menu = wrapper.firstChild;\n",
       "\n",
       "        root.appendChild(menu);\n",
       "\n",
       "        var items = [];\n",
       "\n",
       "        var ignore_mouseup = null;\n",
       "        function open_menu(e)\n",
       "        {\n",
       "            var show_menu = false;\n",
       "            for(var index=0; index != items.length; ++index)\n",
       "            {\n",
       "                var item = items[index];\n",
       "                if(item.show(e))\n",
       "                {\n",
       "                    item.item.style.display = \"block\";\n",
       "                    show_menu = true;\n",
       "                }\n",
       "                else\n",
       "                {\n",
       "                    item.item.style.display = \"none\";\n",
       "                }\n",
       "            }\n",
       "\n",
       "            if(show_menu)\n",
       "            {\n",
       "                ignore_mouseup = true;\n",
       "                menu.style.left = (e.clientX + 1) + \"px\";\n",
       "                menu.style.top = (e.clientY - 5) + \"px\";\n",
       "                menu.style.visibility = \"visible\";\n",
       "                e.stopPropagation();\n",
       "                e.preventDefault();\n",
       "            }\n",
       "        }\n",
       "\n",
       "        function close_menu()\n",
       "        {\n",
       "            menu.style.visibility = \"hidden\";\n",
       "        }\n",
       "\n",
       "        function contextmenu(e)\n",
       "        {\n",
       "            open_menu(e);\n",
       "        }\n",
       "\n",
       "        function mousemove(e)\n",
       "        {\n",
       "            ignore_mouseup = false;\n",
       "        }\n",
       "\n",
       "        function mouseup(e)\n",
       "        {\n",
       "            if(ignore_mouseup)\n",
       "            {\n",
       "                ignore_mouseup = false;\n",
       "                return;\n",
       "            }\n",
       "            close_menu();\n",
       "        }\n",
       "\n",
       "        function keydown(e)\n",
       "        {\n",
       "            if(e.key == \"Escape\" || e.key == \"Esc\" || e.keyCode == 27)\n",
       "            {\n",
       "                close_menu();\n",
       "            }\n",
       "        }\n",
       "\n",
       "        canvas.addEventListener(\"contextmenu\", contextmenu);\n",
       "        canvas.addEventListener(\"mousemove\", mousemove);\n",
       "        document.addEventListener(\"mouseup\", mouseup);\n",
       "        document.addEventListener(\"keydown\", keydown);\n",
       "\n",
       "        var module = {};\n",
       "        module.add_item = function(label, show, activate)\n",
       "        {\n",
       "            var wrapper = document.createElement(\"div\");\n",
       "            wrapper.innerHTML = \"<li class='toyplot-context-menu-item' style='background:#eee; color:#333; padding:2px 20px; list-style:none; margin:0; text-align:left;'>\" + label + \"</li>\"\n",
       "            var item = wrapper.firstChild;\n",
       "\n",
       "            items.push({item: item, show: show});\n",
       "\n",
       "            function mouseover()\n",
       "            {\n",
       "                this.style.background = \"steelblue\";\n",
       "                this.style.color = \"white\";\n",
       "            }\n",
       "\n",
       "            function mouseout()\n",
       "            {\n",
       "                this.style.background = \"#eee\";\n",
       "                this.style.color = \"#333\";\n",
       "            }\n",
       "\n",
       "            function choose_item(e)\n",
       "            {\n",
       "                close_menu();\n",
       "                activate();\n",
       "\n",
       "                e.stopPropagation();\n",
       "                e.preventDefault();\n",
       "            }\n",
       "\n",
       "            item.addEventListener(\"mouseover\", mouseover);\n",
       "            item.addEventListener(\"mouseout\", mouseout);\n",
       "            item.addEventListener(\"mouseup\", choose_item);\n",
       "            item.addEventListener(\"contextmenu\", choose_item);\n",
       "\n",
       "            menu.appendChild(item);\n",
       "        };\n",
       "        return module;\n",
       "    })(modules[\"toyplot/root\"],modules[\"toyplot/canvas\"]);\n",
       "modules[\"toyplot/io\"] = (function()\n",
       "    {\n",
       "        var module = {};\n",
       "        module.save_file = function(mime_type, charset, data, filename)\n",
       "        {\n",
       "            var uri = \"data:\" + mime_type + \";charset=\" + charset + \",\" + data;\n",
       "            uri = encodeURI(uri);\n",
       "\n",
       "            var link = document.createElement(\"a\");\n",
       "            if(typeof link.download != \"undefined\")\n",
       "            {\n",
       "              link.href = uri;\n",
       "              link.style = \"visibility:hidden\";\n",
       "              link.download = filename;\n",
       "\n",
       "              document.body.appendChild(link);\n",
       "              link.click();\n",
       "              document.body.removeChild(link);\n",
       "            }\n",
       "            else\n",
       "            {\n",
       "              window.open(uri);\n",
       "            }\n",
       "        };\n",
       "        return module;\n",
       "    })();\n",
       "modules[\"toyplot.coordinates.Axis\"] = (\n",
       "        function(canvas)\n",
       "        {\n",
       "            function sign(x)\n",
       "            {\n",
       "                return x < 0 ? -1 : x > 0 ? 1 : 0;\n",
       "            }\n",
       "\n",
       "            function mix(a, b, amount)\n",
       "            {\n",
       "                return ((1.0 - amount) * a) + (amount * b);\n",
       "            }\n",
       "\n",
       "            function log(x, base)\n",
       "            {\n",
       "                return Math.log(Math.abs(x)) / Math.log(base);\n",
       "            }\n",
       "\n",
       "            function in_range(a, x, b)\n",
       "            {\n",
       "                var left = Math.min(a, b);\n",
       "                var right = Math.max(a, b);\n",
       "                return left <= x && x <= right;\n",
       "            }\n",
       "\n",
       "            function inside(range, projection)\n",
       "            {\n",
       "                for(var i = 0; i != projection.length; ++i)\n",
       "                {\n",
       "                    var segment = projection[i];\n",
       "                    if(in_range(segment.range.min, range, segment.range.max))\n",
       "                        return true;\n",
       "                }\n",
       "                return false;\n",
       "            }\n",
       "\n",
       "            function to_domain(range, projection)\n",
       "            {\n",
       "                for(var i = 0; i != projection.length; ++i)\n",
       "                {\n",
       "                    var segment = projection[i];\n",
       "                    if(in_range(segment.range.bounds.min, range, segment.range.bounds.max))\n",
       "                    {\n",
       "                        if(segment.scale == \"linear\")\n",
       "                        {\n",
       "                            var amount = (range - segment.range.min) / (segment.range.max - segment.range.min);\n",
       "                            return mix(segment.domain.min, segment.domain.max, amount)\n",
       "                        }\n",
       "                        else if(segment.scale[0] == \"log\")\n",
       "                        {\n",
       "                            var amount = (range - segment.range.min) / (segment.range.max - segment.range.min);\n",
       "                            var base = segment.scale[1];\n",
       "                            return sign(segment.domain.min) * Math.pow(base, mix(log(segment.domain.min, base), log(segment.domain.max, base), amount));\n",
       "                        }\n",
       "                    }\n",
       "                }\n",
       "            }\n",
       "\n",
       "            var axes = {};\n",
       "\n",
       "            function display_coordinates(e)\n",
       "            {\n",
       "                var current = canvas.createSVGPoint();\n",
       "                current.x = e.clientX;\n",
       "                current.y = e.clientY;\n",
       "\n",
       "                for(var axis_id in axes)\n",
       "                {\n",
       "                    var axis = document.querySelector(\"#\" + axis_id);\n",
       "                    var coordinates = axis.querySelector(\".toyplot-coordinates-Axis-coordinates\");\n",
       "                    if(coordinates)\n",
       "                    {\n",
       "                        var projection = axes[axis_id];\n",
       "                        var local = current.matrixTransform(axis.getScreenCTM().inverse());\n",
       "                        if(inside(local.x, projection))\n",
       "                        {\n",
       "                            var domain = to_domain(local.x, projection);\n",
       "                            coordinates.style.visibility = \"visible\";\n",
       "                            coordinates.setAttribute(\"transform\", \"translate(\" + local.x + \")\");\n",
       "                            var text = coordinates.querySelector(\"text\");\n",
       "                            text.textContent = domain.toFixed(2);\n",
       "                        }\n",
       "                        else\n",
       "                        {\n",
       "                            coordinates.style.visibility= \"hidden\";\n",
       "                        }\n",
       "                    }\n",
       "                }\n",
       "            }\n",
       "\n",
       "            canvas.addEventListener(\"click\", display_coordinates);\n",
       "\n",
       "            var module = {};\n",
       "            module.show_coordinates = function(axis_id, projection)\n",
       "            {\n",
       "                axes[axis_id] = projection;\n",
       "            }\n",
       "\n",
       "            return module;\n",
       "        })(modules[\"toyplot/canvas\"]);\n",
       "(function(tables, context_menu, io, owner_id, key, label, names, columns, filename)\n",
       "        {\n",
       "            tables.set(owner_id, key, names, columns);\n",
       "\n",
       "            var owner = document.querySelector(\"#\" + owner_id);\n",
       "            function show_item(e)\n",
       "            {\n",
       "                return owner.contains(e.target);\n",
       "            }\n",
       "\n",
       "            function choose_item()\n",
       "            {\n",
       "                io.save_file(\"text/csv\", \"utf-8\", tables.get_csv(owner_id, key), filename + \".csv\");\n",
       "            }\n",
       "\n",
       "            context_menu.add_item(\"Save \" + label + \" as CSV\", show_item, choose_item);\n",
       "        })(modules[\"toyplot/tables\"],modules[\"toyplot/menus/context\"],modules[\"toyplot/io\"],\"t05d8df66eee042d6906bbb364d4e8c13\",\"vertex_data\",\"graph vertex data\",[\"x\", \"y\"],[[-0.0015547880000000014, -0.0020357769999999886, -0.0011811300000000025, -0.0019090410000000002, -0.0, -0.0009910810000000048, -0.0009211500000000095, -0.0011059350000000023, -0.0015636649999999919, -0.0029027390000000153, -0.0030784340000000188, -0.003224336999999994, -0.0030166950000000137, -0.003843289999999999, -0.001895363000000011, -0.0021450030000000064, -0.002419272, -0.0037297619999999976, -0.005554424000000002, -0.005533299000000019, -0.004905924000000006, -0.004724088000000015, -0.007222621000000012, -0.007487526000000022, -0.008228311000000016, -0.007330386999999994, -0.008302428, -0.007566168000000012, -0.007544941999999999, -0.008660295000000012, -0.008734381000000013, -0.00880847500000001, -0.00880847500000001, -0.013361973, -0.013361973, -0.013511098, -0.013660208000000007, -0.013659692000000001, -0.012860189000000022, -0.012785633000000018, -0.012934749999999995, -0.016226855000000012, -0.016226854000000013, -0.016301402999999992, -0.016077748000000003, -0.008896013000000008, -0.008896013000000008, -0.008896013000000008, -0.008890523000000011, -0.012487522000000029, -0.012263601000000013, -0.012560759000000005, -0.133900968, 0.0, 0.0, 0.0, 0.0, 0.0, 0.0, 0.0, 0.0, 0.0, 0.0, 0.0, 0.0, 0.0, 0.0, 0.0, 0.0, 0.0, 0.0, 0.0, 0.0, 0.0, 0.0, 0.0, 0.0, 0.0, 0.0, 0.0, 0.0, 0.0, 0.0, 0.0, 0.0, 0.0, 0.0, 0.0, 0.0, 0.0, 0.0, 0.0, 0.0, 0.0, 0.0, 0.0, 0.0, 0.0, 0.0, 0.0, 0.0, 0.0, 0.0, 0.0, 0.0, 0.0], [0.0, 1.0, 2.0, 3.0, 4.0, 5.0, 6.0, 7.0, 8.0, 9.0, 10.0, 11.0, 12.0, 13.0, 14.0, 15.0, 16.0, 17.0, 18.0, 19.0, 20.0, 21.0, 22.0, 23.0, 24.0, 25.0, 26.0, 27.0, 28.0, 29.0, 30.0, 31.0, 32.0, 33.0, 34.0, 35.0, 36.0, 37.0, 38.0, 39.0, 40.0, 41.0, 42.0, 43.0, 44.0, 45.0, 46.0, 47.0, 48.0, 49.0, 50.0, 51.0, 52.0, 0.0, 1.0, 2.0, 3.0, 4.0, 5.0, 6.0, 7.0, 8.0, 9.0, 10.0, 11.0, 12.0, 13.0, 14.0, 15.0, 16.0, 17.0, 18.0, 19.0, 20.0, 21.0, 22.0, 23.0, 24.0, 25.0, 26.0, 27.0, 28.0, 29.0, 30.0, 31.0, 32.0, 33.0, 34.0, 35.0, 36.0, 37.0, 38.0, 39.0, 40.0, 41.0, 42.0, 43.0, 44.0, 45.0, 46.0, 47.0, 48.0, 49.0, 50.0, 51.0, 52.0]],\"toyplot\");\n",
       "(function(tables, context_menu, io, owner_id, key, label, names, columns, filename)\n",
       "        {\n",
       "            tables.set(owner_id, key, names, columns);\n",
       "\n",
       "            var owner = document.querySelector(\"#\" + owner_id);\n",
       "            function show_item(e)\n",
       "            {\n",
       "                return owner.contains(e.target);\n",
       "            }\n",
       "\n",
       "            function choose_item()\n",
       "            {\n",
       "                io.save_file(\"text/csv\", \"utf-8\", tables.get_csv(owner_id, key), filename + \".csv\");\n",
       "            }\n",
       "\n",
       "            context_menu.add_item(\"Save \" + label + \" as CSV\", show_item, choose_item);\n",
       "        })(modules[\"toyplot/tables\"],modules[\"toyplot/menus/context\"],modules[\"toyplot/io\"],\"t05d8df66eee042d6906bbb364d4e8c13\",\"edge_data\",\"graph edge data\",[\"source\", \"target\"],[[53, 54, 55, 56, 57, 58, 59, 60, 61, 62, 63, 64, 65, 66, 67, 68, 69, 70, 71, 72, 73, 74, 75, 76, 77, 78, 79, 80, 81, 82, 83, 84, 85, 86, 87, 88, 89, 90, 91, 92, 93, 94, 95, 96, 97, 98, 99, 100, 101, 102, 103, 104, 105], [0, 1, 2, 3, 4, 5, 6, 7, 8, 9, 10, 11, 12, 13, 14, 15, 16, 17, 18, 19, 20, 21, 22, 23, 24, 25, 26, 27, 28, 29, 30, 31, 32, 33, 34, 35, 36, 37, 38, 39, 40, 41, 42, 43, 44, 45, 46, 47, 48, 49, 50, 51, 52]],\"toyplot\");\n",
       "(function(tables, context_menu, io, owner_id, key, label, names, columns, filename)\n",
       "        {\n",
       "            tables.set(owner_id, key, names, columns);\n",
       "\n",
       "            var owner = document.querySelector(\"#\" + owner_id);\n",
       "            function show_item(e)\n",
       "            {\n",
       "                return owner.contains(e.target);\n",
       "            }\n",
       "\n",
       "            function choose_item()\n",
       "            {\n",
       "                io.save_file(\"text/csv\", \"utf-8\", tables.get_csv(owner_id, key), filename + \".csv\");\n",
       "            }\n",
       "\n",
       "            context_menu.add_item(\"Save \" + label + \" as CSV\", show_item, choose_item);\n",
       "        })(modules[\"toyplot/tables\"],modules[\"toyplot/menus/context\"],modules[\"toyplot/io\"],\"t0535dbdd22ca440ea83f953e0a8a7d11\",\"vertex_data\",\"graph vertex data\",[\"x\", \"y\"],[[-0.0015547880000000014, -0.0020357769999999886, -0.0011811300000000025, -0.0019090410000000002, -0.0, -0.0009910810000000048, -0.0009211500000000095, -0.0011059350000000023, -0.0015636649999999919, -0.0029027390000000153, -0.0030784340000000188, -0.003224336999999994, -0.0030166950000000137, -0.003843289999999999, -0.001895363000000011, -0.0021450030000000064, -0.002419272, -0.0037297619999999976, -0.005554424000000002, -0.005533299000000019, -0.004905924000000006, -0.004724088000000015, -0.007222621000000012, -0.007487526000000022, -0.008228311000000016, -0.007330386999999994, -0.008302428, -0.007566168000000012, -0.007544941999999999, -0.008660295000000012, -0.008734381000000013, -0.00880847500000001, -0.00880847500000001, -0.013361973, -0.013361973, -0.013511098, -0.013660208000000007, -0.013659692000000001, -0.012860189000000022, -0.012785633000000018, -0.012934749999999995, -0.016226855000000012, -0.016226854000000013, -0.016301402999999992, -0.016077748000000003, -0.008896013000000008, -0.008896013000000008, -0.008896013000000008, -0.008890523000000011, -0.012487522000000029, -0.012263601000000013, -0.012560759000000005, -0.133900968, -0.0023794210000000204, -0.001609396000000013, -0.0039533530000000205, -0.0028535480000000113, -0.0038526269999999974, -0.001981380000000005, -0.004158729999999999, -0.013361977999999997, -0.004113449000000019, -0.0037461710000000203, -0.004322987, -0.004192741999999999, -0.008228316000000013, -0.013511103000000024, -0.008544679, -0.004701182999999998, -0.007438114999999995, -0.005889015999999997, -0.0057142020000000016, -0.008302432999999998, -0.013660213000000004, -0.012860193999999991, -0.01622686000000001, -0.008896013000000008, -0.01527347100000001, -0.008335470000000011, -0.012240102000000003, -0.008376257999999998, -0.009406378999999992, -0.00873438600000001, -0.00880847500000001, -0.01373448100000002, -0.01293475500000002, -0.016301408000000017, -0.008896018000000006, -0.012487526999999998, -0.027750049, -0.01924313800000002, -0.013209691999999995, -0.008808480000000007, -0.022296148000000016, -0.016301413000000015, -0.009192040000000012, -0.012636063000000003, -0.064632682, -0.028967869000000007, -0.02474622800000001, -0.03702123600000001, -0.085804401, -0.051440087999999995, -0.133900968, -0.2048818725, -0.2048818725, -0.2048818725, -0.133900968, -0.133900968, -0.051440087999999995, -0.051440087999999995, -0.085804401, -0.085804401, -0.03702123600000001, -0.03702123600000001, -0.02474622800000001, -0.02474622800000001, -0.028967869000000007, -0.028967869000000007, -0.064632682, -0.064632682, -0.012636063000000003, -0.012636063000000003, -0.009192040000000012, -0.009192040000000012, -0.016301413000000015, -0.016301413000000015, -0.022296148000000016, -0.022296148000000016, -0.008808480000000007, -0.008808480000000007, -0.013209691999999995, -0.013209691999999995, -0.01924313800000002, -0.01924313800000002, -0.027750049, -0.027750049, -0.012487526999999998, -0.012487526999999998, -0.008896018000000006, -0.008896018000000006, -0.016301408000000017, -0.016301408000000017, -0.01293475500000002, -0.01293475500000002, -0.01373448100000002, -0.01373448100000002, -0.00880847500000001, -0.00880847500000001, -0.00873438600000001, -0.00873438600000001, -0.009406378999999992, -0.009406378999999992, -0.008376257999999998, -0.008376257999999998, -0.012240102000000003, -0.012240102000000003, -0.008335470000000011, -0.008335470000000011, -0.01527347100000001, -0.01527347100000001, -0.008896013000000008, -0.008896013000000008, -0.01622686000000001, -0.01622686000000001, -0.012860193999999991, -0.012860193999999991, -0.013660213000000004, -0.013660213000000004, -0.008302432999999998, -0.008302432999999998, -0.0057142020000000016, -0.0057142020000000016, -0.005889015999999997, -0.005889015999999997, -0.007438114999999995, -0.007438114999999995, -0.004701182999999998, -0.004701182999999998, -0.008544679, -0.008544679, -0.013511103000000024, -0.013511103000000024, -0.008228316000000013, -0.008228316000000013, -0.004192741999999999, -0.004192741999999999, -0.004322987, -0.004322987, -0.0037461710000000203, -0.0037461710000000203, -0.004113449000000019, -0.004113449000000019, -0.013361977999999997, -0.013361977999999997, -0.004158729999999999, -0.004158729999999999, -0.001981380000000005, -0.001981380000000005, -0.0038526269999999974, -0.0038526269999999974, -0.0028535480000000113, -0.0028535480000000113, -0.0039533530000000205, -0.0039533530000000205, -0.001609396000000013, -0.001609396000000013, -0.0023794210000000204, -0.0023794210000000204], [0.0, 1.0, 2.0, 3.0, 4.0, 5.0, 6.0, 7.0, 8.0, 9.0, 10.0, 11.0, 12.0, 13.0, 14.0, 15.0, 16.0, 17.0, 18.0, 19.0, 20.0, 21.0, 22.0, 23.0, 24.0, 25.0, 26.0, 27.0, 28.0, 29.0, 30.0, 31.0, 32.0, 33.0, 34.0, 35.0, 36.0, 37.0, 38.0, 39.0, 40.0, 41.0, 42.0, 43.0, 44.0, 45.0, 46.0, 47.0, 48.0, 49.0, 50.0, 51.0, 52.0, 0.5, 5.5, 9.5, 1.25, 3.5, 6.25, 10.25, 33.5, 2.375, 7.125, 11.125, 14.5, 24.5, 34.25, 4.75, 12.0625, 15.25, 18.5, 20.5, 25.25, 35.125, 38.5, 41.5, 45.5, 8.40625, 16.125, 19.5, 22.5, 26.125, 29.5, 31.5, 36.0625, 39.25, 42.25, 46.25, 49.5, 12.265625, 21.0, 27.0625, 30.5, 37.65625, 43.125, 47.125, 50.25, 16.6328125, 28.78125, 40.390625, 48.6875, 22.70703125, 44.5390625, 33.623046875, 42.8115234375, 52.0, 33.623046875, 44.5390625, 22.70703125, 48.6875, 40.390625, 28.78125, 16.6328125, 50.25, 47.125, 43.125, 37.65625, 30.5, 27.0625, 21.0, 12.265625, 51.0, 49.5, 48.0, 46.25, 44.0, 42.25, 39.25, 36.0625, 31.5, 29.5, 28.0, 26.125, 22.5, 19.5, 16.125, 8.40625, 50.0, 49.0, 47.0, 45.5, 43.0, 41.5, 40.0, 38.5, 37.0, 35.125, 32.0, 31.0, 30.0, 29.0, 27.0, 25.25, 23.0, 22.0, 20.5, 18.5, 17.0, 15.25, 12.0625, 4.75, 46.0, 45.0, 42.0, 41.0, 39.0, 38.0, 36.0, 34.25, 26.0, 24.5, 21.0, 20.0, 19.0, 18.0, 16.0, 14.5, 13.0, 11.125, 7.125, 2.375, 35.0, 33.5, 25.0, 24.0, 15.0, 14.0, 12.0, 10.25, 8.0, 6.25, 3.5, 1.25, 34.0, 33.0, 11.0, 9.5, 7.0, 5.5, 4.0, 3.0, 2.0, 0.5, 10.0, 9.0, 6.0, 5.0, 1.0, 0.0]],\"toyplot\");\n",
       "(function(tables, context_menu, io, owner_id, key, label, names, columns, filename)\n",
       "        {\n",
       "            tables.set(owner_id, key, names, columns);\n",
       "\n",
       "            var owner = document.querySelector(\"#\" + owner_id);\n",
       "            function show_item(e)\n",
       "            {\n",
       "                return owner.contains(e.target);\n",
       "            }\n",
       "\n",
       "            function choose_item()\n",
       "            {\n",
       "                io.save_file(\"text/csv\", \"utf-8\", tables.get_csv(owner_id, key), filename + \".csv\");\n",
       "            }\n",
       "\n",
       "            context_menu.add_item(\"Save \" + label + \" as CSV\", show_item, choose_item);\n",
       "        })(modules[\"toyplot/tables\"],modules[\"toyplot/menus/context\"],modules[\"toyplot/io\"],\"t0535dbdd22ca440ea83f953e0a8a7d11\",\"edge_data\",\"graph edge data\",[\"source\", \"target\"],[[105, 106, 107, 108, 109, 110, 111, 112, 113, 114, 115, 116, 117, 118, 119, 120, 121, 122, 123, 124, 125, 126, 127, 128, 129, 130, 131, 132, 133, 134, 135, 136, 137, 138, 139, 140, 141, 142, 143, 144, 145, 146, 147, 148, 149, 150, 151, 152, 153, 154, 155, 156, 157, 158, 159, 160, 161, 162, 163, 164, 165, 166, 167, 168, 169, 170, 171, 172, 173, 174, 175, 176, 177, 178, 179, 180, 181, 182, 183, 184, 185, 186, 187, 188, 189, 190, 191, 192, 193, 194, 195, 196, 197, 198, 199, 200, 201, 202, 203, 204, 205, 206, 207, 208, 104, 104, 103, 103, 102, 102, 101, 101, 100, 100, 99, 99, 98, 98, 97, 97, 96, 96, 95, 95, 94, 94, 93, 93, 92, 92, 91, 91, 90, 90, 89, 89, 88, 88, 87, 87, 86, 86, 85, 85, 84, 84, 83, 83, 82, 82, 81, 81, 80, 80, 79, 79, 78, 78, 77, 77, 76, 76, 75, 75, 74, 74, 73, 73, 72, 72, 71, 71, 70, 70, 69, 69, 68, 68, 67, 67, 66, 66, 65, 65, 64, 64, 63, 63, 62, 62, 61, 61, 60, 60, 59, 59, 58, 58, 57, 57, 56, 56, 55, 55, 54, 54, 53, 53], [52, 103, 102, 101, 100, 99, 98, 97, 96, 95, 94, 93, 92, 91, 90, 89, 51, 88, 48, 87, 44, 86, 85, 84, 83, 82, 28, 81, 80, 79, 78, 77, 50, 49, 47, 76, 43, 75, 40, 74, 37, 73, 32, 31, 30, 29, 27, 72, 23, 22, 71, 70, 17, 69, 68, 67, 46, 45, 42, 41, 39, 38, 36, 66, 26, 65, 21, 20, 19, 18, 16, 64, 13, 63, 62, 61, 35, 60, 25, 24, 15, 14, 12, 59, 8, 58, 57, 56, 34, 33, 11, 55, 7, 54, 4, 3, 2, 53, 10, 9, 6, 5, 1, 0, 105, 106, 107, 108, 109, 110, 111, 112, 113, 114, 115, 116, 117, 118, 119, 120, 121, 122, 123, 124, 125, 126, 127, 128, 129, 130, 131, 132, 133, 134, 135, 136, 137, 138, 139, 140, 141, 142, 143, 144, 145, 146, 147, 148, 149, 150, 151, 152, 153, 154, 155, 156, 157, 158, 159, 160, 161, 162, 163, 164, 165, 166, 167, 168, 169, 170, 171, 172, 173, 174, 175, 176, 177, 178, 179, 180, 181, 182, 183, 184, 185, 186, 187, 188, 189, 190, 191, 192, 193, 194, 195, 196, 197, 198, 199, 200, 201, 202, 203, 204, 205, 206, 207, 208]],\"toyplot\");\n",
       "(function(tables, context_menu, io, owner_id, key, label, names, columns, filename)\n",
       "        {\n",
       "            tables.set(owner_id, key, names, columns);\n",
       "\n",
       "            var owner = document.querySelector(\"#\" + owner_id);\n",
       "            function show_item(e)\n",
       "            {\n",
       "                return owner.contains(e.target);\n",
       "            }\n",
       "\n",
       "            function choose_item()\n",
       "            {\n",
       "                io.save_file(\"text/csv\", \"utf-8\", tables.get_csv(owner_id, key), filename + \".csv\");\n",
       "            }\n",
       "\n",
       "            context_menu.add_item(\"Save \" + label + \" as CSV\", show_item, choose_item);\n",
       "        })(modules[\"toyplot/tables\"],modules[\"toyplot/menus/context\"],modules[\"toyplot/io\"],\"t4500abdd11e1416a8d49188f5e6b3c10\",\"data\",\"point\",[\"x\", \"y0\"],[[-0.0015547880000000014, -0.0020357769999999886, -0.0011811300000000025, -0.0019090410000000002, -0.0, -0.0009910810000000048, -0.0009211500000000095, -0.0011059350000000023, -0.0015636649999999919, -0.0029027390000000153, -0.0030784340000000188, -0.003224336999999994, -0.0030166950000000137, -0.003843289999999999, -0.001895363000000011, -0.0021450030000000064, -0.002419272, -0.0037297619999999976, -0.005554424000000002, -0.005533299000000019, -0.004905924000000006, -0.004724088000000015, -0.007222621000000012, -0.007487526000000022, -0.008228311000000016, -0.007330386999999994, -0.008302428, -0.007566168000000012, -0.007544941999999999, -0.008660295000000012, -0.008734381000000013, -0.00880847500000001, -0.00880847500000001, -0.013361973, -0.013361973, -0.013511098, -0.013660208000000007, -0.013659692000000001, -0.012860189000000022, -0.012785633000000018, -0.012934749999999995, -0.016226855000000012, -0.016226854000000013, -0.016301402999999992, -0.016077748000000003, -0.008896013000000008, -0.008896013000000008, -0.008896013000000008, -0.008890523000000011, -0.012487522000000029, -0.012263601000000013, -0.012560759000000005, -0.133900968, -0.0023794210000000204, -0.001609396000000013, -0.0039533530000000205, -0.0028535480000000113, -0.0038526269999999974, -0.001981380000000005, -0.004158729999999999, -0.013361977999999997, -0.004113449000000019, -0.0037461710000000203, -0.004322987, -0.004192741999999999, -0.008228316000000013, -0.013511103000000024, -0.008544679, -0.004701182999999998, -0.007438114999999995, -0.005889015999999997, -0.0057142020000000016, -0.008302432999999998, -0.013660213000000004, -0.012860193999999991, -0.01622686000000001, -0.008896013000000008, -0.01527347100000001, -0.008335470000000011, -0.012240102000000003, -0.008376257999999998, -0.009406378999999992, -0.00873438600000001, -0.00880847500000001, -0.01373448100000002, -0.01293475500000002, -0.016301408000000017, -0.008896018000000006, -0.012487526999999998, -0.027750049, -0.01924313800000002, -0.013209691999999995, -0.008808480000000007, -0.022296148000000016, -0.016301413000000015, -0.009192040000000012, -0.012636063000000003, -0.064632682, -0.028967869000000007, -0.02474622800000001, -0.03702123600000001, -0.085804401, -0.051440087999999995, -0.133900968, -0.2048818725], [0.0, 1.0, 2.0, 3.0, 4.0, 5.0, 6.0, 7.0, 8.0, 9.0, 10.0, 11.0, 12.0, 13.0, 14.0, 15.0, 16.0, 17.0, 18.0, 19.0, 20.0, 21.0, 22.0, 23.0, 24.0, 25.0, 26.0, 27.0, 28.0, 29.0, 30.0, 31.0, 32.0, 33.0, 34.0, 35.0, 36.0, 37.0, 38.0, 39.0, 40.0, 41.0, 42.0, 43.0, 44.0, 45.0, 46.0, 47.0, 48.0, 49.0, 50.0, 51.0, 52.0, 0.5, 5.5, 9.5, 1.25, 3.5, 6.25, 10.25, 33.5, 2.375, 7.125, 11.125, 14.5, 24.5, 34.25, 4.75, 12.0625, 15.25, 18.5, 20.5, 25.25, 35.125, 38.5, 41.5, 45.5, 8.40625, 16.125, 19.5, 22.5, 26.125, 29.5, 31.5, 36.0625, 39.25, 42.25, 46.25, 49.5, 12.265625, 21.0, 27.0625, 30.5, 37.65625, 43.125, 47.125, 50.25, 16.6328125, 28.78125, 40.390625, 48.6875, 22.70703125, 44.5390625, 33.623046875, 42.8115234375]],\"toyplot\");\n",
       "(function(axis, axis_id, projection)\n",
       "        {\n",
       "            axis.show_coordinates(axis_id, projection);\n",
       "        })(modules[\"toyplot.coordinates.Axis\"],\"t1f04ab8d71ba4eea85fa53abf7283d90\",[{\"domain\": {\"bounds\": {\"max\": Infinity, \"min\": -Infinity}, \"max\": 0.440496025875, \"min\": -0.2048818725}, \"range\": {\"bounds\": {\"max\": Infinity, \"min\": -Infinity}, \"max\": 365.0, \"min\": 0.0}, \"scale\": \"linear\"}]);\n",
       "})();</script></div></div>"
      ]
     },
     "metadata": {},
     "output_type": "display_data"
    }
   ],
   "source": [
    "# read the tree file\n",
    "newick = \"big_ape.nwk\"\n",
    "tre = toytree.tree(newick, tree_format=1)\n",
    "\n",
    "# specify the outgroup to be Macaque\n",
    "rtre = tre.root(wildcard=\"Hylobates\")\n",
    "\n",
    "# change these options until you are happy with the design\n",
    "colorlist = [\"#d6557c\" if \"Pan\" in tip # pink\n",
    "             else \"blue\" if \"Gorilla_b\" in tip #\n",
    "             else \"#4169E1\" if \"Gorilla_g\" in tip #royalblue\n",
    "             else \"#008000\" if \"Homo_sapiens_sapiens\" in tip #green\n",
    "             else \"#32CD32\" if \"neanderthal\" in tip #limegreen\n",
    "             else \"#006400\" if \"denisovan\" in tip #darkgreen\n",
    "             else \"red\" if \"Pongo_abelii\" in tip #darkgreen\n",
    "             else \"orange\" if \"Pongo_pygmaeus\" in tip #darkgreen\n",
    "             else \"brown\" if \"Pongo_tapanuliensis\" in tip #darkgreen\n",
    "             else \"#5384a3\" for tip in rtre.get_tip_labels()] # cyan\n",
    "\n",
    "# draw the tree using these colours and some other standard options\n",
    "canvas, axes =rtre.draw(\n",
    "    height=1200,\n",
    "    scalebar=True,\n",
    "    node_labels=None,\n",
    "    node_sizes=[0 if i else 8 for i in rtre.get_node_values(None, 1, 0)],\n",
    "    node_markers=\"s\",\n",
    "    node_colors=toytree.colors[0], # could this be =colorlist too?\n",
    "    tip_labels_align=True,\n",
    "    tip_labels_colors=colorlist\n",
    ");\n",
    "\n",
    "# The following code cell is needed to save it as a graphics file"
   ]
  },
  {
   "cell_type": "markdown",
   "metadata": {},
   "source": [
    "Run this following cell to save your tree to a graphics format. You will need this for your report."
   ]
  },
  {
   "cell_type": "code",
   "execution_count": 42,
   "metadata": {},
   "outputs": [],
   "source": [
    "# change the output file names below and run the cell.\n",
    "# remember to save these files and take them away\n",
    "toyplot.svg.render(canvas, \"big_ape2.svg\")\n",
    "toyplot.pdf.render(canvas, \"big_ape2.pdf\")"
   ]
  },
  {
   "cell_type": "markdown",
   "metadata": {},
   "source": [
    "<h2><font color='Blue'>Well Done</font></h2>\n",
    "\n",
    "You are now finished with case study 1, the apes. Case study two, the origins of HIV, will be much faster now you have experience.\n",
    "\n",
    "Please feel free to take a short break here.\n",
    "<hr>"
   ]
  },
  {
   "cell_type": "markdown",
   "metadata": {},
   "source": [
    "<h1><font color='DodgerBlue'>STUDY2: WHAT ARE THE ORIGINS OF HIV?</font></h1>"
   ]
  },
  {
   "cell_type": "markdown",
   "metadata": {},
   "source": [
    "![HIV](images/HIV.png)"
   ]
  },
  {
   "cell_type": "markdown",
   "metadata": {},
   "source": [
    "**Has HIV (human immunodeficiency virus) has coevolved with humans or does it have a recent zoonotic origin?**\n",
    "\n",
    "How can you test this? You now have all the skills required. We are going to repeat some of the work described by Sharp and Hahn (2011) in their paper \"Origins of HIV and the AIDS Pandemic\". Their figure 4 is very informative, and Zimmer and Emlen redraw it in their (3rd edition) Figure 8.12. \n",
    "\n",
    "Today you are going to reanalyse the HIV and SIV sequence data from great apes to produce a simlar figure and answer the question set above regarding zoonotic transfer. "
   ]
  },
  {
   "cell_type": "markdown",
   "metadata": {},
   "source": [
    "<h3><font color='DodgerBlue'>Sequence data</font></h3>"
   ]
  },
  {
   "cell_type": "markdown",
   "metadata": {},
   "source": [
    "I have prepared fasta files for you containing SIV and HIV sequence data from the *env* gene (Google it). They are called `SIVHIVspecies_ENV.fasta`\n",
    "\n",
    "It would be useful for you to know how many sequences were in each file, you calculated this earlier today for different files."
   ]
  },
  {
   "cell_type": "markdown",
   "metadata": {},
   "source": [
    "<h3><font color='DodgerBlue'>Sequence alignment and tree reconstruction</font></h3>"
   ]
  },
  {
   "cell_type": "code",
   "execution_count": 17,
   "metadata": {},
   "outputs": [
    {
     "name": "stdout",
     "output_type": "stream",
     "text": [
      "\n",
      "The analysis has begun, this will take a few minutes, please be patient\n",
      "\n",
      "The sequence alignment has finished\n",
      "The alignment trimming has finished\n",
      "The phylogenetic tree construction has started\n",
      "\n",
      "FastTree Version 2.1.10 Double precision (No SSE3)\n",
      "Alignment: SIVHIVspecies_ENV_trimmed.afa\n",
      "Nucleotide distances: Jukes-Cantor Joins: balanced Support: SH-like 1000\n",
      "Search: Normal +NNI +SPR (2 rounds range 10) +ML-NNI opt-each=1\n",
      "TopHits: 1.00*sqrtN close=default refresh=0.80\n",
      "ML Model: Generalized Time-Reversible, CAT approximation with 20 rate categories\n",
      "Ignored unknown character k (seen 8 times)\n",
      "Ignored unknown character m (seen 5 times)\n",
      "Ignored unknown character n (seen 1 times)\n",
      "Ignored unknown character r (seen 31 times)\n",
      "Ignored unknown character s (seen 4 times)\n",
      "Ignored unknown character w (seen 9 times)\n",
      "Ignored unknown character y (seen 14 times)\n",
      "Initial topology in 0.04 seconds\n",
      "Refining topology: 21 rounds ME-NNIs, 2 rounds ME-SPRs, 11 rounds ML-NNIs\n",
      "Total branch-length 4.225 after 0.61 sec1, 1 of 39 splits   \n",
      "ML-NNI round 1: LogLk = -38091.828 NNIs 8 max delta 30.96 Time 0.93\n",
      "GTR Frequencies: 0.3459 0.1835 0.2325 0.2381ep 12 of 12   \n",
      "GTR rates(ac ag at cg ct gt) 2.8801 4.2613 1.4979 1.5350 4.9478 1.0000\n",
      "Switched to using 20 rate categories (CAT approximation)8 of 20   \n",
      "Rate categories were divided by 0.860 so that average rate = 1.0\n",
      "CAT-based log-likelihoods may not be comparable across runs\n",
      "Use -gamma for approximate but comparable Gamma(20) log-likelihoods\n",
      "ML-NNI round 2: LogLk = -33351.728 NNIs 2 max delta 1.57 Time 2.31\n",
      "ML-NNI round 3: LogLk = -33348.280 NNIs 0 max delta 0.00 Time 2.41\n",
      "Turning off heuristics for final round of ML NNIs (converged)\n",
      "ML-NNI round 4: LogLk = -33338.905 NNIs 2 max delta 1.64 Time 2.92 (final)\n",
      "Optimize all lengths: LogLk = -33338.753 Time 3.02\n",
      "Total time: 3.44 seconds Unique: 41/41 Bad splits: 0/38\n",
      "\n",
      "The phylogenetic analysis has finished\n"
     ]
    }
   ],
   "source": [
    "#HIV\n",
    "print(\"\\nThe analysis has begun, this will take a few minutes, please be patient\")\n",
    "\n",
    "# Align\n",
    "!mafft --auto --quiet data/HIV/SIVHIVspecies_ENV.fasta > SIVHIVspecies_ENV.afa\n",
    "print(\"\\nThe sequence alignment has finished\")\n",
    "# Trim\n",
    "!trimal -in SIVHIVspecies_ENV.afa -out SIVHIVspecies_ENV_trimmed.afa -gappyout -keepheader\n",
    "print(\"The alignment trimming has finished\")\n",
    "# Tree build\n",
    "print(\"The phylogenetic tree construction has started\\n\")\n",
    "!FastTree -gtr -nt SIVHIVspecies_ENV_trimmed.afa > SIVHIVspecies_ENV.nwk\n",
    "print(\"\\nThe phylogenetic analysis has finished\")"
   ]
  },
  {
   "cell_type": "code",
   "execution_count": 50,
   "metadata": {},
   "outputs": [],
   "source": [
    "# import the code so we can use it later, just run this cell\n",
    "import toytree       # a tree plotting library\n",
    "import toyplot       # a general plotting library\n",
    "import toyplot.pdf\n",
    "import toyplot.svg"
   ]
  },
  {
   "cell_type": "code",
   "execution_count": 56,
   "metadata": {},
   "outputs": [
    {
     "ename": "ValueError",
     "evalue": "too many values to unpack (expected 2)",
     "output_type": "error",
     "traceback": [
      "\u001b[0;31m---------------------------------------------------------------------------\u001b[0m",
      "\u001b[0;31mValueError\u001b[0m                                Traceback (most recent call last)",
      "\u001b[0;32m<ipython-input-56-db2a61badbff>\u001b[0m in \u001b[0;36m<module>\u001b[0;34m\u001b[0m\n\u001b[1;32m     17\u001b[0m     \u001b[0mnode_colors\u001b[0m\u001b[0;34m=\u001b[0m\u001b[0mtoytree\u001b[0m\u001b[0;34m.\u001b[0m\u001b[0mcolors\u001b[0m\u001b[0;34m[\u001b[0m\u001b[0;36m0\u001b[0m\u001b[0;34m]\u001b[0m\u001b[0;34m,\u001b[0m\u001b[0;34m\u001b[0m\u001b[0;34m\u001b[0m\u001b[0m\n\u001b[1;32m     18\u001b[0m     \u001b[0mtip_labels_align\u001b[0m\u001b[0;34m=\u001b[0m\u001b[0;32mTrue\u001b[0m\u001b[0;34m,\u001b[0m\u001b[0;34m\u001b[0m\u001b[0;34m\u001b[0m\u001b[0m\n\u001b[0;32m---> 19\u001b[0;31m     tip_labels_colors=colorlist);\n\u001b[0m\u001b[1;32m     20\u001b[0m \u001b[0;34m\u001b[0m\u001b[0m\n\u001b[1;32m     21\u001b[0m \u001b[0;31m# change the output file names below\u001b[0m\u001b[0;34m\u001b[0m\u001b[0;34m\u001b[0m\u001b[0;34m\u001b[0m\u001b[0m\n",
      "\u001b[0;31mValueError\u001b[0m: too many values to unpack (expected 2)"
     ]
    },
    {
     "data": {
      "text/html": [
       "<div class=\"toyplot\" id=\"t9d616315637d4199a865f819ea82d3f7\" style=\"text-align:center\"><svg class=\"toyplot-canvas-Canvas\" height=\"600.0px\" id=\"t8e21f4b1d82444c8afdce43e9407c43d\" preserveAspectRatio=\"xMidYMid meet\" style=\"background-color:transparent;border-color:#292724;border-style:none;border-width:1.0;fill:rgb(16.1%,15.3%,14.1%);fill-opacity:1.0;font-family:Helvetica;font-size:12px;opacity:1.0;stroke:rgb(16.1%,15.3%,14.1%);stroke-opacity:1.0;stroke-width:1.0\" viewBox=\"0 0 600.0 600.0\" width=\"600.0px\" xmlns=\"http://www.w3.org/2000/svg\" xmlns:toyplot=\"http://www.sandia.gov/toyplot\" xmlns:xlink=\"http://www.w3.org/1999/xlink\"><g class=\"toyplot-coordinates-Cartesian\" id=\"t41ff99b37d284795a6041d1842914109\"><clipPath id=\"t5aa644f1d8214d9da0f24ca54f4aa450\"><rect height=\"540.0\" width=\"540.0\" x=\"30.0\" y=\"30.0\"></rect></clipPath><g clip-path=\"url(#t5aa644f1d8214d9da0f24ca54f4aa450)\"><g class=\"toytree-mark-Toytree\" id=\"t5087f79f060a49b1a9fc3b321160d36b\"><g class=\"toytree-Edges\" style=\"fill:none;stroke:rgb(14.9%,14.9%,14.9%);stroke-linecap:round;stroke-opacity:1;stroke-width:2\"><path d=\"M 50.0 172.1 L 50.0 73.2 L 95.5 73.2\" id=\"80,79\"></path><path d=\"M 50.0 172.1 L 50.0 271.0 L 95.5 271.0\" id=\"80,78\"></path><path d=\"M 95.5 73.2 L 95.5 84.3 L 146.4 84.3\" id=\"79,77\"></path><path d=\"M 95.5 271.0 L 95.5 167.1 L 114.4 167.1\" id=\"78,76\"></path><path d=\"M 95.5 271.0 L 95.5 374.9 L 144.7 374.9\" id=\"78,75\"></path><path d=\"M 146.4 84.3 L 146.4 94.7 L 155.4 94.7\" id=\"77,74\"></path><path d=\"M 114.4 167.1 L 114.4 127.4 L 160.2 127.4\" id=\"76,73\"></path><path d=\"M 114.4 167.1 L 114.4 206.8 L 130.2 206.8\" id=\"76,72\"></path><path d=\"M 144.7 374.9 L 144.7 344.6 L 201.8 344.6\" id=\"75,71\"></path><path d=\"M 144.7 374.9 L 144.7 405.2 L 168.3 405.2\" id=\"75,70\"></path><path d=\"M 155.4 94.7 L 155.4 103.6 L 170.0 103.6\" id=\"74,69\"></path><path d=\"M 130.2 206.8 L 130.2 157.0 L 156.8 157.0\" id=\"72,68\"></path><path d=\"M 130.2 206.8 L 130.2 256.7 L 171.0 256.7\" id=\"72,67\"></path><path d=\"M 201.8 344.6 L 201.8 353.6 L 236.9 353.6\" id=\"71,66\"></path><path d=\"M 168.3 405.2 L 168.3 380.3 L 181.3 380.3\" id=\"70,65\"></path><path d=\"M 168.3 405.2 L 168.3 430.2 L 251.4 430.2\" id=\"70,64\"></path><path d=\"M 156.8 157.0 L 156.8 168.7 L 169.3 168.7\" id=\"68,63\"></path><path d=\"M 171.0 256.7 L 171.0 237.5 L 189.7 237.5\" id=\"67,62\"></path><path d=\"M 171.0 256.7 L 171.0 275.8 L 180.0 275.8\" id=\"67,61\"></path><path d=\"M 181.3 380.3 L 181.3 389.3 L 222.2 389.3\" id=\"65,60\"></path><path d=\"M 251.4 430.2 L 251.4 453.2 L 262.9 453.2\" id=\"64,59\"></path><path d=\"M 169.3 168.7 L 169.3 180.3 L 179.0 180.3\" id=\"63,58\"></path><path d=\"M 189.7 237.5 L 189.7 246.4 L 201.5 246.4\" id=\"62,57\"></path><path d=\"M 180.0 275.8 L 180.0 287.4 L 210.1 287.4\" id=\"61,56\"></path><path d=\"M 262.9 453.2 L 262.9 425.0 L 270.0 425.0\" id=\"59,55\"></path><path d=\"M 262.9 453.2 L 262.9 481.5 L 281.2 481.5\" id=\"59,54\"></path><path d=\"M 179.0 180.3 L 179.0 191.4 L 210.5 191.4\" id=\"58,53\"></path><path d=\"M 210.1 287.4 L 210.1 298.5 L 230.7 298.5\" id=\"56,52\"></path><path d=\"M 281.2 481.5 L 281.2 453.2 L 286.9 453.2\" id=\"54,51\"></path><path d=\"M 281.2 481.5 L 281.2 509.7 L 284.3 509.7\" id=\"54,50\"></path><path d=\"M 210.5 191.4 L 210.5 201.8 L 217.3 201.8\" id=\"53,49\"></path><path d=\"M 230.7 298.5 L 230.7 308.9 L 235.7 308.9\" id=\"52,48\"></path><path d=\"M 286.9 453.2 L 286.9 463.6 L 288.4 463.6\" id=\"51,47\"></path><path d=\"M 284.3 509.7 L 284.3 496.4 L 289.5 496.4\" id=\"50,46\"></path><path d=\"M 284.3 509.7 L 284.3 523.1 L 291.1 523.1\" id=\"50,45\"></path><path d=\"M 217.3 201.8 L 217.3 210.7 L 222.9 210.7\" id=\"49,44\"></path><path d=\"M 235.7 308.9 L 235.7 317.9 L 241.3 317.9\" id=\"48,43\"></path><path d=\"M 288.4 463.6 L 288.4 472.6 L 292.4 472.6\" id=\"47,42\"></path><path d=\"M 291.1 523.1 L 291.1 532.1 L 302.4 532.1\" id=\"45,41\"></path><path d=\"M 95.5 73.2 L 95.5 62.0 L 199.7 62.0\" id=\"79,40\"></path><path d=\"M 146.4 84.3 L 146.4 73.9 L 166.7 73.9\" id=\"77,39\"></path><path d=\"M 155.4 94.7 L 155.4 85.8 L 181.2 85.8\" id=\"74,38\"></path><path d=\"M 170.0 103.6 L 170.0 97.7 L 184.6 97.7\" id=\"69,37\"></path><path d=\"M 170.0 103.6 L 170.0 109.6 L 185.0 109.6\" id=\"69,36\"></path><path d=\"M 160.2 127.4 L 160.2 121.5 L 198.9 121.5\" id=\"73,35\"></path><path d=\"M 160.2 127.4 L 160.2 133.4 L 200.4 133.4\" id=\"73,34\"></path><path d=\"M 156.8 157.0 L 156.8 145.3 L 214.6 145.3\" id=\"68,33\"></path><path d=\"M 169.3 168.7 L 169.3 157.2 L 214.1 157.2\" id=\"63,32\"></path><path d=\"M 179.0 180.3 L 179.0 169.1 L 225.8 169.1\" id=\"58,31\"></path><path d=\"M 210.5 191.4 L 210.5 181.0 L 225.8 181.0\" id=\"53,30\"></path><path d=\"M 217.3 201.8 L 217.3 192.9 L 243.4 192.9\" id=\"49,29\"></path><path d=\"M 222.9 210.7 L 222.9 204.8 L 248.6 204.8\" id=\"44,28\"></path><path d=\"M 222.9 210.7 L 222.9 216.7 L 248.1 216.7\" id=\"44,27\"></path><path d=\"M 189.7 237.5 L 189.7 228.6 L 205.4 228.6\" id=\"62,26\"></path><path d=\"M 201.5 246.4 L 201.5 240.5 L 224.3 240.5\" id=\"57,25\"></path><path d=\"M 201.5 246.4 L 201.5 252.4 L 241.9 252.4\" id=\"57,24\"></path><path d=\"M 180.0 275.8 L 180.0 264.3 L 247.6 264.3\" id=\"61,23\"></path><path d=\"M 210.1 287.4 L 210.1 276.2 L 256.4 276.2\" id=\"56,22\"></path><path d=\"M 230.7 298.5 L 230.7 288.1 L 247.3 288.1\" id=\"52,21\"></path><path d=\"M 235.7 308.9 L 235.7 300.0 L 254.7 300.0\" id=\"48,20\"></path><path d=\"M 241.3 317.9 L 241.3 311.9 L 253.4 311.9\" id=\"43,19\"></path><path d=\"M 241.3 317.9 L 241.3 323.8 L 257.1 323.8\" id=\"43,18\"></path><path d=\"M 201.8 344.6 L 201.8 335.7 L 251.2 335.7\" id=\"71,17\"></path><path d=\"M 236.9 353.6 L 236.9 347.6 L 257.2 347.6\" id=\"66,16\"></path><path d=\"M 236.9 353.6 L 236.9 359.5 L 255.0 359.5\" id=\"66,15\"></path><path d=\"M 181.3 380.3 L 181.3 371.4 L 236.0 371.4\" id=\"65,14\"></path><path d=\"M 222.2 389.3 L 222.2 383.3 L 233.9 383.3\" id=\"60,13\"></path><path d=\"M 222.2 389.3 L 222.2 395.2 L 230.2 395.2\" id=\"60,12\"></path><path d=\"M 251.4 430.2 L 251.4 407.1 L 283.7 407.1\" id=\"64,11\"></path><path d=\"M 270.0 425.0 L 270.0 419.0 L 303.6 419.0\" id=\"55,10\"></path><path d=\"M 270.0 425.0 L 270.0 430.9 L 313.4 430.9\" id=\"55,9\"></path><path d=\"M 286.9 453.2 L 286.9 442.8 L 324.4 442.8\" id=\"51,8\"></path><path d=\"M 288.4 463.6 L 288.4 454.7 L 303.4 454.7\" id=\"47,7\"></path><path d=\"M 292.4 472.6 L 292.4 466.6 L 312.1 466.6\" id=\"42,6\"></path><path d=\"M 292.4 472.6 L 292.4 478.5 L 322.8 478.5\" id=\"42,5\"></path><path d=\"M 289.5 496.4 L 289.5 490.4 L 325.4 490.4\" id=\"46,4\"></path><path d=\"M 289.5 496.4 L 289.5 502.3 L 323.3 502.3\" id=\"46,3\"></path><path d=\"M 291.1 523.1 L 291.1 514.2 L 314.6 514.2\" id=\"45,2\"></path><path d=\"M 302.4 532.1 L 302.4 526.1 L 322.4 526.1\" id=\"41,1\"></path><path d=\"M 302.4 532.1 L 302.4 538.0 L 318.7 538.0\" id=\"41,0\"></path></g><g class=\"toytree-AlignEdges\" style=\"stroke:rgb(66.3%,66.3%,66.3%);stroke-dasharray:2, 4;stroke-linecap:round;stroke-opacity:1.0;stroke-width:2\"><path d=\"M 325.4 538.0 L 318.7 538.0\"></path><path d=\"M 325.4 526.1 L 322.4 526.1\"></path><path d=\"M 325.4 514.2 L 314.6 514.2\"></path><path d=\"M 325.4 502.3 L 323.3 502.3\"></path><path d=\"M 325.4 490.4 L 325.4 490.4\"></path><path d=\"M 325.4 478.5 L 322.8 478.5\"></path><path d=\"M 325.4 466.6 L 312.1 466.6\"></path><path d=\"M 325.4 454.7 L 303.4 454.7\"></path><path d=\"M 325.4 442.8 L 324.4 442.8\"></path><path d=\"M 325.4 430.9 L 313.4 430.9\"></path><path d=\"M 325.4 419.0 L 303.6 419.0\"></path><path d=\"M 325.4 407.1 L 283.7 407.1\"></path><path d=\"M 325.4 395.2 L 230.2 395.2\"></path><path d=\"M 325.4 383.3 L 233.9 383.3\"></path><path d=\"M 325.4 371.4 L 236.0 371.4\"></path><path d=\"M 325.4 359.5 L 255.0 359.5\"></path><path d=\"M 325.4 347.6 L 257.2 347.6\"></path><path d=\"M 325.4 335.7 L 251.2 335.7\"></path><path d=\"M 325.4 323.8 L 257.1 323.8\"></path><path d=\"M 325.4 311.9 L 253.4 311.9\"></path><path d=\"M 325.4 300.0 L 254.7 300.0\"></path><path d=\"M 325.4 288.1 L 247.3 288.1\"></path><path d=\"M 325.4 276.2 L 256.4 276.2\"></path><path d=\"M 325.4 264.3 L 247.6 264.3\"></path><path d=\"M 325.4 252.4 L 241.9 252.4\"></path><path d=\"M 325.4 240.5 L 224.3 240.5\"></path><path d=\"M 325.4 228.6 L 205.4 228.6\"></path><path d=\"M 325.4 216.7 L 248.1 216.7\"></path><path d=\"M 325.4 204.8 L 248.6 204.8\"></path><path d=\"M 325.4 192.9 L 243.4 192.9\"></path><path d=\"M 325.4 181.0 L 225.8 181.0\"></path><path d=\"M 325.4 169.1 L 225.8 169.1\"></path><path d=\"M 325.4 157.2 L 214.1 157.2\"></path><path d=\"M 325.4 145.3 L 214.6 145.3\"></path><path d=\"M 325.4 133.4 L 200.4 133.4\"></path><path d=\"M 325.4 121.5 L 198.9 121.5\"></path><path d=\"M 325.4 109.6 L 185.0 109.6\"></path><path d=\"M 325.4 97.7 L 184.6 97.7\"></path><path d=\"M 325.4 85.8 L 181.2 85.8\"></path><path d=\"M 325.4 73.9 L 166.7 73.9\"></path><path d=\"M 325.4 62.0 L 199.7 62.0\"></path></g><g class=\"toytree-Nodes\" style=\"fill:rgb(40%,76.1%,64.7%);fill-opacity:1.0;stroke:None;stroke-width:1\"><g id=\"node-0\" transform=\"translate(318.748,538.005)\"><rect height=\"8\" width=\"8\" x=\"-4.0\" y=\"-4.0\"></rect></g><g id=\"node-1\" transform=\"translate(322.396,526.104)\"><rect height=\"8\" width=\"8\" x=\"-4.0\" y=\"-4.0\"></rect></g><g id=\"node-2\" transform=\"translate(314.647,514.204)\"><rect height=\"8\" width=\"8\" x=\"-4.0\" y=\"-4.0\"></rect></g><g id=\"node-3\" transform=\"translate(323.323,502.304)\"><rect height=\"8\" width=\"8\" x=\"-4.0\" y=\"-4.0\"></rect></g><g id=\"node-4\" transform=\"translate(325.444,490.404)\"><rect height=\"8\" width=\"8\" x=\"-4.0\" y=\"-4.0\"></rect></g><g id=\"node-5\" transform=\"translate(322.845,478.503)\"><rect height=\"8\" width=\"8\" x=\"-4.0\" y=\"-4.0\"></rect></g><g id=\"node-6\" transform=\"translate(312.138,466.603)\"><rect height=\"8\" width=\"8\" x=\"-4.0\" y=\"-4.0\"></rect></g><g id=\"node-7\" transform=\"translate(303.449,454.703)\"><rect height=\"8\" width=\"8\" x=\"-4.0\" y=\"-4.0\"></rect></g><g id=\"node-8\" transform=\"translate(324.441,442.803)\"><rect height=\"8\" width=\"8\" x=\"-4.0\" y=\"-4.0\"></rect></g><g id=\"node-9\" transform=\"translate(313.386,430.903)\"><rect height=\"8\" width=\"8\" x=\"-4.0\" y=\"-4.0\"></rect></g><g id=\"node-10\" transform=\"translate(303.628,419.002)\"><rect height=\"8\" width=\"8\" x=\"-4.0\" y=\"-4.0\"></rect></g><g id=\"node-11\" transform=\"translate(283.653,407.102)\"><rect height=\"8\" width=\"8\" x=\"-4.0\" y=\"-4.0\"></rect></g><g id=\"node-12\" transform=\"translate(230.245,395.202)\"><rect height=\"8\" width=\"8\" x=\"-4.0\" y=\"-4.0\"></rect></g><g id=\"node-13\" transform=\"translate(233.923,383.302)\"><rect height=\"8\" width=\"8\" x=\"-4.0\" y=\"-4.0\"></rect></g><g id=\"node-14\" transform=\"translate(236.018,371.401)\"><rect height=\"8\" width=\"8\" x=\"-4.0\" y=\"-4.0\"></rect></g><g id=\"node-15\" transform=\"translate(255.040,359.501)\"><rect height=\"8\" width=\"8\" x=\"-4.0\" y=\"-4.0\"></rect></g><g id=\"node-16\" transform=\"translate(257.228,347.601)\"><rect height=\"8\" width=\"8\" x=\"-4.0\" y=\"-4.0\"></rect></g><g id=\"node-17\" transform=\"translate(251.197,335.701)\"><rect height=\"8\" width=\"8\" x=\"-4.0\" y=\"-4.0\"></rect></g><g id=\"node-18\" transform=\"translate(257.138,323.800)\"><rect height=\"8\" width=\"8\" x=\"-4.0\" y=\"-4.0\"></rect></g><g id=\"node-19\" transform=\"translate(253.430,311.900)\"><rect height=\"8\" width=\"8\" x=\"-4.0\" y=\"-4.0\"></rect></g><g id=\"node-20\" transform=\"translate(254.735,300.000)\"><rect height=\"8\" width=\"8\" x=\"-4.0\" y=\"-4.0\"></rect></g><g id=\"node-21\" transform=\"translate(247.323,288.100)\"><rect height=\"8\" width=\"8\" x=\"-4.0\" y=\"-4.0\"></rect></g><g id=\"node-22\" transform=\"translate(256.418,276.200)\"><rect height=\"8\" width=\"8\" x=\"-4.0\" y=\"-4.0\"></rect></g><g id=\"node-23\" transform=\"translate(247.574,264.299)\"><rect height=\"8\" width=\"8\" x=\"-4.0\" y=\"-4.0\"></rect></g><g id=\"node-24\" transform=\"translate(241.878,252.399)\"><rect height=\"8\" width=\"8\" x=\"-4.0\" y=\"-4.0\"></rect></g><g id=\"node-25\" transform=\"translate(224.279,240.499)\"><rect height=\"8\" width=\"8\" x=\"-4.0\" y=\"-4.0\"></rect></g><g id=\"node-26\" transform=\"translate(205.366,228.599)\"><rect height=\"8\" width=\"8\" x=\"-4.0\" y=\"-4.0\"></rect></g><g id=\"node-27\" transform=\"translate(248.144,216.698)\"><rect height=\"8\" width=\"8\" x=\"-4.0\" y=\"-4.0\"></rect></g><g id=\"node-28\" transform=\"translate(248.634,204.798)\"><rect height=\"8\" width=\"8\" x=\"-4.0\" y=\"-4.0\"></rect></g><g id=\"node-29\" transform=\"translate(243.392,192.898)\"><rect height=\"8\" width=\"8\" x=\"-4.0\" y=\"-4.0\"></rect></g><g id=\"node-30\" transform=\"translate(225.782,180.998)\"><rect height=\"8\" width=\"8\" x=\"-4.0\" y=\"-4.0\"></rect></g><g id=\"node-31\" transform=\"translate(225.800,169.097)\"><rect height=\"8\" width=\"8\" x=\"-4.0\" y=\"-4.0\"></rect></g><g id=\"node-32\" transform=\"translate(214.103,157.197)\"><rect height=\"8\" width=\"8\" x=\"-4.0\" y=\"-4.0\"></rect></g><g id=\"node-33\" transform=\"translate(214.619,145.297)\"><rect height=\"8\" width=\"8\" x=\"-4.0\" y=\"-4.0\"></rect></g><g id=\"node-34\" transform=\"translate(200.417,133.397)\"><rect height=\"8\" width=\"8\" x=\"-4.0\" y=\"-4.0\"></rect></g><g id=\"node-35\" transform=\"translate(198.870,121.497)\"><rect height=\"8\" width=\"8\" x=\"-4.0\" y=\"-4.0\"></rect></g><g id=\"node-36\" transform=\"translate(184.969,109.596)\"><rect height=\"8\" width=\"8\" x=\"-4.0\" y=\"-4.0\"></rect></g><g id=\"node-37\" transform=\"translate(184.646,97.696)\"><rect height=\"8\" width=\"8\" x=\"-4.0\" y=\"-4.0\"></rect></g><g id=\"node-38\" transform=\"translate(181.163,85.796)\"><rect height=\"8\" width=\"8\" x=\"-4.0\" y=\"-4.0\"></rect></g><g id=\"node-39\" transform=\"translate(166.718,73.896)\"><rect height=\"8\" width=\"8\" x=\"-4.0\" y=\"-4.0\"></rect></g><g id=\"node-40\" transform=\"translate(199.715,61.995)\"><rect height=\"8\" width=\"8\" x=\"-4.0\" y=\"-4.0\"></rect></g><g id=\"node-41\" transform=\"translate(302.381,532.054)\"><rect height=\"0\" width=\"0\" x=\"0.0\" y=\"0.0\"></rect></g><g id=\"node-42\" transform=\"translate(292.354,472.553)\"><rect height=\"0\" width=\"0\" x=\"0.0\" y=\"0.0\"></rect></g><g id=\"node-43\" transform=\"translate(241.298,317.850)\"><rect height=\"0\" width=\"0\" x=\"0.0\" y=\"0.0\"></rect></g><g id=\"node-44\" transform=\"translate(222.923,210.748)\"><rect height=\"0\" width=\"0\" x=\"0.0\" y=\"0.0\"></rect></g><g id=\"node-45\" transform=\"translate(291.145,523.129)\"><rect height=\"0\" width=\"0\" x=\"0.0\" y=\"0.0\"></rect></g><g id=\"node-46\" transform=\"translate(289.489,496.354)\"><rect height=\"0\" width=\"0\" x=\"0.0\" y=\"0.0\"></rect></g><g id=\"node-47\" transform=\"translate(288.358,463.628)\"><rect height=\"0\" width=\"0\" x=\"0.0\" y=\"0.0\"></rect></g><g id=\"node-48\" transform=\"translate(235.747,308.925)\"><rect height=\"0\" width=\"0\" x=\"0.0\" y=\"0.0\"></rect></g><g id=\"node-49\" transform=\"translate(217.306,201.823)\"><rect height=\"0\" width=\"0\" x=\"0.0\" y=\"0.0\"></rect></g><g id=\"node-50\" transform=\"translate(284.343,509.742)\"><rect height=\"0\" width=\"0\" x=\"0.0\" y=\"0.0\"></rect></g><g id=\"node-51\" transform=\"translate(286.923,453.215)\"><rect height=\"0\" width=\"0\" x=\"0.0\" y=\"0.0\"></rect></g><g id=\"node-52\" transform=\"translate(230.730,298.512)\"><rect height=\"0\" width=\"0\" x=\"0.0\" y=\"0.0\"></rect></g><g id=\"node-53\" transform=\"translate(210.457,191.410)\"><rect height=\"0\" width=\"0\" x=\"0.0\" y=\"0.0\"></rect></g><g id=\"node-54\" transform=\"translate(281.221,481.478)\"><rect height=\"0\" width=\"0\" x=\"0.0\" y=\"0.0\"></rect></g><g id=\"node-55\" transform=\"translate(269.990,424.952)\"><rect height=\"0\" width=\"0\" x=\"0.0\" y=\"0.0\"></rect></g><g id=\"node-56\" transform=\"translate(210.062,287.356)\"><rect height=\"0\" width=\"0\" x=\"0.0\" y=\"0.0\"></rect></g><g id=\"node-57\" transform=\"translate(201.455,246.449)\"><rect height=\"0\" width=\"0\" x=\"0.0\" y=\"0.0\"></rect></g><g id=\"node-58\" transform=\"translate(178.970,180.254)\"><rect height=\"0\" width=\"0\" x=\"0.0\" y=\"0.0\"></rect></g><g id=\"node-59\" transform=\"translate(262.891,453.215)\"><rect height=\"0\" width=\"0\" x=\"0.0\" y=\"0.0\"></rect></g><g id=\"node-60\" transform=\"translate(222.171,389.252)\"><rect height=\"0\" width=\"0\" x=\"0.0\" y=\"0.0\"></rect></g><g id=\"node-61\" transform=\"translate(179.975,275.828)\"><rect height=\"0\" width=\"0\" x=\"0.0\" y=\"0.0\"></rect></g><g id=\"node-62\" transform=\"translate(189.749,237.524)\"><rect height=\"0\" width=\"0\" x=\"0.0\" y=\"0.0\"></rect></g><g id=\"node-63\" transform=\"translate(169.323,168.726)\"><rect height=\"0\" width=\"0\" x=\"0.0\" y=\"0.0\"></rect></g><g id=\"node-64\" transform=\"translate(251.390,430.159)\"><rect height=\"0\" width=\"0\" x=\"0.0\" y=\"0.0\"></rect></g><g id=\"node-65\" transform=\"translate(181.260,380.327)\"><rect height=\"0\" width=\"0\" x=\"0.0\" y=\"0.0\"></rect></g><g id=\"node-66\" transform=\"translate(236.873,353.551)\"><rect height=\"0\" width=\"0\" x=\"0.0\" y=\"0.0\"></rect></g><g id=\"node-67\" transform=\"translate(171.031,256.676)\"><rect height=\"0\" width=\"0\" x=\"0.0\" y=\"0.0\"></rect></g><g id=\"node-68\" transform=\"translate(156.786,157.011)\"><rect height=\"0\" width=\"0\" x=\"0.0\" y=\"0.0\"></rect></g><g id=\"node-69\" transform=\"translate(170.014,103.646)\"><rect height=\"0\" width=\"0\" x=\"0.0\" y=\"0.0\"></rect></g><g id=\"node-70\" transform=\"translate(168.325,405.243)\"><rect height=\"0\" width=\"0\" x=\"0.0\" y=\"0.0\"></rect></g><g id=\"node-71\" transform=\"translate(201.795,344.626)\"><rect height=\"0\" width=\"0\" x=\"0.0\" y=\"0.0\"></rect></g><g id=\"node-72\" transform=\"translate(130.180,206.844)\"><rect height=\"0\" width=\"0\" x=\"0.0\" y=\"0.0\"></rect></g><g id=\"node-73\" transform=\"translate(160.165,127.447)\"><rect height=\"0\" width=\"0\" x=\"0.0\" y=\"0.0\"></rect></g><g id=\"node-74\" transform=\"translate(155.445,94.721)\"><rect height=\"0\" width=\"0\" x=\"0.0\" y=\"0.0\"></rect></g><g id=\"node-75\" transform=\"translate(144.652,374.934)\"><rect height=\"0\" width=\"0\" x=\"0.0\" y=\"0.0\"></rect></g><g id=\"node-76\" transform=\"translate(114.356,167.145)\"><rect height=\"0\" width=\"0\" x=\"0.0\" y=\"0.0\"></rect></g><g id=\"node-77\" transform=\"translate(146.429,84.308)\"><rect height=\"0\" width=\"0\" x=\"0.0\" y=\"0.0\"></rect></g><g id=\"node-78\" transform=\"translate(95.508,271.040)\"><rect height=\"0\" width=\"0\" x=\"0.0\" y=\"0.0\"></rect></g><g id=\"node-79\" transform=\"translate(95.508,73.152)\"><rect height=\"0\" width=\"0\" x=\"0.0\" y=\"0.0\"></rect></g><g id=\"node-80\" transform=\"translate(50.000,172.096)\"><rect height=\"0\" width=\"0\" x=\"0.0\" y=\"0.0\"></rect></g></g><g class=\"toytree-TipLabels\" style=\"fill:rgb(14.9%,14.9%,14.9%);fill-opacity:1.0;font-family:helvetica;font-size:11px;font-weight:normal;stroke:none;white-space:pre\"><g transform=\"translate(325.44,538.00)rotate(0)\"><text style=\"fill:rgb(0%,50.2%,0%);fill-opacity:1.0\" x=\"15.00\" y=\"2.81\">H.sapiens.O.CM.x.pCMO2_3.AY618998</text></g><g transform=\"translate(325.44,526.10)rotate(0)\"><text style=\"fill:rgb(0%,50.2%,0%);fill-opacity:1.0\" x=\"15.00\" y=\"2.81\">H.sapiens.O.CM.99.99CMU4122.AY169815</text></g><g transform=\"translate(325.44,514.20)rotate(0)\"><text style=\"fill:rgb(0%,50.2%,0%);fill-opacity:1.0\" x=\"15.00\" y=\"2.81\">H.sapiens.O.SN.99.99SE_MP1300.AJ302647</text></g><g transform=\"translate(325.44,502.30)rotate(0)\"><text style=\"fill:rgb(0%,50.2%,0%);fill-opacity:1.0\" x=\"15.00\" y=\"2.81\">H.sapiens.O.GA.11.11Gab6352.JX245015</text></g><g transform=\"translate(325.44,490.40)rotate(0)\"><text style=\"fill:rgb(0%,50.2%,0%);fill-opacity:1.0\" x=\"15.00\" y=\"2.81\">H.sapiens.O.CM.96.LA52YBF39.KU168295</text></g><g transform=\"translate(325.44,478.50)rotate(0)\"><text style=\"fill:rgb(0%,50.2%,0%);fill-opacity:1.0\" x=\"15.00\" y=\"2.81\">H.sapiens.O.GA.10.10Gab1190.JX245014</text></g><g transform=\"translate(325.44,466.60)rotate(0)\"><text style=\"fill:rgb(0%,50.2%,0%);fill-opacity:1.0\" x=\"15.00\" y=\"2.81\">H.sapiens.O.ES.01.KX228804</text></g><g transform=\"translate(325.44,454.70)rotate(0)\"><text style=\"fill:rgb(0%,50.2%,0%);fill-opacity:1.0\" x=\"15.00\" y=\"2.81\">H.sapiens.O.ANT70</text></g><g transform=\"translate(325.44,442.80)rotate(0)\"><text style=\"fill:rgb(0%,50.2%,0%);fill-opacity:1.0\" x=\"15.00\" y=\"2.81\">H.sapiens.O.US.10.LTNP.JN571034</text></g><g transform=\"translate(325.44,430.90)rotate(0)\"><text style=\"fill:rgb(0%,50.2%,0%);fill-opacity:1.0\" x=\"15.00\" y=\"2.81\">H.sapiens.O.MVP5180</text></g><g transform=\"translate(325.44,419.00)rotate(0)\"><text style=\"fill:rgb(0%,50.2%,0%);fill-opacity:1.0\" x=\"15.00\" y=\"2.81\">H.sapiens.O.CM.96.LA51YBF35.KU168294</text></g><g transform=\"translate(325.44,407.10)rotate(0)\"><text style=\"fill:rgb(0%,50.2%,0%);fill-opacity:1.0\" x=\"15.00\" y=\"2.81\">H.sapiens.O.FR.06.RBF206.KY112585</text></g><g transform=\"translate(325.44,395.20)rotate(0)\"><text style=\"fill:rgb(100%,0%,0%);fill-opacity:1.0\" x=\"15.00\" y=\"2.81\">G.g.gorilla.CP684</text></g><g transform=\"translate(325.44,383.30)rotate(0)\"><text style=\"fill:rgb(100%,0%,0%);fill-opacity:1.0\" x=\"15.00\" y=\"2.81\">G.g.gorilla.CP2135</text></g><g transform=\"translate(325.44,371.40)rotate(0)\"><text style=\"fill:rgb(100%,0%,0%);fill-opacity:1.0\" x=\"15.00\" y=\"2.81\">G.g.gorilla.CM.12.BQID2.KP004991</text></g><g transform=\"translate(325.44,359.50)rotate(0)\"><text style=\"fill:rgb(0%,50.2%,0%);fill-opacity:1.0\" x=\"15.00\" y=\"2.81\">H.sapiens.P.FR.09.RBF168.GU111555</text></g><g transform=\"translate(325.44,347.60)rotate(0)\"><text style=\"fill:rgb(0%,50.2%,0%);fill-opacity:1.0\" x=\"15.00\" y=\"2.81\">H.sapiens.P.CM.06.U14788.HQ179987</text></g><g transform=\"translate(325.44,335.70)rotate(0)\"><text style=\"fill:rgb(100%,0%,0%);fill-opacity:1.0\" x=\"15.00\" y=\"2.81\">G.g.gorilla.CM.13.BPID15.KP004990</text></g><g transform=\"translate(325.44,323.80)rotate(0)\"><text style=\"fill:rgb(0%,50.2%,0%);fill-opacity:1.0\" x=\"15.00\" y=\"2.81\">H.sapiens.N.YBF106</text></g><g transform=\"translate(325.44,311.90)rotate(0)\"><text style=\"fill:rgb(0%,50.2%,0%);fill-opacity:1.0\" x=\"15.00\" y=\"2.81\">H.sapiens.N.YBF30</text></g><g transform=\"translate(325.44,300.00)rotate(0)\"><text style=\"fill:rgb(0%,50.2%,0%);fill-opacity:1.0\" x=\"15.00\" y=\"2.81\">H.sapiens.N.CM.15.S4858.KY498771</text></g><g transform=\"translate(325.44,288.10)rotate(0)\"><text style=\"fill:rgb(0%,50.2%,0%);fill-opacity:1.0\" x=\"15.00\" y=\"2.81\">H.sapiens.N.FR.11.N1_FR_2011.JN572926</text></g><g transform=\"translate(325.44,276.20)rotate(0)\"><text style=\"fill:rgb(100%,64.7%,0%);fill-opacity:1.0\" x=\"15.00\" y=\"2.81\">P.t.troglodytes.EK505</text></g><g transform=\"translate(325.44,264.30)rotate(0)\"><text style=\"fill:rgb(100%,64.7%,0%);fill-opacity:1.0\" x=\"15.00\" y=\"2.81\">P.t.troglodytes.US.85.US_Marilyn.AF103818</text></g><g transform=\"translate(325.44,252.40)rotate(0)\"><text style=\"fill:rgb(100%,64.7%,0%);fill-opacity:1.0\" x=\"15.00\" y=\"2.81\">P.t.troglodytes.CAM5</text></g><g transform=\"translate(325.44,240.50)rotate(0)\"><text style=\"fill:rgb(100%,64.7%,0%);fill-opacity:1.0\" x=\"15.00\" y=\"2.81\">P.t.troglodytes.CAM3</text></g><g transform=\"translate(325.44,228.60)rotate(0)\"><text style=\"fill:rgb(100%,64.7%,0%);fill-opacity:1.0\" x=\"15.00\" y=\"2.81\">P.t.troglodytes.DP943</text></g><g transform=\"translate(325.44,216.70)rotate(0)\"><text style=\"fill:rgb(0%,50.2%,0%);fill-opacity:1.0\" x=\"15.00\" y=\"2.81\">H.sapiens.M.D.CY.06.CY163.FJ388945</text></g><g transform=\"translate(325.44,204.80)rotate(0)\"><text style=\"fill:rgb(0%,50.2%,0%);fill-opacity:1.0\" x=\"15.00\" y=\"2.81\">H.sapiens.M.D.CM.10.DEMD10CM009.JX140670</text></g><g transform=\"translate(325.44,192.90)rotate(0)\"><text style=\"fill:rgb(0%,50.2%,0%);fill-opacity:1.0\" x=\"15.00\" y=\"2.81\">H.sapiens.M.D.CD.03.LA17MuBo.KU168271</text></g><g transform=\"translate(325.44,181.00)rotate(0)\"><text style=\"fill:rgb(0%,50.2%,0%);fill-opacity:1.0\" x=\"15.00\" y=\"2.81\">H.sapiens.M.D.YE.02.02YE516.AY795907</text></g><g transform=\"translate(325.44,169.10)rotate(0)\"><text style=\"fill:rgb(100%,64.7%,0%);fill-opacity:1.0\" x=\"15.00\" y=\"2.81\">P.t.troglodytes.MB897</text></g><g transform=\"translate(325.44,157.20)rotate(0)\"><text style=\"fill:rgb(100%,64.7%,0%);fill-opacity:1.0\" x=\"15.00\" y=\"2.81\">P.t.troglodytes.MB66</text></g><g transform=\"translate(325.44,145.30)rotate(0)\"><text style=\"fill:rgb(100%,64.7%,0%);fill-opacity:1.0\" x=\"15.00\" y=\"2.81\">P.t.troglodytes.LB7</text></g><g transform=\"translate(325.44,133.40)rotate(0)\"><text style=\"fill:rgb(100%,64.7%,0%);fill-opacity:1.0\" x=\"15.00\" y=\"2.81\">P.t.troglodytes.CAM13</text></g><g transform=\"translate(325.44,121.50)rotate(0)\"><text style=\"fill:rgb(100%,64.7%,0%);fill-opacity:1.0\" x=\"15.00\" y=\"2.81\">P.t.troglodytes.GAB1</text></g><g transform=\"translate(325.44,109.60)rotate(0)\"><text style=\"fill:rgb(100%,64.7%,0%);fill-opacity:1.0\" x=\"15.00\" y=\"2.81\">P.t.schweinfurthii.TAN2</text></g><g transform=\"translate(325.44,97.70)rotate(0)\"><text style=\"fill:rgb(100%,64.7%,0%);fill-opacity:1.0\" x=\"15.00\" y=\"2.81\">P.t.schweinfurthii.TAN3</text></g><g transform=\"translate(325.44,85.80)rotate(0)\"><text style=\"fill:rgb(100%,64.7%,0%);fill-opacity:1.0\" x=\"15.00\" y=\"2.81\">P.t.schweinfurthii.TZ.06.TAN5.JN091691</text></g><g transform=\"translate(325.44,73.90)rotate(0)\"><text style=\"fill:rgb(100%,64.7%,0%);fill-opacity:1.0\" x=\"15.00\" y=\"2.81\">P.t.schweinfurthii.TAN1</text></g><g transform=\"translate(325.44,62.00)rotate(0)\"><text style=\"fill:rgb(100%,64.7%,0%);fill-opacity:1.0\" x=\"15.00\" y=\"2.81\">P.t.schweinfurthii.ANT</text></g></g></g></g></g></svg><div class=\"toyplot-behavior\"><script>(function()\n",
       "{\n",
       "var modules={};\n",
       "})();</script></div></div>"
      ]
     },
     "metadata": {},
     "output_type": "display_data"
    }
   ],
   "source": [
    "newick = \"SIVHIVspecies_ENV.nwk\"\n",
    "tre = toytree.tree(newick, tree_format=1)\n",
    "rtre = tre.root(wildcard=\"P.t.schweinfurthii\")\n",
    "\n",
    "# change these options until you are happy with the design\n",
    "colorlist = [\"orange\" if \"P.t\" in tip \n",
    "             else \"red\" if \"G.\" in tip \n",
    "             else \"green\" if \"H.sapiens\" in tip \n",
    "             else \"cyan\" for tip in rtre.get_tip_labels()]\n",
    "\n",
    "canvas, axes = rtre.draw(\n",
    "    node_labels=None,\n",
    "    width=600,\n",
    "    height=600,\n",
    "    node_sizes=[0 if i else 8 for i in rtre.get_node_values(None, 1, 0)],\n",
    "    node_markers=\"s\",\n",
    "    node_colors=toytree.colors[0],\n",
    "    tip_labels_align=True,\n",
    "    tip_labels_colors=colorlist);\n",
    "\n",
    "# change the output file names below\n",
    "# remember to download (File-->Download) and take them away\n",
    "#toyplot.html.render(canvas, \"name.html\")\n",
    "toyplot.html.render(canvas, \"tree-plot.html\")"
   ]
  },
  {
   "cell_type": "markdown",
   "metadata": {},
   "source": [
    "You can use modify the code to colour it in more appropriately if you wish.\n",
    "\n",
    "The name contains a lot of metadata. The letter after H.sapiens indicates the HIV1 group to which that sequence belongs. Then the country from which it was isolated. Then the year. Then some identifiers and accession number. So `H.sapiens.O.CM.96.LA51YBF35.KU168294` is HIV1 group O, from Cameroon, isolated in 1996, with sample code LA51YBF35 and genbank accession number KU168294."
   ]
  },
  {
   "cell_type": "markdown",
   "metadata": {},
   "source": [
    "It may help you to talk about HIV1 group O, or group P, or group N in your explanations and in your annotations of the tree."
   ]
  },
  {
   "cell_type": "markdown",
   "metadata": {},
   "source": [
    "Make sure you then download the annotated tree and save it somewhere safe for your report."
   ]
  },
  {
   "cell_type": "code",
   "execution_count": 57,
   "metadata": {},
   "outputs": [],
   "source": [
    "# change the output file names below and run the cell.\n",
    "# remember to save these files and take them away\n",
    "\n",
    "# THIS DOESN\"T WORK. WHY?\n",
    "canvas = toyplot.Canvas()\n",
    "#toyplot.svg.render(canvas, \"name.svg\")\n",
    "#toyplot.pdf.render(canvas, \"name.pdf\")\n",
    "toyplot.html.render(canvas, \"name.html\")\n"
   ]
  },
  {
   "cell_type": "markdown",
   "metadata": {},
   "source": [
    "## Interpreting the tree"
   ]
  },
  {
   "cell_type": "markdown",
   "metadata": {},
   "source": [
    "The tree shows the diversity of great ape immunodeficiency viruses. Here are some questions that you could write about in your report. They are suggestions only, you can set yourself different or extra questions also, you decide.\n",
    "\n",
    "**Does the pattern of S/HIV represent the evolutionary history of the species? Has the virus speciated along with these apes or is it more complex than that?**\n",
    "\n",
    "**If you think there has been a zoonotic spread of SIV, ie a transfer to humans, is there a single origin or multiple transfers of HIV1?**\n",
    "\n",
    "**Can you determine anything about the geography of the transfer of the pandemic strain (M)? Think about the source. What is their gepgraphic range? Maybe you wish to include a map in your report?**\n",
    "\n",
    "It is useful to think about how you will provide phylogenetic evidence for your answer to each of the questions above. How can you annotate a phylogeny to demonstrate the evidence for your conclusion. Poor reports will rely largely on written descriptions of a tree, excellent reports make a powerful link between the text and the figure, using annotations to make their points very clear.\n"
   ]
  },
  {
   "cell_type": "markdown",
   "metadata": {},
   "source": [
    "## Writing your assessed report"
   ]
  },
  {
   "cell_type": "markdown",
   "metadata": {},
   "source": [
    "There is extensivehelp on the canvas site on what to include and how to structure your report. You should discuss your conclusions and figures with a demonstrator or myself before leaving however. Please make sure that you have downloaded image files of any trees that you need to include in your report. This Jupyter lab environment may continue to work but I can't guarrantee it's availability past the end of the practical (that is out of my hands)."
   ]
  },
  {
   "cell_type": "markdown",
   "metadata": {},
   "source": [
    "<hr>\n",
    "<h2><font color='Blue'>What skills have you acquired?</font></h2>\n",
    "\n",
    "If you have completed this practical I think you have now showed your competency in a range of important practical and conceptual skills:\n",
    "1. Understanding the use of phylogenetic trees\n",
    "2. Basic use of Jupyter notebooks\n",
    "3. Basic use of BioPython to characterise sequence data files\n",
    "4. Basic use of python to align DNA sequecne data and build a phylogenetic tree\n",
    "5. Use of python to programmatically annotate a phylogenetic tree\n",
    "\n",
    "These are the sorts of phrases you could include on you cv if you wished."
   ]
  },
  {
   "cell_type": "markdown",
   "metadata": {},
   "source": [
    "## Software References\n",
    "\n",
    "1. Cock PJA, Antao T, Chang JT, Chapman BA, Cox CJ, Dalke A, et al. Biopython: freely available Python tools for computational molecular biology and bioinformatics. Bioinformatics. 2009;25: 1422–1423. doi:10.1093/bioinformatics/btp163\n",
    "2. Katoh K, Toh H. Recent developments in the MAFFT multiple sequence alignment program. Brief Bioinform. 2008;9: 286–298. doi:10.1093/bib/bbn013\n",
    "3. Capella-Gutiérrez S, Silla-Martínez JM, Gabaldón T. trimAl: a tool for automated alignment trimming in large-scale phylogenetic analyses. Bioinformatics. 2009;25: 1972–1973. doi:10.1093/bioinformatics/btp348\n",
    "4. Price MN, Dehal PS, Arkin AP. FastTree 2 – Approximately Maximum-Likelihood Trees for Large Alignments. PLoS ONE. 2010. p. e9490. doi:10.1371/journal.pone.0009490\n",
    "5. Eaton DAR. Toytree: A minimalist tree visualization and manipulation library for Python. Methods Ecol Evol. 2020;11: 187–191. doi:10.1111/2041-210X.13313\n"
   ]
  },
  {
   "cell_type": "code",
   "execution_count": null,
   "metadata": {},
   "outputs": [],
   "source": []
  }
 ],
 "metadata": {
  "kernelspec": {
   "display_name": "Python 3",
   "language": "python",
   "name": "python3"
  },
  "language_info": {
   "codemirror_mode": {
    "name": "ipython",
    "version": 3
   },
   "file_extension": ".py",
   "mimetype": "text/x-python",
   "name": "python",
   "nbconvert_exporter": "python",
   "pygments_lexer": "ipython3",
   "version": "3.6.10"
  }
 },
 "nbformat": 4,
 "nbformat_minor": 4
}
